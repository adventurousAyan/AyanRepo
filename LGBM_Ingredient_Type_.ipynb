{
  "nbformat": 4,
  "nbformat_minor": 0,
  "metadata": {
    "colab": {
      "name": "LGBM_Ingredient_Type .ipynb",
      "provenance": [],
      "collapsed_sections": [],
      "machine_shape": "hm",
      "include_colab_link": true
    },
    "kernelspec": {
      "name": "python3",
      "display_name": "Python 3"
    }
  },
  "cells": [
    {
      "cell_type": "markdown",
      "metadata": {
        "id": "view-in-github",
        "colab_type": "text"
      },
      "source": [
        "<a href=\"https://colab.research.google.com/github/adventurousAyan/AyanRepo/blob/master/LGBM_Ingredient_Type_.ipynb\" target=\"_parent\"><img src=\"https://colab.research.google.com/assets/colab-badge.svg\" alt=\"Open In Colab\"/></a>"
      ]
    },
    {
      "cell_type": "code",
      "metadata": {
        "id": "CzB1nbg2CWaF"
      },
      "source": [
        "import pandas as pd\n",
        "import numpy as np\n",
        "import matplotlib.pyplot as plt\n",
        "import lightgbm as lgb\n",
        "from sklearn.preprocessing import LabelEncoder\n",
        "from sklearn.model_selection import StratifiedKFold, KFold\n",
        "import datetime\n",
        "import seaborn as sns\n",
        "import gc\n",
        "import os\n",
        "from tqdm import tqdm "
      ],
      "execution_count": null,
      "outputs": []
    },
    {
      "cell_type": "code",
      "metadata": {
        "colab": {
          "base_uri": "https://localhost:8080/"
        },
        "id": "nk1QLMDpPsjh",
        "outputId": "6ccf0989-c20c-4484-9da5-1c7ec2921534"
      },
      "source": [
        "%%time\n",
        "\n",
        "# Read data...\n",
        "root = '/content/drive/MyDrive/Colab Notebooks/datasets/'\n",
        "\n",
        "train_df = pd.read_csv(os.path.join(root, 'train_data.csv'))\n",
        "weather_train_df = pd.read_csv(os.path.join(root, 'train_weather.csv'))\n",
        "test_df = pd.read_csv(os.path.join(root, 'test_data.csv'))\n",
        "weather_test_df = pd.read_csv(os.path.join(root, 'test_weather.csv'))\n",
        "farm_meta_df = pd.read_csv(os.path.join(root, 'farm_data.csv'))\n",
        "#sample_submission = pd.read_csv(os.path.join(root, 'sample_submission.csv'))"
      ],
      "execution_count": null,
      "outputs": [
        {
          "output_type": "stream",
          "text": [
            "CPU times: user 19.2 s, sys: 2.33 s, total: 21.5 s\n",
            "Wall time: 37.8 s\n"
          ],
          "name": "stdout"
        }
      ]
    },
    {
      "cell_type": "code",
      "metadata": {
        "id": "II69lfrMDT9W"
      },
      "source": [
        "train_df.columns = ['timestamp', 'farm_id', 'ingredient_type', 'yield']"
      ],
      "execution_count": null,
      "outputs": []
    },
    {
      "cell_type": "code",
      "metadata": {
        "id": "UGp9deXlE4cN"
      },
      "source": [
        "test_df.columns = ['timestamp', 'farm_id', 'ingredient_type', 'id']"
      ],
      "execution_count": null,
      "outputs": []
    },
    {
      "cell_type": "code",
      "metadata": {
        "id": "s3uht_uiPqL9"
      },
      "source": [
        "train_df['timestamp'] = pd.to_datetime(train_df['timestamp'])\n",
        "test_df['timestamp'] = pd.to_datetime(test_df['timestamp'])\n",
        "weather_train_df['timestamp'] = pd.to_datetime(weather_train_df['timestamp'])\n",
        "weather_test_df['timestamp'] = pd.to_datetime(weather_test_df['timestamp'])"
      ],
      "execution_count": null,
      "outputs": []
    },
    {
      "cell_type": "code",
      "metadata": {
        "id": "NIGUcDCG_B5I",
        "colab": {
          "base_uri": "https://localhost:8080/"
        },
        "outputId": "2ee4dc28-3ab1-46a3-b7f7-fd21acc72867"
      },
      "source": [
        "from google.colab import drive\n",
        "drive.mount('/content/drive')"
      ],
      "execution_count": null,
      "outputs": [
        {
          "output_type": "stream",
          "text": [
            "Drive already mounted at /content/drive; to attempt to forcibly remount, call drive.mount(\"/content/drive\", force_remount=True).\n"
          ],
          "name": "stdout"
        }
      ]
    },
    {
      "cell_type": "code",
      "metadata": {
        "id": "BV0CXYkLDoWr"
      },
      "source": [
        "train_df['date'] = train_df['timestamp'].dt.date\n",
        "train_df['yield_log1p'] = np.log1p(train_df['yield'])\n"
      ],
      "execution_count": null,
      "outputs": []
    },
    {
      "cell_type": "code",
      "metadata": {
        "id": "lAw6sZAW3iA9"
      },
      "source": [
        "def preprocess(df):\n",
        "    df[\"hour\"] = df[\"timestamp\"].dt.hour\n",
        "#     df[\"day\"] = df[\"timestamp\"].dt.day\n",
        "    df[\"weekend\"] = df[\"timestamp\"].dt.weekday\n",
        "    df[\"month\"] = df[\"timestamp\"].dt.month\n",
        "    df[\"dayofweek\"] = df[\"timestamp\"].dt.dayofweek\n",
        "\n",
        "#     hour_rad = df[\"hour\"].values / 24. * 2 * np.pi\n",
        "#     df[\"hour_sin\"] = np.sin(hour_rad)\n",
        "#     df[\"hour_cos\"] = np.cos(hour_rad)"
      ],
      "execution_count": null,
      "outputs": []
    },
    {
      "cell_type": "code",
      "metadata": {
        "id": "-5ojyKcf3mK5"
      },
      "source": [
        "preprocess(train_df)"
      ],
      "execution_count": null,
      "outputs": []
    },
    {
      "cell_type": "code",
      "metadata": {
        "id": "obYWGbkZxuO_"
      },
      "source": [
        "df_group = train_df.groupby('farm_id')['yield_log1p']\n",
        "farm_mean = df_group.mean().astype(np.float16)\n",
        "farm_median = df_group.median().astype(np.float16)\n",
        "farm_min = df_group.min().astype(np.float16)\n",
        "farm_max = df_group.max().astype(np.float16)\n",
        "farm_std = df_group.std().astype(np.float16)\n",
        "\n",
        "train_df['farm_mean'] = train_df['farm_id'].map(farm_mean)\n",
        "train_df['farm_median'] = train_df['farm_id'].map(farm_median)\n",
        "train_df['farm_min'] = train_df['farm_id'].map(farm_min)\n",
        "train_df['farm_max'] = train_df['farm_id'].map(farm_max)\n",
        "train_df['farm_std'] = train_df['farm_id'].map(farm_std)"
      ],
      "execution_count": null,
      "outputs": []
    },
    {
      "cell_type": "code",
      "metadata": {
        "id": "zyyaeJRK4EsB",
        "colab": {
          "base_uri": "https://localhost:8080/"
        },
        "outputId": "5731c684-57e6-4f0d-b168-40e58ba472bb"
      },
      "source": [
        "farm_mean.head()"
      ],
      "execution_count": null,
      "outputs": [
        {
          "output_type": "execute_result",
          "data": {
            "text/plain": [
              "farm_id\n",
              "fid_100053    3.998047\n",
              "fid_100107    6.285156\n",
              "fid_100135    3.152344\n",
              "fid_100249    2.826172\n",
              "fid_100303    4.058594\n",
              "Name: yield_log1p, dtype: float16"
            ]
          },
          "metadata": {
            "tags": []
          },
          "execution_count": 11
        }
      ]
    },
    {
      "cell_type": "code",
      "metadata": {
        "id": "b3PTJI7M4RJ7",
        "colab": {
          "base_uri": "https://localhost:8080/",
          "height": 576
        },
        "outputId": "f41059c6-2fb1-4c9f-dc80-11a8f77e9e13"
      },
      "source": [
        "weather_train_df.groupby('deidentified_location').apply(lambda group: group.isna().sum())"
      ],
      "execution_count": null,
      "outputs": [
        {
          "output_type": "execute_result",
          "data": {
            "text/html": [
              "<div>\n",
              "<style scoped>\n",
              "    .dataframe tbody tr th:only-of-type {\n",
              "        vertical-align: middle;\n",
              "    }\n",
              "\n",
              "    .dataframe tbody tr th {\n",
              "        vertical-align: top;\n",
              "    }\n",
              "\n",
              "    .dataframe thead th {\n",
              "        text-align: right;\n",
              "    }\n",
              "</style>\n",
              "<table border=\"1\" class=\"dataframe\">\n",
              "  <thead>\n",
              "    <tr style=\"text-align: right;\">\n",
              "      <th></th>\n",
              "      <th>timestamp</th>\n",
              "      <th>deidentified_location</th>\n",
              "      <th>temp_obs</th>\n",
              "      <th>cloudiness</th>\n",
              "      <th>wind_direction</th>\n",
              "      <th>dew_temp</th>\n",
              "      <th>pressure_sea_level</th>\n",
              "      <th>precipitation</th>\n",
              "      <th>wind_speed</th>\n",
              "    </tr>\n",
              "    <tr>\n",
              "      <th>deidentified_location</th>\n",
              "      <th></th>\n",
              "      <th></th>\n",
              "      <th></th>\n",
              "      <th></th>\n",
              "      <th></th>\n",
              "      <th></th>\n",
              "      <th></th>\n",
              "      <th></th>\n",
              "      <th></th>\n",
              "    </tr>\n",
              "  </thead>\n",
              "  <tbody>\n",
              "    <tr>\n",
              "      <th>location 1784</th>\n",
              "      <td>0</td>\n",
              "      <td>0</td>\n",
              "      <td>24</td>\n",
              "      <td>2450</td>\n",
              "      <td>534</td>\n",
              "      <td>27</td>\n",
              "      <td>141</td>\n",
              "      <td>27</td>\n",
              "      <td>104</td>\n",
              "    </tr>\n",
              "    <tr>\n",
              "      <th>location 2532</th>\n",
              "      <td>0</td>\n",
              "      <td>0</td>\n",
              "      <td>1</td>\n",
              "      <td>4298</td>\n",
              "      <td>217</td>\n",
              "      <td>1</td>\n",
              "      <td>120</td>\n",
              "      <td>12</td>\n",
              "      <td>1</td>\n",
              "    </tr>\n",
              "    <tr>\n",
              "      <th>location 4525</th>\n",
              "      <td>0</td>\n",
              "      <td>0</td>\n",
              "      <td>0</td>\n",
              "      <td>8614</td>\n",
              "      <td>0</td>\n",
              "      <td>23</td>\n",
              "      <td>8</td>\n",
              "      <td>7883</td>\n",
              "      <td>0</td>\n",
              "    </tr>\n",
              "    <tr>\n",
              "      <th>location 5150</th>\n",
              "      <td>0</td>\n",
              "      <td>0</td>\n",
              "      <td>0</td>\n",
              "      <td>4399</td>\n",
              "      <td>242</td>\n",
              "      <td>3</td>\n",
              "      <td>509</td>\n",
              "      <td>6751</td>\n",
              "      <td>28</td>\n",
              "    </tr>\n",
              "    <tr>\n",
              "      <th>location 5290</th>\n",
              "      <td>0</td>\n",
              "      <td>0</td>\n",
              "      <td>4</td>\n",
              "      <td>3642</td>\n",
              "      <td>153</td>\n",
              "      <td>6</td>\n",
              "      <td>158</td>\n",
              "      <td>37</td>\n",
              "      <td>4</td>\n",
              "    </tr>\n",
              "    <tr>\n",
              "      <th>location 5410</th>\n",
              "      <td>0</td>\n",
              "      <td>0</td>\n",
              "      <td>1</td>\n",
              "      <td>3311</td>\n",
              "      <td>290</td>\n",
              "      <td>1</td>\n",
              "      <td>110</td>\n",
              "      <td>31</td>\n",
              "      <td>23</td>\n",
              "    </tr>\n",
              "    <tr>\n",
              "      <th>location 5489</th>\n",
              "      <td>0</td>\n",
              "      <td>0</td>\n",
              "      <td>1</td>\n",
              "      <td>2354</td>\n",
              "      <td>591</td>\n",
              "      <td>1</td>\n",
              "      <td>44</td>\n",
              "      <td>66</td>\n",
              "      <td>5</td>\n",
              "    </tr>\n",
              "    <tr>\n",
              "      <th>location 565</th>\n",
              "      <td>0</td>\n",
              "      <td>0</td>\n",
              "      <td>10</td>\n",
              "      <td>2992</td>\n",
              "      <td>779</td>\n",
              "      <td>10</td>\n",
              "      <td>175</td>\n",
              "      <td>0</td>\n",
              "      <td>39</td>\n",
              "    </tr>\n",
              "    <tr>\n",
              "      <th>location 5677</th>\n",
              "      <td>0</td>\n",
              "      <td>0</td>\n",
              "      <td>3</td>\n",
              "      <td>3830</td>\n",
              "      <td>250</td>\n",
              "      <td>3</td>\n",
              "      <td>85</td>\n",
              "      <td>1</td>\n",
              "      <td>0</td>\n",
              "    </tr>\n",
              "    <tr>\n",
              "      <th>location 5833</th>\n",
              "      <td>0</td>\n",
              "      <td>0</td>\n",
              "      <td>0</td>\n",
              "      <td>4230</td>\n",
              "      <td>105</td>\n",
              "      <td>2</td>\n",
              "      <td>73</td>\n",
              "      <td>1317</td>\n",
              "      <td>0</td>\n",
              "    </tr>\n",
              "    <tr>\n",
              "      <th>location 6364</th>\n",
              "      <td>0</td>\n",
              "      <td>0</td>\n",
              "      <td>2</td>\n",
              "      <td>6030</td>\n",
              "      <td>295</td>\n",
              "      <td>2</td>\n",
              "      <td>8755</td>\n",
              "      <td>8755</td>\n",
              "      <td>3</td>\n",
              "    </tr>\n",
              "    <tr>\n",
              "      <th>location 7048</th>\n",
              "      <td>0</td>\n",
              "      <td>0</td>\n",
              "      <td>0</td>\n",
              "      <td>59</td>\n",
              "      <td>1</td>\n",
              "      <td>0</td>\n",
              "      <td>56</td>\n",
              "      <td>8755</td>\n",
              "      <td>0</td>\n",
              "    </tr>\n",
              "    <tr>\n",
              "      <th>location 7369</th>\n",
              "      <td>0</td>\n",
              "      <td>0</td>\n",
              "      <td>3</td>\n",
              "      <td>3830</td>\n",
              "      <td>250</td>\n",
              "      <td>3</td>\n",
              "      <td>85</td>\n",
              "      <td>1</td>\n",
              "      <td>0</td>\n",
              "    </tr>\n",
              "    <tr>\n",
              "      <th>location 8421</th>\n",
              "      <td>0</td>\n",
              "      <td>0</td>\n",
              "      <td>5</td>\n",
              "      <td>3458</td>\n",
              "      <td>2558</td>\n",
              "      <td>7</td>\n",
              "      <td>239</td>\n",
              "      <td>7</td>\n",
              "      <td>97</td>\n",
              "    </tr>\n",
              "    <tr>\n",
              "      <th>location 868</th>\n",
              "      <td>0</td>\n",
              "      <td>0</td>\n",
              "      <td>0</td>\n",
              "      <td>8614</td>\n",
              "      <td>0</td>\n",
              "      <td>23</td>\n",
              "      <td>8</td>\n",
              "      <td>7883</td>\n",
              "      <td>0</td>\n",
              "    </tr>\n",
              "    <tr>\n",
              "      <th>location 959</th>\n",
              "      <td>0</td>\n",
              "      <td>0</td>\n",
              "      <td>1</td>\n",
              "      <td>7062</td>\n",
              "      <td>3</td>\n",
              "      <td>1</td>\n",
              "      <td>52</td>\n",
              "      <td>8763</td>\n",
              "      <td>0</td>\n",
              "    </tr>\n",
              "  </tbody>\n",
              "</table>\n",
              "</div>"
            ],
            "text/plain": [
              "                       timestamp  ...  wind_speed\n",
              "deidentified_location             ...            \n",
              "location 1784                  0  ...         104\n",
              "location 2532                  0  ...           1\n",
              "location 4525                  0  ...           0\n",
              "location 5150                  0  ...          28\n",
              "location 5290                  0  ...           4\n",
              "location 5410                  0  ...          23\n",
              "location 5489                  0  ...           5\n",
              "location 565                   0  ...          39\n",
              "location 5677                  0  ...           0\n",
              "location 5833                  0  ...           0\n",
              "location 6364                  0  ...           3\n",
              "location 7048                  0  ...           0\n",
              "location 7369                  0  ...           0\n",
              "location 8421                  0  ...          97\n",
              "location 868                   0  ...           0\n",
              "location 959                   0  ...           0\n",
              "\n",
              "[16 rows x 9 columns]"
            ]
          },
          "metadata": {
            "tags": []
          },
          "execution_count": 12
        }
      ]
    },
    {
      "cell_type": "code",
      "metadata": {
        "id": "6Sy4OyI_4Xwo"
      },
      "source": [
        "weather_train_df = weather_train_df.groupby('deidentified_location').apply(lambda group: group.interpolate(limit_direction='both'))"
      ],
      "execution_count": null,
      "outputs": []
    },
    {
      "cell_type": "code",
      "metadata": {
        "id": "JJ7WSsoH4e07",
        "colab": {
          "base_uri": "https://localhost:8080/",
          "height": 576
        },
        "outputId": "1da16c5e-e071-4800-f510-9f59deaae8aa"
      },
      "source": [
        "weather_train_df.groupby('deidentified_location').apply(lambda group: group.isna().sum())"
      ],
      "execution_count": null,
      "outputs": [
        {
          "output_type": "execute_result",
          "data": {
            "text/html": [
              "<div>\n",
              "<style scoped>\n",
              "    .dataframe tbody tr th:only-of-type {\n",
              "        vertical-align: middle;\n",
              "    }\n",
              "\n",
              "    .dataframe tbody tr th {\n",
              "        vertical-align: top;\n",
              "    }\n",
              "\n",
              "    .dataframe thead th {\n",
              "        text-align: right;\n",
              "    }\n",
              "</style>\n",
              "<table border=\"1\" class=\"dataframe\">\n",
              "  <thead>\n",
              "    <tr style=\"text-align: right;\">\n",
              "      <th></th>\n",
              "      <th>timestamp</th>\n",
              "      <th>deidentified_location</th>\n",
              "      <th>temp_obs</th>\n",
              "      <th>cloudiness</th>\n",
              "      <th>wind_direction</th>\n",
              "      <th>dew_temp</th>\n",
              "      <th>pressure_sea_level</th>\n",
              "      <th>precipitation</th>\n",
              "      <th>wind_speed</th>\n",
              "    </tr>\n",
              "    <tr>\n",
              "      <th>deidentified_location</th>\n",
              "      <th></th>\n",
              "      <th></th>\n",
              "      <th></th>\n",
              "      <th></th>\n",
              "      <th></th>\n",
              "      <th></th>\n",
              "      <th></th>\n",
              "      <th></th>\n",
              "      <th></th>\n",
              "    </tr>\n",
              "  </thead>\n",
              "  <tbody>\n",
              "    <tr>\n",
              "      <th>location 1784</th>\n",
              "      <td>0</td>\n",
              "      <td>0</td>\n",
              "      <td>0</td>\n",
              "      <td>0</td>\n",
              "      <td>0</td>\n",
              "      <td>0</td>\n",
              "      <td>0</td>\n",
              "      <td>0</td>\n",
              "      <td>0</td>\n",
              "    </tr>\n",
              "    <tr>\n",
              "      <th>location 2532</th>\n",
              "      <td>0</td>\n",
              "      <td>0</td>\n",
              "      <td>0</td>\n",
              "      <td>0</td>\n",
              "      <td>0</td>\n",
              "      <td>0</td>\n",
              "      <td>0</td>\n",
              "      <td>0</td>\n",
              "      <td>0</td>\n",
              "    </tr>\n",
              "    <tr>\n",
              "      <th>location 4525</th>\n",
              "      <td>0</td>\n",
              "      <td>0</td>\n",
              "      <td>0</td>\n",
              "      <td>8614</td>\n",
              "      <td>0</td>\n",
              "      <td>0</td>\n",
              "      <td>0</td>\n",
              "      <td>0</td>\n",
              "      <td>0</td>\n",
              "    </tr>\n",
              "    <tr>\n",
              "      <th>location 5150</th>\n",
              "      <td>0</td>\n",
              "      <td>0</td>\n",
              "      <td>0</td>\n",
              "      <td>0</td>\n",
              "      <td>0</td>\n",
              "      <td>0</td>\n",
              "      <td>0</td>\n",
              "      <td>0</td>\n",
              "      <td>0</td>\n",
              "    </tr>\n",
              "    <tr>\n",
              "      <th>location 5290</th>\n",
              "      <td>0</td>\n",
              "      <td>0</td>\n",
              "      <td>0</td>\n",
              "      <td>0</td>\n",
              "      <td>0</td>\n",
              "      <td>0</td>\n",
              "      <td>0</td>\n",
              "      <td>0</td>\n",
              "      <td>0</td>\n",
              "    </tr>\n",
              "    <tr>\n",
              "      <th>location 5410</th>\n",
              "      <td>0</td>\n",
              "      <td>0</td>\n",
              "      <td>0</td>\n",
              "      <td>0</td>\n",
              "      <td>0</td>\n",
              "      <td>0</td>\n",
              "      <td>0</td>\n",
              "      <td>0</td>\n",
              "      <td>0</td>\n",
              "    </tr>\n",
              "    <tr>\n",
              "      <th>location 5489</th>\n",
              "      <td>0</td>\n",
              "      <td>0</td>\n",
              "      <td>0</td>\n",
              "      <td>0</td>\n",
              "      <td>0</td>\n",
              "      <td>0</td>\n",
              "      <td>0</td>\n",
              "      <td>0</td>\n",
              "      <td>0</td>\n",
              "    </tr>\n",
              "    <tr>\n",
              "      <th>location 565</th>\n",
              "      <td>0</td>\n",
              "      <td>0</td>\n",
              "      <td>0</td>\n",
              "      <td>0</td>\n",
              "      <td>0</td>\n",
              "      <td>0</td>\n",
              "      <td>0</td>\n",
              "      <td>0</td>\n",
              "      <td>0</td>\n",
              "    </tr>\n",
              "    <tr>\n",
              "      <th>location 5677</th>\n",
              "      <td>0</td>\n",
              "      <td>0</td>\n",
              "      <td>0</td>\n",
              "      <td>0</td>\n",
              "      <td>0</td>\n",
              "      <td>0</td>\n",
              "      <td>0</td>\n",
              "      <td>0</td>\n",
              "      <td>0</td>\n",
              "    </tr>\n",
              "    <tr>\n",
              "      <th>location 5833</th>\n",
              "      <td>0</td>\n",
              "      <td>0</td>\n",
              "      <td>0</td>\n",
              "      <td>0</td>\n",
              "      <td>0</td>\n",
              "      <td>0</td>\n",
              "      <td>0</td>\n",
              "      <td>0</td>\n",
              "      <td>0</td>\n",
              "    </tr>\n",
              "    <tr>\n",
              "      <th>location 6364</th>\n",
              "      <td>0</td>\n",
              "      <td>0</td>\n",
              "      <td>0</td>\n",
              "      <td>0</td>\n",
              "      <td>0</td>\n",
              "      <td>0</td>\n",
              "      <td>8755</td>\n",
              "      <td>8755</td>\n",
              "      <td>0</td>\n",
              "    </tr>\n",
              "    <tr>\n",
              "      <th>location 7048</th>\n",
              "      <td>0</td>\n",
              "      <td>0</td>\n",
              "      <td>0</td>\n",
              "      <td>0</td>\n",
              "      <td>0</td>\n",
              "      <td>0</td>\n",
              "      <td>0</td>\n",
              "      <td>8755</td>\n",
              "      <td>0</td>\n",
              "    </tr>\n",
              "    <tr>\n",
              "      <th>location 7369</th>\n",
              "      <td>0</td>\n",
              "      <td>0</td>\n",
              "      <td>0</td>\n",
              "      <td>0</td>\n",
              "      <td>0</td>\n",
              "      <td>0</td>\n",
              "      <td>0</td>\n",
              "      <td>0</td>\n",
              "      <td>0</td>\n",
              "    </tr>\n",
              "    <tr>\n",
              "      <th>location 8421</th>\n",
              "      <td>0</td>\n",
              "      <td>0</td>\n",
              "      <td>0</td>\n",
              "      <td>0</td>\n",
              "      <td>0</td>\n",
              "      <td>0</td>\n",
              "      <td>0</td>\n",
              "      <td>0</td>\n",
              "      <td>0</td>\n",
              "    </tr>\n",
              "    <tr>\n",
              "      <th>location 868</th>\n",
              "      <td>0</td>\n",
              "      <td>0</td>\n",
              "      <td>0</td>\n",
              "      <td>8614</td>\n",
              "      <td>0</td>\n",
              "      <td>0</td>\n",
              "      <td>0</td>\n",
              "      <td>0</td>\n",
              "      <td>0</td>\n",
              "    </tr>\n",
              "    <tr>\n",
              "      <th>location 959</th>\n",
              "      <td>0</td>\n",
              "      <td>0</td>\n",
              "      <td>0</td>\n",
              "      <td>0</td>\n",
              "      <td>0</td>\n",
              "      <td>0</td>\n",
              "      <td>0</td>\n",
              "      <td>8763</td>\n",
              "      <td>0</td>\n",
              "    </tr>\n",
              "  </tbody>\n",
              "</table>\n",
              "</div>"
            ],
            "text/plain": [
              "                       timestamp  ...  wind_speed\n",
              "deidentified_location             ...            \n",
              "location 1784                  0  ...           0\n",
              "location 2532                  0  ...           0\n",
              "location 4525                  0  ...           0\n",
              "location 5150                  0  ...           0\n",
              "location 5290                  0  ...           0\n",
              "location 5410                  0  ...           0\n",
              "location 5489                  0  ...           0\n",
              "location 565                   0  ...           0\n",
              "location 5677                  0  ...           0\n",
              "location 5833                  0  ...           0\n",
              "location 6364                  0  ...           0\n",
              "location 7048                  0  ...           0\n",
              "location 7369                  0  ...           0\n",
              "location 8421                  0  ...           0\n",
              "location 868                   0  ...           0\n",
              "location 959                   0  ...           0\n",
              "\n",
              "[16 rows x 9 columns]"
            ]
          },
          "metadata": {
            "tags": []
          },
          "execution_count": 14
        }
      ]
    },
    {
      "cell_type": "code",
      "metadata": {
        "id": "OlWay3rh8INK"
      },
      "source": [
        "farm_meta_df.drop(['operations_commencing_year','num_processing_plants'], axis=1, inplace=True)"
      ],
      "execution_count": null,
      "outputs": []
    },
    {
      "cell_type": "code",
      "metadata": {
        "id": "nXtk5Cn_8bLA",
        "colab": {
          "base_uri": "https://localhost:8080/",
          "height": 204
        },
        "outputId": "b213aeb7-8e92-4836-fbc7-3ea4d3f33328"
      },
      "source": [
        "farm_meta_df.head()"
      ],
      "execution_count": null,
      "outputs": [
        {
          "output_type": "execute_result",
          "data": {
            "text/html": [
              "<div>\n",
              "<style scoped>\n",
              "    .dataframe tbody tr th:only-of-type {\n",
              "        vertical-align: middle;\n",
              "    }\n",
              "\n",
              "    .dataframe tbody tr th {\n",
              "        vertical-align: top;\n",
              "    }\n",
              "\n",
              "    .dataframe thead th {\n",
              "        text-align: right;\n",
              "    }\n",
              "</style>\n",
              "<table border=\"1\" class=\"dataframe\">\n",
              "  <thead>\n",
              "    <tr style=\"text-align: right;\">\n",
              "      <th></th>\n",
              "      <th>farm_id</th>\n",
              "      <th>farm_area</th>\n",
              "      <th>farming_company</th>\n",
              "      <th>deidentified_location</th>\n",
              "    </tr>\n",
              "  </thead>\n",
              "  <tbody>\n",
              "    <tr>\n",
              "      <th>0</th>\n",
              "      <td>fid_110884</td>\n",
              "      <td>690.455096</td>\n",
              "      <td>Obery Farms</td>\n",
              "      <td>location 7369</td>\n",
              "    </tr>\n",
              "    <tr>\n",
              "      <th>1</th>\n",
              "      <td>fid_90053</td>\n",
              "      <td>252.696160</td>\n",
              "      <td>Obery Farms</td>\n",
              "      <td>location 7369</td>\n",
              "    </tr>\n",
              "    <tr>\n",
              "      <th>2</th>\n",
              "      <td>fid_17537</td>\n",
              "      <td>499.446528</td>\n",
              "      <td>Obery Farms</td>\n",
              "      <td>location 7369</td>\n",
              "    </tr>\n",
              "    <tr>\n",
              "      <th>3</th>\n",
              "      <td>fid_110392</td>\n",
              "      <td>2200.407555</td>\n",
              "      <td>Obery Farms</td>\n",
              "      <td>location 7369</td>\n",
              "    </tr>\n",
              "    <tr>\n",
              "      <th>4</th>\n",
              "      <td>fid_62402</td>\n",
              "      <td>10833.140121</td>\n",
              "      <td>Obery Farms</td>\n",
              "      <td>location 7369</td>\n",
              "    </tr>\n",
              "  </tbody>\n",
              "</table>\n",
              "</div>"
            ],
            "text/plain": [
              "      farm_id     farm_area farming_company deidentified_location\n",
              "0  fid_110884    690.455096     Obery Farms         location 7369\n",
              "1   fid_90053    252.696160     Obery Farms         location 7369\n",
              "2   fid_17537    499.446528     Obery Farms         location 7369\n",
              "3  fid_110392   2200.407555     Obery Farms         location 7369\n",
              "4   fid_62402  10833.140121     Obery Farms         location 7369"
            ]
          },
          "metadata": {
            "tags": []
          },
          "execution_count": 16
        }
      ]
    },
    {
      "cell_type": "code",
      "metadata": {
        "id": "Eal5HBeD4kh6"
      },
      "source": [
        "def add_lag_feature(weather_df, window=3):\n",
        "    le = LabelEncoder()\n",
        "    weather_df[\"deidentified_location\"] = le.fit_transform(weather_df[\"deidentified_location\"])\n",
        "    #weather_df[\"farming_company\"] = le.fit_transform(weather_df[\"farming_company\"])\n",
        "    #weather_df[\"ingredient_type\"] = le.fit_transform(weather_df[\"ingredient_type\"])\n",
        "    #weather_df[\"farm_id\"] = le.fit_transform(weather_df[\"farm_id\"])\n",
        " \n",
        "    group_df = weather_df.groupby('deidentified_location')\n",
        "    cols = ['temp_obs', 'cloudiness', 'dew_temp', 'precipitation', 'pressure_sea_level', 'wind_direction', 'wind_speed']\n",
        "    rolled = group_df[cols].rolling(window=window, min_periods=0)\n",
        "    lag_mean = rolled.mean().reset_index().astype(np.float16)\n",
        "    lag_max = rolled.max().reset_index().astype(np.float16)\n",
        "    lag_min = rolled.min().reset_index().astype(np.float16)\n",
        "    lag_std = rolled.std().reset_index().astype(np.float16)\n",
        "    for col in cols:\n",
        "        weather_df[f'{col}_mean_lag{window}'] = lag_mean[col]\n",
        "        weather_df[f'{col}_max_lag{window}'] = lag_max[col]\n",
        "        weather_df[f'{col}_min_lag{window}'] = lag_min[col]\n",
        "        weather_df[f'{col}_std_lag{window}'] = lag_std[col]"
      ],
      "execution_count": null,
      "outputs": []
    },
    {
      "cell_type": "code",
      "metadata": {
        "id": "nMLpWFf64518"
      },
      "source": [
        "add_lag_feature(weather_train_df, window=3)\n",
        "add_lag_feature(weather_train_df, window=72)"
      ],
      "execution_count": null,
      "outputs": []
    },
    {
      "cell_type": "code",
      "metadata": {
        "id": "BBTIxWtv4-P4",
        "colab": {
          "base_uri": "https://localhost:8080/",
          "height": 309
        },
        "outputId": "6fb647b3-ca1a-4d1f-8246-dd3334bc7265"
      },
      "source": [
        "weather_train_df.head()"
      ],
      "execution_count": null,
      "outputs": [
        {
          "output_type": "execute_result",
          "data": {
            "text/html": [
              "<div>\n",
              "<style scoped>\n",
              "    .dataframe tbody tr th:only-of-type {\n",
              "        vertical-align: middle;\n",
              "    }\n",
              "\n",
              "    .dataframe tbody tr th {\n",
              "        vertical-align: top;\n",
              "    }\n",
              "\n",
              "    .dataframe thead th {\n",
              "        text-align: right;\n",
              "    }\n",
              "</style>\n",
              "<table border=\"1\" class=\"dataframe\">\n",
              "  <thead>\n",
              "    <tr style=\"text-align: right;\">\n",
              "      <th></th>\n",
              "      <th>timestamp</th>\n",
              "      <th>deidentified_location</th>\n",
              "      <th>temp_obs</th>\n",
              "      <th>cloudiness</th>\n",
              "      <th>wind_direction</th>\n",
              "      <th>dew_temp</th>\n",
              "      <th>pressure_sea_level</th>\n",
              "      <th>precipitation</th>\n",
              "      <th>wind_speed</th>\n",
              "      <th>temp_obs_mean_lag3</th>\n",
              "      <th>temp_obs_max_lag3</th>\n",
              "      <th>temp_obs_min_lag3</th>\n",
              "      <th>temp_obs_std_lag3</th>\n",
              "      <th>cloudiness_mean_lag3</th>\n",
              "      <th>cloudiness_max_lag3</th>\n",
              "      <th>cloudiness_min_lag3</th>\n",
              "      <th>cloudiness_std_lag3</th>\n",
              "      <th>dew_temp_mean_lag3</th>\n",
              "      <th>dew_temp_max_lag3</th>\n",
              "      <th>dew_temp_min_lag3</th>\n",
              "      <th>dew_temp_std_lag3</th>\n",
              "      <th>precipitation_mean_lag3</th>\n",
              "      <th>precipitation_max_lag3</th>\n",
              "      <th>precipitation_min_lag3</th>\n",
              "      <th>precipitation_std_lag3</th>\n",
              "      <th>pressure_sea_level_mean_lag3</th>\n",
              "      <th>pressure_sea_level_max_lag3</th>\n",
              "      <th>pressure_sea_level_min_lag3</th>\n",
              "      <th>pressure_sea_level_std_lag3</th>\n",
              "      <th>wind_direction_mean_lag3</th>\n",
              "      <th>wind_direction_max_lag3</th>\n",
              "      <th>wind_direction_min_lag3</th>\n",
              "      <th>wind_direction_std_lag3</th>\n",
              "      <th>wind_speed_mean_lag3</th>\n",
              "      <th>wind_speed_max_lag3</th>\n",
              "      <th>wind_speed_min_lag3</th>\n",
              "      <th>wind_speed_std_lag3</th>\n",
              "      <th>temp_obs_mean_lag72</th>\n",
              "      <th>temp_obs_max_lag72</th>\n",
              "      <th>temp_obs_min_lag72</th>\n",
              "      <th>temp_obs_std_lag72</th>\n",
              "      <th>cloudiness_mean_lag72</th>\n",
              "      <th>cloudiness_max_lag72</th>\n",
              "      <th>cloudiness_min_lag72</th>\n",
              "      <th>cloudiness_std_lag72</th>\n",
              "      <th>dew_temp_mean_lag72</th>\n",
              "      <th>dew_temp_max_lag72</th>\n",
              "      <th>dew_temp_min_lag72</th>\n",
              "      <th>dew_temp_std_lag72</th>\n",
              "      <th>precipitation_mean_lag72</th>\n",
              "      <th>precipitation_max_lag72</th>\n",
              "      <th>precipitation_min_lag72</th>\n",
              "      <th>precipitation_std_lag72</th>\n",
              "      <th>pressure_sea_level_mean_lag72</th>\n",
              "      <th>pressure_sea_level_max_lag72</th>\n",
              "      <th>pressure_sea_level_min_lag72</th>\n",
              "      <th>pressure_sea_level_std_lag72</th>\n",
              "      <th>wind_direction_mean_lag72</th>\n",
              "      <th>wind_direction_max_lag72</th>\n",
              "      <th>wind_direction_min_lag72</th>\n",
              "      <th>wind_direction_std_lag72</th>\n",
              "      <th>wind_speed_mean_lag72</th>\n",
              "      <th>wind_speed_max_lag72</th>\n",
              "      <th>wind_speed_min_lag72</th>\n",
              "      <th>wind_speed_std_lag72</th>\n",
              "    </tr>\n",
              "  </thead>\n",
              "  <tbody>\n",
              "    <tr>\n",
              "      <th>0</th>\n",
              "      <td>2016-01-01 00:00:00</td>\n",
              "      <td>12</td>\n",
              "      <td>25.0</td>\n",
              "      <td>6.0</td>\n",
              "      <td>0.0</td>\n",
              "      <td>20.0</td>\n",
              "      <td>1019.7</td>\n",
              "      <td>-1.0</td>\n",
              "      <td>0.0</td>\n",
              "      <td>-10.601562</td>\n",
              "      <td>-10.601562</td>\n",
              "      <td>-10.601562</td>\n",
              "      <td>NaN</td>\n",
              "      <td>0.0</td>\n",
              "      <td>0.0</td>\n",
              "      <td>0.0</td>\n",
              "      <td>NaN</td>\n",
              "      <td>-13.898438</td>\n",
              "      <td>-13.898438</td>\n",
              "      <td>-13.898438</td>\n",
              "      <td>NaN</td>\n",
              "      <td>0.0</td>\n",
              "      <td>0.0</td>\n",
              "      <td>0.0</td>\n",
              "      <td>NaN</td>\n",
              "      <td>1037.0</td>\n",
              "      <td>1037.0</td>\n",
              "      <td>1037.0</td>\n",
              "      <td>NaN</td>\n",
              "      <td>0.0000</td>\n",
              "      <td>0.0</td>\n",
              "      <td>0.0</td>\n",
              "      <td>NaN</td>\n",
              "      <td>0.000000</td>\n",
              "      <td>0.000000</td>\n",
              "      <td>0.0</td>\n",
              "      <td>NaN</td>\n",
              "      <td>-10.601562</td>\n",
              "      <td>-10.601562</td>\n",
              "      <td>-10.601562</td>\n",
              "      <td>NaN</td>\n",
              "      <td>0.0</td>\n",
              "      <td>0.0</td>\n",
              "      <td>0.0</td>\n",
              "      <td>NaN</td>\n",
              "      <td>-13.898438</td>\n",
              "      <td>-13.898438</td>\n",
              "      <td>-13.898438</td>\n",
              "      <td>NaN</td>\n",
              "      <td>0.0</td>\n",
              "      <td>0.0</td>\n",
              "      <td>0.0</td>\n",
              "      <td>NaN</td>\n",
              "      <td>1037.0</td>\n",
              "      <td>1037.0</td>\n",
              "      <td>1037.0</td>\n",
              "      <td>NaN</td>\n",
              "      <td>0.0000</td>\n",
              "      <td>0.0</td>\n",
              "      <td>0.0</td>\n",
              "      <td>NaN</td>\n",
              "      <td>0.000000</td>\n",
              "      <td>0.000000</td>\n",
              "      <td>0.0</td>\n",
              "      <td>NaN</td>\n",
              "    </tr>\n",
              "    <tr>\n",
              "      <th>1</th>\n",
              "      <td>2016-01-01 01:00:00</td>\n",
              "      <td>12</td>\n",
              "      <td>24.4</td>\n",
              "      <td>4.0</td>\n",
              "      <td>70.0</td>\n",
              "      <td>21.1</td>\n",
              "      <td>1020.2</td>\n",
              "      <td>-1.0</td>\n",
              "      <td>1.5</td>\n",
              "      <td>-10.851562</td>\n",
              "      <td>-10.601562</td>\n",
              "      <td>-11.101562</td>\n",
              "      <td>0.353516</td>\n",
              "      <td>0.0</td>\n",
              "      <td>0.0</td>\n",
              "      <td>0.0</td>\n",
              "      <td>0.0</td>\n",
              "      <td>-13.898438</td>\n",
              "      <td>-13.898438</td>\n",
              "      <td>-13.898438</td>\n",
              "      <td>0.000000</td>\n",
              "      <td>0.0</td>\n",
              "      <td>0.0</td>\n",
              "      <td>0.0</td>\n",
              "      <td>0.0</td>\n",
              "      <td>1037.0</td>\n",
              "      <td>1037.0</td>\n",
              "      <td>1037.0</td>\n",
              "      <td>0.141479</td>\n",
              "      <td>0.0000</td>\n",
              "      <td>0.0</td>\n",
              "      <td>0.0</td>\n",
              "      <td>0.00000</td>\n",
              "      <td>0.000000</td>\n",
              "      <td>0.000000</td>\n",
              "      <td>0.0</td>\n",
              "      <td>0.000000</td>\n",
              "      <td>-10.851562</td>\n",
              "      <td>-10.601562</td>\n",
              "      <td>-11.101562</td>\n",
              "      <td>0.353516</td>\n",
              "      <td>0.0</td>\n",
              "      <td>0.0</td>\n",
              "      <td>0.0</td>\n",
              "      <td>0.0</td>\n",
              "      <td>-13.898438</td>\n",
              "      <td>-13.898438</td>\n",
              "      <td>-13.898438</td>\n",
              "      <td>0.000000</td>\n",
              "      <td>0.0</td>\n",
              "      <td>0.0</td>\n",
              "      <td>0.0</td>\n",
              "      <td>0.0</td>\n",
              "      <td>1037.0</td>\n",
              "      <td>1037.0</td>\n",
              "      <td>1037.0</td>\n",
              "      <td>0.141479</td>\n",
              "      <td>0.0000</td>\n",
              "      <td>0.0</td>\n",
              "      <td>0.0</td>\n",
              "      <td>0.000</td>\n",
              "      <td>0.000000</td>\n",
              "      <td>0.000000</td>\n",
              "      <td>0.0</td>\n",
              "      <td>0.000000</td>\n",
              "    </tr>\n",
              "    <tr>\n",
              "      <th>2</th>\n",
              "      <td>2016-01-01 02:00:00</td>\n",
              "      <td>12</td>\n",
              "      <td>22.8</td>\n",
              "      <td>2.0</td>\n",
              "      <td>0.0</td>\n",
              "      <td>21.1</td>\n",
              "      <td>1020.2</td>\n",
              "      <td>0.0</td>\n",
              "      <td>0.0</td>\n",
              "      <td>-10.570312</td>\n",
              "      <td>-10.000000</td>\n",
              "      <td>-11.101562</td>\n",
              "      <td>0.550781</td>\n",
              "      <td>0.0</td>\n",
              "      <td>0.0</td>\n",
              "      <td>0.0</td>\n",
              "      <td>0.0</td>\n",
              "      <td>-14.265625</td>\n",
              "      <td>-13.898438</td>\n",
              "      <td>-15.000000</td>\n",
              "      <td>0.635254</td>\n",
              "      <td>0.0</td>\n",
              "      <td>0.0</td>\n",
              "      <td>0.0</td>\n",
              "      <td>0.0</td>\n",
              "      <td>1037.0</td>\n",
              "      <td>1037.0</td>\n",
              "      <td>1037.0</td>\n",
              "      <td>0.115479</td>\n",
              "      <td>93.3125</td>\n",
              "      <td>280.0</td>\n",
              "      <td>0.0</td>\n",
              "      <td>161.62500</td>\n",
              "      <td>0.866699</td>\n",
              "      <td>2.599609</td>\n",
              "      <td>0.0</td>\n",
              "      <td>1.500977</td>\n",
              "      <td>-10.570312</td>\n",
              "      <td>-10.000000</td>\n",
              "      <td>-11.101562</td>\n",
              "      <td>0.550781</td>\n",
              "      <td>0.0</td>\n",
              "      <td>0.0</td>\n",
              "      <td>0.0</td>\n",
              "      <td>0.0</td>\n",
              "      <td>-14.265625</td>\n",
              "      <td>-13.898438</td>\n",
              "      <td>-15.000000</td>\n",
              "      <td>0.635254</td>\n",
              "      <td>0.0</td>\n",
              "      <td>0.0</td>\n",
              "      <td>0.0</td>\n",
              "      <td>0.0</td>\n",
              "      <td>1037.0</td>\n",
              "      <td>1037.0</td>\n",
              "      <td>1037.0</td>\n",
              "      <td>0.115479</td>\n",
              "      <td>93.3125</td>\n",
              "      <td>280.0</td>\n",
              "      <td>0.0</td>\n",
              "      <td>161.625</td>\n",
              "      <td>0.866699</td>\n",
              "      <td>2.599609</td>\n",
              "      <td>0.0</td>\n",
              "      <td>1.500977</td>\n",
              "    </tr>\n",
              "    <tr>\n",
              "      <th>3</th>\n",
              "      <td>2016-01-01 03:00:00</td>\n",
              "      <td>12</td>\n",
              "      <td>21.1</td>\n",
              "      <td>2.0</td>\n",
              "      <td>0.0</td>\n",
              "      <td>20.6</td>\n",
              "      <td>1020.1</td>\n",
              "      <td>0.0</td>\n",
              "      <td>0.0</td>\n",
              "      <td>-11.468750</td>\n",
              "      <td>-10.000000</td>\n",
              "      <td>-13.296875</td>\n",
              "      <td>1.680664</td>\n",
              "      <td>0.0</td>\n",
              "      <td>0.0</td>\n",
              "      <td>0.0</td>\n",
              "      <td>0.0</td>\n",
              "      <td>-14.835938</td>\n",
              "      <td>-13.898438</td>\n",
              "      <td>-15.601562</td>\n",
              "      <td>0.862305</td>\n",
              "      <td>0.0</td>\n",
              "      <td>0.0</td>\n",
              "      <td>0.0</td>\n",
              "      <td>0.0</td>\n",
              "      <td>1037.0</td>\n",
              "      <td>1038.0</td>\n",
              "      <td>1037.0</td>\n",
              "      <td>0.519531</td>\n",
              "      <td>170.0000</td>\n",
              "      <td>280.0</td>\n",
              "      <td>0.0</td>\n",
              "      <td>149.37500</td>\n",
              "      <td>1.366211</td>\n",
              "      <td>2.599609</td>\n",
              "      <td>0.0</td>\n",
              "      <td>1.304688</td>\n",
              "      <td>-11.250000</td>\n",
              "      <td>-10.000000</td>\n",
              "      <td>-13.296875</td>\n",
              "      <td>1.438477</td>\n",
              "      <td>0.0</td>\n",
              "      <td>0.0</td>\n",
              "      <td>0.0</td>\n",
              "      <td>0.0</td>\n",
              "      <td>-14.601562</td>\n",
              "      <td>-13.898438</td>\n",
              "      <td>-15.601562</td>\n",
              "      <td>0.844727</td>\n",
              "      <td>0.0</td>\n",
              "      <td>0.0</td>\n",
              "      <td>0.0</td>\n",
              "      <td>0.0</td>\n",
              "      <td>1037.0</td>\n",
              "      <td>1038.0</td>\n",
              "      <td>1037.0</td>\n",
              "      <td>0.492432</td>\n",
              "      <td>127.5000</td>\n",
              "      <td>280.0</td>\n",
              "      <td>0.0</td>\n",
              "      <td>148.625</td>\n",
              "      <td>1.025391</td>\n",
              "      <td>2.599609</td>\n",
              "      <td>0.0</td>\n",
              "      <td>1.265625</td>\n",
              "    </tr>\n",
              "    <tr>\n",
              "      <th>4</th>\n",
              "      <td>2016-01-01 04:00:00</td>\n",
              "      <td>12</td>\n",
              "      <td>20.0</td>\n",
              "      <td>2.0</td>\n",
              "      <td>250.0</td>\n",
              "      <td>20.0</td>\n",
              "      <td>1020.0</td>\n",
              "      <td>-1.0</td>\n",
              "      <td>2.6</td>\n",
              "      <td>-12.570312</td>\n",
              "      <td>-10.000000</td>\n",
              "      <td>-14.398438</td>\n",
              "      <td>2.289062</td>\n",
              "      <td>0.0</td>\n",
              "      <td>0.0</td>\n",
              "      <td>0.0</td>\n",
              "      <td>0.0</td>\n",
              "      <td>-15.929688</td>\n",
              "      <td>-15.000000</td>\n",
              "      <td>-17.203125</td>\n",
              "      <td>1.137695</td>\n",
              "      <td>0.0</td>\n",
              "      <td>0.0</td>\n",
              "      <td>0.0</td>\n",
              "      <td>0.0</td>\n",
              "      <td>1037.0</td>\n",
              "      <td>1038.0</td>\n",
              "      <td>1037.0</td>\n",
              "      <td>0.450928</td>\n",
              "      <td>273.2500</td>\n",
              "      <td>310.0</td>\n",
              "      <td>230.0</td>\n",
              "      <td>40.40625</td>\n",
              "      <td>2.732422</td>\n",
              "      <td>4.101562</td>\n",
              "      <td>1.5</td>\n",
              "      <td>1.304688</td>\n",
              "      <td>-11.882812</td>\n",
              "      <td>-10.000000</td>\n",
              "      <td>-14.398438</td>\n",
              "      <td>1.880859</td>\n",
              "      <td>0.0</td>\n",
              "      <td>0.0</td>\n",
              "      <td>0.0</td>\n",
              "      <td>0.0</td>\n",
              "      <td>-15.117188</td>\n",
              "      <td>-13.898438</td>\n",
              "      <td>-17.203125</td>\n",
              "      <td>1.374023</td>\n",
              "      <td>0.0</td>\n",
              "      <td>0.0</td>\n",
              "      <td>0.0</td>\n",
              "      <td>0.0</td>\n",
              "      <td>1037.0</td>\n",
              "      <td>1038.0</td>\n",
              "      <td>1037.0</td>\n",
              "      <td>0.438232</td>\n",
              "      <td>164.0000</td>\n",
              "      <td>310.0</td>\n",
              "      <td>0.0</td>\n",
              "      <td>152.375</td>\n",
              "      <td>1.639648</td>\n",
              "      <td>4.101562</td>\n",
              "      <td>0.0</td>\n",
              "      <td>1.758789</td>\n",
              "    </tr>\n",
              "  </tbody>\n",
              "</table>\n",
              "</div>"
            ],
            "text/plain": [
              "            timestamp  ...  wind_speed_std_lag72\n",
              "0 2016-01-01 00:00:00  ...                   NaN\n",
              "1 2016-01-01 01:00:00  ...              0.000000\n",
              "2 2016-01-01 02:00:00  ...              1.500977\n",
              "3 2016-01-01 03:00:00  ...              1.265625\n",
              "4 2016-01-01 04:00:00  ...              1.758789\n",
              "\n",
              "[5 rows x 65 columns]"
            ]
          },
          "metadata": {
            "tags": []
          },
          "execution_count": 19
        }
      ]
    },
    {
      "cell_type": "code",
      "metadata": {
        "id": "RtoWPh5C6UWt",
        "colab": {
          "base_uri": "https://localhost:8080/"
        },
        "outputId": "586782dc-5ea4-44e0-9874-b521bb95b5ed"
      },
      "source": [
        "weather_train_df.columns"
      ],
      "execution_count": null,
      "outputs": [
        {
          "output_type": "execute_result",
          "data": {
            "text/plain": [
              "Index(['timestamp', 'deidentified_location', 'temp_obs', 'cloudiness',\n",
              "       'wind_direction', 'dew_temp', 'pressure_sea_level', 'precipitation',\n",
              "       'wind_speed', 'temp_obs_mean_lag3', 'temp_obs_max_lag3',\n",
              "       'temp_obs_min_lag3', 'temp_obs_std_lag3', 'cloudiness_mean_lag3',\n",
              "       'cloudiness_max_lag3', 'cloudiness_min_lag3', 'cloudiness_std_lag3',\n",
              "       'dew_temp_mean_lag3', 'dew_temp_max_lag3', 'dew_temp_min_lag3',\n",
              "       'dew_temp_std_lag3', 'precipitation_mean_lag3',\n",
              "       'precipitation_max_lag3', 'precipitation_min_lag3',\n",
              "       'precipitation_std_lag3', 'pressure_sea_level_mean_lag3',\n",
              "       'pressure_sea_level_max_lag3', 'pressure_sea_level_min_lag3',\n",
              "       'pressure_sea_level_std_lag3', 'wind_direction_mean_lag3',\n",
              "       'wind_direction_max_lag3', 'wind_direction_min_lag3',\n",
              "       'wind_direction_std_lag3', 'wind_speed_mean_lag3',\n",
              "       'wind_speed_max_lag3', 'wind_speed_min_lag3', 'wind_speed_std_lag3',\n",
              "       'temp_obs_mean_lag72', 'temp_obs_max_lag72', 'temp_obs_min_lag72',\n",
              "       'temp_obs_std_lag72', 'cloudiness_mean_lag72', 'cloudiness_max_lag72',\n",
              "       'cloudiness_min_lag72', 'cloudiness_std_lag72', 'dew_temp_mean_lag72',\n",
              "       'dew_temp_max_lag72', 'dew_temp_min_lag72', 'dew_temp_std_lag72',\n",
              "       'precipitation_mean_lag72', 'precipitation_max_lag72',\n",
              "       'precipitation_min_lag72', 'precipitation_std_lag72',\n",
              "       'pressure_sea_level_mean_lag72', 'pressure_sea_level_max_lag72',\n",
              "       'pressure_sea_level_min_lag72', 'pressure_sea_level_std_lag72',\n",
              "       'wind_direction_mean_lag72', 'wind_direction_max_lag72',\n",
              "       'wind_direction_min_lag72', 'wind_direction_std_lag72',\n",
              "       'wind_speed_mean_lag72', 'wind_speed_max_lag72', 'wind_speed_min_lag72',\n",
              "       'wind_speed_std_lag72'],\n",
              "      dtype='object')"
            ]
          },
          "metadata": {
            "tags": []
          },
          "execution_count": 20
        }
      ]
    },
    {
      "cell_type": "code",
      "metadata": {
        "id": "mvRCErbO6bEK",
        "colab": {
          "base_uri": "https://localhost:8080/"
        },
        "outputId": "8a8369c9-4f9d-4a52-efb6-8792eddcbb3c"
      },
      "source": [
        "\n",
        "primary_use_list = farm_meta_df['farming_company'].unique()\n",
        "primary_use_dict = {key: value for value, key in enumerate(primary_use_list)} \n",
        "print('primary_use_dict: ', primary_use_dict)\n",
        "farm_meta_df['farming_company'] = farm_meta_df['farming_company'].map(primary_use_dict)\n",
        "\n",
        "gc.collect()"
      ],
      "execution_count": null,
      "outputs": [
        {
          "output_type": "stream",
          "text": [
            "primary_use_dict:  {'Obery Farms': 0, 'Dole Food Company': 1, 'Wayne Farms': 2, 'Sanderson Farms': 3, 'Other': 4, 'Tyson Foods': 5, 'Freight Farms': 6, 'Del Monte Foods': 7, 'Mountaire Farms': 8, 'Perdue Farms': 9, 'Southern Confederate Farms': 10, 'Foster Farms': 11, 'Kansas Ville Farms': 12, 'West Liberty Foods': 13, 'Monogram Foods': 14, 'Northland Organic Foods Corporation': 15}\n"
          ],
          "name": "stdout"
        },
        {
          "output_type": "execute_result",
          "data": {
            "text/plain": [
              "123"
            ]
          },
          "metadata": {
            "tags": []
          },
          "execution_count": 21
        }
      ]
    },
    {
      "cell_type": "code",
      "metadata": {
        "id": "LX5NnDMG7t0Q"
      },
      "source": [
        "category_cols = ['farm_id', 'deidentified_location', 'farming_company']  # , 'meter'\n",
        "feature_cols = ['farm_area'] + [\n",
        "    'hour', 'weekend', # 'month' , 'dayofweek'\n",
        "    'farm_median'] + [\n",
        "    'temp_obs', 'cloudiness',\n",
        "       'wind_direction', 'dew_temp', 'pressure_sea_level', 'precipitation',\n",
        "       'wind_speed', 'temp_obs_mean_lag3', 'temp_obs_max_lag3',\n",
        "       'temp_obs_min_lag3', 'temp_obs_std_lag3', 'cloudiness_mean_lag3',\n",
        "       'cloudiness_max_lag3', 'cloudiness_min_lag3', 'cloudiness_std_lag3',\n",
        "       'dew_temp_mean_lag3', 'dew_temp_max_lag3', 'dew_temp_min_lag3',\n",
        "       'dew_temp_std_lag3', 'precipitation_mean_lag3',\n",
        "       'precipitation_max_lag3', 'precipitation_min_lag3',\n",
        "       'precipitation_std_lag3', 'pressure_sea_level_mean_lag3',\n",
        "       'pressure_sea_level_max_lag3', 'pressure_sea_level_min_lag3',\n",
        "       'pressure_sea_level_std_lag3', 'wind_direction_mean_lag3',\n",
        "       'wind_direction_max_lag3', 'wind_direction_min_lag3',\n",
        "       'wind_direction_std_lag3', 'wind_speed_mean_lag3',\n",
        "       'wind_speed_max_lag3', 'wind_speed_min_lag3', 'wind_speed_std_lag3',\n",
        "       'temp_obs_mean_lag72', 'temp_obs_max_lag72', 'temp_obs_min_lag72',\n",
        "       'temp_obs_std_lag72', 'cloudiness_mean_lag72', 'cloudiness_max_lag72',\n",
        "       'cloudiness_min_lag72', 'cloudiness_std_lag72', 'dew_temp_mean_lag72',\n",
        "       'dew_temp_max_lag72', 'dew_temp_min_lag72', 'dew_temp_std_lag72',\n",
        "       'precipitation_mean_lag72', 'precipitation_max_lag72',\n",
        "       'precipitation_min_lag72', 'precipitation_std_lag72',\n",
        "       'pressure_sea_level_mean_lag72', 'pressure_sea_level_max_lag72',\n",
        "       'pressure_sea_level_min_lag72', 'pressure_sea_level_std_lag72',\n",
        "       'wind_direction_mean_lag72', 'wind_direction_max_lag72',\n",
        "       'wind_direction_min_lag72', 'wind_direction_std_lag72',\n",
        "       'wind_speed_mean_lag72', 'wind_speed_max_lag72', 'wind_speed_min_lag72',\n",
        "       'wind_speed_std_lag72']"
      ],
      "execution_count": null,
      "outputs": []
    },
    {
      "cell_type": "code",
      "metadata": {
        "id": "itqBjKmXA9Hd"
      },
      "source": [
        ""
      ],
      "execution_count": null,
      "outputs": []
    },
    {
      "cell_type": "code",
      "metadata": {
        "id": "7FGjYcAEAUr0"
      },
      "source": [
        "le = LabelEncoder()\n",
        "farm_meta_df['deidentified_location'] = le.fit_transform(farm_meta_df['deidentified_location'])\n",
        "farm_meta_df['farm_id'] = le.fit_transform(farm_meta_df['farm_id'])"
      ],
      "execution_count": null,
      "outputs": []
    },
    {
      "cell_type": "code",
      "metadata": {
        "id": "4Ec8blXkBfEv"
      },
      "source": [
        "train_df['farm_id'] = le.fit_transform(train_df['farm_id'])\n",
        "train_df['ingredient_type'] = le.fit_transform(train_df['ingredient_type'])"
      ],
      "execution_count": null,
      "outputs": []
    },
    {
      "cell_type": "code",
      "metadata": {
        "id": "0H7nKWOSBX2l",
        "colab": {
          "base_uri": "https://localhost:8080/",
          "height": 204
        },
        "outputId": "6b366623-94fa-401a-bb4f-c4f79966a889"
      },
      "source": [
        "train_df.head()"
      ],
      "execution_count": null,
      "outputs": [
        {
          "output_type": "execute_result",
          "data": {
            "text/html": [
              "<div>\n",
              "<style scoped>\n",
              "    .dataframe tbody tr th:only-of-type {\n",
              "        vertical-align: middle;\n",
              "    }\n",
              "\n",
              "    .dataframe tbody tr th {\n",
              "        vertical-align: top;\n",
              "    }\n",
              "\n",
              "    .dataframe thead th {\n",
              "        text-align: right;\n",
              "    }\n",
              "</style>\n",
              "<table border=\"1\" class=\"dataframe\">\n",
              "  <thead>\n",
              "    <tr style=\"text-align: right;\">\n",
              "      <th></th>\n",
              "      <th>timestamp</th>\n",
              "      <th>farm_id</th>\n",
              "      <th>ingredient_type</th>\n",
              "      <th>yield</th>\n",
              "      <th>date</th>\n",
              "      <th>yield_log1p</th>\n",
              "      <th>hour</th>\n",
              "      <th>weekend</th>\n",
              "      <th>month</th>\n",
              "      <th>dayofweek</th>\n",
              "      <th>farm_mean</th>\n",
              "      <th>farm_median</th>\n",
              "      <th>farm_min</th>\n",
              "      <th>farm_max</th>\n",
              "      <th>farm_std</th>\n",
              "    </tr>\n",
              "  </thead>\n",
              "  <tbody>\n",
              "    <tr>\n",
              "      <th>0</th>\n",
              "      <td>2016-01-01</td>\n",
              "      <td>142</td>\n",
              "      <td>0</td>\n",
              "      <td>0.0</td>\n",
              "      <td>2016-01-01</td>\n",
              "      <td>0.0</td>\n",
              "      <td>0</td>\n",
              "      <td>4</td>\n",
              "      <td>1</td>\n",
              "      <td>4</td>\n",
              "      <td>3.355469</td>\n",
              "      <td>5.250000</td>\n",
              "      <td>0.0</td>\n",
              "      <td>6.105469</td>\n",
              "      <td>2.658203</td>\n",
              "    </tr>\n",
              "    <tr>\n",
              "      <th>1</th>\n",
              "      <td>2016-01-01</td>\n",
              "      <td>1307</td>\n",
              "      <td>0</td>\n",
              "      <td>0.0</td>\n",
              "      <td>2016-01-01</td>\n",
              "      <td>0.0</td>\n",
              "      <td>0</td>\n",
              "      <td>4</td>\n",
              "      <td>1</td>\n",
              "      <td>4</td>\n",
              "      <td>2.990234</td>\n",
              "      <td>4.566406</td>\n",
              "      <td>0.0</td>\n",
              "      <td>5.546875</td>\n",
              "      <td>2.302734</td>\n",
              "    </tr>\n",
              "    <tr>\n",
              "      <th>2</th>\n",
              "      <td>2016-01-01</td>\n",
              "      <td>376</td>\n",
              "      <td>0</td>\n",
              "      <td>0.0</td>\n",
              "      <td>2016-01-01</td>\n",
              "      <td>0.0</td>\n",
              "      <td>0</td>\n",
              "      <td>4</td>\n",
              "      <td>1</td>\n",
              "      <td>4</td>\n",
              "      <td>1.851562</td>\n",
              "      <td>2.343750</td>\n",
              "      <td>0.0</td>\n",
              "      <td>4.234375</td>\n",
              "      <td>1.553711</td>\n",
              "    </tr>\n",
              "    <tr>\n",
              "      <th>3</th>\n",
              "      <td>2016-01-01</td>\n",
              "      <td>134</td>\n",
              "      <td>0</td>\n",
              "      <td>0.0</td>\n",
              "      <td>2016-01-01</td>\n",
              "      <td>0.0</td>\n",
              "      <td>0</td>\n",
              "      <td>4</td>\n",
              "      <td>1</td>\n",
              "      <td>4</td>\n",
              "      <td>3.626953</td>\n",
              "      <td>5.757812</td>\n",
              "      <td>0.0</td>\n",
              "      <td>6.843750</td>\n",
              "      <td>2.882812</td>\n",
              "    </tr>\n",
              "    <tr>\n",
              "      <th>4</th>\n",
              "      <td>2016-01-01</td>\n",
              "      <td>986</td>\n",
              "      <td>0</td>\n",
              "      <td>0.0</td>\n",
              "      <td>2016-01-01</td>\n",
              "      <td>0.0</td>\n",
              "      <td>0</td>\n",
              "      <td>4</td>\n",
              "      <td>1</td>\n",
              "      <td>4</td>\n",
              "      <td>4.546875</td>\n",
              "      <td>7.281250</td>\n",
              "      <td>0.0</td>\n",
              "      <td>8.187500</td>\n",
              "      <td>3.576172</td>\n",
              "    </tr>\n",
              "  </tbody>\n",
              "</table>\n",
              "</div>"
            ],
            "text/plain": [
              "   timestamp  farm_id  ingredient_type  ...  farm_min  farm_max  farm_std\n",
              "0 2016-01-01      142                0  ...       0.0  6.105469  2.658203\n",
              "1 2016-01-01     1307                0  ...       0.0  5.546875  2.302734\n",
              "2 2016-01-01      376                0  ...       0.0  4.234375  1.553711\n",
              "3 2016-01-01      134                0  ...       0.0  6.843750  2.882812\n",
              "4 2016-01-01      986                0  ...       0.0  8.187500  3.576172\n",
              "\n",
              "[5 rows x 15 columns]"
            ]
          },
          "metadata": {
            "tags": []
          },
          "execution_count": 25
        }
      ]
    },
    {
      "cell_type": "code",
      "metadata": {
        "id": "g8Qz8zQABJN-",
        "colab": {
          "base_uri": "https://localhost:8080/",
          "height": 204
        },
        "outputId": "0ab21227-0a3e-47c3-941d-50970ecdbaf6"
      },
      "source": [
        "farm_meta_df.head()"
      ],
      "execution_count": null,
      "outputs": [
        {
          "output_type": "execute_result",
          "data": {
            "text/html": [
              "<div>\n",
              "<style scoped>\n",
              "    .dataframe tbody tr th:only-of-type {\n",
              "        vertical-align: middle;\n",
              "    }\n",
              "\n",
              "    .dataframe tbody tr th {\n",
              "        vertical-align: top;\n",
              "    }\n",
              "\n",
              "    .dataframe thead th {\n",
              "        text-align: right;\n",
              "    }\n",
              "</style>\n",
              "<table border=\"1\" class=\"dataframe\">\n",
              "  <thead>\n",
              "    <tr style=\"text-align: right;\">\n",
              "      <th></th>\n",
              "      <th>farm_id</th>\n",
              "      <th>farm_area</th>\n",
              "      <th>farming_company</th>\n",
              "      <th>deidentified_location</th>\n",
              "    </tr>\n",
              "  </thead>\n",
              "  <tbody>\n",
              "    <tr>\n",
              "      <th>0</th>\n",
              "      <td>142</td>\n",
              "      <td>690.455096</td>\n",
              "      <td>0</td>\n",
              "      <td>12</td>\n",
              "    </tr>\n",
              "    <tr>\n",
              "      <th>1</th>\n",
              "      <td>1307</td>\n",
              "      <td>252.696160</td>\n",
              "      <td>0</td>\n",
              "      <td>12</td>\n",
              "    </tr>\n",
              "    <tr>\n",
              "      <th>2</th>\n",
              "      <td>376</td>\n",
              "      <td>499.446528</td>\n",
              "      <td>0</td>\n",
              "      <td>12</td>\n",
              "    </tr>\n",
              "    <tr>\n",
              "      <th>3</th>\n",
              "      <td>134</td>\n",
              "      <td>2200.407555</td>\n",
              "      <td>0</td>\n",
              "      <td>12</td>\n",
              "    </tr>\n",
              "    <tr>\n",
              "      <th>4</th>\n",
              "      <td>986</td>\n",
              "      <td>10833.140121</td>\n",
              "      <td>0</td>\n",
              "      <td>12</td>\n",
              "    </tr>\n",
              "  </tbody>\n",
              "</table>\n",
              "</div>"
            ],
            "text/plain": [
              "   farm_id     farm_area  farming_company  deidentified_location\n",
              "0      142    690.455096                0                     12\n",
              "1     1307    252.696160                0                     12\n",
              "2      376    499.446528                0                     12\n",
              "3      134   2200.407555                0                     12\n",
              "4      986  10833.140121                0                     12"
            ]
          },
          "metadata": {
            "tags": []
          },
          "execution_count": 26
        }
      ]
    },
    {
      "cell_type": "code",
      "metadata": {
        "id": "3IT-yWyL87Mz"
      },
      "source": [
        "def create_X_y(train_df, target_meter):\n",
        "    target_train_df = train_df[train_df['ingredient_type'] == target_meter]\n",
        "    target_train_df = target_train_df.merge(farm_meta_df, on='farm_id', how='left')\n",
        "    target_train_df = target_train_df.merge(weather_train_df, on=['deidentified_location', 'timestamp'], how='left')\n",
        "    X_train = target_train_df[feature_cols + category_cols]\n",
        "    y_train = target_train_df['yield_log1p'].values\n",
        "\n",
        "    del target_train_df\n",
        "    return X_train, y_train"
      ],
      "execution_count": null,
      "outputs": []
    },
    {
      "cell_type": "code",
      "metadata": {
        "id": "cpd-e8JS9H62"
      },
      "source": [
        "def fit_lgbm(train, val, devices=(-1,), seed=None, cat_features=None, num_rounds=1500, lr=0.1, bf=0.1):\n",
        "    \"\"\"Train Light GBM model\"\"\"\n",
        "    X_train, y_train = train\n",
        "    X_valid, y_valid = val\n",
        "    metric = 'l2'\n",
        "    params = {'num_leaves': 31,\n",
        "              'objective': 'regression',\n",
        "#               'max_depth': -1,\n",
        "              'learning_rate': lr,\n",
        "              \"boosting\": \"gbdt\",\n",
        "              \"bagging_freq\": 5,\n",
        "              \"bagging_fraction\": bf,\n",
        "              \"feature_fraction\": 0.9,\n",
        "              \"metric\": metric,\n",
        "#               \"verbosity\": -1,\n",
        "#               'reg_alpha': 0.1,\n",
        "#               'reg_lambda': 0.3\n",
        "              }\n",
        "    device = devices[0]\n",
        "    if device == -1:\n",
        "        # use cpu\n",
        "        pass\n",
        "    else:\n",
        "        # use gpu\n",
        "        print(f'using gpu device_id {device}...')\n",
        "        params.update({'device': 'gpu', 'gpu_device_id': device})\n",
        "\n",
        "    params['seed'] = seed\n",
        "\n",
        "    early_stop = 20\n",
        "    verbose_eval = 20\n",
        "\n",
        "    d_train = lgb.Dataset(X_train, label=y_train, categorical_feature=cat_features)\n",
        "    d_valid = lgb.Dataset(X_valid, label=y_valid, categorical_feature=cat_features)\n",
        "    watchlist = [d_train, d_valid]\n",
        "\n",
        "    print('training LGB:')\n",
        "    model = lgb.train(params,\n",
        "                      train_set=d_train,\n",
        "                      num_boost_round=num_rounds,\n",
        "                      valid_sets=watchlist,\n",
        "                      verbose_eval=verbose_eval,\n",
        "                      early_stopping_rounds=early_stop)\n",
        "\n",
        "    # predictions\n",
        "    y_pred_valid = model.predict(X_valid, num_iteration=model.best_iteration)\n",
        "    \n",
        "    print('best_score', model.best_score)\n",
        "    log = {'train/mae': model.best_score['training']['l2'],\n",
        "           'valid/mae': model.best_score['valid_1']['l2']}\n",
        "    return model, y_pred_valid, log"
      ],
      "execution_count": null,
      "outputs": []
    },
    {
      "cell_type": "code",
      "metadata": {
        "id": "Eni-rALL6tvY",
        "colab": {
          "base_uri": "https://localhost:8080/"
        },
        "outputId": "2d0e5db2-9580-4b9e-94bb-62cbe35ff1a1"
      },
      "source": [
        "folds = 5\n",
        "seed = 666\n",
        "shuffle = False\n",
        "kf = KFold(n_splits=folds, shuffle=shuffle, random_state=seed)"
      ],
      "execution_count": null,
      "outputs": [
        {
          "output_type": "stream",
          "text": [
            "/usr/local/lib/python3.7/dist-packages/sklearn/model_selection/_split.py:296: FutureWarning: Setting a random_state has no effect since shuffle is False. This will raise an error in 0.24. You should leave random_state to its default (None), or set shuffle=True.\n",
            "  FutureWarning\n"
          ],
          "name": "stderr"
        }
      ]
    },
    {
      "cell_type": "code",
      "metadata": {
        "id": "sM2zqgyLDfbN"
      },
      "source": [
        "debug = False"
      ],
      "execution_count": null,
      "outputs": []
    },
    {
      "cell_type": "code",
      "metadata": {
        "id": "Sw1FCsdp67Xi",
        "colab": {
          "base_uri": "https://localhost:8080/",
          "height": 1000
        },
        "outputId": "b7ad512f-9ac9-42b6-dd60-72e7183b4f64"
      },
      "source": [
        "target_meter = 0\n",
        "X_train, y_train = create_X_y(train_df, target_meter=target_meter)\n",
        "y_valid_pred_total = np.zeros(X_train.shape[0])\n",
        "gc.collect()\n",
        "print('target_meter', target_meter, X_train.shape)\n",
        "\n",
        "cat_features = [X_train.columns.get_loc(cat_col) for cat_col in category_cols]\n",
        "print('cat_features', cat_features)\n",
        "\n",
        "models0 = []\n",
        "for train_idx, valid_idx in kf.split(X_train, y_train):\n",
        "    train_data = X_train.iloc[train_idx,:], y_train[train_idx]\n",
        "    valid_data = X_train.iloc[valid_idx,:], y_train[valid_idx]\n",
        "\n",
        "    print('train', len(train_idx), 'valid', len(valid_idx))\n",
        "#     model, y_pred_valid, log = fit_cb(train_data, valid_data, cat_features=cat_features, devices=[0,])\n",
        "    model, y_pred_valid, log = fit_lgbm(train_data, valid_data, cat_features=category_cols,\n",
        "                                        num_rounds=1000, lr=0.05, bf=0.7)\n",
        "    y_valid_pred_total[valid_idx] = y_pred_valid\n",
        "    models0.append(model)\n",
        "    gc.collect()\n",
        "    if debug:\n",
        "        break\n",
        "\n",
        "sns.distplot(y_train)\n",
        "del X_train, y_train\n",
        "gc.collect()"
      ],
      "execution_count": null,
      "outputs": [
        {
          "output_type": "stream",
          "text": [
            "target_meter 0 (12314223, 70)\n",
            "cat_features [67, 68, 69]\n",
            "train 9851378 valid 2462845\n",
            "training LGB:\n"
          ],
          "name": "stdout"
        },
        {
          "output_type": "stream",
          "text": [
            "/usr/local/lib/python3.7/dist-packages/lightgbm/basic.py:1205: UserWarning: Using categorical_feature in Dataset.\n",
            "  warnings.warn('Using categorical_feature in Dataset.')\n",
            "/usr/local/lib/python3.7/dist-packages/lightgbm/basic.py:762: UserWarning: categorical_feature in param dict is overridden.\n",
            "  warnings.warn('categorical_feature in param dict is overridden.')\n"
          ],
          "name": "stderr"
        },
        {
          "output_type": "stream",
          "text": [
            "Training until validation scores don't improve for 20 rounds.\n",
            "[20]\ttraining's l2: 0.981021\tvalid_1's l2: 1.89349\n",
            "[40]\ttraining's l2: 0.649437\tvalid_1's l2: 1.63928\n",
            "[60]\ttraining's l2: 0.540821\tvalid_1's l2: 1.51035\n",
            "[80]\ttraining's l2: 0.475445\tvalid_1's l2: 1.46068\n",
            "[100]\ttraining's l2: 0.433185\tvalid_1's l2: 1.42818\n",
            "[120]\ttraining's l2: 0.403842\tvalid_1's l2: 1.42523\n",
            "[140]\ttraining's l2: 0.380426\tvalid_1's l2: 1.41929\n",
            "Early stopping, best iteration is:\n",
            "[127]\ttraining's l2: 0.394524\tvalid_1's l2: 1.41632\n",
            "best_score defaultdict(<class 'dict'>, {'training': {'l2': 0.39452359095856115}, 'valid_1': {'l2': 1.4163228057815105}})\n",
            "train 9851378 valid 2462845\n",
            "training LGB:\n",
            "Training until validation scores don't improve for 20 rounds.\n",
            "[20]\ttraining's l2: 0.935894\tvalid_1's l2: 1.6937\n",
            "[40]\ttraining's l2: 0.604428\tvalid_1's l2: 1.48908\n",
            "[60]\ttraining's l2: 0.507711\tvalid_1's l2: 1.44689\n",
            "[80]\ttraining's l2: 0.454098\tvalid_1's l2: 1.43547\n",
            "[100]\ttraining's l2: 0.418651\tvalid_1's l2: 1.43259\n",
            "Early stopping, best iteration is:\n",
            "[97]\ttraining's l2: 0.423126\tvalid_1's l2: 1.4288\n",
            "best_score defaultdict(<class 'dict'>, {'training': {'l2': 0.4231259321134688}, 'valid_1': {'l2': 1.4288018804826887}})\n",
            "train 9851378 valid 2462845\n",
            "training LGB:\n",
            "Training until validation scores don't improve for 20 rounds.\n",
            "[20]\ttraining's l2: 0.932344\tvalid_1's l2: 0.952415\n",
            "[40]\ttraining's l2: 0.592109\tvalid_1's l2: 0.707235\n",
            "[60]\ttraining's l2: 0.506416\tvalid_1's l2: 0.645496\n",
            "[80]\ttraining's l2: 0.459479\tvalid_1's l2: 0.614367\n",
            "[100]\ttraining's l2: 0.425615\tvalid_1's l2: 0.593228\n",
            "[120]\ttraining's l2: 0.397371\tvalid_1's l2: 0.586073\n",
            "[140]\ttraining's l2: 0.376702\tvalid_1's l2: 0.581392\n",
            "[160]\ttraining's l2: 0.357941\tvalid_1's l2: 0.579355\n",
            "[180]\ttraining's l2: 0.343535\tvalid_1's l2: 0.575459\n",
            "[200]\ttraining's l2: 0.330705\tvalid_1's l2: 0.57307\n",
            "[220]\ttraining's l2: 0.320869\tvalid_1's l2: 0.571782\n",
            "[240]\ttraining's l2: 0.312251\tvalid_1's l2: 0.572487\n",
            "Early stopping, best iteration is:\n",
            "[224]\ttraining's l2: 0.319284\tvalid_1's l2: 0.571434\n",
            "best_score defaultdict(<class 'dict'>, {'training': {'l2': 0.3192835850802516}, 'valid_1': {'l2': 0.5714337149283347}})\n",
            "train 9851379 valid 2462844\n",
            "training LGB:\n",
            "Training until validation scores don't improve for 20 rounds.\n",
            "[20]\ttraining's l2: 0.906103\tvalid_1's l2: 1.01995\n",
            "[40]\ttraining's l2: 0.56923\tvalid_1's l2: 0.793306\n",
            "[60]\ttraining's l2: 0.48749\tvalid_1's l2: 0.754627\n",
            "[80]\ttraining's l2: 0.446626\tvalid_1's l2: 0.729715\n",
            "[100]\ttraining's l2: 0.412217\tvalid_1's l2: 0.715733\n",
            "[120]\ttraining's l2: 0.385603\tvalid_1's l2: 0.705424\n",
            "[140]\ttraining's l2: 0.364892\tvalid_1's l2: 0.701495\n",
            "[160]\ttraining's l2: 0.348941\tvalid_1's l2: 0.694833\n",
            "[180]\ttraining's l2: 0.336365\tvalid_1's l2: 0.69306\n",
            "[200]\ttraining's l2: 0.324241\tvalid_1's l2: 0.692373\n",
            "Early stopping, best iteration is:\n",
            "[192]\ttraining's l2: 0.328662\tvalid_1's l2: 0.691238\n",
            "best_score defaultdict(<class 'dict'>, {'training': {'l2': 0.328662375933187}, 'valid_1': {'l2': 0.6912382684145106}})\n",
            "train 9851379 valid 2462844\n",
            "training LGB:\n",
            "Training until validation scores don't improve for 20 rounds.\n",
            "[20]\ttraining's l2: 0.899253\tvalid_1's l2: 1.59993\n",
            "Early stopping, best iteration is:\n",
            "[17]\ttraining's l2: 1.0276\tvalid_1's l2: 1.58365\n",
            "best_score defaultdict(<class 'dict'>, {'training': {'l2': 1.0275990130200445}, 'valid_1': {'l2': 1.583645444907699}})\n"
          ],
          "name": "stdout"
        },
        {
          "output_type": "error",
          "ename": "NameError",
          "evalue": "ignored",
          "traceback": [
            "\u001b[0;31m---------------------------------------------------------------------------\u001b[0m",
            "\u001b[0;31mNameError\u001b[0m                                 Traceback (most recent call last)",
            "\u001b[0;32m<ipython-input-32-d15ba3af7974>\u001b[0m in \u001b[0;36m<module>\u001b[0;34m()\u001b[0m\n\u001b[1;32m     23\u001b[0m         \u001b[0;32mbreak\u001b[0m\u001b[0;34m\u001b[0m\u001b[0;34m\u001b[0m\u001b[0m\n\u001b[1;32m     24\u001b[0m \u001b[0;34m\u001b[0m\u001b[0m\n\u001b[0;32m---> 25\u001b[0;31m \u001b[0msns\u001b[0m\u001b[0;34m.\u001b[0m\u001b[0mdistplot\u001b[0m\u001b[0;34m(\u001b[0m\u001b[0my_train\u001b[0m\u001b[0;34m)\u001b[0m\u001b[0;34m\u001b[0m\u001b[0;34m\u001b[0m\u001b[0m\n\u001b[0m\u001b[1;32m     26\u001b[0m \u001b[0;32mdel\u001b[0m \u001b[0mX_train\u001b[0m\u001b[0;34m,\u001b[0m \u001b[0my_train\u001b[0m\u001b[0;34m\u001b[0m\u001b[0;34m\u001b[0m\u001b[0m\n\u001b[1;32m     27\u001b[0m \u001b[0mgc\u001b[0m\u001b[0;34m.\u001b[0m\u001b[0mcollect\u001b[0m\u001b[0;34m(\u001b[0m\u001b[0;34m)\u001b[0m\u001b[0;34m\u001b[0m\u001b[0;34m\u001b[0m\u001b[0m\n",
            "\u001b[0;31mNameError\u001b[0m: name 'sns' is not defined"
          ]
        }
      ]
    },
    {
      "cell_type": "code",
      "metadata": {
        "id": "zzK9-J_i-PIX",
        "colab": {
          "base_uri": "https://localhost:8080/"
        },
        "outputId": "63459f2c-a2e9-47d1-d0f4-b325c69df124"
      },
      "source": [
        "models0"
      ],
      "execution_count": null,
      "outputs": [
        {
          "output_type": "execute_result",
          "data": {
            "text/plain": [
              "[<lightgbm.basic.Booster at 0x7f9c48349b50>,\n",
              " <lightgbm.basic.Booster at 0x7f9c722fbc10>,\n",
              " <lightgbm.basic.Booster at 0x7f9c4bf0e490>,\n",
              " <lightgbm.basic.Booster at 0x7f9c722fa150>,\n",
              " <lightgbm.basic.Booster at 0x7f9c483494d0>]"
            ]
          },
          "metadata": {
            "tags": []
          },
          "execution_count": 33
        }
      ]
    },
    {
      "cell_type": "code",
      "metadata": {
        "id": "VCBMb0qnIirP",
        "colab": {
          "base_uri": "https://localhost:8080/"
        },
        "outputId": "7f646c9c-987e-4779-b384-d1183d934e37"
      },
      "source": [
        "del X_train, y_train\n",
        "gc.collect()"
      ],
      "execution_count": null,
      "outputs": [
        {
          "output_type": "execute_result",
          "data": {
            "text/plain": [
              "404"
            ]
          },
          "metadata": {
            "tags": []
          },
          "execution_count": 35
        }
      ]
    },
    {
      "cell_type": "code",
      "metadata": {
        "id": "2JRC9ZUHIsNM",
        "colab": {
          "base_uri": "https://localhost:8080/",
          "height": 1000
        },
        "outputId": "4a890b55-cadd-4361-acd8-eebbe29c73d8"
      },
      "source": [
        "target_meter = 1\n",
        "X_train, y_train = create_X_y(train_df, target_meter=target_meter)\n",
        "y_valid_pred_total = np.zeros(X_train.shape[0])\n",
        "gc.collect()\n",
        "print('target_meter', target_meter, X_train.shape)\n",
        "\n",
        "cat_features = [X_train.columns.get_loc(cat_col) for cat_col in category_cols]\n",
        "print('cat_features', cat_features)\n",
        "\n",
        "models1 = []\n",
        "for train_idx, valid_idx in kf.split(X_train, y_train):\n",
        "    train_data = X_train.iloc[train_idx,:], y_train[train_idx]\n",
        "    valid_data = X_train.iloc[valid_idx,:], y_train[valid_idx]\n",
        "\n",
        "    print('train', len(train_idx), 'valid', len(valid_idx))\n",
        "#     model, y_pred_valid, log = fit_cb(train_data, valid_data, cat_features=cat_features, devices=[0,])\n",
        "    model, y_pred_valid, log = fit_lgbm(train_data, valid_data, cat_features=category_cols, num_rounds=1000,\n",
        "                                       lr=0.05, bf=0.5)\n",
        "    y_valid_pred_total[valid_idx] = y_pred_valid\n",
        "    models1.append(model)\n",
        "    gc.collect()\n",
        "    if debug:\n",
        "        break\n",
        "\n",
        "sns.distplot(y_train)\n",
        "del X_train, y_train\n",
        "gc.collect()"
      ],
      "execution_count": null,
      "outputs": [
        {
          "output_type": "stream",
          "text": [
            "target_meter 1 (4256426, 70)\n",
            "cat_features [67, 68, 69]\n",
            "train 3405140 valid 851286\n",
            "training LGB:\n"
          ],
          "name": "stdout"
        },
        {
          "output_type": "stream",
          "text": [
            "/usr/local/lib/python3.7/dist-packages/lightgbm/basic.py:1205: UserWarning: Using categorical_feature in Dataset.\n",
            "  warnings.warn('Using categorical_feature in Dataset.')\n",
            "/usr/local/lib/python3.7/dist-packages/lightgbm/basic.py:762: UserWarning: categorical_feature in param dict is overridden.\n",
            "  warnings.warn('categorical_feature in param dict is overridden.')\n"
          ],
          "name": "stderr"
        },
        {
          "output_type": "stream",
          "text": [
            "Training until validation scores don't improve for 20 rounds.\n",
            "[20]\ttraining's l2: 2.53544\tvalid_1's l2: 3.07748\n",
            "[40]\ttraining's l2: 1.77194\tvalid_1's l2: 2.09132\n",
            "[60]\ttraining's l2: 1.48639\tvalid_1's l2: 1.87168\n",
            "[80]\ttraining's l2: 1.33084\tvalid_1's l2: 1.79657\n",
            "[100]\ttraining's l2: 1.24137\tvalid_1's l2: 1.76772\n",
            "[120]\ttraining's l2: 1.17662\tvalid_1's l2: 1.75549\n",
            "[140]\ttraining's l2: 1.12707\tvalid_1's l2: 1.74726\n",
            "[160]\ttraining's l2: 1.08007\tvalid_1's l2: 1.74031\n",
            "[180]\ttraining's l2: 1.04406\tvalid_1's l2: 1.74183\n",
            "Early stopping, best iteration is:\n",
            "[164]\ttraining's l2: 1.07262\tvalid_1's l2: 1.73907\n",
            "best_score defaultdict(<class 'dict'>, {'training': {'l2': 1.072619438847593}, 'valid_1': {'l2': 1.7390704772340928}})\n",
            "train 3405141 valid 851285\n",
            "training LGB:\n",
            "Training until validation scores don't improve for 20 rounds.\n",
            "[20]\ttraining's l2: 2.51744\tvalid_1's l2: 2.52636\n",
            "[40]\ttraining's l2: 1.72991\tvalid_1's l2: 1.89908\n",
            "[60]\ttraining's l2: 1.4467\tvalid_1's l2: 1.73139\n",
            "[80]\ttraining's l2: 1.31381\tvalid_1's l2: 1.65258\n",
            "[100]\ttraining's l2: 1.2281\tvalid_1's l2: 1.61188\n",
            "[120]\ttraining's l2: 1.17212\tvalid_1's l2: 1.59522\n",
            "[140]\ttraining's l2: 1.12048\tvalid_1's l2: 1.57586\n",
            "[160]\ttraining's l2: 1.07911\tvalid_1's l2: 1.56346\n",
            "[180]\ttraining's l2: 1.04467\tvalid_1's l2: 1.55285\n",
            "[200]\ttraining's l2: 1.01507\tvalid_1's l2: 1.5409\n",
            "[220]\ttraining's l2: 0.992018\tvalid_1's l2: 1.53309\n",
            "[240]\ttraining's l2: 0.967154\tvalid_1's l2: 1.52685\n",
            "[260]\ttraining's l2: 0.94658\tvalid_1's l2: 1.52313\n",
            "[280]\ttraining's l2: 0.925062\tvalid_1's l2: 1.51749\n",
            "[300]\ttraining's l2: 0.903302\tvalid_1's l2: 1.51185\n",
            "[320]\ttraining's l2: 0.886993\tvalid_1's l2: 1.50701\n",
            "[340]\ttraining's l2: 0.870813\tvalid_1's l2: 1.5026\n",
            "[360]\ttraining's l2: 0.85604\tvalid_1's l2: 1.49707\n",
            "[380]\ttraining's l2: 0.843271\tvalid_1's l2: 1.49502\n",
            "[400]\ttraining's l2: 0.831365\tvalid_1's l2: 1.4901\n",
            "[420]\ttraining's l2: 0.820047\tvalid_1's l2: 1.48793\n",
            "[440]\ttraining's l2: 0.809066\tvalid_1's l2: 1.48623\n",
            "[460]\ttraining's l2: 0.798509\tvalid_1's l2: 1.48271\n",
            "[480]\ttraining's l2: 0.788784\tvalid_1's l2: 1.48172\n",
            "[500]\ttraining's l2: 0.77908\tvalid_1's l2: 1.48047\n",
            "[520]\ttraining's l2: 0.770549\tvalid_1's l2: 1.47964\n",
            "[540]\ttraining's l2: 0.762604\tvalid_1's l2: 1.47753\n",
            "Early stopping, best iteration is:\n",
            "[539]\ttraining's l2: 0.762989\tvalid_1's l2: 1.47742\n",
            "best_score defaultdict(<class 'dict'>, {'training': {'l2': 0.762989084511707}, 'valid_1': {'l2': 1.4774167818417403}})\n",
            "train 3405141 valid 851285\n",
            "training LGB:\n",
            "Training until validation scores don't improve for 20 rounds.\n",
            "[20]\ttraining's l2: 2.54111\tvalid_1's l2: 2.97914\n",
            "[40]\ttraining's l2: 1.74854\tvalid_1's l2: 2.10861\n",
            "[60]\ttraining's l2: 1.49967\tvalid_1's l2: 1.82731\n",
            "[80]\ttraining's l2: 1.37531\tvalid_1's l2: 1.68969\n",
            "[100]\ttraining's l2: 1.28905\tvalid_1's l2: 1.6192\n",
            "[120]\ttraining's l2: 1.22557\tvalid_1's l2: 1.57872\n",
            "[140]\ttraining's l2: 1.17977\tvalid_1's l2: 1.54929\n",
            "[160]\ttraining's l2: 1.13455\tvalid_1's l2: 1.53657\n",
            "[180]\ttraining's l2: 1.09871\tvalid_1's l2: 1.52784\n",
            "[200]\ttraining's l2: 1.07101\tvalid_1's l2: 1.5211\n",
            "[220]\ttraining's l2: 1.04535\tvalid_1's l2: 1.51607\n",
            "[240]\ttraining's l2: 1.02265\tvalid_1's l2: 1.51117\n",
            "[260]\ttraining's l2: 1.00264\tvalid_1's l2: 1.51349\n",
            "Early stopping, best iteration is:\n",
            "[250]\ttraining's l2: 1.01321\tvalid_1's l2: 1.51047\n",
            "best_score defaultdict(<class 'dict'>, {'training': {'l2': 1.0132133113965662}, 'valid_1': {'l2': 1.5104685060406473}})\n",
            "train 3405141 valid 851285\n",
            "training LGB:\n",
            "Training until validation scores don't improve for 20 rounds.\n",
            "[20]\ttraining's l2: 2.37171\tvalid_1's l2: 3.19371\n",
            "[40]\ttraining's l2: 1.57549\tvalid_1's l2: 2.57065\n",
            "[60]\ttraining's l2: 1.31015\tvalid_1's l2: 2.425\n",
            "[80]\ttraining's l2: 1.1874\tvalid_1's l2: 2.35776\n",
            "[100]\ttraining's l2: 1.11012\tvalid_1's l2: 2.31402\n",
            "[120]\ttraining's l2: 1.05895\tvalid_1's l2: 2.29529\n",
            "[140]\ttraining's l2: 1.01939\tvalid_1's l2: 2.2853\n",
            "[160]\ttraining's l2: 0.987151\tvalid_1's l2: 2.27516\n",
            "[180]\ttraining's l2: 0.956709\tvalid_1's l2: 2.27065\n",
            "[200]\ttraining's l2: 0.93446\tvalid_1's l2: 2.26637\n",
            "[220]\ttraining's l2: 0.91419\tvalid_1's l2: 2.26439\n",
            "[240]\ttraining's l2: 0.896408\tvalid_1's l2: 2.26134\n",
            "[260]\ttraining's l2: 0.880452\tvalid_1's l2: 2.25821\n",
            "[280]\ttraining's l2: 0.864352\tvalid_1's l2: 2.25317\n",
            "[300]\ttraining's l2: 0.849108\tvalid_1's l2: 2.25104\n",
            "[320]\ttraining's l2: 0.835266\tvalid_1's l2: 2.24711\n",
            "[340]\ttraining's l2: 0.823422\tvalid_1's l2: 2.24327\n",
            "[360]\ttraining's l2: 0.813025\tvalid_1's l2: 2.24025\n",
            "[380]\ttraining's l2: 0.802515\tvalid_1's l2: 2.23725\n",
            "[400]\ttraining's l2: 0.792234\tvalid_1's l2: 2.23183\n",
            "[420]\ttraining's l2: 0.783737\tvalid_1's l2: 2.23153\n",
            "Early stopping, best iteration is:\n",
            "[404]\ttraining's l2: 0.790241\tvalid_1's l2: 2.23054\n",
            "best_score defaultdict(<class 'dict'>, {'training': {'l2': 0.7902408721955384}, 'valid_1': {'l2': 2.230543061799706}})\n",
            "train 3405141 valid 851285\n",
            "training LGB:\n",
            "Training until validation scores don't improve for 20 rounds.\n",
            "[20]\ttraining's l2: 2.52532\tvalid_1's l2: 2.64192\n",
            "[40]\ttraining's l2: 1.73719\tvalid_1's l2: 1.92459\n",
            "[60]\ttraining's l2: 1.46382\tvalid_1's l2: 1.78026\n",
            "[80]\ttraining's l2: 1.31935\tvalid_1's l2: 1.73796\n",
            "[100]\ttraining's l2: 1.22328\tvalid_1's l2: 1.72274\n",
            "[120]\ttraining's l2: 1.15789\tvalid_1's l2: 1.71849\n",
            "Early stopping, best iteration is:\n",
            "[110]\ttraining's l2: 1.18812\tvalid_1's l2: 1.71688\n",
            "best_score defaultdict(<class 'dict'>, {'training': {'l2': 1.18812166831687}, 'valid_1': {'l2': 1.7168782061691537}})\n"
          ],
          "name": "stdout"
        },
        {
          "output_type": "stream",
          "text": [
            "/usr/local/lib/python3.7/dist-packages/seaborn/distributions.py:2557: FutureWarning: `distplot` is a deprecated function and will be removed in a future version. Please adapt your code to use either `displot` (a figure-level function with similar flexibility) or `histplot` (an axes-level function for histograms).\n",
            "  warnings.warn(msg, FutureWarning)\n"
          ],
          "name": "stderr"
        },
        {
          "output_type": "execute_result",
          "data": {
            "text/plain": [
              "119"
            ]
          },
          "metadata": {
            "tags": []
          },
          "execution_count": 36
        },
        {
          "output_type": "display_data",
          "data": {
            "image/png": "[encoded data removed]",
            "text/plain": [
              "<Figure size 432x288 with 1 Axes>"
            ]
          },
          "metadata": {
            "tags": [],
            "needs_background": "light"
          }
        }
      ]
    },
    {
      "cell_type": "code",
      "metadata": {
        "id": "3iWMKFICI6MU",
        "colab": {
          "base_uri": "https://localhost:8080/",
          "height": 1000
        },
        "outputId": "ada91b41-1073-4a7a-edc9-30110390ec74"
      },
      "source": [
        "target_meter = 2\n",
        "X_train, y_train = create_X_y(train_df, target_meter=target_meter)\n",
        "y_valid_pred_total = np.zeros(X_train.shape[0])\n",
        "\n",
        "gc.collect()\n",
        "print('target_meter', target_meter, X_train.shape)\n",
        "\n",
        "cat_features = [X_train.columns.get_loc(cat_col) for cat_col in category_cols]\n",
        "print('cat_features', cat_features)\n",
        "\n",
        "models2 = []\n",
        "for train_idx, valid_idx in kf.split(X_train, y_train):\n",
        "    train_data = X_train.iloc[train_idx,:], y_train[train_idx]\n",
        "    valid_data = X_train.iloc[valid_idx,:], y_train[valid_idx]\n",
        "\n",
        "    print('train', len(train_idx), 'valid', len(valid_idx))\n",
        "#     model, y_pred_valid, log = fit_cb(train_data, valid_data, cat_features=cat_features, devices=[0,])\n",
        "    model, y_pred_valid, log = fit_lgbm(train_data, valid_data, cat_features=category_cols,\n",
        "                                        num_rounds=1000, lr=0.05, bf=0.8)\n",
        "    y_valid_pred_total[valid_idx] = y_pred_valid\n",
        "    models2.append(model)\n",
        "    gc.collect()\n",
        "    if debug:\n",
        "        break\n",
        "\n",
        "sns.distplot(y_train)\n",
        "del X_train, y_train\n",
        "gc.collect()"
      ],
      "execution_count": null,
      "outputs": [
        {
          "output_type": "stream",
          "text": [
            "target_meter 2 (2741886, 70)\n",
            "cat_features [67, 68, 69]\n",
            "train 2193508 valid 548378\n",
            "training LGB:\n"
          ],
          "name": "stdout"
        },
        {
          "output_type": "stream",
          "text": [
            "/usr/local/lib/python3.7/dist-packages/lightgbm/basic.py:1205: UserWarning: Using categorical_feature in Dataset.\n",
            "  warnings.warn('Using categorical_feature in Dataset.')\n",
            "/usr/local/lib/python3.7/dist-packages/lightgbm/basic.py:762: UserWarning: categorical_feature in param dict is overridden.\n",
            "  warnings.warn('categorical_feature in param dict is overridden.')\n"
          ],
          "name": "stderr"
        },
        {
          "output_type": "stream",
          "text": [
            "Training until validation scores don't improve for 20 rounds.\n",
            "[20]\ttraining's l2: 2.67267\tvalid_1's l2: 3.28666\n",
            "[40]\ttraining's l2: 1.90426\tvalid_1's l2: 2.65313\n",
            "[60]\ttraining's l2: 1.6766\tvalid_1's l2: 2.56118\n",
            "[80]\ttraining's l2: 1.55827\tvalid_1's l2: 2.51954\n",
            "[100]\ttraining's l2: 1.47847\tvalid_1's l2: 2.5092\n",
            "[120]\ttraining's l2: 1.41798\tvalid_1's l2: 2.51272\n",
            "Early stopping, best iteration is:\n",
            "[102]\ttraining's l2: 1.472\tvalid_1's l2: 2.50626\n",
            "best_score defaultdict(<class 'dict'>, {'training': {'l2': 1.4719990585307512}, 'valid_1': {'l2': 2.5062590967800973}})\n",
            "train 2193509 valid 548377\n",
            "training LGB:\n",
            "Training until validation scores don't improve for 20 rounds.\n",
            "[20]\ttraining's l2: 2.62722\tvalid_1's l2: 2.97779\n",
            "[40]\ttraining's l2: 1.85517\tvalid_1's l2: 2.46047\n",
            "[60]\ttraining's l2: 1.63359\tvalid_1's l2: 2.37706\n",
            "[80]\ttraining's l2: 1.52403\tvalid_1's l2: 2.33734\n",
            "[100]\ttraining's l2: 1.44683\tvalid_1's l2: 2.30424\n",
            "[120]\ttraining's l2: 1.39368\tvalid_1's l2: 2.28545\n",
            "[140]\ttraining's l2: 1.34472\tvalid_1's l2: 2.2655\n",
            "[160]\ttraining's l2: 1.30193\tvalid_1's l2: 2.25517\n",
            "[180]\ttraining's l2: 1.26434\tvalid_1's l2: 2.23522\n",
            "[200]\ttraining's l2: 1.23141\tvalid_1's l2: 2.22839\n",
            "[220]\ttraining's l2: 1.20492\tvalid_1's l2: 2.21576\n",
            "[240]\ttraining's l2: 1.18078\tvalid_1's l2: 2.19551\n",
            "[260]\ttraining's l2: 1.16217\tvalid_1's l2: 2.20113\n",
            "Early stopping, best iteration is:\n",
            "[240]\ttraining's l2: 1.18078\tvalid_1's l2: 2.19551\n",
            "best_score defaultdict(<class 'dict'>, {'training': {'l2': 1.1807796804310695}, 'valid_1': {'l2': 2.1955131996250556}})\n",
            "train 2193509 valid 548377\n",
            "training LGB:\n",
            "Training until validation scores don't improve for 20 rounds.\n",
            "[20]\ttraining's l2: 2.67104\tvalid_1's l2: 3.37257\n",
            "[40]\ttraining's l2: 1.9337\tvalid_1's l2: 2.44443\n",
            "[60]\ttraining's l2: 1.69306\tvalid_1's l2: 2.16675\n",
            "[80]\ttraining's l2: 1.56849\tvalid_1's l2: 2.06167\n",
            "[100]\ttraining's l2: 1.47674\tvalid_1's l2: 2.02544\n",
            "[120]\ttraining's l2: 1.41324\tvalid_1's l2: 1.99998\n",
            "[140]\ttraining's l2: 1.35868\tvalid_1's l2: 1.9894\n",
            "[160]\ttraining's l2: 1.31568\tvalid_1's l2: 1.97837\n",
            "[180]\ttraining's l2: 1.27572\tvalid_1's l2: 1.98046\n",
            "Early stopping, best iteration is:\n",
            "[160]\ttraining's l2: 1.31568\tvalid_1's l2: 1.97837\n",
            "best_score defaultdict(<class 'dict'>, {'training': {'l2': 1.3156766135658038}, 'valid_1': {'l2': 1.9783705508968514}})\n",
            "train 2193509 valid 548377\n",
            "training LGB:\n",
            "Training until validation scores don't improve for 20 rounds.\n",
            "[20]\ttraining's l2: 2.58118\tvalid_1's l2: 3.39106\n",
            "[40]\ttraining's l2: 1.8066\tvalid_1's l2: 2.74812\n",
            "[60]\ttraining's l2: 1.57309\tvalid_1's l2: 2.62535\n",
            "[80]\ttraining's l2: 1.46264\tvalid_1's l2: 2.59999\n",
            "[100]\ttraining's l2: 1.37861\tvalid_1's l2: 2.56383\n",
            "[120]\ttraining's l2: 1.32462\tvalid_1's l2: 2.53408\n",
            "[140]\ttraining's l2: 1.28213\tvalid_1's l2: 2.51723\n",
            "[160]\ttraining's l2: 1.24525\tvalid_1's l2: 2.51026\n",
            "[180]\ttraining's l2: 1.2112\tvalid_1's l2: 2.49656\n",
            "[200]\ttraining's l2: 1.18685\tvalid_1's l2: 2.48767\n",
            "[220]\ttraining's l2: 1.16057\tvalid_1's l2: 2.47667\n",
            "[240]\ttraining's l2: 1.13864\tvalid_1's l2: 2.47164\n",
            "[260]\ttraining's l2: 1.11768\tvalid_1's l2: 2.47007\n",
            "[280]\ttraining's l2: 1.09976\tvalid_1's l2: 2.46357\n",
            "[300]\ttraining's l2: 1.08485\tvalid_1's l2: 2.45692\n",
            "[320]\ttraining's l2: 1.06965\tvalid_1's l2: 2.45666\n",
            "Early stopping, best iteration is:\n",
            "[309]\ttraining's l2: 1.0789\tvalid_1's l2: 2.45459\n",
            "best_score defaultdict(<class 'dict'>, {'training': {'l2': 1.0788989689335873}, 'valid_1': {'l2': 2.454592953756043}})\n",
            "train 2193509 valid 548377\n",
            "training LGB:\n",
            "Training until validation scores don't improve for 20 rounds.\n",
            "[20]\ttraining's l2: 2.77896\tvalid_1's l2: 2.55238\n",
            "[40]\ttraining's l2: 1.97267\tvalid_1's l2: 2.11696\n",
            "[60]\ttraining's l2: 1.71057\tvalid_1's l2: 2.11036\n",
            "Early stopping, best iteration is:\n",
            "[46]\ttraining's l2: 1.87027\tvalid_1's l2: 2.08808\n",
            "best_score defaultdict(<class 'dict'>, {'training': {'l2': 1.8702727475422103}, 'valid_1': {'l2': 2.0880838493113334}})\n"
          ],
          "name": "stdout"
        },
        {
          "output_type": "stream",
          "text": [
            "/usr/local/lib/python3.7/dist-packages/seaborn/distributions.py:2557: FutureWarning: `distplot` is a deprecated function and will be removed in a future version. Please adapt your code to use either `displot` (a figure-level function with similar flexibility) or `histplot` (an axes-level function for histograms).\n",
            "  warnings.warn(msg, FutureWarning)\n"
          ],
          "name": "stderr"
        },
        {
          "output_type": "execute_result",
          "data": {
            "text/plain": [
              "130"
            ]
          },
          "metadata": {
            "tags": []
          },
          "execution_count": 37
        },
        {
          "output_type": "display_data",
          "data": {
            "image/png": "[encoded data removed]",
            "text/plain": [
              "<Figure size 432x288 with 1 Axes>"
            ]
          },
          "metadata": {
            "tags": [],
            "needs_background": "light"
          }
        }
      ]
    },
    {
      "cell_type": "code",
      "metadata": {
        "id": "17riTX0RLjkj",
        "colab": {
          "base_uri": "https://localhost:8080/",
          "height": 1000
        },
        "outputId": "1d70e23e-50b7-4bb9-b5f2-ceb49a82e8a0"
      },
      "source": [
        "target_meter = 3\n",
        "X_train, y_train = create_X_y(train_df, target_meter=target_meter)\n",
        "y_valid_pred_total = np.zeros(X_train.shape[0])\n",
        "\n",
        "gc.collect()\n",
        "print('target_meter', target_meter, X_train.shape)\n",
        "\n",
        "cat_features = [X_train.columns.get_loc(cat_col) for cat_col in category_cols]\n",
        "print('cat_features', cat_features)\n",
        "\n",
        "models3 = []\n",
        "for train_idx, valid_idx in kf.split(X_train, y_train):\n",
        "    train_data = X_train.iloc[train_idx,:], y_train[train_idx]\n",
        "    valid_data = X_train.iloc[valid_idx,:], y_train[valid_idx]\n",
        "\n",
        "    print('train', len(train_idx), 'valid', len(valid_idx))\n",
        "#     model, y_pred_valid, log = fit_cb(train_data, valid_data, cat_features=cat_features, devices=[0,])\n",
        "    model, y_pred_valid, log = fit_lgbm(train_data, valid_data, cat_features=category_cols, num_rounds=1000,\n",
        "                                       lr=0.03, bf=0.9)\n",
        "    y_valid_pred_total[valid_idx] = y_pred_valid\n",
        "    models3.append(model)\n",
        "    gc.collect()\n",
        "    if debug:\n",
        "        break\n",
        "\n",
        "sns.distplot(y_train)\n",
        "del X_train, y_train\n",
        "gc.collect()"
      ],
      "execution_count": null,
      "outputs": [
        {
          "output_type": "stream",
          "text": [
            "target_meter 3 (1290364, 70)\n",
            "cat_features [67, 68, 69]\n",
            "train 1032291 valid 258073\n",
            "training LGB:\n"
          ],
          "name": "stdout"
        },
        {
          "output_type": "stream",
          "text": [
            "/usr/local/lib/python3.7/dist-packages/lightgbm/basic.py:1205: UserWarning: Using categorical_feature in Dataset.\n",
            "  warnings.warn('Using categorical_feature in Dataset.')\n",
            "/usr/local/lib/python3.7/dist-packages/lightgbm/basic.py:762: UserWarning: categorical_feature in param dict is overridden.\n",
            "  warnings.warn('categorical_feature in param dict is overridden.')\n"
          ],
          "name": "stderr"
        },
        {
          "output_type": "stream",
          "text": [
            "Training until validation scores don't improve for 20 rounds.\n",
            "[20]\ttraining's l2: 3.5648\tvalid_1's l2: 4.41143\n",
            "[40]\ttraining's l2: 2.53188\tvalid_1's l2: 3.26137\n",
            "[60]\ttraining's l2: 2.15261\tvalid_1's l2: 2.77803\n",
            "[80]\ttraining's l2: 1.98551\tvalid_1's l2: 2.55105\n",
            "[100]\ttraining's l2: 1.88763\tvalid_1's l2: 2.45015\n",
            "[120]\ttraining's l2: 1.82041\tvalid_1's l2: 2.38152\n",
            "[140]\ttraining's l2: 1.75991\tvalid_1's l2: 2.3524\n",
            "[160]\ttraining's l2: 1.71104\tvalid_1's l2: 2.33429\n",
            "[180]\ttraining's l2: 1.66327\tvalid_1's l2: 2.32598\n",
            "[200]\ttraining's l2: 1.62881\tvalid_1's l2: 2.32071\n",
            "[220]\ttraining's l2: 1.59348\tvalid_1's l2: 2.31949\n",
            "Early stopping, best iteration is:\n",
            "[219]\ttraining's l2: 1.59525\tvalid_1's l2: 2.31916\n",
            "best_score defaultdict(<class 'dict'>, {'training': {'l2': 1.595254295425277}, 'valid_1': {'l2': 2.319158385246595}})\n",
            "train 1032291 valid 258073\n",
            "training LGB:\n",
            "Training until validation scores don't improve for 20 rounds.\n",
            "[20]\ttraining's l2: 3.53297\tvalid_1's l2: 3.71053\n",
            "[40]\ttraining's l2: 2.41745\tvalid_1's l2: 2.95303\n",
            "[60]\ttraining's l2: 2.01813\tvalid_1's l2: 2.74266\n",
            "[80]\ttraining's l2: 1.8501\tvalid_1's l2: 2.67957\n",
            "[100]\ttraining's l2: 1.75013\tvalid_1's l2: 2.65688\n",
            "[120]\ttraining's l2: 1.68922\tvalid_1's l2: 2.64101\n",
            "[140]\ttraining's l2: 1.63873\tvalid_1's l2: 2.62234\n",
            "[160]\ttraining's l2: 1.59135\tvalid_1's l2: 2.61471\n",
            "[180]\ttraining's l2: 1.55327\tvalid_1's l2: 2.60825\n",
            "[200]\ttraining's l2: 1.52491\tvalid_1's l2: 2.60043\n",
            "[220]\ttraining's l2: 1.49988\tvalid_1's l2: 2.59395\n",
            "[240]\ttraining's l2: 1.47718\tvalid_1's l2: 2.58582\n",
            "[260]\ttraining's l2: 1.45875\tvalid_1's l2: 2.58008\n",
            "[280]\ttraining's l2: 1.4403\tvalid_1's l2: 2.57789\n",
            "[300]\ttraining's l2: 1.42122\tvalid_1's l2: 2.57137\n",
            "[320]\ttraining's l2: 1.40552\tvalid_1's l2: 2.57015\n",
            "[340]\ttraining's l2: 1.38983\tvalid_1's l2: 2.56748\n",
            "[360]\ttraining's l2: 1.37728\tvalid_1's l2: 2.56575\n",
            "[380]\ttraining's l2: 1.36553\tvalid_1's l2: 2.56397\n",
            "[400]\ttraining's l2: 1.35473\tvalid_1's l2: 2.56296\n",
            "[420]\ttraining's l2: 1.33973\tvalid_1's l2: 2.5598\n",
            "[440]\ttraining's l2: 1.32904\tvalid_1's l2: 2.55857\n",
            "[460]\ttraining's l2: 1.31725\tvalid_1's l2: 2.556\n",
            "[480]\ttraining's l2: 1.30808\tvalid_1's l2: 2.55486\n",
            "[500]\ttraining's l2: 1.29637\tvalid_1's l2: 2.55233\n",
            "[520]\ttraining's l2: 1.28708\tvalid_1's l2: 2.54958\n",
            "[540]\ttraining's l2: 1.27852\tvalid_1's l2: 2.54734\n",
            "[560]\ttraining's l2: 1.26683\tvalid_1's l2: 2.54748\n",
            "Early stopping, best iteration is:\n",
            "[554]\ttraining's l2: 1.26988\tvalid_1's l2: 2.54633\n",
            "best_score defaultdict(<class 'dict'>, {'training': {'l2': 1.269876212966754}, 'valid_1': {'l2': 2.5463267924370183}})\n",
            "train 1032291 valid 258073\n",
            "training LGB:\n",
            "Training until validation scores don't improve for 20 rounds.\n",
            "[20]\ttraining's l2: 3.7175\tvalid_1's l2: 3.58831\n",
            "[40]\ttraining's l2: 2.68324\tvalid_1's l2: 2.33614\n",
            "[60]\ttraining's l2: 2.28202\tvalid_1's l2: 1.8907\n",
            "[80]\ttraining's l2: 2.10241\tvalid_1's l2: 1.71001\n",
            "[100]\ttraining's l2: 1.99553\tvalid_1's l2: 1.61639\n",
            "[120]\ttraining's l2: 1.92237\tvalid_1's l2: 1.57684\n",
            "[140]\ttraining's l2: 1.86285\tvalid_1's l2: 1.55429\n",
            "[160]\ttraining's l2: 1.8171\tvalid_1's l2: 1.54763\n",
            "[180]\ttraining's l2: 1.77203\tvalid_1's l2: 1.53481\n",
            "[200]\ttraining's l2: 1.73985\tvalid_1's l2: 1.53045\n",
            "[220]\ttraining's l2: 1.70789\tvalid_1's l2: 1.52407\n",
            "[240]\ttraining's l2: 1.68002\tvalid_1's l2: 1.51387\n",
            "[260]\ttraining's l2: 1.6553\tvalid_1's l2: 1.51066\n",
            "[280]\ttraining's l2: 1.63435\tvalid_1's l2: 1.50844\n",
            "[300]\ttraining's l2: 1.61399\tvalid_1's l2: 1.50505\n",
            "[320]\ttraining's l2: 1.59485\tvalid_1's l2: 1.50164\n",
            "[340]\ttraining's l2: 1.57494\tvalid_1's l2: 1.49819\n",
            "Early stopping, best iteration is:\n",
            "[338]\ttraining's l2: 1.57637\tvalid_1's l2: 1.49803\n",
            "best_score defaultdict(<class 'dict'>, {'training': {'l2': 1.5763691920958605}, 'valid_1': {'l2': 1.4980338577884915}})\n",
            "train 1032291 valid 258073\n",
            "training LGB:\n",
            "Training until validation scores don't improve for 20 rounds.\n",
            "[20]\ttraining's l2: 3.52589\tvalid_1's l2: 4.12991\n",
            "[40]\ttraining's l2: 2.45815\tvalid_1's l2: 3.10059\n",
            "[60]\ttraining's l2: 2.06007\tvalid_1's l2: 2.76338\n",
            "[80]\ttraining's l2: 1.88597\tvalid_1's l2: 2.62628\n",
            "[100]\ttraining's l2: 1.79193\tvalid_1's l2: 2.56411\n",
            "[120]\ttraining's l2: 1.73136\tvalid_1's l2: 2.54194\n",
            "[140]\ttraining's l2: 1.67854\tvalid_1's l2: 2.5272\n",
            "[160]\ttraining's l2: 1.63454\tvalid_1's l2: 2.50917\n",
            "[180]\ttraining's l2: 1.59573\tvalid_1's l2: 2.4965\n",
            "[200]\ttraining's l2: 1.56568\tvalid_1's l2: 2.49071\n",
            "[220]\ttraining's l2: 1.53643\tvalid_1's l2: 2.48313\n",
            "[240]\ttraining's l2: 1.5132\tvalid_1's l2: 2.47956\n",
            "[260]\ttraining's l2: 1.49094\tvalid_1's l2: 2.47439\n",
            "[280]\ttraining's l2: 1.47133\tvalid_1's l2: 2.47142\n",
            "[300]\ttraining's l2: 1.453\tvalid_1's l2: 2.46515\n",
            "[320]\ttraining's l2: 1.43688\tvalid_1's l2: 2.46471\n",
            "[340]\ttraining's l2: 1.42181\tvalid_1's l2: 2.46121\n",
            "[360]\ttraining's l2: 1.40647\tvalid_1's l2: 2.45842\n",
            "[380]\ttraining's l2: 1.39289\tvalid_1's l2: 2.45771\n",
            "[400]\ttraining's l2: 1.37863\tvalid_1's l2: 2.45581\n",
            "[420]\ttraining's l2: 1.36497\tvalid_1's l2: 2.45498\n",
            "Early stopping, best iteration is:\n",
            "[418]\ttraining's l2: 1.3665\tvalid_1's l2: 2.45485\n",
            "best_score defaultdict(<class 'dict'>, {'training': {'l2': 1.3664965573529435}, 'valid_1': {'l2': 2.4548533967520747}})\n",
            "train 1032292 valid 258072\n",
            "training LGB:\n",
            "Training until validation scores don't improve for 20 rounds.\n",
            "[20]\ttraining's l2: 3.47793\tvalid_1's l2: 4.12034\n",
            "[40]\ttraining's l2: 2.38898\tvalid_1's l2: 3.23915\n",
            "[60]\ttraining's l2: 1.98896\tvalid_1's l2: 2.94967\n",
            "[80]\ttraining's l2: 1.81514\tvalid_1's l2: 2.85435\n",
            "[100]\ttraining's l2: 1.71456\tvalid_1's l2: 2.83127\n",
            "[120]\ttraining's l2: 1.64588\tvalid_1's l2: 2.82471\n",
            "[140]\ttraining's l2: 1.58854\tvalid_1's l2: 2.82355\n",
            "Early stopping, best iteration is:\n",
            "[130]\ttraining's l2: 1.61552\tvalid_1's l2: 2.82168\n",
            "best_score defaultdict(<class 'dict'>, {'training': {'l2': 1.615516765715375}, 'valid_1': {'l2': 2.8216836077962957}})\n"
          ],
          "name": "stdout"
        },
        {
          "output_type": "stream",
          "text": [
            "/usr/local/lib/python3.7/dist-packages/seaborn/distributions.py:2557: FutureWarning: `distplot` is a deprecated function and will be removed in a future version. Please adapt your code to use either `displot` (a figure-level function with similar flexibility) or `histplot` (an axes-level function for histograms).\n",
            "  warnings.warn(msg, FutureWarning)\n"
          ],
          "name": "stderr"
        },
        {
          "output_type": "execute_result",
          "data": {
            "text/plain": [
              "220"
            ]
          },
          "metadata": {
            "tags": []
          },
          "execution_count": 38
        },
        {
          "output_type": "display_data",
          "data": {
            "image/png": "[encoded data removed]",
            "text/plain": [
              "<Figure size 432x288 with 1 Axes>"
            ]
          },
          "metadata": {
            "tags": [],
            "needs_background": "light"
          }
        }
      ]
    },
    {
      "cell_type": "code",
      "metadata": {
        "id": "z8BM1WcIPwsU"
      },
      "source": [
        "# Original code from https://www.kaggle.com/gemartin/load-data-reduce-memory-usage by @gemartin\n",
        "# Modified to support timestamp type, categorical type\n",
        "# Modified to add option to use float16 or not. feather format does not support float16.\n",
        "from pandas.api.types import is_datetime64_any_dtype as is_datetime\n",
        "from pandas.api.types import is_categorical_dtype\n",
        "\n",
        "def reduce_mem_usage(df, use_float16=False):\n",
        "    \"\"\" iterate through all the columns of a dataframe and modify the data type\n",
        "        to reduce memory usage.        \n",
        "    \"\"\"\n",
        "    start_mem = df.memory_usage().sum() / 1024**2\n",
        "    print('Memory usage of dataframe is {:.2f} MB'.format(start_mem))\n",
        "    \n",
        "    for col in df.columns:\n",
        "        if is_datetime(df[col]) or is_categorical_dtype(df[col]):\n",
        "            # skip datetime type or categorical type\n",
        "            continue\n",
        "        col_type = df[col].dtype\n",
        "        \n",
        "        if col_type != object:\n",
        "            c_min = df[col].min()\n",
        "            c_max = df[col].max()\n",
        "            if str(col_type)[:3] == 'int':\n",
        "                if c_min > np.iinfo(np.int8).min and c_max < np.iinfo(np.int8).max:\n",
        "                    df[col] = df[col].astype(np.int8)\n",
        "                elif c_min > np.iinfo(np.int16).min and c_max < np.iinfo(np.int16).max:\n",
        "                    df[col] = df[col].astype(np.int16)\n",
        "                elif c_min > np.iinfo(np.int32).min and c_max < np.iinfo(np.int32).max:\n",
        "                    df[col] = df[col].astype(np.int32)\n",
        "                elif c_min > np.iinfo(np.int64).min and c_max < np.iinfo(np.int64).max:\n",
        "                    df[col] = df[col].astype(np.int64)  \n",
        "            else:\n",
        "                if use_float16 and c_min > np.finfo(np.float16).min and c_max < np.finfo(np.float16).max:\n",
        "                    df[col] = df[col].astype(np.float16)\n",
        "                elif c_min > np.finfo(np.float32).min and c_max < np.finfo(np.float32).max:\n",
        "                    df[col] = df[col].astype(np.float32)\n",
        "                else:\n",
        "                    df[col] = df[col].astype(np.float64)\n",
        "        else:\n",
        "            df[col] = df[col].astype('category')\n",
        "\n",
        "    end_mem = df.memory_usage().sum() / 1024**2\n",
        "    print('Memory usage after optimization is: {:.2f} MB'.format(end_mem))\n",
        "    print('Decreased by {:.1f}%'.format(100 * (start_mem - end_mem) / start_mem))\n",
        "    \n",
        "    return df"
      ],
      "execution_count": null,
      "outputs": []
    },
    {
      "cell_type": "code",
      "metadata": {
        "id": "9FYEnprvNGbt",
        "colab": {
          "base_uri": "https://localhost:8080/"
        },
        "outputId": "9691aa02-359a-4b55-bf7f-20b7e0595b97"
      },
      "source": [
        "print('loading...')\n",
        "test_df = pd.read_csv(root + '/test_data.csv')\n",
        "weather_test_df = pd.read_csv(root + '/test_weather.csv')\n",
        "\n",
        "print('preprocessing building...')\n",
        "test_df.columns = ['timestamp', 'farm_id', 'ingredient_type', 'id']\n",
        "test_df['timestamp'] = pd.to_datetime(test_df['timestamp'])\n",
        "weather_test_df['timestamp'] = pd.to_datetime(weather_test_df['timestamp'])\n",
        "test_df['date'] = test_df['timestamp'].dt.date\n",
        "preprocess(test_df)\n",
        "test_df['farm_mean'] = test_df['farm_id'].map(farm_mean)\n",
        "test_df['farm_median'] = test_df['farm_id'].map(farm_median)\n",
        "test_df['farm_min'] = test_df['farm_id'].map(farm_min)\n",
        "test_df['farm_max'] = test_df['farm_id'].map(farm_max)\n",
        "test_df['farm_std'] = test_df['farm_id'].map(farm_std)\n",
        "\n",
        "print('preprocessing weather...')\n",
        "weather_test_df[\"deidentified_location\"] = le.fit_transform(weather_test_df[\"deidentified_location\"])\n",
        "weather_test_df = weather_test_df.groupby('deidentified_location').apply(lambda group: group.interpolate(limit_direction='both'))\n",
        "weather_test_df.groupby('deidentified_location').apply(lambda group: group.isna().sum())\n",
        "\n",
        "add_lag_feature(weather_test_df, window=3)\n",
        "add_lag_feature(weather_test_df, window=72)\n",
        "\n",
        "print('reduce mem usage...')\n",
        "reduce_mem_usage(test_df, use_float16=True)\n",
        "reduce_mem_usage(weather_test_df, use_float16=True)\n",
        "\n",
        "gc.collect()"
      ],
      "execution_count": null,
      "outputs": [
        {
          "output_type": "stream",
          "text": [
            "loading...\n",
            "preprocessing building...\n",
            "preprocessing weather...\n",
            "reduce mem usage...\n",
            "Memory usage of dataframe is 1630.40 MB\n",
            "Memory usage after optimization is: 616.43 MB\n",
            "Decreased by 62.2%\n",
            "Memory usage of dataframe is 24.36 MB\n",
            "Memory usage after optimization is: 17.87 MB\n",
            "Decreased by 26.6%\n"
          ],
          "name": "stdout"
        },
        {
          "output_type": "execute_result",
          "data": {
            "text/plain": [
              "6766"
            ]
          },
          "metadata": {
            "tags": []
          },
          "execution_count": 46
        }
      ]
    },
    {
      "cell_type": "code",
      "metadata": {
        "id": "afhXaBZmQKpi",
        "colab": {
          "base_uri": "https://localhost:8080/"
        },
        "outputId": "23a8677c-befd-494e-c7b2-9da28d99ff5b"
      },
      "source": [
        "test_df.dtypes"
      ],
      "execution_count": null,
      "outputs": [
        {
          "output_type": "execute_result",
          "data": {
            "text/plain": [
              "timestamp          object\n",
              "farm_id            object\n",
              "ingredient_type    object\n",
              "id                  int64\n",
              "dtype: object"
            ]
          },
          "metadata": {
            "tags": []
          },
          "execution_count": 44
        }
      ]
    },
    {
      "cell_type": "code",
      "metadata": {
        "id": "sbdtOcuZPynb"
      },
      "source": [
        "def create_X(test_df, target_meter):\n",
        "    target_test_df = test_df[test_df['ingredient_type'] == target_meter]\n",
        "    target_test_df = target_test_df.merge(farm_meta_df, on='farm_id', how='left')\n",
        "    target_test_df = target_test_df.merge(weather_test_df, on=['deidentified_location', 'timestamp'], how='left')\n",
        "    X_test = target_test_df[feature_cols + category_cols]\n",
        "    return X_test"
      ],
      "execution_count": null,
      "outputs": []
    },
    {
      "cell_type": "code",
      "metadata": {
        "id": "AVJt3UseRJpH"
      },
      "source": [
        "def pred(X_test, models, batch_size=1000000):\n",
        "    iterations = (X_test.shape[0] + batch_size -1) // batch_size\n",
        "    print('iterations', iterations)\n",
        "\n",
        "    y_test_pred_total = np.zeros(X_test.shape[0])\n",
        "    for i, model in enumerate(models):\n",
        "        print(f'predicting {i}-th model')\n",
        "        for k in tqdm(range(iterations)):\n",
        "            y_pred_test = model.predict(X_test[k*batch_size:(k+1)*batch_size], num_iteration=model.best_iteration)\n",
        "            y_test_pred_total[k*batch_size:(k+1)*batch_size] += y_pred_test\n",
        "\n",
        "    y_test_pred_total /= len(models)\n",
        "    return y_test_pred_total"
      ],
      "execution_count": null,
      "outputs": []
    },
    {
      "cell_type": "code",
      "metadata": {
        "id": "GN6BP4yGRTdf"
      },
      "source": [
        ""
      ],
      "execution_count": null,
      "outputs": []
    },
    {
      "cell_type": "code",
      "metadata": {
        "id": "L08bl7K7RiJe"
      },
      "source": [
        "#le = LabelEncoder()\n",
        "# farm_meta_df['deidentified_location'] = le.fit_transform(farm_meta_df['deidentified_location'])\n",
        "# farm_meta_df['farm_id'] = le.fit_transform(farm_meta_df['farm_id'])"
      ],
      "execution_count": null,
      "outputs": []
    },
    {
      "cell_type": "code",
      "metadata": {
        "id": "p5VpRjPJRiJp"
      },
      "source": [
        "test_df['farm_id'] = le.fit_transform(test_df['farm_id'])\n",
        "test_df['ingredient_type'] = le.fit_transform(test_df['ingredient_type'])"
      ],
      "execution_count": null,
      "outputs": []
    },
    {
      "cell_type": "code",
      "metadata": {
        "id": "roIRXMw2RpdS",
        "colab": {
          "base_uri": "https://localhost:8080/",
          "height": 540
        },
        "outputId": "ad413713-2937-4561-9fb0-a6834490db82"
      },
      "source": [
        "%%time\n",
        "X_test = create_X(test_df, target_meter=0)\n",
        "gc.collect()\n",
        "\n",
        "y_test0 = pred(X_test, models0)\n",
        "\n",
        "sns.distplot(y_test0)\n",
        "\n",
        "del X_test\n",
        "gc.collect()"
      ],
      "execution_count": null,
      "outputs": [
        {
          "output_type": "stream",
          "text": [
            "\r  0%|          | 0/13 [00:00<?, ?it/s]"
          ],
          "name": "stderr"
        },
        {
          "output_type": "stream",
          "text": [
            "iterations 13\n",
            "predicting 0-th model\n"
          ],
          "name": "stdout"
        },
        {
          "output_type": "stream",
          "text": [
            "100%|██████████| 13/13 [00:49<00:00,  3.81s/it]\n",
            "  0%|          | 0/13 [00:00<?, ?it/s]"
          ],
          "name": "stderr"
        },
        {
          "output_type": "stream",
          "text": [
            "predicting 1-th model\n"
          ],
          "name": "stdout"
        },
        {
          "output_type": "stream",
          "text": [
            "100%|██████████| 13/13 [00:42<00:00,  3.26s/it]\n",
            "  0%|          | 0/13 [00:00<?, ?it/s]"
          ],
          "name": "stderr"
        },
        {
          "output_type": "stream",
          "text": [
            "predicting 2-th model\n"
          ],
          "name": "stdout"
        },
        {
          "output_type": "stream",
          "text": [
            "100%|██████████| 13/13 [01:23<00:00,  6.46s/it]\n",
            "  0%|          | 0/13 [00:00<?, ?it/s]"
          ],
          "name": "stderr"
        },
        {
          "output_type": "stream",
          "text": [
            "predicting 3-th model\n"
          ],
          "name": "stdout"
        },
        {
          "output_type": "stream",
          "text": [
            "100%|██████████| 13/13 [01:08<00:00,  5.29s/it]\n",
            "  0%|          | 0/13 [00:00<?, ?it/s]"
          ],
          "name": "stderr"
        },
        {
          "output_type": "stream",
          "text": [
            "predicting 4-th model\n"
          ],
          "name": "stdout"
        },
        {
          "output_type": "stream",
          "text": [
            "100%|██████████| 13/13 [00:16<00:00,  1.28s/it]\n",
            "/usr/local/lib/python3.7/dist-packages/seaborn/distributions.py:2557: FutureWarning: `distplot` is a deprecated function and will be removed in a future version. Please adapt your code to use either `displot` (a figure-level function with similar flexibility) or `histplot` (an axes-level function for histograms).\n",
            "  warnings.warn(msg, FutureWarning)\n"
          ],
          "name": "stderr"
        },
        {
          "output_type": "stream",
          "text": [
            "CPU times: user 15min 48s, sys: 5.63 s, total: 15min 53s\n",
            "Wall time: 6min\n"
          ],
          "name": "stdout"
        },
        {
          "output_type": "display_data",
          "data": {
            "image/png": "[encoded data removed]",
            "text/plain": [
              "<Figure size 432x288 with 1 Axes>"
            ]
          },
          "metadata": {
            "tags": [],
            "needs_background": "light"
          }
        }
      ]
    },
    {
      "cell_type": "code",
      "metadata": {
        "id": "inmnQ-HBR31C",
        "colab": {
          "base_uri": "https://localhost:8080/",
          "height": 542
        },
        "outputId": "e7a8c177-582e-4041-83ae-b3bec9b71fd2"
      },
      "source": [
        "%%time\n",
        "X_test = create_X(test_df, target_meter=1)\n",
        "gc.collect()\n",
        "\n",
        "y_test1 = pred(X_test, models1)\n",
        "sns.distplot(y_test1)\n",
        "\n",
        "del X_test\n",
        "gc.collect()"
      ],
      "execution_count": null,
      "outputs": [
        {
          "output_type": "stream",
          "text": [
            "\r  0%|          | 0/5 [00:00<?, ?it/s]"
          ],
          "name": "stderr"
        },
        {
          "output_type": "stream",
          "text": [
            "iterations 5\n",
            "predicting 0-th model\n"
          ],
          "name": "stdout"
        },
        {
          "output_type": "stream",
          "text": [
            "100%|██████████| 5/5 [00:22<00:00,  4.42s/it]\n",
            "  0%|          | 0/5 [00:00<?, ?it/s]"
          ],
          "name": "stderr"
        },
        {
          "output_type": "stream",
          "text": [
            "predicting 1-th model\n"
          ],
          "name": "stdout"
        },
        {
          "output_type": "stream",
          "text": [
            "100%|██████████| 5/5 [01:02<00:00, 12.49s/it]\n",
            "  0%|          | 0/5 [00:00<?, ?it/s]"
          ],
          "name": "stderr"
        },
        {
          "output_type": "stream",
          "text": [
            "predicting 2-th model\n"
          ],
          "name": "stdout"
        },
        {
          "output_type": "stream",
          "text": [
            "100%|██████████| 5/5 [00:30<00:00,  6.04s/it]\n",
            "  0%|          | 0/5 [00:00<?, ?it/s]"
          ],
          "name": "stderr"
        },
        {
          "output_type": "stream",
          "text": [
            "predicting 3-th model\n"
          ],
          "name": "stdout"
        },
        {
          "output_type": "stream",
          "text": [
            "100%|██████████| 5/5 [00:46<00:00,  9.34s/it]\n",
            "  0%|          | 0/5 [00:00<?, ?it/s]"
          ],
          "name": "stderr"
        },
        {
          "output_type": "stream",
          "text": [
            "predicting 4-th model\n"
          ],
          "name": "stdout"
        },
        {
          "output_type": "stream",
          "text": [
            "100%|██████████| 5/5 [00:16<00:00,  3.33s/it]\n",
            "/usr/local/lib/python3.7/dist-packages/seaborn/distributions.py:2557: FutureWarning: `distplot` is a deprecated function and will be removed in a future version. Please adapt your code to use either `displot` (a figure-level function with similar flexibility) or `histplot` (an axes-level function for histograms).\n",
            "  warnings.warn(msg, FutureWarning)\n"
          ],
          "name": "stderr"
        },
        {
          "output_type": "stream",
          "text": [
            "CPU times: user 11min 20s, sys: 2.62 s, total: 11min 23s\n",
            "Wall time: 3min 34s\n"
          ],
          "name": "stdout"
        },
        {
          "output_type": "display_data",
          "data": {
            "image/png": "[encoded data removed]",
            "text/plain": [
              "<Figure size 432x288 with 1 Axes>"
            ]
          },
          "metadata": {
            "tags": [],
            "needs_background": "light"
          }
        }
      ]
    },
    {
      "cell_type": "code",
      "metadata": {
        "id": "tt4j34TSUDz2",
        "colab": {
          "base_uri": "https://localhost:8080/",
          "height": 540
        },
        "outputId": "e6956017-f713-434f-926c-db0b1baa6e29"
      },
      "source": [
        "%%time\n",
        "X_test = create_X(test_df, target_meter=2)\n",
        "gc.collect()\n",
        "\n",
        "y_test2 = pred(X_test, models2)\n",
        "sns.distplot(y_test2)\n",
        "\n",
        "del X_test\n",
        "gc.collect()"
      ],
      "execution_count": null,
      "outputs": [
        {
          "output_type": "stream",
          "text": [
            "\r  0%|          | 0/3 [00:00<?, ?it/s]"
          ],
          "name": "stderr"
        },
        {
          "output_type": "stream",
          "text": [
            "iterations 3\n",
            "predicting 0-th model\n"
          ],
          "name": "stdout"
        },
        {
          "output_type": "stream",
          "text": [
            "100%|██████████| 3/3 [00:09<00:00,  3.27s/it]\n",
            "  0%|          | 0/3 [00:00<?, ?it/s]"
          ],
          "name": "stderr"
        },
        {
          "output_type": "stream",
          "text": [
            "predicting 1-th model\n"
          ],
          "name": "stdout"
        },
        {
          "output_type": "stream",
          "text": [
            "100%|██████████| 3/3 [00:17<00:00,  5.93s/it]\n",
            "  0%|          | 0/3 [00:00<?, ?it/s]"
          ],
          "name": "stderr"
        },
        {
          "output_type": "stream",
          "text": [
            "predicting 2-th model\n"
          ],
          "name": "stdout"
        },
        {
          "output_type": "stream",
          "text": [
            "100%|██████████| 3/3 [00:13<00:00,  4.55s/it]\n",
            "  0%|          | 0/3 [00:00<?, ?it/s]"
          ],
          "name": "stderr"
        },
        {
          "output_type": "stream",
          "text": [
            "predicting 3-th model\n"
          ],
          "name": "stdout"
        },
        {
          "output_type": "stream",
          "text": [
            "100%|██████████| 3/3 [00:21<00:00,  7.10s/it]\n",
            "  0%|          | 0/3 [00:00<?, ?it/s]"
          ],
          "name": "stderr"
        },
        {
          "output_type": "stream",
          "text": [
            "predicting 4-th model\n"
          ],
          "name": "stdout"
        },
        {
          "output_type": "stream",
          "text": [
            "100%|██████████| 3/3 [00:08<00:00,  2.94s/it]\n",
            "/usr/local/lib/python3.7/dist-packages/seaborn/distributions.py:2557: FutureWarning: `distplot` is a deprecated function and will be removed in a future version. Please adapt your code to use either `displot` (a figure-level function with similar flexibility) or `histplot` (an axes-level function for histograms).\n",
            "  warnings.warn(msg, FutureWarning)\n"
          ],
          "name": "stderr"
        },
        {
          "output_type": "stream",
          "text": [
            "CPU times: user 4min 20s, sys: 1.38 s, total: 4min 21s\n",
            "Wall time: 1min 34s\n"
          ],
          "name": "stdout"
        },
        {
          "output_type": "display_data",
          "data": {
            "image/png": "[encoded data removed]",
            "text/plain": [
              "<Figure size 432x288 with 1 Axes>"
            ]
          },
          "metadata": {
            "tags": [],
            "needs_background": "light"
          }
        }
      ]
    },
    {
      "cell_type": "code",
      "metadata": {
        "id": "o-L5d4NbU8sX",
        "colab": {
          "base_uri": "https://localhost:8080/",
          "height": 524
        },
        "outputId": "a20eef6d-6243-4e06-bf93-dd0a5dbf72ff"
      },
      "source": [
        "X_test = create_X(test_df, target_meter=3)\n",
        "gc.collect()\n",
        "\n",
        "y_test3 = pred(X_test, models3)\n",
        "sns.distplot(y_test3)\n",
        "\n",
        "del X_test\n",
        "gc.collect()"
      ],
      "execution_count": null,
      "outputs": [
        {
          "output_type": "stream",
          "text": [
            "\r  0%|          | 0/2 [00:00<?, ?it/s]"
          ],
          "name": "stderr"
        },
        {
          "output_type": "stream",
          "text": [
            "iterations 2\n",
            "predicting 0-th model\n"
          ],
          "name": "stdout"
        },
        {
          "output_type": "stream",
          "text": [
            "100%|██████████| 2/2 [00:08<00:00,  4.41s/it]\n",
            "  0%|          | 0/2 [00:00<?, ?it/s]"
          ],
          "name": "stderr"
        },
        {
          "output_type": "stream",
          "text": [
            "predicting 1-th model\n"
          ],
          "name": "stdout"
        },
        {
          "output_type": "stream",
          "text": [
            "100%|██████████| 2/2 [00:19<00:00,  9.85s/it]\n",
            "  0%|          | 0/2 [00:00<?, ?it/s]"
          ],
          "name": "stderr"
        },
        {
          "output_type": "stream",
          "text": [
            "predicting 2-th model\n"
          ],
          "name": "stdout"
        },
        {
          "output_type": "stream",
          "text": [
            "100%|██████████| 2/2 [00:13<00:00,  6.54s/it]\n",
            "  0%|          | 0/2 [00:00<?, ?it/s]"
          ],
          "name": "stderr"
        },
        {
          "output_type": "stream",
          "text": [
            "predicting 3-th model\n"
          ],
          "name": "stdout"
        },
        {
          "output_type": "stream",
          "text": [
            "100%|██████████| 2/2 [00:15<00:00,  7.88s/it]\n",
            "  0%|          | 0/2 [00:00<?, ?it/s]"
          ],
          "name": "stderr"
        },
        {
          "output_type": "stream",
          "text": [
            "predicting 4-th model\n"
          ],
          "name": "stdout"
        },
        {
          "output_type": "stream",
          "text": [
            "100%|██████████| 2/2 [00:05<00:00,  2.81s/it]\n",
            "/usr/local/lib/python3.7/dist-packages/seaborn/distributions.py:2557: FutureWarning: `distplot` is a deprecated function and will be removed in a future version. Please adapt your code to use either `displot` (a figure-level function with similar flexibility) or `histplot` (an axes-level function for histograms).\n",
            "  warnings.warn(msg, FutureWarning)\n"
          ],
          "name": "stderr"
        },
        {
          "output_type": "execute_result",
          "data": {
            "text/plain": [
              "104"
            ]
          },
          "metadata": {
            "tags": []
          },
          "execution_count": 56
        },
        {
          "output_type": "display_data",
          "data": {
            "image/png": "[encoded data removed]",
            "text/plain": [
              "<Figure size 432x288 with 1 Axes>"
            ]
          },
          "metadata": {
            "tags": [],
            "needs_background": "light"
          }
        }
      ]
    },
    {
      "cell_type": "code",
      "metadata": {
        "id": "bGqUD1RoVagG",
        "colab": {
          "base_uri": "https://localhost:8080/",
          "height": 375
        },
        "outputId": "e3011021-7714-424f-fa65-ba5c9ba2e842"
      },
      "source": [
        "sample_submission = pd.read_csv(root + '/sample_submission.csv')"
      ],
      "execution_count": null,
      "outputs": [
        {
          "output_type": "error",
          "ename": "FileNotFoundError",
          "evalue": "ignored",
          "traceback": [
            "\u001b[0;31m---------------------------------------------------------------------------\u001b[0m",
            "\u001b[0;31mFileNotFoundError\u001b[0m                         Traceback (most recent call last)",
            "\u001b[0;32m<ipython-input-57-5281d2644e0b>\u001b[0m in \u001b[0;36m<module>\u001b[0;34m()\u001b[0m\n\u001b[0;32m----> 1\u001b[0;31m \u001b[0msample_submission\u001b[0m \u001b[0;34m=\u001b[0m \u001b[0mpd\u001b[0m\u001b[0;34m.\u001b[0m\u001b[0mread_csv\u001b[0m\u001b[0;34m(\u001b[0m\u001b[0mroot\u001b[0m \u001b[0;34m+\u001b[0m \u001b[0;34m'/sample_submission.csv'\u001b[0m\u001b[0;34m)\u001b[0m\u001b[0;34m\u001b[0m\u001b[0;34m\u001b[0m\u001b[0m\n\u001b[0m",
            "\u001b[0;32m/usr/local/lib/python3.7/dist-packages/pandas/io/parsers.py\u001b[0m in \u001b[0;36mread_csv\u001b[0;34m(filepath_or_buffer, sep, delimiter, header, names, index_col, usecols, squeeze, prefix, mangle_dupe_cols, dtype, engine, converters, true_values, false_values, skipinitialspace, skiprows, skipfooter, nrows, na_values, keep_default_na, na_filter, verbose, skip_blank_lines, parse_dates, infer_datetime_format, keep_date_col, date_parser, dayfirst, cache_dates, iterator, chunksize, compression, thousands, decimal, lineterminator, quotechar, quoting, doublequote, escapechar, comment, encoding, dialect, error_bad_lines, warn_bad_lines, delim_whitespace, low_memory, memory_map, float_precision)\u001b[0m\n\u001b[1;32m    686\u001b[0m     )\n\u001b[1;32m    687\u001b[0m \u001b[0;34m\u001b[0m\u001b[0m\n\u001b[0;32m--> 688\u001b[0;31m     \u001b[0;32mreturn\u001b[0m \u001b[0m_read\u001b[0m\u001b[0;34m(\u001b[0m\u001b[0mfilepath_or_buffer\u001b[0m\u001b[0;34m,\u001b[0m \u001b[0mkwds\u001b[0m\u001b[0;34m)\u001b[0m\u001b[0;34m\u001b[0m\u001b[0;34m\u001b[0m\u001b[0m\n\u001b[0m\u001b[1;32m    689\u001b[0m \u001b[0;34m\u001b[0m\u001b[0m\n\u001b[1;32m    690\u001b[0m \u001b[0;34m\u001b[0m\u001b[0m\n",
            "\u001b[0;32m/usr/local/lib/python3.7/dist-packages/pandas/io/parsers.py\u001b[0m in \u001b[0;36m_read\u001b[0;34m(filepath_or_buffer, kwds)\u001b[0m\n\u001b[1;32m    452\u001b[0m \u001b[0;34m\u001b[0m\u001b[0m\n\u001b[1;32m    453\u001b[0m     \u001b[0;31m# Create the parser.\u001b[0m\u001b[0;34m\u001b[0m\u001b[0;34m\u001b[0m\u001b[0;34m\u001b[0m\u001b[0m\n\u001b[0;32m--> 454\u001b[0;31m     \u001b[0mparser\u001b[0m \u001b[0;34m=\u001b[0m \u001b[0mTextFileReader\u001b[0m\u001b[0;34m(\u001b[0m\u001b[0mfp_or_buf\u001b[0m\u001b[0;34m,\u001b[0m \u001b[0;34m**\u001b[0m\u001b[0mkwds\u001b[0m\u001b[0;34m)\u001b[0m\u001b[0;34m\u001b[0m\u001b[0;34m\u001b[0m\u001b[0m\n\u001b[0m\u001b[1;32m    455\u001b[0m \u001b[0;34m\u001b[0m\u001b[0m\n\u001b[1;32m    456\u001b[0m     \u001b[0;32mif\u001b[0m \u001b[0mchunksize\u001b[0m \u001b[0;32mor\u001b[0m \u001b[0miterator\u001b[0m\u001b[0;34m:\u001b[0m\u001b[0;34m\u001b[0m\u001b[0;34m\u001b[0m\u001b[0m\n",
            "\u001b[0;32m/usr/local/lib/python3.7/dist-packages/pandas/io/parsers.py\u001b[0m in \u001b[0;36m__init__\u001b[0;34m(self, f, engine, **kwds)\u001b[0m\n\u001b[1;32m    946\u001b[0m             \u001b[0mself\u001b[0m\u001b[0;34m.\u001b[0m\u001b[0moptions\u001b[0m\u001b[0;34m[\u001b[0m\u001b[0;34m\"has_index_names\"\u001b[0m\u001b[0;34m]\u001b[0m \u001b[0;34m=\u001b[0m \u001b[0mkwds\u001b[0m\u001b[0;34m[\u001b[0m\u001b[0;34m\"has_index_names\"\u001b[0m\u001b[0;34m]\u001b[0m\u001b[0;34m\u001b[0m\u001b[0;34m\u001b[0m\u001b[0m\n\u001b[1;32m    947\u001b[0m \u001b[0;34m\u001b[0m\u001b[0m\n\u001b[0;32m--> 948\u001b[0;31m         \u001b[0mself\u001b[0m\u001b[0;34m.\u001b[0m\u001b[0m_make_engine\u001b[0m\u001b[0;34m(\u001b[0m\u001b[0mself\u001b[0m\u001b[0;34m.\u001b[0m\u001b[0mengine\u001b[0m\u001b[0;34m)\u001b[0m\u001b[0;34m\u001b[0m\u001b[0;34m\u001b[0m\u001b[0m\n\u001b[0m\u001b[1;32m    949\u001b[0m \u001b[0;34m\u001b[0m\u001b[0m\n\u001b[1;32m    950\u001b[0m     \u001b[0;32mdef\u001b[0m \u001b[0mclose\u001b[0m\u001b[0;34m(\u001b[0m\u001b[0mself\u001b[0m\u001b[0;34m)\u001b[0m\u001b[0;34m:\u001b[0m\u001b[0;34m\u001b[0m\u001b[0;34m\u001b[0m\u001b[0m\n",
            "\u001b[0;32m/usr/local/lib/python3.7/dist-packages/pandas/io/parsers.py\u001b[0m in \u001b[0;36m_make_engine\u001b[0;34m(self, engine)\u001b[0m\n\u001b[1;32m   1178\u001b[0m     \u001b[0;32mdef\u001b[0m \u001b[0m_make_engine\u001b[0m\u001b[0;34m(\u001b[0m\u001b[0mself\u001b[0m\u001b[0;34m,\u001b[0m \u001b[0mengine\u001b[0m\u001b[0;34m=\u001b[0m\u001b[0;34m\"c\"\u001b[0m\u001b[0;34m)\u001b[0m\u001b[0;34m:\u001b[0m\u001b[0;34m\u001b[0m\u001b[0;34m\u001b[0m\u001b[0m\n\u001b[1;32m   1179\u001b[0m         \u001b[0;32mif\u001b[0m \u001b[0mengine\u001b[0m \u001b[0;34m==\u001b[0m \u001b[0;34m\"c\"\u001b[0m\u001b[0;34m:\u001b[0m\u001b[0;34m\u001b[0m\u001b[0;34m\u001b[0m\u001b[0m\n\u001b[0;32m-> 1180\u001b[0;31m             \u001b[0mself\u001b[0m\u001b[0;34m.\u001b[0m\u001b[0m_engine\u001b[0m \u001b[0;34m=\u001b[0m \u001b[0mCParserWrapper\u001b[0m\u001b[0;34m(\u001b[0m\u001b[0mself\u001b[0m\u001b[0;34m.\u001b[0m\u001b[0mf\u001b[0m\u001b[0;34m,\u001b[0m \u001b[0;34m**\u001b[0m\u001b[0mself\u001b[0m\u001b[0;34m.\u001b[0m\u001b[0moptions\u001b[0m\u001b[0;34m)\u001b[0m\u001b[0;34m\u001b[0m\u001b[0;34m\u001b[0m\u001b[0m\n\u001b[0m\u001b[1;32m   1181\u001b[0m         \u001b[0;32melse\u001b[0m\u001b[0;34m:\u001b[0m\u001b[0;34m\u001b[0m\u001b[0;34m\u001b[0m\u001b[0m\n\u001b[1;32m   1182\u001b[0m             \u001b[0;32mif\u001b[0m \u001b[0mengine\u001b[0m \u001b[0;34m==\u001b[0m \u001b[0;34m\"python\"\u001b[0m\u001b[0;34m:\u001b[0m\u001b[0;34m\u001b[0m\u001b[0;34m\u001b[0m\u001b[0m\n",
            "\u001b[0;32m/usr/local/lib/python3.7/dist-packages/pandas/io/parsers.py\u001b[0m in \u001b[0;36m__init__\u001b[0;34m(self, src, **kwds)\u001b[0m\n\u001b[1;32m   2008\u001b[0m         \u001b[0mkwds\u001b[0m\u001b[0;34m[\u001b[0m\u001b[0;34m\"usecols\"\u001b[0m\u001b[0;34m]\u001b[0m \u001b[0;34m=\u001b[0m \u001b[0mself\u001b[0m\u001b[0;34m.\u001b[0m\u001b[0musecols\u001b[0m\u001b[0;34m\u001b[0m\u001b[0;34m\u001b[0m\u001b[0m\n\u001b[1;32m   2009\u001b[0m \u001b[0;34m\u001b[0m\u001b[0m\n\u001b[0;32m-> 2010\u001b[0;31m         \u001b[0mself\u001b[0m\u001b[0;34m.\u001b[0m\u001b[0m_reader\u001b[0m \u001b[0;34m=\u001b[0m \u001b[0mparsers\u001b[0m\u001b[0;34m.\u001b[0m\u001b[0mTextReader\u001b[0m\u001b[0;34m(\u001b[0m\u001b[0msrc\u001b[0m\u001b[0;34m,\u001b[0m \u001b[0;34m**\u001b[0m\u001b[0mkwds\u001b[0m\u001b[0;34m)\u001b[0m\u001b[0;34m\u001b[0m\u001b[0;34m\u001b[0m\u001b[0m\n\u001b[0m\u001b[1;32m   2011\u001b[0m         \u001b[0mself\u001b[0m\u001b[0;34m.\u001b[0m\u001b[0munnamed_cols\u001b[0m \u001b[0;34m=\u001b[0m \u001b[0mself\u001b[0m\u001b[0;34m.\u001b[0m\u001b[0m_reader\u001b[0m\u001b[0;34m.\u001b[0m\u001b[0munnamed_cols\u001b[0m\u001b[0;34m\u001b[0m\u001b[0;34m\u001b[0m\u001b[0m\n\u001b[1;32m   2012\u001b[0m \u001b[0;34m\u001b[0m\u001b[0m\n",
            "\u001b[0;32mpandas/_libs/parsers.pyx\u001b[0m in \u001b[0;36mpandas._libs.parsers.TextReader.__cinit__\u001b[0;34m()\u001b[0m\n",
            "\u001b[0;32mpandas/_libs/parsers.pyx\u001b[0m in \u001b[0;36mpandas._libs.parsers.TextReader._setup_parser_source\u001b[0;34m()\u001b[0m\n",
            "\u001b[0;31mFileNotFoundError\u001b[0m: [Errno 2] No such file or directory: '/content/drive/MyDrive/Colab Notebooks/datasets//sample_submission.csv'"
          ]
        }
      ]
    },
    {
      "cell_type": "code",
      "metadata": {
        "id": "tYXK4yjkVwRH",
        "colab": {
          "base_uri": "https://localhost:8080/"
        },
        "outputId": "c01d4bc1-0a1a-42e7-d249-cb7fbc8cc532"
      },
      "source": [
        "test_df.shape"
      ],
      "execution_count": null,
      "outputs": [
        {
          "output_type": "execute_result",
          "data": {
            "text/plain": [
              "(20848800, 14)"
            ]
          },
          "metadata": {
            "tags": []
          },
          "execution_count": 58
        }
      ]
    },
    {
      "cell_type": "code",
      "metadata": {
        "id": "-ARCLwy4WlNG"
      },
      "source": [
        "sample_sub = pd.DataFrame({'id': test_df.id,'yield': 0})"
      ],
      "execution_count": null,
      "outputs": []
    },
    {
      "cell_type": "code",
      "metadata": {
        "id": "4201NdRRWvot",
        "colab": {
          "base_uri": "https://localhost:8080/"
        },
        "outputId": "4a2cefdf-2f49-4e5d-946f-94c9059b3a71"
      },
      "source": [
        "sample_sub.shape"
      ],
      "execution_count": null,
      "outputs": [
        {
          "output_type": "execute_result",
          "data": {
            "text/plain": [
              "(20848800, 2)"
            ]
          },
          "metadata": {
            "tags": []
          },
          "execution_count": 60
        }
      ]
    },
    {
      "cell_type": "code",
      "metadata": {
        "id": "xenZdaApWx4T"
      },
      "source": [
        "sample_sub.loc[test_df['ingredient_type'] == 0, 'yield'] = np.expm1(y_test0[:12377880])\n",
        "sample_sub.loc[test_df['ingredient_type'] == 1, 'yield'] = np.expm1(y_test1[:4362480])\n",
        "sample_sub.loc[test_df['ingredient_type'] == 2, 'yield'] = np.expm1(y_test2[:2838240])\n",
        "sample_sub.loc[test_df['ingredient_type'] == 3, 'yield'] = np.expm1(y_test3[:1270200])"
      ],
      "execution_count": null,
      "outputs": []
    },
    {
      "cell_type": "code",
      "metadata": {
        "id": "AwsFTifOXDzy",
        "colab": {
          "base_uri": "https://localhost:8080/"
        },
        "outputId": "5972fea0-d457-4249-90ab-24128805dee8"
      },
      "source": [
        "len(y_test0)"
      ],
      "execution_count": null,
      "outputs": [
        {
          "output_type": "execute_result",
          "data": {
            "text/plain": [
              "12640680"
            ]
          },
          "metadata": {
            "tags": []
          },
          "execution_count": 62
        }
      ]
    },
    {
      "cell_type": "code",
      "metadata": {
        "id": "8D3PqbcbXLSb",
        "colab": {
          "base_uri": "https://localhost:8080/"
        },
        "outputId": "f8c5acb0-7813-403a-d7db-85ed1603c2fa"
      },
      "source": [
        "sample_sub.loc[test_df['ingredient_type'] == 3, 'yield']"
      ],
      "execution_count": null,
      "outputs": [
        {
          "output_type": "execute_result",
          "data": {
            "text/plain": [
              "1130042     0\n",
              "1130046     0\n",
              "1130050     0\n",
              "1130052     0\n",
              "1130054     0\n",
              "           ..\n",
              "20848788    0\n",
              "20848790    0\n",
              "20848793    0\n",
              "20848796    0\n",
              "20848799    0\n",
              "Name: yield, Length: 1270200, dtype: int64"
            ]
          },
          "metadata": {
            "tags": []
          },
          "execution_count": 69
        }
      ]
    },
    {
      "cell_type": "code",
      "metadata": {
        "id": "Jy69ME-jXRxs",
        "colab": {
          "base_uri": "https://localhost:8080/",
          "height": 204
        },
        "outputId": "c0e872de-3390-471e-dc17-dc7a292805b3"
      },
      "source": [
        "sample_sub.head()"
      ],
      "execution_count": null,
      "outputs": [
        {
          "output_type": "execute_result",
          "data": {
            "text/html": [
              "<div>\n",
              "<style scoped>\n",
              "    .dataframe tbody tr th:only-of-type {\n",
              "        vertical-align: middle;\n",
              "    }\n",
              "\n",
              "    .dataframe tbody tr th {\n",
              "        vertical-align: top;\n",
              "    }\n",
              "\n",
              "    .dataframe thead th {\n",
              "        text-align: right;\n",
              "    }\n",
              "</style>\n",
              "<table border=\"1\" class=\"dataframe\">\n",
              "  <thead>\n",
              "    <tr style=\"text-align: right;\">\n",
              "      <th></th>\n",
              "      <th>id</th>\n",
              "      <th>yield</th>\n",
              "    </tr>\n",
              "  </thead>\n",
              "  <tbody>\n",
              "    <tr>\n",
              "      <th>0</th>\n",
              "      <td>0</td>\n",
              "      <td>12.647196</td>\n",
              "    </tr>\n",
              "    <tr>\n",
              "      <th>1</th>\n",
              "      <td>1</td>\n",
              "      <td>10.012668</td>\n",
              "    </tr>\n",
              "    <tr>\n",
              "      <th>2</th>\n",
              "      <td>2</td>\n",
              "      <td>4.229749</td>\n",
              "    </tr>\n",
              "    <tr>\n",
              "      <th>3</th>\n",
              "      <td>3</td>\n",
              "      <td>17.079005</td>\n",
              "    </tr>\n",
              "    <tr>\n",
              "      <th>4</th>\n",
              "      <td>4</td>\n",
              "      <td>35.106329</td>\n",
              "    </tr>\n",
              "  </tbody>\n",
              "</table>\n",
              "</div>"
            ],
            "text/plain": [
              "   id      yield\n",
              "0   0  12.647196\n",
              "1   1  10.012668\n",
              "2   2   4.229749\n",
              "3   3  17.079005\n",
              "4   4  35.106329"
            ]
          },
          "metadata": {
            "tags": []
          },
          "execution_count": 71
        }
      ]
    },
    {
      "cell_type": "code",
      "metadata": {
        "id": "EMF0fUr9YcPv",
        "colab": {
          "base_uri": "https://localhost:8080/"
        },
        "outputId": "16492ee6-ee6f-45c0-a336-caef4bdf9bfe"
      },
      "source": [
        "sample_sub.shape"
      ],
      "execution_count": null,
      "outputs": [
        {
          "output_type": "execute_result",
          "data": {
            "text/plain": [
              "(20848800, 2)"
            ]
          },
          "metadata": {
            "tags": []
          },
          "execution_count": 72
        }
      ]
    },
    {
      "cell_type": "code",
      "metadata": {
        "id": "Rsat069-Yf0T"
      },
      "source": [
        "sample_sub.to_csv(root + \"/sample_lgbm_ingredient_type.csv\", index=False)"
      ],
      "execution_count": null,
      "outputs": []
    },
    {
      "cell_type": "code",
      "metadata": {
        "id": "LimrzRfrYpKM"
      },
      "source": [
        ""
      ],
      "execution_count": null,
      "outputs": []
    }
  ]
}