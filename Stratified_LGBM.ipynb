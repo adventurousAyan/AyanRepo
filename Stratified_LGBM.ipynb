{
  "nbformat": 4,
  "nbformat_minor": 0,
  "metadata": {
    "colab": {
      "name": "Stratified_LGBM.ipynb",
      "provenance": [],
      "collapsed_sections": [],
      "machine_shape": "hm",
      "include_colab_link": true
    },
    "kernelspec": {
      "name": "python3",
      "display_name": "Python 3"
    }
  },
  "cells": [
    {
      "cell_type": "markdown",
      "metadata": {
        "id": "view-in-github",
        "colab_type": "text"
      },
      "source": [
        "<a href=\"https://colab.research.google.com/github/adventurousAyan/AyanRepo/blob/master/Stratified_LGBM.ipynb\" target=\"_parent\"><img src=\"https://colab.research.google.com/assets/colab-badge.svg\" alt=\"Open In Colab\"/></a>"
      ]
    },
    {
      "cell_type": "code",
      "metadata": {
        "id": "CzB1nbg2CWaF"
      },
      "source": [
        "import pandas as pd\n",
        "import numpy as np\n",
        "import matplotlib.pyplot as plt\n",
        "import lightgbm as lgb\n",
        "from sklearn.preprocessing import LabelEncoder\n",
        "from sklearn.model_selection import StratifiedKFold\n",
        "import datetime\n",
        "import gc\n",
        "\n",
        "DATA_PATH = \"/content/drive/MyDrive/Colab Notebooks/datasets/\""
      ],
      "execution_count": null,
      "outputs": []
    },
    {
      "cell_type": "code",
      "metadata": {
        "id": "nk1QLMDpPsjh",
        "colab": {
          "base_uri": "https://localhost:8080/"
        },
        "outputId": "f2d8f0be-c82f-4b09-fdfa-28746667b377"
      },
      "source": [
        "from google.colab import drive\n",
        "drive.mount('/content/drive')"
      ],
      "execution_count": null,
      "outputs": [
        {
          "output_type": "stream",
          "text": [
            "Drive already mounted at /content/drive; to attempt to forcibly remount, call drive.mount(\"/content/drive\", force_remount=True).\n"
          ],
          "name": "stdout"
        }
      ]
    },
    {
      "cell_type": "code",
      "metadata": {
        "id": "II69lfrMDT9W"
      },
      "source": [
        "train_df = pd.read_csv(DATA_PATH + 'train_data.csv')\n",
        "farm_df = pd.read_csv(DATA_PATH + 'farm_data.csv')\n",
        "weather_df = pd.read_csv(DATA_PATH + 'train_weather.csv')"
      ],
      "execution_count": null,
      "outputs": []
    },
    {
      "cell_type": "code",
      "metadata": {
        "colab": {
          "base_uri": "https://localhost:8080/",
          "height": 204
        },
        "id": "UGp9deXlE4cN",
        "outputId": "b037bdb6-1bcf-4fe9-b672-8a0000af2304"
      },
      "source": [
        "farm_df.head()"
      ],
      "execution_count": null,
      "outputs": [
        {
          "output_type": "execute_result",
          "data": {
            "text/html": [
              "<div>\n",
              "<style scoped>\n",
              "    .dataframe tbody tr th:only-of-type {\n",
              "        vertical-align: middle;\n",
              "    }\n",
              "\n",
              "    .dataframe tbody tr th {\n",
              "        vertical-align: top;\n",
              "    }\n",
              "\n",
              "    .dataframe thead th {\n",
              "        text-align: right;\n",
              "    }\n",
              "</style>\n",
              "<table border=\"1\" class=\"dataframe\">\n",
              "  <thead>\n",
              "    <tr style=\"text-align: right;\">\n",
              "      <th></th>\n",
              "      <th>farm_id</th>\n",
              "      <th>operations_commencing_year</th>\n",
              "      <th>num_processing_plants</th>\n",
              "      <th>farm_area</th>\n",
              "      <th>farming_company</th>\n",
              "      <th>deidentified_location</th>\n",
              "    </tr>\n",
              "  </thead>\n",
              "  <tbody>\n",
              "    <tr>\n",
              "      <th>0</th>\n",
              "      <td>fid_110884</td>\n",
              "      <td>2008.0</td>\n",
              "      <td>NaN</td>\n",
              "      <td>690.455096</td>\n",
              "      <td>Obery Farms</td>\n",
              "      <td>location 7369</td>\n",
              "    </tr>\n",
              "    <tr>\n",
              "      <th>1</th>\n",
              "      <td>fid_90053</td>\n",
              "      <td>2004.0</td>\n",
              "      <td>NaN</td>\n",
              "      <td>252.696160</td>\n",
              "      <td>Obery Farms</td>\n",
              "      <td>location 7369</td>\n",
              "    </tr>\n",
              "    <tr>\n",
              "      <th>2</th>\n",
              "      <td>fid_17537</td>\n",
              "      <td>1991.0</td>\n",
              "      <td>NaN</td>\n",
              "      <td>499.446528</td>\n",
              "      <td>Obery Farms</td>\n",
              "      <td>location 7369</td>\n",
              "    </tr>\n",
              "    <tr>\n",
              "      <th>3</th>\n",
              "      <td>fid_110392</td>\n",
              "      <td>2002.0</td>\n",
              "      <td>NaN</td>\n",
              "      <td>2200.407555</td>\n",
              "      <td>Obery Farms</td>\n",
              "      <td>location 7369</td>\n",
              "    </tr>\n",
              "    <tr>\n",
              "      <th>4</th>\n",
              "      <td>fid_62402</td>\n",
              "      <td>1975.0</td>\n",
              "      <td>NaN</td>\n",
              "      <td>10833.140121</td>\n",
              "      <td>Obery Farms</td>\n",
              "      <td>location 7369</td>\n",
              "    </tr>\n",
              "  </tbody>\n",
              "</table>\n",
              "</div>"
            ],
            "text/plain": [
              "      farm_id  operations_commencing_year  ...  farming_company  deidentified_location\n",
              "0  fid_110884                      2008.0  ...      Obery Farms          location 7369\n",
              "1   fid_90053                      2004.0  ...      Obery Farms          location 7369\n",
              "2   fid_17537                      1991.0  ...      Obery Farms          location 7369\n",
              "3  fid_110392                      2002.0  ...      Obery Farms          location 7369\n",
              "4   fid_62402                      1975.0  ...      Obery Farms          location 7369\n",
              "\n",
              "[5 rows x 6 columns]"
            ]
          },
          "metadata": {
            "tags": []
          },
          "execution_count": 38
        }
      ]
    },
    {
      "cell_type": "code",
      "metadata": {
        "id": "s3uht_uiPqL9"
      },
      "source": [
        "train_df.columns = ['timestamp', 'farm_id', 'ingredient_type', 'yield']"
      ],
      "execution_count": null,
      "outputs": []
    },
    {
      "cell_type": "code",
      "metadata": {
        "id": "BV0CXYkLDoWr"
      },
      "source": [
        "# Original code from https://www.kaggle.com/aitude/ashrae-missing-weather-data-handling by @aitude\n",
        "\n",
        "def fill_weather_dataset(weather_df):\n",
        "    \n",
        "    # Find Missing Dates\n",
        "    time_format = \"%Y-%m-%d %H:%M:%S\"\n",
        "    start_date = datetime.datetime.strptime(weather_df['timestamp'].min(),time_format)\n",
        "    end_date = datetime.datetime.strptime(weather_df['timestamp'].max(),time_format)\n",
        "    total_hours = int(((end_date - start_date).total_seconds() + 3600) / 3600)\n",
        "    hours_list = [(end_date - datetime.timedelta(hours=x)).strftime(time_format) for x in range(total_hours)]\n",
        "\n",
        "    missing_hours = []\n",
        "    for site_id in range(16):\n",
        "        site_hours = np.array(weather_df[weather_df['deidentified_location'] == site_id]['timestamp'])\n",
        "        new_rows = pd.DataFrame(np.setdiff1d(hours_list,site_hours),columns=['timestamp'])\n",
        "        new_rows['deidentified_location'] = site_id\n",
        "        weather_df = pd.concat([weather_df,new_rows])\n",
        "\n",
        "        weather_df = weather_df.reset_index(drop=True)           \n",
        "\n",
        "    # Add new Features\n",
        "    weather_df[\"datetime\"] = pd.to_datetime(weather_df[\"timestamp\"])\n",
        "    weather_df[\"day\"] = weather_df[\"datetime\"].dt.day\n",
        "    weather_df[\"week\"] = weather_df[\"datetime\"].dt.week\n",
        "    weather_df[\"month\"] = weather_df[\"datetime\"].dt.month\n",
        "    \n",
        "    \n",
        "    # Reset Index for Fast Update\n",
        "    weather_df = weather_df.set_index(['deidentified_location','day','month'])\n",
        "\n",
        "    air_temperature_filler = pd.DataFrame(weather_df.groupby(['deidentified_location','day','month'])['temp_obs'].mean(),columns=[\"temp_obs\"])\n",
        "    weather_df.update(air_temperature_filler,overwrite=False)\n",
        "\n",
        "    # Step 1\n",
        "    cloud_coverage_filler = weather_df.groupby(['deidentified_location','day','month'])['cloudiness'].mean()\n",
        "    # Step 2\n",
        "    cloud_coverage_filler = pd.DataFrame(cloud_coverage_filler.fillna(method='ffill'),columns=[\"cloudiness\"])\n",
        "\n",
        "    weather_df.update(cloud_coverage_filler,overwrite=False)\n",
        "\n",
        "    due_temperature_filler = pd.DataFrame(weather_df.groupby(['deidentified_location','day','month'])['dew_temp'].mean(),columns=[\"dew_temp\"])\n",
        "    weather_df.update(due_temperature_filler,overwrite=False)\n",
        "\n",
        "    # Step 1\n",
        "    sea_level_filler = weather_df.groupby(['deidentified_location','day','month'])['pressure_sea_level'].mean()\n",
        "    # Step 2\n",
        "    sea_level_filler = pd.DataFrame(sea_level_filler.fillna(method='ffill'),columns=['pressure_sea_level'])\n",
        "\n",
        "    weather_df.update(sea_level_filler,overwrite=False)\n",
        "\n",
        "    wind_direction_filler =  pd.DataFrame(weather_df.groupby(['deidentified_location','day','month'])['wind_direction'].mean(),columns=['wind_direction'])\n",
        "    weather_df.update(wind_direction_filler,overwrite=False)\n",
        "\n",
        "    wind_speed_filler =  pd.DataFrame(weather_df.groupby(['deidentified_location','day','month'])['wind_speed'].mean(),columns=['wind_speed'])\n",
        "    weather_df.update(wind_speed_filler,overwrite=False)\n",
        "\n",
        "    # Step 1\n",
        "    precip_depth_filler = weather_df.groupby(['deidentified_location','day','month'])['precipitation'].mean()\n",
        "    # Step 2\n",
        "    precip_depth_filler = pd.DataFrame(precip_depth_filler.fillna(method='ffill'),columns=['precipitation'])\n",
        "\n",
        "    weather_df.update(precip_depth_filler,overwrite=False)\n",
        "\n",
        "    weather_df = weather_df.reset_index()\n",
        "    weather_df = weather_df.drop(['datetime','day','week','month'],axis=1)\n",
        "        \n",
        "    return weather_df\n"
      ],
      "execution_count": null,
      "outputs": []
    },
    {
      "cell_type": "code",
      "metadata": {
        "id": "w_GhsdqKD5da"
      },
      "source": [
        "# Original code from https://www.kaggle.com/gemartin/load-data-reduce-memory-usage by @gemartin\n",
        "\n",
        "from pandas.api.types import is_datetime64_any_dtype as is_datetime\n",
        "from pandas.api.types import is_categorical_dtype\n",
        "\n",
        "def reduce_mem_usage(df, use_float16=False):\n",
        "    \"\"\"\n",
        "    Iterate through all the columns of a dataframe and modify the data type to reduce memory usage.        \n",
        "    \"\"\"\n",
        "    \n",
        "    start_mem = df.memory_usage().sum() / 1024**2\n",
        "    print(\"Memory usage of dataframe is {:.2f} MB\".format(start_mem))\n",
        "    \n",
        "    for col in df.columns:\n",
        "        if is_datetime(df[col]) or is_categorical_dtype(df[col]):\n",
        "            continue\n",
        "        col_type = df[col].dtype\n",
        "        \n",
        "        if col_type != object:\n",
        "            c_min = df[col].min()\n",
        "            c_max = df[col].max()\n",
        "            if str(col_type)[:3] == \"int\":\n",
        "                if c_min > np.iinfo(np.int8).min and c_max < np.iinfo(np.int8).max:\n",
        "                    df[col] = df[col].astype(np.int8)\n",
        "                elif c_min > np.iinfo(np.int16).min and c_max < np.iinfo(np.int16).max:\n",
        "                    df[col] = df[col].astype(np.int16)\n",
        "                elif c_min > np.iinfo(np.int32).min and c_max < np.iinfo(np.int32).max:\n",
        "                    df[col] = df[col].astype(np.int32)\n",
        "                elif c_min > np.iinfo(np.int64).min and c_max < np.iinfo(np.int64).max:\n",
        "                    df[col] = df[col].astype(np.int64)  \n",
        "            else:\n",
        "                if use_float16 and c_min > np.finfo(np.float16).min and c_max < np.finfo(np.float16).max:\n",
        "                    df[col] = df[col].astype(np.float16)\n",
        "                elif c_min > np.finfo(np.float32).min and c_max < np.finfo(np.float32).max:\n",
        "                    df[col] = df[col].astype(np.float32)\n",
        "                else:\n",
        "                    df[col] = df[col].astype(np.float64)\n",
        "        else:\n",
        "            df[col] = df[col].astype(\"category\")\n",
        "\n",
        "    end_mem = df.memory_usage().sum() / 1024**2\n",
        "    print(\"Memory usage after optimization is: {:.2f} MB\".format(end_mem))\n",
        "    print(\"Decreased by {:.1f}%\".format(100 * (start_mem - end_mem) / start_mem))\n",
        "    \n",
        "    return df"
      ],
      "execution_count": null,
      "outputs": []
    },
    {
      "cell_type": "code",
      "metadata": {
        "id": "RNn07EHID9gW"
      },
      "source": [
        "def features_engineering(df):\n",
        "    \n",
        "    # Sort by timestamp\n",
        "    df.sort_values(\"timestamp\")\n",
        "    df.reset_index(drop=True)\n",
        "    \n",
        "    # Add more features\n",
        "    df[\"timestamp\"] = pd.to_datetime(df[\"timestamp\"],format=\"%Y-%m-%d %H:%M:%S\")\n",
        "    df[\"hour\"] = df[\"timestamp\"].dt.hour\n",
        "    df[\"weekend\"] = df[\"timestamp\"].dt.weekday\n",
        "    df['farm_area'] =  np.log1p(df['farm_area'])\n",
        "    df['month'] = df['timestamp'].dt.month\n",
        "    df['month'].replace((1, 2, 3, 4), 1, inplace = True)\n",
        "    df['month'].replace((5, 6, 7, 8), 2, inplace = True)\n",
        "    df['month'].replace((9, 10, 11, 12), 3, inplace = True)\n",
        "    \n",
        "    # Remove Unused Columns\n",
        "    drop = [\"timestamp\",\"pressure_sea_level\", \"wind_direction\", \"wind_speed\",\"operations_commencing_year\",\"num_processing_plants\"]\n",
        "    df = df.drop(drop, axis=1)\n",
        "    gc.collect()\n",
        "    \n",
        "    # Encode Categorical Data\n",
        "    le = LabelEncoder()\n",
        "    df[\"farming_company\"] = le.fit_transform(df[\"farming_company\"])\n",
        "    df[\"ingredient_type\"] = le.fit_transform(df[\"ingredient_type\"])\n",
        "    df[\"farm_id\"] = le.fit_transform(df[\"farm_id\"])\n",
        "    df[\"deidentified_location\"] = le.fit_transform(df[\"farming_company\"])\n",
        "    \n",
        "    return df"
      ],
      "execution_count": null,
      "outputs": []
    },
    {
      "cell_type": "code",
      "metadata": {
        "colab": {
          "base_uri": "https://localhost:8080/"
        },
        "id": "OXl_MgnRFGgS",
        "outputId": "84e8953d-26b7-4262-e21e-d6760485f651"
      },
      "source": [
        "weather_df = fill_weather_dataset(weather_df)"
      ],
      "execution_count": null,
      "outputs": [
        {
          "output_type": "stream",
          "text": [
            "/usr/local/lib/python3.7/dist-packages/ipykernel_launcher.py:24: FutureWarning: Series.dt.weekofyear and Series.dt.week have been deprecated.  Please use Series.dt.isocalendar().week instead.\n"
          ],
          "name": "stderr"
        }
      ]
    },
    {
      "cell_type": "code",
      "metadata": {
        "colab": {
          "base_uri": "https://localhost:8080/",
          "height": 204
        },
        "id": "bZJk0GMcFMI0",
        "outputId": "f3af946c-6ff2-49bd-87d2-2019e1f110fb"
      },
      "source": [
        "weather_df.head()"
      ],
      "execution_count": null,
      "outputs": [
        {
          "output_type": "execute_result",
          "data": {
            "text/html": [
              "<div>\n",
              "<style scoped>\n",
              "    .dataframe tbody tr th:only-of-type {\n",
              "        vertical-align: middle;\n",
              "    }\n",
              "\n",
              "    .dataframe tbody tr th {\n",
              "        vertical-align: top;\n",
              "    }\n",
              "\n",
              "    .dataframe thead th {\n",
              "        text-align: right;\n",
              "    }\n",
              "</style>\n",
              "<table border=\"1\" class=\"dataframe\">\n",
              "  <thead>\n",
              "    <tr style=\"text-align: right;\">\n",
              "      <th></th>\n",
              "      <th>deidentified_location</th>\n",
              "      <th>timestamp</th>\n",
              "      <th>temp_obs</th>\n",
              "      <th>cloudiness</th>\n",
              "      <th>wind_direction</th>\n",
              "      <th>dew_temp</th>\n",
              "      <th>pressure_sea_level</th>\n",
              "      <th>precipitation</th>\n",
              "      <th>wind_speed</th>\n",
              "    </tr>\n",
              "  </thead>\n",
              "  <tbody>\n",
              "    <tr>\n",
              "      <th>0</th>\n",
              "      <td>location 7369</td>\n",
              "      <td>2016-01-01 00:00:00</td>\n",
              "      <td>25.0</td>\n",
              "      <td>6.000000</td>\n",
              "      <td>0.0</td>\n",
              "      <td>20.0</td>\n",
              "      <td>1019.7</td>\n",
              "      <td>-0.173913</td>\n",
              "      <td>0.0</td>\n",
              "    </tr>\n",
              "    <tr>\n",
              "      <th>1</th>\n",
              "      <td>location 7369</td>\n",
              "      <td>2016-01-01 01:00:00</td>\n",
              "      <td>24.4</td>\n",
              "      <td>4.285714</td>\n",
              "      <td>70.0</td>\n",
              "      <td>21.1</td>\n",
              "      <td>1020.2</td>\n",
              "      <td>-1.000000</td>\n",
              "      <td>1.5</td>\n",
              "    </tr>\n",
              "    <tr>\n",
              "      <th>2</th>\n",
              "      <td>location 7369</td>\n",
              "      <td>2016-01-01 02:00:00</td>\n",
              "      <td>22.8</td>\n",
              "      <td>2.000000</td>\n",
              "      <td>0.0</td>\n",
              "      <td>21.1</td>\n",
              "      <td>1020.2</td>\n",
              "      <td>0.000000</td>\n",
              "      <td>0.0</td>\n",
              "    </tr>\n",
              "    <tr>\n",
              "      <th>3</th>\n",
              "      <td>location 7369</td>\n",
              "      <td>2016-01-01 03:00:00</td>\n",
              "      <td>21.1</td>\n",
              "      <td>2.000000</td>\n",
              "      <td>0.0</td>\n",
              "      <td>20.6</td>\n",
              "      <td>1020.1</td>\n",
              "      <td>0.000000</td>\n",
              "      <td>0.0</td>\n",
              "    </tr>\n",
              "    <tr>\n",
              "      <th>4</th>\n",
              "      <td>location 7369</td>\n",
              "      <td>2016-01-01 04:00:00</td>\n",
              "      <td>20.0</td>\n",
              "      <td>2.000000</td>\n",
              "      <td>250.0</td>\n",
              "      <td>20.0</td>\n",
              "      <td>1020.0</td>\n",
              "      <td>-1.000000</td>\n",
              "      <td>2.6</td>\n",
              "    </tr>\n",
              "  </tbody>\n",
              "</table>\n",
              "</div>"
            ],
            "text/plain": [
              "  deidentified_location            timestamp  ...  precipitation  wind_speed\n",
              "0         location 7369  2016-01-01 00:00:00  ...      -0.173913         0.0\n",
              "1         location 7369  2016-01-01 01:00:00  ...      -1.000000         1.5\n",
              "2         location 7369  2016-01-01 02:00:00  ...       0.000000         0.0\n",
              "3         location 7369  2016-01-01 03:00:00  ...       0.000000         0.0\n",
              "4         location 7369  2016-01-01 04:00:00  ...      -1.000000         2.6\n",
              "\n",
              "[5 rows x 9 columns]"
            ]
          },
          "metadata": {
            "tags": []
          },
          "execution_count": 44
        }
      ]
    },
    {
      "cell_type": "code",
      "metadata": {
        "colab": {
          "base_uri": "https://localhost:8080/"
        },
        "id": "gGjc4XfhFPGG",
        "outputId": "2c2398ef-f3d3-48a1-d787-7abf92c0c0bc"
      },
      "source": [
        "train_df = reduce_mem_usage(train_df,use_float16=True)\n",
        "farm_df = reduce_mem_usage(farm_df,use_float16=True)\n",
        "weather_df = reduce_mem_usage(weather_df,use_float16=True)"
      ],
      "execution_count": null,
      "outputs": [
        {
          "output_type": "stream",
          "text": [
            "Memory usage of dataframe is 616.95 MB\n",
            "Memory usage after optimization is: 173.95 MB\n",
            "Decreased by 71.8%\n",
            "Memory usage of dataframe is 0.07 MB\n",
            "Memory usage after optimization is: 0.07 MB\n",
            "Decreased by -2.6%\n",
            "Memory usage of dataframe is 19.25 MB\n",
            "Memory usage after optimization is: 4.93 MB\n",
            "Decreased by 74.4%\n"
          ],
          "name": "stdout"
        }
      ]
    },
    {
      "cell_type": "code",
      "metadata": {
        "colab": {
          "base_uri": "https://localhost:8080/"
        },
        "id": "9wynKlLJGA_j",
        "outputId": "9b06704a-0ff8-4123-9f33-e86c127948b3"
      },
      "source": [
        "train_df = train_df.merge(farm_df, left_on='farm_id',right_on='farm_id',how='left')\n",
        "train_df = train_df.merge(weather_df,how='left',left_on=['deidentified_location','timestamp'],right_on=['deidentified_location','timestamp'])\n",
        "del weather_df\n",
        "gc.collect()"
      ],
      "execution_count": null,
      "outputs": [
        {
          "output_type": "execute_result",
          "data": {
            "text/plain": [
              "0"
            ]
          },
          "metadata": {
            "tags": []
          },
          "execution_count": 46
        }
      ]
    },
    {
      "cell_type": "code",
      "metadata": {
        "id": "GaSHK0r4GPQA"
      },
      "source": [
        "train_df = features_engineering(train_df)"
      ],
      "execution_count": null,
      "outputs": []
    },
    {
      "cell_type": "code",
      "metadata": {
        "colab": {
          "base_uri": "https://localhost:8080/",
          "height": 669
        },
        "id": "wxnBVHoRGXOc",
        "outputId": "d1ba88c6-f31b-451e-e3cb-bf846852bf10"
      },
      "source": [
        "train_df.head(20)"
      ],
      "execution_count": null,
      "outputs": [
        {
          "output_type": "execute_result",
          "data": {
            "text/html": [
              "<div>\n",
              "<style scoped>\n",
              "    .dataframe tbody tr th:only-of-type {\n",
              "        vertical-align: middle;\n",
              "    }\n",
              "\n",
              "    .dataframe tbody tr th {\n",
              "        vertical-align: top;\n",
              "    }\n",
              "\n",
              "    .dataframe thead th {\n",
              "        text-align: right;\n",
              "    }\n",
              "</style>\n",
              "<table border=\"1\" class=\"dataframe\">\n",
              "  <thead>\n",
              "    <tr style=\"text-align: right;\">\n",
              "      <th></th>\n",
              "      <th>farm_id</th>\n",
              "      <th>ingredient_type</th>\n",
              "      <th>yield</th>\n",
              "      <th>farm_area</th>\n",
              "      <th>farming_company</th>\n",
              "      <th>deidentified_location</th>\n",
              "      <th>temp_obs</th>\n",
              "      <th>cloudiness</th>\n",
              "      <th>dew_temp</th>\n",
              "      <th>precipitation</th>\n",
              "      <th>hour</th>\n",
              "      <th>weekend</th>\n",
              "      <th>month</th>\n",
              "    </tr>\n",
              "  </thead>\n",
              "  <tbody>\n",
              "    <tr>\n",
              "      <th>0</th>\n",
              "      <td>142</td>\n",
              "      <td>0</td>\n",
              "      <td>0.0</td>\n",
              "      <td>6.538798</td>\n",
              "      <td>8</td>\n",
              "      <td>8</td>\n",
              "      <td>25.0</td>\n",
              "      <td>6.0</td>\n",
              "      <td>20.0</td>\n",
              "      <td>-0.17395</td>\n",
              "      <td>0</td>\n",
              "      <td>4</td>\n",
              "      <td>1</td>\n",
              "    </tr>\n",
              "    <tr>\n",
              "      <th>1</th>\n",
              "      <td>1307</td>\n",
              "      <td>0</td>\n",
              "      <td>0.0</td>\n",
              "      <td>5.536138</td>\n",
              "      <td>8</td>\n",
              "      <td>8</td>\n",
              "      <td>25.0</td>\n",
              "      <td>6.0</td>\n",
              "      <td>20.0</td>\n",
              "      <td>-0.17395</td>\n",
              "      <td>0</td>\n",
              "      <td>4</td>\n",
              "      <td>1</td>\n",
              "    </tr>\n",
              "    <tr>\n",
              "      <th>2</th>\n",
              "      <td>376</td>\n",
              "      <td>0</td>\n",
              "      <td>0.0</td>\n",
              "      <td>6.215501</td>\n",
              "      <td>8</td>\n",
              "      <td>8</td>\n",
              "      <td>25.0</td>\n",
              "      <td>6.0</td>\n",
              "      <td>20.0</td>\n",
              "      <td>-0.17395</td>\n",
              "      <td>0</td>\n",
              "      <td>4</td>\n",
              "      <td>1</td>\n",
              "    </tr>\n",
              "    <tr>\n",
              "      <th>3</th>\n",
              "      <td>134</td>\n",
              "      <td>0</td>\n",
              "      <td>0.0</td>\n",
              "      <td>7.696852</td>\n",
              "      <td>8</td>\n",
              "      <td>8</td>\n",
              "      <td>25.0</td>\n",
              "      <td>6.0</td>\n",
              "      <td>20.0</td>\n",
              "      <td>-0.17395</td>\n",
              "      <td>0</td>\n",
              "      <td>4</td>\n",
              "      <td>1</td>\n",
              "    </tr>\n",
              "    <tr>\n",
              "      <th>4</th>\n",
              "      <td>986</td>\n",
              "      <td>0</td>\n",
              "      <td>0.0</td>\n",
              "      <td>9.290458</td>\n",
              "      <td>8</td>\n",
              "      <td>8</td>\n",
              "      <td>25.0</td>\n",
              "      <td>6.0</td>\n",
              "      <td>20.0</td>\n",
              "      <td>-0.17395</td>\n",
              "      <td>0</td>\n",
              "      <td>4</td>\n",
              "      <td>1</td>\n",
              "    </tr>\n",
              "    <tr>\n",
              "      <th>5</th>\n",
              "      <td>280</td>\n",
              "      <td>0</td>\n",
              "      <td>0.0</td>\n",
              "      <td>6.612342</td>\n",
              "      <td>8</td>\n",
              "      <td>8</td>\n",
              "      <td>25.0</td>\n",
              "      <td>6.0</td>\n",
              "      <td>20.0</td>\n",
              "      <td>-0.17395</td>\n",
              "      <td>0</td>\n",
              "      <td>4</td>\n",
              "      <td>1</td>\n",
              "    </tr>\n",
              "    <tr>\n",
              "      <th>6</th>\n",
              "      <td>1256</td>\n",
              "      <td>0</td>\n",
              "      <td>0.0</td>\n",
              "      <td>7.861499</td>\n",
              "      <td>1</td>\n",
              "      <td>1</td>\n",
              "      <td>25.0</td>\n",
              "      <td>6.0</td>\n",
              "      <td>20.0</td>\n",
              "      <td>-0.17395</td>\n",
              "      <td>0</td>\n",
              "      <td>4</td>\n",
              "      <td>1</td>\n",
              "    </tr>\n",
              "    <tr>\n",
              "      <th>7</th>\n",
              "      <td>591</td>\n",
              "      <td>0</td>\n",
              "      <td>0.0</td>\n",
              "      <td>9.328047</td>\n",
              "      <td>8</td>\n",
              "      <td>8</td>\n",
              "      <td>25.0</td>\n",
              "      <td>6.0</td>\n",
              "      <td>20.0</td>\n",
              "      <td>-0.17395</td>\n",
              "      <td>0</td>\n",
              "      <td>4</td>\n",
              "      <td>1</td>\n",
              "    </tr>\n",
              "    <tr>\n",
              "      <th>8</th>\n",
              "      <td>140</td>\n",
              "      <td>0</td>\n",
              "      <td>0.0</td>\n",
              "      <td>8.639471</td>\n",
              "      <td>8</td>\n",
              "      <td>8</td>\n",
              "      <td>25.0</td>\n",
              "      <td>6.0</td>\n",
              "      <td>20.0</td>\n",
              "      <td>-0.17395</td>\n",
              "      <td>0</td>\n",
              "      <td>4</td>\n",
              "      <td>1</td>\n",
              "    </tr>\n",
              "    <tr>\n",
              "      <th>9</th>\n",
              "      <td>581</td>\n",
              "      <td>0</td>\n",
              "      <td>0.0</td>\n",
              "      <td>7.827791</td>\n",
              "      <td>14</td>\n",
              "      <td>14</td>\n",
              "      <td>25.0</td>\n",
              "      <td>6.0</td>\n",
              "      <td>20.0</td>\n",
              "      <td>-0.17395</td>\n",
              "      <td>0</td>\n",
              "      <td>4</td>\n",
              "      <td>1</td>\n",
              "    </tr>\n",
              "    <tr>\n",
              "      <th>10</th>\n",
              "      <td>976</td>\n",
              "      <td>0</td>\n",
              "      <td>0.0</td>\n",
              "      <td>10.447175</td>\n",
              "      <td>11</td>\n",
              "      <td>11</td>\n",
              "      <td>25.0</td>\n",
              "      <td>6.0</td>\n",
              "      <td>20.0</td>\n",
              "      <td>-0.17395</td>\n",
              "      <td>0</td>\n",
              "      <td>4</td>\n",
              "      <td>1</td>\n",
              "    </tr>\n",
              "    <tr>\n",
              "      <th>11</th>\n",
              "      <td>407</td>\n",
              "      <td>0</td>\n",
              "      <td>0.0</td>\n",
              "      <td>8.425084</td>\n",
              "      <td>8</td>\n",
              "      <td>8</td>\n",
              "      <td>25.0</td>\n",
              "      <td>6.0</td>\n",
              "      <td>20.0</td>\n",
              "      <td>-0.17395</td>\n",
              "      <td>0</td>\n",
              "      <td>4</td>\n",
              "      <td>1</td>\n",
              "    </tr>\n",
              "    <tr>\n",
              "      <th>12</th>\n",
              "      <td>903</td>\n",
              "      <td>0</td>\n",
              "      <td>0.0</td>\n",
              "      <td>8.145463</td>\n",
              "      <td>1</td>\n",
              "      <td>1</td>\n",
              "      <td>25.0</td>\n",
              "      <td>6.0</td>\n",
              "      <td>20.0</td>\n",
              "      <td>-0.17395</td>\n",
              "      <td>0</td>\n",
              "      <td>4</td>\n",
              "      <td>1</td>\n",
              "    </tr>\n",
              "    <tr>\n",
              "      <th>13</th>\n",
              "      <td>720</td>\n",
              "      <td>0</td>\n",
              "      <td>0.0</td>\n",
              "      <td>9.130615</td>\n",
              "      <td>8</td>\n",
              "      <td>8</td>\n",
              "      <td>25.0</td>\n",
              "      <td>6.0</td>\n",
              "      <td>20.0</td>\n",
              "      <td>-0.17395</td>\n",
              "      <td>0</td>\n",
              "      <td>4</td>\n",
              "      <td>1</td>\n",
              "    </tr>\n",
              "    <tr>\n",
              "      <th>14</th>\n",
              "      <td>790</td>\n",
              "      <td>0</td>\n",
              "      <td>0.0</td>\n",
              "      <td>8.988931</td>\n",
              "      <td>8</td>\n",
              "      <td>8</td>\n",
              "      <td>25.0</td>\n",
              "      <td>6.0</td>\n",
              "      <td>20.0</td>\n",
              "      <td>-0.17395</td>\n",
              "      <td>0</td>\n",
              "      <td>4</td>\n",
              "      <td>1</td>\n",
              "    </tr>\n",
              "    <tr>\n",
              "      <th>15</th>\n",
              "      <td>128</td>\n",
              "      <td>0</td>\n",
              "      <td>0.0</td>\n",
              "      <td>8.961988</td>\n",
              "      <td>14</td>\n",
              "      <td>14</td>\n",
              "      <td>25.0</td>\n",
              "      <td>6.0</td>\n",
              "      <td>20.0</td>\n",
              "      <td>-0.17395</td>\n",
              "      <td>0</td>\n",
              "      <td>4</td>\n",
              "      <td>1</td>\n",
              "    </tr>\n",
              "    <tr>\n",
              "      <th>16</th>\n",
              "      <td>595</td>\n",
              "      <td>0</td>\n",
              "      <td>0.0</td>\n",
              "      <td>8.532592</td>\n",
              "      <td>8</td>\n",
              "      <td>8</td>\n",
              "      <td>25.0</td>\n",
              "      <td>6.0</td>\n",
              "      <td>20.0</td>\n",
              "      <td>-0.17395</td>\n",
              "      <td>0</td>\n",
              "      <td>4</td>\n",
              "      <td>1</td>\n",
              "    </tr>\n",
              "    <tr>\n",
              "      <th>17</th>\n",
              "      <td>927</td>\n",
              "      <td>0</td>\n",
              "      <td>0.0</td>\n",
              "      <td>7.256841</td>\n",
              "      <td>14</td>\n",
              "      <td>14</td>\n",
              "      <td>25.0</td>\n",
              "      <td>6.0</td>\n",
              "      <td>20.0</td>\n",
              "      <td>-0.17395</td>\n",
              "      <td>0</td>\n",
              "      <td>4</td>\n",
              "      <td>1</td>\n",
              "    </tr>\n",
              "    <tr>\n",
              "      <th>18</th>\n",
              "      <td>785</td>\n",
              "      <td>0</td>\n",
              "      <td>0.0</td>\n",
              "      <td>9.249177</td>\n",
              "      <td>8</td>\n",
              "      <td>8</td>\n",
              "      <td>25.0</td>\n",
              "      <td>6.0</td>\n",
              "      <td>20.0</td>\n",
              "      <td>-0.17395</td>\n",
              "      <td>0</td>\n",
              "      <td>4</td>\n",
              "      <td>1</td>\n",
              "    </tr>\n",
              "    <tr>\n",
              "      <th>19</th>\n",
              "      <td>1002</td>\n",
              "      <td>0</td>\n",
              "      <td>0.0</td>\n",
              "      <td>7.461563</td>\n",
              "      <td>14</td>\n",
              "      <td>14</td>\n",
              "      <td>25.0</td>\n",
              "      <td>6.0</td>\n",
              "      <td>20.0</td>\n",
              "      <td>-0.17395</td>\n",
              "      <td>0</td>\n",
              "      <td>4</td>\n",
              "      <td>1</td>\n",
              "    </tr>\n",
              "  </tbody>\n",
              "</table>\n",
              "</div>"
            ],
            "text/plain": [
              "    farm_id  ingredient_type  yield  ...  hour  weekend  month\n",
              "0       142                0    0.0  ...     0        4      1\n",
              "1      1307                0    0.0  ...     0        4      1\n",
              "2       376                0    0.0  ...     0        4      1\n",
              "3       134                0    0.0  ...     0        4      1\n",
              "4       986                0    0.0  ...     0        4      1\n",
              "5       280                0    0.0  ...     0        4      1\n",
              "6      1256                0    0.0  ...     0        4      1\n",
              "7       591                0    0.0  ...     0        4      1\n",
              "8       140                0    0.0  ...     0        4      1\n",
              "9       581                0    0.0  ...     0        4      1\n",
              "10      976                0    0.0  ...     0        4      1\n",
              "11      407                0    0.0  ...     0        4      1\n",
              "12      903                0    0.0  ...     0        4      1\n",
              "13      720                0    0.0  ...     0        4      1\n",
              "14      790                0    0.0  ...     0        4      1\n",
              "15      128                0    0.0  ...     0        4      1\n",
              "16      595                0    0.0  ...     0        4      1\n",
              "17      927                0    0.0  ...     0        4      1\n",
              "18      785                0    0.0  ...     0        4      1\n",
              "19     1002                0    0.0  ...     0        4      1\n",
              "\n",
              "[20 rows x 13 columns]"
            ]
          },
          "metadata": {
            "tags": []
          },
          "execution_count": 48
        }
      ]
    },
    {
      "cell_type": "code",
      "metadata": {
        "colab": {
          "base_uri": "https://localhost:8080/"
        },
        "id": "4psUu3JqHNuD",
        "outputId": "be3f09b9-98a0-4790-b24e-4dbc1d6b8f27"
      },
      "source": [
        "target = np.log1p(train_df[\"yield\"])\n",
        "train_df = train_df.drop('yield', axis = 1)\n",
        "gc.collect()"
      ],
      "execution_count": null,
      "outputs": [
        {
          "output_type": "execute_result",
          "data": {
            "text/plain": [
              "112"
            ]
          },
          "metadata": {
            "tags": []
          },
          "execution_count": 49
        }
      ]
    },
    {
      "cell_type": "code",
      "metadata": {
        "colab": {
          "base_uri": "https://localhost:8080/"
        },
        "id": "E---NzPKId-h",
        "outputId": "3c1d324b-b607-4ac5-99c7-f0ab0243e583"
      },
      "source": [
        "categorical_features = [\"farm_id\", \"deidentified_location\", \"ingredient_type\", \"farming_company\", \"weekend\"]\n",
        "features = [col for col in train_df.columns if col not in ['month']]\n",
        "params = {\n",
        "    \"objective\": \"regression\",\n",
        "    \"boosting\": \"gbdt\",\n",
        "    \"num_leaves\": 1580,\n",
        "    \"learning_rate\": 0.05,\n",
        "    \"feature_fraction\": 0.85,\n",
        "    \"reg_lambda\": 1,\n",
        "    \"metric\": \"rmse\",\n",
        "}\n",
        "\n",
        "kf = StratifiedKFold(n_splits=5, shuffle=False, random_state=2319)\n",
        "models = []\n",
        "for train_index,test_index in kf.split(train_df, train_df['month']):\n",
        "    train_features = train_df[features].loc[train_index]\n",
        "    train_target = target.loc[train_index]\n",
        "    \n",
        "    test_features = train_df[features].loc[test_index]\n",
        "    test_target = target.loc[test_index]\n",
        "    \n",
        "    d_training = lgb.Dataset(train_features, label=train_target,categorical_feature=categorical_features, free_raw_data=False)\n",
        "    d_test = lgb.Dataset(test_features, label=test_target,categorical_feature=categorical_features, free_raw_data=False)\n",
        "    \n",
        "    model = lgb.train(params, train_set=d_training, num_boost_round=3000, valid_sets=[d_training,d_test], verbose_eval=25, early_stopping_rounds=50)\n",
        "    models.append(model)\n",
        "    del train_features, train_target, test_features, test_target, d_training, d_test\n",
        "    gc.collect()"
      ],
      "execution_count": null,
      "outputs": [
        {
          "output_type": "stream",
          "text": [
            "/usr/local/lib/python3.7/dist-packages/sklearn/model_selection/_split.py:296: FutureWarning: Setting a random_state has no effect since shuffle is False. This will raise an error in 0.24. You should leave random_state to its default (None), or set shuffle=True.\n",
            "  FutureWarning\n",
            "/usr/local/lib/python3.7/dist-packages/lightgbm/basic.py:1205: UserWarning: Using categorical_feature in Dataset.\n",
            "  warnings.warn('Using categorical_feature in Dataset.')\n",
            "/usr/local/lib/python3.7/dist-packages/lightgbm/basic.py:762: UserWarning: categorical_feature in param dict is overridden.\n",
            "  warnings.warn('categorical_feature in param dict is overridden.')\n"
          ],
          "name": "stderr"
        },
        {
          "output_type": "stream",
          "text": [
            "Training until validation scores don't improve for 50 rounds.\n",
            "[25]\ttraining's rmse: 1.20945\tvalid_1's rmse: 1.24836\n",
            "[50]\ttraining's rmse: 1.02659\tvalid_1's rmse: 1.09438\n",
            "[75]\ttraining's rmse: 0.955788\tvalid_1's rmse: 1.05677\n",
            "[100]\ttraining's rmse: 0.911095\tvalid_1's rmse: 1.05015\n",
            "[125]\ttraining's rmse: 0.881111\tvalid_1's rmse: 1.04879\n",
            "[150]\ttraining's rmse: 0.859855\tvalid_1's rmse: 1.05019\n",
            "Early stopping, best iteration is:\n",
            "[119]\ttraining's rmse: 0.888168\tvalid_1's rmse: 1.04833\n",
            "Training until validation scores don't improve for 50 rounds.\n",
            "[25]\ttraining's rmse: 1.18592\tvalid_1's rmse: 1.30828\n",
            "[50]\ttraining's rmse: 0.998059\tvalid_1's rmse: 1.1854\n",
            "[75]\ttraining's rmse: 0.928491\tvalid_1's rmse: 1.15809\n",
            "[100]\ttraining's rmse: 0.887759\tvalid_1's rmse: 1.15243\n",
            "[125]\ttraining's rmse: 0.859505\tvalid_1's rmse: 1.15211\n",
            "[150]\ttraining's rmse: 0.839973\tvalid_1's rmse: 1.15296\n",
            "Early stopping, best iteration is:\n",
            "[117]\ttraining's rmse: 0.868622\tvalid_1's rmse: 1.15131\n",
            "Training until validation scores don't improve for 50 rounds.\n",
            "[25]\ttraining's rmse: 1.19938\tvalid_1's rmse: 1.25471\n",
            "[50]\ttraining's rmse: 1.00941\tvalid_1's rmse: 1.12711\n",
            "[75]\ttraining's rmse: 0.941113\tvalid_1's rmse: 1.09884\n",
            "[100]\ttraining's rmse: 0.901072\tvalid_1's rmse: 1.09401\n",
            "[125]\ttraining's rmse: 0.871932\tvalid_1's rmse: 1.09312\n",
            "[150]\ttraining's rmse: 0.849918\tvalid_1's rmse: 1.09397\n",
            "Early stopping, best iteration is:\n",
            "[116]\ttraining's rmse: 0.882391\tvalid_1's rmse: 1.09254\n",
            "Training until validation scores don't improve for 50 rounds.\n",
            "[25]\ttraining's rmse: 1.20902\tvalid_1's rmse: 1.21966\n",
            "[50]\ttraining's rmse: 1.02123\tvalid_1's rmse: 1.07622\n",
            "[75]\ttraining's rmse: 0.952809\tvalid_1's rmse: 1.04363\n",
            "[100]\ttraining's rmse: 0.91079\tvalid_1's rmse: 1.03798\n",
            "[125]\ttraining's rmse: 0.882173\tvalid_1's rmse: 1.03595\n",
            "[150]\ttraining's rmse: 0.860135\tvalid_1's rmse: 1.03628\n",
            "Early stopping, best iteration is:\n",
            "[119]\ttraining's rmse: 0.88884\tvalid_1's rmse: 1.0358\n",
            "Training until validation scores don't improve for 50 rounds.\n",
            "[25]\ttraining's rmse: 1.2074\tvalid_1's rmse: 1.23877\n",
            "[50]\ttraining's rmse: 1.0159\tvalid_1's rmse: 1.10056\n",
            "[75]\ttraining's rmse: 0.943755\tvalid_1's rmse: 1.07551\n",
            "[100]\ttraining's rmse: 0.900775\tvalid_1's rmse: 1.07351\n",
            "[125]\ttraining's rmse: 0.870651\tvalid_1's rmse: 1.07518\n",
            "[150]\ttraining's rmse: 0.849522\tvalid_1's rmse: 1.07741\n",
            "Early stopping, best iteration is:\n",
            "[101]\ttraining's rmse: 0.899863\tvalid_1's rmse: 1.07335\n"
          ],
          "name": "stdout"
        }
      ]
    },
    {
      "cell_type": "code",
      "metadata": {
        "colab": {
          "base_uri": "https://localhost:8080/",
          "height": 1000
        },
        "id": "JlGo5CcSIum5",
        "outputId": "4d6cc659-9a76-429d-b682-9df8dbe6fd8f"
      },
      "source": [
        "for model in models:\n",
        "    lgb.plot_importance(model)\n",
        "    plt.show()"
      ],
      "execution_count": null,
      "outputs": [
        {
          "output_type": "display_data",
          "data": {
            "image/png": "[encoded data removed]",
            "text/plain": [
              "<Figure size 432x288 with 1 Axes>"
            ]
          },
          "metadata": {
            "tags": [],
            "needs_background": "light"
          }
        },
        {
          "output_type": "display_data",
          "data": {
            "image/png": "[encoded data removed]",
            "text/plain": [
              "<Figure size 432x288 with 1 Axes>"
            ]
          },
          "metadata": {
            "tags": [],
            "needs_background": "light"
          }
        },
        {
          "output_type": "display_data",
          "data": {
            "image/png": "[encoded data removed]",
            "text/plain": [
              "<Figure size 432x288 with 1 Axes>"
            ]
          },
          "metadata": {
            "tags": [],
            "needs_background": "light"
          }
        },
        {
          "output_type": "display_data",
          "data": {
            "image/png": "[encoded data removed]",
            "text/plain": [
              "<Figure size 432x288 with 1 Axes>"
            ]
          },
          "metadata": {
            "tags": [],
            "needs_background": "light"
          }
        },
        {
          "output_type": "display_data",
          "data": {
            "image/png": "[encoded data removed]",
            "text/plain": [
              "<Figure size 432x288 with 1 Axes>"
            ]
          },
          "metadata": {
            "tags": [],
            "needs_background": "light"
          }
        }
      ]
    },
    {
      "cell_type": "code",
      "metadata": {
        "colab": {
          "base_uri": "https://localhost:8080/"
        },
        "id": "fB26gB5bNLAX",
        "outputId": "02ce3b4f-5be9-4596-d8f9-01a111919089"
      },
      "source": [
        "test_df = pd.read_csv(DATA_PATH + 'test_data.csv')\n",
        "row_ids = test_df[\"id\"]\n",
        "test_df.drop(\"id\", axis=1, inplace=True)\n",
        "test_df = reduce_mem_usage(test_df)"
      ],
      "execution_count": null,
      "outputs": [
        {
          "output_type": "stream",
          "text": [
            "Memory usage of dataframe is 477.19 MB\n",
            "Memory usage after optimization is: 99.84 MB\n",
            "Decreased by 79.1%\n"
          ],
          "name": "stdout"
        }
      ]
    },
    {
      "cell_type": "code",
      "metadata": {
        "colab": {
          "base_uri": "https://localhost:8080/"
        },
        "id": "Vzzm0lrINdcL",
        "outputId": "1ba88b1e-c3f4-4199-a7af-37d84f56d5d0"
      },
      "source": [
        "test_df = test_df.merge(farm_df,left_on='farm_id',right_on='farm_id',how='left')\n",
        "del farm_df\n",
        "gc.collect()"
      ],
      "execution_count": null,
      "outputs": [
        {
          "output_type": "execute_result",
          "data": {
            "text/plain": [
              "19165"
            ]
          },
          "metadata": {
            "tags": []
          },
          "execution_count": 53
        }
      ]
    },
    {
      "cell_type": "code",
      "metadata": {
        "colab": {
          "base_uri": "https://localhost:8080/"
        },
        "id": "XaGPK7-mNp2A",
        "outputId": "e31e4132-a433-4a6f-ffcd-33150c4dedfa"
      },
      "source": [
        "weather_df = pd.read_csv(DATA_PATH + 'test_weather.csv')\n",
        "weather_df = fill_weather_dataset(weather_df)\n",
        "weather_df = reduce_mem_usage(weather_df)"
      ],
      "execution_count": null,
      "outputs": [
        {
          "output_type": "stream",
          "text": [
            "/usr/local/lib/python3.7/dist-packages/ipykernel_launcher.py:24: FutureWarning: Series.dt.weekofyear and Series.dt.week have been deprecated.  Please use Series.dt.isocalendar().week instead.\n"
          ],
          "name": "stderr"
        },
        {
          "output_type": "stream",
          "text": [
            "Memory usage of dataframe is 19.16 MB\n",
            "Memory usage after optimization is: 8.63 MB\n",
            "Decreased by 55.0%\n"
          ],
          "name": "stdout"
        }
      ]
    },
    {
      "cell_type": "code",
      "metadata": {
        "colab": {
          "base_uri": "https://localhost:8080/"
        },
        "id": "Tn1lt5GfOjh7",
        "outputId": "e7b041e2-4167-428d-e7e8-7f4f2b16953f"
      },
      "source": [
        "test_df.columns"
      ],
      "execution_count": null,
      "outputs": [
        {
          "output_type": "execute_result",
          "data": {
            "text/plain": [
              "Index(['date', 'farm_id', 'ingredient_type', 'operations_commencing_year',\n",
              "       'num_processing_plants', 'farm_area', 'farming_company',\n",
              "       'deidentified_location'],\n",
              "      dtype='object')"
            ]
          },
          "metadata": {
            "tags": []
          },
          "execution_count": 55
        }
      ]
    },
    {
      "cell_type": "code",
      "metadata": {
        "id": "MbkpU3_WOh-y"
      },
      "source": [
        "test_df.columns = ['timestamp', 'farm_id', 'ingredient_type', 'operations_commencing_year',\n",
        "       'num_processing_plants', 'farm_area', 'farming_company',\n",
        "       'deidentified_location']"
      ],
      "execution_count": null,
      "outputs": []
    },
    {
      "cell_type": "code",
      "metadata": {
        "colab": {
          "base_uri": "https://localhost:8080/"
        },
        "id": "40otkXvEOUBF",
        "outputId": "6b70cd24-b898-4ff2-dee0-25d0053cbef9"
      },
      "source": [
        "test_df = test_df.merge(weather_df,how='left',on=['timestamp','deidentified_location'])\n",
        "del weather_df\n",
        "gc.collect()"
      ],
      "execution_count": null,
      "outputs": [
        {
          "output_type": "execute_result",
          "data": {
            "text/plain": [
              "150"
            ]
          },
          "metadata": {
            "tags": []
          },
          "execution_count": 57
        }
      ]
    },
    {
      "cell_type": "code",
      "metadata": {
        "id": "qC8r-NiAOdER"
      },
      "source": [
        "test_df = features_engineering(test_df)"
      ],
      "execution_count": null,
      "outputs": []
    },
    {
      "cell_type": "code",
      "metadata": {
        "colab": {
          "base_uri": "https://localhost:8080/",
          "height": 669
        },
        "id": "G5wtJ8OuOzlF",
        "outputId": "85d406ba-28c1-4783-8a2d-0accb31647ab"
      },
      "source": [
        "test_df.head(20)"
      ],
      "execution_count": null,
      "outputs": [
        {
          "output_type": "execute_result",
          "data": {
            "text/html": [
              "<div>\n",
              "<style scoped>\n",
              "    .dataframe tbody tr th:only-of-type {\n",
              "        vertical-align: middle;\n",
              "    }\n",
              "\n",
              "    .dataframe tbody tr th {\n",
              "        vertical-align: top;\n",
              "    }\n",
              "\n",
              "    .dataframe thead th {\n",
              "        text-align: right;\n",
              "    }\n",
              "</style>\n",
              "<table border=\"1\" class=\"dataframe\">\n",
              "  <thead>\n",
              "    <tr style=\"text-align: right;\">\n",
              "      <th></th>\n",
              "      <th>farm_id</th>\n",
              "      <th>ingredient_type</th>\n",
              "      <th>farm_area</th>\n",
              "      <th>farming_company</th>\n",
              "      <th>deidentified_location</th>\n",
              "      <th>temp_obs</th>\n",
              "      <th>cloudiness</th>\n",
              "      <th>dew_temp</th>\n",
              "      <th>precipitation</th>\n",
              "      <th>hour</th>\n",
              "      <th>weekend</th>\n",
              "      <th>month</th>\n",
              "    </tr>\n",
              "  </thead>\n",
              "  <tbody>\n",
              "    <tr>\n",
              "      <th>0</th>\n",
              "      <td>142</td>\n",
              "      <td>0</td>\n",
              "      <td>6.538798</td>\n",
              "      <td>8</td>\n",
              "      <td>8</td>\n",
              "      <td>17.799999</td>\n",
              "      <td>4.0</td>\n",
              "      <td>11.7</td>\n",
              "      <td>0.0</td>\n",
              "      <td>0</td>\n",
              "      <td>6</td>\n",
              "      <td>1</td>\n",
              "    </tr>\n",
              "    <tr>\n",
              "      <th>1</th>\n",
              "      <td>1307</td>\n",
              "      <td>0</td>\n",
              "      <td>5.536138</td>\n",
              "      <td>8</td>\n",
              "      <td>8</td>\n",
              "      <td>17.799999</td>\n",
              "      <td>4.0</td>\n",
              "      <td>11.7</td>\n",
              "      <td>0.0</td>\n",
              "      <td>0</td>\n",
              "      <td>6</td>\n",
              "      <td>1</td>\n",
              "    </tr>\n",
              "    <tr>\n",
              "      <th>2</th>\n",
              "      <td>376</td>\n",
              "      <td>0</td>\n",
              "      <td>6.215501</td>\n",
              "      <td>8</td>\n",
              "      <td>8</td>\n",
              "      <td>17.799999</td>\n",
              "      <td>4.0</td>\n",
              "      <td>11.7</td>\n",
              "      <td>0.0</td>\n",
              "      <td>0</td>\n",
              "      <td>6</td>\n",
              "      <td>1</td>\n",
              "    </tr>\n",
              "    <tr>\n",
              "      <th>3</th>\n",
              "      <td>134</td>\n",
              "      <td>0</td>\n",
              "      <td>7.696852</td>\n",
              "      <td>8</td>\n",
              "      <td>8</td>\n",
              "      <td>17.799999</td>\n",
              "      <td>4.0</td>\n",
              "      <td>11.7</td>\n",
              "      <td>0.0</td>\n",
              "      <td>0</td>\n",
              "      <td>6</td>\n",
              "      <td>1</td>\n",
              "    </tr>\n",
              "    <tr>\n",
              "      <th>4</th>\n",
              "      <td>986</td>\n",
              "      <td>0</td>\n",
              "      <td>9.290458</td>\n",
              "      <td>8</td>\n",
              "      <td>8</td>\n",
              "      <td>17.799999</td>\n",
              "      <td>4.0</td>\n",
              "      <td>11.7</td>\n",
              "      <td>0.0</td>\n",
              "      <td>0</td>\n",
              "      <td>6</td>\n",
              "      <td>1</td>\n",
              "    </tr>\n",
              "    <tr>\n",
              "      <th>5</th>\n",
              "      <td>280</td>\n",
              "      <td>0</td>\n",
              "      <td>6.612342</td>\n",
              "      <td>8</td>\n",
              "      <td>8</td>\n",
              "      <td>17.799999</td>\n",
              "      <td>4.0</td>\n",
              "      <td>11.7</td>\n",
              "      <td>0.0</td>\n",
              "      <td>0</td>\n",
              "      <td>6</td>\n",
              "      <td>1</td>\n",
              "    </tr>\n",
              "    <tr>\n",
              "      <th>6</th>\n",
              "      <td>1256</td>\n",
              "      <td>0</td>\n",
              "      <td>7.861499</td>\n",
              "      <td>1</td>\n",
              "      <td>1</td>\n",
              "      <td>17.799999</td>\n",
              "      <td>4.0</td>\n",
              "      <td>11.7</td>\n",
              "      <td>0.0</td>\n",
              "      <td>0</td>\n",
              "      <td>6</td>\n",
              "      <td>1</td>\n",
              "    </tr>\n",
              "    <tr>\n",
              "      <th>7</th>\n",
              "      <td>591</td>\n",
              "      <td>0</td>\n",
              "      <td>9.328047</td>\n",
              "      <td>8</td>\n",
              "      <td>8</td>\n",
              "      <td>17.799999</td>\n",
              "      <td>4.0</td>\n",
              "      <td>11.7</td>\n",
              "      <td>0.0</td>\n",
              "      <td>0</td>\n",
              "      <td>6</td>\n",
              "      <td>1</td>\n",
              "    </tr>\n",
              "    <tr>\n",
              "      <th>8</th>\n",
              "      <td>591</td>\n",
              "      <td>1</td>\n",
              "      <td>9.328047</td>\n",
              "      <td>8</td>\n",
              "      <td>8</td>\n",
              "      <td>17.799999</td>\n",
              "      <td>4.0</td>\n",
              "      <td>11.7</td>\n",
              "      <td>0.0</td>\n",
              "      <td>0</td>\n",
              "      <td>6</td>\n",
              "      <td>1</td>\n",
              "    </tr>\n",
              "    <tr>\n",
              "      <th>9</th>\n",
              "      <td>140</td>\n",
              "      <td>0</td>\n",
              "      <td>8.639471</td>\n",
              "      <td>8</td>\n",
              "      <td>8</td>\n",
              "      <td>17.799999</td>\n",
              "      <td>4.0</td>\n",
              "      <td>11.7</td>\n",
              "      <td>0.0</td>\n",
              "      <td>0</td>\n",
              "      <td>6</td>\n",
              "      <td>1</td>\n",
              "    </tr>\n",
              "    <tr>\n",
              "      <th>10</th>\n",
              "      <td>581</td>\n",
              "      <td>0</td>\n",
              "      <td>7.827791</td>\n",
              "      <td>14</td>\n",
              "      <td>14</td>\n",
              "      <td>17.799999</td>\n",
              "      <td>4.0</td>\n",
              "      <td>11.7</td>\n",
              "      <td>0.0</td>\n",
              "      <td>0</td>\n",
              "      <td>6</td>\n",
              "      <td>1</td>\n",
              "    </tr>\n",
              "    <tr>\n",
              "      <th>11</th>\n",
              "      <td>581</td>\n",
              "      <td>1</td>\n",
              "      <td>7.827791</td>\n",
              "      <td>14</td>\n",
              "      <td>14</td>\n",
              "      <td>17.799999</td>\n",
              "      <td>4.0</td>\n",
              "      <td>11.7</td>\n",
              "      <td>0.0</td>\n",
              "      <td>0</td>\n",
              "      <td>6</td>\n",
              "      <td>1</td>\n",
              "    </tr>\n",
              "    <tr>\n",
              "      <th>12</th>\n",
              "      <td>976</td>\n",
              "      <td>0</td>\n",
              "      <td>10.447175</td>\n",
              "      <td>11</td>\n",
              "      <td>11</td>\n",
              "      <td>17.799999</td>\n",
              "      <td>4.0</td>\n",
              "      <td>11.7</td>\n",
              "      <td>0.0</td>\n",
              "      <td>0</td>\n",
              "      <td>6</td>\n",
              "      <td>1</td>\n",
              "    </tr>\n",
              "    <tr>\n",
              "      <th>13</th>\n",
              "      <td>407</td>\n",
              "      <td>0</td>\n",
              "      <td>8.425084</td>\n",
              "      <td>8</td>\n",
              "      <td>8</td>\n",
              "      <td>17.799999</td>\n",
              "      <td>4.0</td>\n",
              "      <td>11.7</td>\n",
              "      <td>0.0</td>\n",
              "      <td>0</td>\n",
              "      <td>6</td>\n",
              "      <td>1</td>\n",
              "    </tr>\n",
              "    <tr>\n",
              "      <th>14</th>\n",
              "      <td>903</td>\n",
              "      <td>0</td>\n",
              "      <td>8.145463</td>\n",
              "      <td>1</td>\n",
              "      <td>1</td>\n",
              "      <td>17.799999</td>\n",
              "      <td>4.0</td>\n",
              "      <td>11.7</td>\n",
              "      <td>0.0</td>\n",
              "      <td>0</td>\n",
              "      <td>6</td>\n",
              "      <td>1</td>\n",
              "    </tr>\n",
              "    <tr>\n",
              "      <th>15</th>\n",
              "      <td>720</td>\n",
              "      <td>0</td>\n",
              "      <td>9.130615</td>\n",
              "      <td>8</td>\n",
              "      <td>8</td>\n",
              "      <td>17.799999</td>\n",
              "      <td>4.0</td>\n",
              "      <td>11.7</td>\n",
              "      <td>0.0</td>\n",
              "      <td>0</td>\n",
              "      <td>6</td>\n",
              "      <td>1</td>\n",
              "    </tr>\n",
              "    <tr>\n",
              "      <th>16</th>\n",
              "      <td>720</td>\n",
              "      <td>1</td>\n",
              "      <td>9.130615</td>\n",
              "      <td>8</td>\n",
              "      <td>8</td>\n",
              "      <td>17.799999</td>\n",
              "      <td>4.0</td>\n",
              "      <td>11.7</td>\n",
              "      <td>0.0</td>\n",
              "      <td>0</td>\n",
              "      <td>6</td>\n",
              "      <td>1</td>\n",
              "    </tr>\n",
              "    <tr>\n",
              "      <th>17</th>\n",
              "      <td>790</td>\n",
              "      <td>0</td>\n",
              "      <td>8.988931</td>\n",
              "      <td>8</td>\n",
              "      <td>8</td>\n",
              "      <td>17.799999</td>\n",
              "      <td>4.0</td>\n",
              "      <td>11.7</td>\n",
              "      <td>0.0</td>\n",
              "      <td>0</td>\n",
              "      <td>6</td>\n",
              "      <td>1</td>\n",
              "    </tr>\n",
              "    <tr>\n",
              "      <th>18</th>\n",
              "      <td>790</td>\n",
              "      <td>1</td>\n",
              "      <td>8.988931</td>\n",
              "      <td>8</td>\n",
              "      <td>8</td>\n",
              "      <td>17.799999</td>\n",
              "      <td>4.0</td>\n",
              "      <td>11.7</td>\n",
              "      <td>0.0</td>\n",
              "      <td>0</td>\n",
              "      <td>6</td>\n",
              "      <td>1</td>\n",
              "    </tr>\n",
              "    <tr>\n",
              "      <th>19</th>\n",
              "      <td>128</td>\n",
              "      <td>0</td>\n",
              "      <td>8.961988</td>\n",
              "      <td>14</td>\n",
              "      <td>14</td>\n",
              "      <td>17.799999</td>\n",
              "      <td>4.0</td>\n",
              "      <td>11.7</td>\n",
              "      <td>0.0</td>\n",
              "      <td>0</td>\n",
              "      <td>6</td>\n",
              "      <td>1</td>\n",
              "    </tr>\n",
              "  </tbody>\n",
              "</table>\n",
              "</div>"
            ],
            "text/plain": [
              "    farm_id  ingredient_type  farm_area  ...  hour  weekend  month\n",
              "0       142                0   6.538798  ...     0        6      1\n",
              "1      1307                0   5.536138  ...     0        6      1\n",
              "2       376                0   6.215501  ...     0        6      1\n",
              "3       134                0   7.696852  ...     0        6      1\n",
              "4       986                0   9.290458  ...     0        6      1\n",
              "5       280                0   6.612342  ...     0        6      1\n",
              "6      1256                0   7.861499  ...     0        6      1\n",
              "7       591                0   9.328047  ...     0        6      1\n",
              "8       591                1   9.328047  ...     0        6      1\n",
              "9       140                0   8.639471  ...     0        6      1\n",
              "10      581                0   7.827791  ...     0        6      1\n",
              "11      581                1   7.827791  ...     0        6      1\n",
              "12      976                0  10.447175  ...     0        6      1\n",
              "13      407                0   8.425084  ...     0        6      1\n",
              "14      903                0   8.145463  ...     0        6      1\n",
              "15      720                0   9.130615  ...     0        6      1\n",
              "16      720                1   9.130615  ...     0        6      1\n",
              "17      790                0   8.988931  ...     0        6      1\n",
              "18      790                1   8.988931  ...     0        6      1\n",
              "19      128                0   8.961988  ...     0        6      1\n",
              "\n",
              "[20 rows x 12 columns]"
            ]
          },
          "metadata": {
            "tags": []
          },
          "execution_count": 59
        }
      ]
    },
    {
      "cell_type": "code",
      "metadata": {
        "id": "USchwXV4WyfF",
        "colab": {
          "base_uri": "https://localhost:8080/"
        },
        "outputId": "cc977519-d189-4097-e7f1-891cc85ec761"
      },
      "source": [
        "results[::-1]"
      ],
      "execution_count": null,
      "outputs": [
        {
          "output_type": "execute_result",
          "data": {
            "text/plain": [
              "array([inf, inf, inf, ..., inf, inf, inf])"
            ]
          },
          "metadata": {
            "tags": []
          },
          "execution_count": 60
        }
      ]
    },
    {
      "cell_type": "code",
      "metadata": {
        "id": "wGLO4bJOO9sg",
        "colab": {
          "base_uri": "https://localhost:8080/"
        },
        "outputId": "d464ed78-3abb-4d10-a542-c5a2ee578b3d"
      },
      "source": [
        "results = []\n",
        "for model in models:\n",
        "    if  results == []:\n",
        "        results = np.expm1(model.predict(test_df, num_iteration=model.best_iteration)) / len(models)\n",
        "    else:\n",
        "        results += np.expm1(model.predict(test_df, num_iteration=model.best_iteration)) / len(models)\n",
        "    del model\n",
        "    gc.collect()"
      ],
      "execution_count": null,
      "outputs": [
        {
          "output_type": "stream",
          "text": [
            "/usr/local/lib/python3.7/dist-packages/ipykernel_launcher.py:3: DeprecationWarning: elementwise comparison failed; this will raise an error in the future.\n",
            "  This is separate from the ipykernel package so we can avoid doing imports until\n"
          ],
          "name": "stderr"
        }
      ]
    },
    {
      "cell_type": "code",
      "metadata": {
        "id": "V7KkH-QYbkLL",
        "colab": {
          "base_uri": "https://localhost:8080/"
        },
        "outputId": "daa921ff-08b8-4c55-b9dd-8aecec3602a1"
      },
      "source": [
        "results[:10]"
      ],
      "execution_count": null,
      "outputs": [
        {
          "output_type": "execute_result",
          "data": {
            "text/plain": [
              "array([  7.57396038,   4.11009486,   1.07568786,   8.34848464,\n",
              "        15.76717207,   1.11563722,   4.98548135,  11.47607575,\n",
              "       152.78890357,   8.27799158])"
            ]
          },
          "metadata": {
            "tags": []
          },
          "execution_count": 76
        }
      ]
    },
    {
      "cell_type": "code",
      "metadata": {
        "id": "NwiEPJdMXDOF",
        "colab": {
          "base_uri": "https://localhost:8080/"
        },
        "outputId": "ee09fd1c-b552-4c66-ceae-516d0a581c65"
      },
      "source": [
        "results_df = pd.DataFrame({\"id\": row_ids, \"yield\": np.clip(results, 0, a_max=None)})\n",
        "#del row_ids,results\n",
        "gc.collect()\n",
        "#results_df.to_csv(\"submission.csv\", index=False)"
      ],
      "execution_count": null,
      "outputs": [
        {
          "output_type": "execute_result",
          "data": {
            "text/plain": [
              "1003"
            ]
          },
          "metadata": {
            "tags": []
          },
          "execution_count": 74
        }
      ]
    },
    {
      "cell_type": "code",
      "metadata": {
        "id": "hKYJM2Z2YKLt",
        "colab": {
          "base_uri": "https://localhost:8080/",
          "height": 669
        },
        "outputId": "151141a1-1e85-4b9a-b446-34394b9cba0e"
      },
      "source": [
        "results_df.head(20)"
      ],
      "execution_count": null,
      "outputs": [
        {
          "output_type": "execute_result",
          "data": {
            "text/html": [
              "<div>\n",
              "<style scoped>\n",
              "    .dataframe tbody tr th:only-of-type {\n",
              "        vertical-align: middle;\n",
              "    }\n",
              "\n",
              "    .dataframe tbody tr th {\n",
              "        vertical-align: top;\n",
              "    }\n",
              "\n",
              "    .dataframe thead th {\n",
              "        text-align: right;\n",
              "    }\n",
              "</style>\n",
              "<table border=\"1\" class=\"dataframe\">\n",
              "  <thead>\n",
              "    <tr style=\"text-align: right;\">\n",
              "      <th></th>\n",
              "      <th>id</th>\n",
              "      <th>yield</th>\n",
              "    </tr>\n",
              "  </thead>\n",
              "  <tbody>\n",
              "    <tr>\n",
              "      <th>0</th>\n",
              "      <td>0</td>\n",
              "      <td>7.573960</td>\n",
              "    </tr>\n",
              "    <tr>\n",
              "      <th>1</th>\n",
              "      <td>1</td>\n",
              "      <td>4.110095</td>\n",
              "    </tr>\n",
              "    <tr>\n",
              "      <th>2</th>\n",
              "      <td>2</td>\n",
              "      <td>1.075688</td>\n",
              "    </tr>\n",
              "    <tr>\n",
              "      <th>3</th>\n",
              "      <td>3</td>\n",
              "      <td>8.348485</td>\n",
              "    </tr>\n",
              "    <tr>\n",
              "      <th>4</th>\n",
              "      <td>4</td>\n",
              "      <td>15.767172</td>\n",
              "    </tr>\n",
              "    <tr>\n",
              "      <th>5</th>\n",
              "      <td>5</td>\n",
              "      <td>1.115637</td>\n",
              "    </tr>\n",
              "    <tr>\n",
              "      <th>6</th>\n",
              "      <td>6</td>\n",
              "      <td>4.985481</td>\n",
              "    </tr>\n",
              "    <tr>\n",
              "      <th>7</th>\n",
              "      <td>7</td>\n",
              "      <td>11.476076</td>\n",
              "    </tr>\n",
              "    <tr>\n",
              "      <th>8</th>\n",
              "      <td>8</td>\n",
              "      <td>152.788904</td>\n",
              "    </tr>\n",
              "    <tr>\n",
              "      <th>9</th>\n",
              "      <td>9</td>\n",
              "      <td>8.277992</td>\n",
              "    </tr>\n",
              "    <tr>\n",
              "      <th>10</th>\n",
              "      <td>10</td>\n",
              "      <td>4.215880</td>\n",
              "    </tr>\n",
              "    <tr>\n",
              "      <th>11</th>\n",
              "      <td>11</td>\n",
              "      <td>8.121603</td>\n",
              "    </tr>\n",
              "    <tr>\n",
              "      <th>12</th>\n",
              "      <td>12</td>\n",
              "      <td>17.827520</td>\n",
              "    </tr>\n",
              "    <tr>\n",
              "      <th>13</th>\n",
              "      <td>13</td>\n",
              "      <td>9.193402</td>\n",
              "    </tr>\n",
              "    <tr>\n",
              "      <th>14</th>\n",
              "      <td>14</td>\n",
              "      <td>6.622682</td>\n",
              "    </tr>\n",
              "    <tr>\n",
              "      <th>15</th>\n",
              "      <td>15</td>\n",
              "      <td>10.170921</td>\n",
              "    </tr>\n",
              "    <tr>\n",
              "      <th>16</th>\n",
              "      <td>16</td>\n",
              "      <td>25.786426</td>\n",
              "    </tr>\n",
              "    <tr>\n",
              "      <th>17</th>\n",
              "      <td>17</td>\n",
              "      <td>6.880677</td>\n",
              "    </tr>\n",
              "    <tr>\n",
              "      <th>18</th>\n",
              "      <td>18</td>\n",
              "      <td>403.030506</td>\n",
              "    </tr>\n",
              "    <tr>\n",
              "      <th>19</th>\n",
              "      <td>19</td>\n",
              "      <td>5.772681</td>\n",
              "    </tr>\n",
              "  </tbody>\n",
              "</table>\n",
              "</div>"
            ],
            "text/plain": [
              "    id       yield\n",
              "0    0    7.573960\n",
              "1    1    4.110095\n",
              "2    2    1.075688\n",
              "3    3    8.348485\n",
              "4    4   15.767172\n",
              "5    5    1.115637\n",
              "6    6    4.985481\n",
              "7    7   11.476076\n",
              "8    8  152.788904\n",
              "9    9    8.277992\n",
              "10  10    4.215880\n",
              "11  11    8.121603\n",
              "12  12   17.827520\n",
              "13  13    9.193402\n",
              "14  14    6.622682\n",
              "15  15   10.170921\n",
              "16  16   25.786426\n",
              "17  17    6.880677\n",
              "18  18  403.030506\n",
              "19  19    5.772681"
            ]
          },
          "metadata": {
            "tags": []
          },
          "execution_count": 75
        }
      ]
    },
    {
      "cell_type": "code",
      "metadata": {
        "id": "ffo9Z_KzYPyB",
        "colab": {
          "base_uri": "https://localhost:8080/",
          "height": 204
        },
        "outputId": "0b754cc0-5cfb-4183-cb15-423cf997da6e"
      },
      "source": [
        "test_df.head()"
      ],
      "execution_count": null,
      "outputs": [
        {
          "output_type": "execute_result",
          "data": {
            "text/html": [
              "<div>\n",
              "<style scoped>\n",
              "    .dataframe tbody tr th:only-of-type {\n",
              "        vertical-align: middle;\n",
              "    }\n",
              "\n",
              "    .dataframe tbody tr th {\n",
              "        vertical-align: top;\n",
              "    }\n",
              "\n",
              "    .dataframe thead th {\n",
              "        text-align: right;\n",
              "    }\n",
              "</style>\n",
              "<table border=\"1\" class=\"dataframe\">\n",
              "  <thead>\n",
              "    <tr style=\"text-align: right;\">\n",
              "      <th></th>\n",
              "      <th>farm_id</th>\n",
              "      <th>ingredient_type</th>\n",
              "      <th>farm_area</th>\n",
              "      <th>farming_company</th>\n",
              "      <th>deidentified_location</th>\n",
              "      <th>temp_obs</th>\n",
              "      <th>cloudiness</th>\n",
              "      <th>dew_temp</th>\n",
              "      <th>precipitation</th>\n",
              "      <th>hour</th>\n",
              "      <th>weekend</th>\n",
              "      <th>month</th>\n",
              "    </tr>\n",
              "  </thead>\n",
              "  <tbody>\n",
              "    <tr>\n",
              "      <th>0</th>\n",
              "      <td>142</td>\n",
              "      <td>0</td>\n",
              "      <td>6.538798</td>\n",
              "      <td>8</td>\n",
              "      <td>8</td>\n",
              "      <td>17.799999</td>\n",
              "      <td>4.0</td>\n",
              "      <td>11.7</td>\n",
              "      <td>0.0</td>\n",
              "      <td>0</td>\n",
              "      <td>6</td>\n",
              "      <td>1</td>\n",
              "    </tr>\n",
              "    <tr>\n",
              "      <th>1</th>\n",
              "      <td>1307</td>\n",
              "      <td>0</td>\n",
              "      <td>5.536138</td>\n",
              "      <td>8</td>\n",
              "      <td>8</td>\n",
              "      <td>17.799999</td>\n",
              "      <td>4.0</td>\n",
              "      <td>11.7</td>\n",
              "      <td>0.0</td>\n",
              "      <td>0</td>\n",
              "      <td>6</td>\n",
              "      <td>1</td>\n",
              "    </tr>\n",
              "    <tr>\n",
              "      <th>2</th>\n",
              "      <td>376</td>\n",
              "      <td>0</td>\n",
              "      <td>6.215501</td>\n",
              "      <td>8</td>\n",
              "      <td>8</td>\n",
              "      <td>17.799999</td>\n",
              "      <td>4.0</td>\n",
              "      <td>11.7</td>\n",
              "      <td>0.0</td>\n",
              "      <td>0</td>\n",
              "      <td>6</td>\n",
              "      <td>1</td>\n",
              "    </tr>\n",
              "    <tr>\n",
              "      <th>3</th>\n",
              "      <td>134</td>\n",
              "      <td>0</td>\n",
              "      <td>7.696852</td>\n",
              "      <td>8</td>\n",
              "      <td>8</td>\n",
              "      <td>17.799999</td>\n",
              "      <td>4.0</td>\n",
              "      <td>11.7</td>\n",
              "      <td>0.0</td>\n",
              "      <td>0</td>\n",
              "      <td>6</td>\n",
              "      <td>1</td>\n",
              "    </tr>\n",
              "    <tr>\n",
              "      <th>4</th>\n",
              "      <td>986</td>\n",
              "      <td>0</td>\n",
              "      <td>9.290458</td>\n",
              "      <td>8</td>\n",
              "      <td>8</td>\n",
              "      <td>17.799999</td>\n",
              "      <td>4.0</td>\n",
              "      <td>11.7</td>\n",
              "      <td>0.0</td>\n",
              "      <td>0</td>\n",
              "      <td>6</td>\n",
              "      <td>1</td>\n",
              "    </tr>\n",
              "  </tbody>\n",
              "</table>\n",
              "</div>"
            ],
            "text/plain": [
              "   farm_id  ingredient_type  farm_area  ...  hour  weekend  month\n",
              "0      142                0   6.538798  ...     0        6      1\n",
              "1     1307                0   5.536138  ...     0        6      1\n",
              "2      376                0   6.215501  ...     0        6      1\n",
              "3      134                0   7.696852  ...     0        6      1\n",
              "4      986                0   9.290458  ...     0        6      1\n",
              "\n",
              "[5 rows x 12 columns]"
            ]
          },
          "metadata": {
            "tags": []
          },
          "execution_count": 64
        }
      ]
    },
    {
      "cell_type": "code",
      "metadata": {
        "id": "r7nwWrpxvVP3"
      },
      "source": [
        "test2_df = pd.read_csv(DATA_PATH + 'test_data.csv')\n"
      ],
      "execution_count": null,
      "outputs": []
    },
    {
      "cell_type": "code",
      "metadata": {
        "id": "7YO6HxVaviZv",
        "colab": {
          "base_uri": "https://localhost:8080/",
          "height": 375
        },
        "outputId": "da97c2dc-5b39-4679-ef8f-7e052129fa90"
      },
      "source": [
        "test2_df.columns = ['timestamp', 'farm_id', 'ingredient_type', 'operations_commencing_year',\n",
        "       'num_processing_plants', 'farm_area', 'farming_company',\n",
        "       'deidentified_location']"
      ],
      "execution_count": null,
      "outputs": [
        {
          "output_type": "error",
          "ename": "ValueError",
          "evalue": "ignored",
          "traceback": [
            "\u001b[0;31m---------------------------------------------------------------------------\u001b[0m",
            "\u001b[0;31mValueError\u001b[0m                                Traceback (most recent call last)",
            "\u001b[0;32m<ipython-input-66-9154183f7f23>\u001b[0m in \u001b[0;36m<module>\u001b[0;34m()\u001b[0m\n\u001b[1;32m      1\u001b[0m test2_df.columns = ['timestamp', 'farm_id', 'ingredient_type', 'operations_commencing_year',\n\u001b[1;32m      2\u001b[0m        \u001b[0;34m'num_processing_plants'\u001b[0m\u001b[0;34m,\u001b[0m \u001b[0;34m'farm_area'\u001b[0m\u001b[0;34m,\u001b[0m \u001b[0;34m'farming_company'\u001b[0m\u001b[0;34m,\u001b[0m\u001b[0;34m\u001b[0m\u001b[0;34m\u001b[0m\u001b[0m\n\u001b[0;32m----> 3\u001b[0;31m        'deidentified_location']\n\u001b[0m",
            "\u001b[0;32m/usr/local/lib/python3.7/dist-packages/pandas/core/generic.py\u001b[0m in \u001b[0;36m__setattr__\u001b[0;34m(self, name, value)\u001b[0m\n\u001b[1;32m   5152\u001b[0m         \u001b[0;32mtry\u001b[0m\u001b[0;34m:\u001b[0m\u001b[0;34m\u001b[0m\u001b[0;34m\u001b[0m\u001b[0m\n\u001b[1;32m   5153\u001b[0m             \u001b[0mobject\u001b[0m\u001b[0;34m.\u001b[0m\u001b[0m__getattribute__\u001b[0m\u001b[0;34m(\u001b[0m\u001b[0mself\u001b[0m\u001b[0;34m,\u001b[0m \u001b[0mname\u001b[0m\u001b[0;34m)\u001b[0m\u001b[0;34m\u001b[0m\u001b[0;34m\u001b[0m\u001b[0m\n\u001b[0;32m-> 5154\u001b[0;31m             \u001b[0;32mreturn\u001b[0m \u001b[0mobject\u001b[0m\u001b[0;34m.\u001b[0m\u001b[0m__setattr__\u001b[0m\u001b[0;34m(\u001b[0m\u001b[0mself\u001b[0m\u001b[0;34m,\u001b[0m \u001b[0mname\u001b[0m\u001b[0;34m,\u001b[0m \u001b[0mvalue\u001b[0m\u001b[0;34m)\u001b[0m\u001b[0;34m\u001b[0m\u001b[0;34m\u001b[0m\u001b[0m\n\u001b[0m\u001b[1;32m   5155\u001b[0m         \u001b[0;32mexcept\u001b[0m \u001b[0mAttributeError\u001b[0m\u001b[0;34m:\u001b[0m\u001b[0;34m\u001b[0m\u001b[0;34m\u001b[0m\u001b[0m\n\u001b[1;32m   5156\u001b[0m             \u001b[0;32mpass\u001b[0m\u001b[0;34m\u001b[0m\u001b[0;34m\u001b[0m\u001b[0m\n",
            "\u001b[0;32mpandas/_libs/properties.pyx\u001b[0m in \u001b[0;36mpandas._libs.properties.AxisProperty.__set__\u001b[0;34m()\u001b[0m\n",
            "\u001b[0;32m/usr/local/lib/python3.7/dist-packages/pandas/core/generic.py\u001b[0m in \u001b[0;36m_set_axis\u001b[0;34m(self, axis, labels)\u001b[0m\n\u001b[1;32m    562\u001b[0m     \u001b[0;32mdef\u001b[0m \u001b[0m_set_axis\u001b[0m\u001b[0;34m(\u001b[0m\u001b[0mself\u001b[0m\u001b[0;34m,\u001b[0m \u001b[0maxis\u001b[0m\u001b[0;34m:\u001b[0m \u001b[0mint\u001b[0m\u001b[0;34m,\u001b[0m \u001b[0mlabels\u001b[0m\u001b[0;34m:\u001b[0m \u001b[0mIndex\u001b[0m\u001b[0;34m)\u001b[0m \u001b[0;34m->\u001b[0m \u001b[0;32mNone\u001b[0m\u001b[0;34m:\u001b[0m\u001b[0;34m\u001b[0m\u001b[0;34m\u001b[0m\u001b[0m\n\u001b[1;32m    563\u001b[0m         \u001b[0mlabels\u001b[0m \u001b[0;34m=\u001b[0m \u001b[0mensure_index\u001b[0m\u001b[0;34m(\u001b[0m\u001b[0mlabels\u001b[0m\u001b[0;34m)\u001b[0m\u001b[0;34m\u001b[0m\u001b[0;34m\u001b[0m\u001b[0m\n\u001b[0;32m--> 564\u001b[0;31m         \u001b[0mself\u001b[0m\u001b[0;34m.\u001b[0m\u001b[0m_mgr\u001b[0m\u001b[0;34m.\u001b[0m\u001b[0mset_axis\u001b[0m\u001b[0;34m(\u001b[0m\u001b[0maxis\u001b[0m\u001b[0;34m,\u001b[0m \u001b[0mlabels\u001b[0m\u001b[0;34m)\u001b[0m\u001b[0;34m\u001b[0m\u001b[0;34m\u001b[0m\u001b[0m\n\u001b[0m\u001b[1;32m    565\u001b[0m         \u001b[0mself\u001b[0m\u001b[0;34m.\u001b[0m\u001b[0m_clear_item_cache\u001b[0m\u001b[0;34m(\u001b[0m\u001b[0;34m)\u001b[0m\u001b[0;34m\u001b[0m\u001b[0;34m\u001b[0m\u001b[0m\n\u001b[1;32m    566\u001b[0m \u001b[0;34m\u001b[0m\u001b[0m\n",
            "\u001b[0;32m/usr/local/lib/python3.7/dist-packages/pandas/core/internals/managers.py\u001b[0m in \u001b[0;36mset_axis\u001b[0;34m(self, axis, new_labels)\u001b[0m\n\u001b[1;32m    225\u001b[0m         \u001b[0;32mif\u001b[0m \u001b[0mnew_len\u001b[0m \u001b[0;34m!=\u001b[0m \u001b[0mold_len\u001b[0m\u001b[0;34m:\u001b[0m\u001b[0;34m\u001b[0m\u001b[0;34m\u001b[0m\u001b[0m\n\u001b[1;32m    226\u001b[0m             raise ValueError(\n\u001b[0;32m--> 227\u001b[0;31m                 \u001b[0;34mf\"Length mismatch: Expected axis has {old_len} elements, new \"\u001b[0m\u001b[0;34m\u001b[0m\u001b[0;34m\u001b[0m\u001b[0m\n\u001b[0m\u001b[1;32m    228\u001b[0m                 \u001b[0;34mf\"values have {new_len} elements\"\u001b[0m\u001b[0;34m\u001b[0m\u001b[0;34m\u001b[0m\u001b[0m\n\u001b[1;32m    229\u001b[0m             )\n",
            "\u001b[0;31mValueError\u001b[0m: Length mismatch: Expected axis has 4 elements, new values have 8 elements"
          ]
        }
      ]
    },
    {
      "cell_type": "code",
      "metadata": {
        "id": "wmeYet38vnM1"
      },
      "source": [
        "farm_df = pd.read_csv(DATA_PATH + 'farm_data.csv')"
      ],
      "execution_count": null,
      "outputs": []
    },
    {
      "cell_type": "code",
      "metadata": {
        "id": "MA0deL2hvxCa"
      },
      "source": [
        "test2_df = test2_df.merge(farm_df,left_on='farm_id',right_on='farm_id',how='left')"
      ],
      "execution_count": null,
      "outputs": []
    },
    {
      "cell_type": "code",
      "metadata": {
        "id": "XkaHXUIMv3Ir",
        "colab": {
          "base_uri": "https://localhost:8080/"
        },
        "outputId": "30c10c35-853a-41b6-8cc3-df2102089111"
      },
      "source": [
        "weather_df = pd.read_csv(DATA_PATH + 'test_weather.csv')\n",
        "weather_df = fill_weather_dataset(weather_df)\n",
        "weather_df = reduce_mem_usage(weather_df)"
      ],
      "execution_count": null,
      "outputs": [
        {
          "output_type": "stream",
          "text": [
            "/usr/local/lib/python3.7/dist-packages/ipykernel_launcher.py:24: FutureWarning: Series.dt.weekofyear and Series.dt.week have been deprecated.  Please use Series.dt.isocalendar().week instead.\n"
          ],
          "name": "stderr"
        },
        {
          "output_type": "stream",
          "text": [
            "Memory usage of dataframe is 19.16 MB\n",
            "Memory usage after optimization is: 8.63 MB\n",
            "Decreased by 55.0%\n"
          ],
          "name": "stdout"
        }
      ]
    },
    {
      "cell_type": "code",
      "metadata": {
        "id": "9aru7Lqdv-rK",
        "colab": {
          "base_uri": "https://localhost:8080/"
        },
        "outputId": "8bf11321-b785-40b5-c6ba-664fe0636a3d"
      },
      "source": [
        "test2_df.columns "
      ],
      "execution_count": null,
      "outputs": [
        {
          "output_type": "execute_result",
          "data": {
            "text/plain": [
              "Index(['date', 'farm_id', 'ingredient_type', 'id',\n",
              "       'operations_commencing_year', 'num_processing_plants', 'farm_area',\n",
              "       'farming_company', 'deidentified_location'],\n",
              "      dtype='object')"
            ]
          },
          "metadata": {
            "tags": []
          },
          "execution_count": 71
        }
      ]
    },
    {
      "cell_type": "code",
      "metadata": {
        "id": "vK9rVloEwEZX",
        "colab": {
          "base_uri": "https://localhost:8080/"
        },
        "outputId": "a58e9ead-18ea-4a7c-b3b0-35a3e5f579d5"
      },
      "source": [
        "test2_df.shape"
      ],
      "execution_count": null,
      "outputs": [
        {
          "output_type": "execute_result",
          "data": {
            "text/plain": [
              "(21251760, 9)"
            ]
          },
          "metadata": {
            "tags": []
          },
          "execution_count": 72
        }
      ]
    },
    {
      "cell_type": "code",
      "metadata": {
        "id": "uh_zsSo5wJ73"
      },
      "source": [
        "row_ids = test2_df[\"id\"]"
      ],
      "execution_count": null,
      "outputs": []
    },
    {
      "cell_type": "code",
      "metadata": {
        "id": "7dhxyGxJwRsU",
        "colab": {
          "base_uri": "https://localhost:8080/"
        },
        "outputId": "6ce6eb6e-0e69-4081-c1bd-872e6abc37f6"
      },
      "source": [
        "results_df.shape"
      ],
      "execution_count": null,
      "outputs": [
        {
          "output_type": "execute_result",
          "data": {
            "text/plain": [
              "(21251760, 2)"
            ]
          },
          "metadata": {
            "tags": []
          },
          "execution_count": 77
        }
      ]
    },
    {
      "cell_type": "code",
      "metadata": {
        "id": "Afo8Xv7mwgQj",
        "colab": {
          "base_uri": "https://localhost:8080/",
          "height": 419
        },
        "outputId": "2a249601-fa22-4667-fbde-7137ec30f94e"
      },
      "source": [
        "results_df[results_df.duplicated(subset='id')]"
      ],
      "execution_count": null,
      "outputs": [
        {
          "output_type": "execute_result",
          "data": {
            "text/html": [
              "<div>\n",
              "<style scoped>\n",
              "    .dataframe tbody tr th:only-of-type {\n",
              "        vertical-align: middle;\n",
              "    }\n",
              "\n",
              "    .dataframe tbody tr th {\n",
              "        vertical-align: top;\n",
              "    }\n",
              "\n",
              "    .dataframe thead th {\n",
              "        text-align: right;\n",
              "    }\n",
              "</style>\n",
              "<table border=\"1\" class=\"dataframe\">\n",
              "  <thead>\n",
              "    <tr style=\"text-align: right;\">\n",
              "      <th></th>\n",
              "      <th>id</th>\n",
              "      <th>yield</th>\n",
              "    </tr>\n",
              "  </thead>\n",
              "  <tbody>\n",
              "    <tr>\n",
              "      <th>80</th>\n",
              "      <td>79</td>\n",
              "      <td>8.270892</td>\n",
              "    </tr>\n",
              "    <tr>\n",
              "      <th>210</th>\n",
              "      <td>208</td>\n",
              "      <td>10.353355</td>\n",
              "    </tr>\n",
              "    <tr>\n",
              "      <th>340</th>\n",
              "      <td>337</td>\n",
              "      <td>10.424942</td>\n",
              "    </tr>\n",
              "    <tr>\n",
              "      <th>470</th>\n",
              "      <td>466</td>\n",
              "      <td>10.401811</td>\n",
              "    </tr>\n",
              "    <tr>\n",
              "      <th>600</th>\n",
              "      <td>595</td>\n",
              "      <td>10.401811</td>\n",
              "    </tr>\n",
              "    <tr>\n",
              "      <th>...</th>\n",
              "      <td>...</td>\n",
              "      <td>...</td>\n",
              "    </tr>\n",
              "    <tr>\n",
              "      <th>21247756</th>\n",
              "      <td>41673770</td>\n",
              "      <td>7.263498</td>\n",
              "    </tr>\n",
              "    <tr>\n",
              "      <th>21247989</th>\n",
              "      <td>41674002</td>\n",
              "      <td>36.363179</td>\n",
              "    </tr>\n",
              "    <tr>\n",
              "      <th>21247991</th>\n",
              "      <td>41674003</td>\n",
              "      <td>1.031427</td>\n",
              "    </tr>\n",
              "    <tr>\n",
              "      <th>21248008</th>\n",
              "      <td>41674019</td>\n",
              "      <td>13.188204</td>\n",
              "    </tr>\n",
              "    <tr>\n",
              "      <th>21248010</th>\n",
              "      <td>41674020</td>\n",
              "      <td>7.427053</td>\n",
              "    </tr>\n",
              "  </tbody>\n",
              "</table>\n",
              "<p>402960 rows × 2 columns</p>\n",
              "</div>"
            ],
            "text/plain": [
              "                id      yield\n",
              "80              79   8.270892\n",
              "210            208  10.353355\n",
              "340            337  10.424942\n",
              "470            466  10.401811\n",
              "600            595  10.401811\n",
              "...            ...        ...\n",
              "21247756  41673770   7.263498\n",
              "21247989  41674002  36.363179\n",
              "21247991  41674003   1.031427\n",
              "21248008  41674019  13.188204\n",
              "21248010  41674020   7.427053\n",
              "\n",
              "[402960 rows x 2 columns]"
            ]
          },
          "metadata": {
            "tags": []
          },
          "execution_count": 79
        }
      ]
    },
    {
      "cell_type": "code",
      "metadata": {
        "id": "tK67vfi-wqJq",
        "colab": {
          "base_uri": "https://localhost:8080/"
        },
        "outputId": "d4e0406a-a001-456e-e923-71784d087927"
      },
      "source": [
        "results_df.id.nunique()"
      ],
      "execution_count": null,
      "outputs": [
        {
          "output_type": "execute_result",
          "data": {
            "text/plain": [
              "20848800"
            ]
          },
          "metadata": {
            "tags": []
          },
          "execution_count": 80
        }
      ]
    },
    {
      "cell_type": "code",
      "metadata": {
        "id": "9Q4DQv29w8AB"
      },
      "source": [
        "res_df = results_df.drop_duplicates(keep='first', subset='id')"
      ],
      "execution_count": null,
      "outputs": []
    },
    {
      "cell_type": "code",
      "metadata": {
        "id": "yxrZ7fbHxbRK",
        "colab": {
          "base_uri": "https://localhost:8080/"
        },
        "outputId": "06750669-611b-4300-9676-be1d77242a23"
      },
      "source": [
        "res_df.shape"
      ],
      "execution_count": null,
      "outputs": [
        {
          "output_type": "execute_result",
          "data": {
            "text/plain": [
              "(20848800, 2)"
            ]
          },
          "metadata": {
            "tags": []
          },
          "execution_count": 82
        }
      ]
    },
    {
      "cell_type": "code",
      "metadata": {
        "id": "_7MXAStCxeNA"
      },
      "source": [
        "res_df.to_csv(DATA_PATH + 'submission_stratified_lgbm.csv', index=False)"
      ],
      "execution_count": null,
      "outputs": []
    },
    {
      "cell_type": "code",
      "metadata": {
        "id": "obYWGbkZxuO_"
      },
      "source": [
        ""
      ],
      "execution_count": null,
      "outputs": []
    }
  ]
}