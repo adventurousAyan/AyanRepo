{
  "nbformat": 4,
  "nbformat_minor": 0,
  "metadata": {
    "colab": {
      "name": "Model_LGBM.ipynb",
      "provenance": [],
      "mount_file_id": "1OUpvblsXSE5rxU9cL2fzVUs6FIjTMmNU",
      "authorship_tag": "ABX9TyM5AjoYrAFb26alYNg10tWr",
      "include_colab_link": true
    },
    "kernelspec": {
      "name": "python3",
      "display_name": "Python 3"
    }
  },
  "cells": [
    {
      "cell_type": "markdown",
      "metadata": {
        "id": "view-in-github",
        "colab_type": "text"
      },
      "source": [
        "<a href=\"https://colab.research.google.com/github/adventurousAyan/AyanRepo/blob/master/Model_LGBM.ipynb\" target=\"_parent\"><img src=\"https://colab.research.google.com/assets/colab-badge.svg\" alt=\"Open In Colab\"/></a>"
      ]
    },
    {
      "cell_type": "code",
      "metadata": {
        "id": "jg0fHQeByBwr"
      },
      "source": [
        "import gc\n",
        "import os\n",
        "import random\n",
        "\n",
        "import lightgbm as lgb\n",
        "import numpy as np\n",
        "import pandas as pd\n",
        "import seaborn as sns\n",
        "\n",
        "from matplotlib import pyplot as plt\n",
        "from sklearn.metrics import mean_squared_error\n",
        "from sklearn.preprocessing import LabelEncoder\n",
        "\n",
        "path_data = \"/content/drive/MyDrive/Colab Notebooks/datasets/\"\n",
        "path_train = path_data + \"train_data.csv\"\n",
        "path_test = path_data + \"test_data.csv\"\n",
        "path_building = path_data + \"farm_data.csv\"\n",
        "path_weather_train = path_data + \"train_weather.csv\"\n",
        "path_weather_test = path_data + \"test_weather.csv\"\n",
        "\n",
        "plt.style.use(\"seaborn\")\n",
        "sns.set(font_scale=1)\n",
        "\n",
        "myfavouritenumber = 0\n",
        "seed = myfavouritenumber\n",
        "random.seed(seed)"
      ],
      "execution_count": 2,
      "outputs": []
    },
    {
      "cell_type": "code",
      "metadata": {
        "id": "oCse_pzYyHq5"
      },
      "source": [
        "df_train = pd.read_csv(path_train)\n",
        "\n",
        "building = pd.read_csv(path_building)\n",
        "le = LabelEncoder()\n",
        "building.farming_company = le.fit_transform(building.farming_company)\n",
        "\n",
        "weather_train = pd.read_csv(path_weather_train)"
      ],
      "execution_count": 4,
      "outputs": []
    },
    {
      "cell_type": "code",
      "metadata": {
        "id": "L5mSubAo1bAu"
      },
      "source": [
        "## Memory optimization\n",
        "\n",
        "# Original code from https://www.kaggle.com/gemartin/load-data-reduce-memory-usage by @gemartin\n",
        "# Modified to support timestamp type, categorical type\n",
        "# Modified to add option to use float16\n",
        "\n",
        "from pandas.api.types import is_datetime64_any_dtype as is_datetime\n",
        "from pandas.api.types import is_categorical_dtype\n",
        "\n",
        "def reduce_mem_usage(df, use_float16=False):\n",
        "    \"\"\"\n",
        "    Iterate through all the columns of a dataframe and modify the data type to reduce memory usage.        \n",
        "    \"\"\"\n",
        "    \n",
        "    start_mem = df.memory_usage().sum() / 1024**2\n",
        "    print(\"Memory usage of dataframe is {:.2f} MB\".format(start_mem))\n",
        "    \n",
        "    for col in df.columns:\n",
        "        if is_datetime(df[col]) or is_categorical_dtype(df[col]):\n",
        "            continue\n",
        "        col_type = df[col].dtype\n",
        "        \n",
        "        if col_type != object:\n",
        "            c_min = df[col].min()\n",
        "            c_max = df[col].max()\n",
        "            if str(col_type)[:3] == \"int\":\n",
        "                if c_min > np.iinfo(np.int8).min and c_max < np.iinfo(np.int8).max:\n",
        "                    df[col] = df[col].astype(np.int8)\n",
        "                elif c_min > np.iinfo(np.int16).min and c_max < np.iinfo(np.int16).max:\n",
        "                    df[col] = df[col].astype(np.int16)\n",
        "                elif c_min > np.iinfo(np.int32).min and c_max < np.iinfo(np.int32).max:\n",
        "                    df[col] = df[col].astype(np.int32)\n",
        "                elif c_min > np.iinfo(np.int64).min and c_max < np.iinfo(np.int64).max:\n",
        "                    df[col] = df[col].astype(np.int64)  \n",
        "            else:\n",
        "                if use_float16 and c_min > np.finfo(np.float16).min and c_max < np.finfo(np.float16).max:\n",
        "                    df[col] = df[col].astype(np.float16)\n",
        "                elif c_min > np.finfo(np.float32).min and c_max < np.finfo(np.float32).max:\n",
        "                    df[col] = df[col].astype(np.float32)\n",
        "                else:\n",
        "                    df[col] = df[col].astype(np.float64)\n",
        "        else:\n",
        "            df[col] = df[col].astype(\"category\")\n",
        "\n",
        "    end_mem = df.memory_usage().sum() / 1024**2\n",
        "    print(\"Memory usage after optimization is: {:.2f} MB\".format(end_mem))\n",
        "    print(\"Decreased by {:.1f}%\".format(100 * (start_mem - end_mem) / start_mem))\n",
        "    \n",
        "    return df"
      ],
      "execution_count": 5,
      "outputs": []
    },
    {
      "cell_type": "code",
      "metadata": {
        "colab": {
          "base_uri": "https://localhost:8080/"
        },
        "id": "bJ2CL02T1weG",
        "outputId": "c23159a2-ee6e-4652-9e1c-f1766ffb74a9"
      },
      "source": [
        "df_train = reduce_mem_usage(df_train, use_float16=True)\n",
        "building = reduce_mem_usage(building, use_float16=True)\n",
        "weather_train = reduce_mem_usage(weather_train, use_float16=True)"
      ],
      "execution_count": 6,
      "outputs": [
        {
          "output_type": "stream",
          "text": [
            "Memory usage of dataframe is 616.95 MB\n",
            "Memory usage after optimization is: 173.95 MB\n",
            "Decreased by 71.8%\n",
            "Memory usage of dataframe is 0.07 MB\n",
            "Memory usage after optimization is: 0.07 MB\n",
            "Decreased by -1.5%\n",
            "Memory usage of dataframe is 9.60 MB\n",
            "Memory usage after optimization is: 2.65 MB\n",
            "Decreased by 72.4%\n"
          ],
          "name": "stdout"
        }
      ]
    },
    {
      "cell_type": "code",
      "metadata": {
        "id": "kKOebaX819YY"
      },
      "source": [
        "def prepare_data(X, building_data, weather_data, test=False):\n",
        "    \"\"\"\n",
        "    Preparing final dataset with all features.\n",
        "    \"\"\"\n",
        "    \n",
        "    X = X.merge(building_data, on=\"farm_id\", how=\"left\")\n",
        "    X = X.merge(weather_data, on=[\"deidentified_location\", \"timestamp\"], how=\"left\")\n",
        "    \n",
        "    X.timestamp = pd.to_datetime(X.timestamp, format=\"%Y-%m-%d %H:%M:%S\")\n",
        "    X.farm_area = np.log1p(X.farm_area)\n",
        "    \n",
        "    if not test:\n",
        "        X.sort_values(\"timestamp\", inplace=True)\n",
        "        X.reset_index(drop=True, inplace=True)\n",
        "    \n",
        "    gc.collect()\n",
        "    \n",
        "    holidays = [\"2016-01-01\", \"2016-01-18\", \"2016-02-15\", \"2016-05-30\", \"2016-07-04\",\n",
        "                \"2016-09-05\", \"2016-10-10\", \"2016-11-11\", \"2016-11-24\", \"2016-12-26\",\n",
        "                \"2017-01-01\", \"2017-01-16\", \"2017-02-20\", \"2017-05-29\", \"2017-07-04\",\n",
        "                \"2017-09-04\", \"2017-10-09\", \"2017-11-10\", \"2017-11-23\", \"2017-12-25\",\n",
        "                \"2018-01-01\", \"2018-01-15\", \"2018-02-19\", \"2018-05-28\", \"2018-07-04\",\n",
        "                \"2018-09-03\", \"2018-10-08\", \"2018-11-12\", \"2018-11-22\", \"2018-12-25\",\n",
        "                \"2019-01-01\"]\n",
        "    \n",
        "    X[\"hour\"] = X.timestamp.dt.hour\n",
        "    X[\"weekday\"] = X.timestamp.dt.weekday\n",
        "    #X[\"is_holiday\"] = (X.timestamp.dt.date.astype(\"str\").isin(holidays)).astype(int)\n",
        "    \n",
        "    drop_features = [\"timestamp\", \"cloudiness\", \"dew_temp\"]\n",
        "\n",
        "    X.drop(drop_features, axis=1, inplace=True)\n",
        "\n",
        "    if test:\n",
        "        row_ids = X.id\n",
        "        X.drop(\"id\", axis=1, inplace=True)\n",
        "        return X, row_ids\n",
        "    else:\n",
        "        y = np.log1p(X['yield'])\n",
        "        X.drop(\"yield\", axis=1, inplace=True)\n",
        "        return X, y"
      ],
      "execution_count": 19,
      "outputs": []
    },
    {
      "cell_type": "code",
      "metadata": {
        "colab": {
          "base_uri": "https://localhost:8080/"
        },
        "id": "Z2QqwabV26HS",
        "outputId": "0b338771-5c55-445f-f130-9c016f4b8fe2"
      },
      "source": [
        "df_train.columns"
      ],
      "execution_count": 7,
      "outputs": [
        {
          "output_type": "execute_result",
          "data": {
            "text/plain": [
              "Index(['date', 'farm_id', 'ingredient_type', 'yield'], dtype='object')"
            ]
          },
          "metadata": {
            "tags": []
          },
          "execution_count": 7
        }
      ]
    },
    {
      "cell_type": "code",
      "metadata": {
        "id": "WWN3LTQv27w-"
      },
      "source": [
        "df_train.columns = ['timestamp', 'farm_id', 'ingredient_type', 'yield']"
      ],
      "execution_count": 8,
      "outputs": []
    },
    {
      "cell_type": "code",
      "metadata": {
        "colab": {
          "base_uri": "https://localhost:8080/"
        },
        "id": "QxFAqwbb3GMg",
        "outputId": "6cda8e2f-f6f5-4130-9c67-ee16b26942b6"
      },
      "source": [
        "X_train, y_train = prepare_data(df_train, building, weather_train)\n",
        "\n",
        "del df_train, weather_train\n",
        "gc.collect()"
      ],
      "execution_count": 13,
      "outputs": [
        {
          "output_type": "execute_result",
          "data": {
            "text/plain": [
              "35"
            ]
          },
          "metadata": {
            "tags": []
          },
          "execution_count": 13
        }
      ]
    },
    {
      "cell_type": "code",
      "metadata": {
        "colab": {
          "base_uri": "https://localhost:8080/"
        },
        "id": "788NlMbp3KYA",
        "outputId": "d26c7e36-094d-4ddf-d1b3-4bc1932cc6b0"
      },
      "source": [
        "X_half_1 = X_train[:int(X_train.shape[0] / 2)]\n",
        "X_half_2 = X_train[int(X_train.shape[0] / 2):]\n",
        "\n",
        "y_half_1 = y_train[:int(X_train.shape[0] / 2)]\n",
        "y_half_2 = y_train[int(X_train.shape[0] / 2):]\n",
        "\n",
        "categorical_features = [\"farm_id\", \"deidentified_location\", \"ingredient_type\", \"farming_company\", \"hour\", \"weekday\"]\n",
        "\n",
        "d_half_1 = lgb.Dataset(X_half_1, label=y_half_1, categorical_feature=categorical_features, free_raw_data=False)\n",
        "d_half_2 = lgb.Dataset(X_half_2, label=y_half_2, categorical_feature=categorical_features, free_raw_data=False)\n",
        "\n",
        "watchlist_1 = [d_half_1, d_half_2]\n",
        "watchlist_2 = [d_half_2, d_half_1]\n",
        "\n",
        "params = {\n",
        "    \"objective\": \"regression\",\n",
        "    \"boosting\": \"gbdt\",\n",
        "    \"num_leaves\": 40,\n",
        "    \"learning_rate\": 0.05,\n",
        "    \"feature_fraction\": 0.85,\n",
        "    \"reg_lambda\": 2,\n",
        "    \"metric\": \"rmse\"\n",
        "}\n",
        "\n",
        "print(\"Building model with first half and validating on second half:\")\n",
        "model_half_1 = lgb.train(params, train_set=d_half_1, num_boost_round=1000, valid_sets=watchlist_1, verbose_eval=200, early_stopping_rounds=200)\n",
        "\n",
        "print(\"Building model with second half and validating on first half:\")\n",
        "model_half_2 = lgb.train(params, train_set=d_half_2, num_boost_round=1000, valid_sets=watchlist_2, verbose_eval=200, early_stopping_rounds=200)"
      ],
      "execution_count": 14,
      "outputs": [
        {
          "output_type": "stream",
          "text": [
            "Building model with first half and validating on second half:\n"
          ],
          "name": "stdout"
        },
        {
          "output_type": "stream",
          "text": [
            "/usr/local/lib/python3.7/dist-packages/lightgbm/basic.py:1205: UserWarning: Using categorical_feature in Dataset.\n",
            "  warnings.warn('Using categorical_feature in Dataset.')\n",
            "/usr/local/lib/python3.7/dist-packages/lightgbm/basic.py:762: UserWarning: categorical_feature in param dict is overridden.\n",
            "  warnings.warn('categorical_feature in param dict is overridden.')\n"
          ],
          "name": "stderr"
        },
        {
          "output_type": "stream",
          "text": [
            "Training until validation scores don't improve for 200 rounds.\n",
            "[200]\ttraining's rmse: 0.976036\tvalid_1's rmse: 1.38862\n",
            "[400]\ttraining's rmse: 0.9135\tvalid_1's rmse: 1.3791\n",
            "[600]\ttraining's rmse: 0.885585\tvalid_1's rmse: 1.37587\n",
            "Early stopping, best iteration is:\n",
            "[562]\ttraining's rmse: 0.890523\tvalid_1's rmse: 1.37538\n",
            "Building model with second half and validating on first half:\n",
            "Training until validation scores don't improve for 200 rounds.\n",
            "[200]\ttraining's rmse: 0.954732\tvalid_1's rmse: 1.52312\n",
            "[400]\ttraining's rmse: 0.905674\tvalid_1's rmse: 1.51197\n",
            "[600]\ttraining's rmse: 0.884596\tvalid_1's rmse: 1.50932\n",
            "[800]\ttraining's rmse: 0.869462\tvalid_1's rmse: 1.50792\n",
            "[1000]\ttraining's rmse: 0.857499\tvalid_1's rmse: 1.50676\n",
            "Did not meet early stopping. Best iteration is:\n",
            "[1000]\ttraining's rmse: 0.857499\tvalid_1's rmse: 1.50676\n"
          ],
          "name": "stdout"
        }
      ]
    },
    {
      "cell_type": "code",
      "metadata": {
        "colab": {
          "base_uri": "https://localhost:8080/",
          "height": 509
        },
        "id": "rEZH8Eaw3_B3",
        "outputId": "6fd6bd8b-2404-47f2-e3be-44edd4288836"
      },
      "source": [
        "df_fimp_1 = pd.DataFrame()\n",
        "df_fimp_1[\"feature\"] = X_train.columns.values\n",
        "df_fimp_1[\"importance\"] = model_half_1.feature_importance()\n",
        "df_fimp_1[\"half\"] = 1\n",
        "\n",
        "df_fimp_2 = pd.DataFrame()\n",
        "df_fimp_2[\"feature\"] = X_train.columns.values\n",
        "df_fimp_2[\"importance\"] = model_half_2.feature_importance()\n",
        "df_fimp_2[\"half\"] = 2\n",
        "\n",
        "df_fimp = pd.concat([df_fimp_1, df_fimp_2], axis=0)\n",
        "\n",
        "plt.figure(figsize=(14, 7))\n",
        "sns.barplot(x=\"importance\", y=\"feature\", data=df_fimp.sort_values(by=\"importance\", ascending=False))\n",
        "plt.title(\"LightGBM Feature Importance\")\n",
        "plt.tight_layout()"
      ],
      "execution_count": 15,
      "outputs": [
        {
          "output_type": "display_data",
          "data": {
            "image/png": "[encoded data removed]",
            "text/plain": [
              "<Figure size 1008x504 with 1 Axes>"
            ]
          },
          "metadata": {
            "tags": []
          }
        }
      ]
    },
    {
      "cell_type": "code",
      "metadata": {
        "colab": {
          "base_uri": "https://localhost:8080/"
        },
        "id": "68qAJ4_M_H5u",
        "outputId": "98b93d66-864b-43b9-8467-ebff827384c9"
      },
      "source": [
        "df_test.columns"
      ],
      "execution_count": 17,
      "outputs": [
        {
          "output_type": "execute_result",
          "data": {
            "text/plain": [
              "Index(['date', 'farm_id', 'ingredient_type', 'id'], dtype='object')"
            ]
          },
          "metadata": {
            "tags": []
          },
          "execution_count": 17
        }
      ]
    },
    {
      "cell_type": "code",
      "metadata": {
        "id": "DCOWtHEe_Eu3"
      },
      "source": [
        "#"
      ],
      "execution_count": null,
      "outputs": []
    },
    {
      "cell_type": "code",
      "metadata": {
        "colab": {
          "base_uri": "https://localhost:8080/"
        },
        "id": "RdTvdZs8-hSN",
        "outputId": "d0fd1823-cfc4-4e3a-e0b7-319a3419ee23"
      },
      "source": [
        "df_test = pd.read_csv(path_test)\n",
        "weather_test = pd.read_csv(path_weather_test)\n",
        "\n",
        "df_test = reduce_mem_usage(df_test)\n",
        "df_test.columns = ['timestamp', 'farm_id', 'ingredient_type', 'id']\n",
        "weather_test = reduce_mem_usage(weather_test)\n",
        "\n",
        "X_test, row_ids = prepare_data(df_test, building, weather_test, test=True)"
      ],
      "execution_count": 20,
      "outputs": [
        {
          "output_type": "stream",
          "text": [
            "Memory usage of dataframe is 636.26 MB\n",
            "Memory usage after optimization is: 179.38 MB\n",
            "Decreased by 71.8%\n",
            "Memory usage of dataframe is 9.53 MB\n",
            "Memory usage after optimization is: 4.48 MB\n",
            "Decreased by 53.0%\n"
          ],
          "name": "stdout"
        }
      ]
    },
    {
      "cell_type": "code",
      "metadata": {
        "id": "IDueJdbL-qDp"
      },
      "source": [
        "pred = np.expm1(model_half_1.predict(X_test, num_iteration=model_half_1.best_iteration)) / 2\n",
        "\n",
        "del model_half_1\n",
        "#gc.collect()\n",
        "\n",
        "pred += np.expm1(model_half_2.predict(X_test, num_iteration=model_half_2.best_iteration)) / 2\n",
        "    \n",
        "del model_half_2\n",
        "#gc.collect()"
      ],
      "execution_count": 21,
      "outputs": []
    },
    {
      "cell_type": "code",
      "metadata": {
        "id": "51zKRrhp_5X3"
      },
      "source": [
        "submission = pd.DataFrame({\"id\": row_ids, \"yield\": np.clip(pred, 0, a_max=None)})\n",
        "submission.to_csv(\"/content/drive/MyDrive/Colab Notebooks/datasets/Model_LGBM.csv\", index=False)"
      ],
      "execution_count": 22,
      "outputs": []
    },
    {
      "cell_type": "code",
      "metadata": {
        "colab": {
          "base_uri": "https://localhost:8080/"
        },
        "id": "Rma8Wt_rIiE7",
        "outputId": "46486501-13b7-4122-af06-557887c4d874"
      },
      "source": [
        "submission.shape"
      ],
      "execution_count": 23,
      "outputs": [
        {
          "output_type": "execute_result",
          "data": {
            "text/plain": [
              "(21251760, 2)"
            ]
          },
          "metadata": {
            "tags": []
          },
          "execution_count": 23
        }
      ]
    },
    {
      "cell_type": "code",
      "metadata": {
        "colab": {
          "base_uri": "https://localhost:8080/"
        },
        "id": "ugLkAZUIJBH4",
        "outputId": "79a0e6fc-1644-4e5d-9853-307454fbc014"
      },
      "source": [
        "submission.id.nunique()"
      ],
      "execution_count": 24,
      "outputs": [
        {
          "output_type": "execute_result",
          "data": {
            "text/plain": [
              "20848800"
            ]
          },
          "metadata": {
            "tags": []
          },
          "execution_count": 24
        }
      ]
    },
    {
      "cell_type": "code",
      "metadata": {
        "id": "rLs-9jrXJLQo"
      },
      "source": [
        ""
      ],
      "execution_count": null,
      "outputs": []
    }
  ]
}