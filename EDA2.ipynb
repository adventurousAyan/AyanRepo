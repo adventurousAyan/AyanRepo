{
 "cells": [
  {
   "cell_type": "code",
   "execution_count": null,
   "metadata": {},
   "outputs": [],
   "source": [
    "#Source - https://www.kaggle.com/yuvrajmetrani/silkboard-bangalore-ambient-air-covid19lockdown"
   ]
  },
  {
   "cell_type": "code",
   "execution_count": 1,
   "metadata": {},
   "outputs": [],
   "source": [
    "import numpy as np\n",
    "import pandas as pd\n",
    "import matplotlib.pyplot as plt\n",
    "import seaborn as sns\n",
    "%matplotlib inline\n",
    "\n",
    "import warnings\n",
    "warnings.filterwarnings('ignore')"
   ]
  },
  {
   "cell_type": "code",
   "execution_count": 2,
   "metadata": {},
   "outputs": [],
   "source": [
    "data1 = pd.read_csv(\"./datasets/co_blr_aq_lockdown_effect_CSB.csv\")\n",
    "data2 = pd.read_csv(\"./datasets/o3_blr_aq_lockdown_effect_CSB.csv\")\n",
    "data3 = pd.read_csv(\"./datasets/no2_blr_aq_lockdown_effect_CSB.csv\")\n",
    "data4 = pd.read_csv(\"./datasets/pm10_blr_aq_lockdown_effect_CSB.csv\")\n",
    "data5 = pd.read_csv(\"./datasets/pm25_blr_aq_lockdown_effect_CSB.csv\")\n",
    "data6 = pd.read_csv(\"./datasets/so2_blr_aq_lockdown_effect_CSB.csv\")"
   ]
  },
  {
   "cell_type": "code",
   "execution_count": 3,
   "metadata": {},
   "outputs": [
    {
     "data": {
      "text/html": [
       "<div>\n",
       "<style scoped>\n",
       "    .dataframe tbody tr th:only-of-type {\n",
       "        vertical-align: middle;\n",
       "    }\n",
       "\n",
       "    .dataframe tbody tr th {\n",
       "        vertical-align: top;\n",
       "    }\n",
       "\n",
       "    .dataframe thead th {\n",
       "        text-align: right;\n",
       "    }\n",
       "</style>\n",
       "<table border=\"1\" class=\"dataframe\">\n",
       "  <thead>\n",
       "    <tr style=\"text-align: right;\">\n",
       "      <th></th>\n",
       "      <th>Unnamed: 0</th>\n",
       "      <th>location</th>\n",
       "      <th>city</th>\n",
       "      <th>country</th>\n",
       "      <th>utc</th>\n",
       "      <th>local</th>\n",
       "      <th>parameter</th>\n",
       "      <th>value</th>\n",
       "      <th>unit</th>\n",
       "      <th>latitude</th>\n",
       "      <th>longitude</th>\n",
       "      <th>attribution</th>\n",
       "    </tr>\n",
       "  </thead>\n",
       "  <tbody>\n",
       "    <tr>\n",
       "      <th>0</th>\n",
       "      <td>0</td>\n",
       "      <td>Silk Board, Bengaluru - KSPCB</td>\n",
       "      <td>Bengaluru</td>\n",
       "      <td>IN</td>\n",
       "      <td>2020-06-19T22:15:00Z</td>\n",
       "      <td>2020-06-20T03:45:00+05:30</td>\n",
       "      <td>co</td>\n",
       "      <td>170</td>\n",
       "      <td>µg/m³</td>\n",
       "      <td>12.917348</td>\n",
       "      <td>77.622813</td>\n",
       "      <td>[{\"url\":\"https://app.cpcbccr.com/ccr/#/caaqm-d...</td>\n",
       "    </tr>\n",
       "    <tr>\n",
       "      <th>1</th>\n",
       "      <td>1</td>\n",
       "      <td>Silk Board, Bengaluru - KSPCB</td>\n",
       "      <td>Bengaluru</td>\n",
       "      <td>IN</td>\n",
       "      <td>2020-06-19T21:00:00Z</td>\n",
       "      <td>2020-06-20T02:30:00+05:30</td>\n",
       "      <td>co</td>\n",
       "      <td>150</td>\n",
       "      <td>µg/m³</td>\n",
       "      <td>12.917348</td>\n",
       "      <td>77.622813</td>\n",
       "      <td>[{\"url\":\"https://app.cpcbccr.com/ccr/#/caaqm-d...</td>\n",
       "    </tr>\n",
       "    <tr>\n",
       "      <th>2</th>\n",
       "      <td>2</td>\n",
       "      <td>Silk Board, Bengaluru - KSPCB</td>\n",
       "      <td>Bengaluru</td>\n",
       "      <td>IN</td>\n",
       "      <td>2020-06-19T19:30:00Z</td>\n",
       "      <td>2020-06-20T01:00:00+05:30</td>\n",
       "      <td>co</td>\n",
       "      <td>100</td>\n",
       "      <td>µg/m³</td>\n",
       "      <td>12.917348</td>\n",
       "      <td>77.622813</td>\n",
       "      <td>[{\"url\":\"https://app.cpcbccr.com/ccr/#/caaqm-d...</td>\n",
       "    </tr>\n",
       "    <tr>\n",
       "      <th>3</th>\n",
       "      <td>3</td>\n",
       "      <td>Silk Board, Bengaluru - KSPCB</td>\n",
       "      <td>Bengaluru</td>\n",
       "      <td>IN</td>\n",
       "      <td>2020-06-19T17:30:00Z</td>\n",
       "      <td>2020-06-19T23:00:00+05:30</td>\n",
       "      <td>co</td>\n",
       "      <td>540</td>\n",
       "      <td>µg/m³</td>\n",
       "      <td>12.917348</td>\n",
       "      <td>77.622813</td>\n",
       "      <td>[{\"url\":\"https://app.cpcbccr.com/ccr/#/caaqm-d...</td>\n",
       "    </tr>\n",
       "    <tr>\n",
       "      <th>4</th>\n",
       "      <td>4</td>\n",
       "      <td>Silk Board, Bengaluru - KSPCB</td>\n",
       "      <td>Bengaluru</td>\n",
       "      <td>IN</td>\n",
       "      <td>2020-06-19T16:45:00Z</td>\n",
       "      <td>2020-06-19T22:15:00+05:30</td>\n",
       "      <td>co</td>\n",
       "      <td>530</td>\n",
       "      <td>µg/m³</td>\n",
       "      <td>12.917348</td>\n",
       "      <td>77.622813</td>\n",
       "      <td>[{\"url\":\"https://app.cpcbccr.com/ccr/#/caaqm-d...</td>\n",
       "    </tr>\n",
       "  </tbody>\n",
       "</table>\n",
       "</div>"
      ],
      "text/plain": [
       "   Unnamed: 0                       location       city country  \\\n",
       "0           0  Silk Board, Bengaluru - KSPCB  Bengaluru      IN   \n",
       "1           1  Silk Board, Bengaluru - KSPCB  Bengaluru      IN   \n",
       "2           2  Silk Board, Bengaluru - KSPCB  Bengaluru      IN   \n",
       "3           3  Silk Board, Bengaluru - KSPCB  Bengaluru      IN   \n",
       "4           4  Silk Board, Bengaluru - KSPCB  Bengaluru      IN   \n",
       "\n",
       "                    utc                      local parameter  value   unit  \\\n",
       "0  2020-06-19T22:15:00Z  2020-06-20T03:45:00+05:30        co    170  µg/m³   \n",
       "1  2020-06-19T21:00:00Z  2020-06-20T02:30:00+05:30        co    150  µg/m³   \n",
       "2  2020-06-19T19:30:00Z  2020-06-20T01:00:00+05:30        co    100  µg/m³   \n",
       "3  2020-06-19T17:30:00Z  2020-06-19T23:00:00+05:30        co    540  µg/m³   \n",
       "4  2020-06-19T16:45:00Z  2020-06-19T22:15:00+05:30        co    530  µg/m³   \n",
       "\n",
       "    latitude  longitude                                        attribution  \n",
       "0  12.917348  77.622813  [{\"url\":\"https://app.cpcbccr.com/ccr/#/caaqm-d...  \n",
       "1  12.917348  77.622813  [{\"url\":\"https://app.cpcbccr.com/ccr/#/caaqm-d...  \n",
       "2  12.917348  77.622813  [{\"url\":\"https://app.cpcbccr.com/ccr/#/caaqm-d...  \n",
       "3  12.917348  77.622813  [{\"url\":\"https://app.cpcbccr.com/ccr/#/caaqm-d...  \n",
       "4  12.917348  77.622813  [{\"url\":\"https://app.cpcbccr.com/ccr/#/caaqm-d...  "
      ]
     },
     "execution_count": 3,
     "metadata": {},
     "output_type": "execute_result"
    }
   ],
   "source": [
    "data1.head()"
   ]
  },
  {
   "cell_type": "code",
   "execution_count": 4,
   "metadata": {},
   "outputs": [
    {
     "data": {
      "text/plain": [
       "Unnamed: 0     3030\n",
       "location          1\n",
       "city              1\n",
       "country           1\n",
       "utc            3030\n",
       "local          3030\n",
       "parameter         1\n",
       "value           197\n",
       "unit              1\n",
       "latitude          1\n",
       "longitude         1\n",
       "attribution       1\n",
       "dtype: int64"
      ]
     },
     "execution_count": 4,
     "metadata": {},
     "output_type": "execute_result"
    }
   ],
   "source": [
    "data1.nunique()"
   ]
  },
  {
   "cell_type": "code",
   "execution_count": 5,
   "metadata": {},
   "outputs": [],
   "source": [
    "data1.drop(['Unnamed: 0', 'location','city','country','parameter', 'unit', 'latitude', 'longitude', 'attribution','local'], axis=1, inplace=True)"
   ]
  },
  {
   "cell_type": "code",
   "execution_count": 6,
   "metadata": {},
   "outputs": [
    {
     "data": {
      "text/html": [
       "<div>\n",
       "<style scoped>\n",
       "    .dataframe tbody tr th:only-of-type {\n",
       "        vertical-align: middle;\n",
       "    }\n",
       "\n",
       "    .dataframe tbody tr th {\n",
       "        vertical-align: top;\n",
       "    }\n",
       "\n",
       "    .dataframe thead th {\n",
       "        text-align: right;\n",
       "    }\n",
       "</style>\n",
       "<table border=\"1\" class=\"dataframe\">\n",
       "  <thead>\n",
       "    <tr style=\"text-align: right;\">\n",
       "      <th></th>\n",
       "      <th>utc</th>\n",
       "      <th>value</th>\n",
       "    </tr>\n",
       "  </thead>\n",
       "  <tbody>\n",
       "    <tr>\n",
       "      <th>0</th>\n",
       "      <td>2020-06-19T22:15:00Z</td>\n",
       "      <td>170</td>\n",
       "    </tr>\n",
       "    <tr>\n",
       "      <th>1</th>\n",
       "      <td>2020-06-19T21:00:00Z</td>\n",
       "      <td>150</td>\n",
       "    </tr>\n",
       "    <tr>\n",
       "      <th>2</th>\n",
       "      <td>2020-06-19T19:30:00Z</td>\n",
       "      <td>100</td>\n",
       "    </tr>\n",
       "    <tr>\n",
       "      <th>3</th>\n",
       "      <td>2020-06-19T17:30:00Z</td>\n",
       "      <td>540</td>\n",
       "    </tr>\n",
       "    <tr>\n",
       "      <th>4</th>\n",
       "      <td>2020-06-19T16:45:00Z</td>\n",
       "      <td>530</td>\n",
       "    </tr>\n",
       "  </tbody>\n",
       "</table>\n",
       "</div>"
      ],
      "text/plain": [
       "                    utc  value\n",
       "0  2020-06-19T22:15:00Z    170\n",
       "1  2020-06-19T21:00:00Z    150\n",
       "2  2020-06-19T19:30:00Z    100\n",
       "3  2020-06-19T17:30:00Z    540\n",
       "4  2020-06-19T16:45:00Z    530"
      ]
     },
     "execution_count": 6,
     "metadata": {},
     "output_type": "execute_result"
    }
   ],
   "source": [
    "data1.head()"
   ]
  },
  {
   "cell_type": "code",
   "execution_count": 7,
   "metadata": {},
   "outputs": [],
   "source": [
    "data1['utc'] = pd.to_datetime(data1['utc'])"
   ]
  },
  {
   "cell_type": "code",
   "execution_count": 8,
   "metadata": {},
   "outputs": [
    {
     "data": {
      "text/html": [
       "<div>\n",
       "<style scoped>\n",
       "    .dataframe tbody tr th:only-of-type {\n",
       "        vertical-align: middle;\n",
       "    }\n",
       "\n",
       "    .dataframe tbody tr th {\n",
       "        vertical-align: top;\n",
       "    }\n",
       "\n",
       "    .dataframe thead th {\n",
       "        text-align: right;\n",
       "    }\n",
       "</style>\n",
       "<table border=\"1\" class=\"dataframe\">\n",
       "  <thead>\n",
       "    <tr style=\"text-align: right;\">\n",
       "      <th></th>\n",
       "      <th>utc</th>\n",
       "      <th>value</th>\n",
       "    </tr>\n",
       "  </thead>\n",
       "  <tbody>\n",
       "    <tr>\n",
       "      <th>0</th>\n",
       "      <td>2020-06-19 22:15:00+00:00</td>\n",
       "      <td>170</td>\n",
       "    </tr>\n",
       "    <tr>\n",
       "      <th>1</th>\n",
       "      <td>2020-06-19 21:00:00+00:00</td>\n",
       "      <td>150</td>\n",
       "    </tr>\n",
       "    <tr>\n",
       "      <th>2</th>\n",
       "      <td>2020-06-19 19:30:00+00:00</td>\n",
       "      <td>100</td>\n",
       "    </tr>\n",
       "    <tr>\n",
       "      <th>3</th>\n",
       "      <td>2020-06-19 17:30:00+00:00</td>\n",
       "      <td>540</td>\n",
       "    </tr>\n",
       "    <tr>\n",
       "      <th>4</th>\n",
       "      <td>2020-06-19 16:45:00+00:00</td>\n",
       "      <td>530</td>\n",
       "    </tr>\n",
       "  </tbody>\n",
       "</table>\n",
       "</div>"
      ],
      "text/plain": [
       "                        utc  value\n",
       "0 2020-06-19 22:15:00+00:00    170\n",
       "1 2020-06-19 21:00:00+00:00    150\n",
       "2 2020-06-19 19:30:00+00:00    100\n",
       "3 2020-06-19 17:30:00+00:00    540\n",
       "4 2020-06-19 16:45:00+00:00    530"
      ]
     },
     "execution_count": 8,
     "metadata": {},
     "output_type": "execute_result"
    }
   ],
   "source": [
    "data1.head()"
   ]
  },
  {
   "cell_type": "code",
   "execution_count": 9,
   "metadata": {},
   "outputs": [],
   "source": [
    "data1['date'] = data1['utc'].dt.strftime('%Y-%m-%d')"
   ]
  },
  {
   "cell_type": "code",
   "execution_count": 10,
   "metadata": {},
   "outputs": [
    {
     "data": {
      "text/html": [
       "<div>\n",
       "<style scoped>\n",
       "    .dataframe tbody tr th:only-of-type {\n",
       "        vertical-align: middle;\n",
       "    }\n",
       "\n",
       "    .dataframe tbody tr th {\n",
       "        vertical-align: top;\n",
       "    }\n",
       "\n",
       "    .dataframe thead th {\n",
       "        text-align: right;\n",
       "    }\n",
       "</style>\n",
       "<table border=\"1\" class=\"dataframe\">\n",
       "  <thead>\n",
       "    <tr style=\"text-align: right;\">\n",
       "      <th></th>\n",
       "      <th>utc</th>\n",
       "      <th>value</th>\n",
       "      <th>date</th>\n",
       "    </tr>\n",
       "  </thead>\n",
       "  <tbody>\n",
       "    <tr>\n",
       "      <th>0</th>\n",
       "      <td>2020-06-19 22:15:00+00:00</td>\n",
       "      <td>170</td>\n",
       "      <td>2020-06-19</td>\n",
       "    </tr>\n",
       "    <tr>\n",
       "      <th>1</th>\n",
       "      <td>2020-06-19 21:00:00+00:00</td>\n",
       "      <td>150</td>\n",
       "      <td>2020-06-19</td>\n",
       "    </tr>\n",
       "    <tr>\n",
       "      <th>2</th>\n",
       "      <td>2020-06-19 19:30:00+00:00</td>\n",
       "      <td>100</td>\n",
       "      <td>2020-06-19</td>\n",
       "    </tr>\n",
       "    <tr>\n",
       "      <th>3</th>\n",
       "      <td>2020-06-19 17:30:00+00:00</td>\n",
       "      <td>540</td>\n",
       "      <td>2020-06-19</td>\n",
       "    </tr>\n",
       "    <tr>\n",
       "      <th>4</th>\n",
       "      <td>2020-06-19 16:45:00+00:00</td>\n",
       "      <td>530</td>\n",
       "      <td>2020-06-19</td>\n",
       "    </tr>\n",
       "  </tbody>\n",
       "</table>\n",
       "</div>"
      ],
      "text/plain": [
       "                        utc  value        date\n",
       "0 2020-06-19 22:15:00+00:00    170  2020-06-19\n",
       "1 2020-06-19 21:00:00+00:00    150  2020-06-19\n",
       "2 2020-06-19 19:30:00+00:00    100  2020-06-19\n",
       "3 2020-06-19 17:30:00+00:00    540  2020-06-19\n",
       "4 2020-06-19 16:45:00+00:00    530  2020-06-19"
      ]
     },
     "execution_count": 10,
     "metadata": {},
     "output_type": "execute_result"
    }
   ],
   "source": [
    "data1.head()"
   ]
  },
  {
   "cell_type": "code",
   "execution_count": 11,
   "metadata": {},
   "outputs": [
    {
     "data": {
      "text/html": [
       "<div>\n",
       "<style scoped>\n",
       "    .dataframe tbody tr th:only-of-type {\n",
       "        vertical-align: middle;\n",
       "    }\n",
       "\n",
       "    .dataframe tbody tr th {\n",
       "        vertical-align: top;\n",
       "    }\n",
       "\n",
       "    .dataframe thead th {\n",
       "        text-align: right;\n",
       "    }\n",
       "</style>\n",
       "<table border=\"1\" class=\"dataframe\">\n",
       "  <thead>\n",
       "    <tr style=\"text-align: right;\">\n",
       "      <th></th>\n",
       "      <th>utc</th>\n",
       "      <th>value</th>\n",
       "      <th>date</th>\n",
       "    </tr>\n",
       "  </thead>\n",
       "  <tbody>\n",
       "    <tr>\n",
       "      <th>3025</th>\n",
       "      <td>2020-02-20 02:15:00+00:00</td>\n",
       "      <td>1080</td>\n",
       "      <td>2020-02-20</td>\n",
       "    </tr>\n",
       "    <tr>\n",
       "      <th>3026</th>\n",
       "      <td>2020-02-20 02:00:00+00:00</td>\n",
       "      <td>1080</td>\n",
       "      <td>2020-02-20</td>\n",
       "    </tr>\n",
       "    <tr>\n",
       "      <th>3027</th>\n",
       "      <td>2020-02-20 01:45:00+00:00</td>\n",
       "      <td>1050</td>\n",
       "      <td>2020-02-20</td>\n",
       "    </tr>\n",
       "    <tr>\n",
       "      <th>3028</th>\n",
       "      <td>2020-02-20 00:30:00+00:00</td>\n",
       "      <td>1020</td>\n",
       "      <td>2020-02-20</td>\n",
       "    </tr>\n",
       "    <tr>\n",
       "      <th>3029</th>\n",
       "      <td>2020-02-20 00:00:00+00:00</td>\n",
       "      <td>980</td>\n",
       "      <td>2020-02-20</td>\n",
       "    </tr>\n",
       "  </tbody>\n",
       "</table>\n",
       "</div>"
      ],
      "text/plain": [
       "                           utc  value        date\n",
       "3025 2020-02-20 02:15:00+00:00   1080  2020-02-20\n",
       "3026 2020-02-20 02:00:00+00:00   1080  2020-02-20\n",
       "3027 2020-02-20 01:45:00+00:00   1050  2020-02-20\n",
       "3028 2020-02-20 00:30:00+00:00   1020  2020-02-20\n",
       "3029 2020-02-20 00:00:00+00:00    980  2020-02-20"
      ]
     },
     "execution_count": 11,
     "metadata": {},
     "output_type": "execute_result"
    }
   ],
   "source": [
    "data1.tail()"
   ]
  },
  {
   "cell_type": "code",
   "execution_count": 12,
   "metadata": {},
   "outputs": [
    {
     "data": {
      "text/html": [
       "<div>\n",
       "<style scoped>\n",
       "    .dataframe tbody tr th:only-of-type {\n",
       "        vertical-align: middle;\n",
       "    }\n",
       "\n",
       "    .dataframe tbody tr th {\n",
       "        vertical-align: top;\n",
       "    }\n",
       "\n",
       "    .dataframe thead th {\n",
       "        text-align: right;\n",
       "    }\n",
       "</style>\n",
       "<table border=\"1\" class=\"dataframe\">\n",
       "  <thead>\n",
       "    <tr style=\"text-align: right;\">\n",
       "      <th></th>\n",
       "      <th>date</th>\n",
       "      <th>mean_value</th>\n",
       "    </tr>\n",
       "  </thead>\n",
       "  <tbody>\n",
       "    <tr>\n",
       "      <th>0</th>\n",
       "      <td>2020-02-20</td>\n",
       "      <td>1046.279070</td>\n",
       "    </tr>\n",
       "    <tr>\n",
       "      <th>1</th>\n",
       "      <td>2020-02-21</td>\n",
       "      <td>924.500000</td>\n",
       "    </tr>\n",
       "    <tr>\n",
       "      <th>2</th>\n",
       "      <td>2020-02-22</td>\n",
       "      <td>981.111111</td>\n",
       "    </tr>\n",
       "    <tr>\n",
       "      <th>3</th>\n",
       "      <td>2020-02-23</td>\n",
       "      <td>977.222222</td>\n",
       "    </tr>\n",
       "    <tr>\n",
       "      <th>4</th>\n",
       "      <td>2020-02-24</td>\n",
       "      <td>1089.032258</td>\n",
       "    </tr>\n",
       "    <tr>\n",
       "      <th>...</th>\n",
       "      <td>...</td>\n",
       "      <td>...</td>\n",
       "    </tr>\n",
       "    <tr>\n",
       "      <th>114</th>\n",
       "      <td>2020-06-14</td>\n",
       "      <td>420.000000</td>\n",
       "    </tr>\n",
       "    <tr>\n",
       "      <th>115</th>\n",
       "      <td>2020-06-15</td>\n",
       "      <td>583.333333</td>\n",
       "    </tr>\n",
       "    <tr>\n",
       "      <th>116</th>\n",
       "      <td>2020-06-17</td>\n",
       "      <td>590.000000</td>\n",
       "    </tr>\n",
       "    <tr>\n",
       "      <th>117</th>\n",
       "      <td>2020-06-18</td>\n",
       "      <td>676.250000</td>\n",
       "    </tr>\n",
       "    <tr>\n",
       "      <th>118</th>\n",
       "      <td>2020-06-19</td>\n",
       "      <td>695.294118</td>\n",
       "    </tr>\n",
       "  </tbody>\n",
       "</table>\n",
       "<p>119 rows × 2 columns</p>\n",
       "</div>"
      ],
      "text/plain": [
       "           date   mean_value\n",
       "0    2020-02-20  1046.279070\n",
       "1    2020-02-21   924.500000\n",
       "2    2020-02-22   981.111111\n",
       "3    2020-02-23   977.222222\n",
       "4    2020-02-24  1089.032258\n",
       "..          ...          ...\n",
       "114  2020-06-14   420.000000\n",
       "115  2020-06-15   583.333333\n",
       "116  2020-06-17   590.000000\n",
       "117  2020-06-18   676.250000\n",
       "118  2020-06-19   695.294118\n",
       "\n",
       "[119 rows x 2 columns]"
      ]
     },
     "execution_count": 12,
     "metadata": {},
     "output_type": "execute_result"
    }
   ],
   "source": [
    "df1 = data1.groupby(['date']).agg(mean_value = ('value', np.mean))\n",
    "df1 = df1.reset_index()\n",
    "df1.sort_values('date', ascending = True)"
   ]
  },
  {
   "cell_type": "code",
   "execution_count": 13,
   "metadata": {},
   "outputs": [
    {
     "data": {
      "text/plain": [
       "utc      0\n",
       "value    0\n",
       "date     0\n",
       "dtype: int64"
      ]
     },
     "execution_count": 13,
     "metadata": {},
     "output_type": "execute_result"
    }
   ],
   "source": [
    "data1.isnull().sum()"
   ]
  },
  {
   "cell_type": "code",
   "execution_count": 14,
   "metadata": {},
   "outputs": [
    {
     "data": {
      "image/png": "[encoded data removed]",
      "text/plain": [
       "<Figure size 2160x2160 with 1 Axes>"
      ]
     },
     "metadata": {
      "needs_background": "light"
     },
     "output_type": "display_data"
    }
   ],
   "source": [
    "plt.figure(figsize=(30,30))\n",
    "sns.lineplot(x=df1.date, y= df1.mean_value, data=df1)\n",
    "plt.xticks(rotation=45)\n",
    "plt.show()"
   ]
  },
  {
   "cell_type": "code",
   "execution_count": 21,
   "metadata": {},
   "outputs": [
    {
     "data": {
      "text/plain": [
       "utc      datetime64[ns, UTC]\n",
       "value                  int64\n",
       "date                  object\n",
       "dtype: object"
      ]
     },
     "execution_count": 21,
     "metadata": {},
     "output_type": "execute_result"
    }
   ],
   "source": [
    "data1.dtypes"
   ]
  },
  {
   "cell_type": "code",
   "execution_count": 24,
   "metadata": {},
   "outputs": [
    {
     "data": {
      "text/html": [
       "<div>\n",
       "<style scoped>\n",
       "    .dataframe tbody tr th:only-of-type {\n",
       "        vertical-align: middle;\n",
       "    }\n",
       "\n",
       "    .dataframe tbody tr th {\n",
       "        vertical-align: top;\n",
       "    }\n",
       "\n",
       "    .dataframe thead th {\n",
       "        text-align: right;\n",
       "    }\n",
       "</style>\n",
       "<table border=\"1\" class=\"dataframe\">\n",
       "  <thead>\n",
       "    <tr style=\"text-align: right;\">\n",
       "      <th></th>\n",
       "      <th>utc</th>\n",
       "      <th>value</th>\n",
       "    </tr>\n",
       "  </thead>\n",
       "  <tbody>\n",
       "    <tr>\n",
       "      <th>0</th>\n",
       "      <td>2020-02</td>\n",
       "      <td>1081.322751</td>\n",
       "    </tr>\n",
       "    <tr>\n",
       "      <th>1</th>\n",
       "      <td>2020-03</td>\n",
       "      <td>1154.927686</td>\n",
       "    </tr>\n",
       "    <tr>\n",
       "      <th>2</th>\n",
       "      <td>2020-04</td>\n",
       "      <td>514.690265</td>\n",
       "    </tr>\n",
       "    <tr>\n",
       "      <th>3</th>\n",
       "      <td>2020-05</td>\n",
       "      <td>569.565217</td>\n",
       "    </tr>\n",
       "    <tr>\n",
       "      <th>4</th>\n",
       "      <td>2020-06</td>\n",
       "      <td>557.939394</td>\n",
       "    </tr>\n",
       "  </tbody>\n",
       "</table>\n",
       "</div>"
      ],
      "text/plain": [
       "       utc        value\n",
       "0  2020-02  1081.322751\n",
       "1  2020-03  1154.927686\n",
       "2  2020-04   514.690265\n",
       "3  2020-05   569.565217\n",
       "4  2020-06   557.939394"
      ]
     },
     "execution_count": 24,
     "metadata": {},
     "output_type": "execute_result"
    }
   ],
   "source": [
    "df2 = data1.groupby(data1.utc.dt.to_period(\"M\")).agg('mean')\n",
    "df2 = df2.reset_index()\n",
    "df2.head()"
   ]
  },
  {
   "cell_type": "code",
   "execution_count": 29,
   "metadata": {},
   "outputs": [
    {
     "data": {
      "text/plain": [
       "utc       object\n",
       "value    float64\n",
       "dtype: object"
      ]
     },
     "execution_count": 29,
     "metadata": {},
     "output_type": "execute_result"
    }
   ],
   "source": [
    "df2['utc'] = df2['utc'].astype(str)\n",
    "df2.dtypes"
   ]
  },
  {
   "cell_type": "code",
   "execution_count": 31,
   "metadata": {},
   "outputs": [
    {
     "data": {
      "image/png": "[encoded data removed]",
      "text/plain": [
       "<Figure size 1440x1440 with 1 Axes>"
      ]
     },
     "metadata": {
      "needs_background": "light"
     },
     "output_type": "display_data"
    }
   ],
   "source": [
    "plt.figure(figsize=(20,20))\n",
    "sns.lineplot(x=df2.utc, y= df2.value, data=df2)\n",
    "plt.xticks(rotation=45)\n",
    "plt.show()"
   ]
  },
  {
   "cell_type": "code",
   "execution_count": 37,
   "metadata": {},
   "outputs": [
    {
     "data": {
      "text/html": [
       "<div>\n",
       "<style scoped>\n",
       "    .dataframe tbody tr th:only-of-type {\n",
       "        vertical-align: middle;\n",
       "    }\n",
       "\n",
       "    .dataframe tbody tr th {\n",
       "        vertical-align: top;\n",
       "    }\n",
       "\n",
       "    .dataframe thead th {\n",
       "        text-align: right;\n",
       "    }\n",
       "</style>\n",
       "<table border=\"1\" class=\"dataframe\">\n",
       "  <thead>\n",
       "    <tr style=\"text-align: right;\">\n",
       "      <th></th>\n",
       "      <th>utc</th>\n",
       "      <th>value</th>\n",
       "    </tr>\n",
       "  </thead>\n",
       "  <tbody>\n",
       "    <tr>\n",
       "      <th>0</th>\n",
       "      <td>2020-02-17/2020-02-23</td>\n",
       "      <td>983.677419</td>\n",
       "    </tr>\n",
       "    <tr>\n",
       "      <th>1</th>\n",
       "      <td>2020-02-24/2020-03-01</td>\n",
       "      <td>1136.958175</td>\n",
       "    </tr>\n",
       "    <tr>\n",
       "      <th>2</th>\n",
       "      <td>2020-03-02/2020-03-08</td>\n",
       "      <td>1475.060729</td>\n",
       "    </tr>\n",
       "    <tr>\n",
       "      <th>3</th>\n",
       "      <td>2020-03-09/2020-03-15</td>\n",
       "      <td>1126.160338</td>\n",
       "    </tr>\n",
       "    <tr>\n",
       "      <th>4</th>\n",
       "      <td>2020-03-16/2020-03-22</td>\n",
       "      <td>1096.623932</td>\n",
       "    </tr>\n",
       "  </tbody>\n",
       "</table>\n",
       "</div>"
      ],
      "text/plain": [
       "                     utc        value\n",
       "0  2020-02-17/2020-02-23   983.677419\n",
       "1  2020-02-24/2020-03-01  1136.958175\n",
       "2  2020-03-02/2020-03-08  1475.060729\n",
       "3  2020-03-09/2020-03-15  1126.160338\n",
       "4  2020-03-16/2020-03-22  1096.623932"
      ]
     },
     "execution_count": 37,
     "metadata": {},
     "output_type": "execute_result"
    }
   ],
   "source": [
    "df3 = data1.groupby(data1.utc.dt.to_period(\"W\")).agg('mean')\n",
    "df3 = df3.reset_index()\n",
    "df3.head()\n"
   ]
  },
  {
   "cell_type": "code",
   "execution_count": 38,
   "metadata": {},
   "outputs": [
    {
     "data": {
      "text/plain": [
       "<PeriodArray>\n",
       "['2020-02-17/2020-02-23', '2020-02-24/2020-03-01', '2020-03-02/2020-03-08',\n",
       " '2020-03-09/2020-03-15', '2020-03-16/2020-03-22', '2020-03-23/2020-03-29',\n",
       " '2020-03-30/2020-04-05', '2020-04-06/2020-04-12', '2020-04-13/2020-04-19',\n",
       " '2020-04-20/2020-04-26', '2020-04-27/2020-05-03', '2020-05-04/2020-05-10',\n",
       " '2020-05-11/2020-05-17', '2020-05-18/2020-05-24', '2020-05-25/2020-05-31',\n",
       " '2020-06-01/2020-06-07', '2020-06-08/2020-06-14', '2020-06-15/2020-06-21']\n",
       "Length: 18, dtype: period[W-SUN]"
      ]
     },
     "execution_count": 38,
     "metadata": {},
     "output_type": "execute_result"
    }
   ],
   "source": [
    "df3['utc'].unique()"
   ]
  },
  {
   "cell_type": "code",
   "execution_count": 32,
   "metadata": {},
   "outputs": [
    {
     "data": {
      "text/html": [
       "<div>\n",
       "<style scoped>\n",
       "    .dataframe tbody tr th:only-of-type {\n",
       "        vertical-align: middle;\n",
       "    }\n",
       "\n",
       "    .dataframe tbody tr th {\n",
       "        vertical-align: top;\n",
       "    }\n",
       "\n",
       "    .dataframe thead th {\n",
       "        text-align: right;\n",
       "    }\n",
       "</style>\n",
       "<table border=\"1\" class=\"dataframe\">\n",
       "  <thead>\n",
       "    <tr style=\"text-align: right;\">\n",
       "      <th></th>\n",
       "      <th>Unnamed: 0</th>\n",
       "      <th>location</th>\n",
       "      <th>city</th>\n",
       "      <th>country</th>\n",
       "      <th>utc</th>\n",
       "      <th>weekday</th>\n",
       "      <th>local</th>\n",
       "      <th>parameter</th>\n",
       "      <th>value</th>\n",
       "      <th>unit</th>\n",
       "      <th>latitude</th>\n",
       "      <th>longitude</th>\n",
       "      <th>attribution</th>\n",
       "    </tr>\n",
       "  </thead>\n",
       "  <tbody>\n",
       "    <tr>\n",
       "      <th>0</th>\n",
       "      <td>0</td>\n",
       "      <td>Silk Board, Bengaluru - KSPCB</td>\n",
       "      <td>Bengaluru</td>\n",
       "      <td>IN</td>\n",
       "      <td>2020-06-19T22:15:00Z</td>\n",
       "      <td>7</td>\n",
       "      <td>2020-06-20T03:45:00+05:30</td>\n",
       "      <td>o3</td>\n",
       "      <td>14.78</td>\n",
       "      <td>µg/m³</td>\n",
       "      <td>12.917348</td>\n",
       "      <td>77.622813</td>\n",
       "      <td>[{\"url\":\"https://app.cpcbccr.com/ccr/#/caaqm-d...</td>\n",
       "    </tr>\n",
       "    <tr>\n",
       "      <th>1</th>\n",
       "      <td>1</td>\n",
       "      <td>Silk Board, Bengaluru - KSPCB</td>\n",
       "      <td>Bengaluru</td>\n",
       "      <td>IN</td>\n",
       "      <td>2020-06-19T21:00:00Z</td>\n",
       "      <td>7</td>\n",
       "      <td>2020-06-20T02:30:00+05:30</td>\n",
       "      <td>o3</td>\n",
       "      <td>13.76</td>\n",
       "      <td>µg/m³</td>\n",
       "      <td>12.917348</td>\n",
       "      <td>77.622813</td>\n",
       "      <td>[{\"url\":\"https://app.cpcbccr.com/ccr/#/caaqm-d...</td>\n",
       "    </tr>\n",
       "    <tr>\n",
       "      <th>2</th>\n",
       "      <td>2</td>\n",
       "      <td>Silk Board, Bengaluru - KSPCB</td>\n",
       "      <td>Bengaluru</td>\n",
       "      <td>IN</td>\n",
       "      <td>2020-06-19T19:30:00Z</td>\n",
       "      <td>7</td>\n",
       "      <td>2020-06-20T01:00:00+05:30</td>\n",
       "      <td>o3</td>\n",
       "      <td>15.39</td>\n",
       "      <td>µg/m³</td>\n",
       "      <td>12.917348</td>\n",
       "      <td>77.622813</td>\n",
       "      <td>[{\"url\":\"https://app.cpcbccr.com/ccr/#/caaqm-d...</td>\n",
       "    </tr>\n",
       "    <tr>\n",
       "      <th>3</th>\n",
       "      <td>3</td>\n",
       "      <td>Silk Board, Bengaluru - KSPCB</td>\n",
       "      <td>Bengaluru</td>\n",
       "      <td>IN</td>\n",
       "      <td>2020-06-19T17:30:00Z</td>\n",
       "      <td>6</td>\n",
       "      <td>2020-06-19T23:00:00+05:30</td>\n",
       "      <td>o3</td>\n",
       "      <td>15.88</td>\n",
       "      <td>µg/m³</td>\n",
       "      <td>12.917348</td>\n",
       "      <td>77.622813</td>\n",
       "      <td>[{\"url\":\"https://app.cpcbccr.com/ccr/#/caaqm-d...</td>\n",
       "    </tr>\n",
       "    <tr>\n",
       "      <th>4</th>\n",
       "      <td>4</td>\n",
       "      <td>Silk Board, Bengaluru - KSPCB</td>\n",
       "      <td>Bengaluru</td>\n",
       "      <td>IN</td>\n",
       "      <td>2020-06-19T16:45:00Z</td>\n",
       "      <td>6</td>\n",
       "      <td>2020-06-19T22:15:00+05:30</td>\n",
       "      <td>o3</td>\n",
       "      <td>13.13</td>\n",
       "      <td>µg/m³</td>\n",
       "      <td>12.917348</td>\n",
       "      <td>77.622813</td>\n",
       "      <td>[{\"url\":\"https://app.cpcbccr.com/ccr/#/caaqm-d...</td>\n",
       "    </tr>\n",
       "  </tbody>\n",
       "</table>\n",
       "</div>"
      ],
      "text/plain": [
       "   Unnamed: 0                       location       city country  \\\n",
       "0           0  Silk Board, Bengaluru - KSPCB  Bengaluru      IN   \n",
       "1           1  Silk Board, Bengaluru - KSPCB  Bengaluru      IN   \n",
       "2           2  Silk Board, Bengaluru - KSPCB  Bengaluru      IN   \n",
       "3           3  Silk Board, Bengaluru - KSPCB  Bengaluru      IN   \n",
       "4           4  Silk Board, Bengaluru - KSPCB  Bengaluru      IN   \n",
       "\n",
       "                    utc  weekday                      local parameter  value  \\\n",
       "0  2020-06-19T22:15:00Z        7  2020-06-20T03:45:00+05:30        o3  14.78   \n",
       "1  2020-06-19T21:00:00Z        7  2020-06-20T02:30:00+05:30        o3  13.76   \n",
       "2  2020-06-19T19:30:00Z        7  2020-06-20T01:00:00+05:30        o3  15.39   \n",
       "3  2020-06-19T17:30:00Z        6  2020-06-19T23:00:00+05:30        o3  15.88   \n",
       "4  2020-06-19T16:45:00Z        6  2020-06-19T22:15:00+05:30        o3  13.13   \n",
       "\n",
       "    unit   latitude  longitude  \\\n",
       "0  µg/m³  12.917348  77.622813   \n",
       "1  µg/m³  12.917348  77.622813   \n",
       "2  µg/m³  12.917348  77.622813   \n",
       "3  µg/m³  12.917348  77.622813   \n",
       "4  µg/m³  12.917348  77.622813   \n",
       "\n",
       "                                         attribution  \n",
       "0  [{\"url\":\"https://app.cpcbccr.com/ccr/#/caaqm-d...  \n",
       "1  [{\"url\":\"https://app.cpcbccr.com/ccr/#/caaqm-d...  \n",
       "2  [{\"url\":\"https://app.cpcbccr.com/ccr/#/caaqm-d...  \n",
       "3  [{\"url\":\"https://app.cpcbccr.com/ccr/#/caaqm-d...  \n",
       "4  [{\"url\":\"https://app.cpcbccr.com/ccr/#/caaqm-d...  "
      ]
     },
     "execution_count": 32,
     "metadata": {},
     "output_type": "execute_result"
    }
   ],
   "source": [
    "data2.head()"
   ]
  },
  {
   "cell_type": "code",
   "execution_count": 33,
   "metadata": {},
   "outputs": [
    {
     "data": {
      "text/plain": [
       "Unnamed: 0     3681\n",
       "location          1\n",
       "city              1\n",
       "country           1\n",
       "utc            3681\n",
       "weekday           7\n",
       "local          3681\n",
       "parameter         1\n",
       "value          1601\n",
       "unit              1\n",
       "latitude          1\n",
       "longitude         1\n",
       "attribution       1\n",
       "dtype: int64"
      ]
     },
     "execution_count": 33,
     "metadata": {},
     "output_type": "execute_result"
    }
   ],
   "source": [
    "data2.nunique()"
   ]
  },
  {
   "cell_type": "code",
   "execution_count": 34,
   "metadata": {},
   "outputs": [],
   "source": [
    "data2.drop(['Unnamed: 0', 'location','city','country','parameter', 'unit', 'latitude', 'longitude', 'attribution','local'], axis=1, inplace=True)"
   ]
  },
  {
   "cell_type": "code",
   "execution_count": 35,
   "metadata": {},
   "outputs": [
    {
     "data": {
      "text/html": [
       "<div>\n",
       "<style scoped>\n",
       "    .dataframe tbody tr th:only-of-type {\n",
       "        vertical-align: middle;\n",
       "    }\n",
       "\n",
       "    .dataframe tbody tr th {\n",
       "        vertical-align: top;\n",
       "    }\n",
       "\n",
       "    .dataframe thead th {\n",
       "        text-align: right;\n",
       "    }\n",
       "</style>\n",
       "<table border=\"1\" class=\"dataframe\">\n",
       "  <thead>\n",
       "    <tr style=\"text-align: right;\">\n",
       "      <th></th>\n",
       "      <th>utc</th>\n",
       "      <th>weekday</th>\n",
       "      <th>value</th>\n",
       "    </tr>\n",
       "  </thead>\n",
       "  <tbody>\n",
       "    <tr>\n",
       "      <th>0</th>\n",
       "      <td>2020-06-19T22:15:00Z</td>\n",
       "      <td>7</td>\n",
       "      <td>14.78</td>\n",
       "    </tr>\n",
       "    <tr>\n",
       "      <th>1</th>\n",
       "      <td>2020-06-19T21:00:00Z</td>\n",
       "      <td>7</td>\n",
       "      <td>13.76</td>\n",
       "    </tr>\n",
       "    <tr>\n",
       "      <th>2</th>\n",
       "      <td>2020-06-19T19:30:00Z</td>\n",
       "      <td>7</td>\n",
       "      <td>15.39</td>\n",
       "    </tr>\n",
       "    <tr>\n",
       "      <th>3</th>\n",
       "      <td>2020-06-19T17:30:00Z</td>\n",
       "      <td>6</td>\n",
       "      <td>15.88</td>\n",
       "    </tr>\n",
       "    <tr>\n",
       "      <th>4</th>\n",
       "      <td>2020-06-19T16:45:00Z</td>\n",
       "      <td>6</td>\n",
       "      <td>13.13</td>\n",
       "    </tr>\n",
       "  </tbody>\n",
       "</table>\n",
       "</div>"
      ],
      "text/plain": [
       "                    utc  weekday  value\n",
       "0  2020-06-19T22:15:00Z        7  14.78\n",
       "1  2020-06-19T21:00:00Z        7  13.76\n",
       "2  2020-06-19T19:30:00Z        7  15.39\n",
       "3  2020-06-19T17:30:00Z        6  15.88\n",
       "4  2020-06-19T16:45:00Z        6  13.13"
      ]
     },
     "execution_count": 35,
     "metadata": {},
     "output_type": "execute_result"
    }
   ],
   "source": [
    "data2.head()"
   ]
  },
  {
   "cell_type": "code",
   "execution_count": 36,
   "metadata": {},
   "outputs": [
    {
     "data": {
      "text/plain": [
       "array([7, 6, 5, 4, 3, 2, 1], dtype=int64)"
      ]
     },
     "execution_count": 36,
     "metadata": {},
     "output_type": "execute_result"
    }
   ],
   "source": [
    "data2.weekday.unique()"
   ]
  },
  {
   "cell_type": "code",
   "execution_count": 39,
   "metadata": {},
   "outputs": [
    {
     "data": {
      "text/html": [
       "<div>\n",
       "<style scoped>\n",
       "    .dataframe tbody tr th:only-of-type {\n",
       "        vertical-align: middle;\n",
       "    }\n",
       "\n",
       "    .dataframe tbody tr th {\n",
       "        vertical-align: top;\n",
       "    }\n",
       "\n",
       "    .dataframe thead th {\n",
       "        text-align: right;\n",
       "    }\n",
       "</style>\n",
       "<table border=\"1\" class=\"dataframe\">\n",
       "  <thead>\n",
       "    <tr style=\"text-align: right;\">\n",
       "      <th></th>\n",
       "      <th>utc</th>\n",
       "      <th>weekday</th>\n",
       "      <th>value</th>\n",
       "    </tr>\n",
       "  </thead>\n",
       "  <tbody>\n",
       "    <tr>\n",
       "      <th>3676</th>\n",
       "      <td>2020-02-20T01:45:00Z</td>\n",
       "      <td>5</td>\n",
       "      <td>27.54</td>\n",
       "    </tr>\n",
       "    <tr>\n",
       "      <th>3677</th>\n",
       "      <td>2020-02-20T01:15:00Z</td>\n",
       "      <td>5</td>\n",
       "      <td>26.03</td>\n",
       "    </tr>\n",
       "    <tr>\n",
       "      <th>3678</th>\n",
       "      <td>2020-02-20T01:00:00Z</td>\n",
       "      <td>5</td>\n",
       "      <td>29.87</td>\n",
       "    </tr>\n",
       "    <tr>\n",
       "      <th>3679</th>\n",
       "      <td>2020-02-20T00:30:00Z</td>\n",
       "      <td>5</td>\n",
       "      <td>25.42</td>\n",
       "    </tr>\n",
       "    <tr>\n",
       "      <th>3680</th>\n",
       "      <td>2020-02-20T00:00:00Z</td>\n",
       "      <td>5</td>\n",
       "      <td>26.22</td>\n",
       "    </tr>\n",
       "  </tbody>\n",
       "</table>\n",
       "</div>"
      ],
      "text/plain": [
       "                       utc  weekday  value\n",
       "3676  2020-02-20T01:45:00Z        5  27.54\n",
       "3677  2020-02-20T01:15:00Z        5  26.03\n",
       "3678  2020-02-20T01:00:00Z        5  29.87\n",
       "3679  2020-02-20T00:30:00Z        5  25.42\n",
       "3680  2020-02-20T00:00:00Z        5  26.22"
      ]
     },
     "execution_count": 39,
     "metadata": {},
     "output_type": "execute_result"
    }
   ],
   "source": [
    "data2.tail()"
   ]
  },
  {
   "cell_type": "code",
   "execution_count": 41,
   "metadata": {},
   "outputs": [],
   "source": [
    "data2['utc'] = pd.to_datetime(data2['utc'])"
   ]
  },
  {
   "cell_type": "code",
   "execution_count": 42,
   "metadata": {},
   "outputs": [],
   "source": [
    "data2['date'] = data2['utc'].dt.strftime('%Y-%m-%d')"
   ]
  },
  {
   "cell_type": "code",
   "execution_count": 43,
   "metadata": {},
   "outputs": [
    {
     "data": {
      "text/html": [
       "<div>\n",
       "<style scoped>\n",
       "    .dataframe tbody tr th:only-of-type {\n",
       "        vertical-align: middle;\n",
       "    }\n",
       "\n",
       "    .dataframe tbody tr th {\n",
       "        vertical-align: top;\n",
       "    }\n",
       "\n",
       "    .dataframe thead th {\n",
       "        text-align: right;\n",
       "    }\n",
       "</style>\n",
       "<table border=\"1\" class=\"dataframe\">\n",
       "  <thead>\n",
       "    <tr style=\"text-align: right;\">\n",
       "      <th></th>\n",
       "      <th>utc</th>\n",
       "      <th>weekday</th>\n",
       "      <th>value</th>\n",
       "    </tr>\n",
       "  </thead>\n",
       "  <tbody>\n",
       "    <tr>\n",
       "      <th>0</th>\n",
       "      <td>2020-02</td>\n",
       "      <td>4.551422</td>\n",
       "      <td>35.930263</td>\n",
       "    </tr>\n",
       "    <tr>\n",
       "      <th>1</th>\n",
       "      <td>2020-03</td>\n",
       "      <td>3.961181</td>\n",
       "      <td>34.733367</td>\n",
       "    </tr>\n",
       "    <tr>\n",
       "      <th>2</th>\n",
       "      <td>2020-04</td>\n",
       "      <td>4.045057</td>\n",
       "      <td>34.443551</td>\n",
       "    </tr>\n",
       "    <tr>\n",
       "      <th>3</th>\n",
       "      <td>2020-05</td>\n",
       "      <td>3.511765</td>\n",
       "      <td>31.250088</td>\n",
       "    </tr>\n",
       "    <tr>\n",
       "      <th>4</th>\n",
       "      <td>2020-06</td>\n",
       "      <td>3.716981</td>\n",
       "      <td>19.578821</td>\n",
       "    </tr>\n",
       "  </tbody>\n",
       "</table>\n",
       "</div>"
      ],
      "text/plain": [
       "       utc   weekday      value\n",
       "0  2020-02  4.551422  35.930263\n",
       "1  2020-03  3.961181  34.733367\n",
       "2  2020-04  4.045057  34.443551\n",
       "3  2020-05  3.511765  31.250088\n",
       "4  2020-06  3.716981  19.578821"
      ]
     },
     "execution_count": 43,
     "metadata": {},
     "output_type": "execute_result"
    }
   ],
   "source": [
    "df4 = data2.groupby(data2.utc.dt.to_period(\"M\")).agg('mean')\n",
    "df4 = df4.reset_index()\n",
    "df4.head()"
   ]
  },
  {
   "cell_type": "code",
   "execution_count": 44,
   "metadata": {},
   "outputs": [
    {
     "data": {
      "text/plain": [
       "utc         object\n",
       "weekday    float64\n",
       "value      float64\n",
       "dtype: object"
      ]
     },
     "execution_count": 44,
     "metadata": {},
     "output_type": "execute_result"
    }
   ],
   "source": [
    "df4['utc'] = df4['utc'].astype(str)\n",
    "df4.dtypes"
   ]
  },
  {
   "cell_type": "code",
   "execution_count": 45,
   "metadata": {},
   "outputs": [
    {
     "data": {
      "image/png": "[encoded data removed]",
      "text/plain": [
       "<Figure size 1440x1440 with 1 Axes>"
      ]
     },
     "metadata": {
      "needs_background": "light"
     },
     "output_type": "display_data"
    }
   ],
   "source": [
    "plt.figure(figsize=(20,20))\n",
    "sns.lineplot(x=df4.utc, y= df4.value, data=df4)\n",
    "plt.xticks(rotation=45)\n",
    "plt.show()"
   ]
  },
  {
   "cell_type": "code",
   "execution_count": 46,
   "metadata": {},
   "outputs": [
    {
     "data": {
      "text/html": [
       "<div>\n",
       "<style scoped>\n",
       "    .dataframe tbody tr th:only-of-type {\n",
       "        vertical-align: middle;\n",
       "    }\n",
       "\n",
       "    .dataframe tbody tr th {\n",
       "        vertical-align: top;\n",
       "    }\n",
       "\n",
       "    .dataframe thead th {\n",
       "        text-align: right;\n",
       "    }\n",
       "</style>\n",
       "<table border=\"1\" class=\"dataframe\">\n",
       "  <thead>\n",
       "    <tr style=\"text-align: right;\">\n",
       "      <th></th>\n",
       "      <th>Unnamed: 0</th>\n",
       "      <th>location</th>\n",
       "      <th>city</th>\n",
       "      <th>country</th>\n",
       "      <th>utc</th>\n",
       "      <th>weekday</th>\n",
       "      <th>local</th>\n",
       "      <th>parameter</th>\n",
       "      <th>value</th>\n",
       "      <th>unit</th>\n",
       "      <th>latitude</th>\n",
       "      <th>longitude</th>\n",
       "      <th>attribution</th>\n",
       "    </tr>\n",
       "  </thead>\n",
       "  <tbody>\n",
       "    <tr>\n",
       "      <th>0</th>\n",
       "      <td>0</td>\n",
       "      <td>Silk Board, Bengaluru - KSPCB</td>\n",
       "      <td>Bengaluru</td>\n",
       "      <td>IN</td>\n",
       "      <td>2020-06-19T22:15:00Z</td>\n",
       "      <td>7</td>\n",
       "      <td>2020-06-20T03:45:00+05:30</td>\n",
       "      <td>no2</td>\n",
       "      <td>12.6</td>\n",
       "      <td>µg/m³</td>\n",
       "      <td>12.917348</td>\n",
       "      <td>77.622813</td>\n",
       "      <td>[{\"url\":\"https://app.cpcbccr.com/ccr/#/caaqm-d...</td>\n",
       "    </tr>\n",
       "    <tr>\n",
       "      <th>1</th>\n",
       "      <td>1</td>\n",
       "      <td>Silk Board, Bengaluru - KSPCB</td>\n",
       "      <td>Bengaluru</td>\n",
       "      <td>IN</td>\n",
       "      <td>2020-06-19T21:00:00Z</td>\n",
       "      <td>7</td>\n",
       "      <td>2020-06-20T02:30:00+05:30</td>\n",
       "      <td>no2</td>\n",
       "      <td>13.0</td>\n",
       "      <td>µg/m³</td>\n",
       "      <td>12.917348</td>\n",
       "      <td>77.622813</td>\n",
       "      <td>[{\"url\":\"https://app.cpcbccr.com/ccr/#/caaqm-d...</td>\n",
       "    </tr>\n",
       "    <tr>\n",
       "      <th>2</th>\n",
       "      <td>2</td>\n",
       "      <td>Silk Board, Bengaluru - KSPCB</td>\n",
       "      <td>Bengaluru</td>\n",
       "      <td>IN</td>\n",
       "      <td>2020-06-19T19:30:00Z</td>\n",
       "      <td>7</td>\n",
       "      <td>2020-06-20T01:00:00+05:30</td>\n",
       "      <td>no2</td>\n",
       "      <td>13.5</td>\n",
       "      <td>µg/m³</td>\n",
       "      <td>12.917348</td>\n",
       "      <td>77.622813</td>\n",
       "      <td>[{\"url\":\"https://app.cpcbccr.com/ccr/#/caaqm-d...</td>\n",
       "    </tr>\n",
       "    <tr>\n",
       "      <th>3</th>\n",
       "      <td>3</td>\n",
       "      <td>Silk Board, Bengaluru - KSPCB</td>\n",
       "      <td>Bengaluru</td>\n",
       "      <td>IN</td>\n",
       "      <td>2020-06-19T17:30:00Z</td>\n",
       "      <td>6</td>\n",
       "      <td>2020-06-19T23:00:00+05:30</td>\n",
       "      <td>no2</td>\n",
       "      <td>16.2</td>\n",
       "      <td>µg/m³</td>\n",
       "      <td>12.917348</td>\n",
       "      <td>77.622813</td>\n",
       "      <td>[{\"url\":\"https://app.cpcbccr.com/ccr/#/caaqm-d...</td>\n",
       "    </tr>\n",
       "    <tr>\n",
       "      <th>4</th>\n",
       "      <td>4</td>\n",
       "      <td>Silk Board, Bengaluru - KSPCB</td>\n",
       "      <td>Bengaluru</td>\n",
       "      <td>IN</td>\n",
       "      <td>2020-06-19T16:45:00Z</td>\n",
       "      <td>6</td>\n",
       "      <td>2020-06-19T22:15:00+05:30</td>\n",
       "      <td>no2</td>\n",
       "      <td>15.1</td>\n",
       "      <td>µg/m³</td>\n",
       "      <td>12.917348</td>\n",
       "      <td>77.622813</td>\n",
       "      <td>[{\"url\":\"https://app.cpcbccr.com/ccr/#/caaqm-d...</td>\n",
       "    </tr>\n",
       "  </tbody>\n",
       "</table>\n",
       "</div>"
      ],
      "text/plain": [
       "   Unnamed: 0                       location       city country  \\\n",
       "0           0  Silk Board, Bengaluru - KSPCB  Bengaluru      IN   \n",
       "1           1  Silk Board, Bengaluru - KSPCB  Bengaluru      IN   \n",
       "2           2  Silk Board, Bengaluru - KSPCB  Bengaluru      IN   \n",
       "3           3  Silk Board, Bengaluru - KSPCB  Bengaluru      IN   \n",
       "4           4  Silk Board, Bengaluru - KSPCB  Bengaluru      IN   \n",
       "\n",
       "                    utc  weekday                      local parameter  value  \\\n",
       "0  2020-06-19T22:15:00Z        7  2020-06-20T03:45:00+05:30       no2   12.6   \n",
       "1  2020-06-19T21:00:00Z        7  2020-06-20T02:30:00+05:30       no2   13.0   \n",
       "2  2020-06-19T19:30:00Z        7  2020-06-20T01:00:00+05:30       no2   13.5   \n",
       "3  2020-06-19T17:30:00Z        6  2020-06-19T23:00:00+05:30       no2   16.2   \n",
       "4  2020-06-19T16:45:00Z        6  2020-06-19T22:15:00+05:30       no2   15.1   \n",
       "\n",
       "    unit   latitude  longitude  \\\n",
       "0  µg/m³  12.917348  77.622813   \n",
       "1  µg/m³  12.917348  77.622813   \n",
       "2  µg/m³  12.917348  77.622813   \n",
       "3  µg/m³  12.917348  77.622813   \n",
       "4  µg/m³  12.917348  77.622813   \n",
       "\n",
       "                                         attribution  \n",
       "0  [{\"url\":\"https://app.cpcbccr.com/ccr/#/caaqm-d...  \n",
       "1  [{\"url\":\"https://app.cpcbccr.com/ccr/#/caaqm-d...  \n",
       "2  [{\"url\":\"https://app.cpcbccr.com/ccr/#/caaqm-d...  \n",
       "3  [{\"url\":\"https://app.cpcbccr.com/ccr/#/caaqm-d...  \n",
       "4  [{\"url\":\"https://app.cpcbccr.com/ccr/#/caaqm-d...  "
      ]
     },
     "execution_count": 46,
     "metadata": {},
     "output_type": "execute_result"
    }
   ],
   "source": [
    "data3.head()"
   ]
  },
  {
   "cell_type": "code",
   "execution_count": 47,
   "metadata": {},
   "outputs": [],
   "source": [
    "data3.drop(['Unnamed: 0', 'location','city','country','parameter', 'unit', 'latitude', 'longitude', 'attribution','local'], axis=1, inplace=True)"
   ]
  },
  {
   "cell_type": "code",
   "execution_count": 48,
   "metadata": {},
   "outputs": [
    {
     "data": {
      "image/png": "[encoded data removed]",
      "text/plain": [
       "<Figure size 1440x1440 with 1 Axes>"
      ]
     },
     "metadata": {
      "needs_background": "light"
     },
     "output_type": "display_data"
    }
   ],
   "source": [
    "data3['utc'] = pd.to_datetime(data3['utc'])\n",
    "\n",
    "data3['date'] = data3['utc'].dt.strftime('%Y-%m-%d')\n",
    "\n",
    "df5 = data3.groupby(data3.utc.dt.to_period(\"M\")).agg('mean')\n",
    "df5 = df5.reset_index()\n",
    "df5.head()\n",
    "\n",
    "df5['utc'] = df5['utc'].astype(str)\n",
    "df5.dtypes\n",
    "\n",
    "plt.figure(figsize=(20,20))\n",
    "sns.lineplot(x=df5.utc, y= df5.value, data=df5)\n",
    "plt.xticks(rotation=45)\n",
    "plt.show()"
   ]
  },
  {
   "cell_type": "code",
   "execution_count": 50,
   "metadata": {},
   "outputs": [],
   "source": [
    "column_names = [\"CO\", \"O3\", \"NO2\"]\n",
    "df6 = pd.DataFrame(columns = column_names)"
   ]
  },
  {
   "cell_type": "code",
   "execution_count": 64,
   "metadata": {},
   "outputs": [
    {
     "data": {
      "text/plain": [
       "array([1081.32275132, 1154.92768595,  514.69026549,  569.56521739,\n",
       "        557.93939394])"
      ]
     },
     "execution_count": 64,
     "metadata": {},
     "output_type": "execute_result"
    }
   ],
   "source": [
    "df2.value.values"
   ]
  },
  {
   "cell_type": "code",
   "execution_count": 70,
   "metadata": {},
   "outputs": [
    {
     "data": {
      "text/plain": [
       "Index(['utc', 'value'], dtype='object')"
      ]
     },
     "execution_count": 70,
     "metadata": {},
     "output_type": "execute_result"
    }
   ],
   "source": [
    "df2.columns"
   ]
  },
  {
   "cell_type": "code",
   "execution_count": 71,
   "metadata": {},
   "outputs": [],
   "source": [
    "df7 = pd.merge(df2,df4, on='utc')"
   ]
  },
  {
   "cell_type": "code",
   "execution_count": 72,
   "metadata": {},
   "outputs": [
    {
     "data": {
      "text/html": [
       "<div>\n",
       "<style scoped>\n",
       "    .dataframe tbody tr th:only-of-type {\n",
       "        vertical-align: middle;\n",
       "    }\n",
       "\n",
       "    .dataframe tbody tr th {\n",
       "        vertical-align: top;\n",
       "    }\n",
       "\n",
       "    .dataframe thead th {\n",
       "        text-align: right;\n",
       "    }\n",
       "</style>\n",
       "<table border=\"1\" class=\"dataframe\">\n",
       "  <thead>\n",
       "    <tr style=\"text-align: right;\">\n",
       "      <th></th>\n",
       "      <th>utc</th>\n",
       "      <th>value_x</th>\n",
       "      <th>weekday</th>\n",
       "      <th>value_y</th>\n",
       "    </tr>\n",
       "  </thead>\n",
       "  <tbody>\n",
       "    <tr>\n",
       "      <th>0</th>\n",
       "      <td>2020-02</td>\n",
       "      <td>1081.322751</td>\n",
       "      <td>4.551422</td>\n",
       "      <td>35.930263</td>\n",
       "    </tr>\n",
       "    <tr>\n",
       "      <th>1</th>\n",
       "      <td>2020-03</td>\n",
       "      <td>1154.927686</td>\n",
       "      <td>3.961181</td>\n",
       "      <td>34.733367</td>\n",
       "    </tr>\n",
       "    <tr>\n",
       "      <th>2</th>\n",
       "      <td>2020-04</td>\n",
       "      <td>514.690265</td>\n",
       "      <td>4.045057</td>\n",
       "      <td>34.443551</td>\n",
       "    </tr>\n",
       "    <tr>\n",
       "      <th>3</th>\n",
       "      <td>2020-05</td>\n",
       "      <td>569.565217</td>\n",
       "      <td>3.511765</td>\n",
       "      <td>31.250088</td>\n",
       "    </tr>\n",
       "    <tr>\n",
       "      <th>4</th>\n",
       "      <td>2020-06</td>\n",
       "      <td>557.939394</td>\n",
       "      <td>3.716981</td>\n",
       "      <td>19.578821</td>\n",
       "    </tr>\n",
       "  </tbody>\n",
       "</table>\n",
       "</div>"
      ],
      "text/plain": [
       "       utc      value_x   weekday    value_y\n",
       "0  2020-02  1081.322751  4.551422  35.930263\n",
       "1  2020-03  1154.927686  3.961181  34.733367\n",
       "2  2020-04   514.690265  4.045057  34.443551\n",
       "3  2020-05   569.565217  3.511765  31.250088\n",
       "4  2020-06   557.939394  3.716981  19.578821"
      ]
     },
     "execution_count": 72,
     "metadata": {},
     "output_type": "execute_result"
    }
   ],
   "source": [
    "df7.head()"
   ]
  },
  {
   "cell_type": "code",
   "execution_count": 101,
   "metadata": {},
   "outputs": [],
   "source": [
    "df8 = pd.merge(df7,df5, on='utc')"
   ]
  },
  {
   "cell_type": "code",
   "execution_count": 102,
   "metadata": {},
   "outputs": [
    {
     "data": {
      "text/html": [
       "<div>\n",
       "<style scoped>\n",
       "    .dataframe tbody tr th:only-of-type {\n",
       "        vertical-align: middle;\n",
       "    }\n",
       "\n",
       "    .dataframe tbody tr th {\n",
       "        vertical-align: top;\n",
       "    }\n",
       "\n",
       "    .dataframe thead th {\n",
       "        text-align: right;\n",
       "    }\n",
       "</style>\n",
       "<table border=\"1\" class=\"dataframe\">\n",
       "  <thead>\n",
       "    <tr style=\"text-align: right;\">\n",
       "      <th></th>\n",
       "      <th>utc</th>\n",
       "      <th>value_x</th>\n",
       "      <th>weekday_x</th>\n",
       "      <th>value_y</th>\n",
       "      <th>weekday_y</th>\n",
       "      <th>value</th>\n",
       "    </tr>\n",
       "  </thead>\n",
       "  <tbody>\n",
       "    <tr>\n",
       "      <th>0</th>\n",
       "      <td>2020-02</td>\n",
       "      <td>1081.322751</td>\n",
       "      <td>4.551422</td>\n",
       "      <td>35.930263</td>\n",
       "      <td>4.561404</td>\n",
       "      <td>21.682675</td>\n",
       "    </tr>\n",
       "    <tr>\n",
       "      <th>1</th>\n",
       "      <td>2020-03</td>\n",
       "      <td>1154.927686</td>\n",
       "      <td>3.961181</td>\n",
       "      <td>34.733367</td>\n",
       "      <td>3.940171</td>\n",
       "      <td>20.704872</td>\n",
       "    </tr>\n",
       "    <tr>\n",
       "      <th>2</th>\n",
       "      <td>2020-04</td>\n",
       "      <td>514.690265</td>\n",
       "      <td>4.045057</td>\n",
       "      <td>34.443551</td>\n",
       "      <td>4.037212</td>\n",
       "      <td>7.484100</td>\n",
       "    </tr>\n",
       "    <tr>\n",
       "      <th>3</th>\n",
       "      <td>2020-05</td>\n",
       "      <td>569.565217</td>\n",
       "      <td>3.511765</td>\n",
       "      <td>31.250088</td>\n",
       "      <td>3.510836</td>\n",
       "      <td>5.947368</td>\n",
       "    </tr>\n",
       "    <tr>\n",
       "      <th>4</th>\n",
       "      <td>2020-06</td>\n",
       "      <td>557.939394</td>\n",
       "      <td>3.716981</td>\n",
       "      <td>19.578821</td>\n",
       "      <td>3.705882</td>\n",
       "      <td>9.390196</td>\n",
       "    </tr>\n",
       "  </tbody>\n",
       "</table>\n",
       "</div>"
      ],
      "text/plain": [
       "       utc      value_x  weekday_x    value_y  weekday_y      value\n",
       "0  2020-02  1081.322751   4.551422  35.930263   4.561404  21.682675\n",
       "1  2020-03  1154.927686   3.961181  34.733367   3.940171  20.704872\n",
       "2  2020-04   514.690265   4.045057  34.443551   4.037212   7.484100\n",
       "3  2020-05   569.565217   3.511765  31.250088   3.510836   5.947368\n",
       "4  2020-06   557.939394   3.716981  19.578821   3.705882   9.390196"
      ]
     },
     "execution_count": 102,
     "metadata": {},
     "output_type": "execute_result"
    }
   ],
   "source": [
    "df8.head()"
   ]
  },
  {
   "cell_type": "code",
   "execution_count": 103,
   "metadata": {},
   "outputs": [],
   "source": [
    "df8.drop(['weekday_x','weekday_y'], axis=1, inplace=True)\n",
    "df8.columns = ['utc', 'co','o3','no2']"
   ]
  },
  {
   "cell_type": "code",
   "execution_count": 104,
   "metadata": {},
   "outputs": [
    {
     "data": {
      "text/html": [
       "<div>\n",
       "<style scoped>\n",
       "    .dataframe tbody tr th:only-of-type {\n",
       "        vertical-align: middle;\n",
       "    }\n",
       "\n",
       "    .dataframe tbody tr th {\n",
       "        vertical-align: top;\n",
       "    }\n",
       "\n",
       "    .dataframe thead th {\n",
       "        text-align: right;\n",
       "    }\n",
       "</style>\n",
       "<table border=\"1\" class=\"dataframe\">\n",
       "  <thead>\n",
       "    <tr style=\"text-align: right;\">\n",
       "      <th></th>\n",
       "      <th>utc</th>\n",
       "      <th>co</th>\n",
       "      <th>o3</th>\n",
       "      <th>no2</th>\n",
       "    </tr>\n",
       "  </thead>\n",
       "  <tbody>\n",
       "    <tr>\n",
       "      <th>0</th>\n",
       "      <td>2020-02</td>\n",
       "      <td>1081.322751</td>\n",
       "      <td>35.930263</td>\n",
       "      <td>21.682675</td>\n",
       "    </tr>\n",
       "    <tr>\n",
       "      <th>1</th>\n",
       "      <td>2020-03</td>\n",
       "      <td>1154.927686</td>\n",
       "      <td>34.733367</td>\n",
       "      <td>20.704872</td>\n",
       "    </tr>\n",
       "    <tr>\n",
       "      <th>2</th>\n",
       "      <td>2020-04</td>\n",
       "      <td>514.690265</td>\n",
       "      <td>34.443551</td>\n",
       "      <td>7.484100</td>\n",
       "    </tr>\n",
       "    <tr>\n",
       "      <th>3</th>\n",
       "      <td>2020-05</td>\n",
       "      <td>569.565217</td>\n",
       "      <td>31.250088</td>\n",
       "      <td>5.947368</td>\n",
       "    </tr>\n",
       "    <tr>\n",
       "      <th>4</th>\n",
       "      <td>2020-06</td>\n",
       "      <td>557.939394</td>\n",
       "      <td>19.578821</td>\n",
       "      <td>9.390196</td>\n",
       "    </tr>\n",
       "  </tbody>\n",
       "</table>\n",
       "</div>"
      ],
      "text/plain": [
       "       utc           co         o3        no2\n",
       "0  2020-02  1081.322751  35.930263  21.682675\n",
       "1  2020-03  1154.927686  34.733367  20.704872\n",
       "2  2020-04   514.690265  34.443551   7.484100\n",
       "3  2020-05   569.565217  31.250088   5.947368\n",
       "4  2020-06   557.939394  19.578821   9.390196"
      ]
     },
     "execution_count": 104,
     "metadata": {},
     "output_type": "execute_result"
    }
   ],
   "source": [
    "df8.head()"
   ]
  },
  {
   "cell_type": "code",
   "execution_count": 105,
   "metadata": {},
   "outputs": [
    {
     "data": {
      "text/plain": [
       "<Figure size 720x720 with 0 Axes>"
      ]
     },
     "metadata": {},
     "output_type": "display_data"
    },
    {
     "data": {
      "image/png": "[encoded data removed]",
      "text/plain": [
       "<Figure size 432x432 with 3 Axes>"
      ]
     },
     "metadata": {
      "needs_background": "light"
     },
     "output_type": "display_data"
    }
   ],
   "source": [
    "plt.figure(figsize=(10,10))\n",
    "sns.jointplot(x=df8.co, y= df8.o3, data=df8)\n",
    "plt.xticks(rotation=45)\n",
    "plt.show()"
   ]
  },
  {
   "cell_type": "code",
   "execution_count": 106,
   "metadata": {},
   "outputs": [
    {
     "data": {
      "image/png": "[encoded data removed]",
      "text/plain": [
       "<Figure size 720x720 with 1 Axes>"
      ]
     },
     "metadata": {
      "needs_background": "light"
     },
     "output_type": "display_data"
    }
   ],
   "source": [
    "plt.figure(figsize=(10,10))\n",
    "sns.scatterplot(x=df8.co, y= df8.o3, data=df8)\n",
    "plt.xticks(rotation=45)\n",
    "plt.show()"
   ]
  },
  {
   "cell_type": "code",
   "execution_count": 107,
   "metadata": {
    "scrolled": true
   },
   "outputs": [
    {
     "data": {
      "text/html": [
       "<div>\n",
       "<style scoped>\n",
       "    .dataframe tbody tr th:only-of-type {\n",
       "        vertical-align: middle;\n",
       "    }\n",
       "\n",
       "    .dataframe tbody tr th {\n",
       "        vertical-align: top;\n",
       "    }\n",
       "\n",
       "    .dataframe thead th {\n",
       "        text-align: right;\n",
       "    }\n",
       "</style>\n",
       "<table border=\"1\" class=\"dataframe\">\n",
       "  <thead>\n",
       "    <tr style=\"text-align: right;\">\n",
       "      <th></th>\n",
       "      <th>co</th>\n",
       "      <th>o3</th>\n",
       "      <th>no2</th>\n",
       "    </tr>\n",
       "    <tr>\n",
       "      <th>utc</th>\n",
       "      <th></th>\n",
       "      <th></th>\n",
       "      <th></th>\n",
       "    </tr>\n",
       "  </thead>\n",
       "  <tbody>\n",
       "    <tr>\n",
       "      <th>2020-02</th>\n",
       "      <td>1081.322751</td>\n",
       "      <td>35.930263</td>\n",
       "      <td>21.682675</td>\n",
       "    </tr>\n",
       "    <tr>\n",
       "      <th>2020-03</th>\n",
       "      <td>1154.927686</td>\n",
       "      <td>34.733367</td>\n",
       "      <td>20.704872</td>\n",
       "    </tr>\n",
       "    <tr>\n",
       "      <th>2020-04</th>\n",
       "      <td>514.690265</td>\n",
       "      <td>34.443551</td>\n",
       "      <td>7.484100</td>\n",
       "    </tr>\n",
       "    <tr>\n",
       "      <th>2020-05</th>\n",
       "      <td>569.565217</td>\n",
       "      <td>31.250088</td>\n",
       "      <td>5.947368</td>\n",
       "    </tr>\n",
       "    <tr>\n",
       "      <th>2020-06</th>\n",
       "      <td>557.939394</td>\n",
       "      <td>19.578821</td>\n",
       "      <td>9.390196</td>\n",
       "    </tr>\n",
       "  </tbody>\n",
       "</table>\n",
       "</div>"
      ],
      "text/plain": [
       "                  co         o3        no2\n",
       "utc                                       \n",
       "2020-02  1081.322751  35.930263  21.682675\n",
       "2020-03  1154.927686  34.733367  20.704872\n",
       "2020-04   514.690265  34.443551   7.484100\n",
       "2020-05   569.565217  31.250088   5.947368\n",
       "2020-06   557.939394  19.578821   9.390196"
      ]
     },
     "execution_count": 107,
     "metadata": {},
     "output_type": "execute_result"
    }
   ],
   "source": [
    "df8 = df8.set_index('utc')\n",
    "df8.head()"
   ]
  },
  {
   "cell_type": "code",
   "execution_count": 108,
   "metadata": {},
   "outputs": [],
   "source": [
    "from sklearn.preprocessing import StandardScaler\n",
    "sc = StandardScaler()"
   ]
  },
  {
   "cell_type": "code",
   "execution_count": 112,
   "metadata": {},
   "outputs": [
    {
     "data": {
      "text/html": [
       "<div>\n",
       "<style scoped>\n",
       "    .dataframe tbody tr th:only-of-type {\n",
       "        vertical-align: middle;\n",
       "    }\n",
       "\n",
       "    .dataframe tbody tr th {\n",
       "        vertical-align: top;\n",
       "    }\n",
       "\n",
       "    .dataframe thead th {\n",
       "        text-align: right;\n",
       "    }\n",
       "</style>\n",
       "<table border=\"1\" class=\"dataframe\">\n",
       "  <thead>\n",
       "    <tr style=\"text-align: right;\">\n",
       "      <th></th>\n",
       "      <th>co</th>\n",
       "      <th>o3</th>\n",
       "      <th>no2</th>\n",
       "    </tr>\n",
       "    <tr>\n",
       "      <th>utc</th>\n",
       "      <th></th>\n",
       "      <th></th>\n",
       "      <th></th>\n",
       "    </tr>\n",
       "  </thead>\n",
       "  <tbody>\n",
       "    <tr>\n",
       "      <th>2020-02</th>\n",
       "      <td>1.087043</td>\n",
       "      <td>0.789556</td>\n",
       "      <td>1.279764</td>\n",
       "    </tr>\n",
       "    <tr>\n",
       "      <th>2020-03</th>\n",
       "      <td>1.348833</td>\n",
       "      <td>0.590313</td>\n",
       "      <td>1.134945</td>\n",
       "    </tr>\n",
       "    <tr>\n",
       "      <th>2020-04</th>\n",
       "      <td>-0.928291</td>\n",
       "      <td>0.542069</td>\n",
       "      <td>-0.823138</td>\n",
       "    </tr>\n",
       "    <tr>\n",
       "      <th>2020-05</th>\n",
       "      <td>-0.733118</td>\n",
       "      <td>0.010466</td>\n",
       "      <td>-1.050738</td>\n",
       "    </tr>\n",
       "    <tr>\n",
       "      <th>2020-06</th>\n",
       "      <td>-0.774467</td>\n",
       "      <td>-1.932404</td>\n",
       "      <td>-0.540833</td>\n",
       "    </tr>\n",
       "  </tbody>\n",
       "</table>\n",
       "</div>"
      ],
      "text/plain": [
       "               co        o3       no2\n",
       "utc                                  \n",
       "2020-02  1.087043  0.789556  1.279764\n",
       "2020-03  1.348833  0.590313  1.134945\n",
       "2020-04 -0.928291  0.542069 -0.823138\n",
       "2020-05 -0.733118  0.010466 -1.050738\n",
       "2020-06 -0.774467 -1.932404 -0.540833"
      ]
     },
     "execution_count": 112,
     "metadata": {},
     "output_type": "execute_result"
    }
   ],
   "source": [
    "df9 = pd.DataFrame(sc.fit_transform(df8), columns=df8.columns)\n",
    "df9.head()\n",
    "df9.index = df8.index\n",
    "df9.head()"
   ]
  },
  {
   "cell_type": "code",
   "execution_count": 114,
   "metadata": {},
   "outputs": [
    {
     "data": {
      "image/png": "[encoded data removed]",
      "text/plain": [
       "<Figure size 1152x648 with 1 Axes>"
      ]
     },
     "metadata": {
      "needs_background": "light"
     },
     "output_type": "display_data"
    }
   ],
   "source": [
    "plt.figure(figsize=(16,9))\n",
    "sns.lineplot(data=df9)\n",
    "plt.xticks(rotation=45)\n",
    "plt.show()"
   ]
  },
  {
   "cell_type": "code",
   "execution_count": null,
   "metadata": {},
   "outputs": [],
   "source": []
  }
 ],
 "metadata": {
  "kernelspec": {
   "display_name": "Python 3",
   "language": "python",
   "name": "python3"
  },
  "language_info": {
   "codemirror_mode": {
    "name": "ipython",
    "version": 3
   },
   "file_extension": ".py",
   "mimetype": "text/x-python",
   "name": "python",
   "nbconvert_exporter": "python",
   "pygments_lexer": "ipython3",
   "version": "3.7.6"
  }
 },
 "nbformat": 4,
 "nbformat_minor": 4
}
