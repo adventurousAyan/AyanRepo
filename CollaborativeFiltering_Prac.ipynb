{
 "cells": [
  {
   "cell_type": "code",
   "execution_count": 1,
   "metadata": {},
   "outputs": [
    {
     "data": {
      "text/plain": [
       "(1161, 5)"
      ]
     },
     "execution_count": 1,
     "metadata": {},
     "output_type": "execute_result"
    }
   ],
   "source": [
    "#!pip install scikit-surprise\n",
    "\n",
    "import numpy as np\n",
    "import pandas as pd\n",
    "import matplotlib.pyplot as plt\n",
    "from surprise import Dataset, Reader\n",
    "import seaborn as sns\n",
    "%matplotlib inline\n",
    "\n",
    "import warnings\n",
    "warnings.filterwarnings('ignore')\n",
    "\n",
    "data = pd.read_csv(\"./datasets/rating_final.csv\")\n",
    "\n",
    "data.head()\n",
    "\n",
    "data.shape"
   ]
  },
  {
   "cell_type": "code",
   "execution_count": 2,
   "metadata": {},
   "outputs": [],
   "source": [
    "data = pd.read_csv(\"./datasets/rating_final.csv\")"
   ]
  },
  {
   "cell_type": "code",
   "execution_count": 3,
   "metadata": {},
   "outputs": [
    {
     "data": {
      "text/html": [
       "<div>\n",
       "<style scoped>\n",
       "    .dataframe tbody tr th:only-of-type {\n",
       "        vertical-align: middle;\n",
       "    }\n",
       "\n",
       "    .dataframe tbody tr th {\n",
       "        vertical-align: top;\n",
       "    }\n",
       "\n",
       "    .dataframe thead th {\n",
       "        text-align: right;\n",
       "    }\n",
       "</style>\n",
       "<table border=\"1\" class=\"dataframe\">\n",
       "  <thead>\n",
       "    <tr style=\"text-align: right;\">\n",
       "      <th></th>\n",
       "      <th>userID</th>\n",
       "      <th>placeID</th>\n",
       "      <th>rating</th>\n",
       "      <th>food_rating</th>\n",
       "      <th>service_rating</th>\n",
       "    </tr>\n",
       "  </thead>\n",
       "  <tbody>\n",
       "    <tr>\n",
       "      <th>0</th>\n",
       "      <td>U1077</td>\n",
       "      <td>135085</td>\n",
       "      <td>2</td>\n",
       "      <td>2</td>\n",
       "      <td>2</td>\n",
       "    </tr>\n",
       "    <tr>\n",
       "      <th>1</th>\n",
       "      <td>U1077</td>\n",
       "      <td>135038</td>\n",
       "      <td>2</td>\n",
       "      <td>2</td>\n",
       "      <td>1</td>\n",
       "    </tr>\n",
       "    <tr>\n",
       "      <th>2</th>\n",
       "      <td>U1077</td>\n",
       "      <td>132825</td>\n",
       "      <td>2</td>\n",
       "      <td>2</td>\n",
       "      <td>2</td>\n",
       "    </tr>\n",
       "    <tr>\n",
       "      <th>3</th>\n",
       "      <td>U1077</td>\n",
       "      <td>135060</td>\n",
       "      <td>1</td>\n",
       "      <td>2</td>\n",
       "      <td>2</td>\n",
       "    </tr>\n",
       "    <tr>\n",
       "      <th>4</th>\n",
       "      <td>U1068</td>\n",
       "      <td>135104</td>\n",
       "      <td>1</td>\n",
       "      <td>1</td>\n",
       "      <td>2</td>\n",
       "    </tr>\n",
       "  </tbody>\n",
       "</table>\n",
       "</div>"
      ],
      "text/plain": [
       "  userID  placeID  rating  food_rating  service_rating\n",
       "0  U1077   135085       2            2               2\n",
       "1  U1077   135038       2            2               1\n",
       "2  U1077   132825       2            2               2\n",
       "3  U1077   135060       1            2               2\n",
       "4  U1068   135104       1            1               2"
      ]
     },
     "execution_count": 3,
     "metadata": {},
     "output_type": "execute_result"
    }
   ],
   "source": [
    "data.head()"
   ]
  },
  {
   "cell_type": "code",
   "execution_count": 4,
   "metadata": {},
   "outputs": [
    {
     "data": {
      "text/plain": [
       "(1161, 5)"
      ]
     },
     "execution_count": 4,
     "metadata": {},
     "output_type": "execute_result"
    }
   ],
   "source": [
    "data.shape"
   ]
  },
  {
   "cell_type": "code",
   "execution_count": 5,
   "metadata": {},
   "outputs": [
    {
     "data": {
      "text/plain": [
       "userID            138\n",
       "placeID           130\n",
       "rating              3\n",
       "food_rating         3\n",
       "service_rating      3\n",
       "dtype: int64"
      ]
     },
     "execution_count": 5,
     "metadata": {},
     "output_type": "execute_result"
    }
   ],
   "source": [
    "data.nunique()"
   ]
  },
  {
   "cell_type": "code",
   "execution_count": 6,
   "metadata": {},
   "outputs": [
    {
     "data": {
      "text/plain": [
       "array([2, 1, 0])"
      ]
     },
     "execution_count": 6,
     "metadata": {},
     "output_type": "execute_result"
    }
   ],
   "source": [
    "data.rating.unique()"
   ]
  },
  {
   "cell_type": "code",
   "execution_count": 17,
   "metadata": {},
   "outputs": [],
   "source": [
    "reader = Reader(line_format=\"user item rating\", rating_scale = (0, 2))\n",
    "#reader = Reader()\n",
    "#restaurant_data = Dataset.load_from_df(data, reader)"
   ]
  },
  {
   "cell_type": "code",
   "execution_count": 20,
   "metadata": {},
   "outputs": [],
   "source": [
    "restaurant_data = Dataset.load_from_df(data[['userID','placeID','rating']], reader)"
   ]
  },
  {
   "cell_type": "code",
   "execution_count": 21,
   "metadata": {},
   "outputs": [
    {
     "name": "stdout",
     "output_type": "stream",
     "text": [
      "<surprise.dataset.DatasetAutoFolds object at 0x7f5f3770a8d0>\n",
      "<class 'surprise.dataset.DatasetAutoFolds'>\n"
     ]
    }
   ],
   "source": [
    "print(restaurant_data)\n",
    "print(type(restaurant_data))"
   ]
  },
  {
   "cell_type": "code",
   "execution_count": 22,
   "metadata": {},
   "outputs": [
    {
     "data": {
      "text/plain": [
       "[('U1077', 135085, 2.0, None),\n",
       " ('U1077', 135038, 2.0, None),\n",
       " ('U1077', 132825, 2.0, None),\n",
       " ('U1077', 135060, 1.0, None),\n",
       " ('U1068', 135104, 1.0, None),\n",
       " ('U1068', 132740, 0.0, None),\n",
       " ('U1068', 132663, 1.0, None),\n",
       " ('U1068', 132732, 0.0, None),\n",
       " ('U1068', 132630, 1.0, None),\n",
       " ('U1067', 132584, 2.0, None)]"
      ]
     },
     "execution_count": 22,
     "metadata": {},
     "output_type": "execute_result"
    }
   ],
   "source": [
    "restaurant_data.raw_ratings[0:10]"
   ]
  },
  {
   "cell_type": "code",
   "execution_count": 23,
   "metadata": {},
   "outputs": [],
   "source": [
    "similarity_parameters = {\n",
    "    'name' : 'cosine',\n",
    "    'user_based': True,\n",
    "    'min_support' : 3\n",
    "}"
   ]
  },
  {
   "cell_type": "code",
   "execution_count": 24,
   "metadata": {},
   "outputs": [],
   "source": [
    "from surprise import KNNWithMeans\n",
    "\n",
    "KNN_Algo = KNNWithMeans(k=3, sim_options = similarity_parameters)"
   ]
  },
  {
   "cell_type": "code",
   "execution_count": 25,
   "metadata": {},
   "outputs": [
    {
     "name": "stdout",
     "output_type": "stream",
     "text": [
      "Computing the cosine similarity matrix...\n",
      "Done computing similarity matrix.\n",
      "Computing the cosine similarity matrix...\n",
      "Done computing similarity matrix.\n",
      "Computing the cosine similarity matrix...\n",
      "Done computing similarity matrix.\n",
      "Computing the cosine similarity matrix...\n",
      "Done computing similarity matrix.\n",
      "Computing the cosine similarity matrix...\n",
      "Done computing similarity matrix.\n",
      "Evaluating RMSE, MAE of algorithm KNNWithMeans on 5 split(s).\n",
      "\n",
      "                  Fold 1  Fold 2  Fold 3  Fold 4  Fold 5  Mean    Std     \n",
      "RMSE (testset)    0.7238  0.7015  0.6796  0.7031  0.7089  0.7034  0.0143  \n",
      "MAE (testset)     0.5389  0.5168  0.4995  0.5242  0.5191  0.5197  0.0127  \n",
      "Fit time          0.01    0.01    0.01    0.00    0.00    0.01    0.00    \n",
      "Test time         0.01    0.01    0.01    0.01    0.01    0.01    0.00    \n"
     ]
    },
    {
     "data": {
      "text/plain": [
       "{'test_rmse': array([0.72380989, 0.70150443, 0.67961246, 0.70314946, 0.70890081]),\n",
       " 'test_mae': array([0.53891921, 0.51682017, 0.4995451 , 0.52421271, 0.51908552]),\n",
       " 'fit_time': (0.00899052619934082,\n",
       "  0.0062868595123291016,\n",
       "  0.005037546157836914,\n",
       "  0.004825115203857422,\n",
       "  0.004695415496826172),\n",
       " 'test_time': (0.008207082748413086,\n",
       "  0.005965232849121094,\n",
       "  0.00599360466003418,\n",
       "  0.005461215972900391,\n",
       "  0.005173444747924805)}"
      ]
     },
     "execution_count": 25,
     "metadata": {},
     "output_type": "execute_result"
    }
   ],
   "source": [
    "from surprise.model_selection import cross_validate\n",
    "\n",
    "cross_validate(KNN_Algo, \n",
    "               restaurant_data, \n",
    "               measures=['RMSE', 'MAE'], \n",
    "               cv=5, \n",
    "               verbose=True)"
   ]
  },
  {
   "cell_type": "code",
   "execution_count": 26,
   "metadata": {},
   "outputs": [
    {
     "name": "stdout",
     "output_type": "stream",
     "text": [
      "Computing the cosine similarity matrix...\n",
      "Done computing similarity matrix.\n"
     ]
    },
    {
     "data": {
      "text/plain": [
       "<surprise.prediction_algorithms.knns.KNNWithMeans at 0x7f5f376be510>"
      ]
     },
     "execution_count": 26,
     "metadata": {},
     "output_type": "execute_result"
    }
   ],
   "source": [
    "# Use full data for training\n",
    "\n",
    "trainset = restaurant_data.build_full_trainset()\n",
    "\n",
    "KNN_Algo.fit(trainset)"
   ]
  },
  {
   "cell_type": "code",
   "execution_count": 27,
   "metadata": {},
   "outputs": [],
   "source": [
    "# Getting data points where predictions can be made\n",
    "testset = trainset.build_anti_testset()"
   ]
  },
  {
   "cell_type": "code",
   "execution_count": 28,
   "metadata": {},
   "outputs": [],
   "source": [
    "# Making predictions\n",
    "predictions = KNN_Algo.test(testset)"
   ]
  },
  {
   "cell_type": "code",
   "execution_count": 29,
   "metadata": {},
   "outputs": [
    {
     "data": {
      "text/plain": [
       "[Prediction(uid='U1077', iid=135104, r_ui=1.1998277347114557, est=1.4, details={'actual_k': 0, 'was_impossible': False}),\n",
       " Prediction(uid='U1077', iid=132740, r_ui=1.1998277347114557, est=1.4, details={'actual_k': 0, 'was_impossible': False}),\n",
       " Prediction(uid='U1077', iid=132663, r_ui=1.1998277347114557, est=1.4, details={'actual_k': 0, 'was_impossible': False}),\n",
       " Prediction(uid='U1077', iid=132732, r_ui=1.1998277347114557, est=1.4, details={'actual_k': 0, 'was_impossible': False})]"
      ]
     },
     "execution_count": 29,
     "metadata": {},
     "output_type": "execute_result"
    }
   ],
   "source": [
    "# Verify few predictions\n",
    "predictions[0:4]"
   ]
  },
  {
   "cell_type": "code",
   "execution_count": 30,
   "metadata": {},
   "outputs": [
    {
     "data": {
      "text/plain": [
       "[('U1077',\n",
       "  [(135045, 2),\n",
       "   (132861, 2),\n",
       "   (135069, 1.8545454545454545),\n",
       "   (135047, 1.8414473884803486),\n",
       "   (135079, 1.8267155518855318),\n",
       "   (135051, 1.6934186173293702),\n",
       "   (135058, 1.6798990053251242),\n",
       "   (135062, 1.674811100638013),\n",
       "   (135053, 1.6307692307692307),\n",
       "   (135081, 1.6160376805329344)]),\n",
       " ('U1068',\n",
       "  [(132613, 1.1636921554131658),\n",
       "   (132584, 0.8018777508372117),\n",
       "   (132667, 0.710920012738908),\n",
       "   (135085, 0.625),\n",
       "   (135038, 0.625),\n",
       "   (132825, 0.625),\n",
       "   (135060, 0.625),\n",
       "   (135088, 0.625),\n",
       "   (132583, 0.625),\n",
       "   (132665, 0.625)]),\n",
       " ('U1067',\n",
       "  [(132613, 1.6800308183357886),\n",
       "   (132667, 1.231090336825388),\n",
       "   (135085, 1.0),\n",
       "   (135038, 1.0),\n",
       "   (132825, 1.0),\n",
       "   (135060, 1.0),\n",
       "   (135088, 1.0),\n",
       "   (132583, 1.0),\n",
       "   (132665, 1.0),\n",
       "   (132668, 1.0)]),\n",
       " ('U1103',\n",
       "  [(132594, 1.150778034515488),\n",
       "   (135085, 1.125),\n",
       "   (135038, 1.125),\n",
       "   (132825, 1.125),\n",
       "   (135060, 1.125),\n",
       "   (135088, 1.125),\n",
       "   (132583, 1.125),\n",
       "   (132665, 1.125),\n",
       "   (132668, 1.125),\n",
       "   (132715, 1.125)]),\n",
       " ('U1107',\n",
       "  [(135085, 2),\n",
       "   (135038, 2),\n",
       "   (132825, 2),\n",
       "   (135060, 2),\n",
       "   (135104, 2),\n",
       "   (132740, 2),\n",
       "   (132663, 2),\n",
       "   (132732, 2),\n",
       "   (132630, 2),\n",
       "   (132560, 2)]),\n",
       " ('U1044',\n",
       "  [(135001, 1.7999999999999998),\n",
       "   (135085, 1.4),\n",
       "   (135038, 1.4),\n",
       "   (132825, 1.4),\n",
       "   (135060, 1.4),\n",
       "   (135104, 1.4),\n",
       "   (132740, 1.4),\n",
       "   (132663, 1.4),\n",
       "   (132732, 1.4),\n",
       "   (132630, 1.4)]),\n",
       " ('U1070',\n",
       "  [(135085, 1.3333333333333333),\n",
       "   (135038, 1.3333333333333333),\n",
       "   (132825, 1.3333333333333333),\n",
       "   (135060, 1.3333333333333333),\n",
       "   (135104, 1.3333333333333333),\n",
       "   (132740, 1.3333333333333333),\n",
       "   (132663, 1.3333333333333333),\n",
       "   (132732, 1.3333333333333333),\n",
       "   (132630, 1.3333333333333333),\n",
       "   (132584, 1.3333333333333333)]),\n",
       " ('U1031',\n",
       "  [(135085, 0),\n",
       "   (135038, 0),\n",
       "   (132825, 0),\n",
       "   (135060, 0),\n",
       "   (135104, 0),\n",
       "   (132740, 0),\n",
       "   (132732, 0),\n",
       "   (132630, 0),\n",
       "   (132584, 0),\n",
       "   (132733, 0)]),\n",
       " ('U1082',\n",
       "  [(132584, 0.6752569885479689),\n",
       "   (135085, 0.1111111111111111),\n",
       "   (135038, 0.1111111111111111),\n",
       "   (132825, 0.1111111111111111),\n",
       "   (135060, 0.1111111111111111),\n",
       "   (135088, 0.1111111111111111),\n",
       "   (132583, 0.1111111111111111),\n",
       "   (132665, 0.1111111111111111),\n",
       "   (132668, 0.1111111111111111),\n",
       "   (132715, 0.1111111111111111)]),\n",
       " ('U1023',\n",
       "  [(132564, 0.75),\n",
       "   (135085, 0.5),\n",
       "   (135038, 0.5),\n",
       "   (132825, 0.5),\n",
       "   (135060, 0.5),\n",
       "   (135104, 0.5),\n",
       "   (132663, 0.5),\n",
       "   (132732, 0.5),\n",
       "   (132630, 0.5),\n",
       "   (132584, 0.5)])]"
      ]
     },
     "execution_count": 30,
     "metadata": {},
     "output_type": "execute_result"
    }
   ],
   "source": [
    "# Fetching top 10 predictions for each user\n",
    "from collections import defaultdict\n",
    "\n",
    "def get_top_n(predictions, n=10):\n",
    "    '''Return the top-N recommendation for each user from a set of predictions.\n",
    "\n",
    "    Args:\n",
    "        predictions(list of Prediction objects): The list of predictions, as\n",
    "            returned by the test method of an algorithm.\n",
    "        n(int): The number of recommendation to output for each user. Default\n",
    "            is 10.\n",
    "\n",
    "    Returns:\n",
    "    A dict where keys are user (raw) ids and values are lists of tuples:\n",
    "        [(raw item id, rating estimation), ...] of size n.\n",
    "    '''\n",
    "\n",
    "    # First map the predictions to each user.\n",
    "    top_n = defaultdict(list)\n",
    "    for uid, iid, true_r, est, _ in predictions:\n",
    "        top_n[uid].append((iid, est))\n",
    "\n",
    "    # Then sort the predictions for each user and retrieve the k highest ones.\n",
    "    for uid, user_ratings in top_n.items():\n",
    "        user_ratings.sort(key=lambda x: x[1], reverse=True)\n",
    "        top_n[uid] = user_ratings[:n]\n",
    "\n",
    "    return top_n\n",
    "\n",
    "from itertools import islice\n",
    "\n",
    "def take(n, iterable):\n",
    "    \"Return first n items of the iterable as a list\"\n",
    "    return list(islice(iterable, n))\n",
    "\n",
    "top_n = get_top_n(predictions, n=10)\n",
    "take(10, top_n.items())"
   ]
  },
  {
   "cell_type": "code",
   "execution_count": 31,
   "metadata": {},
   "outputs": [
    {
     "name": "stdout",
     "output_type": "stream",
     "text": [
      "U1077 [135045, 132861, 135069, 135047, 135079, 135051, 135058, 135062, 135053, 135081]\n",
      "U1068 [132613, 132584, 132667, 135085, 135038, 132825, 135060, 135088, 132583, 132665]\n",
      "U1067 [132613, 132667, 135085, 135038, 132825, 135060, 135088, 132583, 132665, 132668]\n",
      "U1103 [132594, 135085, 135038, 132825, 135060, 135088, 132583, 132665, 132668, 132715]\n",
      "U1107 [135085, 135038, 132825, 135060, 135104, 132740, 132663, 132732, 132630, 132560]\n",
      "U1044 [135001, 135085, 135038, 132825, 135060, 135104, 132740, 132663, 132732, 132630]\n",
      "U1070 [135085, 135038, 132825, 135060, 135104, 132740, 132663, 132732, 132630, 132584]\n",
      "U1031 [135085, 135038, 132825, 135060, 135104, 132740, 132732, 132630, 132584, 132733]\n",
      "U1082 [132584, 135085, 135038, 132825, 135060, 135088, 132583, 132665, 132668, 132715]\n",
      "U1023 [132564, 135085, 135038, 132825, 135060, 135104, 132663, 132732, 132630, 132584]\n"
     ]
    }
   ],
   "source": [
    "# Printing top predictions\n",
    "for uid, user_ratings in take(10,top_n.items()):\n",
    "    print(uid, [iid for (iid, _) in user_ratings])"
   ]
  },
  {
   "cell_type": "code",
   "execution_count": 32,
   "metadata": {},
   "outputs": [],
   "source": [
    "places = pd.read_csv(\"./datasets/geoplaces2.csv\")"
   ]
  },
  {
   "cell_type": "code",
   "execution_count": 35,
   "metadata": {},
   "outputs": [
    {
     "data": {
      "text/html": [
       "<div>\n",
       "<style scoped>\n",
       "    .dataframe tbody tr th:only-of-type {\n",
       "        vertical-align: middle;\n",
       "    }\n",
       "\n",
       "    .dataframe tbody tr th {\n",
       "        vertical-align: top;\n",
       "    }\n",
       "\n",
       "    .dataframe thead th {\n",
       "        text-align: right;\n",
       "    }\n",
       "</style>\n",
       "<table border=\"1\" class=\"dataframe\">\n",
       "  <thead>\n",
       "    <tr style=\"text-align: right;\">\n",
       "      <th></th>\n",
       "      <th>latitude</th>\n",
       "      <th>longitude</th>\n",
       "      <th>the_geom_meter</th>\n",
       "      <th>name</th>\n",
       "      <th>address</th>\n",
       "      <th>city</th>\n",
       "      <th>state</th>\n",
       "      <th>country</th>\n",
       "      <th>fax</th>\n",
       "      <th>zip</th>\n",
       "      <th>alcohol</th>\n",
       "      <th>smoking_area</th>\n",
       "      <th>dress_code</th>\n",
       "      <th>accessibility</th>\n",
       "      <th>price</th>\n",
       "      <th>url</th>\n",
       "      <th>Rambience</th>\n",
       "      <th>franchise</th>\n",
       "      <th>area</th>\n",
       "      <th>other_services</th>\n",
       "    </tr>\n",
       "    <tr>\n",
       "      <th>placeID</th>\n",
       "      <th></th>\n",
       "      <th></th>\n",
       "      <th></th>\n",
       "      <th></th>\n",
       "      <th></th>\n",
       "      <th></th>\n",
       "      <th></th>\n",
       "      <th></th>\n",
       "      <th></th>\n",
       "      <th></th>\n",
       "      <th></th>\n",
       "      <th></th>\n",
       "      <th></th>\n",
       "      <th></th>\n",
       "      <th></th>\n",
       "      <th></th>\n",
       "      <th></th>\n",
       "      <th></th>\n",
       "      <th></th>\n",
       "      <th></th>\n",
       "    </tr>\n",
       "  </thead>\n",
       "  <tbody>\n",
       "    <tr>\n",
       "      <th>134999</th>\n",
       "      <td>18.915421</td>\n",
       "      <td>-99.184871</td>\n",
       "      <td>0101000020957F000088568DE356715AC138C0A525FC46...</td>\n",
       "      <td>Kiku Cuernavaca</td>\n",
       "      <td>Revolucion</td>\n",
       "      <td>Cuernavaca</td>\n",
       "      <td>Morelos</td>\n",
       "      <td>Mexico</td>\n",
       "      <td>?</td>\n",
       "      <td>?</td>\n",
       "      <td>No_Alcohol_Served</td>\n",
       "      <td>none</td>\n",
       "      <td>informal</td>\n",
       "      <td>no_accessibility</td>\n",
       "      <td>medium</td>\n",
       "      <td>kikucuernavaca.com.mx</td>\n",
       "      <td>familiar</td>\n",
       "      <td>f</td>\n",
       "      <td>closed</td>\n",
       "      <td>none</td>\n",
       "    </tr>\n",
       "    <tr>\n",
       "      <th>132825</th>\n",
       "      <td>22.147392</td>\n",
       "      <td>-100.983092</td>\n",
       "      <td>0101000020957F00001AD016568C4858C1243261274BA5...</td>\n",
       "      <td>puesto de tacos</td>\n",
       "      <td>esquina santos degollado y leon guzman</td>\n",
       "      <td>s.l.p.</td>\n",
       "      <td>s.l.p.</td>\n",
       "      <td>mexico</td>\n",
       "      <td>?</td>\n",
       "      <td>78280</td>\n",
       "      <td>No_Alcohol_Served</td>\n",
       "      <td>none</td>\n",
       "      <td>informal</td>\n",
       "      <td>completely</td>\n",
       "      <td>low</td>\n",
       "      <td>?</td>\n",
       "      <td>familiar</td>\n",
       "      <td>f</td>\n",
       "      <td>open</td>\n",
       "      <td>none</td>\n",
       "    </tr>\n",
       "    <tr>\n",
       "      <th>135106</th>\n",
       "      <td>22.149709</td>\n",
       "      <td>-100.976093</td>\n",
       "      <td>0101000020957F0000649D6F21634858C119AE9BF528A3...</td>\n",
       "      <td>El Rinc�n de San Francisco</td>\n",
       "      <td>Universidad 169</td>\n",
       "      <td>San Luis Potosi</td>\n",
       "      <td>San Luis Potosi</td>\n",
       "      <td>Mexico</td>\n",
       "      <td>?</td>\n",
       "      <td>78000</td>\n",
       "      <td>Wine-Beer</td>\n",
       "      <td>only at bar</td>\n",
       "      <td>informal</td>\n",
       "      <td>partially</td>\n",
       "      <td>medium</td>\n",
       "      <td>?</td>\n",
       "      <td>familiar</td>\n",
       "      <td>f</td>\n",
       "      <td>open</td>\n",
       "      <td>none</td>\n",
       "    </tr>\n",
       "    <tr>\n",
       "      <th>132667</th>\n",
       "      <td>23.752697</td>\n",
       "      <td>-99.163359</td>\n",
       "      <td>0101000020957F00005D67BCDDED8157C1222A2DC8D84D...</td>\n",
       "      <td>little pizza Emilio Portes Gil</td>\n",
       "      <td>calle emilio portes gil</td>\n",
       "      <td>victoria</td>\n",
       "      <td>tamaulipas</td>\n",
       "      <td>?</td>\n",
       "      <td>?</td>\n",
       "      <td>?</td>\n",
       "      <td>No_Alcohol_Served</td>\n",
       "      <td>none</td>\n",
       "      <td>informal</td>\n",
       "      <td>completely</td>\n",
       "      <td>low</td>\n",
       "      <td>?</td>\n",
       "      <td>familiar</td>\n",
       "      <td>t</td>\n",
       "      <td>closed</td>\n",
       "      <td>none</td>\n",
       "    </tr>\n",
       "    <tr>\n",
       "      <th>132613</th>\n",
       "      <td>23.752903</td>\n",
       "      <td>-99.165076</td>\n",
       "      <td>0101000020957F00008EBA2D06DC8157C194E03B7B504E...</td>\n",
       "      <td>carnitas_mata</td>\n",
       "      <td>lic. Emilio portes gil</td>\n",
       "      <td>victoria</td>\n",
       "      <td>Tamaulipas</td>\n",
       "      <td>Mexico</td>\n",
       "      <td>?</td>\n",
       "      <td>?</td>\n",
       "      <td>No_Alcohol_Served</td>\n",
       "      <td>permitted</td>\n",
       "      <td>informal</td>\n",
       "      <td>completely</td>\n",
       "      <td>medium</td>\n",
       "      <td>?</td>\n",
       "      <td>familiar</td>\n",
       "      <td>t</td>\n",
       "      <td>closed</td>\n",
       "      <td>none</td>\n",
       "    </tr>\n",
       "  </tbody>\n",
       "</table>\n",
       "</div>"
      ],
      "text/plain": [
       "          latitude   longitude  \\\n",
       "placeID                          \n",
       "134999   18.915421  -99.184871   \n",
       "132825   22.147392 -100.983092   \n",
       "135106   22.149709 -100.976093   \n",
       "132667   23.752697  -99.163359   \n",
       "132613   23.752903  -99.165076   \n",
       "\n",
       "                                            the_geom_meter  \\\n",
       "placeID                                                      \n",
       "134999   0101000020957F000088568DE356715AC138C0A525FC46...   \n",
       "132825   0101000020957F00001AD016568C4858C1243261274BA5...   \n",
       "135106   0101000020957F0000649D6F21634858C119AE9BF528A3...   \n",
       "132667   0101000020957F00005D67BCDDED8157C1222A2DC8D84D...   \n",
       "132613   0101000020957F00008EBA2D06DC8157C194E03B7B504E...   \n",
       "\n",
       "                                   name  \\\n",
       "placeID                                   \n",
       "134999                  Kiku Cuernavaca   \n",
       "132825                  puesto de tacos   \n",
       "135106       El Rinc�n de San Francisco   \n",
       "132667   little pizza Emilio Portes Gil   \n",
       "132613                    carnitas_mata   \n",
       "\n",
       "                                        address             city  \\\n",
       "placeID                                                            \n",
       "134999                               Revolucion       Cuernavaca   \n",
       "132825   esquina santos degollado y leon guzman           s.l.p.   \n",
       "135106                          Universidad 169  San Luis Potosi   \n",
       "132667                  calle emilio portes gil        victoria    \n",
       "132613                   lic. Emilio portes gil         victoria   \n",
       "\n",
       "                   state country fax    zip            alcohol smoking_area  \\\n",
       "placeID                                                                       \n",
       "134999           Morelos  Mexico   ?      ?  No_Alcohol_Served         none   \n",
       "132825            s.l.p.  mexico   ?  78280  No_Alcohol_Served         none   \n",
       "135106   San Luis Potosi  Mexico   ?  78000          Wine-Beer  only at bar   \n",
       "132667        tamaulipas       ?   ?      ?  No_Alcohol_Served         none   \n",
       "132613        Tamaulipas  Mexico   ?      ?  No_Alcohol_Served    permitted   \n",
       "\n",
       "        dress_code     accessibility   price                    url Rambience  \\\n",
       "placeID                                                                         \n",
       "134999    informal  no_accessibility  medium  kikucuernavaca.com.mx  familiar   \n",
       "132825    informal        completely     low                      ?  familiar   \n",
       "135106    informal         partially  medium                      ?  familiar   \n",
       "132667    informal        completely     low                      ?  familiar   \n",
       "132613    informal        completely  medium                      ?  familiar   \n",
       "\n",
       "        franchise    area other_services  \n",
       "placeID                                   \n",
       "134999          f  closed           none  \n",
       "132825          f    open           none  \n",
       "135106          f    open           none  \n",
       "132667          t  closed           none  \n",
       "132613          t  closed           none  "
      ]
     },
     "execution_count": 35,
     "metadata": {},
     "output_type": "execute_result"
    }
   ],
   "source": [
    "places = places.set_index('placeID')\n",
    "places.head()"
   ]
  },
  {
   "cell_type": "code",
   "execution_count": 37,
   "metadata": {},
   "outputs": [
    {
     "name": "stdout",
     "output_type": "stream",
     "text": [
      "For User U1077\n",
      "135045\n",
      "Restaurante la Gran Via\n",
      "132861\n",
      "Carls Jr\n",
      "135069\n",
      "Abondance Restaurante Bar\n",
      "135047\n",
      "Restaurante Casa de las Flores\n",
      "135079\n",
      "Koye Sushi\n",
      "135051\n",
      "Restaurante Versalles\n",
      "135058\n",
      "Restaurante Tiberius\n",
      "135062\n",
      "Restaurante El Cielo Potosino\n",
      "135053\n",
      "La Fontana Pizza Restaurante and Cafe\n",
      "135081\n",
      "El Club\n",
      "For User U1068\n",
      "132613\n",
      "carnitas_mata\n",
      "132584\n",
      "Gorditas Dona Tota\n",
      "132667\n",
      "little pizza Emilio Portes Gil\n",
      "135085\n",
      "Tortas Locas Hipocampo\n",
      "135038\n",
      "Restaurant la Chalita\n",
      "132825\n",
      "puesto de tacos\n",
      "135060\n",
      "Restaurante Marisco Sam\n",
      "135088\n",
      "Cafeteria cenidet\n",
      "132583\n",
      "McDonalds Centro\n",
      "132665\n",
      "TACOS CORRECAMINOS\n",
      "For User U1067\n",
      "132613\n",
      "carnitas_mata\n",
      "132667\n",
      "little pizza Emilio Portes Gil\n",
      "135085\n",
      "Tortas Locas Hipocampo\n",
      "135038\n",
      "Restaurant la Chalita\n",
      "132825\n",
      "puesto de tacos\n",
      "135060\n",
      "Restaurante Marisco Sam\n",
      "135088\n",
      "Cafeteria cenidet\n",
      "132583\n",
      "McDonalds Centro\n",
      "132665\n",
      "TACOS CORRECAMINOS\n",
      "132668\n",
      "TACOS EL GUERO\n",
      "For User U1103\n",
      "132594\n",
      "tacos de barbacoa enfrente del Tec\n",
      "135085\n",
      "Tortas Locas Hipocampo\n",
      "135038\n",
      "Restaurant la Chalita\n",
      "132825\n",
      "puesto de tacos\n",
      "135060\n",
      "Restaurante Marisco Sam\n",
      "135088\n",
      "Cafeteria cenidet\n",
      "132583\n",
      "McDonalds Centro\n",
      "132665\n",
      "TACOS CORRECAMINOS\n",
      "132668\n",
      "TACOS EL GUERO\n",
      "132715\n",
      "tacos de la estacion\n",
      "For User U1107\n",
      "135085\n",
      "Tortas Locas Hipocampo\n",
      "135038\n",
      "Restaurant la Chalita\n",
      "132825\n",
      "puesto de tacos\n",
      "135060\n",
      "Restaurante Marisco Sam\n",
      "135104\n",
      "vips\n",
      "132740\n",
      "Carreton de Flautas y Migadas\n",
      "132663\n",
      "tacos abi\n",
      "132732\n",
      "Taqueria EL amigo \n",
      "132630\n",
      "palomo tec\n",
      "132560\n",
      "puesto de gorditas\n"
     ]
    }
   ],
   "source": [
    "# Printing top predictions\n",
    "for uid, user_ratings in take(5,top_n.items()):\n",
    "    print(\"For User\",uid)\n",
    "    for  (iid, _) in user_ratings:\n",
    "        print(iid)\n",
    "        ids = iid-1\n",
    "        print(places.loc[iid,\"name\"])"
   ]
  },
  {
   "cell_type": "code",
   "execution_count": 38,
   "metadata": {},
   "outputs": [
    {
     "name": "stdout",
     "output_type": "stream",
     "text": [
      "Computing the msd similarity matrix...\n",
      "Done computing similarity matrix.\n",
      "Computing the msd similarity matrix...\n",
      "Done computing similarity matrix.\n",
      "Computing the msd similarity matrix...\n",
      "Done computing similarity matrix.\n",
      "Computing the msd similarity matrix...\n",
      "Done computing similarity matrix.\n",
      "Computing the msd similarity matrix...\n",
      "Done computing similarity matrix.\n",
      "Computing the msd similarity matrix...\n",
      "Done computing similarity matrix.\n",
      "Computing the msd similarity matrix...\n",
      "Done computing similarity matrix.\n",
      "Computing the msd similarity matrix...\n",
      "Done computing similarity matrix.\n",
      "Computing the msd similarity matrix...\n",
      "Done computing similarity matrix.\n",
      "Computing the msd similarity matrix...\n",
      "Done computing similarity matrix.\n",
      "Computing the msd similarity matrix...\n",
      "Done computing similarity matrix.\n",
      "Computing the msd similarity matrix...\n",
      "Done computing similarity matrix.\n",
      "Computing the msd similarity matrix...\n",
      "Done computing similarity matrix.\n",
      "Computing the msd similarity matrix...\n",
      "Done computing similarity matrix.\n",
      "Computing the msd similarity matrix...\n",
      "Done computing similarity matrix.\n",
      "Computing the msd similarity matrix...\n",
      "Done computing similarity matrix.\n",
      "Computing the msd similarity matrix...\n",
      "Done computing similarity matrix.\n",
      "Computing the msd similarity matrix...\n",
      "Done computing similarity matrix.\n",
      "Computing the cosine similarity matrix...\n",
      "Done computing similarity matrix.\n",
      "Computing the cosine similarity matrix...\n",
      "Done computing similarity matrix.\n",
      "Computing the cosine similarity matrix...\n",
      "Done computing similarity matrix.\n",
      "Computing the cosine similarity matrix...\n",
      "Done computing similarity matrix.\n",
      "Computing the cosine similarity matrix...\n",
      "Done computing similarity matrix.\n",
      "Computing the cosine similarity matrix...\n",
      "Done computing similarity matrix.\n",
      "Computing the cosine similarity matrix...\n",
      "Done computing similarity matrix.\n",
      "Computing the cosine similarity matrix...\n",
      "Done computing similarity matrix.\n",
      "Computing the cosine similarity matrix...\n",
      "Done computing similarity matrix.\n",
      "Computing the cosine similarity matrix...\n",
      "Done computing similarity matrix.\n",
      "Computing the cosine similarity matrix...\n",
      "Done computing similarity matrix.\n",
      "Computing the cosine similarity matrix...\n",
      "Done computing similarity matrix.\n",
      "Computing the cosine similarity matrix...\n",
      "Done computing similarity matrix.\n",
      "Computing the cosine similarity matrix...\n",
      "Done computing similarity matrix.\n",
      "Computing the cosine similarity matrix...\n",
      "Done computing similarity matrix.\n",
      "Computing the cosine similarity matrix...\n",
      "Done computing similarity matrix.\n",
      "Computing the cosine similarity matrix...\n",
      "Done computing similarity matrix.\n",
      "Computing the cosine similarity matrix...\n",
      "Done computing similarity matrix.\n",
      "0.6631055801664439\n",
      "{'sim_options': {'name': 'msd', 'min_support': 5, 'user_based': True}}\n"
     ]
    }
   ],
   "source": [
    "from surprise.model_selection import GridSearchCV\n",
    "\n",
    "sim_options = {\n",
    "    \"name\": [\"msd\", \"cosine\"],\n",
    "    \"min_support\": [3, 4, 5],\n",
    "    \"user_based\": [False, True],\n",
    "}\n",
    "\n",
    "param_grid = {\"sim_options\": sim_options}\n",
    "\n",
    "jokes_gs = GridSearchCV(KNNWithMeans, \n",
    "                  param_grid, \n",
    "                  measures=[\"rmse\", \"mae\"], \n",
    "                        cv=3)\n",
    "\n",
    "jokes_gs.fit(restaurant_data)\n",
    "\n",
    "print(jokes_gs.best_score[\"rmse\"])\n",
    "print(jokes_gs.best_params[\"rmse\"])"
   ]
  },
  {
   "cell_type": "code",
   "execution_count": 39,
   "metadata": {},
   "outputs": [
    {
     "name": "stdout",
     "output_type": "stream",
     "text": [
      "RMSE: 0.3164\n"
     ]
    },
    {
     "data": {
      "text/plain": [
       "0.31639843081516855"
      ]
     },
     "execution_count": 39,
     "metadata": {},
     "output_type": "execute_result"
    }
   ],
   "source": [
    "from surprise import SVD\n",
    "from surprise import Dataset,accuracy\n",
    "from surprise.model_selection import cross_validate\n",
    "from surprise.model_selection import train_test_split\n",
    "\n",
    "# Load the in-built movielens-100k dataset (download it if needed).\n",
    "#ml_data = Dataset.load_builtin('ml-100k')\n",
    "\n",
    "# sample random trainset and testset\n",
    "# test set is made of 25% of the ratings.\n",
    "#trainset, testset = train_test_split(ml_data, test_size=.25)\n",
    "\n",
    "# We'll use the famous SVD algorithm.\n",
    "SVD_Algo = SVD()\n",
    "\n",
    "# Train the algorithm on the trainset, and predict ratings for the testset\n",
    "SVD_Algo.fit(trainset)\n",
    "predictions = SVD_Algo.test(testset)\n",
    "\n",
    "# Then compute RMSE\n",
    "accuracy.rmse(predictions)"
   ]
  },
  {
   "cell_type": "code",
   "execution_count": 41,
   "metadata": {},
   "outputs": [
    {
     "name": "stdout",
     "output_type": "stream",
     "text": [
      "GRID SEARCH BEGIN...\n",
      "GRID SEARCH END...\n",
      "CPU times: user 499 ms, sys: 0 ns, total: 499 ms\n",
      "Wall time: 500 ms\n"
     ]
    }
   ],
   "source": [
    "%%time\n",
    "import random                                                              \n",
    "                                                                           \n",
    "# Load your full dataset.                                                  \n",
    "#ml_data = Dataset.load_builtin('ml-100k')                                     \n",
    "raw_ratings = restaurant_data.raw_ratings                                             \n",
    "                                                                           \n",
    "# shuffle ratings if you want                                              \n",
    "random.shuffle(raw_ratings)                                                \n",
    "                                                                           \n",
    "# 90% trainset, 10% testset                                                \n",
    "threshold = int(.9 * len(raw_ratings))                                     \n",
    "trainset_raw_ratings = raw_ratings[:threshold]                             \n",
    "test_raw_ratings = raw_ratings[threshold:]                                 \n",
    "                                                                           \n",
    "restaurant_data.raw_ratings = trainset_raw_ratings  # data is now your trainset                                                           \n",
    "                                                                           \n",
    "# Select your best algo with grid search. Verbosity is buggy, I'll fix it. \n",
    "print('GRID SEARCH BEGIN...')                                                    \n",
    "param_grid = {\n",
    "    \"n_epochs\": [5, 10],\n",
    "    \"lr_all\": [0.002, 0.005],\n",
    "    \"reg_all\": [0.4, 0.6]\n",
    "}\n",
    "\n",
    "movie_gs = GridSearchCV(SVD, \n",
    "                        param_grid, \n",
    "                        measures=[\"rmse\", \"mae\"], \n",
    "                        cv=3)\n",
    "\n",
    "movie_gs.fit(restaurant_data)\n",
    "print('GRID SEARCH END...')                                                    "
   ]
  },
  {
   "cell_type": "code",
   "execution_count": 43,
   "metadata": {},
   "outputs": [
    {
     "name": "stdout",
     "output_type": "stream",
     "text": [
      "Accuracy on the trainset:\n",
      "RMSE: 0.6045\n",
      "Accuracy on the testset:\n",
      "RMSE: 0.7167\n"
     ]
    },
    {
     "data": {
      "text/plain": [
       "0.7167323824678885"
      ]
     },
     "execution_count": 43,
     "metadata": {},
     "output_type": "execute_result"
    }
   ],
   "source": [
    "ml_final = movie_gs.best_estimator['rmse']                                  \n",
    "                                                                           \n",
    "# retrain on the whole train set                                           \n",
    "trainset = restaurant_data.build_full_trainset()                                      \n",
    "ml_final.fit(trainset)                                                       \n",
    "                                                                           \n",
    "# now test on the trainset                                                 \n",
    "testset = restaurant_data.construct_testset(trainset_raw_ratings)                     \n",
    "predictions = ml_final.test(testset)                                           \n",
    "print('Accuracy on the trainset:')                                         \n",
    "accuracy.rmse(predictions)                                                 \n",
    "                                                                           \n",
    "# now test on the testset                                                  \n",
    "testset = restaurant_data.construct_testset(test_raw_ratings)                         \n",
    "predictions = ml_final.test(testset)                                           \n",
    "print('Accuracy on the testset:')                                          \n",
    "accuracy.rmse(predictions)"
   ]
  },
  {
   "cell_type": "code",
   "execution_count": 44,
   "metadata": {},
   "outputs": [
    {
     "data": {
      "text/plain": [
       "[Prediction(uid='U1037', iid=132830, r_ui=2.0, est=1.0232639862964414, details={'was_impossible': False}),\n",
       " Prediction(uid='U1103', iid=132732, r_ui=0.0, est=1.0081680068496939, details={'was_impossible': False}),\n",
       " Prediction(uid='U1085', iid=132825, r_ui=2.0, est=1.1841977075148524, details={'was_impossible': False}),\n",
       " Prediction(uid='U1109', iid=135058, r_ui=2.0, est=1.2807392200801475, details={'was_impossible': False}),\n",
       " Prediction(uid='U1118', iid=134992, r_ui=0.0, est=1.0324341632740563, details={'was_impossible': False}),\n",
       " Prediction(uid='U1125', iid=135076, r_ui=1.0, est=1.1240896663944595, details={'was_impossible': False}),\n",
       " Prediction(uid='U1084', iid=132723, r_ui=1.0, est=1.61421210183861, details={'was_impossible': False}),\n",
       " Prediction(uid='U1104', iid=135062, r_ui=1.0, est=1.248258360750619, details={'was_impossible': False}),\n",
       " Prediction(uid='U1029', iid=135047, r_ui=1.0, est=1.0689887941001297, details={'was_impossible': False}),\n",
       " Prediction(uid='U1111', iid=135108, r_ui=2.0, est=1.1357055746053981, details={'was_impossible': False})]"
      ]
     },
     "execution_count": 44,
     "metadata": {},
     "output_type": "execute_result"
    }
   ],
   "source": [
    "predictions[0:10]"
   ]
  },
  {
   "cell_type": "code",
   "execution_count": 45,
   "metadata": {},
   "outputs": [
    {
     "data": {
      "text/plain": [
       "[('U1037', [(132830, 1.0232639862964414)]),\n",
       " ('U1103', [(132732, 1.0081680068496939)]),\n",
       " ('U1085', [(135055, 1.2859905256234676), (132825, 1.1841977075148524)]),\n",
       " ('U1109', [(135028, 1.482193744170713), (135058, 1.2807392200801475)]),\n",
       " ('U1118', [(134992, 1.0324341632740563)]),\n",
       " ('U1125', [(135032, 1.1770070473255694), (135076, 1.1240896663944595)]),\n",
       " ('U1084', [(132723, 1.61421210183861)]),\n",
       " ('U1104', [(132825, 1.269697709390583), (135062, 1.248258360750619)]),\n",
       " ('U1029', [(135047, 1.0689887941001297)]),\n",
       " ('U1111', [(135108, 1.1357055746053981), (135071, 1.054959889776967)])]"
      ]
     },
     "execution_count": 45,
     "metadata": {},
     "output_type": "execute_result"
    }
   ],
   "source": [
    "top_n = get_top_n(predictions, n=10)\n",
    "take(10, top_n.items())"
   ]
  },
  {
   "cell_type": "code",
   "execution_count": 47,
   "metadata": {},
   "outputs": [
    {
     "name": "stdout",
     "output_type": "stream",
     "text": [
      "For User U1037\n",
      "132830\n",
      "Rincon Huasteco\n",
      "For User U1103\n",
      "132732\n",
      "Taqueria EL amigo \n",
      "For User U1085\n",
      "135055\n",
      "la Cochinita Pibil Restaurante Yucateco\n",
      "132825\n",
      "puesto de tacos\n",
      "For User U1109\n",
      "135028\n",
      "La Virreina\n",
      "135058\n",
      "Restaurante Tiberius\n",
      "For User U1118\n",
      "134992\n",
      "Restaurant Teely\n"
     ]
    }
   ],
   "source": [
    "# Printing top predictions\n",
    "for uid, user_ratings in take(5,top_n.items()):\n",
    "    print(\"For User\",uid)\n",
    "    for  (iid, _) in user_ratings:\n",
    "        print(iid)\n",
    "        ids = iid-1\n",
    "        print(places.loc[iid,\"name\"])"
   ]
  },
  {
   "cell_type": "code",
   "execution_count": null,
   "metadata": {},
   "outputs": [],
   "source": []
  }
 ],
 "metadata": {
  "kernelspec": {
   "display_name": "Python 3",
   "language": "python",
   "name": "python3"
  },
  "language_info": {
   "codemirror_mode": {
    "name": "ipython",
    "version": 3
   },
   "file_extension": ".py",
   "mimetype": "text/x-python",
   "name": "python",
   "nbconvert_exporter": "python",
   "pygments_lexer": "ipython3",
   "version": "3.7.6"
  }
 },
 "nbformat": 4,
 "nbformat_minor": 4
}
