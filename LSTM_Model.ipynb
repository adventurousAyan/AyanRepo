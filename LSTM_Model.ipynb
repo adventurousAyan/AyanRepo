{
  "nbformat": 4,
  "nbformat_minor": 0,
  "metadata": {
    "colab": {
      "name": "LSTM_Model",
      "provenance": [],
      "collapsed_sections": [],
      "machine_shape": "hm",
      "include_colab_link": true
    },
    "kernelspec": {
      "name": "python3",
      "display_name": "Python 3"
    }
  },
  "cells": [
    {
      "cell_type": "markdown",
      "metadata": {
        "id": "view-in-github",
        "colab_type": "text"
      },
      "source": [
        "<a href=\"https://colab.research.google.com/github/adventurousAyan/AyanRepo/blob/master/LSTM_Model.ipynb\" target=\"_parent\"><img src=\"https://colab.research.google.com/assets/colab-badge.svg\" alt=\"Open In Colab\"/></a>"
      ]
    },
    {
      "cell_type": "code",
      "metadata": {
        "id": "Q8TuZE1uGP4A"
      },
      "source": [
        "import numpy as np\r\n",
        "import pandas as pd\r\n",
        "import matplotlib.pyplot as plt\r\n",
        "import seaborn as sns\r\n",
        "import plotly\r\n",
        "import plotly.express as px\r\n",
        "from sklearn.preprocessing import StandardScaler, MinMaxScaler, OneHotEncoder, LabelEncoder\r\n",
        "from sklearn.model_selection import train_test_split, GridSearchCV,StratifiedKFold\r\n",
        "import statsmodels.api as sm\r\n",
        "from sklearn.linear_model import LinearRegression\r\n",
        "from sklearn.ensemble import RandomForestRegressor\r\n",
        "from sklearn.neighbors import KNeighborsRegressor\r\n",
        "from sklearn.preprocessing import MinMaxScaler, StandardScaler\r\n",
        "from keras.models import Sequential\r\n",
        "from keras.callbacks import EarlyStopping\r\n",
        "from keras.layers import Dense,LSTM,GRU\r\n",
        "from sklearn.metrics import mean_squared_error, mean_absolute_error, make_scorer\r\n",
        "from sklearn.model_selection import cross_val_score, GridSearchCV\r\n",
        "from math import sqrt\r\n",
        "from statsmodels.tsa.api import VAR\r\n",
        "%matplotlib inline"
      ],
      "execution_count": 5,
      "outputs": []
    },
    {
      "cell_type": "code",
      "metadata": {
        "id": "Zu3Mn0dQGSMJ"
      },
      "source": [
        "class CustomEDA:     \r\n",
        "    \"\"\"Custom Exploratory Data Analysis Class\"\"\"    \r\n",
        "    \r\n",
        "    def fn_nulls_count(self, df):\r\n",
        "        \"\"\"Function to count the null values and their percentages in each column.\"\"\"\r\n",
        "        # Nulls counts in each column.\r\n",
        "        nulls_counts = df.isnull().sum()\r\n",
        "        # Convert above series into dataframe.\r\n",
        "        nulls_counts_df = nulls_counts.to_frame(name = 'nulls_count')\r\n",
        "        # Add a new column - to get the null counts percentage to the total rows.\r\n",
        "        nulls_counts_df['nulls_percentage'] = round(100 * nulls_counts_df['nulls_count']/df.shape[0], 2)\r\n",
        "        # Return the null counts dataframe.\r\n",
        "        return nulls_counts_df\r\n",
        "    \r\n",
        "    def fn_plot_residuals(self, df):\r\n",
        "        \"\"\"Function to plot residuals in data.\"\"\"\r\n",
        "        # retrieve data as numpy array\r\n",
        "        values = df.values\r\n",
        "        print(values.shape)\r\n",
        "        # create a subplot for each time series\r\n",
        "        plt.figure(figsize=(16, 16))\r\n",
        "        for i in range(values.shape[1]):\r\n",
        "            plt.subplot(values.shape[1], 1, i+1)\r\n",
        "            plt.plot(values[:, i])\r\n",
        "        plt.show()\r\n",
        "    \r\n",
        "    \r\n",
        "    def fn_compute_outliers(self, df):\r\n",
        "        \"\"\"Function to check for outliers in data.\"\"\"\r\n",
        "        Q1 = df.quantile(0.25)\r\n",
        "        Q3 = df.quantile(0.75)\r\n",
        "        IQR = Q3 - Q1\r\n",
        "        cleaned_eeg_df = df[~((df < (Q1 - 1.5 * IQR)) |\r\n",
        "                                  (df > (Q3 + 1.5 * IQR)))\\\r\n",
        "                                .any(axis=1)]\r\n",
        "        print(cleaned_eeg_df.shape)\r\n",
        "    \r\n",
        "    \r\n",
        "    def fn_plot_correlation(self, df):\r\n",
        "        \"\"\"Function to plot the correlation in data.\"\"\"\r\n",
        "        plt.figure(figsize=(12,7))\r\n",
        "        sns.heatmap(df.corr(), annot=True)\r\n",
        "        plt.xticks(rotation=45)\r\n",
        "        plt.show()\r\n",
        "    \r\n",
        "    def fn_check_and_drop_duplicates(self, df):\r\n",
        "        \"\"\"Function to check and drop duplicates in data.\"\"\"\r\n",
        "        duplicate = df[df.duplicated()]  \r\n",
        "        print(\"Duplicate Rows :\")  \r\n",
        "        #Print the resultant Dataframe \r\n",
        "        duplicate \r\n",
        "        df_duplicates_removed = pd.DataFrame.drop_duplicates(df)\r\n",
        "        print(df_duplicates_removed)\r\n",
        "        return df_duplicates_removed\r\n",
        "       \r\n",
        "    def fn_fetch_col_based_ontype(self, df, *args):\r\n",
        "        \"\"\"Function to return column based on column type\"\"\"\r\n",
        "        return df.select_dtypes(include=args).columns.tolist()\r\n",
        "    \r\n",
        "    def fn_get_data_information(self, df):\r\n",
        "        \"\"\"Function to fetch data-frame information\"\"\"\r\n",
        "        print(f'Shape of dataframe is {df.shape}')\r\n",
        "        print('*************************************************************')\r\n",
        "        print(\"DataFrame information\")\r\n",
        "        print(df.info())\r\n",
        "        print('************************************************************')\r\n",
        "        print(\"DataFrame Summary\")\r\n",
        "        print(df.describe())\r\n",
        "        \r\n",
        "    def fn_plot_pairplots(self, df, targetCol):\r\n",
        "        for i in range(0, len(df.columns), 5):\r\n",
        "                sns.pairplot(data=df,\r\n",
        "                x_vars=df.columns[i:i+5],\r\n",
        "                y_vars=[targetCol])\r\n",
        "                \r\n",
        "    def fn_plot_regplot(self, df, features_to_analyse, targetCol):\r\n",
        "        fig, ax = plt.subplots(round(len(features_to_analyse) / 3), 3, figsize = (18, 12))\r\n",
        "        for i, ax in enumerate(fig.axes):\r\n",
        "            if i < len(features_to_analyse) - 1:\r\n",
        "                sns.regplot(x=features_to_analyse[i],y=targetCol, data=df[features_to_analyse], ax=ax)\r\n",
        "                \r\n",
        "    def fn_plot_countplot(self, df_not_num):\r\n",
        "        fig, axes = plt.subplots(round(len(df_not_num.columns) / 3), 3, figsize=(12, 30))\r\n",
        "        for i, ax in enumerate(fig.axes):\r\n",
        "            if i < len(df_not_num.columns):\r\n",
        "                ax.set_xticklabels(ax.xaxis.get_majorticklabels(), rotation=45)\r\n",
        "                sns.countplot(x=df_not_num.columns[i], alpha=0.7, data=df_not_num, ax=ax)\r\n",
        "        fig.tight_layout() \r\n",
        "    \r\n",
        "    def fn_plot_histplot(self, df_num):\r\n",
        "        df_num.hist(figsize=(16, 20), bins=50, xlabelsize=8, ylabelsize=8);\r\n",
        "        \r\n",
        "    def fn_nulls_plot(self,df):\r\n",
        "        plt.figure(figsize = (12,6))\r\n",
        "        sns.heatmap(df.isnull(), yticklabels=False, cbar=False, cmap='viridis')\r\n",
        "        plt.xticks(rotation=45)\r\n",
        "        plt.show()"
      ],
      "execution_count": 6,
      "outputs": []
    },
    {
      "cell_type": "code",
      "metadata": {
        "id": "K_nZXm08GcP_"
      },
      "source": [
        "eda = CustomEDA()"
      ],
      "execution_count": 7,
      "outputs": []
    },
    {
      "cell_type": "code",
      "metadata": {
        "id": "0B86-_LoGfdC"
      },
      "source": [
        ""
      ],
      "execution_count": 7,
      "outputs": []
    },
    {
      "cell_type": "code",
      "metadata": {
        "colab": {
          "base_uri": "https://localhost:8080/"
        },
        "id": "KCQkbXJXGmBe",
        "outputId": "4a5aec8b-9672-40ba-da6a-d523e9a44334"
      },
      "source": [
        "from google.colab import drive\n",
        "drive.mount('/content/drive')"
      ],
      "execution_count": 8,
      "outputs": [
        {
          "output_type": "stream",
          "text": [
            "Drive already mounted at /content/drive; to attempt to forcibly remount, call drive.mount(\"/content/drive\", force_remount=True).\n"
          ],
          "name": "stdout"
        }
      ]
    },
    {
      "cell_type": "code",
      "metadata": {
        "id": "_D40xRItvImL"
      },
      "source": [
        "data = pd.read_csv(\"/content/drive/MyDrive/Colab Notebooks/datasets/train_data.csv\")\r\n",
        "farm_data = pd.read_csv(\"/content/drive/MyDrive/Colab Notebooks/datasets/farm_data.csv\")\r\n",
        "weather_data = pd.read_csv(\"/content/drive/MyDrive/Colab Notebooks/datasets/train_weather.csv\")"
      ],
      "execution_count": 9,
      "outputs": []
    },
    {
      "cell_type": "code",
      "metadata": {
        "id": "RygiAUWLvU1c"
      },
      "source": [
        "train_farm = pd.merge(data, farm_data, on='farm_id')"
      ],
      "execution_count": 10,
      "outputs": []
    },
    {
      "cell_type": "code",
      "metadata": {
        "id": "JsRxmIT0vZL1"
      },
      "source": [
        "weather_data['timestamp'] = pd.to_datetime(weather_data['timestamp'], format='%Y-%m-%d %H:%M:%S')"
      ],
      "execution_count": 11,
      "outputs": []
    },
    {
      "cell_type": "code",
      "metadata": {
        "id": "m1XPQH2RvcV_"
      },
      "source": [
        "train_farm.columns = ['timestamp', 'farm_id', 'ingredient_type', 'yield',\r\n",
        "       'operations_commencing_year', 'num_processing_plants', 'farm_area',\r\n",
        "       'farming_company', 'deidentified_location']"
      ],
      "execution_count": 12,
      "outputs": []
    },
    {
      "cell_type": "code",
      "metadata": {
        "id": "Zsbf82fcvebF"
      },
      "source": [
        "train_farm['timestamp'] = pd.to_datetime(train_farm['timestamp'], format='%Y-%m-%d %H:%M:%S')"
      ],
      "execution_count": 13,
      "outputs": []
    },
    {
      "cell_type": "code",
      "metadata": {
        "id": "XjrMLbOyvguT"
      },
      "source": [
        "train_farm['timestamp'] = pd.to_datetime(train_farm['timestamp'], format='%Y-%m-%d %H:%M:%S')"
      ],
      "execution_count": 14,
      "outputs": []
    },
    {
      "cell_type": "code",
      "metadata": {
        "id": "eNmnsHOEvjX2"
      },
      "source": [
        "final_data = pd.merge(train_farm, weather_data , on=['timestamp', 'deidentified_location'])"
      ],
      "execution_count": 15,
      "outputs": []
    },
    {
      "cell_type": "code",
      "metadata": {
        "id": "hNdM5iN9vmU0"
      },
      "source": [
        "final_data.drop(['num_processing_plants', 'operations_commencing_year'], axis=1,inplace=True)"
      ],
      "execution_count": 16,
      "outputs": []
    },
    {
      "cell_type": "code",
      "metadata": {
        "id": "0S_chZx4wM_M"
      },
      "source": [
        "final_data.set_index('timestamp', inplace=True)"
      ],
      "execution_count": 17,
      "outputs": []
    },
    {
      "cell_type": "code",
      "metadata": {
        "id": "FyPbo2m4vpYA"
      },
      "source": [
        "# final_data = final_data.assign(precipitation=final_data['precipitation'].interpolate(method='time'))"
      ],
      "execution_count": 18,
      "outputs": []
    },
    {
      "cell_type": "code",
      "metadata": {
        "id": "dzwQzyI3wJ4h"
      },
      "source": [
        "# final_data = final_data.assign(wind_speed=final_data['wind_speed'].interpolate(method='time'))\r\n",
        "# final_data = final_data.assign(pressure_sea_level=final_data['pressure_sea_level'].interpolate(method='time'))\r\n",
        "# final_data = final_data.assign(dew_temp=final_data['dew_temp'].interpolate(method='time'))"
      ],
      "execution_count": 19,
      "outputs": []
    },
    {
      "cell_type": "code",
      "metadata": {
        "id": "-pw80NlD1pqs"
      },
      "source": [
        "final_data['precipitation'].fillna(final_data['precipitation'].mean(), inplace = True)\r\n",
        "final_data['pressure_sea_level'].fillna(final_data['pressure_sea_level'].mean(), inplace = True)\r\n",
        "final_data['wind_speed'].fillna(final_data['wind_speed'].mean(), inplace = True)\r\n",
        "final_data['dew_temp'].fillna(final_data['dew_temp'].mean(), inplace = True)"
      ],
      "execution_count": 20,
      "outputs": []
    },
    {
      "cell_type": "code",
      "metadata": {
        "id": "RrmIz1Z9wiZc"
      },
      "source": [
        "final_data.drop(['wind_direction', 'temp_obs','cloudiness'], axis=1, inplace=True)"
      ],
      "execution_count": 21,
      "outputs": []
    },
    {
      "cell_type": "code",
      "metadata": {
        "colab": {
          "base_uri": "https://localhost:8080/",
          "height": 225
        },
        "id": "AKzChfXA1VlG",
        "outputId": "66936457-1884-4e43-9181-817b51ceef51"
      },
      "source": [
        "final_data.head()"
      ],
      "execution_count": 22,
      "outputs": [
        {
          "output_type": "execute_result",
          "data": {
            "text/html": [
              "<div>\n",
              "<style scoped>\n",
              "    .dataframe tbody tr th:only-of-type {\n",
              "        vertical-align: middle;\n",
              "    }\n",
              "\n",
              "    .dataframe tbody tr th {\n",
              "        vertical-align: top;\n",
              "    }\n",
              "\n",
              "    .dataframe thead th {\n",
              "        text-align: right;\n",
              "    }\n",
              "</style>\n",
              "<table border=\"1\" class=\"dataframe\">\n",
              "  <thead>\n",
              "    <tr style=\"text-align: right;\">\n",
              "      <th></th>\n",
              "      <th>farm_id</th>\n",
              "      <th>ingredient_type</th>\n",
              "      <th>yield</th>\n",
              "      <th>farm_area</th>\n",
              "      <th>farming_company</th>\n",
              "      <th>deidentified_location</th>\n",
              "      <th>dew_temp</th>\n",
              "      <th>pressure_sea_level</th>\n",
              "      <th>precipitation</th>\n",
              "      <th>wind_speed</th>\n",
              "    </tr>\n",
              "    <tr>\n",
              "      <th>timestamp</th>\n",
              "      <th></th>\n",
              "      <th></th>\n",
              "      <th></th>\n",
              "      <th></th>\n",
              "      <th></th>\n",
              "      <th></th>\n",
              "      <th></th>\n",
              "      <th></th>\n",
              "      <th></th>\n",
              "      <th></th>\n",
              "    </tr>\n",
              "  </thead>\n",
              "  <tbody>\n",
              "    <tr>\n",
              "      <th>2016-01-01</th>\n",
              "      <td>fid_110884</td>\n",
              "      <td>ing_w</td>\n",
              "      <td>0.0</td>\n",
              "      <td>690.455096</td>\n",
              "      <td>Obery Farms</td>\n",
              "      <td>location 7369</td>\n",
              "      <td>20.0</td>\n",
              "      <td>1019.7</td>\n",
              "      <td>0.793987</td>\n",
              "      <td>0.0</td>\n",
              "    </tr>\n",
              "    <tr>\n",
              "      <th>2016-01-01</th>\n",
              "      <td>fid_90053</td>\n",
              "      <td>ing_w</td>\n",
              "      <td>0.0</td>\n",
              "      <td>252.696160</td>\n",
              "      <td>Obery Farms</td>\n",
              "      <td>location 7369</td>\n",
              "      <td>20.0</td>\n",
              "      <td>1019.7</td>\n",
              "      <td>0.793987</td>\n",
              "      <td>0.0</td>\n",
              "    </tr>\n",
              "    <tr>\n",
              "      <th>2016-01-01</th>\n",
              "      <td>fid_17537</td>\n",
              "      <td>ing_w</td>\n",
              "      <td>0.0</td>\n",
              "      <td>499.446528</td>\n",
              "      <td>Obery Farms</td>\n",
              "      <td>location 7369</td>\n",
              "      <td>20.0</td>\n",
              "      <td>1019.7</td>\n",
              "      <td>0.793987</td>\n",
              "      <td>0.0</td>\n",
              "    </tr>\n",
              "    <tr>\n",
              "      <th>2016-01-01</th>\n",
              "      <td>fid_110392</td>\n",
              "      <td>ing_w</td>\n",
              "      <td>0.0</td>\n",
              "      <td>2200.407555</td>\n",
              "      <td>Obery Farms</td>\n",
              "      <td>location 7369</td>\n",
              "      <td>20.0</td>\n",
              "      <td>1019.7</td>\n",
              "      <td>0.793987</td>\n",
              "      <td>0.0</td>\n",
              "    </tr>\n",
              "    <tr>\n",
              "      <th>2016-01-01</th>\n",
              "      <td>fid_62402</td>\n",
              "      <td>ing_w</td>\n",
              "      <td>0.0</td>\n",
              "      <td>10833.140121</td>\n",
              "      <td>Obery Farms</td>\n",
              "      <td>location 7369</td>\n",
              "      <td>20.0</td>\n",
              "      <td>1019.7</td>\n",
              "      <td>0.793987</td>\n",
              "      <td>0.0</td>\n",
              "    </tr>\n",
              "  </tbody>\n",
              "</table>\n",
              "</div>"
            ],
            "text/plain": [
              "               farm_id ingredient_type  ...  precipitation  wind_speed\n",
              "timestamp                               ...                           \n",
              "2016-01-01  fid_110884           ing_w  ...       0.793987         0.0\n",
              "2016-01-01   fid_90053           ing_w  ...       0.793987         0.0\n",
              "2016-01-01   fid_17537           ing_w  ...       0.793987         0.0\n",
              "2016-01-01  fid_110392           ing_w  ...       0.793987         0.0\n",
              "2016-01-01   fid_62402           ing_w  ...       0.793987         0.0\n",
              "\n",
              "[5 rows x 10 columns]"
            ]
          },
          "metadata": {
            "tags": []
          },
          "execution_count": 22
        }
      ]
    },
    {
      "cell_type": "code",
      "metadata": {
        "id": "rxwsXCKlwxi2"
      },
      "source": [
        "def fn_build_model(farm_id):\r\n",
        "  pass\r\n",
        "\r\n"
      ],
      "execution_count": 23,
      "outputs": []
    },
    {
      "cell_type": "code",
      "metadata": {
        "id": "l5AbWA3Dx5H1"
      },
      "source": [
        "df = final_data[final_data.farm_id == 'fid_110884']"
      ],
      "execution_count": 24,
      "outputs": []
    },
    {
      "cell_type": "code",
      "metadata": {
        "id": "X_Q8RpHz9t7o"
      },
      "source": [
        "test_data = pd.read_csv(\"/content/drive/MyDrive/Colab Notebooks/datasets/test_data.csv\")\r\n",
        "#farm_data = pd.read_csv(\"/content/drive/MyDrive/Colab Notebooks/datasets/farm_data.csv\")\r\n",
        "test_weather = pd.read_csv(\"/content/drive/MyDrive/Colab Notebooks/datasets/test_weather.csv\")"
      ],
      "execution_count": 25,
      "outputs": []
    },
    {
      "cell_type": "code",
      "metadata": {
        "colab": {
          "base_uri": "https://localhost:8080/"
        },
        "id": "pfLn0L4P-WwV",
        "outputId": "caa54fb7-d90f-4017-cae9-700cb68939a7"
      },
      "source": [
        "test_data.shape"
      ],
      "execution_count": 26,
      "outputs": [
        {
          "output_type": "execute_result",
          "data": {
            "text/plain": [
              "(20848800, 4)"
            ]
          },
          "metadata": {
            "tags": []
          },
          "execution_count": 26
        }
      ]
    },
    {
      "cell_type": "code",
      "metadata": {
        "colab": {
          "base_uri": "https://localhost:8080/"
        },
        "id": "Fa-E66r1-hTk",
        "outputId": "1681143e-1af2-471a-beaa-bfecd9d2e391"
      },
      "source": [
        "test_weather.shape"
      ],
      "execution_count": 27,
      "outputs": [
        {
          "output_type": "execute_result",
          "data": {
            "text/plain": [
              "(138825, 9)"
            ]
          },
          "metadata": {
            "tags": []
          },
          "execution_count": 27
        }
      ]
    },
    {
      "cell_type": "code",
      "metadata": {
        "colab": {
          "base_uri": "https://localhost:8080/",
          "height": 195
        },
        "id": "53W4gFqm_Fsk",
        "outputId": "ae4be901-de2d-447c-fded-c69baeafc9a1"
      },
      "source": [
        "test_data.head()"
      ],
      "execution_count": 28,
      "outputs": [
        {
          "output_type": "execute_result",
          "data": {
            "text/html": [
              "<div>\n",
              "<style scoped>\n",
              "    .dataframe tbody tr th:only-of-type {\n",
              "        vertical-align: middle;\n",
              "    }\n",
              "\n",
              "    .dataframe tbody tr th {\n",
              "        vertical-align: top;\n",
              "    }\n",
              "\n",
              "    .dataframe thead th {\n",
              "        text-align: right;\n",
              "    }\n",
              "</style>\n",
              "<table border=\"1\" class=\"dataframe\">\n",
              "  <thead>\n",
              "    <tr style=\"text-align: right;\">\n",
              "      <th></th>\n",
              "      <th>date</th>\n",
              "      <th>farm_id</th>\n",
              "      <th>ingredient_type</th>\n",
              "      <th>id</th>\n",
              "    </tr>\n",
              "  </thead>\n",
              "  <tbody>\n",
              "    <tr>\n",
              "      <th>0</th>\n",
              "      <td>2017-01-01 00:00:00</td>\n",
              "      <td>fid_110884</td>\n",
              "      <td>ing_w</td>\n",
              "      <td>0</td>\n",
              "    </tr>\n",
              "    <tr>\n",
              "      <th>1</th>\n",
              "      <td>2017-01-01 00:00:00</td>\n",
              "      <td>fid_90053</td>\n",
              "      <td>ing_w</td>\n",
              "      <td>1</td>\n",
              "    </tr>\n",
              "    <tr>\n",
              "      <th>2</th>\n",
              "      <td>2017-01-01 00:00:00</td>\n",
              "      <td>fid_17537</td>\n",
              "      <td>ing_w</td>\n",
              "      <td>2</td>\n",
              "    </tr>\n",
              "    <tr>\n",
              "      <th>3</th>\n",
              "      <td>2017-01-01 00:00:00</td>\n",
              "      <td>fid_110392</td>\n",
              "      <td>ing_w</td>\n",
              "      <td>3</td>\n",
              "    </tr>\n",
              "    <tr>\n",
              "      <th>4</th>\n",
              "      <td>2017-01-01 00:00:00</td>\n",
              "      <td>fid_62402</td>\n",
              "      <td>ing_w</td>\n",
              "      <td>4</td>\n",
              "    </tr>\n",
              "  </tbody>\n",
              "</table>\n",
              "</div>"
            ],
            "text/plain": [
              "                  date     farm_id ingredient_type  id\n",
              "0  2017-01-01 00:00:00  fid_110884           ing_w   0\n",
              "1  2017-01-01 00:00:00   fid_90053           ing_w   1\n",
              "2  2017-01-01 00:00:00   fid_17537           ing_w   2\n",
              "3  2017-01-01 00:00:00  fid_110392           ing_w   3\n",
              "4  2017-01-01 00:00:00   fid_62402           ing_w   4"
            ]
          },
          "metadata": {
            "tags": []
          },
          "execution_count": 28
        }
      ]
    },
    {
      "cell_type": "code",
      "metadata": {
        "id": "hUAA9XSE-j5D"
      },
      "source": [
        "test_farm = pd.merge(test_data, farm_data, on='farm_id')"
      ],
      "execution_count": 29,
      "outputs": []
    },
    {
      "cell_type": "code",
      "metadata": {
        "id": "ZwUgDLWM-tjl"
      },
      "source": [
        "test_weather['timestamp'] = pd.to_datetime(test_weather['timestamp'], format='%Y-%m-%d %H:%M:%S')"
      ],
      "execution_count": 30,
      "outputs": []
    },
    {
      "cell_type": "code",
      "metadata": {
        "colab": {
          "base_uri": "https://localhost:8080/",
          "height": 195
        },
        "id": "5j3Rv1hpBvjE",
        "outputId": "5ef63d0f-faa6-4412-e7e7-e401eaa91f66"
      },
      "source": [
        "test_weather.head()"
      ],
      "execution_count": 31,
      "outputs": [
        {
          "output_type": "execute_result",
          "data": {
            "text/html": [
              "<div>\n",
              "<style scoped>\n",
              "    .dataframe tbody tr th:only-of-type {\n",
              "        vertical-align: middle;\n",
              "    }\n",
              "\n",
              "    .dataframe tbody tr th {\n",
              "        vertical-align: top;\n",
              "    }\n",
              "\n",
              "    .dataframe thead th {\n",
              "        text-align: right;\n",
              "    }\n",
              "</style>\n",
              "<table border=\"1\" class=\"dataframe\">\n",
              "  <thead>\n",
              "    <tr style=\"text-align: right;\">\n",
              "      <th></th>\n",
              "      <th>timestamp</th>\n",
              "      <th>deidentified_location</th>\n",
              "      <th>temp_obs</th>\n",
              "      <th>cloudiness</th>\n",
              "      <th>wind_direction</th>\n",
              "      <th>dew_temp</th>\n",
              "      <th>pressure_sea_level</th>\n",
              "      <th>precipitation</th>\n",
              "      <th>wind_speed</th>\n",
              "    </tr>\n",
              "  </thead>\n",
              "  <tbody>\n",
              "    <tr>\n",
              "      <th>0</th>\n",
              "      <td>2017-01-01 00:00:00</td>\n",
              "      <td>location 7369</td>\n",
              "      <td>17.8</td>\n",
              "      <td>4.0</td>\n",
              "      <td>100.0</td>\n",
              "      <td>11.7</td>\n",
              "      <td>1021.4</td>\n",
              "      <td>NaN</td>\n",
              "      <td>3.6</td>\n",
              "    </tr>\n",
              "    <tr>\n",
              "      <th>1</th>\n",
              "      <td>2017-01-01 01:00:00</td>\n",
              "      <td>location 7369</td>\n",
              "      <td>17.8</td>\n",
              "      <td>2.0</td>\n",
              "      <td>130.0</td>\n",
              "      <td>12.8</td>\n",
              "      <td>1022.0</td>\n",
              "      <td>0.0</td>\n",
              "      <td>3.1</td>\n",
              "    </tr>\n",
              "    <tr>\n",
              "      <th>2</th>\n",
              "      <td>2017-01-01 02:00:00</td>\n",
              "      <td>location 7369</td>\n",
              "      <td>16.1</td>\n",
              "      <td>0.0</td>\n",
              "      <td>140.0</td>\n",
              "      <td>12.8</td>\n",
              "      <td>1021.9</td>\n",
              "      <td>0.0</td>\n",
              "      <td>3.1</td>\n",
              "    </tr>\n",
              "    <tr>\n",
              "      <th>3</th>\n",
              "      <td>2017-01-01 03:00:00</td>\n",
              "      <td>location 7369</td>\n",
              "      <td>17.2</td>\n",
              "      <td>0.0</td>\n",
              "      <td>140.0</td>\n",
              "      <td>13.3</td>\n",
              "      <td>1022.2</td>\n",
              "      <td>0.0</td>\n",
              "      <td>3.1</td>\n",
              "    </tr>\n",
              "    <tr>\n",
              "      <th>4</th>\n",
              "      <td>2017-01-01 04:00:00</td>\n",
              "      <td>location 7369</td>\n",
              "      <td>16.7</td>\n",
              "      <td>2.0</td>\n",
              "      <td>130.0</td>\n",
              "      <td>13.3</td>\n",
              "      <td>1022.3</td>\n",
              "      <td>0.0</td>\n",
              "      <td>2.6</td>\n",
              "    </tr>\n",
              "  </tbody>\n",
              "</table>\n",
              "</div>"
            ],
            "text/plain": [
              "            timestamp deidentified_location  ...  precipitation  wind_speed\n",
              "0 2017-01-01 00:00:00         location 7369  ...            NaN         3.6\n",
              "1 2017-01-01 01:00:00         location 7369  ...            0.0         3.1\n",
              "2 2017-01-01 02:00:00         location 7369  ...            0.0         3.1\n",
              "3 2017-01-01 03:00:00         location 7369  ...            0.0         3.1\n",
              "4 2017-01-01 04:00:00         location 7369  ...            0.0         2.6\n",
              "\n",
              "[5 rows x 9 columns]"
            ]
          },
          "metadata": {
            "tags": []
          },
          "execution_count": 31
        }
      ]
    },
    {
      "cell_type": "code",
      "metadata": {
        "colab": {
          "base_uri": "https://localhost:8080/"
        },
        "id": "nU656Eha_bKH",
        "outputId": "6111b64a-a7e9-40f5-da4a-ccf2f22e1b01"
      },
      "source": [
        "test_farm.columns"
      ],
      "execution_count": 32,
      "outputs": [
        {
          "output_type": "execute_result",
          "data": {
            "text/plain": [
              "Index(['date', 'farm_id', 'ingredient_type', 'id',\n",
              "       'operations_commencing_year', 'num_processing_plants', 'farm_area',\n",
              "       'farming_company', 'deidentified_location'],\n",
              "      dtype='object')"
            ]
          },
          "metadata": {
            "tags": []
          },
          "execution_count": 32
        }
      ]
    },
    {
      "cell_type": "code",
      "metadata": {
        "colab": {
          "base_uri": "https://localhost:8080/",
          "height": 195
        },
        "id": "35esC1qZ_sik",
        "outputId": "a49c831c-1f27-456a-ccae-c68c4a7f8285"
      },
      "source": [
        "test_farm.head()"
      ],
      "execution_count": 33,
      "outputs": [
        {
          "output_type": "execute_result",
          "data": {
            "text/html": [
              "<div>\n",
              "<style scoped>\n",
              "    .dataframe tbody tr th:only-of-type {\n",
              "        vertical-align: middle;\n",
              "    }\n",
              "\n",
              "    .dataframe tbody tr th {\n",
              "        vertical-align: top;\n",
              "    }\n",
              "\n",
              "    .dataframe thead th {\n",
              "        text-align: right;\n",
              "    }\n",
              "</style>\n",
              "<table border=\"1\" class=\"dataframe\">\n",
              "  <thead>\n",
              "    <tr style=\"text-align: right;\">\n",
              "      <th></th>\n",
              "      <th>date</th>\n",
              "      <th>farm_id</th>\n",
              "      <th>ingredient_type</th>\n",
              "      <th>id</th>\n",
              "      <th>operations_commencing_year</th>\n",
              "      <th>num_processing_plants</th>\n",
              "      <th>farm_area</th>\n",
              "      <th>farming_company</th>\n",
              "      <th>deidentified_location</th>\n",
              "    </tr>\n",
              "  </thead>\n",
              "  <tbody>\n",
              "    <tr>\n",
              "      <th>0</th>\n",
              "      <td>2017-01-01 00:00:00</td>\n",
              "      <td>fid_110884</td>\n",
              "      <td>ing_w</td>\n",
              "      <td>0</td>\n",
              "      <td>2008.0</td>\n",
              "      <td>NaN</td>\n",
              "      <td>690.455096</td>\n",
              "      <td>Obery Farms</td>\n",
              "      <td>location 7369</td>\n",
              "    </tr>\n",
              "    <tr>\n",
              "      <th>1</th>\n",
              "      <td>2017-01-01 01:00:00</td>\n",
              "      <td>fid_110884</td>\n",
              "      <td>ing_w</td>\n",
              "      <td>129</td>\n",
              "      <td>2008.0</td>\n",
              "      <td>NaN</td>\n",
              "      <td>690.455096</td>\n",
              "      <td>Obery Farms</td>\n",
              "      <td>location 7369</td>\n",
              "    </tr>\n",
              "    <tr>\n",
              "      <th>2</th>\n",
              "      <td>2017-01-01 02:00:00</td>\n",
              "      <td>fid_110884</td>\n",
              "      <td>ing_w</td>\n",
              "      <td>258</td>\n",
              "      <td>2008.0</td>\n",
              "      <td>NaN</td>\n",
              "      <td>690.455096</td>\n",
              "      <td>Obery Farms</td>\n",
              "      <td>location 7369</td>\n",
              "    </tr>\n",
              "    <tr>\n",
              "      <th>3</th>\n",
              "      <td>2017-01-01 03:00:00</td>\n",
              "      <td>fid_110884</td>\n",
              "      <td>ing_w</td>\n",
              "      <td>387</td>\n",
              "      <td>2008.0</td>\n",
              "      <td>NaN</td>\n",
              "      <td>690.455096</td>\n",
              "      <td>Obery Farms</td>\n",
              "      <td>location 7369</td>\n",
              "    </tr>\n",
              "    <tr>\n",
              "      <th>4</th>\n",
              "      <td>2017-01-01 04:00:00</td>\n",
              "      <td>fid_110884</td>\n",
              "      <td>ing_w</td>\n",
              "      <td>516</td>\n",
              "      <td>2008.0</td>\n",
              "      <td>NaN</td>\n",
              "      <td>690.455096</td>\n",
              "      <td>Obery Farms</td>\n",
              "      <td>location 7369</td>\n",
              "    </tr>\n",
              "  </tbody>\n",
              "</table>\n",
              "</div>"
            ],
            "text/plain": [
              "                  date     farm_id  ... farming_company  deidentified_location\n",
              "0  2017-01-01 00:00:00  fid_110884  ...     Obery Farms          location 7369\n",
              "1  2017-01-01 01:00:00  fid_110884  ...     Obery Farms          location 7369\n",
              "2  2017-01-01 02:00:00  fid_110884  ...     Obery Farms          location 7369\n",
              "3  2017-01-01 03:00:00  fid_110884  ...     Obery Farms          location 7369\n",
              "4  2017-01-01 04:00:00  fid_110884  ...     Obery Farms          location 7369\n",
              "\n",
              "[5 rows x 9 columns]"
            ]
          },
          "metadata": {
            "tags": []
          },
          "execution_count": 33
        }
      ]
    },
    {
      "cell_type": "code",
      "metadata": {
        "id": "o5J73SB6-65k"
      },
      "source": [
        "test_farm.columns = ['timestamp', 'farm_id', 'ingredient_type', 'id',\r\n",
        "       'operations_commencing_year', 'num_processing_plants', 'farm_area',\r\n",
        "       'farming_company', 'deidentified_location']"
      ],
      "execution_count": 34,
      "outputs": []
    },
    {
      "cell_type": "code",
      "metadata": {
        "id": "oBfhu5He_Ycv"
      },
      "source": [
        "test_farm['timestamp'] = pd.to_datetime(test_farm['timestamp'], format='%Y-%m-%d %H:%M:%S')"
      ],
      "execution_count": 35,
      "outputs": []
    },
    {
      "cell_type": "code",
      "metadata": {
        "id": "9AIc7oRUB8ND"
      },
      "source": [
        "test_farm.reset_index(inplace=True)"
      ],
      "execution_count": 36,
      "outputs": []
    },
    {
      "cell_type": "code",
      "metadata": {
        "id": "HKJtdCyvCVJt"
      },
      "source": [
        "test_weather.reset_index(inplace=True)"
      ],
      "execution_count": 37,
      "outputs": []
    },
    {
      "cell_type": "code",
      "metadata": {
        "id": "WKrfcBgrChgC"
      },
      "source": [
        "test_weather.drop('index', axis=1, inplace=True)"
      ],
      "execution_count": 38,
      "outputs": []
    },
    {
      "cell_type": "code",
      "metadata": {
        "id": "lRFT52YUCy9u"
      },
      "source": [
        "test_farm.drop('index', axis=1, inplace=True)"
      ],
      "execution_count": 39,
      "outputs": []
    },
    {
      "cell_type": "code",
      "metadata": {
        "colab": {
          "base_uri": "https://localhost:8080/",
          "height": 195
        },
        "id": "zqk7WJIQDGeh",
        "outputId": "2ead3d06-7900-4a07-ed0f-c2a95f415689"
      },
      "source": [
        "test_farm.head()"
      ],
      "execution_count": 40,
      "outputs": [
        {
          "output_type": "execute_result",
          "data": {
            "text/html": [
              "<div>\n",
              "<style scoped>\n",
              "    .dataframe tbody tr th:only-of-type {\n",
              "        vertical-align: middle;\n",
              "    }\n",
              "\n",
              "    .dataframe tbody tr th {\n",
              "        vertical-align: top;\n",
              "    }\n",
              "\n",
              "    .dataframe thead th {\n",
              "        text-align: right;\n",
              "    }\n",
              "</style>\n",
              "<table border=\"1\" class=\"dataframe\">\n",
              "  <thead>\n",
              "    <tr style=\"text-align: right;\">\n",
              "      <th></th>\n",
              "      <th>timestamp</th>\n",
              "      <th>farm_id</th>\n",
              "      <th>ingredient_type</th>\n",
              "      <th>id</th>\n",
              "      <th>operations_commencing_year</th>\n",
              "      <th>num_processing_plants</th>\n",
              "      <th>farm_area</th>\n",
              "      <th>farming_company</th>\n",
              "      <th>deidentified_location</th>\n",
              "    </tr>\n",
              "  </thead>\n",
              "  <tbody>\n",
              "    <tr>\n",
              "      <th>0</th>\n",
              "      <td>2017-01-01 00:00:00</td>\n",
              "      <td>fid_110884</td>\n",
              "      <td>ing_w</td>\n",
              "      <td>0</td>\n",
              "      <td>2008.0</td>\n",
              "      <td>NaN</td>\n",
              "      <td>690.455096</td>\n",
              "      <td>Obery Farms</td>\n",
              "      <td>location 7369</td>\n",
              "    </tr>\n",
              "    <tr>\n",
              "      <th>1</th>\n",
              "      <td>2017-01-01 01:00:00</td>\n",
              "      <td>fid_110884</td>\n",
              "      <td>ing_w</td>\n",
              "      <td>129</td>\n",
              "      <td>2008.0</td>\n",
              "      <td>NaN</td>\n",
              "      <td>690.455096</td>\n",
              "      <td>Obery Farms</td>\n",
              "      <td>location 7369</td>\n",
              "    </tr>\n",
              "    <tr>\n",
              "      <th>2</th>\n",
              "      <td>2017-01-01 02:00:00</td>\n",
              "      <td>fid_110884</td>\n",
              "      <td>ing_w</td>\n",
              "      <td>258</td>\n",
              "      <td>2008.0</td>\n",
              "      <td>NaN</td>\n",
              "      <td>690.455096</td>\n",
              "      <td>Obery Farms</td>\n",
              "      <td>location 7369</td>\n",
              "    </tr>\n",
              "    <tr>\n",
              "      <th>3</th>\n",
              "      <td>2017-01-01 03:00:00</td>\n",
              "      <td>fid_110884</td>\n",
              "      <td>ing_w</td>\n",
              "      <td>387</td>\n",
              "      <td>2008.0</td>\n",
              "      <td>NaN</td>\n",
              "      <td>690.455096</td>\n",
              "      <td>Obery Farms</td>\n",
              "      <td>location 7369</td>\n",
              "    </tr>\n",
              "    <tr>\n",
              "      <th>4</th>\n",
              "      <td>2017-01-01 04:00:00</td>\n",
              "      <td>fid_110884</td>\n",
              "      <td>ing_w</td>\n",
              "      <td>516</td>\n",
              "      <td>2008.0</td>\n",
              "      <td>NaN</td>\n",
              "      <td>690.455096</td>\n",
              "      <td>Obery Farms</td>\n",
              "      <td>location 7369</td>\n",
              "    </tr>\n",
              "  </tbody>\n",
              "</table>\n",
              "</div>"
            ],
            "text/plain": [
              "            timestamp     farm_id  ... farming_company  deidentified_location\n",
              "0 2017-01-01 00:00:00  fid_110884  ...     Obery Farms          location 7369\n",
              "1 2017-01-01 01:00:00  fid_110884  ...     Obery Farms          location 7369\n",
              "2 2017-01-01 02:00:00  fid_110884  ...     Obery Farms          location 7369\n",
              "3 2017-01-01 03:00:00  fid_110884  ...     Obery Farms          location 7369\n",
              "4 2017-01-01 04:00:00  fid_110884  ...     Obery Farms          location 7369\n",
              "\n",
              "[5 rows x 9 columns]"
            ]
          },
          "metadata": {
            "tags": []
          },
          "execution_count": 40
        }
      ]
    },
    {
      "cell_type": "code",
      "metadata": {
        "colab": {
          "base_uri": "https://localhost:8080/",
          "height": 195
        },
        "id": "TK91DZ57DSIC",
        "outputId": "f00839a1-ab8a-4536-edd1-df6c787527bc"
      },
      "source": [
        "test_weather.head()"
      ],
      "execution_count": 41,
      "outputs": [
        {
          "output_type": "execute_result",
          "data": {
            "text/html": [
              "<div>\n",
              "<style scoped>\n",
              "    .dataframe tbody tr th:only-of-type {\n",
              "        vertical-align: middle;\n",
              "    }\n",
              "\n",
              "    .dataframe tbody tr th {\n",
              "        vertical-align: top;\n",
              "    }\n",
              "\n",
              "    .dataframe thead th {\n",
              "        text-align: right;\n",
              "    }\n",
              "</style>\n",
              "<table border=\"1\" class=\"dataframe\">\n",
              "  <thead>\n",
              "    <tr style=\"text-align: right;\">\n",
              "      <th></th>\n",
              "      <th>timestamp</th>\n",
              "      <th>deidentified_location</th>\n",
              "      <th>temp_obs</th>\n",
              "      <th>cloudiness</th>\n",
              "      <th>wind_direction</th>\n",
              "      <th>dew_temp</th>\n",
              "      <th>pressure_sea_level</th>\n",
              "      <th>precipitation</th>\n",
              "      <th>wind_speed</th>\n",
              "    </tr>\n",
              "  </thead>\n",
              "  <tbody>\n",
              "    <tr>\n",
              "      <th>0</th>\n",
              "      <td>2017-01-01 00:00:00</td>\n",
              "      <td>location 7369</td>\n",
              "      <td>17.8</td>\n",
              "      <td>4.0</td>\n",
              "      <td>100.0</td>\n",
              "      <td>11.7</td>\n",
              "      <td>1021.4</td>\n",
              "      <td>NaN</td>\n",
              "      <td>3.6</td>\n",
              "    </tr>\n",
              "    <tr>\n",
              "      <th>1</th>\n",
              "      <td>2017-01-01 01:00:00</td>\n",
              "      <td>location 7369</td>\n",
              "      <td>17.8</td>\n",
              "      <td>2.0</td>\n",
              "      <td>130.0</td>\n",
              "      <td>12.8</td>\n",
              "      <td>1022.0</td>\n",
              "      <td>0.0</td>\n",
              "      <td>3.1</td>\n",
              "    </tr>\n",
              "    <tr>\n",
              "      <th>2</th>\n",
              "      <td>2017-01-01 02:00:00</td>\n",
              "      <td>location 7369</td>\n",
              "      <td>16.1</td>\n",
              "      <td>0.0</td>\n",
              "      <td>140.0</td>\n",
              "      <td>12.8</td>\n",
              "      <td>1021.9</td>\n",
              "      <td>0.0</td>\n",
              "      <td>3.1</td>\n",
              "    </tr>\n",
              "    <tr>\n",
              "      <th>3</th>\n",
              "      <td>2017-01-01 03:00:00</td>\n",
              "      <td>location 7369</td>\n",
              "      <td>17.2</td>\n",
              "      <td>0.0</td>\n",
              "      <td>140.0</td>\n",
              "      <td>13.3</td>\n",
              "      <td>1022.2</td>\n",
              "      <td>0.0</td>\n",
              "      <td>3.1</td>\n",
              "    </tr>\n",
              "    <tr>\n",
              "      <th>4</th>\n",
              "      <td>2017-01-01 04:00:00</td>\n",
              "      <td>location 7369</td>\n",
              "      <td>16.7</td>\n",
              "      <td>2.0</td>\n",
              "      <td>130.0</td>\n",
              "      <td>13.3</td>\n",
              "      <td>1022.3</td>\n",
              "      <td>0.0</td>\n",
              "      <td>2.6</td>\n",
              "    </tr>\n",
              "  </tbody>\n",
              "</table>\n",
              "</div>"
            ],
            "text/plain": [
              "            timestamp deidentified_location  ...  precipitation  wind_speed\n",
              "0 2017-01-01 00:00:00         location 7369  ...            NaN         3.6\n",
              "1 2017-01-01 01:00:00         location 7369  ...            0.0         3.1\n",
              "2 2017-01-01 02:00:00         location 7369  ...            0.0         3.1\n",
              "3 2017-01-01 03:00:00         location 7369  ...            0.0         3.1\n",
              "4 2017-01-01 04:00:00         location 7369  ...            0.0         2.6\n",
              "\n",
              "[5 rows x 9 columns]"
            ]
          },
          "metadata": {
            "tags": []
          },
          "execution_count": 41
        }
      ]
    },
    {
      "cell_type": "code",
      "metadata": {
        "colab": {
          "base_uri": "https://localhost:8080/"
        },
        "id": "ckyi3o3mDhml",
        "outputId": "3d7e8c96-ea98-4033-cdbd-0c5fbd96bdb4"
      },
      "source": [
        "test_weather.columns"
      ],
      "execution_count": 42,
      "outputs": [
        {
          "output_type": "execute_result",
          "data": {
            "text/plain": [
              "Index(['timestamp', 'deidentified_location', 'temp_obs', 'cloudiness',\n",
              "       'wind_direction', 'dew_temp', 'pressure_sea_level', 'precipitation',\n",
              "       'wind_speed'],\n",
              "      dtype='object')"
            ]
          },
          "metadata": {
            "tags": []
          },
          "execution_count": 42
        }
      ]
    },
    {
      "cell_type": "code",
      "metadata": {
        "colab": {
          "base_uri": "https://localhost:8080/"
        },
        "id": "rzQ_6rJIDuQT",
        "outputId": "35ea17c7-3dd3-4041-cd10-616e17fb7d00"
      },
      "source": [
        "test_farm.columns"
      ],
      "execution_count": 43,
      "outputs": [
        {
          "output_type": "execute_result",
          "data": {
            "text/plain": [
              "Index(['timestamp', 'farm_id', 'ingredient_type', 'id',\n",
              "       'operations_commencing_year', 'num_processing_plants', 'farm_area',\n",
              "       'farming_company', 'deidentified_location'],\n",
              "      dtype='object')"
            ]
          },
          "metadata": {
            "tags": []
          },
          "execution_count": 43
        }
      ]
    },
    {
      "cell_type": "code",
      "metadata": {
        "id": "ZBu-v9pQACTz"
      },
      "source": [
        "final_test_data = pd.merge(test_weather, test_farm , on=['timestamp', 'deidentified_location'])"
      ],
      "execution_count": 44,
      "outputs": []
    },
    {
      "cell_type": "code",
      "metadata": {
        "colab": {
          "base_uri": "https://localhost:8080/"
        },
        "id": "lyvLxeJVCHtY",
        "outputId": "c38bebd6-0cc7-482e-faf6-50caecefe339"
      },
      "source": [
        "final_test_data.shape"
      ],
      "execution_count": 45,
      "outputs": [
        {
          "output_type": "execute_result",
          "data": {
            "text/plain": [
              "(21154797, 16)"
            ]
          },
          "metadata": {
            "tags": []
          },
          "execution_count": 45
        }
      ]
    },
    {
      "cell_type": "code",
      "metadata": {
        "id": "Syj73igZAMo9"
      },
      "source": [
        "final_test_data.set_index('timestamp', inplace=True)"
      ],
      "execution_count": 46,
      "outputs": []
    },
    {
      "cell_type": "code",
      "metadata": {
        "id": "yMR1VKCrAfXN"
      },
      "source": [
        "final_test_data.drop(['num_processing_plants', 'operations_commencing_year'], axis=1,inplace=True)"
      ],
      "execution_count": 47,
      "outputs": []
    },
    {
      "cell_type": "code",
      "metadata": {
        "id": "QGAKB7I5AmrA"
      },
      "source": [
        "final_test_data['precipitation'].fillna(final_test_data['precipitation'].mean(), inplace = True)\r\n",
        "final_test_data['pressure_sea_level'].fillna(final_test_data['pressure_sea_level'].mean(), inplace = True)\r\n",
        "final_test_data['wind_speed'].fillna(final_test_data['wind_speed'].mean(), inplace = True)\r\n",
        "final_test_data['dew_temp'].fillna(final_test_data['dew_temp'].mean(), inplace = True)"
      ],
      "execution_count": 48,
      "outputs": []
    },
    {
      "cell_type": "code",
      "metadata": {
        "colab": {
          "base_uri": "https://localhost:8080/",
          "height": 195
        },
        "id": "CuF9cm2zcXPS",
        "outputId": "7133e93f-700a-47b9-8d1c-7413a3e8fc03"
      },
      "source": [
        "test_farm.head()"
      ],
      "execution_count": 49,
      "outputs": [
        {
          "output_type": "execute_result",
          "data": {
            "text/html": [
              "<div>\n",
              "<style scoped>\n",
              "    .dataframe tbody tr th:only-of-type {\n",
              "        vertical-align: middle;\n",
              "    }\n",
              "\n",
              "    .dataframe tbody tr th {\n",
              "        vertical-align: top;\n",
              "    }\n",
              "\n",
              "    .dataframe thead th {\n",
              "        text-align: right;\n",
              "    }\n",
              "</style>\n",
              "<table border=\"1\" class=\"dataframe\">\n",
              "  <thead>\n",
              "    <tr style=\"text-align: right;\">\n",
              "      <th></th>\n",
              "      <th>timestamp</th>\n",
              "      <th>farm_id</th>\n",
              "      <th>ingredient_type</th>\n",
              "      <th>id</th>\n",
              "      <th>operations_commencing_year</th>\n",
              "      <th>num_processing_plants</th>\n",
              "      <th>farm_area</th>\n",
              "      <th>farming_company</th>\n",
              "      <th>deidentified_location</th>\n",
              "    </tr>\n",
              "  </thead>\n",
              "  <tbody>\n",
              "    <tr>\n",
              "      <th>0</th>\n",
              "      <td>2017-01-01 00:00:00</td>\n",
              "      <td>fid_110884</td>\n",
              "      <td>ing_w</td>\n",
              "      <td>0</td>\n",
              "      <td>2008.0</td>\n",
              "      <td>NaN</td>\n",
              "      <td>690.455096</td>\n",
              "      <td>Obery Farms</td>\n",
              "      <td>location 7369</td>\n",
              "    </tr>\n",
              "    <tr>\n",
              "      <th>1</th>\n",
              "      <td>2017-01-01 01:00:00</td>\n",
              "      <td>fid_110884</td>\n",
              "      <td>ing_w</td>\n",
              "      <td>129</td>\n",
              "      <td>2008.0</td>\n",
              "      <td>NaN</td>\n",
              "      <td>690.455096</td>\n",
              "      <td>Obery Farms</td>\n",
              "      <td>location 7369</td>\n",
              "    </tr>\n",
              "    <tr>\n",
              "      <th>2</th>\n",
              "      <td>2017-01-01 02:00:00</td>\n",
              "      <td>fid_110884</td>\n",
              "      <td>ing_w</td>\n",
              "      <td>258</td>\n",
              "      <td>2008.0</td>\n",
              "      <td>NaN</td>\n",
              "      <td>690.455096</td>\n",
              "      <td>Obery Farms</td>\n",
              "      <td>location 7369</td>\n",
              "    </tr>\n",
              "    <tr>\n",
              "      <th>3</th>\n",
              "      <td>2017-01-01 03:00:00</td>\n",
              "      <td>fid_110884</td>\n",
              "      <td>ing_w</td>\n",
              "      <td>387</td>\n",
              "      <td>2008.0</td>\n",
              "      <td>NaN</td>\n",
              "      <td>690.455096</td>\n",
              "      <td>Obery Farms</td>\n",
              "      <td>location 7369</td>\n",
              "    </tr>\n",
              "    <tr>\n",
              "      <th>4</th>\n",
              "      <td>2017-01-01 04:00:00</td>\n",
              "      <td>fid_110884</td>\n",
              "      <td>ing_w</td>\n",
              "      <td>516</td>\n",
              "      <td>2008.0</td>\n",
              "      <td>NaN</td>\n",
              "      <td>690.455096</td>\n",
              "      <td>Obery Farms</td>\n",
              "      <td>location 7369</td>\n",
              "    </tr>\n",
              "  </tbody>\n",
              "</table>\n",
              "</div>"
            ],
            "text/plain": [
              "            timestamp     farm_id  ... farming_company  deidentified_location\n",
              "0 2017-01-01 00:00:00  fid_110884  ...     Obery Farms          location 7369\n",
              "1 2017-01-01 01:00:00  fid_110884  ...     Obery Farms          location 7369\n",
              "2 2017-01-01 02:00:00  fid_110884  ...     Obery Farms          location 7369\n",
              "3 2017-01-01 03:00:00  fid_110884  ...     Obery Farms          location 7369\n",
              "4 2017-01-01 04:00:00  fid_110884  ...     Obery Farms          location 7369\n",
              "\n",
              "[5 rows x 9 columns]"
            ]
          },
          "metadata": {
            "tags": []
          },
          "execution_count": 49
        }
      ]
    },
    {
      "cell_type": "code",
      "metadata": {
        "colab": {
          "base_uri": "https://localhost:8080/",
          "height": 195
        },
        "id": "29_oqyk9cXPT",
        "outputId": "69ed41ad-bbc4-4ec0-d4bd-1044d80b5496"
      },
      "source": [
        "test_weather.head()"
      ],
      "execution_count": 50,
      "outputs": [
        {
          "output_type": "execute_result",
          "data": {
            "text/html": [
              "<div>\n",
              "<style scoped>\n",
              "    .dataframe tbody tr th:only-of-type {\n",
              "        vertical-align: middle;\n",
              "    }\n",
              "\n",
              "    .dataframe tbody tr th {\n",
              "        vertical-align: top;\n",
              "    }\n",
              "\n",
              "    .dataframe thead th {\n",
              "        text-align: right;\n",
              "    }\n",
              "</style>\n",
              "<table border=\"1\" class=\"dataframe\">\n",
              "  <thead>\n",
              "    <tr style=\"text-align: right;\">\n",
              "      <th></th>\n",
              "      <th>timestamp</th>\n",
              "      <th>deidentified_location</th>\n",
              "      <th>temp_obs</th>\n",
              "      <th>cloudiness</th>\n",
              "      <th>wind_direction</th>\n",
              "      <th>dew_temp</th>\n",
              "      <th>pressure_sea_level</th>\n",
              "      <th>precipitation</th>\n",
              "      <th>wind_speed</th>\n",
              "    </tr>\n",
              "  </thead>\n",
              "  <tbody>\n",
              "    <tr>\n",
              "      <th>0</th>\n",
              "      <td>2017-01-01 00:00:00</td>\n",
              "      <td>location 7369</td>\n",
              "      <td>17.8</td>\n",
              "      <td>4.0</td>\n",
              "      <td>100.0</td>\n",
              "      <td>11.7</td>\n",
              "      <td>1021.4</td>\n",
              "      <td>NaN</td>\n",
              "      <td>3.6</td>\n",
              "    </tr>\n",
              "    <tr>\n",
              "      <th>1</th>\n",
              "      <td>2017-01-01 01:00:00</td>\n",
              "      <td>location 7369</td>\n",
              "      <td>17.8</td>\n",
              "      <td>2.0</td>\n",
              "      <td>130.0</td>\n",
              "      <td>12.8</td>\n",
              "      <td>1022.0</td>\n",
              "      <td>0.0</td>\n",
              "      <td>3.1</td>\n",
              "    </tr>\n",
              "    <tr>\n",
              "      <th>2</th>\n",
              "      <td>2017-01-01 02:00:00</td>\n",
              "      <td>location 7369</td>\n",
              "      <td>16.1</td>\n",
              "      <td>0.0</td>\n",
              "      <td>140.0</td>\n",
              "      <td>12.8</td>\n",
              "      <td>1021.9</td>\n",
              "      <td>0.0</td>\n",
              "      <td>3.1</td>\n",
              "    </tr>\n",
              "    <tr>\n",
              "      <th>3</th>\n",
              "      <td>2017-01-01 03:00:00</td>\n",
              "      <td>location 7369</td>\n",
              "      <td>17.2</td>\n",
              "      <td>0.0</td>\n",
              "      <td>140.0</td>\n",
              "      <td>13.3</td>\n",
              "      <td>1022.2</td>\n",
              "      <td>0.0</td>\n",
              "      <td>3.1</td>\n",
              "    </tr>\n",
              "    <tr>\n",
              "      <th>4</th>\n",
              "      <td>2017-01-01 04:00:00</td>\n",
              "      <td>location 7369</td>\n",
              "      <td>16.7</td>\n",
              "      <td>2.0</td>\n",
              "      <td>130.0</td>\n",
              "      <td>13.3</td>\n",
              "      <td>1022.3</td>\n",
              "      <td>0.0</td>\n",
              "      <td>2.6</td>\n",
              "    </tr>\n",
              "  </tbody>\n",
              "</table>\n",
              "</div>"
            ],
            "text/plain": [
              "            timestamp deidentified_location  ...  precipitation  wind_speed\n",
              "0 2017-01-01 00:00:00         location 7369  ...            NaN         3.6\n",
              "1 2017-01-01 01:00:00         location 7369  ...            0.0         3.1\n",
              "2 2017-01-01 02:00:00         location 7369  ...            0.0         3.1\n",
              "3 2017-01-01 03:00:00         location 7369  ...            0.0         3.1\n",
              "4 2017-01-01 04:00:00         location 7369  ...            0.0         2.6\n",
              "\n",
              "[5 rows x 9 columns]"
            ]
          },
          "metadata": {
            "tags": []
          },
          "execution_count": 50
        }
      ]
    },
    {
      "cell_type": "code",
      "metadata": {
        "colab": {
          "base_uri": "https://localhost:8080/"
        },
        "id": "uljNRL7acXPT",
        "outputId": "47ed5cc2-b194-4692-a45b-6240c6a1ec9d"
      },
      "source": [
        "test_weather.columns"
      ],
      "execution_count": 51,
      "outputs": [
        {
          "output_type": "execute_result",
          "data": {
            "text/plain": [
              "Index(['timestamp', 'deidentified_location', 'temp_obs', 'cloudiness',\n",
              "       'wind_direction', 'dew_temp', 'pressure_sea_level', 'precipitation',\n",
              "       'wind_speed'],\n",
              "      dtype='object')"
            ]
          },
          "metadata": {
            "tags": []
          },
          "execution_count": 51
        }
      ]
    },
    {
      "cell_type": "code",
      "metadata": {
        "colab": {
          "base_uri": "https://localhost:8080/"
        },
        "id": "a-swU5EycXPT",
        "outputId": "798fa5f0-0a95-4560-e1a9-0d4966b48432"
      },
      "source": [
        "test_farm.columns"
      ],
      "execution_count": 52,
      "outputs": [
        {
          "output_type": "execute_result",
          "data": {
            "text/plain": [
              "Index(['timestamp', 'farm_id', 'ingredient_type', 'id',\n",
              "       'operations_commencing_year', 'num_processing_plants', 'farm_area',\n",
              "       'farming_company', 'deidentified_location'],\n",
              "      dtype='object')"
            ]
          },
          "metadata": {
            "tags": []
          },
          "execution_count": 52
        }
      ]
    },
    {
      "cell_type": "code",
      "metadata": {
        "id": "eveeygvlyJSp"
      },
      "source": [
        "df.drop('farm_id', axis=1, inplace=True)"
      ],
      "execution_count": null,
      "outputs": []
    },
    {
      "cell_type": "code",
      "metadata": {
        "id": "EKFQcSmKtdWC"
      },
      "source": [
        "df = final_data[final_data.farm_id == 'fid_90053']\r\n",
        "df_test = final_test_data[final_test_data.farm_id == 'fid_90053']\r\n",
        "\r\n",
        "#df_test['yield'] = 0\r\n",
        "\r\n"
      ],
      "execution_count": 48,
      "outputs": []
    },
    {
      "cell_type": "code",
      "metadata": {
        "colab": {
          "base_uri": "https://localhost:8080/",
          "height": 225
        },
        "id": "M6KVnK3GwyDM",
        "outputId": "52018c36-5b9b-4f67-ef4c-4a86007488b7"
      },
      "source": [
        "df.head()"
      ],
      "execution_count": 49,
      "outputs": [
        {
          "output_type": "execute_result",
          "data": {
            "text/html": [
              "<div>\n",
              "<style scoped>\n",
              "    .dataframe tbody tr th:only-of-type {\n",
              "        vertical-align: middle;\n",
              "    }\n",
              "\n",
              "    .dataframe tbody tr th {\n",
              "        vertical-align: top;\n",
              "    }\n",
              "\n",
              "    .dataframe thead th {\n",
              "        text-align: right;\n",
              "    }\n",
              "</style>\n",
              "<table border=\"1\" class=\"dataframe\">\n",
              "  <thead>\n",
              "    <tr style=\"text-align: right;\">\n",
              "      <th></th>\n",
              "      <th>farm_id</th>\n",
              "      <th>ingredient_type</th>\n",
              "      <th>yield</th>\n",
              "      <th>farm_area</th>\n",
              "      <th>farming_company</th>\n",
              "      <th>deidentified_location</th>\n",
              "      <th>dew_temp</th>\n",
              "      <th>pressure_sea_level</th>\n",
              "      <th>precipitation</th>\n",
              "      <th>wind_speed</th>\n",
              "    </tr>\n",
              "    <tr>\n",
              "      <th>timestamp</th>\n",
              "      <th></th>\n",
              "      <th></th>\n",
              "      <th></th>\n",
              "      <th></th>\n",
              "      <th></th>\n",
              "      <th></th>\n",
              "      <th></th>\n",
              "      <th></th>\n",
              "      <th></th>\n",
              "      <th></th>\n",
              "    </tr>\n",
              "  </thead>\n",
              "  <tbody>\n",
              "    <tr>\n",
              "      <th>2016-01-01 00:00:00</th>\n",
              "      <td>fid_90053</td>\n",
              "      <td>ing_w</td>\n",
              "      <td>0.0</td>\n",
              "      <td>252.69616</td>\n",
              "      <td>Obery Farms</td>\n",
              "      <td>location 7369</td>\n",
              "      <td>20.0</td>\n",
              "      <td>1019.7</td>\n",
              "      <td>0.793987</td>\n",
              "      <td>0.0</td>\n",
              "    </tr>\n",
              "    <tr>\n",
              "      <th>2016-01-01 01:00:00</th>\n",
              "      <td>fid_90053</td>\n",
              "      <td>ing_w</td>\n",
              "      <td>0.0</td>\n",
              "      <td>252.69616</td>\n",
              "      <td>Obery Farms</td>\n",
              "      <td>location 7369</td>\n",
              "      <td>21.1</td>\n",
              "      <td>1020.2</td>\n",
              "      <td>-1.000000</td>\n",
              "      <td>1.5</td>\n",
              "    </tr>\n",
              "    <tr>\n",
              "      <th>2016-01-01 02:00:00</th>\n",
              "      <td>fid_90053</td>\n",
              "      <td>ing_w</td>\n",
              "      <td>0.0</td>\n",
              "      <td>252.69616</td>\n",
              "      <td>Obery Farms</td>\n",
              "      <td>location 7369</td>\n",
              "      <td>21.1</td>\n",
              "      <td>1020.2</td>\n",
              "      <td>0.000000</td>\n",
              "      <td>0.0</td>\n",
              "    </tr>\n",
              "    <tr>\n",
              "      <th>2016-01-01 03:00:00</th>\n",
              "      <td>fid_90053</td>\n",
              "      <td>ing_w</td>\n",
              "      <td>0.0</td>\n",
              "      <td>252.69616</td>\n",
              "      <td>Obery Farms</td>\n",
              "      <td>location 7369</td>\n",
              "      <td>20.6</td>\n",
              "      <td>1020.1</td>\n",
              "      <td>0.000000</td>\n",
              "      <td>0.0</td>\n",
              "    </tr>\n",
              "    <tr>\n",
              "      <th>2016-01-01 04:00:00</th>\n",
              "      <td>fid_90053</td>\n",
              "      <td>ing_w</td>\n",
              "      <td>0.0</td>\n",
              "      <td>252.69616</td>\n",
              "      <td>Obery Farms</td>\n",
              "      <td>location 7369</td>\n",
              "      <td>20.0</td>\n",
              "      <td>1020.0</td>\n",
              "      <td>-1.000000</td>\n",
              "      <td>2.6</td>\n",
              "    </tr>\n",
              "  </tbody>\n",
              "</table>\n",
              "</div>"
            ],
            "text/plain": [
              "                       farm_id ingredient_type  ...  precipitation  wind_speed\n",
              "timestamp                                       ...                           \n",
              "2016-01-01 00:00:00  fid_90053           ing_w  ...       0.793987         0.0\n",
              "2016-01-01 01:00:00  fid_90053           ing_w  ...      -1.000000         1.5\n",
              "2016-01-01 02:00:00  fid_90053           ing_w  ...       0.000000         0.0\n",
              "2016-01-01 03:00:00  fid_90053           ing_w  ...       0.000000         0.0\n",
              "2016-01-01 04:00:00  fid_90053           ing_w  ...      -1.000000         2.6\n",
              "\n",
              "[5 rows x 10 columns]"
            ]
          },
          "metadata": {
            "tags": []
          },
          "execution_count": 49
        }
      ]
    },
    {
      "cell_type": "code",
      "metadata": {
        "id": "jlSr8pqtv6kR"
      },
      "source": [
        "df_test = df_test[['ingredient_type','dew_temp','pressure_sea_level','precipitation','wind_speed']]"
      ],
      "execution_count": 50,
      "outputs": []
    },
    {
      "cell_type": "code",
      "metadata": {
        "id": "vavXK8KKwA6h"
      },
      "source": [
        "df_test['yield'] = 0"
      ],
      "execution_count": 51,
      "outputs": []
    },
    {
      "cell_type": "code",
      "metadata": {
        "colab": {
          "base_uri": "https://localhost:8080/",
          "height": 225
        },
        "id": "Ds8Raw3VyRrq",
        "outputId": "ea3baf48-6da7-43a8-ffd3-067549d286e1"
      },
      "source": [
        "df.columns\r\n",
        "\r\n",
        "col = df.pop(\"yield\")\r\n",
        "df.insert(0, col.name, col)\r\n",
        "df.head()"
      ],
      "execution_count": 52,
      "outputs": [
        {
          "output_type": "execute_result",
          "data": {
            "text/html": [
              "<div>\n",
              "<style scoped>\n",
              "    .dataframe tbody tr th:only-of-type {\n",
              "        vertical-align: middle;\n",
              "    }\n",
              "\n",
              "    .dataframe tbody tr th {\n",
              "        vertical-align: top;\n",
              "    }\n",
              "\n",
              "    .dataframe thead th {\n",
              "        text-align: right;\n",
              "    }\n",
              "</style>\n",
              "<table border=\"1\" class=\"dataframe\">\n",
              "  <thead>\n",
              "    <tr style=\"text-align: right;\">\n",
              "      <th></th>\n",
              "      <th>yield</th>\n",
              "      <th>farm_id</th>\n",
              "      <th>ingredient_type</th>\n",
              "      <th>farm_area</th>\n",
              "      <th>farming_company</th>\n",
              "      <th>deidentified_location</th>\n",
              "      <th>dew_temp</th>\n",
              "      <th>pressure_sea_level</th>\n",
              "      <th>precipitation</th>\n",
              "      <th>wind_speed</th>\n",
              "    </tr>\n",
              "    <tr>\n",
              "      <th>timestamp</th>\n",
              "      <th></th>\n",
              "      <th></th>\n",
              "      <th></th>\n",
              "      <th></th>\n",
              "      <th></th>\n",
              "      <th></th>\n",
              "      <th></th>\n",
              "      <th></th>\n",
              "      <th></th>\n",
              "      <th></th>\n",
              "    </tr>\n",
              "  </thead>\n",
              "  <tbody>\n",
              "    <tr>\n",
              "      <th>2016-01-01 00:00:00</th>\n",
              "      <td>0.0</td>\n",
              "      <td>fid_90053</td>\n",
              "      <td>ing_w</td>\n",
              "      <td>252.69616</td>\n",
              "      <td>Obery Farms</td>\n",
              "      <td>location 7369</td>\n",
              "      <td>20.0</td>\n",
              "      <td>1019.7</td>\n",
              "      <td>0.793987</td>\n",
              "      <td>0.0</td>\n",
              "    </tr>\n",
              "    <tr>\n",
              "      <th>2016-01-01 01:00:00</th>\n",
              "      <td>0.0</td>\n",
              "      <td>fid_90053</td>\n",
              "      <td>ing_w</td>\n",
              "      <td>252.69616</td>\n",
              "      <td>Obery Farms</td>\n",
              "      <td>location 7369</td>\n",
              "      <td>21.1</td>\n",
              "      <td>1020.2</td>\n",
              "      <td>-1.000000</td>\n",
              "      <td>1.5</td>\n",
              "    </tr>\n",
              "    <tr>\n",
              "      <th>2016-01-01 02:00:00</th>\n",
              "      <td>0.0</td>\n",
              "      <td>fid_90053</td>\n",
              "      <td>ing_w</td>\n",
              "      <td>252.69616</td>\n",
              "      <td>Obery Farms</td>\n",
              "      <td>location 7369</td>\n",
              "      <td>21.1</td>\n",
              "      <td>1020.2</td>\n",
              "      <td>0.000000</td>\n",
              "      <td>0.0</td>\n",
              "    </tr>\n",
              "    <tr>\n",
              "      <th>2016-01-01 03:00:00</th>\n",
              "      <td>0.0</td>\n",
              "      <td>fid_90053</td>\n",
              "      <td>ing_w</td>\n",
              "      <td>252.69616</td>\n",
              "      <td>Obery Farms</td>\n",
              "      <td>location 7369</td>\n",
              "      <td>20.6</td>\n",
              "      <td>1020.1</td>\n",
              "      <td>0.000000</td>\n",
              "      <td>0.0</td>\n",
              "    </tr>\n",
              "    <tr>\n",
              "      <th>2016-01-01 04:00:00</th>\n",
              "      <td>0.0</td>\n",
              "      <td>fid_90053</td>\n",
              "      <td>ing_w</td>\n",
              "      <td>252.69616</td>\n",
              "      <td>Obery Farms</td>\n",
              "      <td>location 7369</td>\n",
              "      <td>20.0</td>\n",
              "      <td>1020.0</td>\n",
              "      <td>-1.000000</td>\n",
              "      <td>2.6</td>\n",
              "    </tr>\n",
              "  </tbody>\n",
              "</table>\n",
              "</div>"
            ],
            "text/plain": [
              "                     yield    farm_id  ... precipitation  wind_speed\n",
              "timestamp                              ...                          \n",
              "2016-01-01 00:00:00    0.0  fid_90053  ...      0.793987         0.0\n",
              "2016-01-01 01:00:00    0.0  fid_90053  ...     -1.000000         1.5\n",
              "2016-01-01 02:00:00    0.0  fid_90053  ...      0.000000         0.0\n",
              "2016-01-01 03:00:00    0.0  fid_90053  ...      0.000000         0.0\n",
              "2016-01-01 04:00:00    0.0  fid_90053  ...     -1.000000         2.6\n",
              "\n",
              "[5 rows x 10 columns]"
            ]
          },
          "metadata": {
            "tags": []
          },
          "execution_count": 52
        }
      ]
    },
    {
      "cell_type": "code",
      "metadata": {
        "colab": {
          "base_uri": "https://localhost:8080/",
          "height": 225
        },
        "id": "BiEGa5ZIwL4B",
        "outputId": "3d9a57d7-1fe4-4b74-cb51-161841f5b796"
      },
      "source": [
        "df_test.columns\r\n",
        "\r\n",
        "col = df_test.pop(\"yield\")\r\n",
        "df_test.insert(0, col.name, col)\r\n",
        "df_test.head()"
      ],
      "execution_count": 53,
      "outputs": [
        {
          "output_type": "execute_result",
          "data": {
            "text/html": [
              "<div>\n",
              "<style scoped>\n",
              "    .dataframe tbody tr th:only-of-type {\n",
              "        vertical-align: middle;\n",
              "    }\n",
              "\n",
              "    .dataframe tbody tr th {\n",
              "        vertical-align: top;\n",
              "    }\n",
              "\n",
              "    .dataframe thead th {\n",
              "        text-align: right;\n",
              "    }\n",
              "</style>\n",
              "<table border=\"1\" class=\"dataframe\">\n",
              "  <thead>\n",
              "    <tr style=\"text-align: right;\">\n",
              "      <th></th>\n",
              "      <th>yield</th>\n",
              "      <th>ingredient_type</th>\n",
              "      <th>dew_temp</th>\n",
              "      <th>pressure_sea_level</th>\n",
              "      <th>precipitation</th>\n",
              "      <th>wind_speed</th>\n",
              "    </tr>\n",
              "    <tr>\n",
              "      <th>timestamp</th>\n",
              "      <th></th>\n",
              "      <th></th>\n",
              "      <th></th>\n",
              "      <th></th>\n",
              "      <th></th>\n",
              "      <th></th>\n",
              "    </tr>\n",
              "  </thead>\n",
              "  <tbody>\n",
              "    <tr>\n",
              "      <th>2017-01-01 00:00:00</th>\n",
              "      <td>0</td>\n",
              "      <td>ing_w</td>\n",
              "      <td>11.7</td>\n",
              "      <td>1021.4</td>\n",
              "      <td>0.808699</td>\n",
              "      <td>3.6</td>\n",
              "    </tr>\n",
              "    <tr>\n",
              "      <th>2017-01-01 01:00:00</th>\n",
              "      <td>0</td>\n",
              "      <td>ing_w</td>\n",
              "      <td>12.8</td>\n",
              "      <td>1022.0</td>\n",
              "      <td>0.000000</td>\n",
              "      <td>3.1</td>\n",
              "    </tr>\n",
              "    <tr>\n",
              "      <th>2017-01-01 02:00:00</th>\n",
              "      <td>0</td>\n",
              "      <td>ing_w</td>\n",
              "      <td>12.8</td>\n",
              "      <td>1021.9</td>\n",
              "      <td>0.000000</td>\n",
              "      <td>3.1</td>\n",
              "    </tr>\n",
              "    <tr>\n",
              "      <th>2017-01-01 03:00:00</th>\n",
              "      <td>0</td>\n",
              "      <td>ing_w</td>\n",
              "      <td>13.3</td>\n",
              "      <td>1022.2</td>\n",
              "      <td>0.000000</td>\n",
              "      <td>3.1</td>\n",
              "    </tr>\n",
              "    <tr>\n",
              "      <th>2017-01-01 04:00:00</th>\n",
              "      <td>0</td>\n",
              "      <td>ing_w</td>\n",
              "      <td>13.3</td>\n",
              "      <td>1022.3</td>\n",
              "      <td>0.000000</td>\n",
              "      <td>2.6</td>\n",
              "    </tr>\n",
              "  </tbody>\n",
              "</table>\n",
              "</div>"
            ],
            "text/plain": [
              "                     yield ingredient_type  ...  precipitation  wind_speed\n",
              "timestamp                                   ...                           \n",
              "2017-01-01 00:00:00      0           ing_w  ...       0.808699         3.6\n",
              "2017-01-01 01:00:00      0           ing_w  ...       0.000000         3.1\n",
              "2017-01-01 02:00:00      0           ing_w  ...       0.000000         3.1\n",
              "2017-01-01 03:00:00      0           ing_w  ...       0.000000         3.1\n",
              "2017-01-01 04:00:00      0           ing_w  ...       0.000000         2.6\n",
              "\n",
              "[5 rows x 6 columns]"
            ]
          },
          "metadata": {
            "tags": []
          },
          "execution_count": 53
        }
      ]
    },
    {
      "cell_type": "code",
      "metadata": {
        "colab": {
          "base_uri": "https://localhost:8080/",
          "height": 225
        },
        "id": "uzJ5C9GAvdem",
        "outputId": "19bab47f-43ef-4e0e-d2d0-30bb0733ef35"
      },
      "source": [
        "df_test.columns\r\n",
        "\r\n",
        "col = df_test.pop(\"yield\")\r\n",
        "df_test.insert(0, col.name, col)\r\n",
        "df_test.head()"
      ],
      "execution_count": 54,
      "outputs": [
        {
          "output_type": "execute_result",
          "data": {
            "text/html": [
              "<div>\n",
              "<style scoped>\n",
              "    .dataframe tbody tr th:only-of-type {\n",
              "        vertical-align: middle;\n",
              "    }\n",
              "\n",
              "    .dataframe tbody tr th {\n",
              "        vertical-align: top;\n",
              "    }\n",
              "\n",
              "    .dataframe thead th {\n",
              "        text-align: right;\n",
              "    }\n",
              "</style>\n",
              "<table border=\"1\" class=\"dataframe\">\n",
              "  <thead>\n",
              "    <tr style=\"text-align: right;\">\n",
              "      <th></th>\n",
              "      <th>yield</th>\n",
              "      <th>ingredient_type</th>\n",
              "      <th>dew_temp</th>\n",
              "      <th>pressure_sea_level</th>\n",
              "      <th>precipitation</th>\n",
              "      <th>wind_speed</th>\n",
              "    </tr>\n",
              "    <tr>\n",
              "      <th>timestamp</th>\n",
              "      <th></th>\n",
              "      <th></th>\n",
              "      <th></th>\n",
              "      <th></th>\n",
              "      <th></th>\n",
              "      <th></th>\n",
              "    </tr>\n",
              "  </thead>\n",
              "  <tbody>\n",
              "    <tr>\n",
              "      <th>2017-01-01 00:00:00</th>\n",
              "      <td>0</td>\n",
              "      <td>ing_w</td>\n",
              "      <td>11.7</td>\n",
              "      <td>1021.4</td>\n",
              "      <td>0.808699</td>\n",
              "      <td>3.6</td>\n",
              "    </tr>\n",
              "    <tr>\n",
              "      <th>2017-01-01 01:00:00</th>\n",
              "      <td>0</td>\n",
              "      <td>ing_w</td>\n",
              "      <td>12.8</td>\n",
              "      <td>1022.0</td>\n",
              "      <td>0.000000</td>\n",
              "      <td>3.1</td>\n",
              "    </tr>\n",
              "    <tr>\n",
              "      <th>2017-01-01 02:00:00</th>\n",
              "      <td>0</td>\n",
              "      <td>ing_w</td>\n",
              "      <td>12.8</td>\n",
              "      <td>1021.9</td>\n",
              "      <td>0.000000</td>\n",
              "      <td>3.1</td>\n",
              "    </tr>\n",
              "    <tr>\n",
              "      <th>2017-01-01 03:00:00</th>\n",
              "      <td>0</td>\n",
              "      <td>ing_w</td>\n",
              "      <td>13.3</td>\n",
              "      <td>1022.2</td>\n",
              "      <td>0.000000</td>\n",
              "      <td>3.1</td>\n",
              "    </tr>\n",
              "    <tr>\n",
              "      <th>2017-01-01 04:00:00</th>\n",
              "      <td>0</td>\n",
              "      <td>ing_w</td>\n",
              "      <td>13.3</td>\n",
              "      <td>1022.3</td>\n",
              "      <td>0.000000</td>\n",
              "      <td>2.6</td>\n",
              "    </tr>\n",
              "  </tbody>\n",
              "</table>\n",
              "</div>"
            ],
            "text/plain": [
              "                     yield ingredient_type  ...  precipitation  wind_speed\n",
              "timestamp                                   ...                           \n",
              "2017-01-01 00:00:00      0           ing_w  ...       0.808699         3.6\n",
              "2017-01-01 01:00:00      0           ing_w  ...       0.000000         3.1\n",
              "2017-01-01 02:00:00      0           ing_w  ...       0.000000         3.1\n",
              "2017-01-01 03:00:00      0           ing_w  ...       0.000000         3.1\n",
              "2017-01-01 04:00:00      0           ing_w  ...       0.000000         2.6\n",
              "\n",
              "[5 rows x 6 columns]"
            ]
          },
          "metadata": {
            "tags": []
          },
          "execution_count": 54
        }
      ]
    },
    {
      "cell_type": "code",
      "metadata": {
        "id": "laSoYf5awgGg"
      },
      "source": [
        "df = df.append(df_test)"
      ],
      "execution_count": 55,
      "outputs": []
    },
    {
      "cell_type": "code",
      "metadata": {
        "colab": {
          "base_uri": "https://localhost:8080/",
          "height": 225
        },
        "id": "2A3KavuvwmFT",
        "outputId": "b6053aac-5d74-4863-afef-152a9d521d4c"
      },
      "source": [
        "df.head()"
      ],
      "execution_count": 56,
      "outputs": [
        {
          "output_type": "execute_result",
          "data": {
            "text/html": [
              "<div>\n",
              "<style scoped>\n",
              "    .dataframe tbody tr th:only-of-type {\n",
              "        vertical-align: middle;\n",
              "    }\n",
              "\n",
              "    .dataframe tbody tr th {\n",
              "        vertical-align: top;\n",
              "    }\n",
              "\n",
              "    .dataframe thead th {\n",
              "        text-align: right;\n",
              "    }\n",
              "</style>\n",
              "<table border=\"1\" class=\"dataframe\">\n",
              "  <thead>\n",
              "    <tr style=\"text-align: right;\">\n",
              "      <th></th>\n",
              "      <th>yield</th>\n",
              "      <th>farm_id</th>\n",
              "      <th>ingredient_type</th>\n",
              "      <th>farm_area</th>\n",
              "      <th>farming_company</th>\n",
              "      <th>deidentified_location</th>\n",
              "      <th>dew_temp</th>\n",
              "      <th>pressure_sea_level</th>\n",
              "      <th>precipitation</th>\n",
              "      <th>wind_speed</th>\n",
              "    </tr>\n",
              "    <tr>\n",
              "      <th>timestamp</th>\n",
              "      <th></th>\n",
              "      <th></th>\n",
              "      <th></th>\n",
              "      <th></th>\n",
              "      <th></th>\n",
              "      <th></th>\n",
              "      <th></th>\n",
              "      <th></th>\n",
              "      <th></th>\n",
              "      <th></th>\n",
              "    </tr>\n",
              "  </thead>\n",
              "  <tbody>\n",
              "    <tr>\n",
              "      <th>2016-01-01 00:00:00</th>\n",
              "      <td>0.0</td>\n",
              "      <td>fid_90053</td>\n",
              "      <td>ing_w</td>\n",
              "      <td>252.69616</td>\n",
              "      <td>Obery Farms</td>\n",
              "      <td>location 7369</td>\n",
              "      <td>20.0</td>\n",
              "      <td>1019.7</td>\n",
              "      <td>0.793987</td>\n",
              "      <td>0.0</td>\n",
              "    </tr>\n",
              "    <tr>\n",
              "      <th>2016-01-01 01:00:00</th>\n",
              "      <td>0.0</td>\n",
              "      <td>fid_90053</td>\n",
              "      <td>ing_w</td>\n",
              "      <td>252.69616</td>\n",
              "      <td>Obery Farms</td>\n",
              "      <td>location 7369</td>\n",
              "      <td>21.1</td>\n",
              "      <td>1020.2</td>\n",
              "      <td>-1.000000</td>\n",
              "      <td>1.5</td>\n",
              "    </tr>\n",
              "    <tr>\n",
              "      <th>2016-01-01 02:00:00</th>\n",
              "      <td>0.0</td>\n",
              "      <td>fid_90053</td>\n",
              "      <td>ing_w</td>\n",
              "      <td>252.69616</td>\n",
              "      <td>Obery Farms</td>\n",
              "      <td>location 7369</td>\n",
              "      <td>21.1</td>\n",
              "      <td>1020.2</td>\n",
              "      <td>0.000000</td>\n",
              "      <td>0.0</td>\n",
              "    </tr>\n",
              "    <tr>\n",
              "      <th>2016-01-01 03:00:00</th>\n",
              "      <td>0.0</td>\n",
              "      <td>fid_90053</td>\n",
              "      <td>ing_w</td>\n",
              "      <td>252.69616</td>\n",
              "      <td>Obery Farms</td>\n",
              "      <td>location 7369</td>\n",
              "      <td>20.6</td>\n",
              "      <td>1020.1</td>\n",
              "      <td>0.000000</td>\n",
              "      <td>0.0</td>\n",
              "    </tr>\n",
              "    <tr>\n",
              "      <th>2016-01-01 04:00:00</th>\n",
              "      <td>0.0</td>\n",
              "      <td>fid_90053</td>\n",
              "      <td>ing_w</td>\n",
              "      <td>252.69616</td>\n",
              "      <td>Obery Farms</td>\n",
              "      <td>location 7369</td>\n",
              "      <td>20.0</td>\n",
              "      <td>1020.0</td>\n",
              "      <td>-1.000000</td>\n",
              "      <td>2.6</td>\n",
              "    </tr>\n",
              "  </tbody>\n",
              "</table>\n",
              "</div>"
            ],
            "text/plain": [
              "                     yield    farm_id  ... precipitation  wind_speed\n",
              "timestamp                              ...                          \n",
              "2016-01-01 00:00:00    0.0  fid_90053  ...      0.793987         0.0\n",
              "2016-01-01 01:00:00    0.0  fid_90053  ...     -1.000000         1.5\n",
              "2016-01-01 02:00:00    0.0  fid_90053  ...      0.000000         0.0\n",
              "2016-01-01 03:00:00    0.0  fid_90053  ...      0.000000         0.0\n",
              "2016-01-01 04:00:00    0.0  fid_90053  ...     -1.000000         2.6\n",
              "\n",
              "[5 rows x 10 columns]"
            ]
          },
          "metadata": {
            "tags": []
          },
          "execution_count": 56
        }
      ]
    },
    {
      "cell_type": "code",
      "metadata": {
        "id": "dbyJ3dVlyg7h"
      },
      "source": [
        "def series_to_supervised(data, n_in=1, n_out=1, dropnan=True):\r\n",
        "    n_vars = 1 if type(data) is list else data.shape[1]\r\n",
        "    df = pd.DataFrame(data)\r\n",
        "    cols, names = list(), list()\r\n",
        "    # input sequence (t-n, ... t-1)\r\n",
        "    for i in range(n_in, 0, -1):\r\n",
        "        cols.append(df.shift(i))\r\n",
        "        names += [('var%d(t-%d)' % (j+1, i)) for j in range(n_vars)]\r\n",
        "    # forecast sequence (t, t+1, ... t+n)\r\n",
        "    for i in range(0, n_out):\r\n",
        "        cols.append(df.shift(-i))\r\n",
        "        if i == 0:\r\n",
        "            names += [('var%d(t)' % (j+1)) for j in range(n_vars)]\r\n",
        "        else:\r\n",
        "            names += [('var%d(t+%d)' % (j+1, i)) for j in range(n_vars)]\r\n",
        "    # put it all together\r\n",
        "    agg = pd.concat(cols, axis=1)\r\n",
        "    agg.columns = names\r\n",
        "    # drop rows with NaN values\r\n",
        "    if dropnan:\r\n",
        "        agg.dropna(inplace=True)\r\n",
        "    return agg\r\n"
      ],
      "execution_count": 61,
      "outputs": []
    },
    {
      "cell_type": "code",
      "metadata": {
        "id": "UfgWgiZIy8wL"
      },
      "source": [
        "df.drop(['deidentified_location', 'farming_company','farm_area'], axis=1, inplace=True)"
      ],
      "execution_count": 58,
      "outputs": []
    },
    {
      "cell_type": "code",
      "metadata": {
        "colab": {
          "base_uri": "https://localhost:8080/",
          "height": 225
        },
        "id": "QZNMYdQxJgHW",
        "outputId": "da8e7940-1e6b-4e0d-bf3a-ce90e39a49ed"
      },
      "source": [
        "df.columns\r\n",
        "\r\n",
        "col = df.pop(\"yield\")\r\n",
        "df.insert(0, col.name, col)\r\n",
        "df.head()"
      ],
      "execution_count": 59,
      "outputs": [
        {
          "output_type": "execute_result",
          "data": {
            "text/html": [
              "<div>\n",
              "<style scoped>\n",
              "    .dataframe tbody tr th:only-of-type {\n",
              "        vertical-align: middle;\n",
              "    }\n",
              "\n",
              "    .dataframe tbody tr th {\n",
              "        vertical-align: top;\n",
              "    }\n",
              "\n",
              "    .dataframe thead th {\n",
              "        text-align: right;\n",
              "    }\n",
              "</style>\n",
              "<table border=\"1\" class=\"dataframe\">\n",
              "  <thead>\n",
              "    <tr style=\"text-align: right;\">\n",
              "      <th></th>\n",
              "      <th>yield</th>\n",
              "      <th>farm_id</th>\n",
              "      <th>ingredient_type</th>\n",
              "      <th>dew_temp</th>\n",
              "      <th>pressure_sea_level</th>\n",
              "      <th>precipitation</th>\n",
              "      <th>wind_speed</th>\n",
              "    </tr>\n",
              "    <tr>\n",
              "      <th>timestamp</th>\n",
              "      <th></th>\n",
              "      <th></th>\n",
              "      <th></th>\n",
              "      <th></th>\n",
              "      <th></th>\n",
              "      <th></th>\n",
              "      <th></th>\n",
              "    </tr>\n",
              "  </thead>\n",
              "  <tbody>\n",
              "    <tr>\n",
              "      <th>2016-01-01 00:00:00</th>\n",
              "      <td>0.0</td>\n",
              "      <td>fid_90053</td>\n",
              "      <td>ing_w</td>\n",
              "      <td>20.0</td>\n",
              "      <td>1019.7</td>\n",
              "      <td>0.793987</td>\n",
              "      <td>0.0</td>\n",
              "    </tr>\n",
              "    <tr>\n",
              "      <th>2016-01-01 01:00:00</th>\n",
              "      <td>0.0</td>\n",
              "      <td>fid_90053</td>\n",
              "      <td>ing_w</td>\n",
              "      <td>21.1</td>\n",
              "      <td>1020.2</td>\n",
              "      <td>-1.000000</td>\n",
              "      <td>1.5</td>\n",
              "    </tr>\n",
              "    <tr>\n",
              "      <th>2016-01-01 02:00:00</th>\n",
              "      <td>0.0</td>\n",
              "      <td>fid_90053</td>\n",
              "      <td>ing_w</td>\n",
              "      <td>21.1</td>\n",
              "      <td>1020.2</td>\n",
              "      <td>0.000000</td>\n",
              "      <td>0.0</td>\n",
              "    </tr>\n",
              "    <tr>\n",
              "      <th>2016-01-01 03:00:00</th>\n",
              "      <td>0.0</td>\n",
              "      <td>fid_90053</td>\n",
              "      <td>ing_w</td>\n",
              "      <td>20.6</td>\n",
              "      <td>1020.1</td>\n",
              "      <td>0.000000</td>\n",
              "      <td>0.0</td>\n",
              "    </tr>\n",
              "    <tr>\n",
              "      <th>2016-01-01 04:00:00</th>\n",
              "      <td>0.0</td>\n",
              "      <td>fid_90053</td>\n",
              "      <td>ing_w</td>\n",
              "      <td>20.0</td>\n",
              "      <td>1020.0</td>\n",
              "      <td>-1.000000</td>\n",
              "      <td>2.6</td>\n",
              "    </tr>\n",
              "  </tbody>\n",
              "</table>\n",
              "</div>"
            ],
            "text/plain": [
              "                     yield    farm_id  ... precipitation  wind_speed\n",
              "timestamp                              ...                          \n",
              "2016-01-01 00:00:00    0.0  fid_90053  ...      0.793987         0.0\n",
              "2016-01-01 01:00:00    0.0  fid_90053  ...     -1.000000         1.5\n",
              "2016-01-01 02:00:00    0.0  fid_90053  ...      0.000000         0.0\n",
              "2016-01-01 03:00:00    0.0  fid_90053  ...      0.000000         0.0\n",
              "2016-01-01 04:00:00    0.0  fid_90053  ...     -1.000000         2.6\n",
              "\n",
              "[5 rows x 7 columns]"
            ]
          },
          "metadata": {
            "tags": []
          },
          "execution_count": 59
        }
      ]
    },
    {
      "cell_type": "code",
      "metadata": {
        "id": "gtOBY2YvxSSJ"
      },
      "source": [
        "df.drop('farm_id', axis=1, inplace=True)"
      ],
      "execution_count": 60,
      "outputs": []
    },
    {
      "cell_type": "code",
      "metadata": {
        "colab": {
          "base_uri": "https://localhost:8080/"
        },
        "id": "VR5OygjFzpnu",
        "outputId": "4b81da31-a108-49e8-9b46-74e4443679ca"
      },
      "source": [
        "labelEncoder = LabelEncoder()\r\n",
        "df['ingredient_type'] = labelEncoder.fit_transform(df['ingredient_type'])\r\n",
        "values = df.values\r\n",
        "print(values.shape)\r\n",
        "values = values.astype('float32')"
      ],
      "execution_count": 61,
      "outputs": [
        {
          "output_type": "stream",
          "text": [
            "(17544, 6)\n"
          ],
          "name": "stdout"
        }
      ]
    },
    {
      "cell_type": "code",
      "metadata": {
        "id": "OzBF7CMd0Ogi",
        "colab": {
          "base_uri": "https://localhost:8080/"
        },
        "outputId": "e1413f95-b7cd-4de8-cd61-16f15835c024"
      },
      "source": [
        "df.shape"
      ],
      "execution_count": 62,
      "outputs": [
        {
          "output_type": "execute_result",
          "data": {
            "text/plain": [
              "(17544, 6)"
            ]
          },
          "metadata": {
            "tags": []
          },
          "execution_count": 62
        }
      ]
    },
    {
      "cell_type": "code",
      "metadata": {
        "colab": {
          "base_uri": "https://localhost:8080/",
          "height": 402
        },
        "id": "yl0_8_9Tza3b",
        "outputId": "ff3a9392-3829-4416-c9ec-e28def4ff20a"
      },
      "source": [
        "series_to_supervised(values,1,1)"
      ],
      "execution_count": 63,
      "outputs": [
        {
          "output_type": "execute_result",
          "data": {
            "text/html": [
              "<div>\n",
              "<style scoped>\n",
              "    .dataframe tbody tr th:only-of-type {\n",
              "        vertical-align: middle;\n",
              "    }\n",
              "\n",
              "    .dataframe tbody tr th {\n",
              "        vertical-align: top;\n",
              "    }\n",
              "\n",
              "    .dataframe thead th {\n",
              "        text-align: right;\n",
              "    }\n",
              "</style>\n",
              "<table border=\"1\" class=\"dataframe\">\n",
              "  <thead>\n",
              "    <tr style=\"text-align: right;\">\n",
              "      <th></th>\n",
              "      <th>var1(t-1)</th>\n",
              "      <th>var2(t-1)</th>\n",
              "      <th>var3(t-1)</th>\n",
              "      <th>var4(t-1)</th>\n",
              "      <th>var5(t-1)</th>\n",
              "      <th>var6(t-1)</th>\n",
              "      <th>var1(t)</th>\n",
              "      <th>var2(t)</th>\n",
              "      <th>var3(t)</th>\n",
              "      <th>var4(t)</th>\n",
              "      <th>var5(t)</th>\n",
              "      <th>var6(t)</th>\n",
              "    </tr>\n",
              "  </thead>\n",
              "  <tbody>\n",
              "    <tr>\n",
              "      <th>1</th>\n",
              "      <td>0.0</td>\n",
              "      <td>0.0</td>\n",
              "      <td>20.0</td>\n",
              "      <td>1019.700012</td>\n",
              "      <td>0.793987</td>\n",
              "      <td>0.0</td>\n",
              "      <td>0.0</td>\n",
              "      <td>0.0</td>\n",
              "      <td>21.1</td>\n",
              "      <td>1020.200012</td>\n",
              "      <td>-1.0</td>\n",
              "      <td>1.5</td>\n",
              "    </tr>\n",
              "    <tr>\n",
              "      <th>2</th>\n",
              "      <td>0.0</td>\n",
              "      <td>0.0</td>\n",
              "      <td>21.1</td>\n",
              "      <td>1020.200012</td>\n",
              "      <td>-1.000000</td>\n",
              "      <td>1.5</td>\n",
              "      <td>0.0</td>\n",
              "      <td>0.0</td>\n",
              "      <td>21.1</td>\n",
              "      <td>1020.200012</td>\n",
              "      <td>0.0</td>\n",
              "      <td>0.0</td>\n",
              "    </tr>\n",
              "    <tr>\n",
              "      <th>3</th>\n",
              "      <td>0.0</td>\n",
              "      <td>0.0</td>\n",
              "      <td>21.1</td>\n",
              "      <td>1020.200012</td>\n",
              "      <td>0.000000</td>\n",
              "      <td>0.0</td>\n",
              "      <td>0.0</td>\n",
              "      <td>0.0</td>\n",
              "      <td>20.6</td>\n",
              "      <td>1020.099976</td>\n",
              "      <td>0.0</td>\n",
              "      <td>0.0</td>\n",
              "    </tr>\n",
              "    <tr>\n",
              "      <th>4</th>\n",
              "      <td>0.0</td>\n",
              "      <td>0.0</td>\n",
              "      <td>20.6</td>\n",
              "      <td>1020.099976</td>\n",
              "      <td>0.000000</td>\n",
              "      <td>0.0</td>\n",
              "      <td>0.0</td>\n",
              "      <td>0.0</td>\n",
              "      <td>20.0</td>\n",
              "      <td>1020.000000</td>\n",
              "      <td>-1.0</td>\n",
              "      <td>2.6</td>\n",
              "    </tr>\n",
              "    <tr>\n",
              "      <th>5</th>\n",
              "      <td>0.0</td>\n",
              "      <td>0.0</td>\n",
              "      <td>20.0</td>\n",
              "      <td>1020.000000</td>\n",
              "      <td>-1.000000</td>\n",
              "      <td>2.6</td>\n",
              "      <td>0.0</td>\n",
              "      <td>0.0</td>\n",
              "      <td>19.4</td>\n",
              "      <td>1016.084717</td>\n",
              "      <td>0.0</td>\n",
              "      <td>0.0</td>\n",
              "    </tr>\n",
              "    <tr>\n",
              "      <th>...</th>\n",
              "      <td>...</td>\n",
              "      <td>...</td>\n",
              "      <td>...</td>\n",
              "      <td>...</td>\n",
              "      <td>...</td>\n",
              "      <td>...</td>\n",
              "      <td>...</td>\n",
              "      <td>...</td>\n",
              "      <td>...</td>\n",
              "      <td>...</td>\n",
              "      <td>...</td>\n",
              "      <td>...</td>\n",
              "    </tr>\n",
              "    <tr>\n",
              "      <th>17539</th>\n",
              "      <td>0.0</td>\n",
              "      <td>0.0</td>\n",
              "      <td>6.7</td>\n",
              "      <td>1021.099976</td>\n",
              "      <td>0.000000</td>\n",
              "      <td>0.0</td>\n",
              "      <td>0.0</td>\n",
              "      <td>0.0</td>\n",
              "      <td>7.2</td>\n",
              "      <td>1019.400024</td>\n",
              "      <td>0.0</td>\n",
              "      <td>2.6</td>\n",
              "    </tr>\n",
              "    <tr>\n",
              "      <th>17540</th>\n",
              "      <td>0.0</td>\n",
              "      <td>0.0</td>\n",
              "      <td>7.2</td>\n",
              "      <td>1019.400024</td>\n",
              "      <td>0.000000</td>\n",
              "      <td>2.6</td>\n",
              "      <td>0.0</td>\n",
              "      <td>0.0</td>\n",
              "      <td>8.3</td>\n",
              "      <td>1019.099976</td>\n",
              "      <td>0.0</td>\n",
              "      <td>1.5</td>\n",
              "    </tr>\n",
              "    <tr>\n",
              "      <th>17541</th>\n",
              "      <td>0.0</td>\n",
              "      <td>0.0</td>\n",
              "      <td>8.3</td>\n",
              "      <td>1019.099976</td>\n",
              "      <td>0.000000</td>\n",
              "      <td>1.5</td>\n",
              "      <td>0.0</td>\n",
              "      <td>0.0</td>\n",
              "      <td>8.9</td>\n",
              "      <td>1019.200012</td>\n",
              "      <td>0.0</td>\n",
              "      <td>1.5</td>\n",
              "    </tr>\n",
              "    <tr>\n",
              "      <th>17542</th>\n",
              "      <td>0.0</td>\n",
              "      <td>0.0</td>\n",
              "      <td>8.9</td>\n",
              "      <td>1019.200012</td>\n",
              "      <td>0.000000</td>\n",
              "      <td>1.5</td>\n",
              "      <td>0.0</td>\n",
              "      <td>0.0</td>\n",
              "      <td>8.9</td>\n",
              "      <td>1019.200012</td>\n",
              "      <td>0.0</td>\n",
              "      <td>1.5</td>\n",
              "    </tr>\n",
              "    <tr>\n",
              "      <th>17543</th>\n",
              "      <td>0.0</td>\n",
              "      <td>0.0</td>\n",
              "      <td>8.9</td>\n",
              "      <td>1019.200012</td>\n",
              "      <td>0.000000</td>\n",
              "      <td>1.5</td>\n",
              "      <td>0.0</td>\n",
              "      <td>0.0</td>\n",
              "      <td>9.4</td>\n",
              "      <td>1019.599976</td>\n",
              "      <td>0.0</td>\n",
              "      <td>1.5</td>\n",
              "    </tr>\n",
              "  </tbody>\n",
              "</table>\n",
              "<p>17543 rows × 12 columns</p>\n",
              "</div>"
            ],
            "text/plain": [
              "       var1(t-1)  var2(t-1)  var3(t-1)  ...      var4(t)  var5(t)  var6(t)\n",
              "1            0.0        0.0       20.0  ...  1020.200012     -1.0      1.5\n",
              "2            0.0        0.0       21.1  ...  1020.200012      0.0      0.0\n",
              "3            0.0        0.0       21.1  ...  1020.099976      0.0      0.0\n",
              "4            0.0        0.0       20.6  ...  1020.000000     -1.0      2.6\n",
              "5            0.0        0.0       20.0  ...  1016.084717      0.0      0.0\n",
              "...          ...        ...        ...  ...          ...      ...      ...\n",
              "17539        0.0        0.0        6.7  ...  1019.400024      0.0      2.6\n",
              "17540        0.0        0.0        7.2  ...  1019.099976      0.0      1.5\n",
              "17541        0.0        0.0        8.3  ...  1019.200012      0.0      1.5\n",
              "17542        0.0        0.0        8.9  ...  1019.200012      0.0      1.5\n",
              "17543        0.0        0.0        8.9  ...  1019.599976      0.0      1.5\n",
              "\n",
              "[17543 rows x 12 columns]"
            ]
          },
          "metadata": {
            "tags": []
          },
          "execution_count": 63
        }
      ]
    },
    {
      "cell_type": "code",
      "metadata": {
        "colab": {
          "base_uri": "https://localhost:8080/",
          "height": 195
        },
        "id": "rMb3hKuGzigZ",
        "outputId": "b4e11b7f-184a-460b-d433-7a075cad72cd"
      },
      "source": [
        "reframed = series_to_supervised(values,1,1)\r\n",
        "# drop columns we don't want to predict\r\n",
        "reframed.drop(reframed.columns[[7,8,9,10,11]], axis=1, inplace=True)\r\n",
        "reframed.head()"
      ],
      "execution_count": 64,
      "outputs": [
        {
          "output_type": "execute_result",
          "data": {
            "text/html": [
              "<div>\n",
              "<style scoped>\n",
              "    .dataframe tbody tr th:only-of-type {\n",
              "        vertical-align: middle;\n",
              "    }\n",
              "\n",
              "    .dataframe tbody tr th {\n",
              "        vertical-align: top;\n",
              "    }\n",
              "\n",
              "    .dataframe thead th {\n",
              "        text-align: right;\n",
              "    }\n",
              "</style>\n",
              "<table border=\"1\" class=\"dataframe\">\n",
              "  <thead>\n",
              "    <tr style=\"text-align: right;\">\n",
              "      <th></th>\n",
              "      <th>var1(t-1)</th>\n",
              "      <th>var2(t-1)</th>\n",
              "      <th>var3(t-1)</th>\n",
              "      <th>var4(t-1)</th>\n",
              "      <th>var5(t-1)</th>\n",
              "      <th>var6(t-1)</th>\n",
              "      <th>var1(t)</th>\n",
              "    </tr>\n",
              "  </thead>\n",
              "  <tbody>\n",
              "    <tr>\n",
              "      <th>1</th>\n",
              "      <td>0.0</td>\n",
              "      <td>0.0</td>\n",
              "      <td>20.0</td>\n",
              "      <td>1019.700012</td>\n",
              "      <td>0.793987</td>\n",
              "      <td>0.0</td>\n",
              "      <td>0.0</td>\n",
              "    </tr>\n",
              "    <tr>\n",
              "      <th>2</th>\n",
              "      <td>0.0</td>\n",
              "      <td>0.0</td>\n",
              "      <td>21.1</td>\n",
              "      <td>1020.200012</td>\n",
              "      <td>-1.000000</td>\n",
              "      <td>1.5</td>\n",
              "      <td>0.0</td>\n",
              "    </tr>\n",
              "    <tr>\n",
              "      <th>3</th>\n",
              "      <td>0.0</td>\n",
              "      <td>0.0</td>\n",
              "      <td>21.1</td>\n",
              "      <td>1020.200012</td>\n",
              "      <td>0.000000</td>\n",
              "      <td>0.0</td>\n",
              "      <td>0.0</td>\n",
              "    </tr>\n",
              "    <tr>\n",
              "      <th>4</th>\n",
              "      <td>0.0</td>\n",
              "      <td>0.0</td>\n",
              "      <td>20.6</td>\n",
              "      <td>1020.099976</td>\n",
              "      <td>0.000000</td>\n",
              "      <td>0.0</td>\n",
              "      <td>0.0</td>\n",
              "    </tr>\n",
              "    <tr>\n",
              "      <th>5</th>\n",
              "      <td>0.0</td>\n",
              "      <td>0.0</td>\n",
              "      <td>20.0</td>\n",
              "      <td>1020.000000</td>\n",
              "      <td>-1.000000</td>\n",
              "      <td>2.6</td>\n",
              "      <td>0.0</td>\n",
              "    </tr>\n",
              "  </tbody>\n",
              "</table>\n",
              "</div>"
            ],
            "text/plain": [
              "   var1(t-1)  var2(t-1)  var3(t-1)    var4(t-1)  var5(t-1)  var6(t-1)  var1(t)\n",
              "1        0.0        0.0       20.0  1019.700012   0.793987        0.0      0.0\n",
              "2        0.0        0.0       21.1  1020.200012  -1.000000        1.5      0.0\n",
              "3        0.0        0.0       21.1  1020.200012   0.000000        0.0      0.0\n",
              "4        0.0        0.0       20.6  1020.099976   0.000000        0.0      0.0\n",
              "5        0.0        0.0       20.0  1020.000000  -1.000000        2.6      0.0"
            ]
          },
          "metadata": {
            "tags": []
          },
          "execution_count": 64
        }
      ]
    },
    {
      "cell_type": "code",
      "metadata": {
        "colab": {
          "base_uri": "https://localhost:8080/",
          "height": 195
        },
        "id": "gCxToCNh2FNU",
        "outputId": "4b1764aa-6bc1-4c35-8079-0668ed72cbd1"
      },
      "source": [
        "scaler = MinMaxScaler(feature_range=(0,1))\r\n",
        "scaled = scaler.fit_transform(values)\r\n",
        "reframed = series_to_supervised(scaled,1,1)\r\n",
        "# drop columns we don't want to predict\r\n",
        "reframed.drop(reframed.columns[[7,8,9,10,11]], axis=1, inplace=True)\r\n",
        "reframed.head()"
      ],
      "execution_count": 65,
      "outputs": [
        {
          "output_type": "execute_result",
          "data": {
            "text/html": [
              "<div>\n",
              "<style scoped>\n",
              "    .dataframe tbody tr th:only-of-type {\n",
              "        vertical-align: middle;\n",
              "    }\n",
              "\n",
              "    .dataframe tbody tr th {\n",
              "        vertical-align: top;\n",
              "    }\n",
              "\n",
              "    .dataframe thead th {\n",
              "        text-align: right;\n",
              "    }\n",
              "</style>\n",
              "<table border=\"1\" class=\"dataframe\">\n",
              "  <thead>\n",
              "    <tr style=\"text-align: right;\">\n",
              "      <th></th>\n",
              "      <th>var1(t-1)</th>\n",
              "      <th>var2(t-1)</th>\n",
              "      <th>var3(t-1)</th>\n",
              "      <th>var4(t-1)</th>\n",
              "      <th>var5(t-1)</th>\n",
              "      <th>var6(t-1)</th>\n",
              "      <th>var1(t)</th>\n",
              "    </tr>\n",
              "  </thead>\n",
              "  <tbody>\n",
              "    <tr>\n",
              "      <th>1</th>\n",
              "      <td>0.0</td>\n",
              "      <td>0.0</td>\n",
              "      <td>0.820375</td>\n",
              "      <td>0.699820</td>\n",
              "      <td>0.003000</td>\n",
              "      <td>0.000000</td>\n",
              "      <td>0.0</td>\n",
              "    </tr>\n",
              "    <tr>\n",
              "      <th>2</th>\n",
              "      <td>0.0</td>\n",
              "      <td>0.0</td>\n",
              "      <td>0.849866</td>\n",
              "      <td>0.708860</td>\n",
              "      <td>0.000000</td>\n",
              "      <td>0.061983</td>\n",
              "      <td>0.0</td>\n",
              "    </tr>\n",
              "    <tr>\n",
              "      <th>3</th>\n",
              "      <td>0.0</td>\n",
              "      <td>0.0</td>\n",
              "      <td>0.849866</td>\n",
              "      <td>0.708860</td>\n",
              "      <td>0.001672</td>\n",
              "      <td>0.000000</td>\n",
              "      <td>0.0</td>\n",
              "    </tr>\n",
              "    <tr>\n",
              "      <th>4</th>\n",
              "      <td>0.0</td>\n",
              "      <td>0.0</td>\n",
              "      <td>0.836461</td>\n",
              "      <td>0.707052</td>\n",
              "      <td>0.001672</td>\n",
              "      <td>0.000000</td>\n",
              "      <td>0.0</td>\n",
              "    </tr>\n",
              "    <tr>\n",
              "      <th>5</th>\n",
              "      <td>0.0</td>\n",
              "      <td>0.0</td>\n",
              "      <td>0.820375</td>\n",
              "      <td>0.705244</td>\n",
              "      <td>0.000000</td>\n",
              "      <td>0.107438</td>\n",
              "      <td>0.0</td>\n",
              "    </tr>\n",
              "  </tbody>\n",
              "</table>\n",
              "</div>"
            ],
            "text/plain": [
              "   var1(t-1)  var2(t-1)  var3(t-1)  var4(t-1)  var5(t-1)  var6(t-1)  var1(t)\n",
              "1        0.0        0.0   0.820375   0.699820   0.003000   0.000000      0.0\n",
              "2        0.0        0.0   0.849866   0.708860   0.000000   0.061983      0.0\n",
              "3        0.0        0.0   0.849866   0.708860   0.001672   0.000000      0.0\n",
              "4        0.0        0.0   0.836461   0.707052   0.001672   0.000000      0.0\n",
              "5        0.0        0.0   0.820375   0.705244   0.000000   0.107438      0.0"
            ]
          },
          "metadata": {
            "tags": []
          },
          "execution_count": 65
        }
      ]
    },
    {
      "cell_type": "code",
      "metadata": {
        "id": "MXR54pws2MZr"
      },
      "source": [
        "values = reframed.values\r\n",
        "n_train = 366*24\r\n",
        "train = values[:n_train]\r\n",
        "test = values[n_train:]\r\n"
      ],
      "execution_count": 66,
      "outputs": []
    },
    {
      "cell_type": "code",
      "metadata": {
        "colab": {
          "base_uri": "https://localhost:8080/"
        },
        "id": "kp0U4wZU5CdE",
        "outputId": "1f163265-1b9d-4a09-b8cd-1622f855f28d"
      },
      "source": [
        "train[:,:]"
      ],
      "execution_count": 67,
      "outputs": [
        {
          "output_type": "execute_result",
          "data": {
            "text/plain": [
              "array([[0.        , 0.        , 0.8203753 , ..., 0.00299998, 0.        ,\n",
              "        0.        ],\n",
              "       [0.        , 0.        , 0.8498659 , ..., 0.        , 0.06198347,\n",
              "        0.        ],\n",
              "       [0.        , 0.        , 0.8498659 , ..., 0.00167224, 0.        ,\n",
              "        0.        ],\n",
              "       ...,\n",
              "       [0.20985374, 0.        , 0.5522788 , ..., 0.00167224, 0.16942148,\n",
              "        0.21306589],\n",
              "       [0.21306589, 0.        , 0.5522788 , ..., 0.00167224, 0.12809917,\n",
              "        0.20021766],\n",
              "       [0.20021766, 0.        , 0.5522788 , ..., 0.00167224, 0.        ,\n",
              "        0.        ]], dtype=float32)"
            ]
          },
          "metadata": {
            "tags": []
          },
          "execution_count": 67
        }
      ]
    },
    {
      "cell_type": "code",
      "metadata": {
        "id": "bhyh5AFs48Qu"
      },
      "source": [
        "trainX,trainY = train[:,:-1],train[:,-1]\r\n",
        "testX,testY = test[:,:-1],test[:,-1]"
      ],
      "execution_count": 68,
      "outputs": []
    },
    {
      "cell_type": "code",
      "metadata": {
        "colab": {
          "base_uri": "https://localhost:8080/"
        },
        "id": "TLS0Zq4v7UZk",
        "outputId": "16423d45-2652-4cbb-8fe5-88d72943e881"
      },
      "source": [
        "print(trainX.shape,trainY.shape,testX.shape,testY.shape)"
      ],
      "execution_count": 69,
      "outputs": [
        {
          "output_type": "stream",
          "text": [
            "(8784, 6) (8784,) (8759, 6) (8759,)\n"
          ],
          "name": "stdout"
        }
      ]
    },
    {
      "cell_type": "code",
      "metadata": {
        "colab": {
          "base_uri": "https://localhost:8080/"
        },
        "id": "zuf6kOlS7d7o",
        "outputId": "59b883c4-2eb6-48f4-94de-227db411ce97"
      },
      "source": [
        "print(trainX.shape)\r\n",
        "print(testX.shape)"
      ],
      "execution_count": 70,
      "outputs": [
        {
          "output_type": "stream",
          "text": [
            "(8784, 6)\n",
            "(8759, 6)\n"
          ],
          "name": "stdout"
        }
      ]
    },
    {
      "cell_type": "code",
      "metadata": {
        "id": "0_WS8afz76MV"
      },
      "source": [
        "trainX = trainX.reshape(trainX.shape[0],1,trainX.shape[1])\r\n",
        "testX = testX.reshape(testX.shape[0],1,testX.shape[1])"
      ],
      "execution_count": 71,
      "outputs": []
    },
    {
      "cell_type": "code",
      "metadata": {
        "id": "M08Mx6H_7pB2"
      },
      "source": [
        "stop_noimprovement = EarlyStopping(patience=10)\r\n",
        "model = Sequential()\r\n",
        "model.add(LSTM(50,input_shape=(trainX.shape[1],trainX.shape[2]),dropout=0.2))\r\n",
        "model.add(Dense(1))\r\n",
        "model.compile(loss=\"mae\",optimizer=\"adam\")"
      ],
      "execution_count": 72,
      "outputs": []
    },
    {
      "cell_type": "code",
      "metadata": {
        "colab": {
          "base_uri": "https://localhost:8080/"
        },
        "id": "QLvF_OJN7xM4",
        "outputId": "34442828-18f6-4f56-d805-0e017599dff5"
      },
      "source": [
        "history= model.fit(trainX,trainY,validation_data=(testX,testY),epochs=100,verbose=2,callbacks=[stop_noimprovement],shuffle=False)"
      ],
      "execution_count": 73,
      "outputs": [
        {
          "output_type": "stream",
          "text": [
            "Epoch 1/100\n",
            "275/275 - 4s - loss: 0.0870 - val_loss: 0.3183\n",
            "Epoch 2/100\n",
            "275/275 - 1s - loss: 0.1070 - val_loss: 0.2831\n",
            "Epoch 3/100\n",
            "275/275 - 1s - loss: 0.1024 - val_loss: 0.2570\n",
            "Epoch 4/100\n",
            "275/275 - 1s - loss: 0.0981 - val_loss: 0.2391\n",
            "Epoch 5/100\n",
            "275/275 - 1s - loss: 0.0952 - val_loss: 0.2326\n",
            "Epoch 6/100\n",
            "275/275 - 1s - loss: 0.0938 - val_loss: 0.2230\n",
            "Epoch 7/100\n",
            "275/275 - 1s - loss: 0.0924 - val_loss: 0.2213\n",
            "Epoch 8/100\n",
            "275/275 - 1s - loss: 0.0933 - val_loss: 0.2146\n",
            "Epoch 9/100\n",
            "275/275 - 1s - loss: 0.0936 - val_loss: 0.2069\n",
            "Epoch 10/100\n",
            "275/275 - 1s - loss: 0.0902 - val_loss: 0.2038\n",
            "Epoch 11/100\n",
            "275/275 - 1s - loss: 0.0911 - val_loss: 0.1977\n",
            "Epoch 12/100\n",
            "275/275 - 1s - loss: 0.0892 - val_loss: 0.1944\n",
            "Epoch 13/100\n",
            "275/275 - 1s - loss: 0.0873 - val_loss: 0.1910\n",
            "Epoch 14/100\n",
            "275/275 - 1s - loss: 0.0873 - val_loss: 0.1857\n",
            "Epoch 15/100\n",
            "275/275 - 1s - loss: 0.0882 - val_loss: 0.1847\n",
            "Epoch 16/100\n",
            "275/275 - 1s - loss: 0.0857 - val_loss: 0.1800\n",
            "Epoch 17/100\n",
            "275/275 - 1s - loss: 0.0868 - val_loss: 0.1789\n",
            "Epoch 18/100\n",
            "275/275 - 1s - loss: 0.0856 - val_loss: 0.1745\n",
            "Epoch 19/100\n",
            "275/275 - 1s - loss: 0.0871 - val_loss: 0.1705\n",
            "Epoch 20/100\n",
            "275/275 - 1s - loss: 0.0857 - val_loss: 0.1679\n",
            "Epoch 21/100\n",
            "275/275 - 1s - loss: 0.0852 - val_loss: 0.1708\n",
            "Epoch 22/100\n",
            "275/275 - 1s - loss: 0.0824 - val_loss: 0.1640\n",
            "Epoch 23/100\n",
            "275/275 - 1s - loss: 0.0829 - val_loss: 0.1609\n",
            "Epoch 24/100\n",
            "275/275 - 1s - loss: 0.0842 - val_loss: 0.1597\n",
            "Epoch 25/100\n",
            "275/275 - 1s - loss: 0.0837 - val_loss: 0.1566\n",
            "Epoch 26/100\n",
            "275/275 - 1s - loss: 0.0834 - val_loss: 0.1564\n",
            "Epoch 27/100\n",
            "275/275 - 1s - loss: 0.0816 - val_loss: 0.1572\n",
            "Epoch 28/100\n",
            "275/275 - 1s - loss: 0.0825 - val_loss: 0.1504\n",
            "Epoch 29/100\n",
            "275/275 - 1s - loss: 0.0818 - val_loss: 0.1548\n",
            "Epoch 30/100\n",
            "275/275 - 1s - loss: 0.0810 - val_loss: 0.1489\n",
            "Epoch 31/100\n",
            "275/275 - 1s - loss: 0.0806 - val_loss: 0.1454\n",
            "Epoch 32/100\n",
            "275/275 - 1s - loss: 0.0815 - val_loss: 0.1445\n",
            "Epoch 33/100\n",
            "275/275 - 1s - loss: 0.0823 - val_loss: 0.1453\n",
            "Epoch 34/100\n",
            "275/275 - 1s - loss: 0.0820 - val_loss: 0.1460\n",
            "Epoch 35/100\n",
            "275/275 - 1s - loss: 0.0811 - val_loss: 0.1432\n",
            "Epoch 36/100\n",
            "275/275 - 1s - loss: 0.0811 - val_loss: 0.1470\n",
            "Epoch 37/100\n",
            "275/275 - 1s - loss: 0.0790 - val_loss: 0.1367\n",
            "Epoch 38/100\n",
            "275/275 - 1s - loss: 0.0791 - val_loss: 0.1386\n",
            "Epoch 39/100\n",
            "275/275 - 1s - loss: 0.0780 - val_loss: 0.1347\n",
            "Epoch 40/100\n",
            "275/275 - 1s - loss: 0.0790 - val_loss: 0.1357\n",
            "Epoch 41/100\n",
            "275/275 - 1s - loss: 0.0776 - val_loss: 0.1326\n",
            "Epoch 42/100\n",
            "275/275 - 1s - loss: 0.0769 - val_loss: 0.1310\n",
            "Epoch 43/100\n",
            "275/275 - 1s - loss: 0.0788 - val_loss: 0.1342\n",
            "Epoch 44/100\n",
            "275/275 - 1s - loss: 0.0781 - val_loss: 0.1388\n",
            "Epoch 45/100\n",
            "275/275 - 1s - loss: 0.0772 - val_loss: 0.1329\n",
            "Epoch 46/100\n",
            "275/275 - 1s - loss: 0.0769 - val_loss: 0.1338\n",
            "Epoch 47/100\n",
            "275/275 - 1s - loss: 0.0779 - val_loss: 0.1333\n",
            "Epoch 48/100\n",
            "275/275 - 1s - loss: 0.0783 - val_loss: 0.1367\n",
            "Epoch 49/100\n",
            "275/275 - 1s - loss: 0.0799 - val_loss: 0.1410\n",
            "Epoch 50/100\n",
            "275/275 - 1s - loss: 0.0781 - val_loss: 0.1340\n",
            "Epoch 51/100\n",
            "275/275 - 1s - loss: 0.0811 - val_loss: 0.1353\n",
            "Epoch 52/100\n",
            "275/275 - 1s - loss: 0.0794 - val_loss: 0.1373\n"
          ],
          "name": "stdout"
        }
      ]
    },
    {
      "cell_type": "code",
      "metadata": {
        "colab": {
          "base_uri": "https://localhost:8080/",
          "height": 265
        },
        "id": "d4wIeulk8FpA",
        "outputId": "47031715-7680-48cc-a753-3bc363045aea"
      },
      "source": [
        "plt.plot(history.history['loss'],label='train')\r\n",
        "plt.plot(history.history['val_loss'],label='test')\r\n",
        "plt.legend()\r\n",
        "plt.show()"
      ],
      "execution_count": 74,
      "outputs": [
        {
          "output_type": "display_data",
          "data": {
            "image/png": "[encoded data removed]",
            "text/plain": [
              "<Figure size 432x288 with 1 Axes>"
            ]
          },
          "metadata": {
            "tags": [],
            "needs_background": "light"
          }
        }
      ]
    },
    {
      "cell_type": "code",
      "metadata": {
        "id": "AxC7e6-P8NcO"
      },
      "source": [
        "predicted = model.predict(testX)"
      ],
      "execution_count": 75,
      "outputs": []
    },
    {
      "cell_type": "code",
      "metadata": {
        "id": "RzmSQOVJ8ZpO"
      },
      "source": [
        "testXRe = testX.reshape(testX.shape[0],testX.shape[2])"
      ],
      "execution_count": 76,
      "outputs": []
    },
    {
      "cell_type": "code",
      "metadata": {
        "id": "C0qMBveB8cuD"
      },
      "source": [
        "predicted = np.concatenate((predicted,testXRe[:,1:]),axis=1)"
      ],
      "execution_count": 77,
      "outputs": []
    },
    {
      "cell_type": "code",
      "metadata": {
        "id": "Y3Q0OoPv8fG4"
      },
      "source": [
        "#scaler = MinMaxScaler(feature_range=(0,1))\r\n",
        "#scaler.fit(predicted)"
      ],
      "execution_count": 78,
      "outputs": []
    },
    {
      "cell_type": "code",
      "metadata": {
        "id": "QEfPeMIv9Doe"
      },
      "source": [
        "predicted = scaler.inverse_transform(predicted)"
      ],
      "execution_count": 79,
      "outputs": []
    },
    {
      "cell_type": "code",
      "metadata": {
        "id": "_nQssL2n9Fqu"
      },
      "source": [
        "testY = testY.reshape(len(testY),1)"
      ],
      "execution_count": 80,
      "outputs": []
    },
    {
      "cell_type": "code",
      "metadata": {
        "id": "NBjnGI1j9NHi"
      },
      "source": [
        "testY = np.concatenate((testY,testXRe[:,1:]),axis=1)"
      ],
      "execution_count": 81,
      "outputs": []
    },
    {
      "cell_type": "code",
      "metadata": {
        "id": "3Bt-LXP29Ynz"
      },
      "source": [
        "#scaler = MinMaxScaler(feature_range=(0,1))\r\n",
        "#scaler.fit(testY)"
      ],
      "execution_count": 82,
      "outputs": []
    },
    {
      "cell_type": "code",
      "metadata": {
        "id": "NrGcsi8t9QOd"
      },
      "source": [
        "testY = scaler.inverse_transform(testY)"
      ],
      "execution_count": 83,
      "outputs": []
    },
    {
      "cell_type": "code",
      "metadata": {
        "colab": {
          "base_uri": "https://localhost:8080/",
          "height": 402
        },
        "id": "kJK393IO9S3Q",
        "outputId": "9efcd99e-c373-4c23-8a4e-71cffa8e552b"
      },
      "source": [
        "pd.DataFrame(testY)"
      ],
      "execution_count": 84,
      "outputs": [
        {
          "output_type": "execute_result",
          "data": {
            "text/html": [
              "<div>\n",
              "<style scoped>\n",
              "    .dataframe tbody tr th:only-of-type {\n",
              "        vertical-align: middle;\n",
              "    }\n",
              "\n",
              "    .dataframe tbody tr th {\n",
              "        vertical-align: top;\n",
              "    }\n",
              "\n",
              "    .dataframe thead th {\n",
              "        text-align: right;\n",
              "    }\n",
              "</style>\n",
              "<table border=\"1\" class=\"dataframe\">\n",
              "  <thead>\n",
              "    <tr style=\"text-align: right;\">\n",
              "      <th></th>\n",
              "      <th>0</th>\n",
              "      <th>1</th>\n",
              "      <th>2</th>\n",
              "      <th>3</th>\n",
              "      <th>4</th>\n",
              "      <th>5</th>\n",
              "    </tr>\n",
              "  </thead>\n",
              "  <tbody>\n",
              "    <tr>\n",
              "      <th>0</th>\n",
              "      <td>0.0</td>\n",
              "      <td>0.0</td>\n",
              "      <td>11.700000</td>\n",
              "      <td>1021.400024</td>\n",
              "      <td>0.808699</td>\n",
              "      <td>3.6</td>\n",
              "    </tr>\n",
              "    <tr>\n",
              "      <th>1</th>\n",
              "      <td>0.0</td>\n",
              "      <td>0.0</td>\n",
              "      <td>12.799999</td>\n",
              "      <td>1021.999939</td>\n",
              "      <td>0.000000</td>\n",
              "      <td>3.1</td>\n",
              "    </tr>\n",
              "    <tr>\n",
              "      <th>2</th>\n",
              "      <td>0.0</td>\n",
              "      <td>0.0</td>\n",
              "      <td>12.799999</td>\n",
              "      <td>1021.900085</td>\n",
              "      <td>0.000000</td>\n",
              "      <td>3.1</td>\n",
              "    </tr>\n",
              "    <tr>\n",
              "      <th>3</th>\n",
              "      <td>0.0</td>\n",
              "      <td>0.0</td>\n",
              "      <td>13.300000</td>\n",
              "      <td>1022.200073</td>\n",
              "      <td>0.000000</td>\n",
              "      <td>3.1</td>\n",
              "    </tr>\n",
              "    <tr>\n",
              "      <th>4</th>\n",
              "      <td>0.0</td>\n",
              "      <td>0.0</td>\n",
              "      <td>13.300000</td>\n",
              "      <td>1022.300049</td>\n",
              "      <td>0.000000</td>\n",
              "      <td>2.6</td>\n",
              "    </tr>\n",
              "    <tr>\n",
              "      <th>...</th>\n",
              "      <td>...</td>\n",
              "      <td>...</td>\n",
              "      <td>...</td>\n",
              "      <td>...</td>\n",
              "      <td>...</td>\n",
              "      <td>...</td>\n",
              "    </tr>\n",
              "    <tr>\n",
              "      <th>8754</th>\n",
              "      <td>0.0</td>\n",
              "      <td>0.0</td>\n",
              "      <td>6.700000</td>\n",
              "      <td>1021.099915</td>\n",
              "      <td>0.000000</td>\n",
              "      <td>0.0</td>\n",
              "    </tr>\n",
              "    <tr>\n",
              "      <th>8755</th>\n",
              "      <td>0.0</td>\n",
              "      <td>0.0</td>\n",
              "      <td>7.199999</td>\n",
              "      <td>1019.400085</td>\n",
              "      <td>0.000000</td>\n",
              "      <td>2.6</td>\n",
              "    </tr>\n",
              "    <tr>\n",
              "      <th>8756</th>\n",
              "      <td>0.0</td>\n",
              "      <td>0.0</td>\n",
              "      <td>8.300001</td>\n",
              "      <td>1019.099976</td>\n",
              "      <td>0.000000</td>\n",
              "      <td>1.5</td>\n",
              "    </tr>\n",
              "    <tr>\n",
              "      <th>8757</th>\n",
              "      <td>0.0</td>\n",
              "      <td>0.0</td>\n",
              "      <td>8.899999</td>\n",
              "      <td>1019.199951</td>\n",
              "      <td>0.000000</td>\n",
              "      <td>1.5</td>\n",
              "    </tr>\n",
              "    <tr>\n",
              "      <th>8758</th>\n",
              "      <td>0.0</td>\n",
              "      <td>0.0</td>\n",
              "      <td>8.899999</td>\n",
              "      <td>1019.199951</td>\n",
              "      <td>0.000000</td>\n",
              "      <td>1.5</td>\n",
              "    </tr>\n",
              "  </tbody>\n",
              "</table>\n",
              "<p>8759 rows × 6 columns</p>\n",
              "</div>"
            ],
            "text/plain": [
              "        0    1          2            3         4    5\n",
              "0     0.0  0.0  11.700000  1021.400024  0.808699  3.6\n",
              "1     0.0  0.0  12.799999  1021.999939  0.000000  3.1\n",
              "2     0.0  0.0  12.799999  1021.900085  0.000000  3.1\n",
              "3     0.0  0.0  13.300000  1022.200073  0.000000  3.1\n",
              "4     0.0  0.0  13.300000  1022.300049  0.000000  2.6\n",
              "...   ...  ...        ...          ...       ...  ...\n",
              "8754  0.0  0.0   6.700000  1021.099915  0.000000  0.0\n",
              "8755  0.0  0.0   7.199999  1019.400085  0.000000  2.6\n",
              "8756  0.0  0.0   8.300001  1019.099976  0.000000  1.5\n",
              "8757  0.0  0.0   8.899999  1019.199951  0.000000  1.5\n",
              "8758  0.0  0.0   8.899999  1019.199951  0.000000  1.5\n",
              "\n",
              "[8759 rows x 6 columns]"
            ]
          },
          "metadata": {
            "tags": []
          },
          "execution_count": 84
        }
      ]
    },
    {
      "cell_type": "code",
      "metadata": {
        "colab": {
          "base_uri": "https://localhost:8080/"
        },
        "id": "LEz6HBaE9eTD",
        "outputId": "2a9b1691-a23f-4a5b-9b8c-a664e4a0ae89"
      },
      "source": [
        "np.sqrt(mean_squared_error(testY[:,0],predicted[:,0]))"
      ],
      "execution_count": 85,
      "outputs": [
        {
          "output_type": "execute_result",
          "data": {
            "text/plain": [
              "35.099564"
            ]
          },
          "metadata": {
            "tags": []
          },
          "execution_count": 85
        }
      ]
    },
    {
      "cell_type": "code",
      "metadata": {
        "id": "S4ibH8709j--"
      },
      "source": [
        "result = pd.concat([pd.Series(predicted[:,0]),pd.Series(testY[:,0])],axis=1)\r\n",
        "result.columns = ['thetahat','theta']\r\n",
        "result['diff'] = result['thetahat'] - result['theta']"
      ],
      "execution_count": 86,
      "outputs": []
    },
    {
      "cell_type": "code",
      "metadata": {
        "colab": {
          "base_uri": "https://localhost:8080/",
          "height": 402
        },
        "id": "o2G4hA1I9rxy",
        "outputId": "74999db8-4276-4796-e70a-42b3c094b470"
      },
      "source": [
        "result"
      ],
      "execution_count": 87,
      "outputs": [
        {
          "output_type": "execute_result",
          "data": {
            "text/html": [
              "<div>\n",
              "<style scoped>\n",
              "    .dataframe tbody tr th:only-of-type {\n",
              "        vertical-align: middle;\n",
              "    }\n",
              "\n",
              "    .dataframe tbody tr th {\n",
              "        vertical-align: top;\n",
              "    }\n",
              "\n",
              "    .dataframe thead th {\n",
              "        text-align: right;\n",
              "    }\n",
              "</style>\n",
              "<table border=\"1\" class=\"dataframe\">\n",
              "  <thead>\n",
              "    <tr style=\"text-align: right;\">\n",
              "      <th></th>\n",
              "      <th>thetahat</th>\n",
              "      <th>theta</th>\n",
              "      <th>diff</th>\n",
              "    </tr>\n",
              "  </thead>\n",
              "  <tbody>\n",
              "    <tr>\n",
              "      <th>0</th>\n",
              "      <td>32.438843</td>\n",
              "      <td>0.0</td>\n",
              "      <td>32.438843</td>\n",
              "    </tr>\n",
              "    <tr>\n",
              "      <th>1</th>\n",
              "      <td>32.876312</td>\n",
              "      <td>0.0</td>\n",
              "      <td>32.876312</td>\n",
              "    </tr>\n",
              "    <tr>\n",
              "      <th>2</th>\n",
              "      <td>32.866219</td>\n",
              "      <td>0.0</td>\n",
              "      <td>32.866219</td>\n",
              "    </tr>\n",
              "    <tr>\n",
              "      <th>3</th>\n",
              "      <td>33.109535</td>\n",
              "      <td>0.0</td>\n",
              "      <td>33.109535</td>\n",
              "    </tr>\n",
              "    <tr>\n",
              "      <th>4</th>\n",
              "      <td>33.046215</td>\n",
              "      <td>0.0</td>\n",
              "      <td>33.046215</td>\n",
              "    </tr>\n",
              "    <tr>\n",
              "      <th>...</th>\n",
              "      <td>...</td>\n",
              "      <td>...</td>\n",
              "      <td>...</td>\n",
              "    </tr>\n",
              "    <tr>\n",
              "      <th>8754</th>\n",
              "      <td>30.028360</td>\n",
              "      <td>0.0</td>\n",
              "      <td>30.028360</td>\n",
              "    </tr>\n",
              "    <tr>\n",
              "      <th>8755</th>\n",
              "      <td>30.436867</td>\n",
              "      <td>0.0</td>\n",
              "      <td>30.436867</td>\n",
              "    </tr>\n",
              "    <tr>\n",
              "      <th>8756</th>\n",
              "      <td>30.577642</td>\n",
              "      <td>0.0</td>\n",
              "      <td>30.577642</td>\n",
              "    </tr>\n",
              "    <tr>\n",
              "      <th>8757</th>\n",
              "      <td>30.798544</td>\n",
              "      <td>0.0</td>\n",
              "      <td>30.798544</td>\n",
              "    </tr>\n",
              "    <tr>\n",
              "      <th>8758</th>\n",
              "      <td>30.798544</td>\n",
              "      <td>0.0</td>\n",
              "      <td>30.798544</td>\n",
              "    </tr>\n",
              "  </tbody>\n",
              "</table>\n",
              "<p>8759 rows × 3 columns</p>\n",
              "</div>"
            ],
            "text/plain": [
              "       thetahat  theta       diff\n",
              "0     32.438843    0.0  32.438843\n",
              "1     32.876312    0.0  32.876312\n",
              "2     32.866219    0.0  32.866219\n",
              "3     33.109535    0.0  33.109535\n",
              "4     33.046215    0.0  33.046215\n",
              "...         ...    ...        ...\n",
              "8754  30.028360    0.0  30.028360\n",
              "8755  30.436867    0.0  30.436867\n",
              "8756  30.577642    0.0  30.577642\n",
              "8757  30.798544    0.0  30.798544\n",
              "8758  30.798544    0.0  30.798544\n",
              "\n",
              "[8759 rows x 3 columns]"
            ]
          },
          "metadata": {
            "tags": []
          },
          "execution_count": 87
        }
      ]
    },
    {
      "cell_type": "code",
      "metadata": {
        "id": "wXvQVafazi2S"
      },
      "source": [
        "df_test2 = final_test_data[final_test_data.farm_id == 'fid_90053']"
      ],
      "execution_count": 88,
      "outputs": []
    },
    {
      "cell_type": "code",
      "metadata": {
        "colab": {
          "base_uri": "https://localhost:8080/",
          "height": 329
        },
        "id": "9n5ckDUT0yIB",
        "outputId": "ead6140b-2cf5-4b11-b2b8-87f1742fc280"
      },
      "source": [
        "final_test_data.head()"
      ],
      "execution_count": 89,
      "outputs": [
        {
          "output_type": "execute_result",
          "data": {
            "text/html": [
              "<div>\n",
              "<style scoped>\n",
              "    .dataframe tbody tr th:only-of-type {\n",
              "        vertical-align: middle;\n",
              "    }\n",
              "\n",
              "    .dataframe tbody tr th {\n",
              "        vertical-align: top;\n",
              "    }\n",
              "\n",
              "    .dataframe thead th {\n",
              "        text-align: right;\n",
              "    }\n",
              "</style>\n",
              "<table border=\"1\" class=\"dataframe\">\n",
              "  <thead>\n",
              "    <tr style=\"text-align: right;\">\n",
              "      <th></th>\n",
              "      <th>deidentified_location</th>\n",
              "      <th>temp_obs</th>\n",
              "      <th>cloudiness</th>\n",
              "      <th>wind_direction</th>\n",
              "      <th>dew_temp</th>\n",
              "      <th>pressure_sea_level</th>\n",
              "      <th>precipitation</th>\n",
              "      <th>wind_speed</th>\n",
              "      <th>farm_id</th>\n",
              "      <th>ingredient_type</th>\n",
              "      <th>id</th>\n",
              "      <th>farm_area</th>\n",
              "      <th>farming_company</th>\n",
              "    </tr>\n",
              "    <tr>\n",
              "      <th>timestamp</th>\n",
              "      <th></th>\n",
              "      <th></th>\n",
              "      <th></th>\n",
              "      <th></th>\n",
              "      <th></th>\n",
              "      <th></th>\n",
              "      <th></th>\n",
              "      <th></th>\n",
              "      <th></th>\n",
              "      <th></th>\n",
              "      <th></th>\n",
              "      <th></th>\n",
              "      <th></th>\n",
              "    </tr>\n",
              "  </thead>\n",
              "  <tbody>\n",
              "    <tr>\n",
              "      <th>2017-01-01</th>\n",
              "      <td>location 7369</td>\n",
              "      <td>17.8</td>\n",
              "      <td>4.0</td>\n",
              "      <td>100.0</td>\n",
              "      <td>11.7</td>\n",
              "      <td>1021.4</td>\n",
              "      <td>0.808699</td>\n",
              "      <td>3.6</td>\n",
              "      <td>fid_110884</td>\n",
              "      <td>ing_w</td>\n",
              "      <td>0</td>\n",
              "      <td>690.455096</td>\n",
              "      <td>Obery Farms</td>\n",
              "    </tr>\n",
              "    <tr>\n",
              "      <th>2017-01-01</th>\n",
              "      <td>location 7369</td>\n",
              "      <td>17.8</td>\n",
              "      <td>4.0</td>\n",
              "      <td>100.0</td>\n",
              "      <td>11.7</td>\n",
              "      <td>1021.4</td>\n",
              "      <td>0.808699</td>\n",
              "      <td>3.6</td>\n",
              "      <td>fid_90053</td>\n",
              "      <td>ing_w</td>\n",
              "      <td>1</td>\n",
              "      <td>252.696160</td>\n",
              "      <td>Obery Farms</td>\n",
              "    </tr>\n",
              "    <tr>\n",
              "      <th>2017-01-01</th>\n",
              "      <td>location 7369</td>\n",
              "      <td>17.8</td>\n",
              "      <td>4.0</td>\n",
              "      <td>100.0</td>\n",
              "      <td>11.7</td>\n",
              "      <td>1021.4</td>\n",
              "      <td>0.808699</td>\n",
              "      <td>3.6</td>\n",
              "      <td>fid_17537</td>\n",
              "      <td>ing_w</td>\n",
              "      <td>2</td>\n",
              "      <td>499.446528</td>\n",
              "      <td>Obery Farms</td>\n",
              "    </tr>\n",
              "    <tr>\n",
              "      <th>2017-01-01</th>\n",
              "      <td>location 7369</td>\n",
              "      <td>17.8</td>\n",
              "      <td>4.0</td>\n",
              "      <td>100.0</td>\n",
              "      <td>11.7</td>\n",
              "      <td>1021.4</td>\n",
              "      <td>0.808699</td>\n",
              "      <td>3.6</td>\n",
              "      <td>fid_110392</td>\n",
              "      <td>ing_w</td>\n",
              "      <td>3</td>\n",
              "      <td>2200.407555</td>\n",
              "      <td>Obery Farms</td>\n",
              "    </tr>\n",
              "    <tr>\n",
              "      <th>2017-01-01</th>\n",
              "      <td>location 7369</td>\n",
              "      <td>17.8</td>\n",
              "      <td>4.0</td>\n",
              "      <td>100.0</td>\n",
              "      <td>11.7</td>\n",
              "      <td>1021.4</td>\n",
              "      <td>0.808699</td>\n",
              "      <td>3.6</td>\n",
              "      <td>fid_62402</td>\n",
              "      <td>ing_w</td>\n",
              "      <td>4</td>\n",
              "      <td>10833.140121</td>\n",
              "      <td>Obery Farms</td>\n",
              "    </tr>\n",
              "  </tbody>\n",
              "</table>\n",
              "</div>"
            ],
            "text/plain": [
              "           deidentified_location  temp_obs  ...     farm_area  farming_company\n",
              "timestamp                                   ...                               \n",
              "2017-01-01         location 7369      17.8  ...    690.455096      Obery Farms\n",
              "2017-01-01         location 7369      17.8  ...    252.696160      Obery Farms\n",
              "2017-01-01         location 7369      17.8  ...    499.446528      Obery Farms\n",
              "2017-01-01         location 7369      17.8  ...   2200.407555      Obery Farms\n",
              "2017-01-01         location 7369      17.8  ...  10833.140121      Obery Farms\n",
              "\n",
              "[5 rows x 13 columns]"
            ]
          },
          "metadata": {
            "tags": []
          },
          "execution_count": 89
        }
      ]
    },
    {
      "cell_type": "code",
      "metadata": {
        "colab": {
          "base_uri": "https://localhost:8080/"
        },
        "id": "olvlg1800Bjw",
        "outputId": "486cfd85-cd9a-4c96-a59b-5092f6a2e885"
      },
      "source": [
        "predicted.shape"
      ],
      "execution_count": 90,
      "outputs": [
        {
          "output_type": "execute_result",
          "data": {
            "text/plain": [
              "(8759, 6)"
            ]
          },
          "metadata": {
            "tags": []
          },
          "execution_count": 90
        }
      ]
    },
    {
      "cell_type": "code",
      "metadata": {
        "colab": {
          "base_uri": "https://localhost:8080/",
          "height": 413
        },
        "id": "X5pqJbYH0JSf",
        "outputId": "1dfd515c-7f35-46f9-f2e2-ec0d35c7026d"
      },
      "source": [
        "df_test2.head()"
      ],
      "execution_count": 91,
      "outputs": [
        {
          "output_type": "execute_result",
          "data": {
            "text/html": [
              "<div>\n",
              "<style scoped>\n",
              "    .dataframe tbody tr th:only-of-type {\n",
              "        vertical-align: middle;\n",
              "    }\n",
              "\n",
              "    .dataframe tbody tr th {\n",
              "        vertical-align: top;\n",
              "    }\n",
              "\n",
              "    .dataframe thead th {\n",
              "        text-align: right;\n",
              "    }\n",
              "</style>\n",
              "<table border=\"1\" class=\"dataframe\">\n",
              "  <thead>\n",
              "    <tr style=\"text-align: right;\">\n",
              "      <th></th>\n",
              "      <th>deidentified_location</th>\n",
              "      <th>temp_obs</th>\n",
              "      <th>cloudiness</th>\n",
              "      <th>wind_direction</th>\n",
              "      <th>dew_temp</th>\n",
              "      <th>pressure_sea_level</th>\n",
              "      <th>precipitation</th>\n",
              "      <th>wind_speed</th>\n",
              "      <th>farm_id</th>\n",
              "      <th>ingredient_type</th>\n",
              "      <th>id</th>\n",
              "      <th>farm_area</th>\n",
              "      <th>farming_company</th>\n",
              "    </tr>\n",
              "    <tr>\n",
              "      <th>timestamp</th>\n",
              "      <th></th>\n",
              "      <th></th>\n",
              "      <th></th>\n",
              "      <th></th>\n",
              "      <th></th>\n",
              "      <th></th>\n",
              "      <th></th>\n",
              "      <th></th>\n",
              "      <th></th>\n",
              "      <th></th>\n",
              "      <th></th>\n",
              "      <th></th>\n",
              "      <th></th>\n",
              "    </tr>\n",
              "  </thead>\n",
              "  <tbody>\n",
              "    <tr>\n",
              "      <th>2017-01-01 00:00:00</th>\n",
              "      <td>location 7369</td>\n",
              "      <td>17.8</td>\n",
              "      <td>4.0</td>\n",
              "      <td>100.0</td>\n",
              "      <td>11.7</td>\n",
              "      <td>1021.4</td>\n",
              "      <td>0.808699</td>\n",
              "      <td>3.6</td>\n",
              "      <td>fid_90053</td>\n",
              "      <td>ing_w</td>\n",
              "      <td>1</td>\n",
              "      <td>252.69616</td>\n",
              "      <td>Obery Farms</td>\n",
              "    </tr>\n",
              "    <tr>\n",
              "      <th>2017-01-01 01:00:00</th>\n",
              "      <td>location 7369</td>\n",
              "      <td>17.8</td>\n",
              "      <td>2.0</td>\n",
              "      <td>130.0</td>\n",
              "      <td>12.8</td>\n",
              "      <td>1022.0</td>\n",
              "      <td>0.000000</td>\n",
              "      <td>3.1</td>\n",
              "      <td>fid_90053</td>\n",
              "      <td>ing_w</td>\n",
              "      <td>130</td>\n",
              "      <td>252.69616</td>\n",
              "      <td>Obery Farms</td>\n",
              "    </tr>\n",
              "    <tr>\n",
              "      <th>2017-01-01 02:00:00</th>\n",
              "      <td>location 7369</td>\n",
              "      <td>16.1</td>\n",
              "      <td>0.0</td>\n",
              "      <td>140.0</td>\n",
              "      <td>12.8</td>\n",
              "      <td>1021.9</td>\n",
              "      <td>0.000000</td>\n",
              "      <td>3.1</td>\n",
              "      <td>fid_90053</td>\n",
              "      <td>ing_w</td>\n",
              "      <td>259</td>\n",
              "      <td>252.69616</td>\n",
              "      <td>Obery Farms</td>\n",
              "    </tr>\n",
              "    <tr>\n",
              "      <th>2017-01-01 03:00:00</th>\n",
              "      <td>location 7369</td>\n",
              "      <td>17.2</td>\n",
              "      <td>0.0</td>\n",
              "      <td>140.0</td>\n",
              "      <td>13.3</td>\n",
              "      <td>1022.2</td>\n",
              "      <td>0.000000</td>\n",
              "      <td>3.1</td>\n",
              "      <td>fid_90053</td>\n",
              "      <td>ing_w</td>\n",
              "      <td>388</td>\n",
              "      <td>252.69616</td>\n",
              "      <td>Obery Farms</td>\n",
              "    </tr>\n",
              "    <tr>\n",
              "      <th>2017-01-01 04:00:00</th>\n",
              "      <td>location 7369</td>\n",
              "      <td>16.7</td>\n",
              "      <td>2.0</td>\n",
              "      <td>130.0</td>\n",
              "      <td>13.3</td>\n",
              "      <td>1022.3</td>\n",
              "      <td>0.000000</td>\n",
              "      <td>2.6</td>\n",
              "      <td>fid_90053</td>\n",
              "      <td>ing_w</td>\n",
              "      <td>517</td>\n",
              "      <td>252.69616</td>\n",
              "      <td>Obery Farms</td>\n",
              "    </tr>\n",
              "  </tbody>\n",
              "</table>\n",
              "</div>"
            ],
            "text/plain": [
              "                    deidentified_location  temp_obs  ...  farm_area  farming_company\n",
              "timestamp                                            ...                            \n",
              "2017-01-01 00:00:00         location 7369      17.8  ...  252.69616      Obery Farms\n",
              "2017-01-01 01:00:00         location 7369      17.8  ...  252.69616      Obery Farms\n",
              "2017-01-01 02:00:00         location 7369      16.1  ...  252.69616      Obery Farms\n",
              "2017-01-01 03:00:00         location 7369      17.2  ...  252.69616      Obery Farms\n",
              "2017-01-01 04:00:00         location 7369      16.7  ...  252.69616      Obery Farms\n",
              "\n",
              "[5 rows x 13 columns]"
            ]
          },
          "metadata": {
            "tags": []
          },
          "execution_count": 91
        }
      ]
    },
    {
      "cell_type": "code",
      "metadata": {
        "colab": {
          "base_uri": "https://localhost:8080/"
        },
        "id": "l8VYRSjw33oE",
        "outputId": "ccfbc374-ad9e-404e-b7b5-3a6b63cba5d3"
      },
      "source": [
        "df_test2.id.nunique()"
      ],
      "execution_count": 92,
      "outputs": [
        {
          "output_type": "execute_result",
          "data": {
            "text/plain": [
              "8760"
            ]
          },
          "metadata": {
            "tags": []
          },
          "execution_count": 92
        }
      ]
    },
    {
      "cell_type": "code",
      "metadata": {
        "id": "zmE60wAiytp-"
      },
      "source": [
        "temp_df= pd.DataFrame({'id': df_test2.id[:df_test2.shape[0]-1], 'yield': predicted[:,0]})"
      ],
      "execution_count": 93,
      "outputs": []
    },
    {
      "cell_type": "code",
      "metadata": {
        "colab": {
          "base_uri": "https://localhost:8080/",
          "height": 225
        },
        "id": "8_Ij5WJQ47tB",
        "outputId": "732fd53e-1d78-4d76-d618-b1ad05871eec"
      },
      "source": [
        "temp_df.head()"
      ],
      "execution_count": 94,
      "outputs": [
        {
          "output_type": "execute_result",
          "data": {
            "text/html": [
              "<div>\n",
              "<style scoped>\n",
              "    .dataframe tbody tr th:only-of-type {\n",
              "        vertical-align: middle;\n",
              "    }\n",
              "\n",
              "    .dataframe tbody tr th {\n",
              "        vertical-align: top;\n",
              "    }\n",
              "\n",
              "    .dataframe thead th {\n",
              "        text-align: right;\n",
              "    }\n",
              "</style>\n",
              "<table border=\"1\" class=\"dataframe\">\n",
              "  <thead>\n",
              "    <tr style=\"text-align: right;\">\n",
              "      <th></th>\n",
              "      <th>id</th>\n",
              "      <th>yield</th>\n",
              "    </tr>\n",
              "    <tr>\n",
              "      <th>timestamp</th>\n",
              "      <th></th>\n",
              "      <th></th>\n",
              "    </tr>\n",
              "  </thead>\n",
              "  <tbody>\n",
              "    <tr>\n",
              "      <th>2017-01-01 00:00:00</th>\n",
              "      <td>1</td>\n",
              "      <td>32.438843</td>\n",
              "    </tr>\n",
              "    <tr>\n",
              "      <th>2017-01-01 01:00:00</th>\n",
              "      <td>130</td>\n",
              "      <td>32.876312</td>\n",
              "    </tr>\n",
              "    <tr>\n",
              "      <th>2017-01-01 02:00:00</th>\n",
              "      <td>259</td>\n",
              "      <td>32.866219</td>\n",
              "    </tr>\n",
              "    <tr>\n",
              "      <th>2017-01-01 03:00:00</th>\n",
              "      <td>388</td>\n",
              "      <td>33.109535</td>\n",
              "    </tr>\n",
              "    <tr>\n",
              "      <th>2017-01-01 04:00:00</th>\n",
              "      <td>517</td>\n",
              "      <td>33.046215</td>\n",
              "    </tr>\n",
              "  </tbody>\n",
              "</table>\n",
              "</div>"
            ],
            "text/plain": [
              "                      id      yield\n",
              "timestamp                          \n",
              "2017-01-01 00:00:00    1  32.438843\n",
              "2017-01-01 01:00:00  130  32.876312\n",
              "2017-01-01 02:00:00  259  32.866219\n",
              "2017-01-01 03:00:00  388  33.109535\n",
              "2017-01-01 04:00:00  517  33.046215"
            ]
          },
          "metadata": {
            "tags": []
          },
          "execution_count": 94
        }
      ]
    },
    {
      "cell_type": "code",
      "metadata": {
        "id": "1f0fvnKaBC6v"
      },
      "source": [
        "df_test = final_test_data[final_test_data.farm_id == 'fid_110884']"
      ],
      "execution_count": null,
      "outputs": []
    },
    {
      "cell_type": "code",
      "metadata": {
        "colab": {
          "base_uri": "https://localhost:8080/",
          "height": 225
        },
        "id": "bF_KkivqBMwU",
        "outputId": "899ae18c-793b-4794-aa4d-afefcca2cd96"
      },
      "source": [
        "df_test.head()"
      ],
      "execution_count": null,
      "outputs": [
        {
          "output_type": "execute_result",
          "data": {
            "text/html": [
              "<div>\n",
              "<style scoped>\n",
              "    .dataframe tbody tr th:only-of-type {\n",
              "        vertical-align: middle;\n",
              "    }\n",
              "\n",
              "    .dataframe tbody tr th {\n",
              "        vertical-align: top;\n",
              "    }\n",
              "\n",
              "    .dataframe thead th {\n",
              "        text-align: right;\n",
              "    }\n",
              "</style>\n",
              "<table border=\"1\" class=\"dataframe\">\n",
              "  <thead>\n",
              "    <tr style=\"text-align: right;\">\n",
              "      <th></th>\n",
              "      <th>deidentified_location</th>\n",
              "      <th>dew_temp</th>\n",
              "      <th>pressure_sea_level</th>\n",
              "      <th>precipitation</th>\n",
              "      <th>wind_speed</th>\n",
              "      <th>farm_id</th>\n",
              "      <th>ingredient_type</th>\n",
              "      <th>id</th>\n",
              "      <th>farm_area</th>\n",
              "      <th>farming_company</th>\n",
              "    </tr>\n",
              "    <tr>\n",
              "      <th>timestamp</th>\n",
              "      <th></th>\n",
              "      <th></th>\n",
              "      <th></th>\n",
              "      <th></th>\n",
              "      <th></th>\n",
              "      <th></th>\n",
              "      <th></th>\n",
              "      <th></th>\n",
              "      <th></th>\n",
              "      <th></th>\n",
              "    </tr>\n",
              "  </thead>\n",
              "  <tbody>\n",
              "    <tr>\n",
              "      <th>2017-01-01 00:00:00</th>\n",
              "      <td>location 7369</td>\n",
              "      <td>11.7</td>\n",
              "      <td>1021.4</td>\n",
              "      <td>0.808699</td>\n",
              "      <td>3.6</td>\n",
              "      <td>fid_110884</td>\n",
              "      <td>ing_w</td>\n",
              "      <td>0</td>\n",
              "      <td>690.455096</td>\n",
              "      <td>Obery Farms</td>\n",
              "    </tr>\n",
              "    <tr>\n",
              "      <th>2017-01-01 01:00:00</th>\n",
              "      <td>location 7369</td>\n",
              "      <td>12.8</td>\n",
              "      <td>1022.0</td>\n",
              "      <td>0.000000</td>\n",
              "      <td>3.1</td>\n",
              "      <td>fid_110884</td>\n",
              "      <td>ing_w</td>\n",
              "      <td>129</td>\n",
              "      <td>690.455096</td>\n",
              "      <td>Obery Farms</td>\n",
              "    </tr>\n",
              "    <tr>\n",
              "      <th>2017-01-01 02:00:00</th>\n",
              "      <td>location 7369</td>\n",
              "      <td>12.8</td>\n",
              "      <td>1021.9</td>\n",
              "      <td>0.000000</td>\n",
              "      <td>3.1</td>\n",
              "      <td>fid_110884</td>\n",
              "      <td>ing_w</td>\n",
              "      <td>258</td>\n",
              "      <td>690.455096</td>\n",
              "      <td>Obery Farms</td>\n",
              "    </tr>\n",
              "    <tr>\n",
              "      <th>2017-01-01 03:00:00</th>\n",
              "      <td>location 7369</td>\n",
              "      <td>13.3</td>\n",
              "      <td>1022.2</td>\n",
              "      <td>0.000000</td>\n",
              "      <td>3.1</td>\n",
              "      <td>fid_110884</td>\n",
              "      <td>ing_w</td>\n",
              "      <td>387</td>\n",
              "      <td>690.455096</td>\n",
              "      <td>Obery Farms</td>\n",
              "    </tr>\n",
              "    <tr>\n",
              "      <th>2017-01-01 04:00:00</th>\n",
              "      <td>location 7369</td>\n",
              "      <td>13.3</td>\n",
              "      <td>1022.3</td>\n",
              "      <td>0.000000</td>\n",
              "      <td>2.6</td>\n",
              "      <td>fid_110884</td>\n",
              "      <td>ing_w</td>\n",
              "      <td>516</td>\n",
              "      <td>690.455096</td>\n",
              "      <td>Obery Farms</td>\n",
              "    </tr>\n",
              "  </tbody>\n",
              "</table>\n",
              "</div>"
            ],
            "text/plain": [
              "                    deidentified_location  dew_temp  ...   farm_area  farming_company\n",
              "timestamp                                            ...                             \n",
              "2017-01-01 00:00:00         location 7369      11.7  ...  690.455096      Obery Farms\n",
              "2017-01-01 01:00:00         location 7369      12.8  ...  690.455096      Obery Farms\n",
              "2017-01-01 02:00:00         location 7369      12.8  ...  690.455096      Obery Farms\n",
              "2017-01-01 03:00:00         location 7369      13.3  ...  690.455096      Obery Farms\n",
              "2017-01-01 04:00:00         location 7369      13.3  ...  690.455096      Obery Farms\n",
              "\n",
              "[5 rows x 10 columns]"
            ]
          },
          "metadata": {
            "tags": []
          },
          "execution_count": 48
        }
      ]
    },
    {
      "cell_type": "code",
      "metadata": {
        "colab": {
          "base_uri": "https://localhost:8080/"
        },
        "id": "b4Hjk0U5Bo0o",
        "outputId": "a7123e01-855a-4d95-bc8a-dd155203919e"
      },
      "source": [
        "df_test.drop(['deidentified_location', 'farming_company','farm_area'], axis=1, inplace=True)"
      ],
      "execution_count": null,
      "outputs": [
        {
          "output_type": "stream",
          "text": [
            "/usr/local/lib/python3.6/dist-packages/pandas/core/frame.py:4174: SettingWithCopyWarning:\n",
            "\n",
            "\n",
            "A value is trying to be set on a copy of a slice from a DataFrame\n",
            "\n",
            "See the caveats in the documentation: https://pandas.pydata.org/pandas-docs/stable/user_guide/indexing.html#returning-a-view-versus-a-copy\n",
            "\n"
          ],
          "name": "stderr"
        }
      ]
    },
    {
      "cell_type": "code",
      "metadata": {
        "id": "cJv2zAL3LzHD"
      },
      "source": [
        "df_test2 = df_test.copy()"
      ],
      "execution_count": null,
      "outputs": []
    },
    {
      "cell_type": "code",
      "metadata": {
        "id": "rxVM9K-NLrVO"
      },
      "source": [
        "df_test2.drop(['farm_id','id'], axis=1, inplace=True)"
      ],
      "execution_count": null,
      "outputs": []
    },
    {
      "cell_type": "code",
      "metadata": {
        "colab": {
          "base_uri": "https://localhost:8080/",
          "height": 225
        },
        "id": "WVJXGryCeD5t",
        "outputId": "22e236e5-d539-47f3-f876-329e26a40d2e"
      },
      "source": [
        "df_test2.head()"
      ],
      "execution_count": null,
      "outputs": [
        {
          "output_type": "execute_result",
          "data": {
            "text/html": [
              "<div>\n",
              "<style scoped>\n",
              "    .dataframe tbody tr th:only-of-type {\n",
              "        vertical-align: middle;\n",
              "    }\n",
              "\n",
              "    .dataframe tbody tr th {\n",
              "        vertical-align: top;\n",
              "    }\n",
              "\n",
              "    .dataframe thead th {\n",
              "        text-align: right;\n",
              "    }\n",
              "</style>\n",
              "<table border=\"1\" class=\"dataframe\">\n",
              "  <thead>\n",
              "    <tr style=\"text-align: right;\">\n",
              "      <th></th>\n",
              "      <th>dew_temp</th>\n",
              "      <th>pressure_sea_level</th>\n",
              "      <th>precipitation</th>\n",
              "      <th>wind_speed</th>\n",
              "      <th>ingredient_type</th>\n",
              "    </tr>\n",
              "    <tr>\n",
              "      <th>timestamp</th>\n",
              "      <th></th>\n",
              "      <th></th>\n",
              "      <th></th>\n",
              "      <th></th>\n",
              "      <th></th>\n",
              "    </tr>\n",
              "  </thead>\n",
              "  <tbody>\n",
              "    <tr>\n",
              "      <th>2017-01-01 00:00:00</th>\n",
              "      <td>11.7</td>\n",
              "      <td>1021.4</td>\n",
              "      <td>0.808699</td>\n",
              "      <td>3.6</td>\n",
              "      <td>ing_w</td>\n",
              "    </tr>\n",
              "    <tr>\n",
              "      <th>2017-01-01 01:00:00</th>\n",
              "      <td>12.8</td>\n",
              "      <td>1022.0</td>\n",
              "      <td>0.000000</td>\n",
              "      <td>3.1</td>\n",
              "      <td>ing_w</td>\n",
              "    </tr>\n",
              "    <tr>\n",
              "      <th>2017-01-01 02:00:00</th>\n",
              "      <td>12.8</td>\n",
              "      <td>1021.9</td>\n",
              "      <td>0.000000</td>\n",
              "      <td>3.1</td>\n",
              "      <td>ing_w</td>\n",
              "    </tr>\n",
              "    <tr>\n",
              "      <th>2017-01-01 03:00:00</th>\n",
              "      <td>13.3</td>\n",
              "      <td>1022.2</td>\n",
              "      <td>0.000000</td>\n",
              "      <td>3.1</td>\n",
              "      <td>ing_w</td>\n",
              "    </tr>\n",
              "    <tr>\n",
              "      <th>2017-01-01 04:00:00</th>\n",
              "      <td>13.3</td>\n",
              "      <td>1022.3</td>\n",
              "      <td>0.000000</td>\n",
              "      <td>2.6</td>\n",
              "      <td>ing_w</td>\n",
              "    </tr>\n",
              "  </tbody>\n",
              "</table>\n",
              "</div>"
            ],
            "text/plain": [
              "                     dew_temp  pressure_sea_level  ...  wind_speed  ingredient_type\n",
              "timestamp                                          ...                             \n",
              "2017-01-01 00:00:00      11.7              1021.4  ...         3.6            ing_w\n",
              "2017-01-01 01:00:00      12.8              1022.0  ...         3.1            ing_w\n",
              "2017-01-01 02:00:00      12.8              1021.9  ...         3.1            ing_w\n",
              "2017-01-01 03:00:00      13.3              1022.2  ...         3.1            ing_w\n",
              "2017-01-01 04:00:00      13.3              1022.3  ...         2.6            ing_w\n",
              "\n",
              "[5 rows x 5 columns]"
            ]
          },
          "metadata": {
            "tags": []
          },
          "execution_count": 518
        }
      ]
    },
    {
      "cell_type": "code",
      "metadata": {
        "id": "OEtqquaSeI-C"
      },
      "source": [
        "df_test2 = df_test2[['ingredient_type','dew_temp','pressure_sea_level','precipitation','wind_speed']]"
      ],
      "execution_count": null,
      "outputs": []
    },
    {
      "cell_type": "code",
      "metadata": {
        "id": "bh_PlF3Ij5_p"
      },
      "source": [
        "df_test2['yield'] = 0"
      ],
      "execution_count": null,
      "outputs": []
    },
    {
      "cell_type": "code",
      "metadata": {
        "colab": {
          "base_uri": "https://localhost:8080/",
          "height": 225
        },
        "id": "MUGS3u46fLLv",
        "outputId": "1392d1ac-08a1-40c7-defd-418a0e8788ae"
      },
      "source": [
        "df.columns\r\n",
        "\r\n",
        "col = df_test2.pop(\"yield\")\r\n",
        "df_test2.insert(0, col.name, col)\r\n",
        "df_test2.head()"
      ],
      "execution_count": null,
      "outputs": [
        {
          "output_type": "execute_result",
          "data": {
            "text/html": [
              "<div>\n",
              "<style scoped>\n",
              "    .dataframe tbody tr th:only-of-type {\n",
              "        vertical-align: middle;\n",
              "    }\n",
              "\n",
              "    .dataframe tbody tr th {\n",
              "        vertical-align: top;\n",
              "    }\n",
              "\n",
              "    .dataframe thead th {\n",
              "        text-align: right;\n",
              "    }\n",
              "</style>\n",
              "<table border=\"1\" class=\"dataframe\">\n",
              "  <thead>\n",
              "    <tr style=\"text-align: right;\">\n",
              "      <th></th>\n",
              "      <th>yield</th>\n",
              "      <th>ingredient_type</th>\n",
              "      <th>dew_temp</th>\n",
              "      <th>pressure_sea_level</th>\n",
              "      <th>precipitation</th>\n",
              "      <th>wind_speed</th>\n",
              "    </tr>\n",
              "    <tr>\n",
              "      <th>timestamp</th>\n",
              "      <th></th>\n",
              "      <th></th>\n",
              "      <th></th>\n",
              "      <th></th>\n",
              "      <th></th>\n",
              "      <th></th>\n",
              "    </tr>\n",
              "  </thead>\n",
              "  <tbody>\n",
              "    <tr>\n",
              "      <th>2017-01-01 00:00:00</th>\n",
              "      <td>0</td>\n",
              "      <td>ing_w</td>\n",
              "      <td>11.7</td>\n",
              "      <td>1021.4</td>\n",
              "      <td>0.808699</td>\n",
              "      <td>3.6</td>\n",
              "    </tr>\n",
              "    <tr>\n",
              "      <th>2017-01-01 01:00:00</th>\n",
              "      <td>0</td>\n",
              "      <td>ing_w</td>\n",
              "      <td>12.8</td>\n",
              "      <td>1022.0</td>\n",
              "      <td>0.000000</td>\n",
              "      <td>3.1</td>\n",
              "    </tr>\n",
              "    <tr>\n",
              "      <th>2017-01-01 02:00:00</th>\n",
              "      <td>0</td>\n",
              "      <td>ing_w</td>\n",
              "      <td>12.8</td>\n",
              "      <td>1021.9</td>\n",
              "      <td>0.000000</td>\n",
              "      <td>3.1</td>\n",
              "    </tr>\n",
              "    <tr>\n",
              "      <th>2017-01-01 03:00:00</th>\n",
              "      <td>0</td>\n",
              "      <td>ing_w</td>\n",
              "      <td>13.3</td>\n",
              "      <td>1022.2</td>\n",
              "      <td>0.000000</td>\n",
              "      <td>3.1</td>\n",
              "    </tr>\n",
              "    <tr>\n",
              "      <th>2017-01-01 04:00:00</th>\n",
              "      <td>0</td>\n",
              "      <td>ing_w</td>\n",
              "      <td>13.3</td>\n",
              "      <td>1022.3</td>\n",
              "      <td>0.000000</td>\n",
              "      <td>2.6</td>\n",
              "    </tr>\n",
              "  </tbody>\n",
              "</table>\n",
              "</div>"
            ],
            "text/plain": [
              "                     yield ingredient_type  ...  precipitation  wind_speed\n",
              "timestamp                                   ...                           \n",
              "2017-01-01 00:00:00      0           ing_w  ...       0.808699         3.6\n",
              "2017-01-01 01:00:00      0           ing_w  ...       0.000000         3.1\n",
              "2017-01-01 02:00:00      0           ing_w  ...       0.000000         3.1\n",
              "2017-01-01 03:00:00      0           ing_w  ...       0.000000         3.1\n",
              "2017-01-01 04:00:00      0           ing_w  ...       0.000000         2.6\n",
              "\n",
              "[5 rows x 6 columns]"
            ]
          },
          "metadata": {
            "tags": []
          },
          "execution_count": 521
        }
      ]
    },
    {
      "cell_type": "code",
      "metadata": {
        "colab": {
          "base_uri": "https://localhost:8080/"
        },
        "id": "3mjMISnoLW1M",
        "outputId": "bdd81a99-0351-47d5-91ef-c1a279f1358a"
      },
      "source": [
        "labelEncoder = LabelEncoder()\r\n",
        "df_test2['ingredient_type'] = labelEncoder.fit_transform(df_test2['ingredient_type'])\r\n",
        "test_values = df_test2.values\r\n",
        "print(test_values.shape)\r\n",
        "test_values = test_values.astype('float32')"
      ],
      "execution_count": null,
      "outputs": [
        {
          "output_type": "stream",
          "text": [
            "(8760, 6)\n"
          ],
          "name": "stdout"
        }
      ]
    },
    {
      "cell_type": "code",
      "metadata": {
        "colab": {
          "base_uri": "https://localhost:8080/",
          "height": 402
        },
        "id": "v35LbhNWLn1U",
        "outputId": "93403bf1-536d-4535-fe16-6b7793c59593"
      },
      "source": [
        "series_to_supervised(test_values,1,1)"
      ],
      "execution_count": null,
      "outputs": [
        {
          "output_type": "execute_result",
          "data": {
            "text/html": [
              "<div>\n",
              "<style scoped>\n",
              "    .dataframe tbody tr th:only-of-type {\n",
              "        vertical-align: middle;\n",
              "    }\n",
              "\n",
              "    .dataframe tbody tr th {\n",
              "        vertical-align: top;\n",
              "    }\n",
              "\n",
              "    .dataframe thead th {\n",
              "        text-align: right;\n",
              "    }\n",
              "</style>\n",
              "<table border=\"1\" class=\"dataframe\">\n",
              "  <thead>\n",
              "    <tr style=\"text-align: right;\">\n",
              "      <th></th>\n",
              "      <th>var1(t-1)</th>\n",
              "      <th>var2(t-1)</th>\n",
              "      <th>var3(t-1)</th>\n",
              "      <th>var4(t-1)</th>\n",
              "      <th>var5(t-1)</th>\n",
              "      <th>var6(t-1)</th>\n",
              "      <th>var1(t)</th>\n",
              "      <th>var2(t)</th>\n",
              "      <th>var3(t)</th>\n",
              "      <th>var4(t)</th>\n",
              "      <th>var5(t)</th>\n",
              "      <th>var6(t)</th>\n",
              "    </tr>\n",
              "  </thead>\n",
              "  <tbody>\n",
              "    <tr>\n",
              "      <th>1</th>\n",
              "      <td>0.0</td>\n",
              "      <td>0.0</td>\n",
              "      <td>11.7</td>\n",
              "      <td>1021.400024</td>\n",
              "      <td>0.808699</td>\n",
              "      <td>3.6</td>\n",
              "      <td>0.0</td>\n",
              "      <td>0.0</td>\n",
              "      <td>12.8</td>\n",
              "      <td>1022.000000</td>\n",
              "      <td>0.0</td>\n",
              "      <td>3.1</td>\n",
              "    </tr>\n",
              "    <tr>\n",
              "      <th>2</th>\n",
              "      <td>0.0</td>\n",
              "      <td>0.0</td>\n",
              "      <td>12.8</td>\n",
              "      <td>1022.000000</td>\n",
              "      <td>0.000000</td>\n",
              "      <td>3.1</td>\n",
              "      <td>0.0</td>\n",
              "      <td>0.0</td>\n",
              "      <td>12.8</td>\n",
              "      <td>1021.900024</td>\n",
              "      <td>0.0</td>\n",
              "      <td>3.1</td>\n",
              "    </tr>\n",
              "    <tr>\n",
              "      <th>3</th>\n",
              "      <td>0.0</td>\n",
              "      <td>0.0</td>\n",
              "      <td>12.8</td>\n",
              "      <td>1021.900024</td>\n",
              "      <td>0.000000</td>\n",
              "      <td>3.1</td>\n",
              "      <td>0.0</td>\n",
              "      <td>0.0</td>\n",
              "      <td>13.3</td>\n",
              "      <td>1022.200012</td>\n",
              "      <td>0.0</td>\n",
              "      <td>3.1</td>\n",
              "    </tr>\n",
              "    <tr>\n",
              "      <th>4</th>\n",
              "      <td>0.0</td>\n",
              "      <td>0.0</td>\n",
              "      <td>13.3</td>\n",
              "      <td>1022.200012</td>\n",
              "      <td>0.000000</td>\n",
              "      <td>3.1</td>\n",
              "      <td>0.0</td>\n",
              "      <td>0.0</td>\n",
              "      <td>13.3</td>\n",
              "      <td>1022.299988</td>\n",
              "      <td>0.0</td>\n",
              "      <td>2.6</td>\n",
              "    </tr>\n",
              "    <tr>\n",
              "      <th>5</th>\n",
              "      <td>0.0</td>\n",
              "      <td>0.0</td>\n",
              "      <td>13.3</td>\n",
              "      <td>1022.299988</td>\n",
              "      <td>0.000000</td>\n",
              "      <td>2.6</td>\n",
              "      <td>0.0</td>\n",
              "      <td>0.0</td>\n",
              "      <td>12.8</td>\n",
              "      <td>1022.099976</td>\n",
              "      <td>0.0</td>\n",
              "      <td>2.1</td>\n",
              "    </tr>\n",
              "    <tr>\n",
              "      <th>...</th>\n",
              "      <td>...</td>\n",
              "      <td>...</td>\n",
              "      <td>...</td>\n",
              "      <td>...</td>\n",
              "      <td>...</td>\n",
              "      <td>...</td>\n",
              "      <td>...</td>\n",
              "      <td>...</td>\n",
              "      <td>...</td>\n",
              "      <td>...</td>\n",
              "      <td>...</td>\n",
              "      <td>...</td>\n",
              "    </tr>\n",
              "    <tr>\n",
              "      <th>8755</th>\n",
              "      <td>0.0</td>\n",
              "      <td>0.0</td>\n",
              "      <td>6.7</td>\n",
              "      <td>1021.099976</td>\n",
              "      <td>0.000000</td>\n",
              "      <td>0.0</td>\n",
              "      <td>0.0</td>\n",
              "      <td>0.0</td>\n",
              "      <td>7.2</td>\n",
              "      <td>1019.400024</td>\n",
              "      <td>0.0</td>\n",
              "      <td>2.6</td>\n",
              "    </tr>\n",
              "    <tr>\n",
              "      <th>8756</th>\n",
              "      <td>0.0</td>\n",
              "      <td>0.0</td>\n",
              "      <td>7.2</td>\n",
              "      <td>1019.400024</td>\n",
              "      <td>0.000000</td>\n",
              "      <td>2.6</td>\n",
              "      <td>0.0</td>\n",
              "      <td>0.0</td>\n",
              "      <td>8.3</td>\n",
              "      <td>1019.099976</td>\n",
              "      <td>0.0</td>\n",
              "      <td>1.5</td>\n",
              "    </tr>\n",
              "    <tr>\n",
              "      <th>8757</th>\n",
              "      <td>0.0</td>\n",
              "      <td>0.0</td>\n",
              "      <td>8.3</td>\n",
              "      <td>1019.099976</td>\n",
              "      <td>0.000000</td>\n",
              "      <td>1.5</td>\n",
              "      <td>0.0</td>\n",
              "      <td>0.0</td>\n",
              "      <td>8.9</td>\n",
              "      <td>1019.200012</td>\n",
              "      <td>0.0</td>\n",
              "      <td>1.5</td>\n",
              "    </tr>\n",
              "    <tr>\n",
              "      <th>8758</th>\n",
              "      <td>0.0</td>\n",
              "      <td>0.0</td>\n",
              "      <td>8.9</td>\n",
              "      <td>1019.200012</td>\n",
              "      <td>0.000000</td>\n",
              "      <td>1.5</td>\n",
              "      <td>0.0</td>\n",
              "      <td>0.0</td>\n",
              "      <td>8.9</td>\n",
              "      <td>1019.200012</td>\n",
              "      <td>0.0</td>\n",
              "      <td>1.5</td>\n",
              "    </tr>\n",
              "    <tr>\n",
              "      <th>8759</th>\n",
              "      <td>0.0</td>\n",
              "      <td>0.0</td>\n",
              "      <td>8.9</td>\n",
              "      <td>1019.200012</td>\n",
              "      <td>0.000000</td>\n",
              "      <td>1.5</td>\n",
              "      <td>0.0</td>\n",
              "      <td>0.0</td>\n",
              "      <td>9.4</td>\n",
              "      <td>1019.599976</td>\n",
              "      <td>0.0</td>\n",
              "      <td>1.5</td>\n",
              "    </tr>\n",
              "  </tbody>\n",
              "</table>\n",
              "<p>8759 rows × 12 columns</p>\n",
              "</div>"
            ],
            "text/plain": [
              "      var1(t-1)  var2(t-1)  var3(t-1)  ...      var4(t)  var5(t)  var6(t)\n",
              "1           0.0        0.0       11.7  ...  1022.000000      0.0      3.1\n",
              "2           0.0        0.0       12.8  ...  1021.900024      0.0      3.1\n",
              "3           0.0        0.0       12.8  ...  1022.200012      0.0      3.1\n",
              "4           0.0        0.0       13.3  ...  1022.299988      0.0      2.6\n",
              "5           0.0        0.0       13.3  ...  1022.099976      0.0      2.1\n",
              "...         ...        ...        ...  ...          ...      ...      ...\n",
              "8755        0.0        0.0        6.7  ...  1019.400024      0.0      2.6\n",
              "8756        0.0        0.0        7.2  ...  1019.099976      0.0      1.5\n",
              "8757        0.0        0.0        8.3  ...  1019.200012      0.0      1.5\n",
              "8758        0.0        0.0        8.9  ...  1019.200012      0.0      1.5\n",
              "8759        0.0        0.0        8.9  ...  1019.599976      0.0      1.5\n",
              "\n",
              "[8759 rows x 12 columns]"
            ]
          },
          "metadata": {
            "tags": []
          },
          "execution_count": 523
        }
      ]
    },
    {
      "cell_type": "code",
      "metadata": {
        "colab": {
          "base_uri": "https://localhost:8080/",
          "height": 195
        },
        "id": "EpAGGYY3MWXR",
        "outputId": "08371db3-1b6e-4b8c-c80b-c55a864ddbd8"
      },
      "source": [
        "test_reframed = series_to_supervised(test_values,1,1)\r\n",
        "# drop columns we don't want to predict\r\n",
        "test_reframed.drop(test_reframed.columns[[7,8,9,10,11]], axis=1, inplace=True)\r\n",
        "test_reframed.head()"
      ],
      "execution_count": null,
      "outputs": [
        {
          "output_type": "execute_result",
          "data": {
            "text/html": [
              "<div>\n",
              "<style scoped>\n",
              "    .dataframe tbody tr th:only-of-type {\n",
              "        vertical-align: middle;\n",
              "    }\n",
              "\n",
              "    .dataframe tbody tr th {\n",
              "        vertical-align: top;\n",
              "    }\n",
              "\n",
              "    .dataframe thead th {\n",
              "        text-align: right;\n",
              "    }\n",
              "</style>\n",
              "<table border=\"1\" class=\"dataframe\">\n",
              "  <thead>\n",
              "    <tr style=\"text-align: right;\">\n",
              "      <th></th>\n",
              "      <th>var1(t-1)</th>\n",
              "      <th>var2(t-1)</th>\n",
              "      <th>var3(t-1)</th>\n",
              "      <th>var4(t-1)</th>\n",
              "      <th>var5(t-1)</th>\n",
              "      <th>var6(t-1)</th>\n",
              "      <th>var1(t)</th>\n",
              "    </tr>\n",
              "  </thead>\n",
              "  <tbody>\n",
              "    <tr>\n",
              "      <th>1</th>\n",
              "      <td>0.0</td>\n",
              "      <td>0.0</td>\n",
              "      <td>11.7</td>\n",
              "      <td>1021.400024</td>\n",
              "      <td>0.808699</td>\n",
              "      <td>3.6</td>\n",
              "      <td>0.0</td>\n",
              "    </tr>\n",
              "    <tr>\n",
              "      <th>2</th>\n",
              "      <td>0.0</td>\n",
              "      <td>0.0</td>\n",
              "      <td>12.8</td>\n",
              "      <td>1022.000000</td>\n",
              "      <td>0.000000</td>\n",
              "      <td>3.1</td>\n",
              "      <td>0.0</td>\n",
              "    </tr>\n",
              "    <tr>\n",
              "      <th>3</th>\n",
              "      <td>0.0</td>\n",
              "      <td>0.0</td>\n",
              "      <td>12.8</td>\n",
              "      <td>1021.900024</td>\n",
              "      <td>0.000000</td>\n",
              "      <td>3.1</td>\n",
              "      <td>0.0</td>\n",
              "    </tr>\n",
              "    <tr>\n",
              "      <th>4</th>\n",
              "      <td>0.0</td>\n",
              "      <td>0.0</td>\n",
              "      <td>13.3</td>\n",
              "      <td>1022.200012</td>\n",
              "      <td>0.000000</td>\n",
              "      <td>3.1</td>\n",
              "      <td>0.0</td>\n",
              "    </tr>\n",
              "    <tr>\n",
              "      <th>5</th>\n",
              "      <td>0.0</td>\n",
              "      <td>0.0</td>\n",
              "      <td>13.3</td>\n",
              "      <td>1022.299988</td>\n",
              "      <td>0.000000</td>\n",
              "      <td>2.6</td>\n",
              "      <td>0.0</td>\n",
              "    </tr>\n",
              "  </tbody>\n",
              "</table>\n",
              "</div>"
            ],
            "text/plain": [
              "   var1(t-1)  var2(t-1)  var3(t-1)    var4(t-1)  var5(t-1)  var6(t-1)  var1(t)\n",
              "1        0.0        0.0       11.7  1021.400024   0.808699        3.6      0.0\n",
              "2        0.0        0.0       12.8  1022.000000   0.000000        3.1      0.0\n",
              "3        0.0        0.0       12.8  1021.900024   0.000000        3.1      0.0\n",
              "4        0.0        0.0       13.3  1022.200012   0.000000        3.1      0.0\n",
              "5        0.0        0.0       13.3  1022.299988   0.000000        2.6      0.0"
            ]
          },
          "metadata": {
            "tags": []
          },
          "execution_count": 524
        }
      ]
    },
    {
      "cell_type": "code",
      "metadata": {
        "colab": {
          "base_uri": "https://localhost:8080/",
          "height": 195
        },
        "id": "N1pDut1tNPDX",
        "outputId": "a1e57a17-e886-4d75-e120-c9c7f43ac789"
      },
      "source": [
        "scaler = MinMaxScaler(feature_range=(0,1))\r\n",
        "scaled = scaler.fit_transform(test_values)\r\n",
        "test_reframed = series_to_supervised(scaled,1,1)\r\n",
        "# drop columns we don't want to predict\r\n",
        "test_reframed.drop(test_reframed.columns[[7,8,9,10,11]], axis=1, inplace=True)\r\n",
        "test_reframed.head()"
      ],
      "execution_count": null,
      "outputs": [
        {
          "output_type": "execute_result",
          "data": {
            "text/html": [
              "<div>\n",
              "<style scoped>\n",
              "    .dataframe tbody tr th:only-of-type {\n",
              "        vertical-align: middle;\n",
              "    }\n",
              "\n",
              "    .dataframe tbody tr th {\n",
              "        vertical-align: top;\n",
              "    }\n",
              "\n",
              "    .dataframe thead th {\n",
              "        text-align: right;\n",
              "    }\n",
              "</style>\n",
              "<table border=\"1\" class=\"dataframe\">\n",
              "  <thead>\n",
              "    <tr style=\"text-align: right;\">\n",
              "      <th></th>\n",
              "      <th>var1(t-1)</th>\n",
              "      <th>var2(t-1)</th>\n",
              "      <th>var3(t-1)</th>\n",
              "      <th>var4(t-1)</th>\n",
              "      <th>var5(t-1)</th>\n",
              "      <th>var6(t-1)</th>\n",
              "      <th>var1(t)</th>\n",
              "    </tr>\n",
              "  </thead>\n",
              "  <tbody>\n",
              "    <tr>\n",
              "      <th>1</th>\n",
              "      <td>0.0</td>\n",
              "      <td>0.0</td>\n",
              "      <td>0.597855</td>\n",
              "      <td>0.730560</td>\n",
              "      <td>0.003025</td>\n",
              "      <td>0.148760</td>\n",
              "      <td>0.0</td>\n",
              "    </tr>\n",
              "    <tr>\n",
              "      <th>2</th>\n",
              "      <td>0.0</td>\n",
              "      <td>0.0</td>\n",
              "      <td>0.627346</td>\n",
              "      <td>0.741409</td>\n",
              "      <td>0.001672</td>\n",
              "      <td>0.128099</td>\n",
              "      <td>0.0</td>\n",
              "    </tr>\n",
              "    <tr>\n",
              "      <th>3</th>\n",
              "      <td>0.0</td>\n",
              "      <td>0.0</td>\n",
              "      <td>0.627346</td>\n",
              "      <td>0.739603</td>\n",
              "      <td>0.001672</td>\n",
              "      <td>0.128099</td>\n",
              "      <td>0.0</td>\n",
              "    </tr>\n",
              "    <tr>\n",
              "      <th>4</th>\n",
              "      <td>0.0</td>\n",
              "      <td>0.0</td>\n",
              "      <td>0.640751</td>\n",
              "      <td>0.745028</td>\n",
              "      <td>0.001672</td>\n",
              "      <td>0.128099</td>\n",
              "      <td>0.0</td>\n",
              "    </tr>\n",
              "    <tr>\n",
              "      <th>5</th>\n",
              "      <td>0.0</td>\n",
              "      <td>0.0</td>\n",
              "      <td>0.640751</td>\n",
              "      <td>0.746836</td>\n",
              "      <td>0.001672</td>\n",
              "      <td>0.107438</td>\n",
              "      <td>0.0</td>\n",
              "    </tr>\n",
              "  </tbody>\n",
              "</table>\n",
              "</div>"
            ],
            "text/plain": [
              "   var1(t-1)  var2(t-1)  var3(t-1)  var4(t-1)  var5(t-1)  var6(t-1)  var1(t)\n",
              "1        0.0        0.0   0.597855   0.730560   0.003025   0.148760      0.0\n",
              "2        0.0        0.0   0.627346   0.741409   0.001672   0.128099      0.0\n",
              "3        0.0        0.0   0.627346   0.739603   0.001672   0.128099      0.0\n",
              "4        0.0        0.0   0.640751   0.745028   0.001672   0.128099      0.0\n",
              "5        0.0        0.0   0.640751   0.746836   0.001672   0.107438      0.0"
            ]
          },
          "metadata": {
            "tags": []
          },
          "execution_count": 525
        }
      ]
    },
    {
      "cell_type": "code",
      "metadata": {
        "id": "MpknkRJbN86h"
      },
      "source": [
        "test_values = test_reframed.values\r\n",
        "n_train = 365*24\r\n",
        "test = test_values[:n_train]"
      ],
      "execution_count": null,
      "outputs": []
    },
    {
      "cell_type": "code",
      "metadata": {
        "id": "K2qZItr5hoCD"
      },
      "source": [
        "#trainX,trainY = train[:,:-1],train[:,-1]\r\n",
        "testX,testY = test[:,:-1],test[:,-1]"
      ],
      "execution_count": null,
      "outputs": []
    },
    {
      "cell_type": "code",
      "metadata": {
        "colab": {
          "base_uri": "https://localhost:8080/"
        },
        "id": "XLhFMwoggzth",
        "outputId": "4dba3daf-de92-4488-be57-9d9eace49fb1"
      },
      "source": [
        "print(testX.shape)"
      ],
      "execution_count": null,
      "outputs": [
        {
          "output_type": "stream",
          "text": [
            "(8759, 6)\n"
          ],
          "name": "stdout"
        }
      ]
    },
    {
      "cell_type": "code",
      "metadata": {
        "colab": {
          "base_uri": "https://localhost:8080/"
        },
        "id": "215LFw-KiJIK",
        "outputId": "cf929c08-638d-4b17-b6e9-187a017cd7d3"
      },
      "source": [
        "test_values.shape"
      ],
      "execution_count": null,
      "outputs": [
        {
          "output_type": "execute_result",
          "data": {
            "text/plain": [
              "(8759, 7)"
            ]
          },
          "metadata": {
            "tags": []
          },
          "execution_count": 529
        }
      ]
    },
    {
      "cell_type": "code",
      "metadata": {
        "id": "IIJskVwLViiQ"
      },
      "source": [
        "testX = testX.reshape(testX.shape[0],1,testX.shape[1])"
      ],
      "execution_count": null,
      "outputs": []
    },
    {
      "cell_type": "code",
      "metadata": {
        "colab": {
          "base_uri": "https://localhost:8080/"
        },
        "id": "zUdXSL5rPXCZ",
        "outputId": "e1b131df-9086-411a-cc19-d39cc06f3eef"
      },
      "source": [
        "testX[:,:]"
      ],
      "execution_count": null,
      "outputs": [
        {
          "output_type": "execute_result",
          "data": {
            "text/plain": [
              "array([[[0.        , 0.        , 0.5978552 , 0.7305603 , 0.00302458,\n",
              "         0.14876032]],\n",
              "\n",
              "       [[0.        , 0.        , 0.6273458 , 0.7414093 , 0.00167224,\n",
              "         0.12809917]],\n",
              "\n",
              "       [[0.        , 0.        , 0.6273458 , 0.73960304, 0.00167224,\n",
              "         0.12809917]],\n",
              "\n",
              "       ...,\n",
              "\n",
              "       [[0.        , 0.        , 0.5067024 , 0.68896866, 0.00167224,\n",
              "         0.06198347]],\n",
              "\n",
              "       [[0.        , 0.        , 0.52278817, 0.6907768 , 0.00167224,\n",
              "         0.06198347]],\n",
              "\n",
              "       [[0.        , 0.        , 0.52278817, 0.6907768 , 0.00167224,\n",
              "         0.06198347]]], dtype=float32)"
            ]
          },
          "metadata": {
            "tags": []
          },
          "execution_count": 531
        }
      ]
    },
    {
      "cell_type": "code",
      "metadata": {
        "id": "J-nLTWzOOogL"
      },
      "source": [
        "predicted = model.predict(testX)"
      ],
      "execution_count": null,
      "outputs": []
    },
    {
      "cell_type": "code",
      "metadata": {
        "colab": {
          "base_uri": "https://localhost:8080/",
          "height": 225
        },
        "id": "odFRjEyBRkZC",
        "outputId": "abc093da-f513-40c5-f009-48bbcc0224a2"
      },
      "source": [
        "df.head()"
      ],
      "execution_count": null,
      "outputs": [
        {
          "output_type": "execute_result",
          "data": {
            "text/html": [
              "<div>\n",
              "<style scoped>\n",
              "    .dataframe tbody tr th:only-of-type {\n",
              "        vertical-align: middle;\n",
              "    }\n",
              "\n",
              "    .dataframe tbody tr th {\n",
              "        vertical-align: top;\n",
              "    }\n",
              "\n",
              "    .dataframe thead th {\n",
              "        text-align: right;\n",
              "    }\n",
              "</style>\n",
              "<table border=\"1\" class=\"dataframe\">\n",
              "  <thead>\n",
              "    <tr style=\"text-align: right;\">\n",
              "      <th></th>\n",
              "      <th>yield</th>\n",
              "      <th>ingredient_type</th>\n",
              "      <th>dew_temp</th>\n",
              "      <th>pressure_sea_level</th>\n",
              "      <th>precipitation</th>\n",
              "      <th>wind_speed</th>\n",
              "    </tr>\n",
              "    <tr>\n",
              "      <th>timestamp</th>\n",
              "      <th></th>\n",
              "      <th></th>\n",
              "      <th></th>\n",
              "      <th></th>\n",
              "      <th></th>\n",
              "      <th></th>\n",
              "    </tr>\n",
              "  </thead>\n",
              "  <tbody>\n",
              "    <tr>\n",
              "      <th>2016-01-01 00:00:00</th>\n",
              "      <td>0.0</td>\n",
              "      <td>0</td>\n",
              "      <td>20.0</td>\n",
              "      <td>1019.7</td>\n",
              "      <td>0.793987</td>\n",
              "      <td>0.0</td>\n",
              "    </tr>\n",
              "    <tr>\n",
              "      <th>2016-01-01 01:00:00</th>\n",
              "      <td>0.0</td>\n",
              "      <td>0</td>\n",
              "      <td>21.1</td>\n",
              "      <td>1020.2</td>\n",
              "      <td>-1.000000</td>\n",
              "      <td>1.5</td>\n",
              "    </tr>\n",
              "    <tr>\n",
              "      <th>2016-01-01 02:00:00</th>\n",
              "      <td>0.0</td>\n",
              "      <td>0</td>\n",
              "      <td>21.1</td>\n",
              "      <td>1020.2</td>\n",
              "      <td>0.000000</td>\n",
              "      <td>0.0</td>\n",
              "    </tr>\n",
              "    <tr>\n",
              "      <th>2016-01-01 03:00:00</th>\n",
              "      <td>0.0</td>\n",
              "      <td>0</td>\n",
              "      <td>20.6</td>\n",
              "      <td>1020.1</td>\n",
              "      <td>0.000000</td>\n",
              "      <td>0.0</td>\n",
              "    </tr>\n",
              "    <tr>\n",
              "      <th>2016-01-01 04:00:00</th>\n",
              "      <td>0.0</td>\n",
              "      <td>0</td>\n",
              "      <td>20.0</td>\n",
              "      <td>1020.0</td>\n",
              "      <td>-1.000000</td>\n",
              "      <td>2.6</td>\n",
              "    </tr>\n",
              "  </tbody>\n",
              "</table>\n",
              "</div>"
            ],
            "text/plain": [
              "                     yield  ingredient_type  ...  precipitation  wind_speed\n",
              "timestamp                                    ...                           \n",
              "2016-01-01 00:00:00    0.0                0  ...       0.793987         0.0\n",
              "2016-01-01 01:00:00    0.0                0  ...      -1.000000         1.5\n",
              "2016-01-01 02:00:00    0.0                0  ...       0.000000         0.0\n",
              "2016-01-01 03:00:00    0.0                0  ...       0.000000         0.0\n",
              "2016-01-01 04:00:00    0.0                0  ...      -1.000000         2.6\n",
              "\n",
              "[5 rows x 6 columns]"
            ]
          },
          "metadata": {
            "tags": []
          },
          "execution_count": 533
        }
      ]
    },
    {
      "cell_type": "code",
      "metadata": {
        "colab": {
          "base_uri": "https://localhost:8080/"
        },
        "id": "PFfmex6rYBGR",
        "outputId": "5a159f85-2c16-4245-8393-0c50ab16e832"
      },
      "source": [
        "print(testX.shape)"
      ],
      "execution_count": null,
      "outputs": [
        {
          "output_type": "stream",
          "text": [
            "(8759, 1, 6)\n"
          ],
          "name": "stdout"
        }
      ]
    },
    {
      "cell_type": "code",
      "metadata": {
        "colab": {
          "base_uri": "https://localhost:8080/",
          "height": 162
        },
        "id": "XiQUKws5YG-u",
        "outputId": "40833068-53c3-4b8a-90fb-487cca0df448"
      },
      "source": [
        "#testYRe = testY.reshape(testY.shape[0],testY.shape[2])"
      ],
      "execution_count": null,
      "outputs": [
        {
          "output_type": "error",
          "ename": "IndexError",
          "evalue": "ignored",
          "traceback": [
            "\u001b[0;31m---------------------------------------------------------------------------\u001b[0m",
            "\u001b[0;31mIndexError\u001b[0m                                Traceback (most recent call last)",
            "\u001b[0;32m<ipython-input-536-28443c938d75>\u001b[0m in \u001b[0;36m<module>\u001b[0;34m()\u001b[0m\n\u001b[0;32m----> 1\u001b[0;31m \u001b[0mtestYRe\u001b[0m \u001b[0;34m=\u001b[0m \u001b[0mtestY\u001b[0m\u001b[0;34m.\u001b[0m\u001b[0mreshape\u001b[0m\u001b[0;34m(\u001b[0m\u001b[0mtestY\u001b[0m\u001b[0;34m.\u001b[0m\u001b[0mshape\u001b[0m\u001b[0;34m[\u001b[0m\u001b[0;36m0\u001b[0m\u001b[0;34m]\u001b[0m\u001b[0;34m,\u001b[0m\u001b[0mtestY\u001b[0m\u001b[0;34m.\u001b[0m\u001b[0mshape\u001b[0m\u001b[0;34m[\u001b[0m\u001b[0;36m2\u001b[0m\u001b[0;34m]\u001b[0m\u001b[0;34m)\u001b[0m\u001b[0;34m\u001b[0m\u001b[0;34m\u001b[0m\u001b[0m\n\u001b[0m",
            "\u001b[0;31mIndexError\u001b[0m: tuple index out of range"
          ]
        }
      ]
    },
    {
      "cell_type": "code",
      "metadata": {
        "id": "pKVwmufSlhXY"
      },
      "source": [
        "#predicted = model.predict(testX)"
      ],
      "execution_count": null,
      "outputs": []
    },
    {
      "cell_type": "code",
      "metadata": {
        "id": "wyJtwPAZlhXc"
      },
      "source": [
        "testXRe = testX.reshape(testX.shape[0],testX.shape[2])"
      ],
      "execution_count": null,
      "outputs": []
    },
    {
      "cell_type": "code",
      "metadata": {
        "id": "ayBu9CaBlhXc"
      },
      "source": [
        "predicted = np.concatenate((predicted,testXRe[:,1:]),axis=1)"
      ],
      "execution_count": null,
      "outputs": []
    },
    {
      "cell_type": "code",
      "metadata": {
        "id": "_i8TjKiWYttk"
      },
      "source": [
        "#predicted = np.concatenate((predicted,testYRe[:,1:]),axis=1)"
      ],
      "execution_count": null,
      "outputs": []
    },
    {
      "cell_type": "code",
      "metadata": {
        "colab": {
          "base_uri": "https://localhost:8080/"
        },
        "id": "tFs9uJoaY2KV",
        "outputId": "113d72a4-93a8-4da3-c1d4-5618cc6489bd"
      },
      "source": [
        "#scaler = MinMaxScaler(feature_range=(0,1))\r\n",
        "#scaler.fit(predicted)"
      ],
      "execution_count": null,
      "outputs": [
        {
          "output_type": "execute_result",
          "data": {
            "text/plain": [
              "MinMaxScaler(copy=True, feature_range=(0, 1))"
            ]
          },
          "metadata": {
            "tags": []
          },
          "execution_count": 325
        }
      ]
    },
    {
      "cell_type": "code",
      "metadata": {
        "id": "DNDE5hhHY8Sd"
      },
      "source": [
        "predicted = scaler.inverse_transform(predicted)"
      ],
      "execution_count": null,
      "outputs": []
    },
    {
      "cell_type": "code",
      "metadata": {
        "colab": {
          "base_uri": "https://localhost:8080/"
        },
        "id": "UHCpJXhhnOYH",
        "outputId": "6a835891-b401-423a-8318-ce4f7afd5bdb"
      },
      "source": [
        "predicted[0:,]"
      ],
      "execution_count": null,
      "outputs": [
        {
          "output_type": "execute_result",
          "data": {
            "text/plain": [
              "array([[1.17377959e-01, 0.00000000e+00, 1.16999998e+01, 1.02140002e+03,\n",
              "        8.08699250e-01, 3.59999967e+00],\n",
              "       [1.18414834e-01, 0.00000000e+00, 1.27999992e+01, 1.02199994e+03,\n",
              "        0.00000000e+00, 3.10000014e+00],\n",
              "       [1.18366264e-01, 0.00000000e+00, 1.27999992e+01, 1.02190009e+03,\n",
              "        0.00000000e+00, 3.10000014e+00],\n",
              "       ...,\n",
              "       [1.09632000e-01, 0.00000000e+00, 8.30000114e+00, 1.01909998e+03,\n",
              "        0.00000000e+00, 1.50000000e+00],\n",
              "       [1.10400304e-01, 0.00000000e+00, 8.89999866e+00, 1.01919995e+03,\n",
              "        0.00000000e+00, 1.50000000e+00],\n",
              "       [1.10400304e-01, 0.00000000e+00, 8.89999866e+00, 1.01919995e+03,\n",
              "        0.00000000e+00, 1.50000000e+00]], dtype=float32)"
            ]
          },
          "metadata": {
            "tags": []
          },
          "execution_count": 544
        }
      ]
    },
    {
      "cell_type": "code",
      "metadata": {
        "id": "L4w_TzVWZDoO"
      },
      "source": [
        "result = pd.concat([pd.Series(predicted[:,0]),pd.Series(df_test['id'])],axis=1)\r\n",
        "result.columns = ['yield','id']\r\n"
      ],
      "execution_count": null,
      "outputs": []
    },
    {
      "cell_type": "code",
      "metadata": {
        "colab": {
          "base_uri": "https://localhost:8080/",
          "height": 195
        },
        "id": "uqErvhLVZc2-",
        "outputId": "5f1d8f9a-342d-4807-bcb1-e1743e85c1f1"
      },
      "source": [
        "result.head()"
      ],
      "execution_count": null,
      "outputs": [
        {
          "output_type": "execute_result",
          "data": {
            "text/html": [
              "<div>\n",
              "<style scoped>\n",
              "    .dataframe tbody tr th:only-of-type {\n",
              "        vertical-align: middle;\n",
              "    }\n",
              "\n",
              "    .dataframe tbody tr th {\n",
              "        vertical-align: top;\n",
              "    }\n",
              "\n",
              "    .dataframe thead th {\n",
              "        text-align: right;\n",
              "    }\n",
              "</style>\n",
              "<table border=\"1\" class=\"dataframe\">\n",
              "  <thead>\n",
              "    <tr style=\"text-align: right;\">\n",
              "      <th></th>\n",
              "      <th>yield</th>\n",
              "      <th>id</th>\n",
              "    </tr>\n",
              "  </thead>\n",
              "  <tbody>\n",
              "    <tr>\n",
              "      <th>0</th>\n",
              "      <td>0.117378</td>\n",
              "      <td>NaN</td>\n",
              "    </tr>\n",
              "    <tr>\n",
              "      <th>1</th>\n",
              "      <td>0.118415</td>\n",
              "      <td>NaN</td>\n",
              "    </tr>\n",
              "    <tr>\n",
              "      <th>2</th>\n",
              "      <td>0.118366</td>\n",
              "      <td>NaN</td>\n",
              "    </tr>\n",
              "    <tr>\n",
              "      <th>3</th>\n",
              "      <td>0.119135</td>\n",
              "      <td>NaN</td>\n",
              "    </tr>\n",
              "    <tr>\n",
              "      <th>4</th>\n",
              "      <td>0.118629</td>\n",
              "      <td>NaN</td>\n",
              "    </tr>\n",
              "  </tbody>\n",
              "</table>\n",
              "</div>"
            ],
            "text/plain": [
              "      yield  id\n",
              "0  0.117378 NaN\n",
              "1  0.118415 NaN\n",
              "2  0.118366 NaN\n",
              "3  0.119135 NaN\n",
              "4  0.118629 NaN"
            ]
          },
          "metadata": {
            "tags": []
          },
          "execution_count": 511
        }
      ]
    },
    {
      "cell_type": "code",
      "metadata": {
        "colab": {
          "base_uri": "https://localhost:8080/"
        },
        "id": "BOgM3SsHZwg-",
        "outputId": "998eda56-9055-4f4c-9d86-9ef0a7ff4596"
      },
      "source": [
        "result.shape"
      ],
      "execution_count": null,
      "outputs": [
        {
          "output_type": "execute_result",
          "data": {
            "text/plain": [
              "(17519, 2)"
            ]
          },
          "metadata": {
            "tags": []
          },
          "execution_count": 512
        }
      ]
    },
    {
      "cell_type": "code",
      "metadata": {
        "colab": {
          "base_uri": "https://localhost:8080/",
          "height": 225
        },
        "id": "v9wlr0BAZ7VE",
        "outputId": "f36b35f4-3d2a-4a42-9668-353b614b0e97"
      },
      "source": [
        "df.head()"
      ],
      "execution_count": null,
      "outputs": [
        {
          "output_type": "execute_result",
          "data": {
            "text/html": [
              "<div>\n",
              "<style scoped>\n",
              "    .dataframe tbody tr th:only-of-type {\n",
              "        vertical-align: middle;\n",
              "    }\n",
              "\n",
              "    .dataframe tbody tr th {\n",
              "        vertical-align: top;\n",
              "    }\n",
              "\n",
              "    .dataframe thead th {\n",
              "        text-align: right;\n",
              "    }\n",
              "</style>\n",
              "<table border=\"1\" class=\"dataframe\">\n",
              "  <thead>\n",
              "    <tr style=\"text-align: right;\">\n",
              "      <th></th>\n",
              "      <th>yield</th>\n",
              "      <th>ingredient_type</th>\n",
              "      <th>dew_temp</th>\n",
              "      <th>pressure_sea_level</th>\n",
              "      <th>precipitation</th>\n",
              "      <th>wind_speed</th>\n",
              "    </tr>\n",
              "    <tr>\n",
              "      <th>timestamp</th>\n",
              "      <th></th>\n",
              "      <th></th>\n",
              "      <th></th>\n",
              "      <th></th>\n",
              "      <th></th>\n",
              "      <th></th>\n",
              "    </tr>\n",
              "  </thead>\n",
              "  <tbody>\n",
              "    <tr>\n",
              "      <th>2016-01-01 00:00:00</th>\n",
              "      <td>0.0</td>\n",
              "      <td>0</td>\n",
              "      <td>20.0</td>\n",
              "      <td>1019.7</td>\n",
              "      <td>0.793987</td>\n",
              "      <td>0.0</td>\n",
              "    </tr>\n",
              "    <tr>\n",
              "      <th>2016-01-01 01:00:00</th>\n",
              "      <td>0.0</td>\n",
              "      <td>0</td>\n",
              "      <td>21.1</td>\n",
              "      <td>1020.2</td>\n",
              "      <td>-1.000000</td>\n",
              "      <td>1.5</td>\n",
              "    </tr>\n",
              "    <tr>\n",
              "      <th>2016-01-01 02:00:00</th>\n",
              "      <td>0.0</td>\n",
              "      <td>0</td>\n",
              "      <td>21.1</td>\n",
              "      <td>1020.2</td>\n",
              "      <td>0.000000</td>\n",
              "      <td>0.0</td>\n",
              "    </tr>\n",
              "    <tr>\n",
              "      <th>2016-01-01 03:00:00</th>\n",
              "      <td>0.0</td>\n",
              "      <td>0</td>\n",
              "      <td>20.6</td>\n",
              "      <td>1020.1</td>\n",
              "      <td>0.000000</td>\n",
              "      <td>0.0</td>\n",
              "    </tr>\n",
              "    <tr>\n",
              "      <th>2016-01-01 04:00:00</th>\n",
              "      <td>0.0</td>\n",
              "      <td>0</td>\n",
              "      <td>20.0</td>\n",
              "      <td>1020.0</td>\n",
              "      <td>-1.000000</td>\n",
              "      <td>2.6</td>\n",
              "    </tr>\n",
              "  </tbody>\n",
              "</table>\n",
              "</div>"
            ],
            "text/plain": [
              "                     yield  ingredient_type  ...  precipitation  wind_speed\n",
              "timestamp                                    ...                           \n",
              "2016-01-01 00:00:00    0.0                0  ...       0.793987         0.0\n",
              "2016-01-01 01:00:00    0.0                0  ...      -1.000000         1.5\n",
              "2016-01-01 02:00:00    0.0                0  ...       0.000000         0.0\n",
              "2016-01-01 03:00:00    0.0                0  ...       0.000000         0.0\n",
              "2016-01-01 04:00:00    0.0                0  ...      -1.000000         2.6\n",
              "\n",
              "[5 rows x 6 columns]"
            ]
          },
          "metadata": {
            "tags": []
          },
          "execution_count": 545
        }
      ]
    },
    {
      "cell_type": "code",
      "metadata": {
        "id": "uMpp2obZn1cQ"
      },
      "source": [
        "df2 = df.copy()\r\n",
        "df2_test = df_test.copy()"
      ],
      "execution_count": null,
      "outputs": []
    },
    {
      "cell_type": "code",
      "metadata": {
        "colab": {
          "base_uri": "https://localhost:8080/"
        },
        "id": "SOJXwmM5qgiV",
        "outputId": "85d12f17-80d8-4b1f-ad71-f3a0c16cfaef"
      },
      "source": [
        "df['hour'] = df.index.hour"
      ],
      "execution_count": null,
      "outputs": [
        {
          "output_type": "stream",
          "text": [
            "/usr/local/lib/python3.6/dist-packages/ipykernel_launcher.py:1: SettingWithCopyWarning:\n",
            "\n",
            "\n",
            "A value is trying to be set on a copy of a slice from a DataFrame.\n",
            "Try using .loc[row_indexer,col_indexer] = value instead\n",
            "\n",
            "See the caveats in the documentation: https://pandas.pydata.org/pandas-docs/stable/user_guide/indexing.html#returning-a-view-versus-a-copy\n",
            "\n"
          ],
          "name": "stderr"
        }
      ]
    },
    {
      "cell_type": "code",
      "metadata": {
        "colab": {
          "base_uri": "https://localhost:8080/"
        },
        "id": "IbYla-Oiqq80",
        "outputId": "e077b774-7507-4a89-bfd5-d0052f9a4219"
      },
      "source": [
        "df['month'] = df.index.month"
      ],
      "execution_count": null,
      "outputs": [
        {
          "output_type": "stream",
          "text": [
            "/usr/local/lib/python3.6/dist-packages/ipykernel_launcher.py:1: SettingWithCopyWarning:\n",
            "\n",
            "\n",
            "A value is trying to be set on a copy of a slice from a DataFrame.\n",
            "Try using .loc[row_indexer,col_indexer] = value instead\n",
            "\n",
            "See the caveats in the documentation: https://pandas.pydata.org/pandas-docs/stable/user_guide/indexing.html#returning-a-view-versus-a-copy\n",
            "\n"
          ],
          "name": "stderr"
        }
      ]
    },
    {
      "cell_type": "code",
      "metadata": {
        "colab": {
          "base_uri": "https://localhost:8080/"
        },
        "id": "FMSlcfIEqzNW",
        "outputId": "300e1eb9-e530-4b55-bf09-abe9456dcfe5"
      },
      "source": [
        "df['day'] = df.index.day"
      ],
      "execution_count": null,
      "outputs": [
        {
          "output_type": "stream",
          "text": [
            "/usr/local/lib/python3.6/dist-packages/ipykernel_launcher.py:1: SettingWithCopyWarning:\n",
            "\n",
            "\n",
            "A value is trying to be set on a copy of a slice from a DataFrame.\n",
            "Try using .loc[row_indexer,col_indexer] = value instead\n",
            "\n",
            "See the caveats in the documentation: https://pandas.pydata.org/pandas-docs/stable/user_guide/indexing.html#returning-a-view-versus-a-copy\n",
            "\n"
          ],
          "name": "stderr"
        }
      ]
    },
    {
      "cell_type": "code",
      "metadata": {
        "colab": {
          "base_uri": "https://localhost:8080/",
          "height": 225
        },
        "id": "INhj4kq8q8R8",
        "outputId": "0f2ff1d8-db19-4ccb-83ae-c14dad6389ff"
      },
      "source": [
        "df.head()"
      ],
      "execution_count": null,
      "outputs": [
        {
          "output_type": "execute_result",
          "data": {
            "text/html": [
              "<div>\n",
              "<style scoped>\n",
              "    .dataframe tbody tr th:only-of-type {\n",
              "        vertical-align: middle;\n",
              "    }\n",
              "\n",
              "    .dataframe tbody tr th {\n",
              "        vertical-align: top;\n",
              "    }\n",
              "\n",
              "    .dataframe thead th {\n",
              "        text-align: right;\n",
              "    }\n",
              "</style>\n",
              "<table border=\"1\" class=\"dataframe\">\n",
              "  <thead>\n",
              "    <tr style=\"text-align: right;\">\n",
              "      <th></th>\n",
              "      <th>ingredient_type</th>\n",
              "      <th>yield</th>\n",
              "      <th>dew_temp</th>\n",
              "      <th>pressure_sea_level</th>\n",
              "      <th>precipitation</th>\n",
              "      <th>wind_speed</th>\n",
              "      <th>hour</th>\n",
              "      <th>month</th>\n",
              "      <th>day</th>\n",
              "    </tr>\n",
              "    <tr>\n",
              "      <th>timestamp</th>\n",
              "      <th></th>\n",
              "      <th></th>\n",
              "      <th></th>\n",
              "      <th></th>\n",
              "      <th></th>\n",
              "      <th></th>\n",
              "      <th></th>\n",
              "      <th></th>\n",
              "      <th></th>\n",
              "    </tr>\n",
              "  </thead>\n",
              "  <tbody>\n",
              "    <tr>\n",
              "      <th>2016-01-01 00:00:00</th>\n",
              "      <td>ing_w</td>\n",
              "      <td>0.0</td>\n",
              "      <td>20.0</td>\n",
              "      <td>1019.7</td>\n",
              "      <td>0.793987</td>\n",
              "      <td>0.0</td>\n",
              "      <td>0</td>\n",
              "      <td>1</td>\n",
              "      <td>1</td>\n",
              "    </tr>\n",
              "    <tr>\n",
              "      <th>2016-01-01 01:00:00</th>\n",
              "      <td>ing_w</td>\n",
              "      <td>0.0</td>\n",
              "      <td>21.1</td>\n",
              "      <td>1020.2</td>\n",
              "      <td>-1.000000</td>\n",
              "      <td>1.5</td>\n",
              "      <td>1</td>\n",
              "      <td>1</td>\n",
              "      <td>1</td>\n",
              "    </tr>\n",
              "    <tr>\n",
              "      <th>2016-01-01 02:00:00</th>\n",
              "      <td>ing_w</td>\n",
              "      <td>0.0</td>\n",
              "      <td>21.1</td>\n",
              "      <td>1020.2</td>\n",
              "      <td>0.000000</td>\n",
              "      <td>0.0</td>\n",
              "      <td>2</td>\n",
              "      <td>1</td>\n",
              "      <td>1</td>\n",
              "    </tr>\n",
              "    <tr>\n",
              "      <th>2016-01-01 03:00:00</th>\n",
              "      <td>ing_w</td>\n",
              "      <td>0.0</td>\n",
              "      <td>20.6</td>\n",
              "      <td>1020.1</td>\n",
              "      <td>0.000000</td>\n",
              "      <td>0.0</td>\n",
              "      <td>3</td>\n",
              "      <td>1</td>\n",
              "      <td>1</td>\n",
              "    </tr>\n",
              "    <tr>\n",
              "      <th>2016-01-01 04:00:00</th>\n",
              "      <td>ing_w</td>\n",
              "      <td>0.0</td>\n",
              "      <td>20.0</td>\n",
              "      <td>1020.0</td>\n",
              "      <td>-1.000000</td>\n",
              "      <td>2.6</td>\n",
              "      <td>4</td>\n",
              "      <td>1</td>\n",
              "      <td>1</td>\n",
              "    </tr>\n",
              "  </tbody>\n",
              "</table>\n",
              "</div>"
            ],
            "text/plain": [
              "                    ingredient_type  yield  dew_temp  ...  hour  month  day\n",
              "timestamp                                             ...                  \n",
              "2016-01-01 00:00:00           ing_w    0.0      20.0  ...     0      1    1\n",
              "2016-01-01 01:00:00           ing_w    0.0      21.1  ...     1      1    1\n",
              "2016-01-01 02:00:00           ing_w    0.0      21.1  ...     2      1    1\n",
              "2016-01-01 03:00:00           ing_w    0.0      20.6  ...     3      1    1\n",
              "2016-01-01 04:00:00           ing_w    0.0      20.0  ...     4      1    1\n",
              "\n",
              "[5 rows x 9 columns]"
            ]
          },
          "metadata": {
            "tags": []
          },
          "execution_count": 89
        }
      ]
    },
    {
      "cell_type": "code",
      "metadata": {
        "colab": {
          "base_uri": "https://localhost:8080/"
        },
        "id": "Wz2-xSXbq-5z",
        "outputId": "794d252b-88a9-43e3-8928-494921bad90b"
      },
      "source": [
        "df['week'] = df.index.week"
      ],
      "execution_count": null,
      "outputs": [
        {
          "output_type": "stream",
          "text": [
            "/usr/local/lib/python3.6/dist-packages/ipykernel_launcher.py:1: FutureWarning:\n",
            "\n",
            "weekofyear and week have been deprecated, please use DatetimeIndex.isocalendar().week instead, which returns a Series.  To exactly reproduce the behavior of week and weekofyear and return an Index, you may call pd.Int64Index(idx.isocalendar().week)\n",
            "\n",
            "/usr/local/lib/python3.6/dist-packages/ipykernel_launcher.py:1: SettingWithCopyWarning:\n",
            "\n",
            "\n",
            "A value is trying to be set on a copy of a slice from a DataFrame.\n",
            "Try using .loc[row_indexer,col_indexer] = value instead\n",
            "\n",
            "See the caveats in the documentation: https://pandas.pydata.org/pandas-docs/stable/user_guide/indexing.html#returning-a-view-versus-a-copy\n",
            "\n"
          ],
          "name": "stderr"
        }
      ]
    },
    {
      "cell_type": "code",
      "metadata": {
        "colab": {
          "base_uri": "https://localhost:8080/",
          "height": 225
        },
        "id": "mOpTo28HrNFF",
        "outputId": "f9fd61ee-9e52-401c-fff3-8c31e1e532bd"
      },
      "source": [
        "df.head()"
      ],
      "execution_count": null,
      "outputs": [
        {
          "output_type": "execute_result",
          "data": {
            "text/html": [
              "<div>\n",
              "<style scoped>\n",
              "    .dataframe tbody tr th:only-of-type {\n",
              "        vertical-align: middle;\n",
              "    }\n",
              "\n",
              "    .dataframe tbody tr th {\n",
              "        vertical-align: top;\n",
              "    }\n",
              "\n",
              "    .dataframe thead th {\n",
              "        text-align: right;\n",
              "    }\n",
              "</style>\n",
              "<table border=\"1\" class=\"dataframe\">\n",
              "  <thead>\n",
              "    <tr style=\"text-align: right;\">\n",
              "      <th></th>\n",
              "      <th>ingredient_type</th>\n",
              "      <th>yield</th>\n",
              "      <th>farm_area</th>\n",
              "      <th>farming_company</th>\n",
              "      <th>deidentified_location</th>\n",
              "      <th>dew_temp</th>\n",
              "      <th>pressure_sea_level</th>\n",
              "      <th>precipitation</th>\n",
              "      <th>wind_speed</th>\n",
              "      <th>hour</th>\n",
              "      <th>month</th>\n",
              "      <th>day</th>\n",
              "      <th>week</th>\n",
              "    </tr>\n",
              "    <tr>\n",
              "      <th>timestamp</th>\n",
              "      <th></th>\n",
              "      <th></th>\n",
              "      <th></th>\n",
              "      <th></th>\n",
              "      <th></th>\n",
              "      <th></th>\n",
              "      <th></th>\n",
              "      <th></th>\n",
              "      <th></th>\n",
              "      <th></th>\n",
              "      <th></th>\n",
              "      <th></th>\n",
              "      <th></th>\n",
              "    </tr>\n",
              "  </thead>\n",
              "  <tbody>\n",
              "    <tr>\n",
              "      <th>2016-01-01 00:00:00</th>\n",
              "      <td>ing_w</td>\n",
              "      <td>0.0</td>\n",
              "      <td>690.455096</td>\n",
              "      <td>Obery Farms</td>\n",
              "      <td>location 7369</td>\n",
              "      <td>20.0</td>\n",
              "      <td>1019.7</td>\n",
              "      <td>0.793987</td>\n",
              "      <td>0.0</td>\n",
              "      <td>0</td>\n",
              "      <td>1</td>\n",
              "      <td>1</td>\n",
              "      <td>53</td>\n",
              "    </tr>\n",
              "    <tr>\n",
              "      <th>2016-01-01 01:00:00</th>\n",
              "      <td>ing_w</td>\n",
              "      <td>0.0</td>\n",
              "      <td>690.455096</td>\n",
              "      <td>Obery Farms</td>\n",
              "      <td>location 7369</td>\n",
              "      <td>21.1</td>\n",
              "      <td>1020.2</td>\n",
              "      <td>-1.000000</td>\n",
              "      <td>1.5</td>\n",
              "      <td>1</td>\n",
              "      <td>1</td>\n",
              "      <td>1</td>\n",
              "      <td>53</td>\n",
              "    </tr>\n",
              "    <tr>\n",
              "      <th>2016-01-01 02:00:00</th>\n",
              "      <td>ing_w</td>\n",
              "      <td>0.0</td>\n",
              "      <td>690.455096</td>\n",
              "      <td>Obery Farms</td>\n",
              "      <td>location 7369</td>\n",
              "      <td>21.1</td>\n",
              "      <td>1020.2</td>\n",
              "      <td>0.000000</td>\n",
              "      <td>0.0</td>\n",
              "      <td>2</td>\n",
              "      <td>1</td>\n",
              "      <td>1</td>\n",
              "      <td>53</td>\n",
              "    </tr>\n",
              "    <tr>\n",
              "      <th>2016-01-01 03:00:00</th>\n",
              "      <td>ing_w</td>\n",
              "      <td>0.0</td>\n",
              "      <td>690.455096</td>\n",
              "      <td>Obery Farms</td>\n",
              "      <td>location 7369</td>\n",
              "      <td>20.6</td>\n",
              "      <td>1020.1</td>\n",
              "      <td>0.000000</td>\n",
              "      <td>0.0</td>\n",
              "      <td>3</td>\n",
              "      <td>1</td>\n",
              "      <td>1</td>\n",
              "      <td>53</td>\n",
              "    </tr>\n",
              "    <tr>\n",
              "      <th>2016-01-01 04:00:00</th>\n",
              "      <td>ing_w</td>\n",
              "      <td>0.0</td>\n",
              "      <td>690.455096</td>\n",
              "      <td>Obery Farms</td>\n",
              "      <td>location 7369</td>\n",
              "      <td>20.0</td>\n",
              "      <td>1020.0</td>\n",
              "      <td>-1.000000</td>\n",
              "      <td>2.6</td>\n",
              "      <td>4</td>\n",
              "      <td>1</td>\n",
              "      <td>1</td>\n",
              "      <td>53</td>\n",
              "    </tr>\n",
              "  </tbody>\n",
              "</table>\n",
              "</div>"
            ],
            "text/plain": [
              "                    ingredient_type  yield   farm_area  ... month day  week\n",
              "timestamp                                               ...                \n",
              "2016-01-01 00:00:00           ing_w    0.0  690.455096  ...     1   1    53\n",
              "2016-01-01 01:00:00           ing_w    0.0  690.455096  ...     1   1    53\n",
              "2016-01-01 02:00:00           ing_w    0.0  690.455096  ...     1   1    53\n",
              "2016-01-01 03:00:00           ing_w    0.0  690.455096  ...     1   1    53\n",
              "2016-01-01 04:00:00           ing_w    0.0  690.455096  ...     1   1    53\n",
              "\n",
              "[5 rows x 13 columns]"
            ]
          },
          "metadata": {
            "tags": []
          },
          "execution_count": 56
        }
      ]
    },
    {
      "cell_type": "code",
      "metadata": {
        "colab": {
          "base_uri": "https://localhost:8080/"
        },
        "id": "ktZdz0iorP7t",
        "outputId": "2816059d-0b60-4453-90cf-fe2f6f7e3fab"
      },
      "source": [
        "df.week.unique()"
      ],
      "execution_count": null,
      "outputs": [
        {
          "output_type": "execute_result",
          "data": {
            "text/plain": [
              "array([53,  1,  2,  3,  4,  5,  6,  7,  8,  9, 10, 11, 12, 13, 14, 15, 16,\n",
              "       17, 18, 19, 20, 21, 22, 23, 24, 25, 26, 27, 28, 29, 30, 31, 32, 33,\n",
              "       34, 35, 36, 37, 38, 39, 40, 41, 42, 43, 44, 45, 46, 47, 48, 49, 50,\n",
              "       51, 52])"
            ]
          },
          "metadata": {
            "tags": []
          },
          "execution_count": 57
        }
      ]
    },
    {
      "cell_type": "code",
      "metadata": {
        "id": "RMuOHz4VrWpX"
      },
      "source": [
        "df.reset_index(inplace=True)"
      ],
      "execution_count": null,
      "outputs": []
    },
    {
      "cell_type": "code",
      "metadata": {
        "colab": {
          "base_uri": "https://localhost:8080/"
        },
        "id": "9WRFXw38rhrn",
        "outputId": "3d372dc8-42f7-4a6d-c8b8-411ccf6148d3"
      },
      "source": [
        "df.columns"
      ],
      "execution_count": null,
      "outputs": [
        {
          "output_type": "execute_result",
          "data": {
            "text/plain": [
              "Index(['timestamp', 'ingredient_type', 'yield', 'dew_temp',\n",
              "       'pressure_sea_level', 'precipitation', 'wind_speed', 'hour', 'month',\n",
              "       'day'],\n",
              "      dtype='object')"
            ]
          },
          "metadata": {
            "tags": []
          },
          "execution_count": 91
        }
      ]
    },
    {
      "cell_type": "code",
      "metadata": {
        "colab": {
          "base_uri": "https://localhost:8080/"
        },
        "id": "m8hJw1b7rnDZ",
        "outputId": "85686d3a-7a03-42a3-be1c-cdd02a91efb2"
      },
      "source": [
        "df.drop('timestamp', axis=1, inplace=True)"
      ],
      "execution_count": null,
      "outputs": [
        {
          "output_type": "stream",
          "text": [
            "/usr/local/lib/python3.6/dist-packages/pandas/core/frame.py:4174: SettingWithCopyWarning:\n",
            "\n",
            "\n",
            "A value is trying to be set on a copy of a slice from a DataFrame\n",
            "\n",
            "See the caveats in the documentation: https://pandas.pydata.org/pandas-docs/stable/user_guide/indexing.html#returning-a-view-versus-a-copy\n",
            "\n"
          ],
          "name": "stderr"
        }
      ]
    },
    {
      "cell_type": "code",
      "metadata": {
        "colab": {
          "base_uri": "https://localhost:8080/",
          "height": 195
        },
        "id": "77dY9gwwsKWQ",
        "outputId": "02e2dc34-5051-4d38-929a-5d8ec760f4ad"
      },
      "source": [
        "df.head()"
      ],
      "execution_count": null,
      "outputs": [
        {
          "output_type": "execute_result",
          "data": {
            "text/html": [
              "<div>\n",
              "<style scoped>\n",
              "    .dataframe tbody tr th:only-of-type {\n",
              "        vertical-align: middle;\n",
              "    }\n",
              "\n",
              "    .dataframe tbody tr th {\n",
              "        vertical-align: top;\n",
              "    }\n",
              "\n",
              "    .dataframe thead th {\n",
              "        text-align: right;\n",
              "    }\n",
              "</style>\n",
              "<table border=\"1\" class=\"dataframe\">\n",
              "  <thead>\n",
              "    <tr style=\"text-align: right;\">\n",
              "      <th></th>\n",
              "      <th>ingredient_type</th>\n",
              "      <th>yield</th>\n",
              "      <th>dew_temp</th>\n",
              "      <th>pressure_sea_level</th>\n",
              "      <th>precipitation</th>\n",
              "      <th>wind_speed</th>\n",
              "      <th>hour</th>\n",
              "      <th>month</th>\n",
              "      <th>day</th>\n",
              "    </tr>\n",
              "  </thead>\n",
              "  <tbody>\n",
              "    <tr>\n",
              "      <th>0</th>\n",
              "      <td>ing_w</td>\n",
              "      <td>0.0</td>\n",
              "      <td>20.0</td>\n",
              "      <td>1019.7</td>\n",
              "      <td>0.793987</td>\n",
              "      <td>0.0</td>\n",
              "      <td>0</td>\n",
              "      <td>1</td>\n",
              "      <td>1</td>\n",
              "    </tr>\n",
              "    <tr>\n",
              "      <th>1</th>\n",
              "      <td>ing_w</td>\n",
              "      <td>0.0</td>\n",
              "      <td>21.1</td>\n",
              "      <td>1020.2</td>\n",
              "      <td>-1.000000</td>\n",
              "      <td>1.5</td>\n",
              "      <td>1</td>\n",
              "      <td>1</td>\n",
              "      <td>1</td>\n",
              "    </tr>\n",
              "    <tr>\n",
              "      <th>2</th>\n",
              "      <td>ing_w</td>\n",
              "      <td>0.0</td>\n",
              "      <td>21.1</td>\n",
              "      <td>1020.2</td>\n",
              "      <td>0.000000</td>\n",
              "      <td>0.0</td>\n",
              "      <td>2</td>\n",
              "      <td>1</td>\n",
              "      <td>1</td>\n",
              "    </tr>\n",
              "    <tr>\n",
              "      <th>3</th>\n",
              "      <td>ing_w</td>\n",
              "      <td>0.0</td>\n",
              "      <td>20.6</td>\n",
              "      <td>1020.1</td>\n",
              "      <td>0.000000</td>\n",
              "      <td>0.0</td>\n",
              "      <td>3</td>\n",
              "      <td>1</td>\n",
              "      <td>1</td>\n",
              "    </tr>\n",
              "    <tr>\n",
              "      <th>4</th>\n",
              "      <td>ing_w</td>\n",
              "      <td>0.0</td>\n",
              "      <td>20.0</td>\n",
              "      <td>1020.0</td>\n",
              "      <td>-1.000000</td>\n",
              "      <td>2.6</td>\n",
              "      <td>4</td>\n",
              "      <td>1</td>\n",
              "      <td>1</td>\n",
              "    </tr>\n",
              "  </tbody>\n",
              "</table>\n",
              "</div>"
            ],
            "text/plain": [
              "  ingredient_type  yield  dew_temp  ...  hour  month  day\n",
              "0           ing_w    0.0      20.0  ...     0      1    1\n",
              "1           ing_w    0.0      21.1  ...     1      1    1\n",
              "2           ing_w    0.0      21.1  ...     2      1    1\n",
              "3           ing_w    0.0      20.6  ...     3      1    1\n",
              "4           ing_w    0.0      20.0  ...     4      1    1\n",
              "\n",
              "[5 rows x 9 columns]"
            ]
          },
          "metadata": {
            "tags": []
          },
          "execution_count": 93
        }
      ]
    },
    {
      "cell_type": "code",
      "metadata": {
        "colab": {
          "base_uri": "https://localhost:8080/"
        },
        "id": "zipigkZWsOCk",
        "outputId": "6e65831e-8156-41b7-b601-5cb8e06c4d26"
      },
      "source": [
        "df['ingredient_type']='ing_w'"
      ],
      "execution_count": null,
      "outputs": [
        {
          "output_type": "stream",
          "text": [
            "/usr/local/lib/python3.6/dist-packages/ipykernel_launcher.py:1: SettingWithCopyWarning:\n",
            "\n",
            "\n",
            "A value is trying to be set on a copy of a slice from a DataFrame.\n",
            "Try using .loc[row_indexer,col_indexer] = value instead\n",
            "\n",
            "See the caveats in the documentation: https://pandas.pydata.org/pandas-docs/stable/user_guide/indexing.html#returning-a-view-versus-a-copy\n",
            "\n"
          ],
          "name": "stderr"
        }
      ]
    },
    {
      "cell_type": "code",
      "metadata": {
        "colab": {
          "base_uri": "https://localhost:8080/",
          "height": 195
        },
        "id": "kIjWhLj0sVZy",
        "outputId": "64514d51-86e3-40cb-8cb9-75b2905835a6"
      },
      "source": [
        "df.head()"
      ],
      "execution_count": null,
      "outputs": [
        {
          "output_type": "execute_result",
          "data": {
            "text/html": [
              "<div>\n",
              "<style scoped>\n",
              "    .dataframe tbody tr th:only-of-type {\n",
              "        vertical-align: middle;\n",
              "    }\n",
              "\n",
              "    .dataframe tbody tr th {\n",
              "        vertical-align: top;\n",
              "    }\n",
              "\n",
              "    .dataframe thead th {\n",
              "        text-align: right;\n",
              "    }\n",
              "</style>\n",
              "<table border=\"1\" class=\"dataframe\">\n",
              "  <thead>\n",
              "    <tr style=\"text-align: right;\">\n",
              "      <th></th>\n",
              "      <th>ingredient_type</th>\n",
              "      <th>yield</th>\n",
              "      <th>farm_area</th>\n",
              "      <th>farming_company</th>\n",
              "      <th>deidentified_location</th>\n",
              "      <th>dew_temp</th>\n",
              "      <th>pressure_sea_level</th>\n",
              "      <th>precipitation</th>\n",
              "      <th>wind_speed</th>\n",
              "      <th>hour</th>\n",
              "      <th>month</th>\n",
              "      <th>day</th>\n",
              "      <th>week</th>\n",
              "    </tr>\n",
              "  </thead>\n",
              "  <tbody>\n",
              "    <tr>\n",
              "      <th>0</th>\n",
              "      <td>ing_w</td>\n",
              "      <td>0.0</td>\n",
              "      <td>690.455096</td>\n",
              "      <td>Obery Farms</td>\n",
              "      <td>location 7369</td>\n",
              "      <td>20.0</td>\n",
              "      <td>1019.7</td>\n",
              "      <td>0.793987</td>\n",
              "      <td>0.0</td>\n",
              "      <td>0</td>\n",
              "      <td>1</td>\n",
              "      <td>1</td>\n",
              "      <td>53</td>\n",
              "    </tr>\n",
              "    <tr>\n",
              "      <th>1</th>\n",
              "      <td>ing_w</td>\n",
              "      <td>0.0</td>\n",
              "      <td>690.455096</td>\n",
              "      <td>Obery Farms</td>\n",
              "      <td>location 7369</td>\n",
              "      <td>21.1</td>\n",
              "      <td>1020.2</td>\n",
              "      <td>-1.000000</td>\n",
              "      <td>1.5</td>\n",
              "      <td>1</td>\n",
              "      <td>1</td>\n",
              "      <td>1</td>\n",
              "      <td>53</td>\n",
              "    </tr>\n",
              "    <tr>\n",
              "      <th>2</th>\n",
              "      <td>ing_w</td>\n",
              "      <td>0.0</td>\n",
              "      <td>690.455096</td>\n",
              "      <td>Obery Farms</td>\n",
              "      <td>location 7369</td>\n",
              "      <td>21.1</td>\n",
              "      <td>1020.2</td>\n",
              "      <td>0.000000</td>\n",
              "      <td>0.0</td>\n",
              "      <td>2</td>\n",
              "      <td>1</td>\n",
              "      <td>1</td>\n",
              "      <td>53</td>\n",
              "    </tr>\n",
              "    <tr>\n",
              "      <th>3</th>\n",
              "      <td>ing_w</td>\n",
              "      <td>0.0</td>\n",
              "      <td>690.455096</td>\n",
              "      <td>Obery Farms</td>\n",
              "      <td>location 7369</td>\n",
              "      <td>20.6</td>\n",
              "      <td>1020.1</td>\n",
              "      <td>0.000000</td>\n",
              "      <td>0.0</td>\n",
              "      <td>3</td>\n",
              "      <td>1</td>\n",
              "      <td>1</td>\n",
              "      <td>53</td>\n",
              "    </tr>\n",
              "    <tr>\n",
              "      <th>4</th>\n",
              "      <td>ing_w</td>\n",
              "      <td>0.0</td>\n",
              "      <td>690.455096</td>\n",
              "      <td>Obery Farms</td>\n",
              "      <td>location 7369</td>\n",
              "      <td>20.0</td>\n",
              "      <td>1020.0</td>\n",
              "      <td>-1.000000</td>\n",
              "      <td>2.6</td>\n",
              "      <td>4</td>\n",
              "      <td>1</td>\n",
              "      <td>1</td>\n",
              "      <td>53</td>\n",
              "    </tr>\n",
              "  </tbody>\n",
              "</table>\n",
              "</div>"
            ],
            "text/plain": [
              "  ingredient_type  yield   farm_area farming_company  ... hour  month  day  week\n",
              "0           ing_w    0.0  690.455096     Obery Farms  ...    0      1    1    53\n",
              "1           ing_w    0.0  690.455096     Obery Farms  ...    1      1    1    53\n",
              "2           ing_w    0.0  690.455096     Obery Farms  ...    2      1    1    53\n",
              "3           ing_w    0.0  690.455096     Obery Farms  ...    3      1    1    53\n",
              "4           ing_w    0.0  690.455096     Obery Farms  ...    4      1    1    53\n",
              "\n",
              "[5 rows x 13 columns]"
            ]
          },
          "metadata": {
            "tags": []
          },
          "execution_count": 63
        }
      ]
    },
    {
      "cell_type": "code",
      "metadata": {
        "id": "iYD6_R4csWt1"
      },
      "source": [
        "df = pd.get_dummies(df, columns=['ingredient_type'])"
      ],
      "execution_count": null,
      "outputs": []
    },
    {
      "cell_type": "code",
      "metadata": {
        "colab": {
          "base_uri": "https://localhost:8080/",
          "height": 195
        },
        "id": "fmhSYpLHs5ob",
        "outputId": "001cb1e9-9eb2-492d-bcfa-0a58e09cf7cc"
      },
      "source": [
        "df.head()"
      ],
      "execution_count": null,
      "outputs": [
        {
          "output_type": "execute_result",
          "data": {
            "text/html": [
              "<div>\n",
              "<style scoped>\n",
              "    .dataframe tbody tr th:only-of-type {\n",
              "        vertical-align: middle;\n",
              "    }\n",
              "\n",
              "    .dataframe tbody tr th {\n",
              "        vertical-align: top;\n",
              "    }\n",
              "\n",
              "    .dataframe thead th {\n",
              "        text-align: right;\n",
              "    }\n",
              "</style>\n",
              "<table border=\"1\" class=\"dataframe\">\n",
              "  <thead>\n",
              "    <tr style=\"text-align: right;\">\n",
              "      <th></th>\n",
              "      <th>yield</th>\n",
              "      <th>dew_temp</th>\n",
              "      <th>pressure_sea_level</th>\n",
              "      <th>precipitation</th>\n",
              "      <th>wind_speed</th>\n",
              "      <th>hour</th>\n",
              "      <th>month</th>\n",
              "      <th>day</th>\n",
              "      <th>ingredient_type_ing_w</th>\n",
              "    </tr>\n",
              "  </thead>\n",
              "  <tbody>\n",
              "    <tr>\n",
              "      <th>0</th>\n",
              "      <td>0.0</td>\n",
              "      <td>20.0</td>\n",
              "      <td>1019.7</td>\n",
              "      <td>0.793987</td>\n",
              "      <td>0.0</td>\n",
              "      <td>0</td>\n",
              "      <td>1</td>\n",
              "      <td>1</td>\n",
              "      <td>1</td>\n",
              "    </tr>\n",
              "    <tr>\n",
              "      <th>1</th>\n",
              "      <td>0.0</td>\n",
              "      <td>21.1</td>\n",
              "      <td>1020.2</td>\n",
              "      <td>-1.000000</td>\n",
              "      <td>1.5</td>\n",
              "      <td>1</td>\n",
              "      <td>1</td>\n",
              "      <td>1</td>\n",
              "      <td>1</td>\n",
              "    </tr>\n",
              "    <tr>\n",
              "      <th>2</th>\n",
              "      <td>0.0</td>\n",
              "      <td>21.1</td>\n",
              "      <td>1020.2</td>\n",
              "      <td>0.000000</td>\n",
              "      <td>0.0</td>\n",
              "      <td>2</td>\n",
              "      <td>1</td>\n",
              "      <td>1</td>\n",
              "      <td>1</td>\n",
              "    </tr>\n",
              "    <tr>\n",
              "      <th>3</th>\n",
              "      <td>0.0</td>\n",
              "      <td>20.6</td>\n",
              "      <td>1020.1</td>\n",
              "      <td>0.000000</td>\n",
              "      <td>0.0</td>\n",
              "      <td>3</td>\n",
              "      <td>1</td>\n",
              "      <td>1</td>\n",
              "      <td>1</td>\n",
              "    </tr>\n",
              "    <tr>\n",
              "      <th>4</th>\n",
              "      <td>0.0</td>\n",
              "      <td>20.0</td>\n",
              "      <td>1020.0</td>\n",
              "      <td>-1.000000</td>\n",
              "      <td>2.6</td>\n",
              "      <td>4</td>\n",
              "      <td>1</td>\n",
              "      <td>1</td>\n",
              "      <td>1</td>\n",
              "    </tr>\n",
              "  </tbody>\n",
              "</table>\n",
              "</div>"
            ],
            "text/plain": [
              "   yield  dew_temp  pressure_sea_level  ...  month  day  ingredient_type_ing_w\n",
              "0    0.0      20.0              1019.7  ...      1    1                      1\n",
              "1    0.0      21.1              1020.2  ...      1    1                      1\n",
              "2    0.0      21.1              1020.2  ...      1    1                      1\n",
              "3    0.0      20.6              1020.1  ...      1    1                      1\n",
              "4    0.0      20.0              1020.0  ...      1    1                      1\n",
              "\n",
              "[5 rows x 9 columns]"
            ]
          },
          "metadata": {
            "tags": []
          },
          "execution_count": 95
        }
      ]
    },
    {
      "cell_type": "code",
      "metadata": {
        "id": "Z2gevW-Ts7e_"
      },
      "source": [
        "num_cols = eda.fn_fetch_col_based_ontype(df, 'float64')\r\n",
        "cat_cols = eda.fn_fetch_col_based_ontype(df, 'category','object')"
      ],
      "execution_count": null,
      "outputs": []
    },
    {
      "cell_type": "code",
      "metadata": {
        "colab": {
          "base_uri": "https://localhost:8080/"
        },
        "id": "iaTQty0ntSxv",
        "outputId": "39da2221-9d8e-4be3-d690-53221e21ce12"
      },
      "source": [
        "num_cols"
      ],
      "execution_count": null,
      "outputs": [
        {
          "output_type": "execute_result",
          "data": {
            "text/plain": [
              "['yield', 'dew_temp', 'pressure_sea_level', 'precipitation', 'wind_speed']"
            ]
          },
          "metadata": {
            "tags": []
          },
          "execution_count": 97
        }
      ]
    },
    {
      "cell_type": "code",
      "metadata": {
        "colab": {
          "base_uri": "https://localhost:8080/"
        },
        "id": "NY0-D25HtV_K",
        "outputId": "25ef06b4-95af-4253-90f7-d0406b13fc1f"
      },
      "source": [
        "df.dtypes"
      ],
      "execution_count": null,
      "outputs": [
        {
          "output_type": "execute_result",
          "data": {
            "text/plain": [
              "yield                    float64\n",
              "dew_temp                 float64\n",
              "pressure_sea_level       float64\n",
              "precipitation            float64\n",
              "wind_speed               float64\n",
              "hour                       int64\n",
              "month                      int64\n",
              "day                        int64\n",
              "ingredient_type_ing_w      uint8\n",
              "dtype: object"
            ]
          },
          "metadata": {
            "tags": []
          },
          "execution_count": 98
        }
      ]
    },
    {
      "cell_type": "code",
      "metadata": {
        "colab": {
          "base_uri": "https://localhost:8080/"
        },
        "id": "f0OACLyvtacR",
        "outputId": "0a47fb9b-d91c-4a33-cd99-ac54437ccb36"
      },
      "source": [
        "df.nunique()"
      ],
      "execution_count": null,
      "outputs": [
        {
          "output_type": "execute_result",
          "data": {
            "text/plain": [
              "yield                    330\n",
              "dew_temp                  74\n",
              "pressure_sea_level       274\n",
              "precipitation             72\n",
              "wind_speed                28\n",
              "hour                      24\n",
              "month                     12\n",
              "day                       31\n",
              "ingredient_type_ing_w      1\n",
              "dtype: int64"
            ]
          },
          "metadata": {
            "tags": []
          },
          "execution_count": 99
        }
      ]
    },
    {
      "cell_type": "code",
      "metadata": {
        "id": "y8qe31mAttoY"
      },
      "source": [
        "y = df['yield']\r\n",
        "X = df.drop('yield',axis=1)"
      ],
      "execution_count": null,
      "outputs": []
    },
    {
      "cell_type": "code",
      "metadata": {
        "id": "gCyUTdZMwWRD"
      },
      "source": [
        " X_train, X_test, y_train, y_test = train_test_split(X, y, train_size = 0.80, test_size=0.20, random_state=42)"
      ],
      "execution_count": null,
      "outputs": []
    },
    {
      "cell_type": "code",
      "metadata": {
        "id": "8S-CoHGXwYJm"
      },
      "source": [
        "from sklearn.model_selection import cross_val_score, GridSearchCV\r\n",
        "from sklearn.ensemble import RandomForestRegressor\r\n",
        "from sklearn.preprocessing import MinMaxScaler"
      ],
      "execution_count": null,
      "outputs": []
    },
    {
      "cell_type": "code",
      "metadata": {
        "id": "kBIxL7Phwmpn"
      },
      "source": [
        "def rfr_model(X, y):\r\n",
        "# Perform Grid-Search\r\n",
        "    gsc = GridSearchCV(\r\n",
        "        estimator=RandomForestRegressor(),\r\n",
        "        param_grid={\r\n",
        "            'max_depth': range(3,7),\r\n",
        "            'n_estimators': (10, 50, 100, 1000),\r\n",
        "        },\r\n",
        "        cv=5, scoring='neg_mean_squared_error', verbose=0,                         n_jobs=-1)\r\n",
        "    \r\n",
        "    grid_result = gsc.fit(X, y)\r\n",
        "    best_params = grid_result.best_params_\r\n",
        "    \r\n",
        "    rfr = RandomForestRegressor(max_depth=best_params[\"max_depth\"], n_estimators=best_params[\"n_estimators\"],                               random_state=False, verbose=False)\r\n",
        "    # Perform K-Fold CV\r\n",
        "    scores = cross_val_score(rfr, X, y, cv=10, scoring='neg_mean_absolute_error')\r\n",
        "\r\n",
        "    return rfr"
      ],
      "execution_count": null,
      "outputs": []
    },
    {
      "cell_type": "code",
      "metadata": {
        "colab": {
          "base_uri": "https://localhost:8080/"
        },
        "id": "RNZy51Ukw_yD",
        "outputId": "b22c43d6-e0ca-4854-e807-9c000b2a6a10"
      },
      "source": [
        "rfr_model(X_train, y_train)"
      ],
      "execution_count": null,
      "outputs": [
        {
          "output_type": "execute_result",
          "data": {
            "text/plain": [
              "array([ -9.55191355,  -9.91980485,  -9.84696917, -10.43277744,\n",
              "       -10.48184147,  -9.24700975,  -9.38500821, -10.23271854,\n",
              "        -9.95925035, -10.76160994])"
            ]
          },
          "metadata": {
            "tags": []
          },
          "execution_count": 579
        }
      ]
    },
    {
      "cell_type": "code",
      "metadata": {
        "colab": {
          "base_uri": "https://localhost:8080/",
          "height": 162
        },
        "id": "OVAXVSkixToC",
        "outputId": "7eca91d9-fcb8-4aaf-aaf6-854bc93f1fa7"
      },
      "source": [
        "rfr"
      ],
      "execution_count": null,
      "outputs": [
        {
          "output_type": "error",
          "ename": "NameError",
          "evalue": "ignored",
          "traceback": [
            "\u001b[0;31m---------------------------------------------------------------------------\u001b[0m",
            "\u001b[0;31mNameError\u001b[0m                                 Traceback (most recent call last)",
            "\u001b[0;32m<ipython-input-580-b0e7dbc70a76>\u001b[0m in \u001b[0;36m<module>\u001b[0;34m()\u001b[0m\n\u001b[0;32m----> 1\u001b[0;31m \u001b[0mrfr\u001b[0m\u001b[0;34m\u001b[0m\u001b[0;34m\u001b[0m\u001b[0m\n\u001b[0m",
            "\u001b[0;31mNameError\u001b[0m: name 'rfr' is not defined"
          ]
        }
      ]
    },
    {
      "cell_type": "code",
      "metadata": {
        "id": "Qx4mxz-FxyTw"
      },
      "source": [
        "def model_build(model, x_train, y_train, parameters = None, k=1):\r\n",
        "    if parameters == None:\r\n",
        "        model.fit(x_train, y_train)\r\n",
        "    else:\r\n",
        "        modelCV = GridSearchCV(model, cv=k, param_grid=parameters)\r\n",
        "        modelCV.fit(x_train, y_train)\r\n",
        "        model = modelCV.best_estimator_\r\n",
        "    return model"
      ],
      "execution_count": null,
      "outputs": []
    },
    {
      "cell_type": "code",
      "metadata": {
        "id": "ZweNoYfxsCsl"
      },
      "source": [
        "# Function for training the model\r\n",
        "from sklearn.metrics import make_scorer\r\n",
        "\r\n",
        "def fn_train_model(model, \r\n",
        "                X_train, \r\n",
        "                y_train, \r\n",
        "                parameters = None, \r\n",
        "                k = 1):\r\n",
        "    if parameters == None:\r\n",
        "        model.fit(X_train, y_train) \r\n",
        "    else:\r\n",
        "        model_cv = GridSearchCV(model, \r\n",
        "                                param_grid = parameters, \r\n",
        "                                cv = k,\r\n",
        "                                scoring = 'neg_mean_squared_error')\r\n",
        "        model_cv.fit(X_train, y_train)\r\n",
        "        model = model_cv.best_estimator_\r\n",
        "        \r\n",
        "    return model"
      ],
      "execution_count": null,
      "outputs": []
    },
    {
      "cell_type": "code",
      "metadata": {
        "id": "3gt94qWmuA7N"
      },
      "source": [
        "parameters = {\r\n",
        "    \"n_estimators\" : [100,150,200],\r\n",
        "    \"max_depth\": range(3,7)}\r\n",
        "   "
      ],
      "execution_count": null,
      "outputs": []
    },
    {
      "cell_type": "code",
      "metadata": {
        "id": "zbUEANGVuv1W"
      },
      "source": [
        "rfc =  RandomForestRegressor(n_jobs=-1, random_state=42)"
      ],
      "execution_count": null,
      "outputs": []
    },
    {
      "cell_type": "code",
      "metadata": {
        "id": "wJzHno2guqDL"
      },
      "source": [
        "model = fn_train_model(rfc,\r\n",
        "                          X_train,\r\n",
        "                          y_train,\r\n",
        "                          parameters, k = 10)"
      ],
      "execution_count": null,
      "outputs": []
    },
    {
      "cell_type": "code",
      "metadata": {
        "colab": {
          "base_uri": "https://localhost:8080/",
          "height": 225
        },
        "id": "8LwVCKNHvHeh",
        "outputId": "5a480569-9aaf-4afb-e609-0f7c6bf17ef0"
      },
      "source": [
        "df_test.head()"
      ],
      "execution_count": null,
      "outputs": [
        {
          "output_type": "execute_result",
          "data": {
            "text/html": [
              "<div>\n",
              "<style scoped>\n",
              "    .dataframe tbody tr th:only-of-type {\n",
              "        vertical-align: middle;\n",
              "    }\n",
              "\n",
              "    .dataframe tbody tr th {\n",
              "        vertical-align: top;\n",
              "    }\n",
              "\n",
              "    .dataframe thead th {\n",
              "        text-align: right;\n",
              "    }\n",
              "</style>\n",
              "<table border=\"1\" class=\"dataframe\">\n",
              "  <thead>\n",
              "    <tr style=\"text-align: right;\">\n",
              "      <th></th>\n",
              "      <th>dew_temp</th>\n",
              "      <th>pressure_sea_level</th>\n",
              "      <th>precipitation</th>\n",
              "      <th>wind_speed</th>\n",
              "      <th>farm_id</th>\n",
              "      <th>ingredient_type</th>\n",
              "      <th>id</th>\n",
              "    </tr>\n",
              "    <tr>\n",
              "      <th>timestamp</th>\n",
              "      <th></th>\n",
              "      <th></th>\n",
              "      <th></th>\n",
              "      <th></th>\n",
              "      <th></th>\n",
              "      <th></th>\n",
              "      <th></th>\n",
              "    </tr>\n",
              "  </thead>\n",
              "  <tbody>\n",
              "    <tr>\n",
              "      <th>2017-01-01 00:00:00</th>\n",
              "      <td>11.7</td>\n",
              "      <td>1021.4</td>\n",
              "      <td>0.808699</td>\n",
              "      <td>3.6</td>\n",
              "      <td>fid_110884</td>\n",
              "      <td>ing_w</td>\n",
              "      <td>0</td>\n",
              "    </tr>\n",
              "    <tr>\n",
              "      <th>2017-01-01 01:00:00</th>\n",
              "      <td>12.8</td>\n",
              "      <td>1022.0</td>\n",
              "      <td>0.000000</td>\n",
              "      <td>3.1</td>\n",
              "      <td>fid_110884</td>\n",
              "      <td>ing_w</td>\n",
              "      <td>129</td>\n",
              "    </tr>\n",
              "    <tr>\n",
              "      <th>2017-01-01 02:00:00</th>\n",
              "      <td>12.8</td>\n",
              "      <td>1021.9</td>\n",
              "      <td>0.000000</td>\n",
              "      <td>3.1</td>\n",
              "      <td>fid_110884</td>\n",
              "      <td>ing_w</td>\n",
              "      <td>258</td>\n",
              "    </tr>\n",
              "    <tr>\n",
              "      <th>2017-01-01 03:00:00</th>\n",
              "      <td>13.3</td>\n",
              "      <td>1022.2</td>\n",
              "      <td>0.000000</td>\n",
              "      <td>3.1</td>\n",
              "      <td>fid_110884</td>\n",
              "      <td>ing_w</td>\n",
              "      <td>387</td>\n",
              "    </tr>\n",
              "    <tr>\n",
              "      <th>2017-01-01 04:00:00</th>\n",
              "      <td>13.3</td>\n",
              "      <td>1022.3</td>\n",
              "      <td>0.000000</td>\n",
              "      <td>2.6</td>\n",
              "      <td>fid_110884</td>\n",
              "      <td>ing_w</td>\n",
              "      <td>516</td>\n",
              "    </tr>\n",
              "  </tbody>\n",
              "</table>\n",
              "</div>"
            ],
            "text/plain": [
              "                     dew_temp  pressure_sea_level  ...  ingredient_type   id\n",
              "timestamp                                          ...                      \n",
              "2017-01-01 00:00:00      11.7              1021.4  ...            ing_w    0\n",
              "2017-01-01 01:00:00      12.8              1022.0  ...            ing_w  129\n",
              "2017-01-01 02:00:00      12.8              1021.9  ...            ing_w  258\n",
              "2017-01-01 03:00:00      13.3              1022.2  ...            ing_w  387\n",
              "2017-01-01 04:00:00      13.3              1022.3  ...            ing_w  516\n",
              "\n",
              "[5 rows x 7 columns]"
            ]
          },
          "metadata": {
            "tags": []
          },
          "execution_count": 104
        }
      ]
    },
    {
      "cell_type": "code",
      "metadata": {
        "id": "o7RcCbYlwNoB"
      },
      "source": [
        "df2 = df.copy()\r\n",
        "df2_test = df_test.copy()"
      ],
      "execution_count": null,
      "outputs": []
    },
    {
      "cell_type": "code",
      "metadata": {
        "colab": {
          "base_uri": "https://localhost:8080/"
        },
        "id": "HcMiQG7hwNoJ",
        "outputId": "1b746764-54f8-493f-93bf-c7b4613f05e1"
      },
      "source": [
        "df_test['hour'] = df_test.index.hour"
      ],
      "execution_count": null,
      "outputs": [
        {
          "output_type": "stream",
          "text": [
            "/usr/local/lib/python3.6/dist-packages/ipykernel_launcher.py:1: SettingWithCopyWarning:\n",
            "\n",
            "\n",
            "A value is trying to be set on a copy of a slice from a DataFrame.\n",
            "Try using .loc[row_indexer,col_indexer] = value instead\n",
            "\n",
            "See the caveats in the documentation: https://pandas.pydata.org/pandas-docs/stable/user_guide/indexing.html#returning-a-view-versus-a-copy\n",
            "\n"
          ],
          "name": "stderr"
        }
      ]
    },
    {
      "cell_type": "code",
      "metadata": {
        "colab": {
          "base_uri": "https://localhost:8080/"
        },
        "id": "vIXJooPRwNoL",
        "outputId": "3d22e7a7-c3ba-4147-a119-ca2789be37e6"
      },
      "source": [
        "df_test['month'] = df_test.index.month"
      ],
      "execution_count": null,
      "outputs": [
        {
          "output_type": "stream",
          "text": [
            "/usr/local/lib/python3.6/dist-packages/ipykernel_launcher.py:1: SettingWithCopyWarning:\n",
            "\n",
            "\n",
            "A value is trying to be set on a copy of a slice from a DataFrame.\n",
            "Try using .loc[row_indexer,col_indexer] = value instead\n",
            "\n",
            "See the caveats in the documentation: https://pandas.pydata.org/pandas-docs/stable/user_guide/indexing.html#returning-a-view-versus-a-copy\n",
            "\n"
          ],
          "name": "stderr"
        }
      ]
    },
    {
      "cell_type": "code",
      "metadata": {
        "colab": {
          "base_uri": "https://localhost:8080/"
        },
        "id": "HcVtChHSwNoM",
        "outputId": "561ab655-b463-40fe-e859-98e8219cfc8d"
      },
      "source": [
        "df_test['day'] = df_test.index.day"
      ],
      "execution_count": null,
      "outputs": [
        {
          "output_type": "stream",
          "text": [
            "/usr/local/lib/python3.6/dist-packages/ipykernel_launcher.py:1: SettingWithCopyWarning:\n",
            "\n",
            "\n",
            "A value is trying to be set on a copy of a slice from a DataFrame.\n",
            "Try using .loc[row_indexer,col_indexer] = value instead\n",
            "\n",
            "See the caveats in the documentation: https://pandas.pydata.org/pandas-docs/stable/user_guide/indexing.html#returning-a-view-versus-a-copy\n",
            "\n"
          ],
          "name": "stderr"
        }
      ]
    },
    {
      "cell_type": "code",
      "metadata": {
        "colab": {
          "base_uri": "https://localhost:8080/",
          "height": 225
        },
        "id": "9_hVSaj9wNoN",
        "outputId": "2ceefd85-efd0-4684-d0f4-356acd67af1b"
      },
      "source": [
        "df_test.head()"
      ],
      "execution_count": null,
      "outputs": [
        {
          "output_type": "execute_result",
          "data": {
            "text/html": [
              "<div>\n",
              "<style scoped>\n",
              "    .dataframe tbody tr th:only-of-type {\n",
              "        vertical-align: middle;\n",
              "    }\n",
              "\n",
              "    .dataframe tbody tr th {\n",
              "        vertical-align: top;\n",
              "    }\n",
              "\n",
              "    .dataframe thead th {\n",
              "        text-align: right;\n",
              "    }\n",
              "</style>\n",
              "<table border=\"1\" class=\"dataframe\">\n",
              "  <thead>\n",
              "    <tr style=\"text-align: right;\">\n",
              "      <th></th>\n",
              "      <th>dew_temp</th>\n",
              "      <th>pressure_sea_level</th>\n",
              "      <th>precipitation</th>\n",
              "      <th>wind_speed</th>\n",
              "      <th>farm_id</th>\n",
              "      <th>ingredient_type</th>\n",
              "      <th>id</th>\n",
              "      <th>hour</th>\n",
              "      <th>month</th>\n",
              "      <th>day</th>\n",
              "    </tr>\n",
              "    <tr>\n",
              "      <th>timestamp</th>\n",
              "      <th></th>\n",
              "      <th></th>\n",
              "      <th></th>\n",
              "      <th></th>\n",
              "      <th></th>\n",
              "      <th></th>\n",
              "      <th></th>\n",
              "      <th></th>\n",
              "      <th></th>\n",
              "      <th></th>\n",
              "    </tr>\n",
              "  </thead>\n",
              "  <tbody>\n",
              "    <tr>\n",
              "      <th>2017-01-01 00:00:00</th>\n",
              "      <td>11.7</td>\n",
              "      <td>1021.4</td>\n",
              "      <td>0.808699</td>\n",
              "      <td>3.6</td>\n",
              "      <td>fid_110884</td>\n",
              "      <td>ing_w</td>\n",
              "      <td>0</td>\n",
              "      <td>0</td>\n",
              "      <td>1</td>\n",
              "      <td>1</td>\n",
              "    </tr>\n",
              "    <tr>\n",
              "      <th>2017-01-01 01:00:00</th>\n",
              "      <td>12.8</td>\n",
              "      <td>1022.0</td>\n",
              "      <td>0.000000</td>\n",
              "      <td>3.1</td>\n",
              "      <td>fid_110884</td>\n",
              "      <td>ing_w</td>\n",
              "      <td>129</td>\n",
              "      <td>1</td>\n",
              "      <td>1</td>\n",
              "      <td>1</td>\n",
              "    </tr>\n",
              "    <tr>\n",
              "      <th>2017-01-01 02:00:00</th>\n",
              "      <td>12.8</td>\n",
              "      <td>1021.9</td>\n",
              "      <td>0.000000</td>\n",
              "      <td>3.1</td>\n",
              "      <td>fid_110884</td>\n",
              "      <td>ing_w</td>\n",
              "      <td>258</td>\n",
              "      <td>2</td>\n",
              "      <td>1</td>\n",
              "      <td>1</td>\n",
              "    </tr>\n",
              "    <tr>\n",
              "      <th>2017-01-01 03:00:00</th>\n",
              "      <td>13.3</td>\n",
              "      <td>1022.2</td>\n",
              "      <td>0.000000</td>\n",
              "      <td>3.1</td>\n",
              "      <td>fid_110884</td>\n",
              "      <td>ing_w</td>\n",
              "      <td>387</td>\n",
              "      <td>3</td>\n",
              "      <td>1</td>\n",
              "      <td>1</td>\n",
              "    </tr>\n",
              "    <tr>\n",
              "      <th>2017-01-01 04:00:00</th>\n",
              "      <td>13.3</td>\n",
              "      <td>1022.3</td>\n",
              "      <td>0.000000</td>\n",
              "      <td>2.6</td>\n",
              "      <td>fid_110884</td>\n",
              "      <td>ing_w</td>\n",
              "      <td>516</td>\n",
              "      <td>4</td>\n",
              "      <td>1</td>\n",
              "      <td>1</td>\n",
              "    </tr>\n",
              "  </tbody>\n",
              "</table>\n",
              "</div>"
            ],
            "text/plain": [
              "                     dew_temp  pressure_sea_level  ...  month  day\n",
              "timestamp                                          ...            \n",
              "2017-01-01 00:00:00      11.7              1021.4  ...      1    1\n",
              "2017-01-01 01:00:00      12.8              1022.0  ...      1    1\n",
              "2017-01-01 02:00:00      12.8              1021.9  ...      1    1\n",
              "2017-01-01 03:00:00      13.3              1022.2  ...      1    1\n",
              "2017-01-01 04:00:00      13.3              1022.3  ...      1    1\n",
              "\n",
              "[5 rows x 10 columns]"
            ]
          },
          "metadata": {
            "tags": []
          },
          "execution_count": 108
        }
      ]
    },
    {
      "cell_type": "code",
      "metadata": {
        "colab": {
          "base_uri": "https://localhost:8080/"
        },
        "id": "ttiTsz4PwNoO",
        "outputId": "64e15090-1200-4cac-8880-08ce32757301"
      },
      "source": [
        "df_test['week'] = df_test.index.week"
      ],
      "execution_count": null,
      "outputs": [
        {
          "output_type": "stream",
          "text": [
            "/usr/local/lib/python3.6/dist-packages/ipykernel_launcher.py:1: FutureWarning:\n",
            "\n",
            "weekofyear and week have been deprecated, please use DatetimeIndex.isocalendar().week instead, which returns a Series.  To exactly reproduce the behavior of week and weekofyear and return an Index, you may call pd.Int64Index(idx.isocalendar().week)\n",
            "\n",
            "/usr/local/lib/python3.6/dist-packages/ipykernel_launcher.py:1: SettingWithCopyWarning:\n",
            "\n",
            "\n",
            "A value is trying to be set on a copy of a slice from a DataFrame.\n",
            "Try using .loc[row_indexer,col_indexer] = value instead\n",
            "\n",
            "See the caveats in the documentation: https://pandas.pydata.org/pandas-docs/stable/user_guide/indexing.html#returning-a-view-versus-a-copy\n",
            "\n"
          ],
          "name": "stderr"
        }
      ]
    },
    {
      "cell_type": "code",
      "metadata": {
        "colab": {
          "base_uri": "https://localhost:8080/",
          "height": 225
        },
        "id": "9aF8CmCwwNoP",
        "outputId": "f59afbc5-9a15-44fc-bddc-d9d48d2a5d5f"
      },
      "source": [
        "df_test.head()"
      ],
      "execution_count": null,
      "outputs": [
        {
          "output_type": "execute_result",
          "data": {
            "text/html": [
              "<div>\n",
              "<style scoped>\n",
              "    .dataframe tbody tr th:only-of-type {\n",
              "        vertical-align: middle;\n",
              "    }\n",
              "\n",
              "    .dataframe tbody tr th {\n",
              "        vertical-align: top;\n",
              "    }\n",
              "\n",
              "    .dataframe thead th {\n",
              "        text-align: right;\n",
              "    }\n",
              "</style>\n",
              "<table border=\"1\" class=\"dataframe\">\n",
              "  <thead>\n",
              "    <tr style=\"text-align: right;\">\n",
              "      <th></th>\n",
              "      <th>dew_temp</th>\n",
              "      <th>pressure_sea_level</th>\n",
              "      <th>precipitation</th>\n",
              "      <th>wind_speed</th>\n",
              "      <th>farm_id</th>\n",
              "      <th>ingredient_type</th>\n",
              "      <th>id</th>\n",
              "      <th>hour</th>\n",
              "      <th>month</th>\n",
              "      <th>day</th>\n",
              "      <th>week</th>\n",
              "    </tr>\n",
              "    <tr>\n",
              "      <th>timestamp</th>\n",
              "      <th></th>\n",
              "      <th></th>\n",
              "      <th></th>\n",
              "      <th></th>\n",
              "      <th></th>\n",
              "      <th></th>\n",
              "      <th></th>\n",
              "      <th></th>\n",
              "      <th></th>\n",
              "      <th></th>\n",
              "      <th></th>\n",
              "    </tr>\n",
              "  </thead>\n",
              "  <tbody>\n",
              "    <tr>\n",
              "      <th>2017-01-01 00:00:00</th>\n",
              "      <td>11.7</td>\n",
              "      <td>1021.4</td>\n",
              "      <td>0.808699</td>\n",
              "      <td>3.6</td>\n",
              "      <td>fid_110884</td>\n",
              "      <td>ing_w</td>\n",
              "      <td>0</td>\n",
              "      <td>0</td>\n",
              "      <td>1</td>\n",
              "      <td>1</td>\n",
              "      <td>52</td>\n",
              "    </tr>\n",
              "    <tr>\n",
              "      <th>2017-01-01 01:00:00</th>\n",
              "      <td>12.8</td>\n",
              "      <td>1022.0</td>\n",
              "      <td>0.000000</td>\n",
              "      <td>3.1</td>\n",
              "      <td>fid_110884</td>\n",
              "      <td>ing_w</td>\n",
              "      <td>129</td>\n",
              "      <td>1</td>\n",
              "      <td>1</td>\n",
              "      <td>1</td>\n",
              "      <td>52</td>\n",
              "    </tr>\n",
              "    <tr>\n",
              "      <th>2017-01-01 02:00:00</th>\n",
              "      <td>12.8</td>\n",
              "      <td>1021.9</td>\n",
              "      <td>0.000000</td>\n",
              "      <td>3.1</td>\n",
              "      <td>fid_110884</td>\n",
              "      <td>ing_w</td>\n",
              "      <td>258</td>\n",
              "      <td>2</td>\n",
              "      <td>1</td>\n",
              "      <td>1</td>\n",
              "      <td>52</td>\n",
              "    </tr>\n",
              "    <tr>\n",
              "      <th>2017-01-01 03:00:00</th>\n",
              "      <td>13.3</td>\n",
              "      <td>1022.2</td>\n",
              "      <td>0.000000</td>\n",
              "      <td>3.1</td>\n",
              "      <td>fid_110884</td>\n",
              "      <td>ing_w</td>\n",
              "      <td>387</td>\n",
              "      <td>3</td>\n",
              "      <td>1</td>\n",
              "      <td>1</td>\n",
              "      <td>52</td>\n",
              "    </tr>\n",
              "    <tr>\n",
              "      <th>2017-01-01 04:00:00</th>\n",
              "      <td>13.3</td>\n",
              "      <td>1022.3</td>\n",
              "      <td>0.000000</td>\n",
              "      <td>2.6</td>\n",
              "      <td>fid_110884</td>\n",
              "      <td>ing_w</td>\n",
              "      <td>516</td>\n",
              "      <td>4</td>\n",
              "      <td>1</td>\n",
              "      <td>1</td>\n",
              "      <td>52</td>\n",
              "    </tr>\n",
              "  </tbody>\n",
              "</table>\n",
              "</div>"
            ],
            "text/plain": [
              "                     dew_temp  pressure_sea_level  ...  day  week\n",
              "timestamp                                          ...           \n",
              "2017-01-01 00:00:00      11.7              1021.4  ...    1    52\n",
              "2017-01-01 01:00:00      12.8              1022.0  ...    1    52\n",
              "2017-01-01 02:00:00      12.8              1021.9  ...    1    52\n",
              "2017-01-01 03:00:00      13.3              1022.2  ...    1    52\n",
              "2017-01-01 04:00:00      13.3              1022.3  ...    1    52\n",
              "\n",
              "[5 rows x 11 columns]"
            ]
          },
          "metadata": {
            "tags": []
          },
          "execution_count": 110
        }
      ]
    },
    {
      "cell_type": "code",
      "metadata": {
        "colab": {
          "base_uri": "https://localhost:8080/"
        },
        "id": "ctAQsS3YwNoQ",
        "outputId": "246d6e98-4629-4f58-e55b-2dbd9507ff4e"
      },
      "source": [
        "df_test.week.unique()"
      ],
      "execution_count": null,
      "outputs": [
        {
          "output_type": "execute_result",
          "data": {
            "text/plain": [
              "array([52,  1,  2,  3,  4,  5,  6,  7,  8,  9, 10, 11, 12, 13, 14, 15, 16,\n",
              "       17, 18, 19, 20, 21, 22, 23, 24, 25, 26, 27, 28, 29, 30, 31, 32, 33,\n",
              "       34, 35, 36, 37, 38, 39, 40, 41, 42, 43, 44, 45, 46, 47, 48, 49, 50,\n",
              "       51])"
            ]
          },
          "metadata": {
            "tags": []
          },
          "execution_count": 111
        }
      ]
    },
    {
      "cell_type": "code",
      "metadata": {
        "id": "HDojXjv-wNoQ"
      },
      "source": [
        "df_test.reset_index(inplace=True)"
      ],
      "execution_count": null,
      "outputs": []
    },
    {
      "cell_type": "code",
      "metadata": {
        "colab": {
          "base_uri": "https://localhost:8080/"
        },
        "id": "-hYRxP6nwNoR",
        "outputId": "4bccf9e5-2f15-4fc8-d118-18b742409964"
      },
      "source": [
        "df_test.columns"
      ],
      "execution_count": null,
      "outputs": [
        {
          "output_type": "execute_result",
          "data": {
            "text/plain": [
              "Index(['timestamp', 'dew_temp', 'pressure_sea_level', 'precipitation',\n",
              "       'wind_speed', 'farm_id', 'ingredient_type', 'id', 'hour', 'month',\n",
              "       'day', 'week'],\n",
              "      dtype='object')"
            ]
          },
          "metadata": {
            "tags": []
          },
          "execution_count": 113
        }
      ]
    },
    {
      "cell_type": "code",
      "metadata": {
        "colab": {
          "base_uri": "https://localhost:8080/"
        },
        "id": "4TOfjR7owNoS",
        "outputId": "c6cbc48f-4406-4c61-b692-80c9308e4aae"
      },
      "source": [
        "df_test.drop('timestamp', axis=1, inplace=True)"
      ],
      "execution_count": null,
      "outputs": [
        {
          "output_type": "stream",
          "text": [
            "/usr/local/lib/python3.6/dist-packages/pandas/core/frame.py:4174: SettingWithCopyWarning:\n",
            "\n",
            "\n",
            "A value is trying to be set on a copy of a slice from a DataFrame\n",
            "\n",
            "See the caveats in the documentation: https://pandas.pydata.org/pandas-docs/stable/user_guide/indexing.html#returning-a-view-versus-a-copy\n",
            "\n"
          ],
          "name": "stderr"
        }
      ]
    },
    {
      "cell_type": "code",
      "metadata": {
        "colab": {
          "base_uri": "https://localhost:8080/",
          "height": 195
        },
        "id": "1tN2OO8KwNoT",
        "outputId": "aef12385-e8f1-4942-a3f6-0e303c0d34fd"
      },
      "source": [
        "df_test.head()"
      ],
      "execution_count": null,
      "outputs": [
        {
          "output_type": "execute_result",
          "data": {
            "text/html": [
              "<div>\n",
              "<style scoped>\n",
              "    .dataframe tbody tr th:only-of-type {\n",
              "        vertical-align: middle;\n",
              "    }\n",
              "\n",
              "    .dataframe tbody tr th {\n",
              "        vertical-align: top;\n",
              "    }\n",
              "\n",
              "    .dataframe thead th {\n",
              "        text-align: right;\n",
              "    }\n",
              "</style>\n",
              "<table border=\"1\" class=\"dataframe\">\n",
              "  <thead>\n",
              "    <tr style=\"text-align: right;\">\n",
              "      <th></th>\n",
              "      <th>dew_temp</th>\n",
              "      <th>pressure_sea_level</th>\n",
              "      <th>precipitation</th>\n",
              "      <th>wind_speed</th>\n",
              "      <th>farm_id</th>\n",
              "      <th>ingredient_type</th>\n",
              "      <th>id</th>\n",
              "      <th>hour</th>\n",
              "      <th>month</th>\n",
              "      <th>day</th>\n",
              "      <th>week</th>\n",
              "    </tr>\n",
              "  </thead>\n",
              "  <tbody>\n",
              "    <tr>\n",
              "      <th>0</th>\n",
              "      <td>11.7</td>\n",
              "      <td>1021.4</td>\n",
              "      <td>0.808699</td>\n",
              "      <td>3.6</td>\n",
              "      <td>fid_110884</td>\n",
              "      <td>ing_w</td>\n",
              "      <td>0</td>\n",
              "      <td>0</td>\n",
              "      <td>1</td>\n",
              "      <td>1</td>\n",
              "      <td>52</td>\n",
              "    </tr>\n",
              "    <tr>\n",
              "      <th>1</th>\n",
              "      <td>12.8</td>\n",
              "      <td>1022.0</td>\n",
              "      <td>0.000000</td>\n",
              "      <td>3.1</td>\n",
              "      <td>fid_110884</td>\n",
              "      <td>ing_w</td>\n",
              "      <td>129</td>\n",
              "      <td>1</td>\n",
              "      <td>1</td>\n",
              "      <td>1</td>\n",
              "      <td>52</td>\n",
              "    </tr>\n",
              "    <tr>\n",
              "      <th>2</th>\n",
              "      <td>12.8</td>\n",
              "      <td>1021.9</td>\n",
              "      <td>0.000000</td>\n",
              "      <td>3.1</td>\n",
              "      <td>fid_110884</td>\n",
              "      <td>ing_w</td>\n",
              "      <td>258</td>\n",
              "      <td>2</td>\n",
              "      <td>1</td>\n",
              "      <td>1</td>\n",
              "      <td>52</td>\n",
              "    </tr>\n",
              "    <tr>\n",
              "      <th>3</th>\n",
              "      <td>13.3</td>\n",
              "      <td>1022.2</td>\n",
              "      <td>0.000000</td>\n",
              "      <td>3.1</td>\n",
              "      <td>fid_110884</td>\n",
              "      <td>ing_w</td>\n",
              "      <td>387</td>\n",
              "      <td>3</td>\n",
              "      <td>1</td>\n",
              "      <td>1</td>\n",
              "      <td>52</td>\n",
              "    </tr>\n",
              "    <tr>\n",
              "      <th>4</th>\n",
              "      <td>13.3</td>\n",
              "      <td>1022.3</td>\n",
              "      <td>0.000000</td>\n",
              "      <td>2.6</td>\n",
              "      <td>fid_110884</td>\n",
              "      <td>ing_w</td>\n",
              "      <td>516</td>\n",
              "      <td>4</td>\n",
              "      <td>1</td>\n",
              "      <td>1</td>\n",
              "      <td>52</td>\n",
              "    </tr>\n",
              "  </tbody>\n",
              "</table>\n",
              "</div>"
            ],
            "text/plain": [
              "   dew_temp  pressure_sea_level  precipitation  ...  month day week\n",
              "0      11.7              1021.4       0.808699  ...      1   1   52\n",
              "1      12.8              1022.0       0.000000  ...      1   1   52\n",
              "2      12.8              1021.9       0.000000  ...      1   1   52\n",
              "3      13.3              1022.2       0.000000  ...      1   1   52\n",
              "4      13.3              1022.3       0.000000  ...      1   1   52\n",
              "\n",
              "[5 rows x 11 columns]"
            ]
          },
          "metadata": {
            "tags": []
          },
          "execution_count": 115
        }
      ]
    },
    {
      "cell_type": "code",
      "metadata": {
        "colab": {
          "base_uri": "https://localhost:8080/"
        },
        "id": "5rxjzuoiwNoT",
        "outputId": "6e65831e-8156-41b7-b601-5cb8e06c4d26"
      },
      "source": [
        "df['ingredient_type']='ing_w'"
      ],
      "execution_count": null,
      "outputs": [
        {
          "output_type": "stream",
          "text": [
            "/usr/local/lib/python3.6/dist-packages/ipykernel_launcher.py:1: SettingWithCopyWarning:\n",
            "\n",
            "\n",
            "A value is trying to be set on a copy of a slice from a DataFrame.\n",
            "Try using .loc[row_indexer,col_indexer] = value instead\n",
            "\n",
            "See the caveats in the documentation: https://pandas.pydata.org/pandas-docs/stable/user_guide/indexing.html#returning-a-view-versus-a-copy\n",
            "\n"
          ],
          "name": "stderr"
        }
      ]
    },
    {
      "cell_type": "code",
      "metadata": {
        "colab": {
          "base_uri": "https://localhost:8080/",
          "height": 195
        },
        "id": "8pb7OCHYwNoU",
        "outputId": "64514d51-86e3-40cb-8cb9-75b2905835a6"
      },
      "source": [
        "df.head()"
      ],
      "execution_count": null,
      "outputs": [
        {
          "output_type": "execute_result",
          "data": {
            "text/html": [
              "<div>\n",
              "<style scoped>\n",
              "    .dataframe tbody tr th:only-of-type {\n",
              "        vertical-align: middle;\n",
              "    }\n",
              "\n",
              "    .dataframe tbody tr th {\n",
              "        vertical-align: top;\n",
              "    }\n",
              "\n",
              "    .dataframe thead th {\n",
              "        text-align: right;\n",
              "    }\n",
              "</style>\n",
              "<table border=\"1\" class=\"dataframe\">\n",
              "  <thead>\n",
              "    <tr style=\"text-align: right;\">\n",
              "      <th></th>\n",
              "      <th>ingredient_type</th>\n",
              "      <th>yield</th>\n",
              "      <th>farm_area</th>\n",
              "      <th>farming_company</th>\n",
              "      <th>deidentified_location</th>\n",
              "      <th>dew_temp</th>\n",
              "      <th>pressure_sea_level</th>\n",
              "      <th>precipitation</th>\n",
              "      <th>wind_speed</th>\n",
              "      <th>hour</th>\n",
              "      <th>month</th>\n",
              "      <th>day</th>\n",
              "      <th>week</th>\n",
              "    </tr>\n",
              "  </thead>\n",
              "  <tbody>\n",
              "    <tr>\n",
              "      <th>0</th>\n",
              "      <td>ing_w</td>\n",
              "      <td>0.0</td>\n",
              "      <td>690.455096</td>\n",
              "      <td>Obery Farms</td>\n",
              "      <td>location 7369</td>\n",
              "      <td>20.0</td>\n",
              "      <td>1019.7</td>\n",
              "      <td>0.793987</td>\n",
              "      <td>0.0</td>\n",
              "      <td>0</td>\n",
              "      <td>1</td>\n",
              "      <td>1</td>\n",
              "      <td>53</td>\n",
              "    </tr>\n",
              "    <tr>\n",
              "      <th>1</th>\n",
              "      <td>ing_w</td>\n",
              "      <td>0.0</td>\n",
              "      <td>690.455096</td>\n",
              "      <td>Obery Farms</td>\n",
              "      <td>location 7369</td>\n",
              "      <td>21.1</td>\n",
              "      <td>1020.2</td>\n",
              "      <td>-1.000000</td>\n",
              "      <td>1.5</td>\n",
              "      <td>1</td>\n",
              "      <td>1</td>\n",
              "      <td>1</td>\n",
              "      <td>53</td>\n",
              "    </tr>\n",
              "    <tr>\n",
              "      <th>2</th>\n",
              "      <td>ing_w</td>\n",
              "      <td>0.0</td>\n",
              "      <td>690.455096</td>\n",
              "      <td>Obery Farms</td>\n",
              "      <td>location 7369</td>\n",
              "      <td>21.1</td>\n",
              "      <td>1020.2</td>\n",
              "      <td>0.000000</td>\n",
              "      <td>0.0</td>\n",
              "      <td>2</td>\n",
              "      <td>1</td>\n",
              "      <td>1</td>\n",
              "      <td>53</td>\n",
              "    </tr>\n",
              "    <tr>\n",
              "      <th>3</th>\n",
              "      <td>ing_w</td>\n",
              "      <td>0.0</td>\n",
              "      <td>690.455096</td>\n",
              "      <td>Obery Farms</td>\n",
              "      <td>location 7369</td>\n",
              "      <td>20.6</td>\n",
              "      <td>1020.1</td>\n",
              "      <td>0.000000</td>\n",
              "      <td>0.0</td>\n",
              "      <td>3</td>\n",
              "      <td>1</td>\n",
              "      <td>1</td>\n",
              "      <td>53</td>\n",
              "    </tr>\n",
              "    <tr>\n",
              "      <th>4</th>\n",
              "      <td>ing_w</td>\n",
              "      <td>0.0</td>\n",
              "      <td>690.455096</td>\n",
              "      <td>Obery Farms</td>\n",
              "      <td>location 7369</td>\n",
              "      <td>20.0</td>\n",
              "      <td>1020.0</td>\n",
              "      <td>-1.000000</td>\n",
              "      <td>2.6</td>\n",
              "      <td>4</td>\n",
              "      <td>1</td>\n",
              "      <td>1</td>\n",
              "      <td>53</td>\n",
              "    </tr>\n",
              "  </tbody>\n",
              "</table>\n",
              "</div>"
            ],
            "text/plain": [
              "  ingredient_type  yield   farm_area farming_company  ... hour  month  day  week\n",
              "0           ing_w    0.0  690.455096     Obery Farms  ...    0      1    1    53\n",
              "1           ing_w    0.0  690.455096     Obery Farms  ...    1      1    1    53\n",
              "2           ing_w    0.0  690.455096     Obery Farms  ...    2      1    1    53\n",
              "3           ing_w    0.0  690.455096     Obery Farms  ...    3      1    1    53\n",
              "4           ing_w    0.0  690.455096     Obery Farms  ...    4      1    1    53\n",
              "\n",
              "[5 rows x 13 columns]"
            ]
          },
          "metadata": {
            "tags": []
          },
          "execution_count": 63
        }
      ]
    },
    {
      "cell_type": "code",
      "metadata": {
        "id": "RsXHf6EKwNoU"
      },
      "source": [
        "df_test = pd.get_dummies(df_test, columns=['ingredient_type'])"
      ],
      "execution_count": null,
      "outputs": []
    },
    {
      "cell_type": "code",
      "metadata": {
        "colab": {
          "base_uri": "https://localhost:8080/",
          "height": 195
        },
        "id": "EsGYveGGwNoV",
        "outputId": "c0660f02-b698-432a-9b6a-4d85767a35ac"
      },
      "source": [
        "df_test.head()"
      ],
      "execution_count": null,
      "outputs": [
        {
          "output_type": "execute_result",
          "data": {
            "text/html": [
              "<div>\n",
              "<style scoped>\n",
              "    .dataframe tbody tr th:only-of-type {\n",
              "        vertical-align: middle;\n",
              "    }\n",
              "\n",
              "    .dataframe tbody tr th {\n",
              "        vertical-align: top;\n",
              "    }\n",
              "\n",
              "    .dataframe thead th {\n",
              "        text-align: right;\n",
              "    }\n",
              "</style>\n",
              "<table border=\"1\" class=\"dataframe\">\n",
              "  <thead>\n",
              "    <tr style=\"text-align: right;\">\n",
              "      <th></th>\n",
              "      <th>dew_temp</th>\n",
              "      <th>pressure_sea_level</th>\n",
              "      <th>precipitation</th>\n",
              "      <th>wind_speed</th>\n",
              "      <th>farm_id</th>\n",
              "      <th>id</th>\n",
              "      <th>hour</th>\n",
              "      <th>month</th>\n",
              "      <th>day</th>\n",
              "      <th>week</th>\n",
              "      <th>ingredient_type_ing_w</th>\n",
              "    </tr>\n",
              "  </thead>\n",
              "  <tbody>\n",
              "    <tr>\n",
              "      <th>0</th>\n",
              "      <td>11.7</td>\n",
              "      <td>1021.4</td>\n",
              "      <td>0.808699</td>\n",
              "      <td>3.6</td>\n",
              "      <td>fid_110884</td>\n",
              "      <td>0</td>\n",
              "      <td>0</td>\n",
              "      <td>1</td>\n",
              "      <td>1</td>\n",
              "      <td>52</td>\n",
              "      <td>1</td>\n",
              "    </tr>\n",
              "    <tr>\n",
              "      <th>1</th>\n",
              "      <td>12.8</td>\n",
              "      <td>1022.0</td>\n",
              "      <td>0.000000</td>\n",
              "      <td>3.1</td>\n",
              "      <td>fid_110884</td>\n",
              "      <td>129</td>\n",
              "      <td>1</td>\n",
              "      <td>1</td>\n",
              "      <td>1</td>\n",
              "      <td>52</td>\n",
              "      <td>1</td>\n",
              "    </tr>\n",
              "    <tr>\n",
              "      <th>2</th>\n",
              "      <td>12.8</td>\n",
              "      <td>1021.9</td>\n",
              "      <td>0.000000</td>\n",
              "      <td>3.1</td>\n",
              "      <td>fid_110884</td>\n",
              "      <td>258</td>\n",
              "      <td>2</td>\n",
              "      <td>1</td>\n",
              "      <td>1</td>\n",
              "      <td>52</td>\n",
              "      <td>1</td>\n",
              "    </tr>\n",
              "    <tr>\n",
              "      <th>3</th>\n",
              "      <td>13.3</td>\n",
              "      <td>1022.2</td>\n",
              "      <td>0.000000</td>\n",
              "      <td>3.1</td>\n",
              "      <td>fid_110884</td>\n",
              "      <td>387</td>\n",
              "      <td>3</td>\n",
              "      <td>1</td>\n",
              "      <td>1</td>\n",
              "      <td>52</td>\n",
              "      <td>1</td>\n",
              "    </tr>\n",
              "    <tr>\n",
              "      <th>4</th>\n",
              "      <td>13.3</td>\n",
              "      <td>1022.3</td>\n",
              "      <td>0.000000</td>\n",
              "      <td>2.6</td>\n",
              "      <td>fid_110884</td>\n",
              "      <td>516</td>\n",
              "      <td>4</td>\n",
              "      <td>1</td>\n",
              "      <td>1</td>\n",
              "      <td>52</td>\n",
              "      <td>1</td>\n",
              "    </tr>\n",
              "  </tbody>\n",
              "</table>\n",
              "</div>"
            ],
            "text/plain": [
              "   dew_temp  pressure_sea_level  ...  week  ingredient_type_ing_w\n",
              "0      11.7              1021.4  ...    52                      1\n",
              "1      12.8              1022.0  ...    52                      1\n",
              "2      12.8              1021.9  ...    52                      1\n",
              "3      13.3              1022.2  ...    52                      1\n",
              "4      13.3              1022.3  ...    52                      1\n",
              "\n",
              "[5 rows x 11 columns]"
            ]
          },
          "metadata": {
            "tags": []
          },
          "execution_count": 117
        }
      ]
    },
    {
      "cell_type": "code",
      "metadata": {
        "id": "_-tf5_l_wNoV"
      },
      "source": [
        "num_cols = eda.fn_fetch_col_based_ontype(df, 'float64')\r\n",
        "cat_cols = eda.fn_fetch_col_based_ontype(df, 'category','object')"
      ],
      "execution_count": null,
      "outputs": []
    },
    {
      "cell_type": "code",
      "metadata": {
        "colab": {
          "base_uri": "https://localhost:8080/"
        },
        "id": "VBS4HzTuwNoW",
        "outputId": "39da2221-9d8e-4be3-d690-53221e21ce12"
      },
      "source": [
        "num_cols"
      ],
      "execution_count": null,
      "outputs": [
        {
          "output_type": "execute_result",
          "data": {
            "text/plain": [
              "['yield', 'dew_temp', 'pressure_sea_level', 'precipitation', 'wind_speed']"
            ]
          },
          "metadata": {
            "tags": []
          },
          "execution_count": 97
        }
      ]
    },
    {
      "cell_type": "code",
      "metadata": {
        "colab": {
          "base_uri": "https://localhost:8080/"
        },
        "id": "5Hy7iVxHwNoX",
        "outputId": "25ef06b4-95af-4253-90f7-d0406b13fc1f"
      },
      "source": [
        "df.dtypes"
      ],
      "execution_count": null,
      "outputs": [
        {
          "output_type": "execute_result",
          "data": {
            "text/plain": [
              "yield                    float64\n",
              "dew_temp                 float64\n",
              "pressure_sea_level       float64\n",
              "precipitation            float64\n",
              "wind_speed               float64\n",
              "hour                       int64\n",
              "month                      int64\n",
              "day                        int64\n",
              "ingredient_type_ing_w      uint8\n",
              "dtype: object"
            ]
          },
          "metadata": {
            "tags": []
          },
          "execution_count": 98
        }
      ]
    },
    {
      "cell_type": "code",
      "metadata": {
        "colab": {
          "base_uri": "https://localhost:8080/"
        },
        "id": "G7mOR0VawNoX",
        "outputId": "0a47fb9b-d91c-4a33-cd99-ac54437ccb36"
      },
      "source": [
        "df.nunique()"
      ],
      "execution_count": null,
      "outputs": [
        {
          "output_type": "execute_result",
          "data": {
            "text/plain": [
              "yield                    330\n",
              "dew_temp                  74\n",
              "pressure_sea_level       274\n",
              "precipitation             72\n",
              "wind_speed                28\n",
              "hour                      24\n",
              "month                     12\n",
              "day                       31\n",
              "ingredient_type_ing_w      1\n",
              "dtype: int64"
            ]
          },
          "metadata": {
            "tags": []
          },
          "execution_count": 99
        }
      ]
    },
    {
      "cell_type": "code",
      "metadata": {
        "id": "oGACyax1w_WW"
      },
      "source": [
        "df_test.drop(['farm_id','id'], axis=1, inplace=True)"
      ],
      "execution_count": null,
      "outputs": []
    },
    {
      "cell_type": "code",
      "metadata": {
        "id": "oYpSxK78xknR"
      },
      "source": [
        "df_test.drop('week', axis=1, inplace=True)"
      ],
      "execution_count": null,
      "outputs": []
    },
    {
      "cell_type": "code",
      "metadata": {
        "id": "wW4j8xykvLI_"
      },
      "source": [
        "pred = model.predict(df_test)"
      ],
      "execution_count": null,
      "outputs": []
    },
    {
      "cell_type": "code",
      "metadata": {
        "colab": {
          "base_uri": "https://localhost:8080/",
          "height": 195
        },
        "id": "MIJdvsanw6fT",
        "outputId": "4bc08817-05a9-4c4b-b3f1-6ef00620fa21"
      },
      "source": [
        "df.head()"
      ],
      "execution_count": null,
      "outputs": [
        {
          "output_type": "execute_result",
          "data": {
            "text/html": [
              "<div>\n",
              "<style scoped>\n",
              "    .dataframe tbody tr th:only-of-type {\n",
              "        vertical-align: middle;\n",
              "    }\n",
              "\n",
              "    .dataframe tbody tr th {\n",
              "        vertical-align: top;\n",
              "    }\n",
              "\n",
              "    .dataframe thead th {\n",
              "        text-align: right;\n",
              "    }\n",
              "</style>\n",
              "<table border=\"1\" class=\"dataframe\">\n",
              "  <thead>\n",
              "    <tr style=\"text-align: right;\">\n",
              "      <th></th>\n",
              "      <th>yield</th>\n",
              "      <th>dew_temp</th>\n",
              "      <th>pressure_sea_level</th>\n",
              "      <th>precipitation</th>\n",
              "      <th>wind_speed</th>\n",
              "      <th>hour</th>\n",
              "      <th>month</th>\n",
              "      <th>day</th>\n",
              "      <th>ingredient_type_ing_w</th>\n",
              "    </tr>\n",
              "  </thead>\n",
              "  <tbody>\n",
              "    <tr>\n",
              "      <th>0</th>\n",
              "      <td>0.0</td>\n",
              "      <td>20.0</td>\n",
              "      <td>1019.7</td>\n",
              "      <td>0.793987</td>\n",
              "      <td>0.0</td>\n",
              "      <td>0</td>\n",
              "      <td>1</td>\n",
              "      <td>1</td>\n",
              "      <td>1</td>\n",
              "    </tr>\n",
              "    <tr>\n",
              "      <th>1</th>\n",
              "      <td>0.0</td>\n",
              "      <td>21.1</td>\n",
              "      <td>1020.2</td>\n",
              "      <td>-1.000000</td>\n",
              "      <td>1.5</td>\n",
              "      <td>1</td>\n",
              "      <td>1</td>\n",
              "      <td>1</td>\n",
              "      <td>1</td>\n",
              "    </tr>\n",
              "    <tr>\n",
              "      <th>2</th>\n",
              "      <td>0.0</td>\n",
              "      <td>21.1</td>\n",
              "      <td>1020.2</td>\n",
              "      <td>0.000000</td>\n",
              "      <td>0.0</td>\n",
              "      <td>2</td>\n",
              "      <td>1</td>\n",
              "      <td>1</td>\n",
              "      <td>1</td>\n",
              "    </tr>\n",
              "    <tr>\n",
              "      <th>3</th>\n",
              "      <td>0.0</td>\n",
              "      <td>20.6</td>\n",
              "      <td>1020.1</td>\n",
              "      <td>0.000000</td>\n",
              "      <td>0.0</td>\n",
              "      <td>3</td>\n",
              "      <td>1</td>\n",
              "      <td>1</td>\n",
              "      <td>1</td>\n",
              "    </tr>\n",
              "    <tr>\n",
              "      <th>4</th>\n",
              "      <td>0.0</td>\n",
              "      <td>20.0</td>\n",
              "      <td>1020.0</td>\n",
              "      <td>-1.000000</td>\n",
              "      <td>2.6</td>\n",
              "      <td>4</td>\n",
              "      <td>1</td>\n",
              "      <td>1</td>\n",
              "      <td>1</td>\n",
              "    </tr>\n",
              "  </tbody>\n",
              "</table>\n",
              "</div>"
            ],
            "text/plain": [
              "   yield  dew_temp  pressure_sea_level  ...  month  day  ingredient_type_ing_w\n",
              "0    0.0      20.0              1019.7  ...      1    1                      1\n",
              "1    0.0      21.1              1020.2  ...      1    1                      1\n",
              "2    0.0      21.1              1020.2  ...      1    1                      1\n",
              "3    0.0      20.6              1020.1  ...      1    1                      1\n",
              "4    0.0      20.0              1020.0  ...      1    1                      1\n",
              "\n",
              "[5 rows x 9 columns]"
            ]
          },
          "metadata": {
            "tags": []
          },
          "execution_count": 122
        }
      ]
    },
    {
      "cell_type": "code",
      "metadata": {
        "colab": {
          "base_uri": "https://localhost:8080/",
          "height": 195
        },
        "id": "urzl1LXtxTwl",
        "outputId": "a1d0d91f-fd2a-4d2b-c0e3-0deae11f44f5"
      },
      "source": [
        "df_test.head()"
      ],
      "execution_count": null,
      "outputs": [
        {
          "output_type": "execute_result",
          "data": {
            "text/html": [
              "<div>\n",
              "<style scoped>\n",
              "    .dataframe tbody tr th:only-of-type {\n",
              "        vertical-align: middle;\n",
              "    }\n",
              "\n",
              "    .dataframe tbody tr th {\n",
              "        vertical-align: top;\n",
              "    }\n",
              "\n",
              "    .dataframe thead th {\n",
              "        text-align: right;\n",
              "    }\n",
              "</style>\n",
              "<table border=\"1\" class=\"dataframe\">\n",
              "  <thead>\n",
              "    <tr style=\"text-align: right;\">\n",
              "      <th></th>\n",
              "      <th>dew_temp</th>\n",
              "      <th>pressure_sea_level</th>\n",
              "      <th>precipitation</th>\n",
              "      <th>wind_speed</th>\n",
              "      <th>hour</th>\n",
              "      <th>month</th>\n",
              "      <th>day</th>\n",
              "      <th>week</th>\n",
              "      <th>ingredient_type_ing_w</th>\n",
              "    </tr>\n",
              "  </thead>\n",
              "  <tbody>\n",
              "    <tr>\n",
              "      <th>0</th>\n",
              "      <td>11.7</td>\n",
              "      <td>1021.4</td>\n",
              "      <td>0.808699</td>\n",
              "      <td>3.6</td>\n",
              "      <td>0</td>\n",
              "      <td>1</td>\n",
              "      <td>1</td>\n",
              "      <td>52</td>\n",
              "      <td>1</td>\n",
              "    </tr>\n",
              "    <tr>\n",
              "      <th>1</th>\n",
              "      <td>12.8</td>\n",
              "      <td>1022.0</td>\n",
              "      <td>0.000000</td>\n",
              "      <td>3.1</td>\n",
              "      <td>1</td>\n",
              "      <td>1</td>\n",
              "      <td>1</td>\n",
              "      <td>52</td>\n",
              "      <td>1</td>\n",
              "    </tr>\n",
              "    <tr>\n",
              "      <th>2</th>\n",
              "      <td>12.8</td>\n",
              "      <td>1021.9</td>\n",
              "      <td>0.000000</td>\n",
              "      <td>3.1</td>\n",
              "      <td>2</td>\n",
              "      <td>1</td>\n",
              "      <td>1</td>\n",
              "      <td>52</td>\n",
              "      <td>1</td>\n",
              "    </tr>\n",
              "    <tr>\n",
              "      <th>3</th>\n",
              "      <td>13.3</td>\n",
              "      <td>1022.2</td>\n",
              "      <td>0.000000</td>\n",
              "      <td>3.1</td>\n",
              "      <td>3</td>\n",
              "      <td>1</td>\n",
              "      <td>1</td>\n",
              "      <td>52</td>\n",
              "      <td>1</td>\n",
              "    </tr>\n",
              "    <tr>\n",
              "      <th>4</th>\n",
              "      <td>13.3</td>\n",
              "      <td>1022.3</td>\n",
              "      <td>0.000000</td>\n",
              "      <td>2.6</td>\n",
              "      <td>4</td>\n",
              "      <td>1</td>\n",
              "      <td>1</td>\n",
              "      <td>52</td>\n",
              "      <td>1</td>\n",
              "    </tr>\n",
              "  </tbody>\n",
              "</table>\n",
              "</div>"
            ],
            "text/plain": [
              "   dew_temp  pressure_sea_level  ...  week  ingredient_type_ing_w\n",
              "0      11.7              1021.4  ...    52                      1\n",
              "1      12.8              1022.0  ...    52                      1\n",
              "2      12.8              1021.9  ...    52                      1\n",
              "3      13.3              1022.2  ...    52                      1\n",
              "4      13.3              1022.3  ...    52                      1\n",
              "\n",
              "[5 rows x 9 columns]"
            ]
          },
          "metadata": {
            "tags": []
          },
          "execution_count": 123
        }
      ]
    },
    {
      "cell_type": "code",
      "metadata": {
        "id": "CwUeFI8ZxXvd"
      },
      "source": [
        "submissions_df = pd.DataFrame(columns=['id','yield'])"
      ],
      "execution_count": 57,
      "outputs": []
    },
    {
      "cell_type": "code",
      "metadata": {
        "colab": {
          "base_uri": "https://localhost:8080/"
        },
        "id": "s3QeO1lXyEIF",
        "outputId": "e7398073-6e63-4886-8675-57842fc93465"
      },
      "source": [
        "submissions_df['yield'].nunique()"
      ],
      "execution_count": null,
      "outputs": [
        {
          "output_type": "execute_result",
          "data": {
            "text/plain": [
              "2076"
            ]
          },
          "metadata": {
            "tags": []
          },
          "execution_count": 134
        }
      ]
    },
    {
      "cell_type": "code",
      "metadata": {
        "colab": {
          "base_uri": "https://localhost:8080/"
        },
        "id": "Vnyoo6NIyUpQ",
        "outputId": "1e6fef7a-1964-4832-8ec3-3e48e89f0a2f"
      },
      "source": [
        "df['yield'].nunique()"
      ],
      "execution_count": null,
      "outputs": [
        {
          "output_type": "execute_result",
          "data": {
            "text/plain": [
              "330"
            ]
          },
          "metadata": {
            "tags": []
          },
          "execution_count": 135
        }
      ]
    },
    {
      "cell_type": "code",
      "metadata": {
        "colab": {
          "base_uri": "https://localhost:8080/"
        },
        "id": "D_S8TCCoypSW",
        "outputId": "b869a269-1b92-4305-9b4d-5c1695151196"
      },
      "source": [
        "df_test.shape"
      ],
      "execution_count": null,
      "outputs": [
        {
          "output_type": "execute_result",
          "data": {
            "text/plain": [
              "(8760, 8)"
            ]
          },
          "metadata": {
            "tags": []
          },
          "execution_count": 136
        }
      ]
    },
    {
      "cell_type": "code",
      "metadata": {
        "colab": {
          "base_uri": "https://localhost:8080/"
        },
        "id": "Oxoub625y0mv",
        "outputId": "ab270351-f89e-403c-db00-6e9ba33f3881"
      },
      "source": [
        "df.shape"
      ],
      "execution_count": null,
      "outputs": [
        {
          "output_type": "execute_result",
          "data": {
            "text/plain": [
              "(8784, 9)"
            ]
          },
          "metadata": {
            "tags": []
          },
          "execution_count": 137
        }
      ]
    },
    {
      "cell_type": "code",
      "metadata": {
        "colab": {
          "base_uri": "https://localhost:8080/"
        },
        "id": "kjXtZrd6y5Qs",
        "outputId": "93093e4d-f25f-42e1-b712-3f2513b64b30"
      },
      "source": [
        "submissions_df.shape"
      ],
      "execution_count": null,
      "outputs": [
        {
          "output_type": "execute_result",
          "data": {
            "text/plain": [
              "(8760, 2)"
            ]
          },
          "metadata": {
            "tags": []
          },
          "execution_count": 138
        }
      ]
    },
    {
      "cell_type": "code",
      "metadata": {
        "colab": {
          "base_uri": "https://localhost:8080/",
          "height": 225
        },
        "id": "WlBHwJpWzCf0",
        "outputId": "6fc744c9-f4c9-49fe-d202-9c7422c68ed1"
      },
      "source": [
        "submissions_df.tail()"
      ],
      "execution_count": null,
      "outputs": [
        {
          "output_type": "execute_result",
          "data": {
            "text/html": [
              "<div>\n",
              "<style scoped>\n",
              "    .dataframe tbody tr th:only-of-type {\n",
              "        vertical-align: middle;\n",
              "    }\n",
              "\n",
              "    .dataframe tbody tr th {\n",
              "        vertical-align: top;\n",
              "    }\n",
              "\n",
              "    .dataframe thead th {\n",
              "        text-align: right;\n",
              "    }\n",
              "</style>\n",
              "<table border=\"1\" class=\"dataframe\">\n",
              "  <thead>\n",
              "    <tr style=\"text-align: right;\">\n",
              "      <th></th>\n",
              "      <th>id</th>\n",
              "      <th>yield</th>\n",
              "    </tr>\n",
              "    <tr>\n",
              "      <th>timestamp</th>\n",
              "      <th></th>\n",
              "      <th></th>\n",
              "    </tr>\n",
              "  </thead>\n",
              "  <tbody>\n",
              "    <tr>\n",
              "      <th>2017-12-31 19:00:00</th>\n",
              "      <td>1129395</td>\n",
              "      <td>205.535134</td>\n",
              "    </tr>\n",
              "    <tr>\n",
              "      <th>2017-12-31 20:00:00</th>\n",
              "      <td>1129524</td>\n",
              "      <td>204.673915</td>\n",
              "    </tr>\n",
              "    <tr>\n",
              "      <th>2017-12-31 21:00:00</th>\n",
              "      <td>1129653</td>\n",
              "      <td>204.500628</td>\n",
              "    </tr>\n",
              "    <tr>\n",
              "      <th>2017-12-31 22:00:00</th>\n",
              "      <td>1129782</td>\n",
              "      <td>204.496777</td>\n",
              "    </tr>\n",
              "    <tr>\n",
              "      <th>2017-12-31 23:00:00</th>\n",
              "      <td>1129911</td>\n",
              "      <td>204.550576</td>\n",
              "    </tr>\n",
              "  </tbody>\n",
              "</table>\n",
              "</div>"
            ],
            "text/plain": [
              "                          id       yield\n",
              "timestamp                               \n",
              "2017-12-31 19:00:00  1129395  205.535134\n",
              "2017-12-31 20:00:00  1129524  204.673915\n",
              "2017-12-31 21:00:00  1129653  204.500628\n",
              "2017-12-31 22:00:00  1129782  204.496777\n",
              "2017-12-31 23:00:00  1129911  204.550576"
            ]
          },
          "metadata": {
            "tags": []
          },
          "execution_count": 139
        }
      ]
    },
    {
      "cell_type": "code",
      "metadata": {
        "id": "ljKkRwHh33jo"
      },
      "source": [
        "num_cols = eda.fn_fetch_col_based_ontype(df,'float64')\r\n"
      ],
      "execution_count": null,
      "outputs": []
    },
    {
      "cell_type": "code",
      "metadata": {
        "id": "oCh6gWXD5VDv"
      },
      "source": [
        "num_cols = ['dew_temp', 'pressure_sea_level', 'precipitation', 'wind_speed']"
      ],
      "execution_count": null,
      "outputs": []
    },
    {
      "cell_type": "code",
      "metadata": {
        "id": "2VG45oOc8xhK"
      },
      "source": [
        "cat_cols = eda.fn_fetch_col_based_ontype(final_data,'object', 'category')"
      ],
      "execution_count": null,
      "outputs": []
    },
    {
      "cell_type": "code",
      "metadata": {
        "colab": {
          "base_uri": "https://localhost:8080/"
        },
        "id": "4B4xGg7j8y4q",
        "outputId": "f9b841d5-0482-4495-ac54-207d50226513"
      },
      "source": [
        "cat_cols"
      ],
      "execution_count": null,
      "outputs": [
        {
          "output_type": "execute_result",
          "data": {
            "text/plain": [
              "['farm_id', 'ingredient_type', 'farming_company', 'deidentified_location']"
            ]
          },
          "metadata": {
            "tags": []
          },
          "execution_count": 160
        }
      ]
    },
    {
      "cell_type": "code",
      "metadata": {
        "id": "1a0mXkB65G2k"
      },
      "source": [
        "scaler = MinMaxScaler()\r\n",
        "imputed = scaler.fit_transform(final_data[num_cols]) \r\n",
        "test_imputed =  scaler.transform(final_test_data[num_cols]) \r\n",
        "final_num = pd.DataFrame(imputed,columns=num_cols) \r\n",
        "final_num_test = pd.DataFrame(test_imputed,columns=num_cols) "
      ],
      "execution_count": null,
      "outputs": []
    },
    {
      "cell_type": "code",
      "metadata": {
        "colab": {
          "base_uri": "https://localhost:8080/",
          "height": 195
        },
        "id": "0yGEf3L0-H-p",
        "outputId": "db89d31a-c7f1-456b-ac48-ac4b73f29173"
      },
      "source": [
        "final_num.head()"
      ],
      "execution_count": null,
      "outputs": [
        {
          "output_type": "execute_result",
          "data": {
            "text/html": [
              "<div>\n",
              "<style scoped>\n",
              "    .dataframe tbody tr th:only-of-type {\n",
              "        vertical-align: middle;\n",
              "    }\n",
              "\n",
              "    .dataframe tbody tr th {\n",
              "        vertical-align: top;\n",
              "    }\n",
              "\n",
              "    .dataframe thead th {\n",
              "        text-align: right;\n",
              "    }\n",
              "</style>\n",
              "<table border=\"1\" class=\"dataframe\">\n",
              "  <thead>\n",
              "    <tr style=\"text-align: right;\">\n",
              "      <th></th>\n",
              "      <th>dew_temp</th>\n",
              "      <th>pressure_sea_level</th>\n",
              "      <th>precipitation</th>\n",
              "      <th>wind_speed</th>\n",
              "    </tr>\n",
              "  </thead>\n",
              "  <tbody>\n",
              "    <tr>\n",
              "      <th>0</th>\n",
              "      <td>0.900164</td>\n",
              "      <td>0.666235</td>\n",
              "      <td>0.005215</td>\n",
              "      <td>0.0</td>\n",
              "    </tr>\n",
              "    <tr>\n",
              "      <th>1</th>\n",
              "      <td>0.900164</td>\n",
              "      <td>0.666235</td>\n",
              "      <td>0.005215</td>\n",
              "      <td>0.0</td>\n",
              "    </tr>\n",
              "    <tr>\n",
              "      <th>2</th>\n",
              "      <td>0.900164</td>\n",
              "      <td>0.666235</td>\n",
              "      <td>0.005215</td>\n",
              "      <td>0.0</td>\n",
              "    </tr>\n",
              "    <tr>\n",
              "      <th>3</th>\n",
              "      <td>0.900164</td>\n",
              "      <td>0.666235</td>\n",
              "      <td>0.005215</td>\n",
              "      <td>0.0</td>\n",
              "    </tr>\n",
              "    <tr>\n",
              "      <th>4</th>\n",
              "      <td>0.900164</td>\n",
              "      <td>0.666235</td>\n",
              "      <td>0.005215</td>\n",
              "      <td>0.0</td>\n",
              "    </tr>\n",
              "  </tbody>\n",
              "</table>\n",
              "</div>"
            ],
            "text/plain": [
              "   dew_temp  pressure_sea_level  precipitation  wind_speed\n",
              "0  0.900164            0.666235       0.005215         0.0\n",
              "1  0.900164            0.666235       0.005215         0.0\n",
              "2  0.900164            0.666235       0.005215         0.0\n",
              "3  0.900164            0.666235       0.005215         0.0\n",
              "4  0.900164            0.666235       0.005215         0.0"
            ]
          },
          "metadata": {
            "tags": []
          },
          "execution_count": 164
        }
      ]
    },
    {
      "cell_type": "code",
      "metadata": {
        "colab": {
          "base_uri": "https://localhost:8080/",
          "height": 354
        },
        "id": "uq5aflF07jJq",
        "outputId": "ed57885b-f338-4db1-987b-613b98ba4b17"
      },
      "source": [
        "#final_imputed = pd.concat(final_num, final_data[cat_cols])\r\n",
        "final_num['yield'] = final_data['yield']\r\n",
        "final_num['farm_id'] = final_data['farm_id']\r\n",
        "final_num['ingredient_type'] = final_data['ingredient_type']"
      ],
      "execution_count": null,
      "outputs": [
        {
          "output_type": "error",
          "ename": "ValueError",
          "evalue": "ignored",
          "traceback": [
            "\u001b[0;31m---------------------------------------------------------------------------\u001b[0m",
            "\u001b[0;31mValueError\u001b[0m                                Traceback (most recent call last)",
            "\u001b[0;32m<ipython-input-163-eb525561aaa9>\u001b[0m in \u001b[0;36m<module>\u001b[0;34m()\u001b[0m\n\u001b[1;32m      1\u001b[0m \u001b[0;31m#final_imputed = pd.concat(final_num, final_data[cat_cols])\u001b[0m\u001b[0;34m\u001b[0m\u001b[0;34m\u001b[0m\u001b[0;34m\u001b[0m\u001b[0m\n\u001b[0;32m----> 2\u001b[0;31m \u001b[0mfinal_num\u001b[0m\u001b[0;34m[\u001b[0m\u001b[0;34m'yield'\u001b[0m\u001b[0;34m]\u001b[0m \u001b[0;34m=\u001b[0m \u001b[0mfinal_data\u001b[0m\u001b[0;34m[\u001b[0m\u001b[0;34m'yield'\u001b[0m\u001b[0;34m]\u001b[0m\u001b[0;34m\u001b[0m\u001b[0;34m\u001b[0m\u001b[0m\n\u001b[0m\u001b[1;32m      3\u001b[0m \u001b[0mfinal_num\u001b[0m\u001b[0;34m[\u001b[0m\u001b[0;34m'farm_id'\u001b[0m\u001b[0;34m]\u001b[0m \u001b[0;34m=\u001b[0m \u001b[0mfinal_data\u001b[0m\u001b[0;34m[\u001b[0m\u001b[0;34m'farm_id'\u001b[0m\u001b[0;34m]\u001b[0m\u001b[0;34m\u001b[0m\u001b[0;34m\u001b[0m\u001b[0m\n\u001b[1;32m      4\u001b[0m \u001b[0mfinal_num\u001b[0m\u001b[0;34m[\u001b[0m\u001b[0;34m'ingredient_type'\u001b[0m\u001b[0;34m]\u001b[0m \u001b[0;34m=\u001b[0m \u001b[0mfinal_data\u001b[0m\u001b[0;34m[\u001b[0m\u001b[0;34m'ingredient_type'\u001b[0m\u001b[0;34m]\u001b[0m\u001b[0;34m\u001b[0m\u001b[0;34m\u001b[0m\u001b[0m\n",
            "\u001b[0;32m/usr/local/lib/python3.6/dist-packages/pandas/core/frame.py\u001b[0m in \u001b[0;36m__setitem__\u001b[0;34m(self, key, value)\u001b[0m\n\u001b[1;32m   3042\u001b[0m         \u001b[0;32melse\u001b[0m\u001b[0;34m:\u001b[0m\u001b[0;34m\u001b[0m\u001b[0;34m\u001b[0m\u001b[0m\n\u001b[1;32m   3043\u001b[0m             \u001b[0;31m# set column\u001b[0m\u001b[0;34m\u001b[0m\u001b[0;34m\u001b[0m\u001b[0;34m\u001b[0m\u001b[0m\n\u001b[0;32m-> 3044\u001b[0;31m             \u001b[0mself\u001b[0m\u001b[0;34m.\u001b[0m\u001b[0m_set_item\u001b[0m\u001b[0;34m(\u001b[0m\u001b[0mkey\u001b[0m\u001b[0;34m,\u001b[0m \u001b[0mvalue\u001b[0m\u001b[0;34m)\u001b[0m\u001b[0;34m\u001b[0m\u001b[0;34m\u001b[0m\u001b[0m\n\u001b[0m\u001b[1;32m   3045\u001b[0m \u001b[0;34m\u001b[0m\u001b[0m\n\u001b[1;32m   3046\u001b[0m     \u001b[0;32mdef\u001b[0m \u001b[0m_setitem_slice\u001b[0m\u001b[0;34m(\u001b[0m\u001b[0mself\u001b[0m\u001b[0;34m,\u001b[0m \u001b[0mkey\u001b[0m\u001b[0;34m:\u001b[0m \u001b[0mslice\u001b[0m\u001b[0;34m,\u001b[0m \u001b[0mvalue\u001b[0m\u001b[0;34m)\u001b[0m\u001b[0;34m:\u001b[0m\u001b[0;34m\u001b[0m\u001b[0;34m\u001b[0m\u001b[0m\n",
            "\u001b[0;32m/usr/local/lib/python3.6/dist-packages/pandas/core/frame.py\u001b[0m in \u001b[0;36m_set_item\u001b[0;34m(self, key, value)\u001b[0m\n\u001b[1;32m   3118\u001b[0m         \"\"\"\n\u001b[1;32m   3119\u001b[0m         \u001b[0mself\u001b[0m\u001b[0;34m.\u001b[0m\u001b[0m_ensure_valid_index\u001b[0m\u001b[0;34m(\u001b[0m\u001b[0mvalue\u001b[0m\u001b[0;34m)\u001b[0m\u001b[0;34m\u001b[0m\u001b[0;34m\u001b[0m\u001b[0m\n\u001b[0;32m-> 3120\u001b[0;31m         \u001b[0mvalue\u001b[0m \u001b[0;34m=\u001b[0m \u001b[0mself\u001b[0m\u001b[0;34m.\u001b[0m\u001b[0m_sanitize_column\u001b[0m\u001b[0;34m(\u001b[0m\u001b[0mkey\u001b[0m\u001b[0;34m,\u001b[0m \u001b[0mvalue\u001b[0m\u001b[0;34m)\u001b[0m\u001b[0;34m\u001b[0m\u001b[0;34m\u001b[0m\u001b[0m\n\u001b[0m\u001b[1;32m   3121\u001b[0m         \u001b[0mNDFrame\u001b[0m\u001b[0;34m.\u001b[0m\u001b[0m_set_item\u001b[0m\u001b[0;34m(\u001b[0m\u001b[0mself\u001b[0m\u001b[0;34m,\u001b[0m \u001b[0mkey\u001b[0m\u001b[0;34m,\u001b[0m \u001b[0mvalue\u001b[0m\u001b[0;34m)\u001b[0m\u001b[0;34m\u001b[0m\u001b[0;34m\u001b[0m\u001b[0m\n\u001b[1;32m   3122\u001b[0m \u001b[0;34m\u001b[0m\u001b[0m\n",
            "\u001b[0;32m/usr/local/lib/python3.6/dist-packages/pandas/core/frame.py\u001b[0m in \u001b[0;36m_sanitize_column\u001b[0;34m(self, key, value, broadcast)\u001b[0m\n\u001b[1;32m   3743\u001b[0m \u001b[0;34m\u001b[0m\u001b[0m\n\u001b[1;32m   3744\u001b[0m         \u001b[0;32mif\u001b[0m \u001b[0misinstance\u001b[0m\u001b[0;34m(\u001b[0m\u001b[0mvalue\u001b[0m\u001b[0;34m,\u001b[0m \u001b[0mSeries\u001b[0m\u001b[0;34m)\u001b[0m\u001b[0;34m:\u001b[0m\u001b[0;34m\u001b[0m\u001b[0;34m\u001b[0m\u001b[0m\n\u001b[0;32m-> 3745\u001b[0;31m             \u001b[0mvalue\u001b[0m \u001b[0;34m=\u001b[0m \u001b[0mreindexer\u001b[0m\u001b[0;34m(\u001b[0m\u001b[0mvalue\u001b[0m\u001b[0;34m)\u001b[0m\u001b[0;34m\u001b[0m\u001b[0;34m\u001b[0m\u001b[0m\n\u001b[0m\u001b[1;32m   3746\u001b[0m \u001b[0;34m\u001b[0m\u001b[0m\n\u001b[1;32m   3747\u001b[0m         \u001b[0;32melif\u001b[0m \u001b[0misinstance\u001b[0m\u001b[0;34m(\u001b[0m\u001b[0mvalue\u001b[0m\u001b[0;34m,\u001b[0m \u001b[0mDataFrame\u001b[0m\u001b[0;34m)\u001b[0m\u001b[0;34m:\u001b[0m\u001b[0;34m\u001b[0m\u001b[0;34m\u001b[0m\u001b[0m\n",
            "\u001b[0;32m/usr/local/lib/python3.6/dist-packages/pandas/core/frame.py\u001b[0m in \u001b[0;36mreindexer\u001b[0;34m(value)\u001b[0m\n\u001b[1;32m   3734\u001b[0m                     \u001b[0;32mif\u001b[0m \u001b[0;32mnot\u001b[0m \u001b[0mvalue\u001b[0m\u001b[0;34m.\u001b[0m\u001b[0mindex\u001b[0m\u001b[0;34m.\u001b[0m\u001b[0mis_unique\u001b[0m\u001b[0;34m:\u001b[0m\u001b[0;34m\u001b[0m\u001b[0;34m\u001b[0m\u001b[0m\n\u001b[1;32m   3735\u001b[0m                         \u001b[0;31m# duplicate axis\u001b[0m\u001b[0;34m\u001b[0m\u001b[0;34m\u001b[0m\u001b[0;34m\u001b[0m\u001b[0m\n\u001b[0;32m-> 3736\u001b[0;31m                         \u001b[0;32mraise\u001b[0m \u001b[0merr\u001b[0m\u001b[0;34m\u001b[0m\u001b[0;34m\u001b[0m\u001b[0m\n\u001b[0m\u001b[1;32m   3737\u001b[0m \u001b[0;34m\u001b[0m\u001b[0m\n\u001b[1;32m   3738\u001b[0m                     \u001b[0;31m# other\u001b[0m\u001b[0;34m\u001b[0m\u001b[0;34m\u001b[0m\u001b[0;34m\u001b[0m\u001b[0m\n",
            "\u001b[0;32m/usr/local/lib/python3.6/dist-packages/pandas/core/frame.py\u001b[0m in \u001b[0;36mreindexer\u001b[0;34m(value)\u001b[0m\n\u001b[1;32m   3729\u001b[0m                 \u001b[0;31m# GH 4107\u001b[0m\u001b[0;34m\u001b[0m\u001b[0;34m\u001b[0m\u001b[0;34m\u001b[0m\u001b[0m\n\u001b[1;32m   3730\u001b[0m                 \u001b[0;32mtry\u001b[0m\u001b[0;34m:\u001b[0m\u001b[0;34m\u001b[0m\u001b[0;34m\u001b[0m\u001b[0m\n\u001b[0;32m-> 3731\u001b[0;31m                     \u001b[0mvalue\u001b[0m \u001b[0;34m=\u001b[0m \u001b[0mvalue\u001b[0m\u001b[0;34m.\u001b[0m\u001b[0mreindex\u001b[0m\u001b[0;34m(\u001b[0m\u001b[0mself\u001b[0m\u001b[0;34m.\u001b[0m\u001b[0mindex\u001b[0m\u001b[0;34m)\u001b[0m\u001b[0;34m.\u001b[0m\u001b[0m_values\u001b[0m\u001b[0;34m\u001b[0m\u001b[0;34m\u001b[0m\u001b[0m\n\u001b[0m\u001b[1;32m   3732\u001b[0m                 \u001b[0;32mexcept\u001b[0m \u001b[0mValueError\u001b[0m \u001b[0;32mas\u001b[0m \u001b[0merr\u001b[0m\u001b[0;34m:\u001b[0m\u001b[0;34m\u001b[0m\u001b[0;34m\u001b[0m\u001b[0m\n\u001b[1;32m   3733\u001b[0m                     \u001b[0;31m# raised in MultiIndex.from_tuples, see test_insert_error_msmgs\u001b[0m\u001b[0;34m\u001b[0m\u001b[0;34m\u001b[0m\u001b[0;34m\u001b[0m\u001b[0m\n",
            "\u001b[0;32m/usr/local/lib/python3.6/dist-packages/pandas/core/series.py\u001b[0m in \u001b[0;36mreindex\u001b[0;34m(self, index, **kwargs)\u001b[0m\n\u001b[1;32m   4410\u001b[0m     )\n\u001b[1;32m   4411\u001b[0m     \u001b[0;32mdef\u001b[0m \u001b[0mreindex\u001b[0m\u001b[0;34m(\u001b[0m\u001b[0mself\u001b[0m\u001b[0;34m,\u001b[0m \u001b[0mindex\u001b[0m\u001b[0;34m=\u001b[0m\u001b[0;32mNone\u001b[0m\u001b[0;34m,\u001b[0m \u001b[0;34m**\u001b[0m\u001b[0mkwargs\u001b[0m\u001b[0;34m)\u001b[0m\u001b[0;34m:\u001b[0m\u001b[0;34m\u001b[0m\u001b[0;34m\u001b[0m\u001b[0m\n\u001b[0;32m-> 4412\u001b[0;31m         \u001b[0;32mreturn\u001b[0m \u001b[0msuper\u001b[0m\u001b[0;34m(\u001b[0m\u001b[0;34m)\u001b[0m\u001b[0;34m.\u001b[0m\u001b[0mreindex\u001b[0m\u001b[0;34m(\u001b[0m\u001b[0mindex\u001b[0m\u001b[0;34m=\u001b[0m\u001b[0mindex\u001b[0m\u001b[0;34m,\u001b[0m \u001b[0;34m**\u001b[0m\u001b[0mkwargs\u001b[0m\u001b[0;34m)\u001b[0m\u001b[0;34m\u001b[0m\u001b[0;34m\u001b[0m\u001b[0m\n\u001b[0m\u001b[1;32m   4413\u001b[0m \u001b[0;34m\u001b[0m\u001b[0m\n\u001b[1;32m   4414\u001b[0m     def drop(\n",
            "\u001b[0;32m/usr/local/lib/python3.6/dist-packages/pandas/core/generic.py\u001b[0m in \u001b[0;36mreindex\u001b[0;34m(self, *args, **kwargs)\u001b[0m\n\u001b[1;32m   4462\u001b[0m         \u001b[0;31m# perform the reindex on the axes\u001b[0m\u001b[0;34m\u001b[0m\u001b[0;34m\u001b[0m\u001b[0;34m\u001b[0m\u001b[0m\n\u001b[1;32m   4463\u001b[0m         return self._reindex_axes(\n\u001b[0;32m-> 4464\u001b[0;31m             \u001b[0maxes\u001b[0m\u001b[0;34m,\u001b[0m \u001b[0mlevel\u001b[0m\u001b[0;34m,\u001b[0m \u001b[0mlimit\u001b[0m\u001b[0;34m,\u001b[0m \u001b[0mtolerance\u001b[0m\u001b[0;34m,\u001b[0m \u001b[0mmethod\u001b[0m\u001b[0;34m,\u001b[0m \u001b[0mfill_value\u001b[0m\u001b[0;34m,\u001b[0m \u001b[0mcopy\u001b[0m\u001b[0;34m\u001b[0m\u001b[0;34m\u001b[0m\u001b[0m\n\u001b[0m\u001b[1;32m   4465\u001b[0m         ).__finalize__(self, method=\"reindex\")\n\u001b[1;32m   4466\u001b[0m \u001b[0;34m\u001b[0m\u001b[0m\n",
            "\u001b[0;32m/usr/local/lib/python3.6/dist-packages/pandas/core/generic.py\u001b[0m in \u001b[0;36m_reindex_axes\u001b[0;34m(self, axes, level, limit, tolerance, method, fill_value, copy)\u001b[0m\n\u001b[1;32m   4485\u001b[0m                 \u001b[0mfill_value\u001b[0m\u001b[0;34m=\u001b[0m\u001b[0mfill_value\u001b[0m\u001b[0;34m,\u001b[0m\u001b[0;34m\u001b[0m\u001b[0;34m\u001b[0m\u001b[0m\n\u001b[1;32m   4486\u001b[0m                 \u001b[0mcopy\u001b[0m\u001b[0;34m=\u001b[0m\u001b[0mcopy\u001b[0m\u001b[0;34m,\u001b[0m\u001b[0;34m\u001b[0m\u001b[0;34m\u001b[0m\u001b[0m\n\u001b[0;32m-> 4487\u001b[0;31m                 \u001b[0mallow_dups\u001b[0m\u001b[0;34m=\u001b[0m\u001b[0;32mFalse\u001b[0m\u001b[0;34m,\u001b[0m\u001b[0;34m\u001b[0m\u001b[0;34m\u001b[0m\u001b[0m\n\u001b[0m\u001b[1;32m   4488\u001b[0m             )\n\u001b[1;32m   4489\u001b[0m \u001b[0;34m\u001b[0m\u001b[0m\n",
            "\u001b[0;32m/usr/local/lib/python3.6/dist-packages/pandas/core/generic.py\u001b[0m in \u001b[0;36m_reindex_with_indexers\u001b[0;34m(self, reindexers, fill_value, copy, allow_dups)\u001b[0m\n\u001b[1;32m   4530\u001b[0m                 \u001b[0mfill_value\u001b[0m\u001b[0;34m=\u001b[0m\u001b[0mfill_value\u001b[0m\u001b[0;34m,\u001b[0m\u001b[0;34m\u001b[0m\u001b[0;34m\u001b[0m\u001b[0m\n\u001b[1;32m   4531\u001b[0m                 \u001b[0mallow_dups\u001b[0m\u001b[0;34m=\u001b[0m\u001b[0mallow_dups\u001b[0m\u001b[0;34m,\u001b[0m\u001b[0;34m\u001b[0m\u001b[0;34m\u001b[0m\u001b[0m\n\u001b[0;32m-> 4532\u001b[0;31m                 \u001b[0mcopy\u001b[0m\u001b[0;34m=\u001b[0m\u001b[0mcopy\u001b[0m\u001b[0;34m,\u001b[0m\u001b[0;34m\u001b[0m\u001b[0;34m\u001b[0m\u001b[0m\n\u001b[0m\u001b[1;32m   4533\u001b[0m             )\n\u001b[1;32m   4534\u001b[0m             \u001b[0;31m# If we've made a copy once, no need to make another one\u001b[0m\u001b[0;34m\u001b[0m\u001b[0;34m\u001b[0m\u001b[0;34m\u001b[0m\u001b[0m\n",
            "\u001b[0;32m/usr/local/lib/python3.6/dist-packages/pandas/core/internals/managers.py\u001b[0m in \u001b[0;36mreindex_indexer\u001b[0;34m(self, new_axis, indexer, axis, fill_value, allow_dups, copy, consolidate)\u001b[0m\n\u001b[1;32m   1283\u001b[0m         \u001b[0;31m# some axes don't allow reindexing with dups\u001b[0m\u001b[0;34m\u001b[0m\u001b[0;34m\u001b[0m\u001b[0;34m\u001b[0m\u001b[0m\n\u001b[1;32m   1284\u001b[0m         \u001b[0;32mif\u001b[0m \u001b[0;32mnot\u001b[0m \u001b[0mallow_dups\u001b[0m\u001b[0;34m:\u001b[0m\u001b[0;34m\u001b[0m\u001b[0;34m\u001b[0m\u001b[0m\n\u001b[0;32m-> 1285\u001b[0;31m             \u001b[0mself\u001b[0m\u001b[0;34m.\u001b[0m\u001b[0maxes\u001b[0m\u001b[0;34m[\u001b[0m\u001b[0maxis\u001b[0m\u001b[0;34m]\u001b[0m\u001b[0;34m.\u001b[0m\u001b[0m_can_reindex\u001b[0m\u001b[0;34m(\u001b[0m\u001b[0mindexer\u001b[0m\u001b[0;34m)\u001b[0m\u001b[0;34m\u001b[0m\u001b[0;34m\u001b[0m\u001b[0m\n\u001b[0m\u001b[1;32m   1286\u001b[0m \u001b[0;34m\u001b[0m\u001b[0m\n\u001b[1;32m   1287\u001b[0m         \u001b[0;32mif\u001b[0m \u001b[0maxis\u001b[0m \u001b[0;34m>=\u001b[0m \u001b[0mself\u001b[0m\u001b[0;34m.\u001b[0m\u001b[0mndim\u001b[0m\u001b[0;34m:\u001b[0m\u001b[0;34m\u001b[0m\u001b[0;34m\u001b[0m\u001b[0m\n",
            "\u001b[0;32m/usr/local/lib/python3.6/dist-packages/pandas/core/indexes/base.py\u001b[0m in \u001b[0;36m_can_reindex\u001b[0;34m(self, indexer)\u001b[0m\n\u001b[1;32m   3290\u001b[0m         \u001b[0;31m# trying to reindex on an axis with duplicates\u001b[0m\u001b[0;34m\u001b[0m\u001b[0;34m\u001b[0m\u001b[0;34m\u001b[0m\u001b[0m\n\u001b[1;32m   3291\u001b[0m         \u001b[0;32mif\u001b[0m \u001b[0;32mnot\u001b[0m \u001b[0mself\u001b[0m\u001b[0;34m.\u001b[0m\u001b[0mis_unique\u001b[0m \u001b[0;32mand\u001b[0m \u001b[0mlen\u001b[0m\u001b[0;34m(\u001b[0m\u001b[0mindexer\u001b[0m\u001b[0;34m)\u001b[0m\u001b[0;34m:\u001b[0m\u001b[0;34m\u001b[0m\u001b[0;34m\u001b[0m\u001b[0m\n\u001b[0;32m-> 3292\u001b[0;31m             \u001b[0;32mraise\u001b[0m \u001b[0mValueError\u001b[0m\u001b[0;34m(\u001b[0m\u001b[0;34m\"cannot reindex from a duplicate axis\"\u001b[0m\u001b[0;34m)\u001b[0m\u001b[0;34m\u001b[0m\u001b[0;34m\u001b[0m\u001b[0m\n\u001b[0m\u001b[1;32m   3293\u001b[0m \u001b[0;34m\u001b[0m\u001b[0m\n\u001b[1;32m   3294\u001b[0m     \u001b[0;32mdef\u001b[0m \u001b[0mreindex\u001b[0m\u001b[0;34m(\u001b[0m\u001b[0mself\u001b[0m\u001b[0;34m,\u001b[0m \u001b[0mtarget\u001b[0m\u001b[0;34m,\u001b[0m \u001b[0mmethod\u001b[0m\u001b[0;34m=\u001b[0m\u001b[0;32mNone\u001b[0m\u001b[0;34m,\u001b[0m \u001b[0mlevel\u001b[0m\u001b[0;34m=\u001b[0m\u001b[0;32mNone\u001b[0m\u001b[0;34m,\u001b[0m \u001b[0mlimit\u001b[0m\u001b[0;34m=\u001b[0m\u001b[0;32mNone\u001b[0m\u001b[0;34m,\u001b[0m \u001b[0mtolerance\u001b[0m\u001b[0;34m=\u001b[0m\u001b[0;32mNone\u001b[0m\u001b[0;34m)\u001b[0m\u001b[0;34m:\u001b[0m\u001b[0;34m\u001b[0m\u001b[0;34m\u001b[0m\u001b[0m\n",
            "\u001b[0;31mValueError\u001b[0m: cannot reindex from a duplicate axis"
          ]
        }
      ]
    },
    {
      "cell_type": "code",
      "metadata": {
        "id": "ubc-9gSy1nFp"
      },
      "source": [
        "submissions_df = pd.DataFrame(columns=['id','yield'])"
      ],
      "execution_count": null,
      "outputs": []
    },
    {
      "cell_type": "code",
      "metadata": {
        "id": "mm_-w2p1zLIf"
      },
      "source": [
        "def preprocess(df):\r\n",
        "  df.drop(['deidentified_location', 'farm_id', 'farming_company','farm_area'], axis=1, inplace=True)\r\n",
        "  df['month'] = df.index.month\r\n",
        "  df['day'] = df.index.day\r\n",
        "  df['week'] = df.index.week\r\n",
        "  df['dayofweek'] = df.index.dayofweek\r\n",
        "  df.reset_index('timestamp', inplace=True)\r\n",
        "  df.drop('timestamp', axis=1, inplace=True)\r\n",
        "  df = pd.get_dummies(df, columns=['ingredient_type','dayofweek'])\r\n",
        "  return df\r\n"
      ],
      "execution_count": null,
      "outputs": []
    },
    {
      "cell_type": "code",
      "metadata": {
        "id": "ykJwCGgx-a9w"
      },
      "source": [
        "def apply_model(df):\r\n",
        "  y = df['yield']\r\n",
        "  X = df.drop('yield',axis=1)\r\n",
        "  X_train, X_test, y_train, y_test = train_test_split(X, y, train_size = 0.80, test_size=0.20, random_state=42)\r\n",
        "  parameters = {\r\n",
        "    \"n_estimators\" : [100,150,200],\r\n",
        "    \"max_depth\": range(3,7)}\r\n",
        "\r\n",
        "  model = fn_train_model(rfc,\r\n",
        "                            X_train,\r\n",
        "                            y_train,\r\n",
        "                            parameters, k = 5)\r\n",
        "  return model\r\n"
      ],
      "execution_count": null,
      "outputs": []
    },
    {
      "cell_type": "code",
      "metadata": {
        "id": "cYmLIktFDdbQ"
      },
      "source": [
        "  submissions_df\r\n",
        "submissions_df.reset_index(inplace=True)"
      ],
      "execution_count": null,
      "outputs": []
    },
    {
      "cell_type": "code",
      "metadata": {
        "id": "XP6seKLp_tXt"
      },
      "source": [
        "def predict_value(df, model):\r\n",
        "  df2 = df.copy()\r\n",
        "  df.drop('id', axis=1, inplace=True)\r\n",
        "  pred = model.predict(df)\r\n",
        "  temp_df= pd.DataFrame({'id': df2.id, 'yield': pred})\r\n",
        "  global submissions_df\r\n",
        "  submissions_df = submissions_df.append(temp_df)"
      ],
      "execution_count": null,
      "outputs": []
    },
    {
      "cell_type": "code",
      "metadata": {
        "id": "n69Ygoc62qiE"
      },
      "source": [
        "df = final_data[final_data.farm_id == 'fid_90053']\r\n",
        "df_test = final_test_data[final_test_data.farm_id == 'fid_90053']"
      ],
      "execution_count": null,
      "outputs": []
    },
    {
      "cell_type": "code",
      "metadata": {
        "colab": {
          "base_uri": "https://localhost:8080/"
        },
        "id": "o1BIY2S826BB",
        "outputId": "d4f5df15-a76c-4306-c62d-e47e2268ede6"
      },
      "source": [
        "#df = preprocess(df)\r\n",
        "df_test = preprocess(df_test)"
      ],
      "execution_count": null,
      "outputs": [
        {
          "output_type": "stream",
          "text": [
            "/usr/local/lib/python3.6/dist-packages/pandas/core/frame.py:4174: SettingWithCopyWarning:\n",
            "\n",
            "\n",
            "A value is trying to be set on a copy of a slice from a DataFrame\n",
            "\n",
            "See the caveats in the documentation: https://pandas.pydata.org/pandas-docs/stable/user_guide/indexing.html#returning-a-view-versus-a-copy\n",
            "\n",
            "/usr/local/lib/python3.6/dist-packages/ipykernel_launcher.py:3: SettingWithCopyWarning:\n",
            "\n",
            "\n",
            "A value is trying to be set on a copy of a slice from a DataFrame.\n",
            "Try using .loc[row_indexer,col_indexer] = value instead\n",
            "\n",
            "See the caveats in the documentation: https://pandas.pydata.org/pandas-docs/stable/user_guide/indexing.html#returning-a-view-versus-a-copy\n",
            "\n",
            "/usr/local/lib/python3.6/dist-packages/ipykernel_launcher.py:4: SettingWithCopyWarning:\n",
            "\n",
            "\n",
            "A value is trying to be set on a copy of a slice from a DataFrame.\n",
            "Try using .loc[row_indexer,col_indexer] = value instead\n",
            "\n",
            "See the caveats in the documentation: https://pandas.pydata.org/pandas-docs/stable/user_guide/indexing.html#returning-a-view-versus-a-copy\n",
            "\n",
            "/usr/local/lib/python3.6/dist-packages/ipykernel_launcher.py:5: FutureWarning:\n",
            "\n",
            "weekofyear and week have been deprecated, please use DatetimeIndex.isocalendar().week instead, which returns a Series.  To exactly reproduce the behavior of week and weekofyear and return an Index, you may call pd.Int64Index(idx.isocalendar().week)\n",
            "\n",
            "/usr/local/lib/python3.6/dist-packages/ipykernel_launcher.py:5: SettingWithCopyWarning:\n",
            "\n",
            "\n",
            "A value is trying to be set on a copy of a slice from a DataFrame.\n",
            "Try using .loc[row_indexer,col_indexer] = value instead\n",
            "\n",
            "See the caveats in the documentation: https://pandas.pydata.org/pandas-docs/stable/user_guide/indexing.html#returning-a-view-versus-a-copy\n",
            "\n",
            "/usr/local/lib/python3.6/dist-packages/ipykernel_launcher.py:6: SettingWithCopyWarning:\n",
            "\n",
            "\n",
            "A value is trying to be set on a copy of a slice from a DataFrame.\n",
            "Try using .loc[row_indexer,col_indexer] = value instead\n",
            "\n",
            "See the caveats in the documentation: https://pandas.pydata.org/pandas-docs/stable/user_guide/indexing.html#returning-a-view-versus-a-copy\n",
            "\n"
          ],
          "name": "stderr"
        }
      ]
    },
    {
      "cell_type": "code",
      "metadata": {
        "colab": {
          "base_uri": "https://localhost:8080/"
        },
        "id": "GuA4fQSo20iI",
        "outputId": "6a2cca82-4544-4196-f4e4-8f6000d41cd4"
      },
      "source": [
        "df = preprocess(df)"
      ],
      "execution_count": null,
      "outputs": [
        {
          "output_type": "stream",
          "text": [
            "/usr/local/lib/python3.6/dist-packages/pandas/core/frame.py:4174: SettingWithCopyWarning:\n",
            "\n",
            "\n",
            "A value is trying to be set on a copy of a slice from a DataFrame\n",
            "\n",
            "See the caveats in the documentation: https://pandas.pydata.org/pandas-docs/stable/user_guide/indexing.html#returning-a-view-versus-a-copy\n",
            "\n",
            "/usr/local/lib/python3.6/dist-packages/ipykernel_launcher.py:3: SettingWithCopyWarning:\n",
            "\n",
            "\n",
            "A value is trying to be set on a copy of a slice from a DataFrame.\n",
            "Try using .loc[row_indexer,col_indexer] = value instead\n",
            "\n",
            "See the caveats in the documentation: https://pandas.pydata.org/pandas-docs/stable/user_guide/indexing.html#returning-a-view-versus-a-copy\n",
            "\n",
            "/usr/local/lib/python3.6/dist-packages/ipykernel_launcher.py:4: SettingWithCopyWarning:\n",
            "\n",
            "\n",
            "A value is trying to be set on a copy of a slice from a DataFrame.\n",
            "Try using .loc[row_indexer,col_indexer] = value instead\n",
            "\n",
            "See the caveats in the documentation: https://pandas.pydata.org/pandas-docs/stable/user_guide/indexing.html#returning-a-view-versus-a-copy\n",
            "\n",
            "/usr/local/lib/python3.6/dist-packages/ipykernel_launcher.py:5: FutureWarning:\n",
            "\n",
            "weekofyear and week have been deprecated, please use DatetimeIndex.isocalendar().week instead, which returns a Series.  To exactly reproduce the behavior of week and weekofyear and return an Index, you may call pd.Int64Index(idx.isocalendar().week)\n",
            "\n",
            "/usr/local/lib/python3.6/dist-packages/ipykernel_launcher.py:5: SettingWithCopyWarning:\n",
            "\n",
            "\n",
            "A value is trying to be set on a copy of a slice from a DataFrame.\n",
            "Try using .loc[row_indexer,col_indexer] = value instead\n",
            "\n",
            "See the caveats in the documentation: https://pandas.pydata.org/pandas-docs/stable/user_guide/indexing.html#returning-a-view-versus-a-copy\n",
            "\n",
            "/usr/local/lib/python3.6/dist-packages/ipykernel_launcher.py:6: SettingWithCopyWarning:\n",
            "\n",
            "\n",
            "A value is trying to be set on a copy of a slice from a DataFrame.\n",
            "Try using .loc[row_indexer,col_indexer] = value instead\n",
            "\n",
            "See the caveats in the documentation: https://pandas.pydata.org/pandas-docs/stable/user_guide/indexing.html#returning-a-view-versus-a-copy\n",
            "\n"
          ],
          "name": "stderr"
        }
      ]
    },
    {
      "cell_type": "code",
      "metadata": {
        "colab": {
          "base_uri": "https://localhost:8080/",
          "height": 215
        },
        "id": "vT8m0NXj2_iZ",
        "outputId": "1114fd22-c85f-4880-b910-94192f8fe412"
      },
      "source": [
        "df_test.head()"
      ],
      "execution_count": null,
      "outputs": [
        {
          "output_type": "execute_result",
          "data": {
            "text/html": [
              "<div>\n",
              "<style scoped>\n",
              "    .dataframe tbody tr th:only-of-type {\n",
              "        vertical-align: middle;\n",
              "    }\n",
              "\n",
              "    .dataframe tbody tr th {\n",
              "        vertical-align: top;\n",
              "    }\n",
              "\n",
              "    .dataframe thead th {\n",
              "        text-align: right;\n",
              "    }\n",
              "</style>\n",
              "<table border=\"1\" class=\"dataframe\">\n",
              "  <thead>\n",
              "    <tr style=\"text-align: right;\">\n",
              "      <th></th>\n",
              "      <th>dew_temp</th>\n",
              "      <th>pressure_sea_level</th>\n",
              "      <th>precipitation</th>\n",
              "      <th>wind_speed</th>\n",
              "      <th>id</th>\n",
              "      <th>month</th>\n",
              "      <th>day</th>\n",
              "      <th>week</th>\n",
              "      <th>ingredient_type_ing_w</th>\n",
              "      <th>dayofweek_0</th>\n",
              "      <th>dayofweek_1</th>\n",
              "      <th>dayofweek_2</th>\n",
              "      <th>dayofweek_3</th>\n",
              "      <th>dayofweek_4</th>\n",
              "      <th>dayofweek_5</th>\n",
              "      <th>dayofweek_6</th>\n",
              "    </tr>\n",
              "  </thead>\n",
              "  <tbody>\n",
              "    <tr>\n",
              "      <th>0</th>\n",
              "      <td>11.7</td>\n",
              "      <td>1021.4</td>\n",
              "      <td>0.808699</td>\n",
              "      <td>3.6</td>\n",
              "      <td>1</td>\n",
              "      <td>1</td>\n",
              "      <td>1</td>\n",
              "      <td>52</td>\n",
              "      <td>1</td>\n",
              "      <td>0</td>\n",
              "      <td>0</td>\n",
              "      <td>0</td>\n",
              "      <td>0</td>\n",
              "      <td>0</td>\n",
              "      <td>0</td>\n",
              "      <td>1</td>\n",
              "    </tr>\n",
              "    <tr>\n",
              "      <th>1</th>\n",
              "      <td>12.8</td>\n",
              "      <td>1022.0</td>\n",
              "      <td>0.000000</td>\n",
              "      <td>3.1</td>\n",
              "      <td>130</td>\n",
              "      <td>1</td>\n",
              "      <td>1</td>\n",
              "      <td>52</td>\n",
              "      <td>1</td>\n",
              "      <td>0</td>\n",
              "      <td>0</td>\n",
              "      <td>0</td>\n",
              "      <td>0</td>\n",
              "      <td>0</td>\n",
              "      <td>0</td>\n",
              "      <td>1</td>\n",
              "    </tr>\n",
              "    <tr>\n",
              "      <th>2</th>\n",
              "      <td>12.8</td>\n",
              "      <td>1021.9</td>\n",
              "      <td>0.000000</td>\n",
              "      <td>3.1</td>\n",
              "      <td>259</td>\n",
              "      <td>1</td>\n",
              "      <td>1</td>\n",
              "      <td>52</td>\n",
              "      <td>1</td>\n",
              "      <td>0</td>\n",
              "      <td>0</td>\n",
              "      <td>0</td>\n",
              "      <td>0</td>\n",
              "      <td>0</td>\n",
              "      <td>0</td>\n",
              "      <td>1</td>\n",
              "    </tr>\n",
              "    <tr>\n",
              "      <th>3</th>\n",
              "      <td>13.3</td>\n",
              "      <td>1022.2</td>\n",
              "      <td>0.000000</td>\n",
              "      <td>3.1</td>\n",
              "      <td>388</td>\n",
              "      <td>1</td>\n",
              "      <td>1</td>\n",
              "      <td>52</td>\n",
              "      <td>1</td>\n",
              "      <td>0</td>\n",
              "      <td>0</td>\n",
              "      <td>0</td>\n",
              "      <td>0</td>\n",
              "      <td>0</td>\n",
              "      <td>0</td>\n",
              "      <td>1</td>\n",
              "    </tr>\n",
              "    <tr>\n",
              "      <th>4</th>\n",
              "      <td>13.3</td>\n",
              "      <td>1022.3</td>\n",
              "      <td>0.000000</td>\n",
              "      <td>2.6</td>\n",
              "      <td>517</td>\n",
              "      <td>1</td>\n",
              "      <td>1</td>\n",
              "      <td>52</td>\n",
              "      <td>1</td>\n",
              "      <td>0</td>\n",
              "      <td>0</td>\n",
              "      <td>0</td>\n",
              "      <td>0</td>\n",
              "      <td>0</td>\n",
              "      <td>0</td>\n",
              "      <td>1</td>\n",
              "    </tr>\n",
              "  </tbody>\n",
              "</table>\n",
              "</div>"
            ],
            "text/plain": [
              "   dew_temp  pressure_sea_level  ...  dayofweek_5  dayofweek_6\n",
              "0      11.7              1021.4  ...            0            1\n",
              "1      12.8              1022.0  ...            0            1\n",
              "2      12.8              1021.9  ...            0            1\n",
              "3      13.3              1022.2  ...            0            1\n",
              "4      13.3              1022.3  ...            0            1\n",
              "\n",
              "[5 rows x 16 columns]"
            ]
          },
          "metadata": {
            "tags": []
          },
          "execution_count": 171
        }
      ]
    },
    {
      "cell_type": "code",
      "metadata": {
        "id": "fME_qHFk3SDV"
      },
      "source": [
        "model = apply_model(df)"
      ],
      "execution_count": null,
      "outputs": []
    },
    {
      "cell_type": "code",
      "metadata": {
        "id": "6MhDneC9Bvfd"
      },
      "source": [
        "predict_value(df_test,model)"
      ],
      "execution_count": null,
      "outputs": []
    },
    {
      "cell_type": "code",
      "metadata": {
        "colab": {
          "base_uri": "https://localhost:8080/"
        },
        "id": "vCDhZYbFCK1O",
        "outputId": "78d97853-89ab-4719-eaaa-84dbd00c8bd7"
      },
      "source": [
        "df.columns"
      ],
      "execution_count": null,
      "outputs": [
        {
          "output_type": "execute_result",
          "data": {
            "text/plain": [
              "Index(['yield', 'dew_temp', 'pressure_sea_level', 'precipitation',\n",
              "       'wind_speed', 'month', 'day', 'week', 'ingredient_type_ing_w',\n",
              "       'dayofweek_0', 'dayofweek_1', 'dayofweek_2', 'dayofweek_3',\n",
              "       'dayofweek_4', 'dayofweek_5', 'dayofweek_6'],\n",
              "      dtype='object')"
            ]
          },
          "metadata": {
            "tags": []
          },
          "execution_count": 174
        }
      ]
    },
    {
      "cell_type": "code",
      "metadata": {
        "colab": {
          "base_uri": "https://localhost:8080/"
        },
        "id": "Gr4DDC7KCX7u",
        "outputId": "e355af61-239f-4de4-d67d-d6aabce0e839"
      },
      "source": [
        "df_test.columns"
      ],
      "execution_count": null,
      "outputs": [
        {
          "output_type": "execute_result",
          "data": {
            "text/plain": [
              "Index(['dew_temp', 'pressure_sea_level', 'precipitation', 'wind_speed',\n",
              "       'month', 'day', 'week', 'ingredient_type_ing_w', 'dayofweek_0',\n",
              "       'dayofweek_1', 'dayofweek_2', 'dayofweek_3', 'dayofweek_4',\n",
              "       'dayofweek_5', 'dayofweek_6'],\n",
              "      dtype='object')"
            ]
          },
          "metadata": {
            "tags": []
          },
          "execution_count": 186
        }
      ]
    },
    {
      "cell_type": "code",
      "metadata": {
        "colab": {
          "base_uri": "https://localhost:8080/"
        },
        "id": "ORUc9qxlCq7o",
        "outputId": "78438c8c-3583-4e93-928f-d81c6ea07cc4"
      },
      "source": [
        "submissions_df.shape"
      ],
      "execution_count": null,
      "outputs": [
        {
          "output_type": "execute_result",
          "data": {
            "text/plain": [
              "(8760, 2)"
            ]
          },
          "metadata": {
            "tags": []
          },
          "execution_count": 191
        }
      ]
    },
    {
      "cell_type": "code",
      "metadata": {
        "colab": {
          "base_uri": "https://localhost:8080/",
          "height": 225
        },
        "id": "G9h_tB3QEd51",
        "outputId": "378f771a-488f-4beb-89d9-a9faa5515c45"
      },
      "source": [
        "final_data.head()"
      ],
      "execution_count": null,
      "outputs": [
        {
          "output_type": "execute_result",
          "data": {
            "text/html": [
              "<div>\n",
              "<style scoped>\n",
              "    .dataframe tbody tr th:only-of-type {\n",
              "        vertical-align: middle;\n",
              "    }\n",
              "\n",
              "    .dataframe tbody tr th {\n",
              "        vertical-align: top;\n",
              "    }\n",
              "\n",
              "    .dataframe thead th {\n",
              "        text-align: right;\n",
              "    }\n",
              "</style>\n",
              "<table border=\"1\" class=\"dataframe\">\n",
              "  <thead>\n",
              "    <tr style=\"text-align: right;\">\n",
              "      <th></th>\n",
              "      <th>farm_id</th>\n",
              "      <th>ingredient_type</th>\n",
              "      <th>yield</th>\n",
              "      <th>farm_area</th>\n",
              "      <th>farming_company</th>\n",
              "      <th>deidentified_location</th>\n",
              "      <th>dew_temp</th>\n",
              "      <th>pressure_sea_level</th>\n",
              "      <th>precipitation</th>\n",
              "      <th>wind_speed</th>\n",
              "    </tr>\n",
              "    <tr>\n",
              "      <th>timestamp</th>\n",
              "      <th></th>\n",
              "      <th></th>\n",
              "      <th></th>\n",
              "      <th></th>\n",
              "      <th></th>\n",
              "      <th></th>\n",
              "      <th></th>\n",
              "      <th></th>\n",
              "      <th></th>\n",
              "      <th></th>\n",
              "    </tr>\n",
              "  </thead>\n",
              "  <tbody>\n",
              "    <tr>\n",
              "      <th>2016-01-01</th>\n",
              "      <td>fid_110884</td>\n",
              "      <td>ing_w</td>\n",
              "      <td>0.0</td>\n",
              "      <td>690.455096</td>\n",
              "      <td>Obery Farms</td>\n",
              "      <td>location 7369</td>\n",
              "      <td>20.0</td>\n",
              "      <td>1019.7</td>\n",
              "      <td>0.793987</td>\n",
              "      <td>0.0</td>\n",
              "    </tr>\n",
              "    <tr>\n",
              "      <th>2016-01-01</th>\n",
              "      <td>fid_90053</td>\n",
              "      <td>ing_w</td>\n",
              "      <td>0.0</td>\n",
              "      <td>252.696160</td>\n",
              "      <td>Obery Farms</td>\n",
              "      <td>location 7369</td>\n",
              "      <td>20.0</td>\n",
              "      <td>1019.7</td>\n",
              "      <td>0.793987</td>\n",
              "      <td>0.0</td>\n",
              "    </tr>\n",
              "    <tr>\n",
              "      <th>2016-01-01</th>\n",
              "      <td>fid_17537</td>\n",
              "      <td>ing_w</td>\n",
              "      <td>0.0</td>\n",
              "      <td>499.446528</td>\n",
              "      <td>Obery Farms</td>\n",
              "      <td>location 7369</td>\n",
              "      <td>20.0</td>\n",
              "      <td>1019.7</td>\n",
              "      <td>0.793987</td>\n",
              "      <td>0.0</td>\n",
              "    </tr>\n",
              "    <tr>\n",
              "      <th>2016-01-01</th>\n",
              "      <td>fid_110392</td>\n",
              "      <td>ing_w</td>\n",
              "      <td>0.0</td>\n",
              "      <td>2200.407555</td>\n",
              "      <td>Obery Farms</td>\n",
              "      <td>location 7369</td>\n",
              "      <td>20.0</td>\n",
              "      <td>1019.7</td>\n",
              "      <td>0.793987</td>\n",
              "      <td>0.0</td>\n",
              "    </tr>\n",
              "    <tr>\n",
              "      <th>2016-01-01</th>\n",
              "      <td>fid_62402</td>\n",
              "      <td>ing_w</td>\n",
              "      <td>0.0</td>\n",
              "      <td>10833.140121</td>\n",
              "      <td>Obery Farms</td>\n",
              "      <td>location 7369</td>\n",
              "      <td>20.0</td>\n",
              "      <td>1019.7</td>\n",
              "      <td>0.793987</td>\n",
              "      <td>0.0</td>\n",
              "    </tr>\n",
              "  </tbody>\n",
              "</table>\n",
              "</div>"
            ],
            "text/plain": [
              "               farm_id ingredient_type  ...  precipitation  wind_speed\n",
              "timestamp                               ...                           \n",
              "2016-01-01  fid_110884           ing_w  ...       0.793987         0.0\n",
              "2016-01-01   fid_90053           ing_w  ...       0.793987         0.0\n",
              "2016-01-01   fid_17537           ing_w  ...       0.793987         0.0\n",
              "2016-01-01  fid_110392           ing_w  ...       0.793987         0.0\n",
              "2016-01-01   fid_62402           ing_w  ...       0.793987         0.0\n",
              "\n",
              "[5 rows x 10 columns]"
            ]
          },
          "metadata": {
            "tags": []
          },
          "execution_count": 192
        }
      ]
    },
    {
      "cell_type": "code",
      "metadata": {
        "id": "rkXqJgG8EH8h"
      },
      "source": [
        "df = final_data[final_data.farm_id == 'fid_110884']\r\n",
        "df_test = final_test_data[final_test_data.farm_id == 'fid_110884']"
      ],
      "execution_count": null,
      "outputs": []
    },
    {
      "cell_type": "code",
      "metadata": {
        "colab": {
          "base_uri": "https://localhost:8080/"
        },
        "id": "njK8_7cWEkcw",
        "outputId": "bc85a38f-5acb-4dcb-bf21-55038a1bbe54"
      },
      "source": [
        "df = preprocess(df)\r\n",
        "df_test = preprocess(df_test)"
      ],
      "execution_count": null,
      "outputs": [
        {
          "output_type": "stream",
          "text": [
            "/usr/local/lib/python3.6/dist-packages/pandas/core/frame.py:4174: SettingWithCopyWarning:\n",
            "\n",
            "\n",
            "A value is trying to be set on a copy of a slice from a DataFrame\n",
            "\n",
            "See the caveats in the documentation: https://pandas.pydata.org/pandas-docs/stable/user_guide/indexing.html#returning-a-view-versus-a-copy\n",
            "\n",
            "/usr/local/lib/python3.6/dist-packages/ipykernel_launcher.py:3: SettingWithCopyWarning:\n",
            "\n",
            "\n",
            "A value is trying to be set on a copy of a slice from a DataFrame.\n",
            "Try using .loc[row_indexer,col_indexer] = value instead\n",
            "\n",
            "See the caveats in the documentation: https://pandas.pydata.org/pandas-docs/stable/user_guide/indexing.html#returning-a-view-versus-a-copy\n",
            "\n",
            "/usr/local/lib/python3.6/dist-packages/ipykernel_launcher.py:4: SettingWithCopyWarning:\n",
            "\n",
            "\n",
            "A value is trying to be set on a copy of a slice from a DataFrame.\n",
            "Try using .loc[row_indexer,col_indexer] = value instead\n",
            "\n",
            "See the caveats in the documentation: https://pandas.pydata.org/pandas-docs/stable/user_guide/indexing.html#returning-a-view-versus-a-copy\n",
            "\n",
            "/usr/local/lib/python3.6/dist-packages/ipykernel_launcher.py:5: FutureWarning:\n",
            "\n",
            "weekofyear and week have been deprecated, please use DatetimeIndex.isocalendar().week instead, which returns a Series.  To exactly reproduce the behavior of week and weekofyear and return an Index, you may call pd.Int64Index(idx.isocalendar().week)\n",
            "\n",
            "/usr/local/lib/python3.6/dist-packages/ipykernel_launcher.py:5: SettingWithCopyWarning:\n",
            "\n",
            "\n",
            "A value is trying to be set on a copy of a slice from a DataFrame.\n",
            "Try using .loc[row_indexer,col_indexer] = value instead\n",
            "\n",
            "See the caveats in the documentation: https://pandas.pydata.org/pandas-docs/stable/user_guide/indexing.html#returning-a-view-versus-a-copy\n",
            "\n",
            "/usr/local/lib/python3.6/dist-packages/ipykernel_launcher.py:6: SettingWithCopyWarning:\n",
            "\n",
            "\n",
            "A value is trying to be set on a copy of a slice from a DataFrame.\n",
            "Try using .loc[row_indexer,col_indexer] = value instead\n",
            "\n",
            "See the caveats in the documentation: https://pandas.pydata.org/pandas-docs/stable/user_guide/indexing.html#returning-a-view-versus-a-copy\n",
            "\n"
          ],
          "name": "stderr"
        }
      ]
    },
    {
      "cell_type": "code",
      "metadata": {
        "id": "899skabSEqin"
      },
      "source": [
        "model = apply_model(df)"
      ],
      "execution_count": null,
      "outputs": []
    },
    {
      "cell_type": "code",
      "metadata": {
        "id": "expJUABWEvY-"
      },
      "source": [
        "predict_value(df_test, model)"
      ],
      "execution_count": null,
      "outputs": []
    },
    {
      "cell_type": "code",
      "metadata": {
        "colab": {
          "base_uri": "https://localhost:8080/"
        },
        "id": "JLVoihCKE9MR",
        "outputId": "093355ab-2620-46c8-de29-fc75dd33e1aa"
      },
      "source": [
        "submissions_df.shape"
      ],
      "execution_count": null,
      "outputs": [
        {
          "output_type": "execute_result",
          "data": {
            "text/plain": [
              "(17520, 2)"
            ]
          },
          "metadata": {
            "tags": []
          },
          "execution_count": 197
        }
      ]
    },
    {
      "cell_type": "code",
      "metadata": {
        "colab": {
          "base_uri": "https://localhost:8080/",
          "height": 402
        },
        "id": "TxgTN_UTE_2D",
        "outputId": "4ba85f7e-1e1e-4423-f45d-c5b16c5b1349"
      },
      "source": [
        "submissions_df.sort_values('id', ascending=True)"
      ],
      "execution_count": null,
      "outputs": [
        {
          "output_type": "execute_result",
          "data": {
            "text/html": [
              "<div>\n",
              "<style scoped>\n",
              "    .dataframe tbody tr th:only-of-type {\n",
              "        vertical-align: middle;\n",
              "    }\n",
              "\n",
              "    .dataframe tbody tr th {\n",
              "        vertical-align: top;\n",
              "    }\n",
              "\n",
              "    .dataframe thead th {\n",
              "        text-align: right;\n",
              "    }\n",
              "</style>\n",
              "<table border=\"1\" class=\"dataframe\">\n",
              "  <thead>\n",
              "    <tr style=\"text-align: right;\">\n",
              "      <th></th>\n",
              "      <th>id</th>\n",
              "      <th>yield</th>\n",
              "    </tr>\n",
              "  </thead>\n",
              "  <tbody>\n",
              "    <tr>\n",
              "      <th>0</th>\n",
              "      <td>0</td>\n",
              "      <td>73.163345</td>\n",
              "    </tr>\n",
              "    <tr>\n",
              "      <th>8760</th>\n",
              "      <td>1</td>\n",
              "      <td>34.409796</td>\n",
              "    </tr>\n",
              "    <tr>\n",
              "      <th>1</th>\n",
              "      <td>129</td>\n",
              "      <td>73.163345</td>\n",
              "    </tr>\n",
              "    <tr>\n",
              "      <th>8761</th>\n",
              "      <td>130</td>\n",
              "      <td>35.137014</td>\n",
              "    </tr>\n",
              "    <tr>\n",
              "      <th>2</th>\n",
              "      <td>258</td>\n",
              "      <td>73.163345</td>\n",
              "    </tr>\n",
              "    <tr>\n",
              "      <th>...</th>\n",
              "      <td>...</td>\n",
              "      <td>...</td>\n",
              "    </tr>\n",
              "    <tr>\n",
              "      <th>17517</th>\n",
              "      <td>1129654</td>\n",
              "      <td>78.455312</td>\n",
              "    </tr>\n",
              "    <tr>\n",
              "      <th>8758</th>\n",
              "      <td>1129782</td>\n",
              "      <td>200.517413</td>\n",
              "    </tr>\n",
              "    <tr>\n",
              "      <th>17518</th>\n",
              "      <td>1129783</td>\n",
              "      <td>78.455312</td>\n",
              "    </tr>\n",
              "    <tr>\n",
              "      <th>8759</th>\n",
              "      <td>1129911</td>\n",
              "      <td>200.517413</td>\n",
              "    </tr>\n",
              "    <tr>\n",
              "      <th>17519</th>\n",
              "      <td>1129912</td>\n",
              "      <td>78.455312</td>\n",
              "    </tr>\n",
              "  </tbody>\n",
              "</table>\n",
              "<p>17520 rows × 2 columns</p>\n",
              "</div>"
            ],
            "text/plain": [
              "            id       yield\n",
              "0            0   73.163345\n",
              "8760         1   34.409796\n",
              "1          129   73.163345\n",
              "8761       130   35.137014\n",
              "2          258   73.163345\n",
              "...        ...         ...\n",
              "17517  1129654   78.455312\n",
              "8758   1129782  200.517413\n",
              "17518  1129783   78.455312\n",
              "8759   1129911  200.517413\n",
              "17519  1129912   78.455312\n",
              "\n",
              "[17520 rows x 2 columns]"
            ]
          },
          "metadata": {
            "tags": []
          },
          "execution_count": 199
        }
      ]
    },
    {
      "cell_type": "code",
      "metadata": {
        "id": "lJSPzsJtFGwO"
      },
      "source": [
        "farm_list = final_data.farm_id.unique().tolist()"
      ],
      "execution_count": 55,
      "outputs": []
    },
    {
      "cell_type": "code",
      "metadata": {
        "colab": {
          "base_uri": "https://localhost:8080/"
        },
        "id": "WaDKRliZFZWT",
        "outputId": "836a39ee-e008-4e03-eb01-9e16d33c4a79"
      },
      "source": [
        "farm_list"
      ],
      "execution_count": 56,
      "outputs": [
        {
          "output_type": "execute_result",
          "data": {
            "text/plain": [
              "['fid_110884',\n",
              " 'fid_90053',\n",
              " 'fid_17537',\n",
              " 'fid_110392',\n",
              " 'fid_62402',\n",
              " 'fid_121604',\n",
              " 'fid_85694',\n",
              " 'fid_33785',\n",
              " 'fid_110793',\n",
              " 'fid_32954',\n",
              " 'fid_61445',\n",
              " 'fid_20096',\n",
              " 'fid_56102',\n",
              " 'fid_43573',\n",
              " 'fid_48575',\n",
              " 'fid_109906',\n",
              " 'fid_34103',\n",
              " 'fid_57758',\n",
              " 'fid_48075',\n",
              " 'fid_64013',\n",
              " 'fid_76740',\n",
              " 'fid_20789',\n",
              " 'fid_32291',\n",
              " 'fid_115413',\n",
              " 'fid_69590',\n",
              " 'fid_100807',\n",
              " 'fid_105085',\n",
              " 'fid_44304',\n",
              " 'fid_102416',\n",
              " 'fid_29482',\n",
              " 'fid_38448',\n",
              " 'fid_56855',\n",
              " 'fid_63385',\n",
              " 'fid_46223',\n",
              " 'fid_116934',\n",
              " 'fid_111680',\n",
              " 'fid_49528',\n",
              " 'fid_15951',\n",
              " 'fid_120178',\n",
              " 'fid_80442',\n",
              " 'fid_74101',\n",
              " 'fid_76042',\n",
              " 'fid_107841',\n",
              " 'fid_70417',\n",
              " 'fid_110278',\n",
              " 'fid_51884',\n",
              " 'fid_12776',\n",
              " 'fid_94807',\n",
              " 'fid_87168',\n",
              " 'fid_112127',\n",
              " 'fid_28622',\n",
              " 'fid_73322',\n",
              " 'fid_111986',\n",
              " 'fid_57916',\n",
              " 'fid_68605',\n",
              " 'fid_88913',\n",
              " 'fid_119338',\n",
              " 'fid_46725',\n",
              " 'fid_97363',\n",
              " 'fid_14189',\n",
              " 'fid_21897',\n",
              " 'fid_47782',\n",
              " 'fid_107436',\n",
              " 'fid_107874',\n",
              " 'fid_40459',\n",
              " 'fid_12360',\n",
              " 'fid_105593',\n",
              " 'fid_24658',\n",
              " 'fid_89512',\n",
              " 'fid_26128',\n",
              " 'fid_88000',\n",
              " 'fid_79187',\n",
              " 'fid_87713',\n",
              " 'fid_13391',\n",
              " 'fid_61180',\n",
              " 'fid_31776',\n",
              " 'fid_95415',\n",
              " 'fid_120144',\n",
              " 'fid_73142',\n",
              " 'fid_114077',\n",
              " 'fid_94420',\n",
              " 'fid_93150',\n",
              " 'fid_33138',\n",
              " 'fid_23180',\n",
              " 'fid_105695',\n",
              " 'fid_94913',\n",
              " 'fid_87385',\n",
              " 'fid_69083',\n",
              " 'fid_57155',\n",
              " 'fid_46792',\n",
              " 'fid_88872',\n",
              " 'fid_117904',\n",
              " 'fid_102226',\n",
              " 'fid_81920',\n",
              " 'fid_12588',\n",
              " 'fid_112021',\n",
              " 'fid_60035',\n",
              " 'fid_111863',\n",
              " 'fid_101735',\n",
              " 'fid_50961',\n",
              " 'fid_17616',\n",
              " 'fid_115440',\n",
              " 'fid_87418',\n",
              " 'fid_31778',\n",
              " 'fid_49187',\n",
              " 'fid_90348',\n",
              " 'fid_121431',\n",
              " 'fid_97487',\n",
              " 'fid_104766',\n",
              " 'fid_34324',\n",
              " 'fid_32920',\n",
              " 'fid_73122',\n",
              " 'fid_15823',\n",
              " 'fid_20229',\n",
              " 'fid_89261',\n",
              " 'fid_79270',\n",
              " 'fid_31823',\n",
              " 'fid_99359',\n",
              " 'fid_76235',\n",
              " 'fid_116054',\n",
              " 'fid_90187',\n",
              " 'fid_12397',\n",
              " 'fid_90291',\n",
              " 'fid_114264',\n",
              " 'fid_54043',\n",
              " 'fid_30220',\n",
              " 'fid_37298',\n",
              " 'fid_59158',\n",
              " 'fid_71910',\n",
              " 'fid_23332',\n",
              " 'fid_41964',\n",
              " 'fid_60232',\n",
              " 'fid_109824',\n",
              " 'fid_22249',\n",
              " 'fid_37333',\n",
              " 'fid_102156',\n",
              " 'fid_33620',\n",
              " 'fid_38756',\n",
              " 'fid_71884',\n",
              " 'fid_34440',\n",
              " 'fid_86911',\n",
              " 'fid_49553',\n",
              " 'fid_13363',\n",
              " 'fid_95812',\n",
              " 'fid_66846',\n",
              " 'fid_54778',\n",
              " 'fid_109206',\n",
              " 'fid_45384',\n",
              " 'fid_45083',\n",
              " 'fid_55183',\n",
              " 'fid_32248',\n",
              " 'fid_77795',\n",
              " 'fid_57039',\n",
              " 'fid_111782',\n",
              " 'fid_73953',\n",
              " 'fid_82661',\n",
              " 'fid_15268',\n",
              " 'fid_95519',\n",
              " 'fid_32697',\n",
              " 'fid_33065',\n",
              " 'fid_15770',\n",
              " 'fid_95371',\n",
              " 'fid_102320',\n",
              " 'fid_21504',\n",
              " 'fid_88621',\n",
              " 'fid_53319',\n",
              " 'fid_107229',\n",
              " 'fid_70617',\n",
              " 'fid_37818',\n",
              " 'fid_30097',\n",
              " 'fid_119887',\n",
              " 'fid_65371',\n",
              " 'fid_101271',\n",
              " 'fid_51790',\n",
              " 'fid_30973',\n",
              " 'fid_72700',\n",
              " 'fid_98025',\n",
              " 'fid_101551',\n",
              " 'fid_64922',\n",
              " 'fid_122564',\n",
              " 'fid_70340',\n",
              " 'fid_75245',\n",
              " 'fid_25477',\n",
              " 'fid_33405',\n",
              " 'fid_19705',\n",
              " 'fid_90721',\n",
              " 'fid_99136',\n",
              " 'fid_111424',\n",
              " 'fid_57647',\n",
              " 'fid_66906',\n",
              " 'fid_26227',\n",
              " 'fid_53568',\n",
              " 'fid_26026',\n",
              " 'fid_87942',\n",
              " 'fid_120636',\n",
              " 'fid_64441',\n",
              " 'fid_66870',\n",
              " 'fid_45574',\n",
              " 'fid_41581',\n",
              " 'fid_66062',\n",
              " 'fid_75323',\n",
              " 'fid_75397',\n",
              " 'fid_81940',\n",
              " 'fid_43214',\n",
              " 'fid_45828',\n",
              " 'fid_100672',\n",
              " 'fid_84102',\n",
              " 'fid_113409',\n",
              " 'fid_66692',\n",
              " 'fid_118149',\n",
              " 'fid_78948',\n",
              " 'fid_90701',\n",
              " 'fid_101975',\n",
              " 'fid_22109',\n",
              " 'fid_25504',\n",
              " 'fid_55104',\n",
              " 'fid_81766',\n",
              " 'fid_91133',\n",
              " 'fid_117362',\n",
              " 'fid_89897',\n",
              " 'fid_118325',\n",
              " 'fid_92427',\n",
              " 'fid_94361',\n",
              " 'fid_78150',\n",
              " 'fid_23619',\n",
              " 'fid_35152',\n",
              " 'fid_94133',\n",
              " 'fid_76682',\n",
              " 'fid_71616',\n",
              " 'fid_104195',\n",
              " 'fid_93717',\n",
              " 'fid_121305',\n",
              " 'fid_64709',\n",
              " 'fid_60666',\n",
              " 'fid_103063',\n",
              " 'fid_118389',\n",
              " 'fid_61649',\n",
              " 'fid_97675',\n",
              " 'fid_17324',\n",
              " 'fid_107418',\n",
              " 'fid_14523',\n",
              " 'fid_120597',\n",
              " 'fid_59291',\n",
              " 'fid_106819',\n",
              " 'fid_118511',\n",
              " 'fid_100249',\n",
              " 'fid_27170',\n",
              " 'fid_120715',\n",
              " 'fid_64015',\n",
              " 'fid_60155',\n",
              " 'fid_94240',\n",
              " 'fid_55529',\n",
              " 'fid_19528',\n",
              " 'fid_27582',\n",
              " 'fid_91594',\n",
              " 'fid_39139',\n",
              " 'fid_77901',\n",
              " 'fid_101039',\n",
              " 'fid_96233',\n",
              " 'fid_35151',\n",
              " 'fid_84510',\n",
              " 'fid_14378',\n",
              " 'fid_34542',\n",
              " 'fid_46989',\n",
              " 'fid_80963',\n",
              " 'fid_68761',\n",
              " 'fid_94448',\n",
              " 'fid_117110',\n",
              " 'fid_53010',\n",
              " 'fid_119246',\n",
              " 'fid_48416',\n",
              " 'fid_45618',\n",
              " 'fid_20492',\n",
              " 'fid_99410',\n",
              " 'fid_50119',\n",
              " 'fid_14534',\n",
              " 'fid_56589',\n",
              " 'fid_85677',\n",
              " 'fid_103268',\n",
              " 'fid_81599',\n",
              " 'fid_14086',\n",
              " 'fid_45809',\n",
              " 'fid_14324',\n",
              " 'fid_60360',\n",
              " 'fid_99921',\n",
              " 'fid_91188',\n",
              " 'fid_44226',\n",
              " 'fid_20987',\n",
              " 'fid_26880',\n",
              " 'fid_40814',\n",
              " 'fid_68990',\n",
              " 'fid_63965',\n",
              " 'fid_31537',\n",
              " 'fid_84046',\n",
              " 'fid_73057',\n",
              " 'fid_123014',\n",
              " 'fid_112916',\n",
              " 'fid_64234',\n",
              " 'fid_104874',\n",
              " 'fid_66920',\n",
              " 'fid_46598',\n",
              " 'fid_83463',\n",
              " 'fid_99942',\n",
              " 'fid_57301',\n",
              " 'fid_50467',\n",
              " 'fid_28262',\n",
              " 'fid_33276',\n",
              " 'fid_105851',\n",
              " 'fid_93191',\n",
              " 'fid_122215',\n",
              " 'fid_76217',\n",
              " 'fid_16854',\n",
              " 'fid_41080',\n",
              " 'fid_29572',\n",
              " 'fid_25582',\n",
              " 'fid_76310',\n",
              " 'fid_41562',\n",
              " 'fid_23227',\n",
              " 'fid_67085',\n",
              " 'fid_83049',\n",
              " 'fid_61295',\n",
              " 'fid_101721',\n",
              " 'fid_86326',\n",
              " 'fid_43120',\n",
              " 'fid_60171',\n",
              " 'fid_62549',\n",
              " 'fid_90391',\n",
              " 'fid_36227',\n",
              " 'fid_60505',\n",
              " 'fid_40513',\n",
              " 'fid_18061',\n",
              " 'fid_41579',\n",
              " 'fid_94856',\n",
              " 'fid_117986',\n",
              " 'fid_69285',\n",
              " 'fid_50444',\n",
              " 'fid_71761',\n",
              " 'fid_87210',\n",
              " 'fid_105507',\n",
              " 'fid_35661',\n",
              " 'fid_79973',\n",
              " 'fid_87368',\n",
              " 'fid_79575',\n",
              " 'fid_119316',\n",
              " 'fid_39879',\n",
              " 'fid_42540',\n",
              " 'fid_102220',\n",
              " 'fid_121555',\n",
              " 'fid_104740',\n",
              " 'fid_53696',\n",
              " 'fid_92956',\n",
              " 'fid_95143',\n",
              " 'fid_55797',\n",
              " 'fid_32556',\n",
              " 'fid_65693',\n",
              " 'fid_105245',\n",
              " 'fid_38745',\n",
              " 'fid_18380',\n",
              " 'fid_80380',\n",
              " 'fid_109393',\n",
              " 'fid_57100',\n",
              " 'fid_104734',\n",
              " 'fid_75999',\n",
              " 'fid_58088',\n",
              " 'fid_85280',\n",
              " 'fid_25534',\n",
              " 'fid_39048',\n",
              " 'fid_28586',\n",
              " 'fid_103568',\n",
              " 'fid_55769',\n",
              " 'fid_107259',\n",
              " 'fid_24337',\n",
              " 'fid_38683',\n",
              " 'fid_73431',\n",
              " 'fid_74109',\n",
              " 'fid_68473',\n",
              " 'fid_27893',\n",
              " 'fid_26064',\n",
              " 'fid_53126',\n",
              " 'fid_49155',\n",
              " 'fid_120731',\n",
              " 'fid_116612',\n",
              " 'fid_60148',\n",
              " 'fid_82299',\n",
              " 'fid_58243',\n",
              " 'fid_94868',\n",
              " 'fid_122174',\n",
              " 'fid_35923',\n",
              " 'fid_44028',\n",
              " 'fid_97368',\n",
              " 'fid_55876',\n",
              " 'fid_82364',\n",
              " 'fid_99055',\n",
              " 'fid_19642',\n",
              " 'fid_71750',\n",
              " 'fid_121972',\n",
              " 'fid_45834',\n",
              " 'fid_40129',\n",
              " 'fid_115807',\n",
              " 'fid_119167',\n",
              " 'fid_38789',\n",
              " 'fid_21378',\n",
              " 'fid_98366',\n",
              " 'fid_98824',\n",
              " 'fid_23693',\n",
              " 'fid_85080',\n",
              " 'fid_113171',\n",
              " 'fid_88128',\n",
              " 'fid_62756',\n",
              " 'fid_72059',\n",
              " 'fid_37863',\n",
              " 'fid_31236',\n",
              " 'fid_23435',\n",
              " 'fid_37221',\n",
              " 'fid_77689',\n",
              " 'fid_44638',\n",
              " 'fid_83176',\n",
              " 'fid_104979',\n",
              " 'fid_40333',\n",
              " 'fid_40776',\n",
              " 'fid_78330',\n",
              " 'fid_87149',\n",
              " 'fid_51966',\n",
              " 'fid_76795',\n",
              " 'fid_121234',\n",
              " 'fid_42069',\n",
              " 'fid_13348',\n",
              " 'fid_120650',\n",
              " 'fid_59198',\n",
              " 'fid_114982',\n",
              " 'fid_35267',\n",
              " 'fid_15562',\n",
              " 'fid_35082',\n",
              " 'fid_27111',\n",
              " 'fid_74816',\n",
              " 'fid_56394',\n",
              " 'fid_39723',\n",
              " 'fid_75919',\n",
              " 'fid_33145',\n",
              " 'fid_26176',\n",
              " 'fid_90029',\n",
              " 'fid_44572',\n",
              " 'fid_53348',\n",
              " 'fid_33307',\n",
              " 'fid_24688',\n",
              " 'fid_107809',\n",
              " 'fid_93547',\n",
              " 'fid_98197',\n",
              " 'fid_55544',\n",
              " 'fid_122605',\n",
              " 'fid_104610',\n",
              " 'fid_50459',\n",
              " 'fid_79884',\n",
              " 'fid_36062',\n",
              " 'fid_28178',\n",
              " 'fid_40943',\n",
              " 'fid_87357',\n",
              " 'fid_26468',\n",
              " 'fid_97878',\n",
              " 'fid_96786',\n",
              " 'fid_83417',\n",
              " 'fid_77547',\n",
              " 'fid_63777',\n",
              " 'fid_52972',\n",
              " 'fid_44214',\n",
              " 'fid_72338',\n",
              " 'fid_37988',\n",
              " 'fid_104759',\n",
              " 'fid_23979',\n",
              " 'fid_57260',\n",
              " 'fid_55969',\n",
              " 'fid_63377',\n",
              " 'fid_61592',\n",
              " 'fid_12629',\n",
              " 'fid_97401',\n",
              " 'fid_118955',\n",
              " 'fid_52495',\n",
              " 'fid_114487',\n",
              " 'fid_17267',\n",
              " 'fid_51564',\n",
              " 'fid_20431',\n",
              " 'fid_47171',\n",
              " 'fid_49060',\n",
              " 'fid_26200',\n",
              " 'fid_56877',\n",
              " 'fid_22594',\n",
              " 'fid_83104',\n",
              " 'fid_74943',\n",
              " 'fid_69323',\n",
              " 'fid_91845',\n",
              " 'fid_109954',\n",
              " 'fid_71811',\n",
              " 'fid_21908',\n",
              " 'fid_55290',\n",
              " 'fid_28942',\n",
              " 'fid_61038',\n",
              " 'fid_123107',\n",
              " 'fid_114367',\n",
              " 'fid_121053',\n",
              " 'fid_15407',\n",
              " 'fid_56848',\n",
              " 'fid_22772',\n",
              " 'fid_87873',\n",
              " 'fid_49646',\n",
              " 'fid_101963',\n",
              " 'fid_73891',\n",
              " 'fid_81020',\n",
              " 'fid_105543',\n",
              " 'fid_24653',\n",
              " 'fid_44068',\n",
              " 'fid_96693',\n",
              " 'fid_117774',\n",
              " 'fid_45378',\n",
              " 'fid_57955',\n",
              " 'fid_21499',\n",
              " 'fid_28068',\n",
              " 'fid_25545',\n",
              " 'fid_73587',\n",
              " 'fid_54620',\n",
              " 'fid_96132',\n",
              " 'fid_34005',\n",
              " 'fid_45859',\n",
              " 'fid_93275',\n",
              " 'fid_56293',\n",
              " 'fid_56367',\n",
              " 'fid_122133',\n",
              " 'fid_100107',\n",
              " 'fid_57793',\n",
              " 'fid_16215',\n",
              " 'fid_15917',\n",
              " 'fid_67847',\n",
              " 'fid_118986',\n",
              " 'fid_29916',\n",
              " 'fid_98826',\n",
              " 'fid_100053',\n",
              " 'fid_88802',\n",
              " 'fid_51715',\n",
              " 'fid_32031',\n",
              " 'fid_47401',\n",
              " 'fid_91241',\n",
              " 'fid_13035',\n",
              " 'fid_18423',\n",
              " 'fid_38245',\n",
              " 'fid_70306',\n",
              " 'fid_71919',\n",
              " 'fid_68921',\n",
              " 'fid_79408',\n",
              " 'fid_64329',\n",
              " 'fid_77132',\n",
              " 'fid_26434',\n",
              " 'fid_17065',\n",
              " 'fid_105237',\n",
              " 'fid_115820',\n",
              " 'fid_66472',\n",
              " 'fid_75971',\n",
              " 'fid_96436',\n",
              " 'fid_16765',\n",
              " 'fid_107984',\n",
              " 'fid_122183',\n",
              " 'fid_52984',\n",
              " 'fid_15950',\n",
              " 'fid_81333',\n",
              " 'fid_33980',\n",
              " 'fid_109041',\n",
              " 'fid_87953',\n",
              " 'fid_60681',\n",
              " 'fid_90087',\n",
              " 'fid_90735',\n",
              " 'fid_60424',\n",
              " 'fid_60981',\n",
              " 'fid_66310',\n",
              " 'fid_94408',\n",
              " 'fid_89554',\n",
              " 'fid_42862',\n",
              " 'fid_122637',\n",
              " 'fid_98866',\n",
              " 'fid_113651',\n",
              " 'fid_85006',\n",
              " 'fid_100135',\n",
              " 'fid_18390',\n",
              " 'fid_112229',\n",
              " 'fid_89182',\n",
              " 'fid_37071',\n",
              " 'fid_27156',\n",
              " 'fid_96751',\n",
              " 'fid_19845',\n",
              " 'fid_49585',\n",
              " 'fid_77172',\n",
              " 'fid_36819',\n",
              " 'fid_35840',\n",
              " 'fid_115472',\n",
              " 'fid_86496',\n",
              " 'fid_48228',\n",
              " 'fid_50693',\n",
              " 'fid_82859',\n",
              " 'fid_86879',\n",
              " 'fid_54932',\n",
              " 'fid_62121',\n",
              " 'fid_23862',\n",
              " 'fid_70526',\n",
              " 'fid_88538',\n",
              " 'fid_30948',\n",
              " 'fid_42451',\n",
              " 'fid_90865',\n",
              " 'fid_72702',\n",
              " 'fid_20098',\n",
              " 'fid_116077',\n",
              " 'fid_78482',\n",
              " 'fid_49748',\n",
              " 'fid_63588',\n",
              " 'fid_74810',\n",
              " 'fid_55691',\n",
              " 'fid_68792',\n",
              " 'fid_70295',\n",
              " 'fid_16409',\n",
              " 'fid_70099',\n",
              " 'fid_53133',\n",
              " 'fid_86615',\n",
              " 'fid_27552',\n",
              " 'fid_46201',\n",
              " 'fid_95439',\n",
              " 'fid_59068',\n",
              " 'fid_36991',\n",
              " 'fid_103109',\n",
              " 'fid_36192',\n",
              " 'fid_96543',\n",
              " 'fid_58508',\n",
              " 'fid_69416',\n",
              " 'fid_13545',\n",
              " 'fid_94582',\n",
              " 'fid_14847',\n",
              " 'fid_97094',\n",
              " 'fid_64733',\n",
              " 'fid_60879',\n",
              " 'fid_38395',\n",
              " 'fid_52915',\n",
              " 'fid_104981',\n",
              " 'fid_65842',\n",
              " 'fid_89635',\n",
              " 'fid_48066',\n",
              " 'fid_35554',\n",
              " 'fid_38386',\n",
              " 'fid_41873',\n",
              " 'fid_68006',\n",
              " 'fid_97071',\n",
              " 'fid_40726',\n",
              " 'fid_26373',\n",
              " 'fid_17291',\n",
              " 'fid_57763',\n",
              " 'fid_77764',\n",
              " 'fid_28834',\n",
              " 'fid_107721',\n",
              " 'fid_17623',\n",
              " 'fid_109740',\n",
              " 'fid_35085',\n",
              " 'fid_118770',\n",
              " 'fid_70492',\n",
              " 'fid_115082',\n",
              " 'fid_25403',\n",
              " 'fid_55446',\n",
              " 'fid_56541',\n",
              " 'fid_58022',\n",
              " 'fid_93543',\n",
              " 'fid_99209',\n",
              " 'fid_31572',\n",
              " 'fid_117121',\n",
              " 'fid_117333',\n",
              " 'fid_26299',\n",
              " 'fid_112412',\n",
              " 'fid_117190',\n",
              " 'fid_58850',\n",
              " 'fid_105821',\n",
              " 'fid_84765',\n",
              " 'fid_42209',\n",
              " 'fid_17483',\n",
              " 'fid_82202',\n",
              " 'fid_19423',\n",
              " 'fid_80428',\n",
              " 'fid_46695',\n",
              " 'fid_118177',\n",
              " 'fid_92434',\n",
              " 'fid_66592',\n",
              " 'fid_65705',\n",
              " 'fid_14904',\n",
              " 'fid_43422',\n",
              " 'fid_72251',\n",
              " 'fid_109723',\n",
              " 'fid_71509',\n",
              " 'fid_73479',\n",
              " 'fid_37636',\n",
              " 'fid_101875',\n",
              " 'fid_104163',\n",
              " 'fid_17235',\n",
              " 'fid_41249',\n",
              " 'fid_19406',\n",
              " 'fid_57272',\n",
              " 'fid_75209',\n",
              " 'fid_83989',\n",
              " 'fid_114270',\n",
              " 'fid_35874',\n",
              " 'fid_109089',\n",
              " 'fid_34083',\n",
              " 'fid_30532',\n",
              " 'fid_100303',\n",
              " 'fid_113215',\n",
              " 'fid_88217',\n",
              " 'fid_16071',\n",
              " 'fid_30877',\n",
              " 'fid_115088',\n",
              " 'fid_24540',\n",
              " 'fid_89848',\n",
              " 'fid_12724',\n",
              " 'fid_80473',\n",
              " 'fid_36519',\n",
              " 'fid_71572',\n",
              " 'fid_84714',\n",
              " 'fid_23583',\n",
              " 'fid_51123',\n",
              " 'fid_51385',\n",
              " 'fid_32463',\n",
              " 'fid_99482',\n",
              " 'fid_40447',\n",
              " 'fid_120541',\n",
              " 'fid_52171',\n",
              " 'fid_97108',\n",
              " 'fid_92885',\n",
              " 'fid_106014',\n",
              " 'fid_104095',\n",
              " 'fid_54827',\n",
              " 'fid_17175',\n",
              " 'fid_56754',\n",
              " 'fid_78699',\n",
              " 'fid_62311',\n",
              " 'fid_29248',\n",
              " 'fid_42510',\n",
              " 'fid_23328',\n",
              " 'fid_112342',\n",
              " 'fid_119748',\n",
              " 'fid_116214',\n",
              " 'fid_36916',\n",
              " 'fid_103475',\n",
              " 'fid_76193',\n",
              " 'fid_24151',\n",
              " 'fid_46057',\n",
              " 'fid_109783',\n",
              " 'fid_111381',\n",
              " 'fid_37625',\n",
              " 'fid_15136',\n",
              " 'fid_105669',\n",
              " 'fid_49866',\n",
              " 'fid_107315',\n",
              " 'fid_53722',\n",
              " 'fid_90691',\n",
              " 'fid_117845',\n",
              " 'fid_26658',\n",
              " 'fid_41988',\n",
              " 'fid_68542',\n",
              " 'fid_28554',\n",
              " 'fid_72382',\n",
              " 'fid_77923',\n",
              " 'fid_104079',\n",
              " 'fid_71538',\n",
              " 'fid_117383',\n",
              " 'fid_102288',\n",
              " 'fid_20531',\n",
              " 'fid_12718',\n",
              " 'fid_111370',\n",
              " 'fid_61379',\n",
              " 'fid_20225',\n",
              " 'fid_51049',\n",
              " 'fid_18990',\n",
              " 'fid_27468',\n",
              " 'fid_17861',\n",
              " 'fid_86226',\n",
              " 'fid_102790',\n",
              " 'fid_88905',\n",
              " 'fid_50493',\n",
              " 'fid_81937',\n",
              " 'fid_86959',\n",
              " 'fid_82644',\n",
              " 'fid_15339',\n",
              " 'fid_113533',\n",
              " 'fid_54972',\n",
              " 'fid_46835',\n",
              " 'fid_73285',\n",
              " 'fid_91323',\n",
              " 'fid_14233',\n",
              " 'fid_109942',\n",
              " 'fid_57757',\n",
              " 'fid_98867',\n",
              " 'fid_28547',\n",
              " 'fid_113611',\n",
              " 'fid_79063',\n",
              " 'fid_73716',\n",
              " 'fid_20681',\n",
              " 'fid_47000',\n",
              " 'fid_26265',\n",
              " 'fid_50898',\n",
              " 'fid_103807',\n",
              " 'fid_45425',\n",
              " 'fid_71112',\n",
              " 'fid_19864',\n",
              " 'fid_103413',\n",
              " 'fid_28132',\n",
              " 'fid_107164',\n",
              " 'fid_120165',\n",
              " 'fid_105297',\n",
              " 'fid_28238',\n",
              " 'fid_70604',\n",
              " 'fid_93786',\n",
              " 'fid_38973',\n",
              " 'fid_14944',\n",
              " 'fid_44156',\n",
              " 'fid_77019',\n",
              " 'fid_104667',\n",
              " 'fid_98403',\n",
              " 'fid_98183',\n",
              " 'fid_56075',\n",
              " 'fid_94111',\n",
              " 'fid_80991',\n",
              " 'fid_40681',\n",
              " 'fid_123059',\n",
              " 'fid_34570',\n",
              " 'fid_60983',\n",
              " 'fid_114494',\n",
              " 'fid_97567',\n",
              " 'fid_36289',\n",
              " 'fid_102753',\n",
              " 'fid_49406',\n",
              " 'fid_76350',\n",
              " 'fid_116800',\n",
              " 'fid_30215',\n",
              " 'fid_97118',\n",
              " 'fid_103330',\n",
              " 'fid_53639',\n",
              " 'fid_105044',\n",
              " 'fid_107244',\n",
              " 'fid_54244',\n",
              " 'fid_12519',\n",
              " 'fid_29762',\n",
              " 'fid_41852',\n",
              " 'fid_114492',\n",
              " 'fid_82799',\n",
              " 'fid_122266',\n",
              " 'fid_14328',\n",
              " 'fid_21788',\n",
              " 'fid_22153',\n",
              " 'fid_81237',\n",
              " 'fid_119518',\n",
              " 'fid_50654',\n",
              " 'fid_66582',\n",
              " 'fid_45515',\n",
              " 'fid_117127',\n",
              " 'fid_83360',\n",
              " 'fid_97301',\n",
              " 'fid_99437',\n",
              " 'fid_122841',\n",
              " 'fid_104295',\n",
              " 'fid_102520',\n",
              " 'fid_110260',\n",
              " 'fid_53014',\n",
              " 'fid_29387',\n",
              " 'fid_121046',\n",
              " 'fid_50737',\n",
              " 'fid_17504',\n",
              " 'fid_88917',\n",
              " 'fid_30319',\n",
              " 'fid_26016',\n",
              " 'fid_59795',\n",
              " 'fid_99317',\n",
              " 'fid_104355',\n",
              " 'fid_116165',\n",
              " 'fid_122058',\n",
              " 'fid_45184',\n",
              " 'fid_54208',\n",
              " 'fid_29196',\n",
              " 'fid_73969',\n",
              " 'fid_36460',\n",
              " 'fid_89049',\n",
              " 'fid_90885',\n",
              " 'fid_105631',\n",
              " 'fid_121108',\n",
              " 'fid_115708',\n",
              " 'fid_93318',\n",
              " 'fid_20058',\n",
              " 'fid_88408',\n",
              " 'fid_81701',\n",
              " 'fid_46585',\n",
              " 'fid_116275',\n",
              " 'fid_68983',\n",
              " 'fid_90038',\n",
              " 'fid_30297',\n",
              " 'fid_101478',\n",
              " 'fid_44945',\n",
              " 'fid_31715',\n",
              " 'fid_106610',\n",
              " 'fid_87762',\n",
              " 'fid_64345',\n",
              " 'fid_16801',\n",
              " 'fid_92250',\n",
              " 'fid_110127',\n",
              " 'fid_17087',\n",
              " 'fid_73978',\n",
              " 'fid_93548',\n",
              " 'fid_63064',\n",
              " 'fid_25908',\n",
              " 'fid_24774',\n",
              " 'fid_30408',\n",
              " 'fid_56150',\n",
              " 'fid_67195',\n",
              " 'fid_30504',\n",
              " 'fid_77942',\n",
              " 'fid_65292',\n",
              " 'fid_120435',\n",
              " 'fid_17419',\n",
              " 'fid_115489',\n",
              " 'fid_107483',\n",
              " 'fid_62295',\n",
              " 'fid_100594',\n",
              " 'fid_22681',\n",
              " 'fid_84970',\n",
              " 'fid_15925',\n",
              " 'fid_119180',\n",
              " 'fid_52066',\n",
              " 'fid_26957',\n",
              " 'fid_12849',\n",
              " 'fid_19553',\n",
              " 'fid_55217',\n",
              " 'fid_36407',\n",
              " 'fid_122023',\n",
              " 'fid_93233',\n",
              " 'fid_122415',\n",
              " 'fid_75965',\n",
              " 'fid_123202',\n",
              " 'fid_76981',\n",
              " 'fid_22969',\n",
              " 'fid_107795',\n",
              " 'fid_46644',\n",
              " 'fid_89219',\n",
              " 'fid_64718',\n",
              " 'fid_39386',\n",
              " 'fid_32688',\n",
              " 'fid_58591',\n",
              " 'fid_65374',\n",
              " 'fid_24164',\n",
              " 'fid_81056',\n",
              " 'fid_13794',\n",
              " 'fid_94334',\n",
              " 'fid_72447',\n",
              " 'fid_92240',\n",
              " 'fid_91919',\n",
              " 'fid_112803',\n",
              " 'fid_35936',\n",
              " 'fid_53336',\n",
              " 'fid_64862',\n",
              " 'fid_67825',\n",
              " 'fid_117913',\n",
              " 'fid_41831',\n",
              " 'fid_75152',\n",
              " 'fid_13819',\n",
              " 'fid_115504',\n",
              " 'fid_19165',\n",
              " 'fid_61258',\n",
              " 'fid_93390',\n",
              " 'fid_46342',\n",
              " 'fid_93603',\n",
              " 'fid_42929',\n",
              " 'fid_50988',\n",
              " 'fid_44755',\n",
              " 'fid_81706',\n",
              " 'fid_60353',\n",
              " 'fid_79821',\n",
              " 'fid_45095',\n",
              " 'fid_62589',\n",
              " 'fid_29039',\n",
              " 'fid_69681',\n",
              " 'fid_98062',\n",
              " 'fid_14776',\n",
              " 'fid_15392',\n",
              " 'fid_113200',\n",
              " 'fid_99075',\n",
              " 'fid_40082',\n",
              " 'fid_81744',\n",
              " 'fid_54167',\n",
              " 'fid_77843',\n",
              " 'fid_110647',\n",
              " 'fid_66531',\n",
              " 'fid_103875',\n",
              " 'fid_75025',\n",
              " 'fid_62545',\n",
              " 'fid_101224',\n",
              " 'fid_60722',\n",
              " 'fid_116221',\n",
              " 'fid_114660',\n",
              " 'fid_71444',\n",
              " 'fid_22726',\n",
              " 'fid_35903',\n",
              " 'fid_61499',\n",
              " 'fid_96636',\n",
              " 'fid_123171',\n",
              " ...]"
            ]
          },
          "metadata": {
            "tags": []
          },
          "execution_count": 56
        }
      ]
    },
    {
      "cell_type": "code",
      "metadata": {
        "id": "IJM9tdCGFeyL"
      },
      "source": [
        "farm_list.remove('fid_110884')"
      ],
      "execution_count": null,
      "outputs": []
    },
    {
      "cell_type": "code",
      "metadata": {
        "id": "9zHDQpIbFqEw"
      },
      "source": [
        "farm_list.remove('fid_90053')"
      ],
      "execution_count": null,
      "outputs": []
    },
    {
      "cell_type": "code",
      "metadata": {
        "colab": {
          "base_uri": "https://localhost:8080/"
        },
        "id": "aO7CGuZwF1Ld",
        "outputId": "fff93533-caa2-4c72-84e0-23203f470d7c"
      },
      "source": [
        "len(farm_list)"
      ],
      "execution_count": null,
      "outputs": [
        {
          "output_type": "execute_result",
          "data": {
            "text/plain": [
              "1432"
            ]
          },
          "metadata": {
            "tags": []
          },
          "execution_count": 207
        }
      ]
    },
    {
      "cell_type": "code",
      "metadata": {
        "colab": {
          "base_uri": "https://localhost:8080/"
        },
        "id": "9EzrOObILJ6f",
        "outputId": "e5ea1028-22bd-439f-e841-d4d26b5a7451"
      },
      "source": [
        "farm_new_list"
      ],
      "execution_count": null,
      "outputs": [
        {
          "output_type": "execute_result",
          "data": {
            "text/plain": [
              "['fid_102320',\n",
              " 'fid_21504',\n",
              " 'fid_88621',\n",
              " 'fid_53319',\n",
              " 'fid_107229',\n",
              " 'fid_70617',\n",
              " 'fid_37818',\n",
              " 'fid_30097',\n",
              " 'fid_119887',\n",
              " 'fid_65371',\n",
              " 'fid_101271',\n",
              " 'fid_51790',\n",
              " 'fid_30973',\n",
              " 'fid_72700',\n",
              " 'fid_98025',\n",
              " 'fid_101551',\n",
              " 'fid_64922',\n",
              " 'fid_122564',\n",
              " 'fid_70340',\n",
              " 'fid_75245',\n",
              " 'fid_25477',\n",
              " 'fid_33405',\n",
              " 'fid_19705',\n",
              " 'fid_90721',\n",
              " 'fid_99136',\n",
              " 'fid_111424',\n",
              " 'fid_57647',\n",
              " 'fid_66906',\n",
              " 'fid_26227',\n",
              " 'fid_53568',\n",
              " 'fid_26026',\n",
              " 'fid_87942',\n",
              " 'fid_120636',\n",
              " 'fid_64441',\n",
              " 'fid_66870',\n",
              " 'fid_45574',\n",
              " 'fid_41581',\n",
              " 'fid_66062',\n",
              " 'fid_75323',\n",
              " 'fid_75397']"
            ]
          },
          "metadata": {
            "tags": []
          },
          "execution_count": 253
        }
      ]
    },
    {
      "cell_type": "code",
      "metadata": {
        "id": "F1Ckq6IgF5pR"
      },
      "source": [
        "farm_new_list = farm_list[100:200]"
      ],
      "execution_count": null,
      "outputs": []
    },
    {
      "cell_type": "code",
      "metadata": {
        "colab": {
          "base_uri": "https://localhost:8080/"
        },
        "id": "lc4aOZmeGIYg",
        "outputId": "f886c759-ef3d-4397-945e-bdde8fd24f76"
      },
      "source": [
        "index = 100\r\n",
        "for farm_id in farm_new_list:\r\n",
        "  index = index + 1\r\n",
        "  print(f\"********Iteration {index}************\")\r\n",
        "  #print(f\"Building Model for Farm with {farm_id}\")\r\n",
        "  df = final_data[final_data.farm_id == farm_id]\r\n",
        "  df_test = final_test_data[final_test_data.farm_id == farm_id]\r\n",
        "  df = preprocess(df)\r\n",
        "  df_test = preprocess(df_test)\r\n",
        "  model = apply_model(df)\r\n",
        "  predict_value(df_test,model)\r\n",
        "  print(f\"Done Predicting for Farm with {farm_id}\")"
      ],
      "execution_count": null,
      "outputs": [
        {
          "output_type": "stream",
          "text": [
            "********Iteration 101************\n",
            "Done Predicting for Farm with fid_17616\n",
            "********Iteration 102************\n",
            "Done Predicting for Farm with fid_115440\n",
            "********Iteration 103************\n",
            "Done Predicting for Farm with fid_87418\n",
            "********Iteration 104************\n",
            "Done Predicting for Farm with fid_31778\n",
            "********Iteration 105************\n",
            "Done Predicting for Farm with fid_49187\n",
            "********Iteration 106************\n",
            "Done Predicting for Farm with fid_90348\n",
            "********Iteration 107************\n",
            "Done Predicting for Farm with fid_121431\n",
            "********Iteration 108************\n",
            "Done Predicting for Farm with fid_97487\n",
            "********Iteration 109************\n",
            "Done Predicting for Farm with fid_104766\n",
            "********Iteration 110************\n",
            "Done Predicting for Farm with fid_34324\n",
            "********Iteration 111************\n",
            "Done Predicting for Farm with fid_32920\n",
            "********Iteration 112************\n",
            "Done Predicting for Farm with fid_73122\n",
            "********Iteration 113************\n",
            "Done Predicting for Farm with fid_15823\n",
            "********Iteration 114************\n",
            "Done Predicting for Farm with fid_20229\n",
            "********Iteration 115************\n",
            "Done Predicting for Farm with fid_89261\n",
            "********Iteration 116************\n",
            "Done Predicting for Farm with fid_79270\n",
            "********Iteration 117************\n",
            "Done Predicting for Farm with fid_31823\n",
            "********Iteration 118************\n",
            "Done Predicting for Farm with fid_99359\n",
            "********Iteration 119************\n",
            "Done Predicting for Farm with fid_76235\n",
            "********Iteration 120************\n",
            "Done Predicting for Farm with fid_116054\n",
            "********Iteration 121************\n",
            "Done Predicting for Farm with fid_90187\n",
            "********Iteration 122************\n",
            "Done Predicting for Farm with fid_12397\n",
            "********Iteration 123************\n",
            "Done Predicting for Farm with fid_90291\n",
            "********Iteration 124************\n",
            "Done Predicting for Farm with fid_114264\n",
            "********Iteration 125************\n",
            "Done Predicting for Farm with fid_54043\n",
            "********Iteration 126************\n",
            "Done Predicting for Farm with fid_30220\n",
            "********Iteration 127************\n",
            "Done Predicting for Farm with fid_37298\n",
            "********Iteration 128************\n",
            "Done Predicting for Farm with fid_59158\n",
            "********Iteration 129************\n",
            "Done Predicting for Farm with fid_71910\n",
            "********Iteration 130************\n",
            "Done Predicting for Farm with fid_23332\n",
            "********Iteration 131************\n",
            "Done Predicting for Farm with fid_41964\n",
            "********Iteration 132************\n",
            "Done Predicting for Farm with fid_60232\n",
            "********Iteration 133************\n",
            "Done Predicting for Farm with fid_109824\n",
            "********Iteration 134************\n",
            "Done Predicting for Farm with fid_22249\n",
            "********Iteration 135************\n",
            "Done Predicting for Farm with fid_37333\n",
            "********Iteration 136************\n",
            "Done Predicting for Farm with fid_102156\n",
            "********Iteration 137************\n",
            "Done Predicting for Farm with fid_33620\n",
            "********Iteration 138************\n",
            "Done Predicting for Farm with fid_38756\n",
            "********Iteration 139************\n",
            "Done Predicting for Farm with fid_71884\n",
            "********Iteration 140************\n",
            "Done Predicting for Farm with fid_34440\n",
            "********Iteration 141************\n",
            "Done Predicting for Farm with fid_86911\n",
            "********Iteration 142************\n",
            "Done Predicting for Farm with fid_49553\n",
            "********Iteration 143************\n",
            "Done Predicting for Farm with fid_13363\n",
            "********Iteration 144************\n",
            "Done Predicting for Farm with fid_95812\n",
            "********Iteration 145************\n",
            "Done Predicting for Farm with fid_66846\n",
            "********Iteration 146************\n",
            "Done Predicting for Farm with fid_54778\n",
            "********Iteration 147************\n",
            "Done Predicting for Farm with fid_109206\n",
            "********Iteration 148************\n",
            "Done Predicting for Farm with fid_45384\n",
            "********Iteration 149************\n",
            "Done Predicting for Farm with fid_45083\n",
            "********Iteration 150************\n",
            "Done Predicting for Farm with fid_55183\n",
            "********Iteration 151************\n",
            "Done Predicting for Farm with fid_32248\n",
            "********Iteration 152************\n",
            "Done Predicting for Farm with fid_77795\n",
            "********Iteration 153************\n",
            "Done Predicting for Farm with fid_57039\n",
            "********Iteration 154************\n",
            "Done Predicting for Farm with fid_111782\n",
            "********Iteration 155************\n",
            "Done Predicting for Farm with fid_73953\n",
            "********Iteration 156************\n",
            "Done Predicting for Farm with fid_82661\n",
            "********Iteration 157************\n",
            "Done Predicting for Farm with fid_15268\n",
            "********Iteration 158************\n",
            "Done Predicting for Farm with fid_95519\n",
            "********Iteration 159************\n",
            "Done Predicting for Farm with fid_32697\n",
            "********Iteration 160************\n",
            "Done Predicting for Farm with fid_33065\n",
            "********Iteration 161************\n",
            "Done Predicting for Farm with fid_15770\n",
            "********Iteration 162************\n",
            "Done Predicting for Farm with fid_95371\n",
            "********Iteration 163************\n",
            "Done Predicting for Farm with fid_102320\n",
            "********Iteration 164************\n",
            "Done Predicting for Farm with fid_21504\n",
            "********Iteration 165************\n",
            "Done Predicting for Farm with fid_88621\n",
            "********Iteration 166************\n",
            "Done Predicting for Farm with fid_53319\n",
            "********Iteration 167************\n",
            "Done Predicting for Farm with fid_107229\n",
            "********Iteration 168************\n",
            "Done Predicting for Farm with fid_70617\n",
            "********Iteration 169************\n",
            "Done Predicting for Farm with fid_37818\n",
            "********Iteration 170************\n",
            "Done Predicting for Farm with fid_30097\n",
            "********Iteration 171************\n",
            "Done Predicting for Farm with fid_119887\n",
            "********Iteration 172************\n",
            "Done Predicting for Farm with fid_65371\n",
            "********Iteration 173************\n",
            "Done Predicting for Farm with fid_101271\n",
            "********Iteration 174************\n",
            "Done Predicting for Farm with fid_51790\n",
            "********Iteration 175************\n",
            "Done Predicting for Farm with fid_30973\n",
            "********Iteration 176************\n",
            "Done Predicting for Farm with fid_72700\n",
            "********Iteration 177************\n",
            "Done Predicting for Farm with fid_98025\n",
            "********Iteration 178************\n",
            "Done Predicting for Farm with fid_101551\n",
            "********Iteration 179************\n",
            "Done Predicting for Farm with fid_64922\n",
            "********Iteration 180************\n",
            "Done Predicting for Farm with fid_122564\n",
            "********Iteration 181************\n",
            "Done Predicting for Farm with fid_70340\n",
            "********Iteration 182************\n",
            "Done Predicting for Farm with fid_75245\n",
            "********Iteration 183************\n",
            "Done Predicting for Farm with fid_25477\n",
            "********Iteration 184************\n",
            "Done Predicting for Farm with fid_33405\n",
            "********Iteration 185************\n",
            "Done Predicting for Farm with fid_19705\n",
            "********Iteration 186************\n",
            "Done Predicting for Farm with fid_90721\n",
            "********Iteration 187************\n",
            "Done Predicting for Farm with fid_99136\n",
            "********Iteration 188************\n",
            "Done Predicting for Farm with fid_111424\n",
            "********Iteration 189************\n",
            "Done Predicting for Farm with fid_57647\n",
            "********Iteration 190************\n",
            "Done Predicting for Farm with fid_66906\n",
            "********Iteration 191************\n",
            "Done Predicting for Farm with fid_26227\n",
            "********Iteration 192************\n",
            "Done Predicting for Farm with fid_53568\n",
            "********Iteration 193************\n",
            "Done Predicting for Farm with fid_26026\n",
            "********Iteration 194************\n",
            "Done Predicting for Farm with fid_87942\n",
            "********Iteration 195************\n",
            "Done Predicting for Farm with fid_120636\n",
            "********Iteration 196************\n",
            "Done Predicting for Farm with fid_64441\n",
            "********Iteration 197************\n",
            "Done Predicting for Farm with fid_66870\n",
            "********Iteration 198************\n",
            "Done Predicting for Farm with fid_45574\n",
            "********Iteration 199************\n",
            "Done Predicting for Farm with fid_41581\n",
            "********Iteration 200************\n",
            "Done Predicting for Farm with fid_66062\n"
          ],
          "name": "stdout"
        }
      ]
    },
    {
      "cell_type": "code",
      "metadata": {
        "colab": {
          "base_uri": "https://localhost:8080/"
        },
        "id": "DIyCef4WGzZt",
        "outputId": "e8ef568a-e7fb-49bd-cb92-e078b0078ba9"
      },
      "source": [
        "submissions_df.shape"
      ],
      "execution_count": null,
      "outputs": [
        {
          "output_type": "execute_result",
          "data": {
            "text/plain": [
              "(2082673, 2)"
            ]
          },
          "metadata": {
            "tags": []
          },
          "execution_count": 279
        }
      ]
    },
    {
      "cell_type": "code",
      "metadata": {
        "colab": {
          "base_uri": "https://localhost:8080/",
          "height": 402
        },
        "id": "oT6z4XKBKXzP",
        "outputId": "2f1a054a-90e1-49fb-d2d2-0e8f9cd6856b"
      },
      "source": [
        "submissions_df.sort_values('yield',ascending=False)"
      ],
      "execution_count": null,
      "outputs": [
        {
          "output_type": "execute_result",
          "data": {
            "text/html": [
              "<div>\n",
              "<style scoped>\n",
              "    .dataframe tbody tr th:only-of-type {\n",
              "        vertical-align: middle;\n",
              "    }\n",
              "\n",
              "    .dataframe tbody tr th {\n",
              "        vertical-align: top;\n",
              "    }\n",
              "\n",
              "    .dataframe thead th {\n",
              "        text-align: right;\n",
              "    }\n",
              "</style>\n",
              "<table border=\"1\" class=\"dataframe\">\n",
              "  <thead>\n",
              "    <tr style=\"text-align: right;\">\n",
              "      <th></th>\n",
              "      <th>id</th>\n",
              "      <th>yield</th>\n",
              "    </tr>\n",
              "  </thead>\n",
              "  <tbody>\n",
              "    <tr>\n",
              "      <th>1321660</th>\n",
              "      <td>636319</td>\n",
              "      <td>12857.764561</td>\n",
              "    </tr>\n",
              "    <tr>\n",
              "      <th>1321692</th>\n",
              "      <td>638383</td>\n",
              "      <td>12857.764561</td>\n",
              "    </tr>\n",
              "    <tr>\n",
              "      <th>1321378</th>\n",
              "      <td>618128</td>\n",
              "      <td>12857.764561</td>\n",
              "    </tr>\n",
              "    <tr>\n",
              "      <th>1321376</th>\n",
              "      <td>617999</td>\n",
              "      <td>12857.764561</td>\n",
              "    </tr>\n",
              "    <tr>\n",
              "      <th>1321374</th>\n",
              "      <td>617871</td>\n",
              "      <td>12857.764561</td>\n",
              "    </tr>\n",
              "    <tr>\n",
              "      <th>...</th>\n",
              "      <td>...</td>\n",
              "      <td>...</td>\n",
              "    </tr>\n",
              "    <tr>\n",
              "      <th>1646350</th>\n",
              "      <td>220000</td>\n",
              "      <td>0.000000</td>\n",
              "    </tr>\n",
              "    <tr>\n",
              "      <th>1646349</th>\n",
              "      <td>219871</td>\n",
              "      <td>0.000000</td>\n",
              "    </tr>\n",
              "    <tr>\n",
              "      <th>1646348</th>\n",
              "      <td>219742</td>\n",
              "      <td>0.000000</td>\n",
              "    </tr>\n",
              "    <tr>\n",
              "      <th>1646347</th>\n",
              "      <td>219613</td>\n",
              "      <td>0.000000</td>\n",
              "    </tr>\n",
              "    <tr>\n",
              "      <th>1627648</th>\n",
              "      <td>67523</td>\n",
              "      <td>0.000000</td>\n",
              "    </tr>\n",
              "  </tbody>\n",
              "</table>\n",
              "<p>2117685 rows × 2 columns</p>\n",
              "</div>"
            ],
            "text/plain": [
              "             id         yield\n",
              "1321660  636319  12857.764561\n",
              "1321692  638383  12857.764561\n",
              "1321378  618128  12857.764561\n",
              "1321376  617999  12857.764561\n",
              "1321374  617871  12857.764561\n",
              "...         ...           ...\n",
              "1646350  220000      0.000000\n",
              "1646349  219871      0.000000\n",
              "1646348  219742      0.000000\n",
              "1646347  219613      0.000000\n",
              "1627648   67523      0.000000\n",
              "\n",
              "[2117685 rows x 2 columns]"
            ]
          },
          "metadata": {
            "tags": []
          },
          "execution_count": 264
        }
      ]
    },
    {
      "cell_type": "code",
      "metadata": {
        "id": "FaqrNDLvKuwk"
      },
      "source": [
        "submissions_df.to_csv(\"Submissions_new_1.csv\")"
      ],
      "execution_count": null,
      "outputs": []
    },
    {
      "cell_type": "code",
      "metadata": {
        "id": "WBqqclCNLcyu"
      },
      "source": [
        "import warnings\r\n",
        "warnings.filterwarnings(\"ignore\")"
      ],
      "execution_count": null,
      "outputs": []
    },
    {
      "cell_type": "code",
      "metadata": {
        "colab": {
          "base_uri": "https://localhost:8080/",
          "height": 195
        },
        "id": "CUyr9BU2PlZr",
        "outputId": "996be2d3-0b86-4c75-b6b4-ec656f876444"
      },
      "source": [
        "submissions_df.head()"
      ],
      "execution_count": null,
      "outputs": [
        {
          "output_type": "execute_result",
          "data": {
            "text/html": [
              "<div>\n",
              "<style scoped>\n",
              "    .dataframe tbody tr th:only-of-type {\n",
              "        vertical-align: middle;\n",
              "    }\n",
              "\n",
              "    .dataframe tbody tr th {\n",
              "        vertical-align: top;\n",
              "    }\n",
              "\n",
              "    .dataframe thead th {\n",
              "        text-align: right;\n",
              "    }\n",
              "</style>\n",
              "<table border=\"1\" class=\"dataframe\">\n",
              "  <thead>\n",
              "    <tr style=\"text-align: right;\">\n",
              "      <th></th>\n",
              "      <th>index</th>\n",
              "      <th>id</th>\n",
              "      <th>yield</th>\n",
              "    </tr>\n",
              "  </thead>\n",
              "  <tbody>\n",
              "    <tr>\n",
              "      <th>0</th>\n",
              "      <td>NaN</td>\n",
              "      <td>0</td>\n",
              "      <td>73.163345</td>\n",
              "    </tr>\n",
              "    <tr>\n",
              "      <th>1</th>\n",
              "      <td>NaN</td>\n",
              "      <td>129</td>\n",
              "      <td>73.163345</td>\n",
              "    </tr>\n",
              "    <tr>\n",
              "      <th>2</th>\n",
              "      <td>NaN</td>\n",
              "      <td>258</td>\n",
              "      <td>73.163345</td>\n",
              "    </tr>\n",
              "    <tr>\n",
              "      <th>3</th>\n",
              "      <td>NaN</td>\n",
              "      <td>387</td>\n",
              "      <td>73.163345</td>\n",
              "    </tr>\n",
              "    <tr>\n",
              "      <th>4</th>\n",
              "      <td>NaN</td>\n",
              "      <td>516</td>\n",
              "      <td>73.163345</td>\n",
              "    </tr>\n",
              "  </tbody>\n",
              "</table>\n",
              "</div>"
            ],
            "text/plain": [
              "  index   id      yield\n",
              "0   NaN    0  73.163345\n",
              "1   NaN  129  73.163345\n",
              "2   NaN  258  73.163345\n",
              "3   NaN  387  73.163345\n",
              "4   NaN  516  73.163345"
            ]
          },
          "metadata": {
            "tags": []
          },
          "execution_count": 273
        }
      ]
    },
    {
      "cell_type": "code",
      "metadata": {
        "id": "mdwbOH3G0kie"
      },
      "source": [
        "submissions_df.drop('index', axis=1, inplace=True)"
      ],
      "execution_count": null,
      "outputs": []
    },
    {
      "cell_type": "code",
      "metadata": {
        "colab": {
          "base_uri": "https://localhost:8080/",
          "height": 402
        },
        "id": "_5DWbxKtHxfE",
        "outputId": "63fcf6e7-82bb-4101-bc92-996b1fa3ffa7"
      },
      "source": [
        "submissions_df"
      ],
      "execution_count": null,
      "outputs": [
        {
          "output_type": "execute_result",
          "data": {
            "text/html": [
              "<div>\n",
              "<style scoped>\n",
              "    .dataframe tbody tr th:only-of-type {\n",
              "        vertical-align: middle;\n",
              "    }\n",
              "\n",
              "    .dataframe tbody tr th {\n",
              "        vertical-align: top;\n",
              "    }\n",
              "\n",
              "    .dataframe thead th {\n",
              "        text-align: right;\n",
              "    }\n",
              "</style>\n",
              "<table border=\"1\" class=\"dataframe\">\n",
              "  <thead>\n",
              "    <tr style=\"text-align: right;\">\n",
              "      <th></th>\n",
              "      <th>id</th>\n",
              "      <th>yield</th>\n",
              "    </tr>\n",
              "  </thead>\n",
              "  <tbody>\n",
              "    <tr>\n",
              "      <th>0</th>\n",
              "      <td>0</td>\n",
              "      <td>73.163345</td>\n",
              "    </tr>\n",
              "    <tr>\n",
              "      <th>1</th>\n",
              "      <td>129</td>\n",
              "      <td>73.163345</td>\n",
              "    </tr>\n",
              "    <tr>\n",
              "      <th>2</th>\n",
              "      <td>258</td>\n",
              "      <td>73.163345</td>\n",
              "    </tr>\n",
              "    <tr>\n",
              "      <th>3</th>\n",
              "      <td>387</td>\n",
              "      <td>73.163345</td>\n",
              "    </tr>\n",
              "    <tr>\n",
              "      <th>4</th>\n",
              "      <td>516</td>\n",
              "      <td>73.163345</td>\n",
              "    </tr>\n",
              "    <tr>\n",
              "      <th>...</th>\n",
              "      <td>...</td>\n",
              "      <td>...</td>\n",
              "    </tr>\n",
              "    <tr>\n",
              "      <th>8755</th>\n",
              "      <td>1129517</td>\n",
              "      <td>61.336985</td>\n",
              "    </tr>\n",
              "    <tr>\n",
              "      <th>8756</th>\n",
              "      <td>1129646</td>\n",
              "      <td>60.207041</td>\n",
              "    </tr>\n",
              "    <tr>\n",
              "      <th>8757</th>\n",
              "      <td>1129775</td>\n",
              "      <td>60.207041</td>\n",
              "    </tr>\n",
              "    <tr>\n",
              "      <th>8758</th>\n",
              "      <td>1129904</td>\n",
              "      <td>60.207041</td>\n",
              "    </tr>\n",
              "    <tr>\n",
              "      <th>8759</th>\n",
              "      <td>1130032</td>\n",
              "      <td>60.068192</td>\n",
              "    </tr>\n",
              "  </tbody>\n",
              "</table>\n",
              "<p>1094970 rows × 2 columns</p>\n",
              "</div>"
            ],
            "text/plain": [
              "           id      yield\n",
              "0           0  73.163345\n",
              "1         129  73.163345\n",
              "2         258  73.163345\n",
              "3         387  73.163345\n",
              "4         516  73.163345\n",
              "...       ...        ...\n",
              "8755  1129517  61.336985\n",
              "8756  1129646  60.207041\n",
              "8757  1129775  60.207041\n",
              "8758  1129904  60.207041\n",
              "8759  1130032  60.068192\n",
              "\n",
              "[1094970 rows x 2 columns]"
            ]
          },
          "metadata": {
            "tags": []
          },
          "execution_count": 275
        }
      ]
    },
    {
      "cell_type": "code",
      "metadata": {
        "id": "sKNH4USbH0w4"
      },
      "source": [
        "def preprocess_new(farm_id):\r\n",
        "  df = final_data[final_data.farm_id == farm_id]\r\n",
        "  #df = df[~((df.index.month==2) & (df.index.day ==29))]\r\n",
        "  df_test = final_test_data[final_test_data.farm_id == farm_id]\r\n",
        "  df_test2 = df_test.copy()\r\n",
        "\r\n",
        "  df_test = df_test[['ingredient_type','dew_temp','pressure_sea_level','precipitation','wind_speed']]\r\n",
        "  df_test['yield'] = 0\r\n",
        "  col = df.pop(\"yield\")\r\n",
        "  df.insert(0, col.name, col)\r\n",
        "  col = df_test.pop(\"yield\")\r\n",
        "  df_test.insert(0, col.name, col)\r\n",
        "  df = df.append(df_test)\r\n",
        "  df.drop(['deidentified_location', 'farming_company','farm_area'], axis=1, inplace=True)\r\n",
        "  df.drop('farm_id', axis=1, inplace=True)\r\n",
        "\r\n",
        "  labelEncoder = LabelEncoder()\r\n",
        "  df['ingredient_type'] = labelEncoder.fit_transform(df['ingredient_type'])\r\n",
        "  values = df.values\r\n",
        "  print(values.shape)\r\n",
        "  values = values.astype('float32')\r\n",
        "\r\n",
        "  reframed = series_to_supervised(values,1,1)\r\n",
        "  # drop columns we don't want to predict\r\n",
        "  reframed.drop(reframed.columns[[7,8,9,10,11]], axis=1, inplace=True)\r\n",
        "\r\n",
        "  scaler = MinMaxScaler(feature_range=(0,1))\r\n",
        "  scaled = scaler.fit_transform(values)\r\n",
        "  reframed = series_to_supervised(scaled,1,1)\r\n",
        "  # drop columns we don't want to predict\r\n",
        "  reframed.drop(reframed.columns[[7,8,9,10,11]], axis=1, inplace=True)\r\n",
        "\r\n",
        "\r\n",
        "  values = reframed.values\r\n",
        "  n_train = 252*24\r\n",
        "  train = values[:n_train]\r\n",
        "  test = values[n_train:]\r\n",
        "\r\n",
        "  trainX,trainY = train[:,:-1],train[:,-1]\r\n",
        "  testX,testY = test[:,:-1],test[:,-1]\r\n",
        "\r\n",
        "\r\n",
        "\r\n",
        "  trainX = trainX.reshape(trainX.shape[0],1,trainX.shape[1])\r\n",
        "  testX = testX.reshape(testX.shape[0],1,testX.shape[1])\r\n",
        "\r\n",
        "  stop_noimprovement = EarlyStopping(patience=10)\r\n",
        "  model = Sequential()\r\n",
        "  model.add(LSTM(50,input_shape=(trainX.shape[1],trainX.shape[2]),dropout=0.2))\r\n",
        "  model.add(Dense(1))\r\n",
        "  model.compile(loss=\"mae\",optimizer=\"adam\")\r\n",
        "\r\n",
        "  history= model.fit(trainX,trainY,validation_data=(testX,testY),epochs=100,verbose=0,callbacks=[stop_noimprovement],shuffle=False)\r\n",
        "\r\n",
        "  predicted = model.predict(testX)\r\n",
        "\r\n",
        "  testXRe = testX.reshape(testX.shape[0],testX.shape[2])\r\n",
        "\r\n",
        "  predicted = np.concatenate((predicted,testXRe[:,1:]),axis=1)\r\n",
        "\r\n",
        "  #scaler = MinMaxScaler(feature_range=(0,1))\r\n",
        "  #scaler.fit(predicted)\r\n",
        "\r\n",
        "  predicted = scaler.inverse_transform(predicted)\r\n",
        "\r\n",
        "  testY = testY.reshape(len(testY),1)\r\n",
        "\r\n",
        "  testY = np.concatenate((testY,testXRe[:,1:]),axis=1)\r\n",
        "\r\n",
        "  #scaler = MinMaxScaler(feature_range=(0,1))\r\n",
        "  #scaler.fit(testY)\r\n",
        "\r\n",
        "  testY = scaler.inverse_transform(testY)\r\n",
        "\r\n",
        "  temp_df= pd.DataFrame({'id':df_test2.id[1:], 'yield': predicted[:,0]})\r\n",
        "  global submissions_df\r\n",
        "  submissions_df = submissions_df.append(temp_df)"
      ],
      "execution_count": 82,
      "outputs": []
    },
    {
      "cell_type": "code",
      "metadata": {
        "id": "nnR9o3zpXLxG"
      },
      "source": [
        ""
      ],
      "execution_count": 89,
      "outputs": []
    },
    {
      "cell_type": "code",
      "metadata": {
        "colab": {
          "base_uri": "https://localhost:8080/"
        },
        "id": "CPzZEx6bYd00",
        "outputId": "b82dcf9c-d7e1-4b08-e5d7-6a0f74ce8114"
      },
      "source": [
        "df_test.nunique()"
      ],
      "execution_count": 90,
      "outputs": [
        {
          "output_type": "execute_result",
          "data": {
            "text/plain": [
              "deidentified_location       1\n",
              "temp_obs                   85\n",
              "cloudiness                  6\n",
              "wind_direction             37\n",
              "dew_temp                   94\n",
              "pressure_sea_level        355\n",
              "precipitation              64\n",
              "wind_speed                 36\n",
              "farm_id                     1\n",
              "ingredient_type             1\n",
              "id                       8760\n",
              "farm_area                   1\n",
              "farming_company             1\n",
              "dtype: int64"
            ]
          },
          "metadata": {
            "tags": []
          },
          "execution_count": 90
        }
      ]
    },
    {
      "cell_type": "code",
      "metadata": {
        "id": "guZG-MlhYqlR"
      },
      "source": [
        "df = final_data[final_data.farm_id == 'fid_90053']"
      ],
      "execution_count": 91,
      "outputs": []
    },
    {
      "cell_type": "code",
      "metadata": {
        "colab": {
          "base_uri": "https://localhost:8080/"
        },
        "id": "aVcl8Yx7ZS6N",
        "outputId": "a42e402b-ff5b-4e3e-bb3a-b036b20cb5a2"
      },
      "source": [
        "df.index.nunique()"
      ],
      "execution_count": 93,
      "outputs": [
        {
          "output_type": "execute_result",
          "data": {
            "text/plain": [
              "8784"
            ]
          },
          "metadata": {
            "tags": []
          },
          "execution_count": 93
        }
      ]
    },
    {
      "cell_type": "code",
      "metadata": {
        "colab": {
          "base_uri": "https://localhost:8080/"
        },
        "id": "aJouLvIsZVAE",
        "outputId": "5be6f03b-ff7a-4557-e50e-df777b277e97"
      },
      "source": [
        "366*24"
      ],
      "execution_count": 94,
      "outputs": [
        {
          "output_type": "execute_result",
          "data": {
            "text/plain": [
              "8784"
            ]
          },
          "metadata": {
            "tags": []
          },
          "execution_count": 94
        }
      ]
    },
    {
      "cell_type": "code",
      "metadata": {
        "colab": {
          "base_uri": "https://localhost:8080/"
        },
        "id": "I6fGJ7iLZqNe",
        "outputId": "f26af057-4b1b-4c55-e682-5debb40d269e"
      },
      "source": [
        "365*24"
      ],
      "execution_count": 95,
      "outputs": [
        {
          "output_type": "execute_result",
          "data": {
            "text/plain": [
              "8760"
            ]
          },
          "metadata": {
            "tags": []
          },
          "execution_count": 95
        }
      ]
    },
    {
      "cell_type": "code",
      "metadata": {
        "colab": {
          "base_uri": "https://localhost:8080/",
          "height": 431
        },
        "id": "vEWFJCBtZsPU",
        "outputId": "1d59e400-fead-405d-80fc-1652e8dd88d1"
      },
      "source": [
        "df[df.index.month == 2]"
      ],
      "execution_count": 97,
      "outputs": [
        {
          "output_type": "execute_result",
          "data": {
            "text/html": [
              "<div>\n",
              "<style scoped>\n",
              "    .dataframe tbody tr th:only-of-type {\n",
              "        vertical-align: middle;\n",
              "    }\n",
              "\n",
              "    .dataframe tbody tr th {\n",
              "        vertical-align: top;\n",
              "    }\n",
              "\n",
              "    .dataframe thead th {\n",
              "        text-align: right;\n",
              "    }\n",
              "</style>\n",
              "<table border=\"1\" class=\"dataframe\">\n",
              "  <thead>\n",
              "    <tr style=\"text-align: right;\">\n",
              "      <th></th>\n",
              "      <th>farm_id</th>\n",
              "      <th>ingredient_type</th>\n",
              "      <th>yield</th>\n",
              "      <th>farm_area</th>\n",
              "      <th>farming_company</th>\n",
              "      <th>deidentified_location</th>\n",
              "      <th>dew_temp</th>\n",
              "      <th>pressure_sea_level</th>\n",
              "      <th>precipitation</th>\n",
              "      <th>wind_speed</th>\n",
              "    </tr>\n",
              "    <tr>\n",
              "      <th>timestamp</th>\n",
              "      <th></th>\n",
              "      <th></th>\n",
              "      <th></th>\n",
              "      <th></th>\n",
              "      <th></th>\n",
              "      <th></th>\n",
              "      <th></th>\n",
              "      <th></th>\n",
              "      <th></th>\n",
              "      <th></th>\n",
              "    </tr>\n",
              "  </thead>\n",
              "  <tbody>\n",
              "    <tr>\n",
              "      <th>2016-02-01 00:00:00</th>\n",
              "      <td>fid_90053</td>\n",
              "      <td>ing_w</td>\n",
              "      <td>0.000</td>\n",
              "      <td>252.69616</td>\n",
              "      <td>Obery Farms</td>\n",
              "      <td>location 7369</td>\n",
              "      <td>13.9</td>\n",
              "      <td>1018.5</td>\n",
              "      <td>0.0</td>\n",
              "      <td>0.0</td>\n",
              "    </tr>\n",
              "    <tr>\n",
              "      <th>2016-02-01 01:00:00</th>\n",
              "      <td>fid_90053</td>\n",
              "      <td>ing_w</td>\n",
              "      <td>0.000</td>\n",
              "      <td>252.69616</td>\n",
              "      <td>Obery Farms</td>\n",
              "      <td>location 7369</td>\n",
              "      <td>14.4</td>\n",
              "      <td>1018.1</td>\n",
              "      <td>0.0</td>\n",
              "      <td>2.1</td>\n",
              "    </tr>\n",
              "    <tr>\n",
              "      <th>2016-02-01 02:00:00</th>\n",
              "      <td>fid_90053</td>\n",
              "      <td>ing_w</td>\n",
              "      <td>0.000</td>\n",
              "      <td>252.69616</td>\n",
              "      <td>Obery Farms</td>\n",
              "      <td>location 7369</td>\n",
              "      <td>14.4</td>\n",
              "      <td>1018.4</td>\n",
              "      <td>0.0</td>\n",
              "      <td>3.1</td>\n",
              "    </tr>\n",
              "    <tr>\n",
              "      <th>2016-02-01 03:00:00</th>\n",
              "      <td>fid_90053</td>\n",
              "      <td>ing_w</td>\n",
              "      <td>0.000</td>\n",
              "      <td>252.69616</td>\n",
              "      <td>Obery Farms</td>\n",
              "      <td>location 7369</td>\n",
              "      <td>14.4</td>\n",
              "      <td>1018.5</td>\n",
              "      <td>0.0</td>\n",
              "      <td>1.5</td>\n",
              "    </tr>\n",
              "    <tr>\n",
              "      <th>2016-02-01 04:00:00</th>\n",
              "      <td>fid_90053</td>\n",
              "      <td>ing_w</td>\n",
              "      <td>0.000</td>\n",
              "      <td>252.69616</td>\n",
              "      <td>Obery Farms</td>\n",
              "      <td>location 7369</td>\n",
              "      <td>13.9</td>\n",
              "      <td>1019.1</td>\n",
              "      <td>0.0</td>\n",
              "      <td>0.0</td>\n",
              "    </tr>\n",
              "    <tr>\n",
              "      <th>...</th>\n",
              "      <td>...</td>\n",
              "      <td>...</td>\n",
              "      <td>...</td>\n",
              "      <td>...</td>\n",
              "      <td>...</td>\n",
              "      <td>...</td>\n",
              "      <td>...</td>\n",
              "      <td>...</td>\n",
              "      <td>...</td>\n",
              "      <td>...</td>\n",
              "    </tr>\n",
              "    <tr>\n",
              "      <th>2016-02-29 19:00:00</th>\n",
              "      <td>fid_90053</td>\n",
              "      <td>ing_w</td>\n",
              "      <td>0.000</td>\n",
              "      <td>252.69616</td>\n",
              "      <td>Obery Farms</td>\n",
              "      <td>location 7369</td>\n",
              "      <td>8.3</td>\n",
              "      <td>1020.7</td>\n",
              "      <td>0.0</td>\n",
              "      <td>1.5</td>\n",
              "    </tr>\n",
              "    <tr>\n",
              "      <th>2016-02-29 20:00:00</th>\n",
              "      <td>fid_90053</td>\n",
              "      <td>ing_w</td>\n",
              "      <td>0.000</td>\n",
              "      <td>252.69616</td>\n",
              "      <td>Obery Farms</td>\n",
              "      <td>location 7369</td>\n",
              "      <td>7.8</td>\n",
              "      <td>1019.8</td>\n",
              "      <td>0.0</td>\n",
              "      <td>3.1</td>\n",
              "    </tr>\n",
              "    <tr>\n",
              "      <th>2016-02-29 21:00:00</th>\n",
              "      <td>fid_90053</td>\n",
              "      <td>ing_w</td>\n",
              "      <td>22.388</td>\n",
              "      <td>252.69616</td>\n",
              "      <td>Obery Farms</td>\n",
              "      <td>location 7369</td>\n",
              "      <td>7.8</td>\n",
              "      <td>1019.4</td>\n",
              "      <td>0.0</td>\n",
              "      <td>2.6</td>\n",
              "    </tr>\n",
              "    <tr>\n",
              "      <th>2016-02-29 22:00:00</th>\n",
              "      <td>fid_90053</td>\n",
              "      <td>ing_w</td>\n",
              "      <td>0.000</td>\n",
              "      <td>252.69616</td>\n",
              "      <td>Obery Farms</td>\n",
              "      <td>location 7369</td>\n",
              "      <td>7.2</td>\n",
              "      <td>1019.3</td>\n",
              "      <td>0.0</td>\n",
              "      <td>1.5</td>\n",
              "    </tr>\n",
              "    <tr>\n",
              "      <th>2016-02-29 23:00:00</th>\n",
              "      <td>fid_90053</td>\n",
              "      <td>ing_w</td>\n",
              "      <td>0.000</td>\n",
              "      <td>252.69616</td>\n",
              "      <td>Obery Farms</td>\n",
              "      <td>location 7369</td>\n",
              "      <td>7.8</td>\n",
              "      <td>1019.5</td>\n",
              "      <td>0.0</td>\n",
              "      <td>3.1</td>\n",
              "    </tr>\n",
              "  </tbody>\n",
              "</table>\n",
              "<p>696 rows × 10 columns</p>\n",
              "</div>"
            ],
            "text/plain": [
              "                       farm_id ingredient_type  ...  precipitation  wind_speed\n",
              "timestamp                                       ...                           \n",
              "2016-02-01 00:00:00  fid_90053           ing_w  ...            0.0         0.0\n",
              "2016-02-01 01:00:00  fid_90053           ing_w  ...            0.0         2.1\n",
              "2016-02-01 02:00:00  fid_90053           ing_w  ...            0.0         3.1\n",
              "2016-02-01 03:00:00  fid_90053           ing_w  ...            0.0         1.5\n",
              "2016-02-01 04:00:00  fid_90053           ing_w  ...            0.0         0.0\n",
              "...                        ...             ...  ...            ...         ...\n",
              "2016-02-29 19:00:00  fid_90053           ing_w  ...            0.0         1.5\n",
              "2016-02-29 20:00:00  fid_90053           ing_w  ...            0.0         3.1\n",
              "2016-02-29 21:00:00  fid_90053           ing_w  ...            0.0         2.6\n",
              "2016-02-29 22:00:00  fid_90053           ing_w  ...            0.0         1.5\n",
              "2016-02-29 23:00:00  fid_90053           ing_w  ...            0.0         3.1\n",
              "\n",
              "[696 rows x 10 columns]"
            ]
          },
          "metadata": {
            "tags": []
          },
          "execution_count": 97
        }
      ]
    },
    {
      "cell_type": "code",
      "metadata": {
        "colab": {
          "base_uri": "https://localhost:8080/",
          "height": 431
        },
        "id": "Dq0mTEG8aW3o",
        "outputId": "0c15bf74-c2ff-4711-ec39-65dc6fb87a70"
      },
      "source": [
        "df = df[~((df.index.month==2) & (df.index.day ==29))]"
      ],
      "execution_count": 104,
      "outputs": [
        {
          "output_type": "execute_result",
          "data": {
            "text/html": [
              "<div>\n",
              "<style scoped>\n",
              "    .dataframe tbody tr th:only-of-type {\n",
              "        vertical-align: middle;\n",
              "    }\n",
              "\n",
              "    .dataframe tbody tr th {\n",
              "        vertical-align: top;\n",
              "    }\n",
              "\n",
              "    .dataframe thead th {\n",
              "        text-align: right;\n",
              "    }\n",
              "</style>\n",
              "<table border=\"1\" class=\"dataframe\">\n",
              "  <thead>\n",
              "    <tr style=\"text-align: right;\">\n",
              "      <th></th>\n",
              "      <th>farm_id</th>\n",
              "      <th>ingredient_type</th>\n",
              "      <th>yield</th>\n",
              "      <th>farm_area</th>\n",
              "      <th>farming_company</th>\n",
              "      <th>deidentified_location</th>\n",
              "      <th>dew_temp</th>\n",
              "      <th>pressure_sea_level</th>\n",
              "      <th>precipitation</th>\n",
              "      <th>wind_speed</th>\n",
              "    </tr>\n",
              "    <tr>\n",
              "      <th>timestamp</th>\n",
              "      <th></th>\n",
              "      <th></th>\n",
              "      <th></th>\n",
              "      <th></th>\n",
              "      <th></th>\n",
              "      <th></th>\n",
              "      <th></th>\n",
              "      <th></th>\n",
              "      <th></th>\n",
              "      <th></th>\n",
              "    </tr>\n",
              "  </thead>\n",
              "  <tbody>\n",
              "    <tr>\n",
              "      <th>2016-01-01 00:00:00</th>\n",
              "      <td>fid_90053</td>\n",
              "      <td>ing_w</td>\n",
              "      <td>0.0000</td>\n",
              "      <td>252.69616</td>\n",
              "      <td>Obery Farms</td>\n",
              "      <td>location 7369</td>\n",
              "      <td>20.0</td>\n",
              "      <td>1019.7</td>\n",
              "      <td>0.793987</td>\n",
              "      <td>0.0</td>\n",
              "    </tr>\n",
              "    <tr>\n",
              "      <th>2016-01-01 01:00:00</th>\n",
              "      <td>fid_90053</td>\n",
              "      <td>ing_w</td>\n",
              "      <td>0.0000</td>\n",
              "      <td>252.69616</td>\n",
              "      <td>Obery Farms</td>\n",
              "      <td>location 7369</td>\n",
              "      <td>21.1</td>\n",
              "      <td>1020.2</td>\n",
              "      <td>-1.000000</td>\n",
              "      <td>1.5</td>\n",
              "    </tr>\n",
              "    <tr>\n",
              "      <th>2016-01-01 02:00:00</th>\n",
              "      <td>fid_90053</td>\n",
              "      <td>ing_w</td>\n",
              "      <td>0.0000</td>\n",
              "      <td>252.69616</td>\n",
              "      <td>Obery Farms</td>\n",
              "      <td>location 7369</td>\n",
              "      <td>21.1</td>\n",
              "      <td>1020.2</td>\n",
              "      <td>0.000000</td>\n",
              "      <td>0.0</td>\n",
              "    </tr>\n",
              "    <tr>\n",
              "      <th>2016-01-01 03:00:00</th>\n",
              "      <td>fid_90053</td>\n",
              "      <td>ing_w</td>\n",
              "      <td>0.0000</td>\n",
              "      <td>252.69616</td>\n",
              "      <td>Obery Farms</td>\n",
              "      <td>location 7369</td>\n",
              "      <td>20.6</td>\n",
              "      <td>1020.1</td>\n",
              "      <td>0.000000</td>\n",
              "      <td>0.0</td>\n",
              "    </tr>\n",
              "    <tr>\n",
              "      <th>2016-01-01 04:00:00</th>\n",
              "      <td>fid_90053</td>\n",
              "      <td>ing_w</td>\n",
              "      <td>0.0000</td>\n",
              "      <td>252.69616</td>\n",
              "      <td>Obery Farms</td>\n",
              "      <td>location 7369</td>\n",
              "      <td>20.0</td>\n",
              "      <td>1020.0</td>\n",
              "      <td>-1.000000</td>\n",
              "      <td>2.6</td>\n",
              "    </tr>\n",
              "    <tr>\n",
              "      <th>...</th>\n",
              "      <td>...</td>\n",
              "      <td>...</td>\n",
              "      <td>...</td>\n",
              "      <td>...</td>\n",
              "      <td>...</td>\n",
              "      <td>...</td>\n",
              "      <td>...</td>\n",
              "      <td>...</td>\n",
              "      <td>...</td>\n",
              "      <td>...</td>\n",
              "    </tr>\n",
              "    <tr>\n",
              "      <th>2016-12-31 19:00:00</th>\n",
              "      <td>fid_90053</td>\n",
              "      <td>ing_w</td>\n",
              "      <td>68.2560</td>\n",
              "      <td>252.69616</td>\n",
              "      <td>Obery Farms</td>\n",
              "      <td>location 7369</td>\n",
              "      <td>10.0</td>\n",
              "      <td>1021.7</td>\n",
              "      <td>0.000000</td>\n",
              "      <td>5.7</td>\n",
              "    </tr>\n",
              "    <tr>\n",
              "      <th>2016-12-31 20:00:00</th>\n",
              "      <td>fid_90053</td>\n",
              "      <td>ing_w</td>\n",
              "      <td>52.4206</td>\n",
              "      <td>252.69616</td>\n",
              "      <td>Obery Farms</td>\n",
              "      <td>location 7369</td>\n",
              "      <td>8.9</td>\n",
              "      <td>1021.0</td>\n",
              "      <td>0.000000</td>\n",
              "      <td>4.1</td>\n",
              "    </tr>\n",
              "    <tr>\n",
              "      <th>2016-12-31 21:00:00</th>\n",
              "      <td>fid_90053</td>\n",
              "      <td>ing_w</td>\n",
              "      <td>53.5127</td>\n",
              "      <td>252.69616</td>\n",
              "      <td>Obery Farms</td>\n",
              "      <td>location 7369</td>\n",
              "      <td>10.0</td>\n",
              "      <td>1021.1</td>\n",
              "      <td>0.000000</td>\n",
              "      <td>4.1</td>\n",
              "    </tr>\n",
              "    <tr>\n",
              "      <th>2016-12-31 22:00:00</th>\n",
              "      <td>fid_90053</td>\n",
              "      <td>ing_w</td>\n",
              "      <td>54.3318</td>\n",
              "      <td>252.69616</td>\n",
              "      <td>Obery Farms</td>\n",
              "      <td>location 7369</td>\n",
              "      <td>10.0</td>\n",
              "      <td>1021.1</td>\n",
              "      <td>0.000000</td>\n",
              "      <td>3.1</td>\n",
              "    </tr>\n",
              "    <tr>\n",
              "      <th>2016-12-31 23:00:00</th>\n",
              "      <td>fid_90053</td>\n",
              "      <td>ing_w</td>\n",
              "      <td>51.0555</td>\n",
              "      <td>252.69616</td>\n",
              "      <td>Obery Farms</td>\n",
              "      <td>location 7369</td>\n",
              "      <td>10.0</td>\n",
              "      <td>1021.1</td>\n",
              "      <td>0.000000</td>\n",
              "      <td>0.0</td>\n",
              "    </tr>\n",
              "  </tbody>\n",
              "</table>\n",
              "<p>8760 rows × 10 columns</p>\n",
              "</div>"
            ],
            "text/plain": [
              "                       farm_id ingredient_type  ...  precipitation  wind_speed\n",
              "timestamp                                       ...                           \n",
              "2016-01-01 00:00:00  fid_90053           ing_w  ...       0.793987         0.0\n",
              "2016-01-01 01:00:00  fid_90053           ing_w  ...      -1.000000         1.5\n",
              "2016-01-01 02:00:00  fid_90053           ing_w  ...       0.000000         0.0\n",
              "2016-01-01 03:00:00  fid_90053           ing_w  ...       0.000000         0.0\n",
              "2016-01-01 04:00:00  fid_90053           ing_w  ...      -1.000000         2.6\n",
              "...                        ...             ...  ...            ...         ...\n",
              "2016-12-31 19:00:00  fid_90053           ing_w  ...       0.000000         5.7\n",
              "2016-12-31 20:00:00  fid_90053           ing_w  ...       0.000000         4.1\n",
              "2016-12-31 21:00:00  fid_90053           ing_w  ...       0.000000         4.1\n",
              "2016-12-31 22:00:00  fid_90053           ing_w  ...       0.000000         3.1\n",
              "2016-12-31 23:00:00  fid_90053           ing_w  ...       0.000000         0.0\n",
              "\n",
              "[8760 rows x 10 columns]"
            ]
          },
          "metadata": {
            "tags": []
          },
          "execution_count": 104
        }
      ]
    },
    {
      "cell_type": "code",
      "metadata": {
        "colab": {
          "base_uri": "https://localhost:8080/"
        },
        "id": "2rYhbnQparNA",
        "outputId": "df84a515-31de-4b06-c3a5-01fc66176cdc"
      },
      "source": [
        "df.index.day"
      ],
      "execution_count": 101,
      "outputs": [
        {
          "output_type": "execute_result",
          "data": {
            "text/plain": [
              "Int64Index([ 1,  1,  1,  1,  1,  1,  1,  1,  1,  1,\n",
              "            ...\n",
              "            31, 31, 31, 31, 31, 31, 31, 31, 31, 31],\n",
              "           dtype='int64', name='timestamp', length=8784)"
            ]
          },
          "metadata": {
            "tags": []
          },
          "execution_count": 101
        }
      ]
    },
    {
      "cell_type": "code",
      "metadata": {
        "id": "chn2qTlNbYqM"
      },
      "source": [
        "preprocess_new('fid_90053')"
      ],
      "execution_count": null,
      "outputs": []
    },
    {
      "cell_type": "code",
      "metadata": {
        "id": "ElQpgzA4cAOM"
      },
      "source": [
        "submissions_df = pd.DataFrame(columns=['id','yield'])\r\n",
        "submissions_skip_df = pd.DataFrame(columns=['farm_id'])\r\n",
        "skip_list = []"
      ],
      "execution_count": 67,
      "outputs": []
    },
    {
      "cell_type": "code",
      "metadata": {
        "id": "Qliv4Dcuhmx5"
      },
      "source": [
        "farm_new_list = farm_list[379:]"
      ],
      "execution_count": 81,
      "outputs": []
    },
    {
      "cell_type": "code",
      "metadata": {
        "colab": {
          "base_uri": "https://localhost:8080/"
        },
        "id": "MM3a4EuV7PVA",
        "outputId": "a4715a67-1685-4fcd-eb91-0a72e7ea6ede"
      },
      "source": [
        "len(skip_list)"
      ],
      "execution_count": 84,
      "outputs": [
        {
          "output_type": "execute_result",
          "data": {
            "text/plain": [
              "305"
            ]
          },
          "metadata": {
            "tags": []
          },
          "execution_count": 84
        }
      ]
    },
    {
      "cell_type": "code",
      "metadata": {
        "id": "NI-xKfjE7T6y"
      },
      "source": [
        "skip_list = []"
      ],
      "execution_count": 85,
      "outputs": []
    },
    {
      "cell_type": "code",
      "metadata": {
        "id": "GLTjSsfMsF6R"
      },
      "source": [
        "final_data = final_data[~((final_data.index.month==2) & (final_data.index.day ==29))]"
      ],
      "execution_count": 59,
      "outputs": []
    },
    {
      "cell_type": "code",
      "metadata": {
        "colab": {
          "base_uri": "https://localhost:8080/",
          "height": 404
        },
        "id": "ZlvHjfrda6ec",
        "outputId": "95cc7253-7a13-49f1-8a8b-cf291023dfe8"
      },
      "source": [
        "index = 0\r\n",
        "for farm_id in farm_new_list:\r\n",
        "  index = index + 1\r\n",
        "  print(f\"********Iteration {index}************\")\r\n",
        "  if(final_data[(final_data.farm_id == farm_id)].shape[0] != final_test_data[(final_test_data.farm_id == farm_id)].shape[0]):\r\n",
        "    skip_list.append(farm_id)\r\n",
        "    print(f\"Skipping Model for Farm with {farm_id}\")\r\n",
        "  else:\r\n",
        "   \r\n",
        "    print(f\"Building Model for Farm with {farm_id}\")\r\n",
        "    preprocess_new(farm_id)\r\n",
        "  #print(f\"Done Predicting for Farm with {farm_id}\")"
      ],
      "execution_count": 83,
      "outputs": [
        {
          "output_type": "stream",
          "text": [
            "********Iteration 1************\n",
            "Building Model for Farm with fid_49155\n",
            "(17518, 6)\n"
          ],
          "name": "stdout"
        },
        {
          "output_type": "error",
          "ename": "ValueError",
          "evalue": "ignored",
          "traceback": [
            "\u001b[0;31m---------------------------------------------------------------------------\u001b[0m",
            "\u001b[0;31mValueError\u001b[0m                                Traceback (most recent call last)",
            "\u001b[0;32m<ipython-input-83-7999244e991a>\u001b[0m in \u001b[0;36m<module>\u001b[0;34m()\u001b[0m\n\u001b[1;32m      9\u001b[0m \u001b[0;34m\u001b[0m\u001b[0m\n\u001b[1;32m     10\u001b[0m     \u001b[0mprint\u001b[0m\u001b[0;34m(\u001b[0m\u001b[0;34mf\"Building Model for Farm with {farm_id}\"\u001b[0m\u001b[0;34m)\u001b[0m\u001b[0;34m\u001b[0m\u001b[0;34m\u001b[0m\u001b[0m\n\u001b[0;32m---> 11\u001b[0;31m     \u001b[0mpreprocess_new\u001b[0m\u001b[0;34m(\u001b[0m\u001b[0mfarm_id\u001b[0m\u001b[0;34m)\u001b[0m\u001b[0;34m\u001b[0m\u001b[0;34m\u001b[0m\u001b[0m\n\u001b[0m\u001b[1;32m     12\u001b[0m   \u001b[0;31m#print(f\"Done Predicting for Farm with {farm_id}\")\u001b[0m\u001b[0;34m\u001b[0m\u001b[0;34m\u001b[0m\u001b[0;34m\u001b[0m\u001b[0m\n",
            "\u001b[0;32m<ipython-input-82-4c8267412fa1>\u001b[0m in \u001b[0;36mpreprocess_new\u001b[0;34m(farm_id)\u001b[0m\n\u001b[1;32m     73\u001b[0m   \u001b[0mtestY\u001b[0m \u001b[0;34m=\u001b[0m \u001b[0mscaler\u001b[0m\u001b[0;34m.\u001b[0m\u001b[0minverse_transform\u001b[0m\u001b[0;34m(\u001b[0m\u001b[0mtestY\u001b[0m\u001b[0;34m)\u001b[0m\u001b[0;34m\u001b[0m\u001b[0;34m\u001b[0m\u001b[0m\n\u001b[1;32m     74\u001b[0m \u001b[0;34m\u001b[0m\u001b[0m\n\u001b[0;32m---> 75\u001b[0;31m   \u001b[0mtemp_df\u001b[0m\u001b[0;34m=\u001b[0m \u001b[0mpd\u001b[0m\u001b[0;34m.\u001b[0m\u001b[0mDataFrame\u001b[0m\u001b[0;34m(\u001b[0m\u001b[0;34m{\u001b[0m\u001b[0;34m'id'\u001b[0m\u001b[0;34m:\u001b[0m\u001b[0mdf_test2\u001b[0m\u001b[0;34m.\u001b[0m\u001b[0mid\u001b[0m\u001b[0;34m[\u001b[0m\u001b[0;36m1\u001b[0m\u001b[0;34m:\u001b[0m\u001b[0;34m]\u001b[0m\u001b[0;34m,\u001b[0m \u001b[0;34m'yield'\u001b[0m\u001b[0;34m:\u001b[0m \u001b[0mpredicted\u001b[0m\u001b[0;34m[\u001b[0m\u001b[0;34m:\u001b[0m\u001b[0;34m,\u001b[0m\u001b[0;36m0\u001b[0m\u001b[0;34m]\u001b[0m\u001b[0;34m}\u001b[0m\u001b[0;34m)\u001b[0m\u001b[0;34m\u001b[0m\u001b[0;34m\u001b[0m\u001b[0m\n\u001b[0m\u001b[1;32m     76\u001b[0m   \u001b[0;32mglobal\u001b[0m \u001b[0msubmissions_df\u001b[0m\u001b[0;34m\u001b[0m\u001b[0;34m\u001b[0m\u001b[0m\n\u001b[1;32m     77\u001b[0m   \u001b[0msubmissions_df\u001b[0m \u001b[0;34m=\u001b[0m \u001b[0msubmissions_df\u001b[0m\u001b[0;34m.\u001b[0m\u001b[0mappend\u001b[0m\u001b[0;34m(\u001b[0m\u001b[0mtemp_df\u001b[0m\u001b[0;34m)\u001b[0m\u001b[0;34m\u001b[0m\u001b[0;34m\u001b[0m\u001b[0m\n",
            "\u001b[0;32m/usr/local/lib/python3.6/dist-packages/pandas/core/frame.py\u001b[0m in \u001b[0;36m__init__\u001b[0;34m(self, data, index, columns, dtype, copy)\u001b[0m\n\u001b[1;32m    466\u001b[0m \u001b[0;34m\u001b[0m\u001b[0m\n\u001b[1;32m    467\u001b[0m         \u001b[0;32melif\u001b[0m \u001b[0misinstance\u001b[0m\u001b[0;34m(\u001b[0m\u001b[0mdata\u001b[0m\u001b[0;34m,\u001b[0m \u001b[0mdict\u001b[0m\u001b[0;34m)\u001b[0m\u001b[0;34m:\u001b[0m\u001b[0;34m\u001b[0m\u001b[0;34m\u001b[0m\u001b[0m\n\u001b[0;32m--> 468\u001b[0;31m             \u001b[0mmgr\u001b[0m \u001b[0;34m=\u001b[0m \u001b[0minit_dict\u001b[0m\u001b[0;34m(\u001b[0m\u001b[0mdata\u001b[0m\u001b[0;34m,\u001b[0m \u001b[0mindex\u001b[0m\u001b[0;34m,\u001b[0m \u001b[0mcolumns\u001b[0m\u001b[0;34m,\u001b[0m \u001b[0mdtype\u001b[0m\u001b[0;34m=\u001b[0m\u001b[0mdtype\u001b[0m\u001b[0;34m)\u001b[0m\u001b[0;34m\u001b[0m\u001b[0;34m\u001b[0m\u001b[0m\n\u001b[0m\u001b[1;32m    469\u001b[0m         \u001b[0;32melif\u001b[0m \u001b[0misinstance\u001b[0m\u001b[0;34m(\u001b[0m\u001b[0mdata\u001b[0m\u001b[0;34m,\u001b[0m \u001b[0mma\u001b[0m\u001b[0;34m.\u001b[0m\u001b[0mMaskedArray\u001b[0m\u001b[0;34m)\u001b[0m\u001b[0;34m:\u001b[0m\u001b[0;34m\u001b[0m\u001b[0;34m\u001b[0m\u001b[0m\n\u001b[1;32m    470\u001b[0m             \u001b[0;32mimport\u001b[0m \u001b[0mnumpy\u001b[0m\u001b[0;34m.\u001b[0m\u001b[0mma\u001b[0m\u001b[0;34m.\u001b[0m\u001b[0mmrecords\u001b[0m \u001b[0;32mas\u001b[0m \u001b[0mmrecords\u001b[0m\u001b[0;34m\u001b[0m\u001b[0;34m\u001b[0m\u001b[0m\n",
            "\u001b[0;32m/usr/local/lib/python3.6/dist-packages/pandas/core/internals/construction.py\u001b[0m in \u001b[0;36minit_dict\u001b[0;34m(data, index, columns, dtype)\u001b[0m\n\u001b[1;32m    281\u001b[0m             \u001b[0marr\u001b[0m \u001b[0;32mif\u001b[0m \u001b[0;32mnot\u001b[0m \u001b[0mis_datetime64tz_dtype\u001b[0m\u001b[0;34m(\u001b[0m\u001b[0marr\u001b[0m\u001b[0;34m)\u001b[0m \u001b[0;32melse\u001b[0m \u001b[0marr\u001b[0m\u001b[0;34m.\u001b[0m\u001b[0mcopy\u001b[0m\u001b[0;34m(\u001b[0m\u001b[0;34m)\u001b[0m \u001b[0;32mfor\u001b[0m \u001b[0marr\u001b[0m \u001b[0;32min\u001b[0m \u001b[0marrays\u001b[0m\u001b[0;34m\u001b[0m\u001b[0;34m\u001b[0m\u001b[0m\n\u001b[1;32m    282\u001b[0m         ]\n\u001b[0;32m--> 283\u001b[0;31m     \u001b[0;32mreturn\u001b[0m \u001b[0marrays_to_mgr\u001b[0m\u001b[0;34m(\u001b[0m\u001b[0marrays\u001b[0m\u001b[0;34m,\u001b[0m \u001b[0mdata_names\u001b[0m\u001b[0;34m,\u001b[0m \u001b[0mindex\u001b[0m\u001b[0;34m,\u001b[0m \u001b[0mcolumns\u001b[0m\u001b[0;34m,\u001b[0m \u001b[0mdtype\u001b[0m\u001b[0;34m=\u001b[0m\u001b[0mdtype\u001b[0m\u001b[0;34m)\u001b[0m\u001b[0;34m\u001b[0m\u001b[0;34m\u001b[0m\u001b[0m\n\u001b[0m\u001b[1;32m    284\u001b[0m \u001b[0;34m\u001b[0m\u001b[0m\n\u001b[1;32m    285\u001b[0m \u001b[0;34m\u001b[0m\u001b[0m\n",
            "\u001b[0;32m/usr/local/lib/python3.6/dist-packages/pandas/core/internals/construction.py\u001b[0m in \u001b[0;36marrays_to_mgr\u001b[0;34m(arrays, arr_names, index, columns, dtype, verify_integrity)\u001b[0m\n\u001b[1;32m     76\u001b[0m         \u001b[0;31m# figure out the index, if necessary\u001b[0m\u001b[0;34m\u001b[0m\u001b[0;34m\u001b[0m\u001b[0;34m\u001b[0m\u001b[0m\n\u001b[1;32m     77\u001b[0m         \u001b[0;32mif\u001b[0m \u001b[0mindex\u001b[0m \u001b[0;32mis\u001b[0m \u001b[0;32mNone\u001b[0m\u001b[0;34m:\u001b[0m\u001b[0;34m\u001b[0m\u001b[0;34m\u001b[0m\u001b[0m\n\u001b[0;32m---> 78\u001b[0;31m             \u001b[0mindex\u001b[0m \u001b[0;34m=\u001b[0m \u001b[0mextract_index\u001b[0m\u001b[0;34m(\u001b[0m\u001b[0marrays\u001b[0m\u001b[0;34m)\u001b[0m\u001b[0;34m\u001b[0m\u001b[0;34m\u001b[0m\u001b[0m\n\u001b[0m\u001b[1;32m     79\u001b[0m         \u001b[0;32melse\u001b[0m\u001b[0;34m:\u001b[0m\u001b[0;34m\u001b[0m\u001b[0;34m\u001b[0m\u001b[0m\n\u001b[1;32m     80\u001b[0m             \u001b[0mindex\u001b[0m \u001b[0;34m=\u001b[0m \u001b[0mensure_index\u001b[0m\u001b[0;34m(\u001b[0m\u001b[0mindex\u001b[0m\u001b[0;34m)\u001b[0m\u001b[0;34m\u001b[0m\u001b[0;34m\u001b[0m\u001b[0m\n",
            "\u001b[0;32m/usr/local/lib/python3.6/dist-packages/pandas/core/internals/construction.py\u001b[0m in \u001b[0;36mextract_index\u001b[0;34m(data)\u001b[0m\n\u001b[1;32m    409\u001b[0m                         \u001b[0;34mf\"length {len(index)}\"\u001b[0m\u001b[0;34m\u001b[0m\u001b[0;34m\u001b[0m\u001b[0m\n\u001b[1;32m    410\u001b[0m                     )\n\u001b[0;32m--> 411\u001b[0;31m                     \u001b[0;32mraise\u001b[0m \u001b[0mValueError\u001b[0m\u001b[0;34m(\u001b[0m\u001b[0mmsg\u001b[0m\u001b[0;34m)\u001b[0m\u001b[0;34m\u001b[0m\u001b[0;34m\u001b[0m\u001b[0m\n\u001b[0m\u001b[1;32m    412\u001b[0m             \u001b[0;32melse\u001b[0m\u001b[0;34m:\u001b[0m\u001b[0;34m\u001b[0m\u001b[0;34m\u001b[0m\u001b[0m\n\u001b[1;32m    413\u001b[0m                 \u001b[0mindex\u001b[0m \u001b[0;34m=\u001b[0m \u001b[0mibase\u001b[0m\u001b[0;34m.\u001b[0m\u001b[0mdefault_index\u001b[0m\u001b[0;34m(\u001b[0m\u001b[0mlengths\u001b[0m\u001b[0;34m[\u001b[0m\u001b[0;36m0\u001b[0m\u001b[0;34m]\u001b[0m\u001b[0;34m)\u001b[0m\u001b[0;34m\u001b[0m\u001b[0;34m\u001b[0m\u001b[0m\n",
            "\u001b[0;31mValueError\u001b[0m: array length 11469 does not match index length 8758"
          ]
        }
      ]
    },
    {
      "cell_type": "code",
      "metadata": {
        "colab": {
          "base_uri": "https://localhost:8080/",
          "height": 195
        },
        "id": "BmXh7GxDccRD",
        "outputId": "0fc584d7-dea7-4fae-a4d3-71124fa6fe11"
      },
      "source": [
        "submissions_df.tail()"
      ],
      "execution_count": 126,
      "outputs": [
        {
          "output_type": "execute_result",
          "data": {
            "text/html": [
              "<div>\n",
              "<style scoped>\n",
              "    .dataframe tbody tr th:only-of-type {\n",
              "        vertical-align: middle;\n",
              "    }\n",
              "\n",
              "    .dataframe tbody tr th {\n",
              "        vertical-align: top;\n",
              "    }\n",
              "\n",
              "    .dataframe thead th {\n",
              "        text-align: right;\n",
              "    }\n",
              "</style>\n",
              "<table border=\"1\" class=\"dataframe\">\n",
              "  <thead>\n",
              "    <tr style=\"text-align: right;\">\n",
              "      <th></th>\n",
              "      <th>id</th>\n",
              "      <th>yield</th>\n",
              "    </tr>\n",
              "  </thead>\n",
              "  <tbody>\n",
              "    <tr>\n",
              "      <th>2017-12-31 19:00:00</th>\n",
              "      <td>1129401</td>\n",
              "      <td>24.775681</td>\n",
              "    </tr>\n",
              "    <tr>\n",
              "      <th>2017-12-31 20:00:00</th>\n",
              "      <td>1129530</td>\n",
              "      <td>25.089945</td>\n",
              "    </tr>\n",
              "    <tr>\n",
              "      <th>2017-12-31 21:00:00</th>\n",
              "      <td>1129659</td>\n",
              "      <td>25.024784</td>\n",
              "    </tr>\n",
              "    <tr>\n",
              "      <th>2017-12-31 22:00:00</th>\n",
              "      <td>1129788</td>\n",
              "      <td>25.105211</td>\n",
              "    </tr>\n",
              "    <tr>\n",
              "      <th>2017-12-31 23:00:00</th>\n",
              "      <td>1129917</td>\n",
              "      <td>25.105211</td>\n",
              "    </tr>\n",
              "  </tbody>\n",
              "</table>\n",
              "</div>"
            ],
            "text/plain": [
              "                          id      yield\n",
              "2017-12-31 19:00:00  1129401  24.775681\n",
              "2017-12-31 20:00:00  1129530  25.089945\n",
              "2017-12-31 21:00:00  1129659  25.024784\n",
              "2017-12-31 22:00:00  1129788  25.105211\n",
              "2017-12-31 23:00:00  1129917  25.105211"
            ]
          },
          "metadata": {
            "tags": []
          },
          "execution_count": 126
        }
      ]
    },
    {
      "cell_type": "code",
      "metadata": {
        "id": "lEbAYqH3fCoe"
      },
      "source": [
        "submissions_df.to_csv(\"lstm_predict2.csv\")"
      ],
      "execution_count": 71,
      "outputs": []
    },
    {
      "cell_type": "code",
      "metadata": {
        "colab": {
          "base_uri": "https://localhost:8080/"
        },
        "id": "BpJG9Blrr2Zf",
        "outputId": "2d5fa6f7-4905-4607-88ac-7ca4eeb3e829"
      },
      "source": [
        "len(skip_list)"
      ],
      "execution_count": 70,
      "outputs": [
        {
          "output_type": "execute_result",
          "data": {
            "text/plain": [
              "305"
            ]
          },
          "metadata": {
            "tags": []
          },
          "execution_count": 70
        }
      ]
    },
    {
      "cell_type": "code",
      "metadata": {
        "id": "nMFDmsU-KHu6"
      },
      "source": [
        "def preprocess_new_skip(farm_id):\r\n",
        "  df = final_data[final_data.farm_id == farm_id]\r\n",
        "  #df = df[~((df.index.month==2) & (df.index.day ==29))]\r\n",
        "  df_test = final_test_data[final_test_data.farm_id == farm_id]\r\n",
        "  df_test2 = df_test.copy()\r\n",
        "\r\n",
        "  df_test = df_test[['ingredient_type','dew_temp','pressure_sea_level','precipitation','wind_speed']]\r\n",
        "  df_test['yield'] = 0\r\n",
        "  col = df.pop(\"yield\")\r\n",
        "  df.insert(0, col.name, col)\r\n",
        "  col = df_test.pop(\"yield\")\r\n",
        "  df_test.insert(0, col.name, col)\r\n",
        "  df = df.append(df_test)\r\n",
        "  df.drop(['deidentified_location', 'farming_company','farm_area'], axis=1, inplace=True)\r\n",
        "  df.drop('farm_id', axis=1, inplace=True)\r\n",
        "\r\n",
        "  labelEncoder = LabelEncoder()\r\n",
        "  df['ingredient_type'] = labelEncoder.fit_transform(df['ingredient_type'])\r\n",
        "  values = df.values\r\n",
        "  print(values.shape)\r\n",
        "  values = values.astype('float32')\r\n",
        "\r\n",
        "  reframed = series_to_supervised(values,1,1)\r\n",
        "  # drop columns we don't want to predict\r\n",
        "  reframed.drop(reframed.columns[[7,8,9,10,11]], axis=1, inplace=True)\r\n",
        "\r\n",
        "  scaler = MinMaxScaler(feature_range=(0,1))\r\n",
        "  scaled = scaler.fit_transform(values)\r\n",
        "  reframed = series_to_supervised(scaled,1,1)\r\n",
        "  # drop columns we don't want to predict\r\n",
        "  reframed.drop(reframed.columns[[7,8,9,10,11]], axis=1, inplace=True)\r\n",
        "\r\n",
        "\r\n",
        "  values = reframed.values\r\n",
        "  n_train = 252*24\r\n",
        "  train = values[:n_train]\r\n",
        "  test = values[n_train:]\r\n",
        "\r\n",
        "  trainX,trainY = train[:,:-1],train[:,-1]\r\n",
        "  testX,testY = test[:,:-1],test[:,-1]\r\n",
        "\r\n",
        "\r\n",
        "\r\n",
        "  trainX = trainX.reshape(trainX.shape[0],1,trainX.shape[1])\r\n",
        "  testX = testX.reshape(testX.shape[0],1,testX.shape[1])\r\n",
        "\r\n",
        "  stop_noimprovement = EarlyStopping(patience=10)\r\n",
        "  model = Sequential()\r\n",
        "  model.add(LSTM(50,input_shape=(trainX.shape[1],trainX.shape[2]),dropout=0.2))\r\n",
        "  model.add(Dense(1))\r\n",
        "  model.compile(loss=\"mae\",optimizer=\"adam\")\r\n",
        "\r\n",
        "  history= model.fit(trainX,trainY,validation_data=(testX,testY),epochs=100,verbose=0,callbacks=[stop_noimprovement],shuffle=False)\r\n",
        "\r\n",
        "  predicted = model.predict(testX)\r\n",
        "\r\n",
        "  testXRe = testX.reshape(testX.shape[0],testX.shape[2])\r\n",
        "\r\n",
        "  predicted = np.concatenate((predicted,testXRe[:,1:]),axis=1)\r\n",
        "\r\n",
        "  #scaler = MinMaxScaler(feature_range=(0,1))\r\n",
        "  #scaler.fit(predicted)\r\n",
        "\r\n",
        "  predicted = scaler.inverse_transform(predicted)\r\n",
        "\r\n",
        "  testY = testY.reshape(len(testY),1)\r\n",
        "\r\n",
        "  testY = np.concatenate((testY,testXRe[:,1:]),axis=1)\r\n",
        "\r\n",
        "  #scaler = MinMaxScaler(feature_range=(0,1))\r\n",
        "  #scaler.fit(testY)\r\n",
        "\r\n",
        "  testY = scaler.inverse_transform(testY)\r\n",
        "\r\n",
        "  temp_df= pd.DataFrame({'id':df_test2.id[1:], 'yield': predicted[:,0]})\r\n",
        "  global submissions_df\r\n",
        "  submissions_df = submissions_df.append(temp_df)"
      ],
      "execution_count": 75,
      "outputs": []
    },
    {
      "cell_type": "code",
      "metadata": {
        "id": "sWmUU8UWKykH"
      },
      "source": [
        "skip2_list = []"
      ],
      "execution_count": 76,
      "outputs": []
    },
    {
      "cell_type": "code",
      "metadata": {
        "colab": {
          "base_uri": "https://localhost:8080/"
        },
        "id": "GRgIgYB1KXzp",
        "outputId": "1a7e7b50-52a2-415b-8e33-be09a1acc286"
      },
      "source": [
        "index = 1\r\n",
        "for farm_id in skip_list:\r\n",
        "  print(f\"***********Iteration {index}*********** \")\r\n",
        "  try:\r\n",
        "    index = index + 1\r\n",
        "    print(f\"Building Model for Farm with {farm_id}\")\r\n",
        "    preprocess_new_skip(farm_id)\r\n",
        "  except:\r\n",
        "    skip2_list.append(farm_id)"
      ],
      "execution_count": 77,
      "outputs": [
        {
          "output_type": "stream",
          "text": [
            "***********Iteration 1*********** \n",
            "Building Model for Farm with fid_33785\n",
            "(33532, 6)\n",
            "***********Iteration 2*********** \n",
            "Building Model for Farm with fid_32954\n",
            "(33530, 6)\n",
            "***********Iteration 3*********** \n",
            "Building Model for Farm with fid_43573\n",
            "(33205, 6)\n",
            "***********Iteration 4*********** \n",
            "Building Model for Farm with fid_48575\n",
            "(33534, 6)\n",
            "***********Iteration 5*********** \n",
            "Building Model for Farm with fid_109906\n",
            "(33534, 6)\n",
            "***********Iteration 6*********** \n",
            "Building Model for Farm with fid_102416\n",
            "(32487, 6)\n",
            "***********Iteration 7*********** \n",
            "Building Model for Farm with fid_29482\n",
            "(33534, 6)\n",
            "***********Iteration 8*********** \n",
            "Building Model for Farm with fid_38448\n",
            "(33533, 6)\n",
            "***********Iteration 9*********** \n",
            "Building Model for Farm with fid_80442\n",
            "(17164, 6)\n",
            "***********Iteration 10*********** \n",
            "Building Model for Farm with fid_107841\n",
            "(33521, 6)\n",
            "***********Iteration 11*********** \n",
            "Building Model for Farm with fid_110278\n",
            "(17519, 6)\n",
            "***********Iteration 12*********** \n",
            "Building Model for Farm with fid_12776\n",
            "(17519, 6)\n",
            "***********Iteration 13*********** \n",
            "Building Model for Farm with fid_87168\n",
            "(31412, 6)\n",
            "***********Iteration 14*********** \n",
            "Building Model for Farm with fid_73322\n",
            "(10421, 6)\n",
            "***********Iteration 15*********** \n",
            "Building Model for Farm with fid_57916\n",
            "(33534, 6)\n",
            "***********Iteration 16*********** \n",
            "Building Model for Farm with fid_97363\n",
            "(33533, 6)\n",
            "***********Iteration 17*********** \n",
            "Building Model for Farm with fid_40459\n",
            "(69992, 6)\n",
            "***********Iteration 18*********** \n",
            "Building Model for Farm with fid_13391\n",
            "(33493, 6)\n",
            "***********Iteration 19*********** \n",
            "Building Model for Farm with fid_61180\n",
            "(33534, 6)\n",
            "***********Iteration 20*********** \n",
            "Building Model for Farm with fid_95415\n",
            "(33533, 6)\n",
            "***********Iteration 21*********** \n",
            "Building Model for Farm with fid_94420\n",
            "(33534, 6)\n",
            "***********Iteration 22*********** \n",
            "Building Model for Farm with fid_46792\n",
            "(33533, 6)\n",
            "***********Iteration 23*********** \n",
            "Building Model for Farm with fid_88872\n",
            "(33534, 6)\n",
            "***********Iteration 24*********** \n",
            "Building Model for Farm with fid_81920\n",
            "(33509, 6)\n",
            "***********Iteration 25*********** \n",
            "Building Model for Farm with fid_12588\n",
            "(33198, 6)\n",
            "***********Iteration 26*********** \n",
            "Building Model for Farm with fid_112021\n",
            "(33262, 6)\n",
            "***********Iteration 27*********** \n",
            "Building Model for Farm with fid_60035\n",
            "(31559, 6)\n",
            "***********Iteration 28*********** \n",
            "Building Model for Farm with fid_50961\n",
            "(17519, 6)\n",
            "***********Iteration 29*********** \n",
            "Building Model for Farm with fid_115440\n",
            "(33464, 6)\n",
            "***********Iteration 30*********** \n",
            "Building Model for Farm with fid_31778\n",
            "(28585, 6)\n",
            "***********Iteration 31*********** \n",
            "Building Model for Farm with fid_49187\n",
            "(16107, 6)\n",
            "***********Iteration 32*********** \n",
            "Building Model for Farm with fid_90348\n",
            "(17476, 6)\n",
            "***********Iteration 33*********** \n",
            "Building Model for Farm with fid_121431\n",
            "(17476, 6)\n",
            "***********Iteration 34*********** \n",
            "Building Model for Farm with fid_97487\n",
            "(17476, 6)\n",
            "***********Iteration 35*********** \n",
            "Building Model for Farm with fid_104766\n",
            "(17476, 6)\n",
            "***********Iteration 36*********** \n",
            "Building Model for Farm with fid_34324\n",
            "(17476, 6)\n",
            "***********Iteration 37*********** \n",
            "Building Model for Farm with fid_32920\n",
            "(17476, 6)\n",
            "***********Iteration 38*********** \n",
            "Building Model for Farm with fid_73122\n",
            "(17476, 6)\n",
            "***********Iteration 39*********** \n",
            "Building Model for Farm with fid_15823\n",
            "(17476, 6)\n",
            "***********Iteration 40*********** \n",
            "Building Model for Farm with fid_20229\n",
            "(17476, 6)\n",
            "***********Iteration 41*********** \n",
            "Building Model for Farm with fid_89261\n",
            "(17476, 6)\n",
            "***********Iteration 42*********** \n",
            "Building Model for Farm with fid_79270\n",
            "(17476, 6)\n",
            "***********Iteration 43*********** \n",
            "Building Model for Farm with fid_31823\n",
            "(17476, 6)\n",
            "***********Iteration 44*********** \n",
            "Building Model for Farm with fid_99359\n",
            "(17476, 6)\n",
            "***********Iteration 45*********** \n",
            "Building Model for Farm with fid_76235\n",
            "(17476, 6)\n",
            "***********Iteration 46*********** \n",
            "Building Model for Farm with fid_116054\n",
            "(17476, 6)\n",
            "***********Iteration 47*********** \n",
            "Building Model for Farm with fid_90187\n",
            "(17476, 6)\n",
            "***********Iteration 48*********** \n",
            "Building Model for Farm with fid_12397\n",
            "(17476, 6)\n",
            "***********Iteration 49*********** \n",
            "Building Model for Farm with fid_90291\n",
            "(17476, 6)\n",
            "***********Iteration 50*********** \n",
            "Building Model for Farm with fid_114264\n",
            "(17476, 6)\n",
            "***********Iteration 51*********** \n",
            "Building Model for Farm with fid_54043\n",
            "(17476, 6)\n",
            "***********Iteration 52*********** \n",
            "Building Model for Farm with fid_30220\n",
            "(17476, 6)\n",
            "***********Iteration 53*********** \n",
            "Building Model for Farm with fid_37298\n",
            "(17476, 6)\n",
            "***********Iteration 54*********** \n",
            "Building Model for Farm with fid_59158\n",
            "(97020, 6)\n",
            "***********Iteration 55*********** \n",
            "Building Model for Farm with fid_71910\n",
            "(69904, 6)\n",
            "***********Iteration 56*********** \n",
            "Building Model for Farm with fid_23332\n",
            "(17476, 6)\n",
            "***********Iteration 57*********** \n",
            "Building Model for Farm with fid_41964\n",
            "(17476, 6)\n",
            "***********Iteration 58*********** \n",
            "Building Model for Farm with fid_60232\n",
            "(17476, 6)\n",
            "***********Iteration 59*********** \n",
            "Building Model for Farm with fid_109824\n",
            "(17476, 6)\n",
            "***********Iteration 60*********** \n",
            "Building Model for Farm with fid_22249\n",
            "(17476, 6)\n",
            "***********Iteration 61*********** \n",
            "Building Model for Farm with fid_37333\n",
            "(17476, 6)\n",
            "***********Iteration 62*********** \n",
            "Building Model for Farm with fid_102156\n",
            "(17476, 6)\n",
            "***********Iteration 63*********** \n",
            "Building Model for Farm with fid_33620\n",
            "(17476, 6)\n",
            "***********Iteration 64*********** \n",
            "Building Model for Farm with fid_38756\n",
            "(17476, 6)\n",
            "***********Iteration 65*********** \n",
            "Building Model for Farm with fid_71884\n",
            "(17476, 6)\n",
            "***********Iteration 66*********** \n",
            "Building Model for Farm with fid_34440\n",
            "(17476, 6)\n",
            "***********Iteration 67*********** \n",
            "Building Model for Farm with fid_86911\n",
            "(17476, 6)\n",
            "***********Iteration 68*********** \n",
            "Building Model for Farm with fid_49553\n",
            "(17476, 6)\n",
            "***********Iteration 69*********** \n",
            "Building Model for Farm with fid_13363\n",
            "(17476, 6)\n",
            "***********Iteration 70*********** \n",
            "Building Model for Farm with fid_95812\n",
            "(17476, 6)\n",
            "***********Iteration 71*********** \n",
            "Building Model for Farm with fid_66846\n",
            "(17476, 6)\n",
            "***********Iteration 72*********** \n",
            "Building Model for Farm with fid_54778\n",
            "(17476, 6)\n",
            "***********Iteration 73*********** \n",
            "Building Model for Farm with fid_109206\n",
            "(17476, 6)\n",
            "***********Iteration 74*********** \n",
            "Building Model for Farm with fid_45384\n",
            "(17476, 6)\n",
            "***********Iteration 75*********** \n",
            "Building Model for Farm with fid_45083\n",
            "(17476, 6)\n",
            "***********Iteration 76*********** \n",
            "Building Model for Farm with fid_55183\n",
            "(17476, 6)\n",
            "***********Iteration 77*********** \n",
            "Building Model for Farm with fid_32248\n",
            "(17476, 6)\n",
            "***********Iteration 78*********** \n",
            "Building Model for Farm with fid_77795\n",
            "(17476, 6)\n",
            "***********Iteration 79*********** \n",
            "Building Model for Farm with fid_57039\n",
            "(17476, 6)\n",
            "***********Iteration 80*********** \n",
            "Building Model for Farm with fid_111782\n",
            "(17476, 6)\n",
            "***********Iteration 81*********** \n",
            "Building Model for Farm with fid_73953\n",
            "(17476, 6)\n",
            "***********Iteration 82*********** \n",
            "Building Model for Farm with fid_82661\n",
            "(17476, 6)\n",
            "***********Iteration 83*********** \n",
            "Building Model for Farm with fid_15268\n",
            "(17476, 6)\n",
            "***********Iteration 84*********** \n",
            "Building Model for Farm with fid_95519\n",
            "(17476, 6)\n",
            "***********Iteration 85*********** \n",
            "Building Model for Farm with fid_32697\n",
            "(17476, 6)\n",
            "***********Iteration 86*********** \n",
            "Building Model for Farm with fid_33065\n",
            "(17476, 6)\n",
            "***********Iteration 87*********** \n",
            "Building Model for Farm with fid_15770\n",
            "(17476, 6)\n",
            "***********Iteration 88*********** \n",
            "Building Model for Farm with fid_95371\n",
            "(17476, 6)\n",
            "***********Iteration 89*********** \n",
            "Building Model for Farm with fid_102320\n",
            "(17476, 6)\n",
            "***********Iteration 90*********** \n",
            "Building Model for Farm with fid_21504\n",
            "(17476, 6)\n",
            "***********Iteration 91*********** \n",
            "Building Model for Farm with fid_88621\n",
            "(17476, 6)\n",
            "***********Iteration 92*********** \n",
            "Building Model for Farm with fid_53319\n",
            "(17476, 6)\n",
            "***********Iteration 93*********** \n",
            "Building Model for Farm with fid_107229\n",
            "(17476, 6)\n",
            "***********Iteration 94*********** \n",
            "Building Model for Farm with fid_70617\n",
            "(17476, 6)\n",
            "***********Iteration 95*********** \n",
            "Building Model for Farm with fid_37818\n",
            "(17476, 6)\n",
            "***********Iteration 96*********** \n",
            "Building Model for Farm with fid_30097\n",
            "(17476, 6)\n",
            "***********Iteration 97*********** \n",
            "Building Model for Farm with fid_119887\n",
            "(17476, 6)\n",
            "***********Iteration 98*********** \n",
            "Building Model for Farm with fid_65371\n",
            "(17476, 6)\n",
            "***********Iteration 99*********** \n",
            "Building Model for Farm with fid_101271\n",
            "(17476, 6)\n",
            "***********Iteration 100*********** \n",
            "Building Model for Farm with fid_51790\n",
            "(17476, 6)\n",
            "***********Iteration 101*********** \n",
            "Building Model for Farm with fid_30973\n",
            "(17476, 6)\n",
            "***********Iteration 102*********** \n",
            "Building Model for Farm with fid_72700\n",
            "(17476, 6)\n",
            "***********Iteration 103*********** \n",
            "Building Model for Farm with fid_98025\n",
            "(17476, 6)\n",
            "***********Iteration 104*********** \n",
            "Building Model for Farm with fid_101551\n",
            "(17476, 6)\n",
            "***********Iteration 105*********** \n",
            "Building Model for Farm with fid_64922\n",
            "(17476, 6)\n",
            "***********Iteration 106*********** \n",
            "Building Model for Farm with fid_122564\n",
            "(17476, 6)\n",
            "***********Iteration 107*********** \n",
            "Building Model for Farm with fid_70340\n",
            "(17476, 6)\n",
            "***********Iteration 108*********** \n",
            "Building Model for Farm with fid_75245\n",
            "(17476, 6)\n",
            "***********Iteration 109*********** \n",
            "Building Model for Farm with fid_25477\n",
            "(17476, 6)\n",
            "***********Iteration 110*********** \n",
            "Building Model for Farm with fid_33405\n",
            "(17476, 6)\n",
            "***********Iteration 111*********** \n",
            "Building Model for Farm with fid_19705\n",
            "(17476, 6)\n",
            "***********Iteration 112*********** \n",
            "Building Model for Farm with fid_90721\n",
            "(17476, 6)\n",
            "***********Iteration 113*********** \n",
            "Building Model for Farm with fid_99136\n",
            "(17476, 6)\n",
            "***********Iteration 114*********** \n",
            "Building Model for Farm with fid_111424\n",
            "(17476, 6)\n",
            "***********Iteration 115*********** \n",
            "Building Model for Farm with fid_57647\n",
            "(17476, 6)\n",
            "***********Iteration 116*********** \n",
            "Building Model for Farm with fid_66906\n",
            "(17476, 6)\n",
            "***********Iteration 117*********** \n",
            "Building Model for Farm with fid_26227\n",
            "(17476, 6)\n",
            "***********Iteration 118*********** \n",
            "Building Model for Farm with fid_53568\n",
            "(17476, 6)\n",
            "***********Iteration 119*********** \n",
            "Building Model for Farm with fid_26026\n",
            "(17492, 6)\n",
            "***********Iteration 120*********** \n",
            "Building Model for Farm with fid_87942\n",
            "(34980, 6)\n",
            "***********Iteration 121*********** \n",
            "Building Model for Farm with fid_120636\n",
            "(17492, 6)\n",
            "***********Iteration 122*********** \n",
            "Building Model for Farm with fid_64441\n",
            "(17492, 6)\n",
            "***********Iteration 123*********** \n",
            "Building Model for Farm with fid_66870\n",
            "(34984, 6)\n",
            "***********Iteration 124*********** \n",
            "Building Model for Farm with fid_45574\n",
            "(17492, 6)\n",
            "***********Iteration 125*********** \n",
            "Building Model for Farm with fid_41581\n",
            "(17492, 6)\n",
            "***********Iteration 126*********** \n",
            "Building Model for Farm with fid_66062\n",
            "(34979, 6)\n",
            "***********Iteration 127*********** \n",
            "Building Model for Farm with fid_75323\n",
            "(34980, 6)\n",
            "***********Iteration 128*********** \n",
            "Building Model for Farm with fid_75397\n",
            "(34984, 6)\n",
            "***********Iteration 129*********** \n",
            "Building Model for Farm with fid_81940\n",
            "(17492, 6)\n",
            "***********Iteration 130*********** \n",
            "Building Model for Farm with fid_43214\n",
            "(17492, 6)\n",
            "***********Iteration 131*********** \n",
            "Building Model for Farm with fid_45828\n",
            "(34984, 6)\n",
            "***********Iteration 132*********** \n",
            "Building Model for Farm with fid_100672\n",
            "(17492, 6)\n",
            "***********Iteration 133*********** \n",
            "Building Model for Farm with fid_84102\n",
            "(34984, 6)\n",
            "***********Iteration 134*********** \n",
            "Building Model for Farm with fid_113409\n",
            "(17492, 6)\n",
            "***********Iteration 135*********** \n",
            "Building Model for Farm with fid_66692\n",
            "(34970, 6)\n",
            "***********Iteration 136*********** \n",
            "Building Model for Farm with fid_118149\n",
            "(17492, 6)\n",
            "***********Iteration 137*********** \n",
            "Building Model for Farm with fid_78948\n",
            "(17492, 6)\n",
            "***********Iteration 138*********** \n",
            "Building Model for Farm with fid_90701\n",
            "(17492, 6)\n",
            "***********Iteration 139*********** \n",
            "Building Model for Farm with fid_101975\n",
            "(17492, 6)\n",
            "***********Iteration 140*********** \n",
            "Building Model for Farm with fid_22109\n",
            "(17492, 6)\n",
            "***********Iteration 141*********** \n",
            "Building Model for Farm with fid_25504\n",
            "(17492, 6)\n",
            "***********Iteration 142*********** \n",
            "Building Model for Farm with fid_55104\n",
            "(17492, 6)\n",
            "***********Iteration 143*********** \n",
            "Building Model for Farm with fid_81766\n",
            "(17492, 6)\n",
            "***********Iteration 144*********** \n",
            "Building Model for Farm with fid_91133\n",
            "(17492, 6)\n",
            "***********Iteration 145*********** \n",
            "Building Model for Farm with fid_117362\n",
            "(17492, 6)\n",
            "***********Iteration 146*********** \n",
            "Building Model for Farm with fid_89897\n",
            "(17492, 6)\n",
            "***********Iteration 147*********** \n",
            "Building Model for Farm with fid_118325\n",
            "(17492, 6)\n",
            "***********Iteration 148*********** \n",
            "Building Model for Farm with fid_92427\n",
            "(17492, 6)\n",
            "***********Iteration 149*********** \n",
            "Building Model for Farm with fid_94361\n",
            "(17492, 6)\n",
            "***********Iteration 150*********** \n",
            "Building Model for Farm with fid_78150\n",
            "(17492, 6)\n",
            "***********Iteration 151*********** \n",
            "Building Model for Farm with fid_23619\n",
            "(17492, 6)\n",
            "***********Iteration 152*********** \n",
            "Building Model for Farm with fid_35152\n",
            "(34980, 6)\n",
            "***********Iteration 153*********** \n",
            "Building Model for Farm with fid_94133\n",
            "(34983, 6)\n",
            "***********Iteration 154*********** \n",
            "Building Model for Farm with fid_76682\n",
            "(17492, 6)\n",
            "***********Iteration 155*********** \n",
            "Building Model for Farm with fid_71616\n",
            "(17492, 6)\n",
            "***********Iteration 156*********** \n",
            "Building Model for Farm with fid_104195\n",
            "(17492, 6)\n",
            "***********Iteration 157*********** \n",
            "Building Model for Farm with fid_93717\n",
            "(17492, 6)\n",
            "***********Iteration 158*********** \n",
            "Building Model for Farm with fid_121305\n",
            "(34983, 6)\n",
            "***********Iteration 159*********** \n",
            "Building Model for Farm with fid_64709\n",
            "(34984, 6)\n",
            "***********Iteration 160*********** \n",
            "Building Model for Farm with fid_60666\n",
            "(17492, 6)\n",
            "***********Iteration 161*********** \n",
            "Building Model for Farm with fid_103063\n",
            "(17492, 6)\n",
            "***********Iteration 162*********** \n",
            "Building Model for Farm with fid_118389\n",
            "(17492, 6)\n",
            "***********Iteration 163*********** \n",
            "Building Model for Farm with fid_61649\n",
            "(17492, 6)\n",
            "***********Iteration 164*********** \n",
            "Building Model for Farm with fid_97675\n",
            "(17492, 6)\n",
            "***********Iteration 165*********** \n",
            "Building Model for Farm with fid_17324\n",
            "(17492, 6)\n",
            "***********Iteration 166*********** \n",
            "Building Model for Farm with fid_107418\n",
            "(17490, 6)\n",
            "***********Iteration 167*********** \n",
            "Building Model for Farm with fid_14523\n",
            "(17492, 6)\n",
            "***********Iteration 168*********** \n",
            "Building Model for Farm with fid_120597\n",
            "(17492, 6)\n",
            "***********Iteration 169*********** \n",
            "Building Model for Farm with fid_59291\n",
            "(17492, 6)\n",
            "***********Iteration 170*********** \n",
            "Building Model for Farm with fid_106819\n",
            "(17518, 6)\n",
            "***********Iteration 171*********** \n",
            "Building Model for Farm with fid_118511\n",
            "(17518, 6)\n",
            "***********Iteration 172*********** \n",
            "Building Model for Farm with fid_100249\n",
            "(17518, 6)\n",
            "***********Iteration 173*********** \n",
            "Building Model for Farm with fid_27170\n",
            "(17508, 6)\n",
            "***********Iteration 174*********** \n",
            "Building Model for Farm with fid_120715\n",
            "(17345, 6)\n",
            "***********Iteration 175*********** \n",
            "Building Model for Farm with fid_64015\n",
            "(35036, 6)\n",
            "***********Iteration 176*********** \n",
            "Building Model for Farm with fid_60155\n",
            "(35035, 6)\n",
            "***********Iteration 177*********** \n",
            "Building Model for Farm with fid_94240\n",
            "(52554, 6)\n",
            "***********Iteration 178*********** \n",
            "Building Model for Farm with fid_55529\n",
            "(17472, 6)\n",
            "***********Iteration 179*********** \n",
            "Building Model for Farm with fid_19528\n",
            "(17479, 6)\n",
            "***********Iteration 180*********** \n",
            "Building Model for Farm with fid_27582\n",
            "(52554, 6)\n",
            "***********Iteration 181*********** \n",
            "Building Model for Farm with fid_91594\n",
            "(52554, 6)\n",
            "***********Iteration 182*********** \n",
            "Building Model for Farm with fid_39139\n",
            "(52537, 6)\n",
            "***********Iteration 183*********** \n",
            "Building Model for Farm with fid_77901\n",
            "(52504, 6)\n",
            "***********Iteration 184*********** \n",
            "Building Model for Farm with fid_101039\n",
            "(35036, 6)\n",
            "***********Iteration 185*********** \n",
            "Building Model for Farm with fid_96233\n",
            "(52555, 6)\n",
            "***********Iteration 186*********** \n",
            "Building Model for Farm with fid_35151\n",
            "(35036, 6)\n",
            "***********Iteration 187*********** \n",
            "Building Model for Farm with fid_84510\n",
            "(35032, 6)\n",
            "***********Iteration 188*********** \n",
            "Building Model for Farm with fid_14378\n",
            "(35032, 6)\n",
            "***********Iteration 189*********** \n",
            "Building Model for Farm with fid_34542\n",
            "(52554, 6)\n",
            "***********Iteration 190*********** \n",
            "Building Model for Farm with fid_46989\n",
            "(52554, 6)\n",
            "***********Iteration 191*********** \n",
            "Building Model for Farm with fid_80963\n",
            "(52548, 6)\n",
            "***********Iteration 192*********** \n",
            "Building Model for Farm with fid_68761\n",
            "(170824, 6)\n",
            "***********Iteration 193*********** \n",
            "Building Model for Farm with fid_94448\n",
            "(52548, 6)\n",
            "***********Iteration 194*********** \n",
            "Building Model for Farm with fid_117110\n",
            "(35032, 6)\n",
            "***********Iteration 195*********** \n",
            "Building Model for Farm with fid_53010\n",
            "(35030, 6)\n",
            "***********Iteration 196*********** \n",
            "Building Model for Farm with fid_119246\n",
            "(17138, 6)\n",
            "***********Iteration 197*********** \n",
            "Building Model for Farm with fid_48416\n",
            "(52548, 6)\n",
            "***********Iteration 198*********** \n",
            "Building Model for Farm with fid_45618\n",
            "(17509, 6)\n",
            "***********Iteration 199*********** \n",
            "Building Model for Farm with fid_20492\n",
            "(17516, 6)\n",
            "***********Iteration 200*********** \n",
            "Building Model for Farm with fid_99410\n",
            "(52548, 6)\n",
            "***********Iteration 201*********** \n",
            "Building Model for Farm with fid_50119\n",
            "(35032, 6)\n",
            "***********Iteration 202*********** \n",
            "Building Model for Farm with fid_14534\n",
            "(35030, 6)\n",
            "***********Iteration 203*********** \n",
            "Building Model for Farm with fid_56589\n",
            "(52548, 6)\n",
            "***********Iteration 204*********** \n",
            "Building Model for Farm with fid_85677\n",
            "(52548, 6)\n",
            "***********Iteration 205*********** \n",
            "Building Model for Farm with fid_103268\n",
            "(52356, 6)\n",
            "***********Iteration 206*********** \n",
            "Building Model for Farm with fid_81599\n",
            "(17516, 6)\n",
            "***********Iteration 207*********** \n",
            "Building Model for Farm with fid_14086\n",
            "(35032, 6)\n",
            "***********Iteration 208*********** \n",
            "Building Model for Farm with fid_45809\n",
            "(52548, 6)\n",
            "***********Iteration 209*********** \n",
            "Building Model for Farm with fid_14324\n",
            "(17516, 6)\n",
            "***********Iteration 210*********** \n",
            "Building Model for Farm with fid_60360\n",
            "(35032, 6)\n",
            "***********Iteration 211*********** \n",
            "Building Model for Farm with fid_99921\n",
            "(35032, 6)\n",
            "***********Iteration 212*********** \n",
            "Building Model for Farm with fid_91188\n",
            "(17516, 6)\n",
            "***********Iteration 213*********** \n",
            "Building Model for Farm with fid_44226\n",
            "(52548, 6)\n",
            "***********Iteration 214*********** \n",
            "Building Model for Farm with fid_20987\n",
            "(52548, 6)\n",
            "***********Iteration 215*********** \n",
            "Building Model for Farm with fid_26880\n",
            "(52101, 6)\n",
            "***********Iteration 216*********** \n",
            "Building Model for Farm with fid_40814\n",
            "(52459, 6)\n",
            "***********Iteration 217*********** \n",
            "Building Model for Farm with fid_68990\n",
            "(35032, 6)\n",
            "***********Iteration 218*********** \n",
            "Building Model for Farm with fid_63965\n",
            "(35032, 6)\n",
            "***********Iteration 219*********** \n",
            "Building Model for Farm with fid_31537\n",
            "(52549, 6)\n",
            "***********Iteration 220*********** \n",
            "Building Model for Farm with fid_84046\n",
            "(35032, 6)\n",
            "***********Iteration 221*********** \n",
            "Building Model for Farm with fid_73057\n",
            "(35015, 6)\n",
            "***********Iteration 222*********** \n",
            "Building Model for Farm with fid_123014\n",
            "(52513, 6)\n",
            "***********Iteration 223*********** \n",
            "Building Model for Farm with fid_112916\n",
            "(52548, 6)\n",
            "***********Iteration 224*********** \n",
            "Building Model for Farm with fid_64234\n",
            "(17516, 6)\n",
            "***********Iteration 225*********** \n",
            "Building Model for Farm with fid_104874\n",
            "(52537, 6)\n",
            "***********Iteration 226*********** \n",
            "Building Model for Farm with fid_66920\n",
            "(52548, 6)\n",
            "***********Iteration 227*********** \n",
            "Building Model for Farm with fid_46598\n",
            "(35032, 6)\n",
            "***********Iteration 228*********** \n",
            "Building Model for Farm with fid_83463\n",
            "(52451, 6)\n",
            "***********Iteration 229*********** \n",
            "Building Model for Farm with fid_99942\n",
            "(52552, 6)\n",
            "***********Iteration 230*********** \n",
            "Building Model for Farm with fid_57301\n",
            "(52551, 6)\n",
            "***********Iteration 231*********** \n",
            "Building Model for Farm with fid_50467\n",
            "(17517, 6)\n",
            "***********Iteration 232*********** \n",
            "Building Model for Farm with fid_28262\n",
            "(35027, 6)\n",
            "***********Iteration 233*********** \n",
            "Building Model for Farm with fid_33276\n",
            "(52553, 6)\n",
            "***********Iteration 234*********** \n",
            "Building Model for Farm with fid_105851\n",
            "(52551, 6)\n",
            "***********Iteration 235*********** \n",
            "Building Model for Farm with fid_93191\n",
            "(35018, 6)\n",
            "***********Iteration 236*********** \n",
            "Building Model for Farm with fid_122215\n",
            "(17517, 6)\n",
            "***********Iteration 237*********** \n",
            "Building Model for Farm with fid_76217\n",
            "(52551, 6)\n",
            "***********Iteration 238*********** \n",
            "Building Model for Farm with fid_16854\n",
            "(52429, 6)\n",
            "***********Iteration 239*********** \n",
            "Building Model for Farm with fid_41080\n",
            "(52551, 6)\n",
            "***********Iteration 240*********** \n",
            "Building Model for Farm with fid_29572\n",
            "(17517, 6)\n",
            "***********Iteration 241*********** \n",
            "Building Model for Farm with fid_25582\n",
            "(52551, 6)\n",
            "***********Iteration 242*********** \n",
            "Building Model for Farm with fid_76310\n",
            "(35034, 6)\n",
            "***********Iteration 243*********** \n",
            "Building Model for Farm with fid_41562\n",
            "(17517, 6)\n",
            "***********Iteration 244*********** \n",
            "Building Model for Farm with fid_23227\n",
            "(35034, 6)\n",
            "***********Iteration 245*********** \n",
            "Building Model for Farm with fid_67085\n",
            "(35034, 6)\n",
            "***********Iteration 246*********** \n",
            "Building Model for Farm with fid_83049\n",
            "(35027, 6)\n",
            "***********Iteration 247*********** \n",
            "Building Model for Farm with fid_61295\n",
            "(52551, 6)\n",
            "***********Iteration 248*********** \n",
            "Building Model for Farm with fid_101721\n",
            "(35034, 6)\n",
            "***********Iteration 249*********** \n",
            "Building Model for Farm with fid_86326\n",
            "(52551, 6)\n",
            "***********Iteration 250*********** \n",
            "Building Model for Farm with fid_43120\n",
            "(35034, 6)\n",
            "***********Iteration 251*********** \n",
            "Building Model for Farm with fid_60171\n",
            "(35034, 6)\n",
            "***********Iteration 252*********** \n",
            "Building Model for Farm with fid_62549\n",
            "(52551, 6)\n",
            "***********Iteration 253*********** \n",
            "Building Model for Farm with fid_90391\n",
            "(52551, 6)\n",
            "***********Iteration 254*********** \n",
            "Building Model for Farm with fid_36227\n",
            "(17517, 6)\n",
            "***********Iteration 255*********** \n",
            "Building Model for Farm with fid_60505\n",
            "(17517, 6)\n",
            "***********Iteration 256*********** \n",
            "Building Model for Farm with fid_40513\n",
            "(17517, 6)\n",
            "***********Iteration 257*********** \n",
            "Building Model for Farm with fid_18061\n",
            "(52551, 6)\n",
            "***********Iteration 258*********** \n",
            "Building Model for Farm with fid_41579\n",
            "(34921, 6)\n",
            "***********Iteration 259*********** \n",
            "Building Model for Farm with fid_94856\n",
            "(52551, 6)\n",
            "***********Iteration 260*********** \n",
            "Building Model for Farm with fid_117986\n",
            "(52550, 6)\n",
            "***********Iteration 261*********** \n",
            "Building Model for Farm with fid_69285\n",
            "(52551, 6)\n",
            "***********Iteration 262*********** \n",
            "Building Model for Farm with fid_50444\n",
            "(52550, 6)\n",
            "***********Iteration 263*********** \n",
            "Building Model for Farm with fid_71761\n",
            "(52551, 6)\n",
            "***********Iteration 264*********** \n",
            "Building Model for Farm with fid_87210\n",
            "(17480, 6)\n",
            "***********Iteration 265*********** \n",
            "Building Model for Farm with fid_105507\n",
            "(35025, 6)\n",
            "***********Iteration 266*********** \n",
            "Building Model for Farm with fid_35661\n",
            "(52551, 6)\n",
            "***********Iteration 267*********** \n",
            "Building Model for Farm with fid_79973\n",
            "(52554, 6)\n",
            "***********Iteration 268*********** \n",
            "Building Model for Farm with fid_87368\n",
            "(52554, 6)\n",
            "***********Iteration 269*********** \n",
            "Building Model for Farm with fid_79575\n",
            "(35031, 6)\n",
            "***********Iteration 270*********** \n",
            "Building Model for Farm with fid_119316\n",
            "(35036, 6)\n",
            "***********Iteration 271*********** \n",
            "Building Model for Farm with fid_39879\n",
            "(35036, 6)\n",
            "***********Iteration 272*********** \n",
            "Building Model for Farm with fid_42540\n",
            "(34976, 6)\n",
            "***********Iteration 273*********** \n",
            "Building Model for Farm with fid_102220\n",
            "(52554, 6)\n",
            "***********Iteration 274*********** \n",
            "Building Model for Farm with fid_121555\n",
            "(17518, 6)\n",
            "***********Iteration 275*********** \n",
            "Building Model for Farm with fid_104740\n",
            "(17518, 6)\n",
            "***********Iteration 276*********** \n",
            "Building Model for Farm with fid_53696\n",
            "(52554, 6)\n",
            "***********Iteration 277*********** \n",
            "Building Model for Farm with fid_92956\n",
            "(52554, 6)\n",
            "***********Iteration 278*********** \n",
            "Building Model for Farm with fid_95143\n",
            "(35036, 6)\n",
            "***********Iteration 279*********** \n",
            "Building Model for Farm with fid_55797\n",
            "(17518, 6)\n",
            "***********Iteration 280*********** \n",
            "Building Model for Farm with fid_32556\n",
            "(35015, 6)\n",
            "***********Iteration 281*********** \n",
            "Building Model for Farm with fid_65693\n",
            "(35036, 6)\n",
            "***********Iteration 282*********** \n",
            "Building Model for Farm with fid_105245\n",
            "(17518, 6)\n",
            "***********Iteration 283*********** \n",
            "Building Model for Farm with fid_38745\n",
            "(31615, 6)\n",
            "***********Iteration 284*********** \n",
            "Building Model for Farm with fid_18380\n",
            "(35036, 6)\n",
            "***********Iteration 285*********** \n",
            "Building Model for Farm with fid_80380\n",
            "(17519, 6)\n",
            "***********Iteration 286*********** \n",
            "Building Model for Farm with fid_109393\n",
            "(35036, 6)\n",
            "***********Iteration 287*********** \n",
            "Building Model for Farm with fid_57100\n",
            "(17518, 6)\n",
            "***********Iteration 288*********** \n",
            "Building Model for Farm with fid_104734\n",
            "(17518, 6)\n",
            "***********Iteration 289*********** \n",
            "Building Model for Farm with fid_75999\n",
            "(17518, 6)\n",
            "***********Iteration 290*********** \n",
            "Building Model for Farm with fid_58088\n",
            "(35036, 6)\n",
            "***********Iteration 291*********** \n",
            "Building Model for Farm with fid_85280\n",
            "(17518, 6)\n",
            "***********Iteration 292*********** \n",
            "Building Model for Farm with fid_25534\n",
            "(52554, 6)\n",
            "***********Iteration 293*********** \n",
            "Building Model for Farm with fid_39048\n",
            "(17516, 6)\n",
            "***********Iteration 294*********** \n",
            "Building Model for Farm with fid_28586\n",
            "(35036, 6)\n",
            "***********Iteration 295*********** \n",
            "Building Model for Farm with fid_103568\n",
            "(34947, 6)\n",
            "***********Iteration 296*********** \n",
            "Building Model for Farm with fid_55769\n",
            "(17518, 6)\n",
            "***********Iteration 297*********** \n",
            "Building Model for Farm with fid_107259\n",
            "(52554, 6)\n",
            "***********Iteration 298*********** \n",
            "Building Model for Farm with fid_24337\n",
            "(35036, 6)\n",
            "***********Iteration 299*********** \n",
            "Building Model for Farm with fid_38683\n",
            "(35036, 6)\n",
            "***********Iteration 300*********** \n",
            "Building Model for Farm with fid_73431\n",
            "(140142, 6)\n",
            "***********Iteration 301*********** \n",
            "Building Model for Farm with fid_74109\n",
            "(17518, 6)\n",
            "***********Iteration 302*********** \n",
            "Building Model for Farm with fid_68473\n",
            "(17518, 6)\n",
            "***********Iteration 303*********** \n",
            "Building Model for Farm with fid_27893\n",
            "(35036, 6)\n",
            "***********Iteration 304*********** \n",
            "Building Model for Farm with fid_26064\n",
            "(140080, 6)\n",
            "***********Iteration 305*********** \n",
            "Building Model for Farm with fid_53126\n",
            "(105102, 6)\n"
          ],
          "name": "stdout"
        }
      ]
    },
    {
      "cell_type": "code",
      "metadata": {
        "id": "QfWQk1i1K_FK"
      },
      "source": [
        "submissions_df.to_csv(\"lstm_predict3.csv\")"
      ],
      "execution_count": 79,
      "outputs": []
    },
    {
      "cell_type": "code",
      "metadata": {
        "colab": {
          "base_uri": "https://localhost:8080/",
          "height": 162
        },
        "id": "fzPcc-uGikJT",
        "outputId": "300f99c9-2ccb-4eb9-936a-61551b91e284"
      },
      "source": [
        "submissions_df"
      ],
      "execution_count": 2,
      "outputs": [
        {
          "output_type": "error",
          "ename": "NameError",
          "evalue": "ignored",
          "traceback": [
            "\u001b[0;31m---------------------------------------------------------------------------\u001b[0m",
            "\u001b[0;31mNameError\u001b[0m                                 Traceback (most recent call last)",
            "\u001b[0;32m<ipython-input-2-6f0e181eb9b0>\u001b[0m in \u001b[0;36m<module>\u001b[0;34m()\u001b[0m\n\u001b[0;32m----> 1\u001b[0;31m \u001b[0msubmissions_df\u001b[0m\u001b[0;34m\u001b[0m\u001b[0;34m\u001b[0m\u001b[0m\n\u001b[0m",
            "\u001b[0;31mNameError\u001b[0m: name 'submissions_df' is not defined"
          ]
        }
      ]
    },
    {
      "cell_type": "code",
      "metadata": {
        "colab": {
          "base_uri": "https://localhost:8080/"
        },
        "id": "ocgttXYVizZ4",
        "outputId": "9fd739e7-cda0-4d5f-e369-44e262455654"
      },
      "source": [
        "submissions_df.shape"
      ],
      "execution_count": 80,
      "outputs": [
        {
          "output_type": "execute_result",
          "data": {
            "text/plain": [
              "(648166, 2)"
            ]
          },
          "metadata": {
            "tags": []
          },
          "execution_count": 80
        }
      ]
    },
    {
      "cell_type": "code",
      "metadata": {
        "id": "spCdB-zt5onf"
      },
      "source": [
        ""
      ],
      "execution_count": null,
      "outputs": []
    }
  ]
}